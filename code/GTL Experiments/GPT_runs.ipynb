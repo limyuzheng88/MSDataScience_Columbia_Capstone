{
 "cells": [
  {
   "cell_type": "code",
   "execution_count": 10,
   "metadata": {
    "colab": {
     "base_uri": "https://localhost:8080/"
    },
    "id": "Xfe0zLXy-ECH",
    "outputId": "fe443c7a-468e-45f4-a8b0-a63be56c3e99"
   },
   "outputs": [],
   "source": [
    "import pandas as pd\n",
    "from transformers import AutoModelForCausalLM, AutoTokenizer\n",
    "from sklearn.metrics import accuracy_score, precision_score, recall_score, f1_score\n",
    "import numpy as np\n",
    "import random\n",
    "from typing import Dict, List, Tuple\n",
    "import time\n",
    "import concurrent.futures\n",
    "from functools import partial\n",
    "import openai\n",
    "from tqdm import tqdm\n",
    "import json"
   ]
  },
  {
   "cell_type": "code",
   "execution_count": null,
   "metadata": {},
   "outputs": [],
   "source": [
    "def generate_feature_label_descriptions(data_dict_df):\n",
    "    '''\n",
    "    Using the Data Dictionary, generate feature\n",
    "    descriptions and label descriptions\n",
    "    '''\n",
    "    feature_descriptions = \"--- feature description ---\\n\"\n",
    "    label_descriptions = \"--- label description ---\\n\"\n",
    "\n",
    "    # Process all rows except the last one as feature descriptions\n",
    "    for _, row in data_dict_df.iloc[:-1].iterrows():\n",
    "        feature_name = row['Feature']\n",
    "        description = row['Feature Description']\n",
    "        feature_descriptions += f\"{feature_name}: {description}\\n\"\n",
    "\n",
    "    # Treat the last row as the label description\n",
    "    label_row = data_dict_df.iloc[-1]\n",
    "    label_name = label_row['Feature']\n",
    "    label_description = label_row['Feature Description']\n",
    "    label_descriptions += f\"{label_name}: {label_description}\\n\"\n",
    "\n",
    "    return feature_descriptions + label_descriptions\n",
    "\n",
    "def initial_prompt_generator(feature_description, target, feature_list, prompt_template):\n",
    "    '''\n",
    "    Uses the target and data dictionary to generate an initial prompt\n",
    "    '''\n",
    "    if prompt_template == 't-table':\n",
    "        first_part = f\"\"\"You are an expert in the financial sector and banking industry.\n",
    "Based on the credit information of individuals, please predict the {target}.\n",
    "I will supply multiple instances with features and the corresponding label for your reference.\n",
    "Please refer to the table below for detailed descriptions of the features and label:\\n\"\"\"\n",
    "\n",
    "        assert feature_list[-1] == target, \"Last feature in feature list should be the target\"\n",
    "        description_prompt = generate_feature_label_descriptions(feature_description[feature_description[\"Feature\"].isin(feature_list)])\n",
    "        prompt = first_part + description_prompt + \"--- data ---\\n\"\n",
    "    else:\n",
    "        prompt = \"\"\"\n",
    "The following is a table with features in the first few columns and the label in the last column.\n",
    "I will supply multiple instances with features and the corresponding label for your reference.\n",
    "\"\"\"\n",
    "    return prompt\n",
    "\n",
    "def data_to_prompt_generator(training_set, test_data, table_format='t-table'):\n",
    "    if table_format == \"t-table\":\n",
    "        if training_set is not None:\n",
    "            in_context_data = \"\\n\".join([f\"|{'|'.join(map(str, row))}|\" for _, row in training_set.iterrows()])\n",
    "            in_context_examples = \"|\" + \"|\".join(test_data.columns) + in_context_data\n",
    "        else:\n",
    "            in_context_examples = \"|\" + \"|\".join(test_data.columns) + \"|\"\n",
    "    elif table_format == \"t-anony\":\n",
    "        if training_set is not None:\n",
    "            in_context_examples = \"\\n\".join([f\"|{'|'.join(map(str, row))}|\" for _, row in training_set.iterrows()])\n",
    "        else:\n",
    "            raise ValueError(\"Please check the table_format arg provided as it does not exist\")\n",
    "\n",
    "    return in_context_examples\n",
    "\n",
    "def get_single_prediction(row_data, client, PROMPT_TO_USE, target, table_format, max_tokens=50):\n",
    "    \"\"\"Helper function to get prediction for a single row\"\"\"\n",
    "    index, row = row_data  # Correct unpacking to get index and row\n",
    "    # Check if row is a Series\n",
    "    if isinstance(row, pd.Series):\n",
    "        row_values = row.tolist()\n",
    "    else:\n",
    "        raise ValueError(\"Expected row to be a pandas Series\")\n",
    "\n",
    "    # Mask the label in the test row\n",
    "    row_values[-1] = \"<MASK>\"\n",
    "    masked_test_row = f\"|{'|'.join(map(str, row_values))}|\"\n",
    "\n",
    "    # Combine prompt with the masked test row\n",
    "    full_prompt = PROMPT_TO_USE + \"\\n\" + masked_test_row + \"\\n\"\n",
    "    full_prompt += f\"\\nPlease use the supplied data to predict the <MASK> {target}. Only respond with 0 or 1.\\nAnswer: \" if table_format == \"t-table\" else \"\\nPlease use the supplied data to predict the <MASK> label. Only respond with 0 or 1.\\nAnswer: \"\n",
    "\n",
    "    answer = row[-1]  # Store the ground truth label\n",
    "\n",
    "    try:\n",
    "        response = client.chat.completions.create(\n",
    "            model=\"gpt-4o-mini\",\n",
    "            messages=[\n",
    "                {\"role\": \"system\", \"content\": \"You are a helpful assistant that predicts loan approval outcomes. Only respond with 0 or 1.\"},\n",
    "                {\"role\": \"user\", \"content\": full_prompt}\n",
    "            ],\n",
    "            max_tokens=max_tokens,\n",
    "            temperature=0\n",
    "        )\n",
    "        \n",
    "        generated_answer = response.choices[0].message.content.strip()\n",
    "\n",
    "        if generated_answer in ['0', '1']:\n",
    "            return int(generated_answer), answer\n",
    "        else:\n",
    "            return \"invalid\", answer\n",
    "\n",
    "    except Exception as e:\n",
    "        print(f\"Error generating prediction: {e}\")\n",
    "        return \"invalid\", answer\n",
    "        \n",
    "def get_predictions(client, test_data, target, PROMPT_TO_USE, table_format, max_tokens=50, show_template=False, max_workers=4):\n",
    "    \"\"\"Modified to use parallel processing\"\"\"\n",
    "    if show_template:\n",
    "        # Show template for first row only\n",
    "        first_row = next(test_data.iterrows())\n",
    "        row_values = first_row[1].tolist()\n",
    "        row_values[-1] = \"<MASK>\"\n",
    "        masked_test_row = f\"|{'|'.join(map(str, row_values))}|\"\n",
    "        full_prompt = PROMPT_TO_USE + \"\\n\" + masked_test_row + \"\\n\"\n",
    "        print(\"Prompt template:\", full_prompt)\n",
    "        print(\"Answer template:\", first_row[1][-1])\n",
    "\n",
    "    # Create partial function with fixed arguments\n",
    "    get_prediction_partial = partial(\n",
    "        get_single_prediction,\n",
    "        client=client,\n",
    "        PROMPT_TO_USE=PROMPT_TO_USE,\n",
    "        target=target,\n",
    "        table_format=table_format,\n",
    "        max_tokens=max_tokens\n",
    "    )\n",
    "\n",
    "    y_pred = []\n",
    "    y_true = []\n",
    "    non_numeric_count = 0\n",
    "\n",
    "    #  ThreadPoolExecutor for parallel processing\n",
    "    with concurrent.futures.ThreadPoolExecutor(max_workers=max_workers) as executor:\n",
    "        #  all rows for processing\n",
    "        future_to_row = {executor.submit(get_prediction_partial, row_data): row_data \n",
    "                        for row_data in test_data.iterrows()}  # pass the entire row_data tuple\n",
    "        \n",
    "        # process results as they complete\n",
    "        for future in tqdm(concurrent.futures.as_completed(future_to_row), total=len(future_to_row), desc=\"Processing predictions\"):\n",
    "            prediction, true_value = future.result()\n",
    "            y_pred.append(prediction)\n",
    "            y_true.append(true_value)\n",
    "            \n",
    "            if prediction == \"invalid\":\n",
    "                non_numeric_count += 1\n",
    "            \n",
    "            if non_numeric_count > 15:\n",
    "                break\n",
    "\n",
    "    print(\"Num of non-numeric or invalid:\", non_numeric_count)\n",
    "    return y_pred, y_true\n",
    "\n",
    "def evaluate_in_context_performance(y_pred, y_true):\n",
    "    filtered_y_true = [yt for yt, yp in zip(y_true, y_pred) if isinstance(yp, int)]\n",
    "    filtered_y_pred = [yp for yp in y_pred if isinstance(yp, int)]\n",
    "\n",
    "    y_true = np.array(filtered_y_true)\n",
    "    y_pred = np.array(filtered_y_pred)\n",
    "    \n",
    "    accuracy = accuracy_score(y_true, y_pred)\n",
    "    precision = precision_score(y_true, y_pred, zero_division=1)\n",
    "    recall = recall_score(y_true, y_pred, zero_division=1)\n",
    "    f1 = f1_score(y_true, y_pred, zero_division=1)\n",
    "\n",
    "    results = {\n",
    "        \"Accuracy\": accuracy,\n",
    "        \"Precision\": precision,\n",
    "        \"Recall\": recall,\n",
    "        \"F1 Score\": f1\n",
    "    }\n",
    "\n",
    "    return results\n",
    "\n",
    "def create_in_context_example_sets(df, sample_size, num_sets, target_column, proportions):\n",
    "    example_sets = {}\n",
    "    set_counter = 1\n",
    "\n",
    "    for prop_1 in proportions:\n",
    "        num_rows_class_1 = int(sample_size * prop_1)\n",
    "        num_rows_class_0 = sample_size - num_rows_class_1\n",
    "\n",
    "        for _ in range(num_sets):\n",
    "            class_1_rows = df[df[target_column] == 1].sample(n=num_rows_class_1, random_state=random.randint(0, 1000))\n",
    "            class_0_rows = df[df[target_column] == 0].sample(n=num_rows_class_0, random_state=random.randint(0, 1000))\n",
    "\n",
    "            sampled_df = pd.concat([class_1_rows, class_0_rows]).sample(frac=1, random_state=random.randint(0, 1000)).reset_index(drop=True)\n",
    "            example_sets[f\"Set_{set_counter}_Prop_{prop_1}\"] = sampled_df\n",
    "            set_counter += 1\n",
    "\n",
    "    return example_sets\n",
    "\n",
    "def select_top_features(feature_importance_df, top_n):\n",
    "    return feature_importance_df.nlargest(top_n, 'Importance')['Feature'].tolist()\n",
    "\n",
    "def run_experiments(feature_importance_df, test_data, client, training_set_df, sample_size, proportions, \n",
    "                   num_sets=30, feature_set_sizes=[5, 10, 20, 30, 40], run_multiple=True, table_format=\"t-table\"):\n",
    "    results = []\n",
    "    stored_in_context_sets = {}\n",
    "\n",
    "    for top_n in feature_set_sizes:\n",
    "        top_features = select_top_features(feature_importance_df, top_n)\n",
    "        training_set_df_subset = training_set_df[top_features + ['Approved_Flag']]\n",
    "        test_data_subset = test_data[top_features + ['Approved_Flag']]\n",
    "        feature_list_for_prompt = test_data_subset.columns.to_list()\n",
    "        \n",
    "        print(f\"\\nStarting experiments for top {top_n} features...\")\n",
    "\n",
    "        intial_prompt_without_data = initial_prompt_generator(\n",
    "            feature_description,\n",
    "            \"Approved_Flag\",\n",
    "            feature_list_for_prompt,\n",
    "            table_format\n",
    "        )\n",
    "\n",
    "        for prop_1 in proportions:\n",
    "            print(f\"\\nTesting with class 1 proportion: {prop_1}\")\n",
    "            in_context_sets = create_in_context_example_sets(\n",
    "                training_set_df_subset, \n",
    "                sample_size, \n",
    "                num_sets, \n",
    "                'Approved_Flag', \n",
    "                [prop_1]\n",
    "            )\n",
    "\n",
    "            for set_id, in_context_examples in in_context_sets.items():\n",
    "                unique_id = f\"Features_{top_n}_Prop_{prop_1}_Set_{set_id}\"\n",
    "                stored_in_context_sets[unique_id] = in_context_examples\n",
    "                print(f\"\\nEvaluating Set ID: {set_id}\")\n",
    "\n",
    "                times = 4 if run_multiple else 2\n",
    "\n",
    "                for run_num in range(1, times):\n",
    "                    data_prompt = data_to_prompt_generator(in_context_examples, test_data_subset, table_format)\n",
    "                    PROMPT_TO_USE = intial_prompt_without_data + data_prompt\n",
    "\n",
    "                    y_pred, y_true = get_predictions(\n",
    "                        client,\n",
    "                        test_data_subset,\n",
    "                        'Approved_Flag',\n",
    "                        PROMPT_TO_USE,\n",
    "                        table_format,\n",
    "                        show_template=False\n",
    "                    )\n",
    "\n",
    "                    results_dict = evaluate_in_context_performance(y_pred, y_true)\n",
    "\n",
    "                    run_results = {\n",
    "                        \"Num Features\": top_n,\n",
    "                        \"Sample Size\": sample_size,\n",
    "                        \"Class 1 Proportion\": prop_1,\n",
    "                        \"Set ID\": set_id,\n",
    "                        \"Run Number\": run_num,\n",
    "                        \"Accuracy\": results_dict[\"Accuracy\"],\n",
    "                        \"Precision\": results_dict[\"Precision\"],\n",
    "                        \"Recall\": results_dict[\"Recall\"],\n",
    "                        \"F1 Score\": results_dict[\"F1 Score\"],\n",
    "                        \"Prediction\": y_pred\n",
    "                    }\n",
    "                    results.append(run_results)\n",
    "                    print(f\"Intermediate results for Run {run_num}: {run_results}\")\n",
    "\n",
    "    results_df = pd.DataFrame(results)\n",
    "    print(\"\\nAll experiments completed.\")\n",
    "    return results_df, stored_in_context_sets"
   ]
  },
  {
   "cell_type": "code",
   "execution_count": 6,
   "metadata": {},
   "outputs": [],
   "source": [
    "# Load feature description data globally since it's used in multiple functions\n",
    "FILE_PATH = 'Indian_bank_data/'\n",
    "feature_description = pd.read_csv(FILE_PATH+'Capstone - Data Dictionary - Sheet1.csv')\n",
    "\n",
    "# Load your data\n",
    "feature_imp_ohe = pd.read_csv(FILE_PATH+'rf_importances.csv')\n",
    "feature_imp_label = pd.read_csv(FILE_PATH+'rf_importances_label.csv')\n",
    "feature_description = pd.read_csv(FILE_PATH+'Capstone - Data Dictionary - Sheet1.csv')\n",
    "\n",
    "train_ohe = pd.read_csv(FILE_PATH+'train_tree.csv')\n",
    "train_ohe = train_ohe[~train_ohe[\"Approved_Flag\"].isna()]\n",
    "\n",
    "test_ohe = pd.read_csv(FILE_PATH+'test_tree.csv')\n",
    "test_ohe = test_ohe[~test_ohe[\"Approved_Flag\"].isna()]\n",
    "\n",
    "test_ohe_100 = test_ohe.sample(n=100, random_state=42)"
   ]
  },
  {
   "cell_type": "code",
   "execution_count": 4,
   "metadata": {},
   "outputs": [
    {
     "name": "stderr",
     "output_type": "stream",
     "text": [
      "/tmp/ipykernel_6833/3130949446.py:86: FutureWarning: Series.__getitem__ treating keys as positions is deprecated. In a future version, integer keys will always be treated as labels (consistent with DataFrame behavior). To access a value by position, use `ser.iloc[pos]`\n",
      "  answer = row[-1]  # Store the ground truth label\n"
     ]
    },
    {
     "name": "stdout",
     "output_type": "stream",
     "text": [
      "\n",
      "Starting experiments for top 5 features...\n",
      "\n",
      "Testing with class 1 proportion: 0.1\n",
      "\n",
      "Evaluating Set ID: Set_1_Prop_0.1\n"
     ]
    },
    {
     "name": "stderr",
     "output_type": "stream",
     "text": [
      "Processing predictions: 100%|██████████| 100/100 [00:08<00:00, 11.74it/s]\n",
      "/tmp/ipykernel_6833/3130949446.py:86: FutureWarning: Series.__getitem__ treating keys as positions is deprecated. In a future version, integer keys will always be treated as labels (consistent with DataFrame behavior). To access a value by position, use `ser.iloc[pos]`\n",
      "  answer = row[-1]  # Store the ground truth label\n"
     ]
    },
    {
     "name": "stdout",
     "output_type": "stream",
     "text": [
      "Num of non-numeric or invalid: 0\n",
      "Intermediate results for Run 1: {'Num Features': 5, 'Sample Size': 16, 'Class 1 Proportion': 0.1, 'Set ID': 'Set_1_Prop_0.1', 'Run Number': 1, 'Accuracy': 0.72, 'Precision': 0.2413793103448276, 'Recall': 0.5384615384615384, 'F1 Score': 0.3333333333333333, 'Prediction': [0, 1, 0, 0, 1, 0, 0, 0, 1, 0, 0, 1, 0, 0, 0, 1, 0, 0, 0, 0, 0, 0, 1, 0, 0, 0, 0, 1, 1, 0, 0, 0, 0, 1, 0, 0, 0, 1, 1, 0, 0, 0, 0, 0, 1, 1, 0, 0, 0, 0, 0, 1, 1, 0, 1, 1, 0, 0, 0, 0, 0, 0, 0, 0, 0, 0, 0, 0, 1, 1, 1, 0, 0, 1, 1, 0, 1, 0, 0, 1, 0, 1, 0, 0, 0, 1, 1, 0, 0, 1, 0, 0, 0, 0, 0, 0, 1, 0, 0, 0]}\n",
      "\n",
      "Evaluating Set ID: Set_2_Prop_0.1\n"
     ]
    },
    {
     "name": "stderr",
     "output_type": "stream",
     "text": [
      "Processing predictions: 100%|██████████| 100/100 [00:07<00:00, 12.90it/s]\n",
      "/tmp/ipykernel_6833/3130949446.py:86: FutureWarning: Series.__getitem__ treating keys as positions is deprecated. In a future version, integer keys will always be treated as labels (consistent with DataFrame behavior). To access a value by position, use `ser.iloc[pos]`\n",
      "  answer = row[-1]  # Store the ground truth label\n"
     ]
    },
    {
     "name": "stdout",
     "output_type": "stream",
     "text": [
      "Num of non-numeric or invalid: 0\n",
      "Intermediate results for Run 1: {'Num Features': 5, 'Sample Size': 16, 'Class 1 Proportion': 0.1, 'Set ID': 'Set_2_Prop_0.1', 'Run Number': 1, 'Accuracy': 0.78, 'Precision': 0.15384615384615385, 'Recall': 0.15384615384615385, 'F1 Score': 0.15384615384615385, 'Prediction': [0, 0, 0, 0, 1, 0, 0, 0, 1, 0, 0, 0, 0, 0, 0, 0, 1, 0, 0, 0, 0, 1, 0, 0, 0, 0, 0, 0, 0, 0, 0, 0, 1, 0, 0, 0, 0, 0, 0, 0, 0, 0, 0, 0, 1, 0, 0, 0, 0, 0, 0, 0, 1, 0, 0, 0, 0, 0, 0, 0, 0, 0, 0, 0, 0, 0, 0, 0, 0, 0, 1, 0, 1, 0, 1, 1, 0, 0, 0, 0, 0, 0, 0, 0, 0, 0, 0, 1, 0, 0, 0, 0, 0, 0, 0, 0, 1, 0, 0, 0]}\n",
      "\n",
      "Evaluating Set ID: Set_3_Prop_0.1\n"
     ]
    },
    {
     "name": "stderr",
     "output_type": "stream",
     "text": [
      "Processing predictions: 100%|██████████| 100/100 [00:13<00:00,  7.53it/s]\n",
      "/tmp/ipykernel_6833/3130949446.py:86: FutureWarning: Series.__getitem__ treating keys as positions is deprecated. In a future version, integer keys will always be treated as labels (consistent with DataFrame behavior). To access a value by position, use `ser.iloc[pos]`\n",
      "  answer = row[-1]  # Store the ground truth label\n"
     ]
    },
    {
     "name": "stdout",
     "output_type": "stream",
     "text": [
      "Num of non-numeric or invalid: 0\n",
      "Intermediate results for Run 1: {'Num Features': 5, 'Sample Size': 16, 'Class 1 Proportion': 0.1, 'Set ID': 'Set_3_Prop_0.1', 'Run Number': 1, 'Accuracy': 0.64, 'Precision': 0.20512820512820512, 'Recall': 0.6153846153846154, 'F1 Score': 0.3076923076923077, 'Prediction': [1, 0, 0, 1, 1, 0, 0, 1, 1, 0, 0, 1, 0, 0, 0, 0, 0, 1, 0, 0, 0, 0, 0, 1, 0, 0, 0, 1, 0, 0, 1, 0, 0, 1, 0, 0, 1, 0, 1, 0, 0, 1, 0, 0, 1, 1, 1, 0, 0, 0, 0, 1, 1, 1, 1, 0, 0, 1, 0, 0, 0, 1, 0, 1, 0, 0, 0, 1, 0, 0, 1, 1, 0, 1, 1, 0, 1, 0, 1, 0, 0, 1, 1, 1, 1, 0, 1, 0, 1, 0, 0, 1, 0, 0, 0, 1, 0, 0, 0, 0]}\n",
      "\n",
      "Evaluating Set ID: Set_4_Prop_0.1\n"
     ]
    },
    {
     "name": "stderr",
     "output_type": "stream",
     "text": [
      "Processing predictions: 100%|██████████| 100/100 [00:08<00:00, 11.79it/s]\n",
      "/tmp/ipykernel_6833/3130949446.py:86: FutureWarning: Series.__getitem__ treating keys as positions is deprecated. In a future version, integer keys will always be treated as labels (consistent with DataFrame behavior). To access a value by position, use `ser.iloc[pos]`\n",
      "  answer = row[-1]  # Store the ground truth label\n"
     ]
    },
    {
     "name": "stdout",
     "output_type": "stream",
     "text": [
      "Num of non-numeric or invalid: 0\n",
      "Intermediate results for Run 1: {'Num Features': 5, 'Sample Size': 16, 'Class 1 Proportion': 0.1, 'Set ID': 'Set_4_Prop_0.1', 'Run Number': 1, 'Accuracy': 0.83, 'Precision': 0.3, 'Recall': 0.23076923076923078, 'F1 Score': 0.2608695652173913, 'Prediction': [0, 0, 0, 0, 0, 0, 0, 0, 0, 0, 0, 0, 0, 0, 0, 0, 0, 0, 0, 0, 0, 0, 0, 0, 0, 0, 0, 1, 1, 0, 0, 0, 0, 1, 0, 0, 1, 0, 0, 0, 0, 0, 0, 0, 0, 0, 0, 0, 0, 0, 0, 0, 1, 1, 0, 0, 0, 0, 0, 0, 0, 0, 0, 0, 0, 0, 0, 0, 1, 0, 0, 1, 0, 0, 0, 0, 0, 0, 0, 0, 0, 0, 1, 0, 0, 0, 0, 1, 0, 0, 0, 0, 0, 0, 0, 0, 0, 0, 0, 0]}\n",
      "\n",
      "Evaluating Set ID: Set_5_Prop_0.1\n"
     ]
    },
    {
     "name": "stderr",
     "output_type": "stream",
     "text": [
      "Processing predictions: 100%|██████████| 100/100 [00:09<00:00, 10.19it/s]\n",
      "/tmp/ipykernel_6833/3130949446.py:86: FutureWarning: Series.__getitem__ treating keys as positions is deprecated. In a future version, integer keys will always be treated as labels (consistent with DataFrame behavior). To access a value by position, use `ser.iloc[pos]`\n",
      "  answer = row[-1]  # Store the ground truth label\n"
     ]
    },
    {
     "name": "stdout",
     "output_type": "stream",
     "text": [
      "Num of non-numeric or invalid: 0\n",
      "Intermediate results for Run 1: {'Num Features': 5, 'Sample Size': 16, 'Class 1 Proportion': 0.1, 'Set ID': 'Set_5_Prop_0.1', 'Run Number': 1, 'Accuracy': 0.88, 'Precision': 1.0, 'Recall': 0.07692307692307693, 'F1 Score': 0.14285714285714285, 'Prediction': [0, 0, 0, 0, 0, 0, 0, 0, 0, 0, 0, 0, 0, 0, 0, 0, 0, 0, 0, 0, 0, 0, 0, 0, 0, 0, 0, 0, 0, 0, 0, 0, 0, 0, 0, 0, 0, 0, 0, 0, 0, 0, 0, 0, 0, 0, 0, 0, 0, 0, 0, 0, 0, 0, 0, 0, 0, 0, 0, 0, 0, 0, 0, 0, 0, 0, 0, 0, 0, 1, 0, 0, 0, 0, 0, 0, 0, 0, 0, 0, 0, 0, 0, 0, 0, 0, 0, 0, 0, 0, 0, 0, 0, 0, 0, 0, 0, 0, 0, 0]}\n",
      "\n",
      "Evaluating Set ID: Set_6_Prop_0.1\n"
     ]
    },
    {
     "name": "stderr",
     "output_type": "stream",
     "text": [
      "Processing predictions: 100%|██████████| 100/100 [00:08<00:00, 11.23it/s]\n",
      "/tmp/ipykernel_6833/3130949446.py:86: FutureWarning: Series.__getitem__ treating keys as positions is deprecated. In a future version, integer keys will always be treated as labels (consistent with DataFrame behavior). To access a value by position, use `ser.iloc[pos]`\n",
      "  answer = row[-1]  # Store the ground truth label\n"
     ]
    },
    {
     "name": "stdout",
     "output_type": "stream",
     "text": [
      "Num of non-numeric or invalid: 0\n",
      "Intermediate results for Run 1: {'Num Features': 5, 'Sample Size': 16, 'Class 1 Proportion': 0.1, 'Set ID': 'Set_6_Prop_0.1', 'Run Number': 1, 'Accuracy': 0.85, 'Precision': 0.25, 'Recall': 0.07692307692307693, 'F1 Score': 0.11764705882352941, 'Prediction': [0, 0, 0, 0, 0, 0, 0, 0, 0, 0, 0, 0, 0, 0, 0, 0, 0, 0, 0, 0, 0, 0, 0, 0, 0, 0, 0, 0, 0, 0, 0, 0, 0, 0, 0, 0, 0, 0, 0, 0, 0, 0, 0, 1, 0, 0, 0, 0, 0, 0, 0, 1, 0, 0, 0, 0, 0, 0, 0, 0, 0, 0, 0, 0, 0, 0, 0, 0, 0, 0, 0, 0, 0, 1, 0, 0, 0, 0, 0, 0, 1, 0, 0, 0, 0, 0, 0, 0, 0, 0, 0, 0, 0, 0, 0, 0, 0, 0, 0, 0]}\n",
      "\n",
      "Evaluating Set ID: Set_7_Prop_0.1\n"
     ]
    },
    {
     "name": "stderr",
     "output_type": "stream",
     "text": [
      "Processing predictions: 100%|██████████| 100/100 [00:08<00:00, 11.48it/s]\n",
      "/tmp/ipykernel_6833/3130949446.py:86: FutureWarning: Series.__getitem__ treating keys as positions is deprecated. In a future version, integer keys will always be treated as labels (consistent with DataFrame behavior). To access a value by position, use `ser.iloc[pos]`\n",
      "  answer = row[-1]  # Store the ground truth label\n"
     ]
    },
    {
     "name": "stdout",
     "output_type": "stream",
     "text": [
      "Num of non-numeric or invalid: 0\n",
      "Intermediate results for Run 1: {'Num Features': 5, 'Sample Size': 16, 'Class 1 Proportion': 0.1, 'Set ID': 'Set_7_Prop_0.1', 'Run Number': 1, 'Accuracy': 0.86, 'Precision': 0.0, 'Recall': 0.0, 'F1 Score': 0.0, 'Prediction': [0, 0, 0, 0, 0, 0, 0, 0, 0, 0, 0, 0, 0, 0, 0, 0, 0, 0, 0, 0, 0, 0, 0, 0, 0, 0, 0, 0, 0, 0, 0, 0, 0, 0, 0, 0, 0, 0, 0, 0, 0, 0, 0, 0, 0, 0, 0, 0, 0, 0, 0, 0, 0, 0, 0, 0, 0, 1, 0, 0, 0, 0, 0, 0, 0, 0, 0, 0, 0, 0, 0, 0, 0, 0, 0, 0, 0, 0, 0, 0, 0, 0, 0, 0, 0, 0, 0, 0, 0, 0, 0, 0, 0, 0, 0, 0, 0, 0, 0, 0]}\n",
      "\n",
      "Evaluating Set ID: Set_8_Prop_0.1\n"
     ]
    },
    {
     "name": "stderr",
     "output_type": "stream",
     "text": [
      "Processing predictions: 100%|██████████| 100/100 [00:08<00:00, 11.96it/s]\n",
      "/tmp/ipykernel_6833/3130949446.py:86: FutureWarning: Series.__getitem__ treating keys as positions is deprecated. In a future version, integer keys will always be treated as labels (consistent with DataFrame behavior). To access a value by position, use `ser.iloc[pos]`\n",
      "  answer = row[-1]  # Store the ground truth label\n"
     ]
    },
    {
     "name": "stdout",
     "output_type": "stream",
     "text": [
      "Num of non-numeric or invalid: 0\n",
      "Intermediate results for Run 1: {'Num Features': 5, 'Sample Size': 16, 'Class 1 Proportion': 0.1, 'Set ID': 'Set_8_Prop_0.1', 'Run Number': 1, 'Accuracy': 0.81, 'Precision': 0.2857142857142857, 'Recall': 0.3076923076923077, 'F1 Score': 0.2962962962962963, 'Prediction': [0, 1, 0, 0, 0, 0, 0, 0, 0, 1, 0, 1, 0, 0, 0, 0, 1, 0, 0, 0, 0, 0, 0, 0, 0, 0, 0, 0, 0, 0, 0, 0, 0, 1, 0, 0, 0, 0, 0, 0, 0, 0, 0, 0, 0, 0, 1, 0, 0, 0, 0, 0, 1, 1, 0, 0, 0, 0, 0, 0, 0, 0, 0, 0, 0, 0, 0, 0, 0, 1, 0, 1, 0, 0, 0, 1, 0, 1, 0, 0, 0, 0, 0, 0, 0, 1, 1, 0, 0, 0, 0, 0, 0, 0, 0, 0, 0, 0, 0, 0]}\n",
      "\n",
      "Evaluating Set ID: Set_9_Prop_0.1\n"
     ]
    },
    {
     "name": "stderr",
     "output_type": "stream",
     "text": [
      "Processing predictions: 100%|██████████| 100/100 [00:08<00:00, 11.84it/s]\n",
      "/tmp/ipykernel_6833/3130949446.py:86: FutureWarning: Series.__getitem__ treating keys as positions is deprecated. In a future version, integer keys will always be treated as labels (consistent with DataFrame behavior). To access a value by position, use `ser.iloc[pos]`\n",
      "  answer = row[-1]  # Store the ground truth label\n"
     ]
    },
    {
     "name": "stdout",
     "output_type": "stream",
     "text": [
      "Num of non-numeric or invalid: 0\n",
      "Intermediate results for Run 1: {'Num Features': 5, 'Sample Size': 16, 'Class 1 Proportion': 0.1, 'Set ID': 'Set_9_Prop_0.1', 'Run Number': 1, 'Accuracy': 0.78, 'Precision': 0.2, 'Recall': 0.23076923076923078, 'F1 Score': 0.21428571428571427, 'Prediction': [0, 1, 0, 0, 0, 0, 0, 0, 0, 1, 0, 0, 0, 0, 0, 0, 0, 1, 0, 0, 0, 0, 0, 0, 0, 0, 0, 1, 1, 0, 0, 0, 0, 0, 0, 0, 0, 0, 1, 0, 0, 0, 0, 0, 1, 0, 0, 1, 0, 0, 0, 0, 1, 1, 1, 0, 1, 0, 0, 0, 0, 0, 0, 0, 0, 0, 0, 0, 0, 0, 0, 0, 1, 0, 0, 0, 0, 1, 0, 0, 0, 0, 0, 0, 0, 0, 0, 1, 0, 0, 0, 0, 0, 0, 0, 0, 0, 0, 0, 0]}\n",
      "\n",
      "Evaluating Set ID: Set_10_Prop_0.1\n"
     ]
    },
    {
     "name": "stderr",
     "output_type": "stream",
     "text": [
      "Processing predictions: 100%|██████████| 100/100 [00:08<00:00, 11.97it/s]\n",
      "/tmp/ipykernel_6833/3130949446.py:86: FutureWarning: Series.__getitem__ treating keys as positions is deprecated. In a future version, integer keys will always be treated as labels (consistent with DataFrame behavior). To access a value by position, use `ser.iloc[pos]`\n",
      "  answer = row[-1]  # Store the ground truth label\n"
     ]
    },
    {
     "name": "stdout",
     "output_type": "stream",
     "text": [
      "Num of non-numeric or invalid: 0\n",
      "Intermediate results for Run 1: {'Num Features': 5, 'Sample Size': 16, 'Class 1 Proportion': 0.1, 'Set ID': 'Set_10_Prop_0.1', 'Run Number': 1, 'Accuracy': 0.8, 'Precision': 0.23076923076923078, 'Recall': 0.23076923076923078, 'F1 Score': 0.23076923076923078, 'Prediction': [0, 0, 0, 0, 0, 0, 0, 0, 0, 0, 0, 0, 0, 0, 0, 0, 0, 0, 0, 0, 0, 0, 0, 0, 0, 0, 0, 1, 1, 0, 0, 0, 0, 0, 0, 1, 0, 1, 0, 0, 0, 0, 0, 0, 0, 1, 0, 0, 0, 0, 0, 0, 1, 0, 1, 0, 0, 0, 0, 0, 0, 0, 0, 0, 0, 0, 0, 1, 0, 0, 1, 1, 0, 0, 0, 0, 0, 0, 1, 0, 0, 1, 0, 0, 0, 0, 0, 0, 0, 1, 0, 0, 0, 0, 0, 0, 0, 0, 0, 0]}\n",
      "\n",
      "Evaluating Set ID: Set_11_Prop_0.1\n"
     ]
    },
    {
     "name": "stderr",
     "output_type": "stream",
     "text": [
      "Processing predictions: 100%|██████████| 100/100 [00:09<00:00, 10.64it/s]\n",
      "/tmp/ipykernel_6833/3130949446.py:86: FutureWarning: Series.__getitem__ treating keys as positions is deprecated. In a future version, integer keys will always be treated as labels (consistent with DataFrame behavior). To access a value by position, use `ser.iloc[pos]`\n",
      "  answer = row[-1]  # Store the ground truth label\n"
     ]
    },
    {
     "name": "stdout",
     "output_type": "stream",
     "text": [
      "Num of non-numeric or invalid: 0\n",
      "Intermediate results for Run 1: {'Num Features': 5, 'Sample Size': 16, 'Class 1 Proportion': 0.1, 'Set ID': 'Set_11_Prop_0.1', 'Run Number': 1, 'Accuracy': 0.86, 'Precision': 0.3333333333333333, 'Recall': 0.07692307692307693, 'F1 Score': 0.125, 'Prediction': [0, 0, 0, 0, 0, 0, 0, 0, 0, 0, 0, 0, 0, 0, 0, 0, 0, 0, 0, 0, 0, 0, 0, 0, 0, 0, 0, 0, 0, 0, 0, 0, 0, 0, 0, 0, 0, 0, 0, 0, 0, 0, 0, 1, 0, 0, 0, 0, 0, 0, 0, 1, 0, 0, 0, 0, 0, 0, 0, 0, 0, 0, 0, 0, 0, 0, 0, 0, 0, 0, 1, 0, 0, 0, 0, 0, 0, 0, 0, 0, 0, 0, 0, 0, 0, 0, 0, 0, 0, 0, 0, 0, 0, 0, 0, 0, 0, 0, 0, 0]}\n",
      "\n",
      "Evaluating Set ID: Set_12_Prop_0.1\n"
     ]
    },
    {
     "name": "stderr",
     "output_type": "stream",
     "text": [
      "Processing predictions: 100%|██████████| 100/100 [00:08<00:00, 11.59it/s]\n",
      "/tmp/ipykernel_6833/3130949446.py:86: FutureWarning: Series.__getitem__ treating keys as positions is deprecated. In a future version, integer keys will always be treated as labels (consistent with DataFrame behavior). To access a value by position, use `ser.iloc[pos]`\n",
      "  answer = row[-1]  # Store the ground truth label\n"
     ]
    },
    {
     "name": "stdout",
     "output_type": "stream",
     "text": [
      "Num of non-numeric or invalid: 0\n",
      "Intermediate results for Run 1: {'Num Features': 5, 'Sample Size': 16, 'Class 1 Proportion': 0.1, 'Set ID': 'Set_12_Prop_0.1', 'Run Number': 1, 'Accuracy': 0.78, 'Precision': 0.2631578947368421, 'Recall': 0.38461538461538464, 'F1 Score': 0.3125, 'Prediction': [0, 0, 0, 1, 0, 0, 1, 1, 0, 1, 0, 0, 0, 0, 0, 0, 1, 0, 0, 0, 0, 0, 0, 1, 0, 0, 0, 0, 0, 0, 0, 0, 0, 0, 1, 0, 0, 0, 0, 0, 0, 0, 0, 0, 0, 1, 1, 0, 0, 0, 0, 1, 0, 0, 0, 0, 0, 0, 0, 0, 0, 0, 0, 0, 0, 0, 0, 0, 1, 0, 1, 0, 1, 1, 0, 1, 0, 1, 0, 0, 0, 0, 0, 0, 0, 0, 1, 0, 1, 0, 0, 0, 0, 0, 0, 0, 1, 0, 0, 0]}\n",
      "\n",
      "Evaluating Set ID: Set_13_Prop_0.1\n"
     ]
    },
    {
     "name": "stderr",
     "output_type": "stream",
     "text": [
      "Processing predictions: 100%|██████████| 100/100 [00:08<00:00, 12.09it/s]\n",
      "/tmp/ipykernel_6833/3130949446.py:86: FutureWarning: Series.__getitem__ treating keys as positions is deprecated. In a future version, integer keys will always be treated as labels (consistent with DataFrame behavior). To access a value by position, use `ser.iloc[pos]`\n",
      "  answer = row[-1]  # Store the ground truth label\n"
     ]
    },
    {
     "name": "stdout",
     "output_type": "stream",
     "text": [
      "Num of non-numeric or invalid: 0\n",
      "Intermediate results for Run 1: {'Num Features': 5, 'Sample Size': 16, 'Class 1 Proportion': 0.1, 'Set ID': 'Set_13_Prop_0.1', 'Run Number': 1, 'Accuracy': 0.87, 'Precision': 1.0, 'Recall': 0.0, 'F1 Score': 0.0, 'Prediction': [0, 0, 0, 0, 0, 0, 0, 0, 0, 0, 0, 0, 0, 0, 0, 0, 0, 0, 0, 0, 0, 0, 0, 0, 0, 0, 0, 0, 0, 0, 0, 0, 0, 0, 0, 0, 0, 0, 0, 0, 0, 0, 0, 0, 0, 0, 0, 0, 0, 0, 0, 0, 0, 0, 0, 0, 0, 0, 0, 0, 0, 0, 0, 0, 0, 0, 0, 0, 0, 0, 0, 0, 0, 0, 0, 0, 0, 0, 0, 0, 0, 0, 0, 0, 0, 0, 0, 0, 0, 0, 0, 0, 0, 0, 0, 0, 0, 0, 0, 0]}\n",
      "\n",
      "Evaluating Set ID: Set_14_Prop_0.1\n"
     ]
    },
    {
     "name": "stderr",
     "output_type": "stream",
     "text": [
      "Processing predictions: 100%|██████████| 100/100 [00:09<00:00, 10.74it/s]\n",
      "/tmp/ipykernel_6833/3130949446.py:86: FutureWarning: Series.__getitem__ treating keys as positions is deprecated. In a future version, integer keys will always be treated as labels (consistent with DataFrame behavior). To access a value by position, use `ser.iloc[pos]`\n",
      "  answer = row[-1]  # Store the ground truth label\n"
     ]
    },
    {
     "name": "stdout",
     "output_type": "stream",
     "text": [
      "Num of non-numeric or invalid: 0\n",
      "Intermediate results for Run 1: {'Num Features': 5, 'Sample Size': 16, 'Class 1 Proportion': 0.1, 'Set ID': 'Set_14_Prop_0.1', 'Run Number': 1, 'Accuracy': 0.8, 'Precision': 0.23076923076923078, 'Recall': 0.23076923076923078, 'F1 Score': 0.23076923076923078, 'Prediction': [0, 0, 1, 0, 0, 0, 0, 0, 0, 0, 0, 0, 0, 0, 1, 0, 0, 0, 0, 1, 1, 0, 0, 1, 1, 0, 0, 0, 1, 0, 0, 0, 0, 0, 0, 0, 0, 0, 0, 0, 0, 0, 0, 0, 0, 0, 0, 0, 1, 0, 0, 0, 0, 0, 0, 1, 0, 0, 0, 0, 0, 0, 0, 1, 0, 0, 0, 0, 0, 0, 0, 1, 0, 0, 0, 0, 0, 1, 1, 0, 0, 0, 0, 0, 0, 0, 0, 0, 0, 0, 0, 0, 0, 0, 0, 0, 0, 0, 0, 0]}\n",
      "\n",
      "Evaluating Set ID: Set_15_Prop_0.1\n"
     ]
    },
    {
     "name": "stderr",
     "output_type": "stream",
     "text": [
      "Processing predictions: 100%|██████████| 100/100 [00:08<00:00, 11.45it/s]\n",
      "/tmp/ipykernel_6833/3130949446.py:86: FutureWarning: Series.__getitem__ treating keys as positions is deprecated. In a future version, integer keys will always be treated as labels (consistent with DataFrame behavior). To access a value by position, use `ser.iloc[pos]`\n",
      "  answer = row[-1]  # Store the ground truth label\n"
     ]
    },
    {
     "name": "stdout",
     "output_type": "stream",
     "text": [
      "Num of non-numeric or invalid: 0\n",
      "Intermediate results for Run 1: {'Num Features': 5, 'Sample Size': 16, 'Class 1 Proportion': 0.1, 'Set ID': 'Set_15_Prop_0.1', 'Run Number': 1, 'Accuracy': 0.77, 'Precision': 0.25, 'Recall': 0.38461538461538464, 'F1 Score': 0.30303030303030304, 'Prediction': [1, 0, 0, 0, 0, 0, 1, 0, 0, 1, 0, 1, 0, 0, 0, 0, 0, 0, 1, 1, 0, 0, 0, 0, 0, 0, 0, 0, 0, 0, 0, 0, 0, 0, 1, 0, 0, 0, 0, 0, 0, 0, 0, 0, 1, 1, 1, 0, 0, 0, 1, 1, 0, 0, 0, 0, 0, 0, 0, 0, 0, 0, 0, 0, 0, 0, 0, 0, 1, 0, 0, 1, 0, 1, 1, 1, 0, 0, 0, 0, 0, 0, 0, 0, 0, 0, 1, 0, 0, 0, 0, 0, 1, 0, 0, 0, 1, 0, 0, 0]}\n",
      "\n",
      "Testing with class 1 proportion: 0.3\n",
      "\n",
      "Evaluating Set ID: Set_1_Prop_0.3\n"
     ]
    },
    {
     "name": "stderr",
     "output_type": "stream",
     "text": [
      "Processing predictions: 100%|██████████| 100/100 [00:10<00:00,  9.58it/s]\n",
      "/tmp/ipykernel_6833/3130949446.py:86: FutureWarning: Series.__getitem__ treating keys as positions is deprecated. In a future version, integer keys will always be treated as labels (consistent with DataFrame behavior). To access a value by position, use `ser.iloc[pos]`\n",
      "  answer = row[-1]  # Store the ground truth label\n"
     ]
    },
    {
     "name": "stdout",
     "output_type": "stream",
     "text": [
      "Num of non-numeric or invalid: 0\n",
      "Intermediate results for Run 1: {'Num Features': 5, 'Sample Size': 16, 'Class 1 Proportion': 0.3, 'Set ID': 'Set_1_Prop_0.3', 'Run Number': 1, 'Accuracy': 0.71, 'Precision': 0.21428571428571427, 'Recall': 0.46153846153846156, 'F1 Score': 0.2926829268292683, 'Prediction': [1, 0, 0, 0, 1, 0, 0, 0, 0, 0, 1, 0, 0, 0, 0, 0, 0, 1, 1, 0, 0, 0, 1, 0, 0, 0, 1, 1, 0, 0, 0, 1, 0, 0, 0, 0, 1, 1, 0, 0, 0, 0, 0, 0, 0, 1, 1, 0, 0, 0, 0, 0, 1, 0, 1, 1, 0, 0, 0, 0, 0, 0, 0, 0, 0, 1, 0, 0, 1, 1, 0, 1, 1, 0, 1, 0, 0, 0, 0, 1, 1, 0, 0, 0, 0, 1, 1, 0, 0, 0, 0, 0, 1, 0, 0, 0, 1, 0, 0, 0]}\n",
      "\n",
      "Evaluating Set ID: Set_2_Prop_0.3\n"
     ]
    },
    {
     "name": "stderr",
     "output_type": "stream",
     "text": [
      "Processing predictions: 100%|██████████| 100/100 [00:08<00:00, 11.38it/s]\n",
      "/tmp/ipykernel_6833/3130949446.py:86: FutureWarning: Series.__getitem__ treating keys as positions is deprecated. In a future version, integer keys will always be treated as labels (consistent with DataFrame behavior). To access a value by position, use `ser.iloc[pos]`\n",
      "  answer = row[-1]  # Store the ground truth label\n"
     ]
    },
    {
     "name": "stdout",
     "output_type": "stream",
     "text": [
      "Num of non-numeric or invalid: 0\n",
      "Intermediate results for Run 1: {'Num Features': 5, 'Sample Size': 16, 'Class 1 Proportion': 0.3, 'Set ID': 'Set_2_Prop_0.3', 'Run Number': 1, 'Accuracy': 0.45, 'Precision': 0.18181818181818182, 'Recall': 0.9230769230769231, 'F1 Score': 0.3037974683544304, 'Prediction': [0, 1, 1, 1, 0, 1, 0, 1, 0, 1, 1, 1, 1, 0, 0, 0, 1, 0, 0, 0, 1, 1, 1, 1, 0, 1, 1, 1, 1, 0, 1, 1, 0, 1, 0, 1, 1, 1, 1, 0, 1, 0, 1, 1, 0, 1, 1, 0, 0, 0, 0, 0, 1, 1, 0, 1, 1, 1, 1, 1, 1, 0, 0, 1, 0, 1, 1, 1, 1, 1, 0, 1, 1, 1, 1, 0, 0, 1, 1, 1, 1, 1, 0, 1, 0, 1, 1, 1, 0, 1, 1, 1, 0, 0, 1, 1, 1, 1, 1, 1]}\n",
      "\n",
      "Evaluating Set ID: Set_3_Prop_0.3\n"
     ]
    },
    {
     "name": "stderr",
     "output_type": "stream",
     "text": [
      "Processing predictions: 100%|██████████| 100/100 [00:15<00:00,  6.30it/s]\n",
      "/tmp/ipykernel_6833/3130949446.py:86: FutureWarning: Series.__getitem__ treating keys as positions is deprecated. In a future version, integer keys will always be treated as labels (consistent with DataFrame behavior). To access a value by position, use `ser.iloc[pos]`\n",
      "  answer = row[-1]  # Store the ground truth label\n"
     ]
    },
    {
     "name": "stdout",
     "output_type": "stream",
     "text": [
      "Num of non-numeric or invalid: 0\n",
      "Intermediate results for Run 1: {'Num Features': 5, 'Sample Size': 16, 'Class 1 Proportion': 0.3, 'Set ID': 'Set_3_Prop_0.3', 'Run Number': 1, 'Accuracy': 0.84, 'Precision': 0.2, 'Recall': 0.07692307692307693, 'F1 Score': 0.1111111111111111, 'Prediction': [0, 1, 1, 0, 0, 0, 0, 0, 0, 0, 0, 0, 0, 0, 0, 0, 0, 0, 0, 0, 0, 0, 0, 0, 0, 0, 0, 0, 0, 0, 0, 0, 0, 0, 0, 0, 0, 0, 0, 0, 0, 0, 1, 0, 0, 0, 0, 0, 1, 0, 0, 0, 0, 0, 0, 0, 0, 0, 0, 0, 0, 0, 0, 0, 0, 0, 0, 0, 0, 0, 0, 0, 0, 0, 0, 0, 1, 0, 0, 0, 0, 0, 0, 0, 0, 0, 0, 0, 0, 0, 0, 0, 0, 0, 0, 0, 0, 0, 0, 0]}\n",
      "\n",
      "Evaluating Set ID: Set_4_Prop_0.3\n"
     ]
    },
    {
     "name": "stderr",
     "output_type": "stream",
     "text": [
      "Processing predictions: 100%|██████████| 100/100 [00:07<00:00, 12.61it/s]\n",
      "/tmp/ipykernel_6833/3130949446.py:86: FutureWarning: Series.__getitem__ treating keys as positions is deprecated. In a future version, integer keys will always be treated as labels (consistent with DataFrame behavior). To access a value by position, use `ser.iloc[pos]`\n",
      "  answer = row[-1]  # Store the ground truth label\n"
     ]
    },
    {
     "name": "stdout",
     "output_type": "stream",
     "text": [
      "Num of non-numeric or invalid: 0\n",
      "Intermediate results for Run 1: {'Num Features': 5, 'Sample Size': 16, 'Class 1 Proportion': 0.3, 'Set ID': 'Set_4_Prop_0.3', 'Run Number': 1, 'Accuracy': 0.68, 'Precision': 0.21212121212121213, 'Recall': 0.5384615384615384, 'F1 Score': 0.30434782608695654, 'Prediction': [0, 0, 0, 1, 1, 0, 0, 0, 1, 1, 0, 1, 0, 0, 0, 0, 1, 0, 0, 0, 0, 0, 1, 0, 0, 0, 0, 1, 1, 0, 1, 0, 0, 1, 0, 0, 1, 1, 0, 0, 0, 0, 0, 0, 1, 1, 1, 0, 0, 0, 0, 1, 1, 0, 0, 1, 1, 0, 0, 0, 0, 0, 0, 0, 0, 1, 0, 0, 1, 0, 1, 0, 0, 1, 0, 1, 1, 0, 0, 1, 0, 0, 0, 1, 0, 1, 1, 1, 0, 1, 0, 0, 0, 0, 0, 0, 0, 1, 0, 0]}\n",
      "\n",
      "Evaluating Set ID: Set_5_Prop_0.3\n"
     ]
    },
    {
     "name": "stderr",
     "output_type": "stream",
     "text": [
      "Processing predictions: 100%|██████████| 100/100 [00:08<00:00, 12.49it/s]\n",
      "/tmp/ipykernel_6833/3130949446.py:86: FutureWarning: Series.__getitem__ treating keys as positions is deprecated. In a future version, integer keys will always be treated as labels (consistent with DataFrame behavior). To access a value by position, use `ser.iloc[pos]`\n",
      "  answer = row[-1]  # Store the ground truth label\n"
     ]
    },
    {
     "name": "stdout",
     "output_type": "stream",
     "text": [
      "Num of non-numeric or invalid: 0\n",
      "Intermediate results for Run 1: {'Num Features': 5, 'Sample Size': 16, 'Class 1 Proportion': 0.3, 'Set ID': 'Set_5_Prop_0.3', 'Run Number': 1, 'Accuracy': 0.73, 'Precision': 0.25, 'Recall': 0.5384615384615384, 'F1 Score': 0.34146341463414637, 'Prediction': [0, 1, 0, 0, 0, 0, 1, 0, 0, 1, 1, 1, 1, 0, 0, 0, 0, 1, 0, 0, 0, 1, 0, 0, 0, 0, 0, 0, 0, 0, 0, 1, 0, 0, 0, 0, 0, 0, 0, 0, 0, 0, 0, 0, 0, 1, 1, 0, 0, 0, 0, 0, 0, 0, 1, 0, 0, 0, 0, 0, 0, 0, 0, 0, 0, 0, 0, 0, 0, 1, 1, 0, 1, 1, 1, 1, 0, 0, 1, 0, 1, 0, 0, 0, 0, 1, 1, 0, 1, 0, 0, 0, 0, 1, 0, 1, 1, 0, 1, 1]}\n",
      "\n",
      "Evaluating Set ID: Set_6_Prop_0.3\n"
     ]
    },
    {
     "name": "stderr",
     "output_type": "stream",
     "text": [
      "Processing predictions: 100%|██████████| 100/100 [00:07<00:00, 12.79it/s]\n",
      "/tmp/ipykernel_6833/3130949446.py:86: FutureWarning: Series.__getitem__ treating keys as positions is deprecated. In a future version, integer keys will always be treated as labels (consistent with DataFrame behavior). To access a value by position, use `ser.iloc[pos]`\n",
      "  answer = row[-1]  # Store the ground truth label\n"
     ]
    },
    {
     "name": "stdout",
     "output_type": "stream",
     "text": [
      "Num of non-numeric or invalid: 0\n",
      "Intermediate results for Run 1: {'Num Features': 5, 'Sample Size': 16, 'Class 1 Proportion': 0.3, 'Set ID': 'Set_6_Prop_0.3', 'Run Number': 1, 'Accuracy': 0.57, 'Precision': 0.17391304347826086, 'Recall': 0.6153846153846154, 'F1 Score': 0.2711864406779661, 'Prediction': [1, 1, 1, 0, 0, 0, 0, 0, 1, 0, 1, 0, 0, 0, 0, 0, 0, 1, 0, 0, 0, 0, 1, 0, 0, 0, 1, 0, 0, 0, 0, 0, 0, 0, 0, 1, 1, 1, 1, 1, 0, 0, 1, 1, 1, 1, 1, 1, 0, 1, 0, 1, 1, 1, 1, 0, 0, 1, 0, 1, 0, 0, 1, 0, 0, 1, 0, 1, 0, 1, 0, 0, 1, 1, 1, 1, 0, 1, 1, 1, 0, 1, 1, 1, 1, 0, 1, 1, 0, 1, 0, 0, 0, 1, 0, 0, 1, 0, 0, 0]}\n",
      "\n",
      "Evaluating Set ID: Set_7_Prop_0.3\n"
     ]
    },
    {
     "name": "stderr",
     "output_type": "stream",
     "text": [
      "Processing predictions: 100%|██████████| 100/100 [00:09<00:00, 11.10it/s]\n",
      "/tmp/ipykernel_6833/3130949446.py:86: FutureWarning: Series.__getitem__ treating keys as positions is deprecated. In a future version, integer keys will always be treated as labels (consistent with DataFrame behavior). To access a value by position, use `ser.iloc[pos]`\n",
      "  answer = row[-1]  # Store the ground truth label\n"
     ]
    },
    {
     "name": "stdout",
     "output_type": "stream",
     "text": [
      "Num of non-numeric or invalid: 0\n",
      "Intermediate results for Run 1: {'Num Features': 5, 'Sample Size': 16, 'Class 1 Proportion': 0.3, 'Set ID': 'Set_7_Prop_0.3', 'Run Number': 1, 'Accuracy': 0.55, 'Precision': 0.19230769230769232, 'Recall': 0.7692307692307693, 'F1 Score': 0.3076923076923077, 'Prediction': [1, 1, 0, 0, 1, 0, 0, 1, 1, 0, 1, 0, 0, 1, 1, 0, 0, 1, 0, 0, 1, 0, 1, 0, 0, 0, 0, 1, 0, 1, 0, 1, 1, 0, 0, 1, 1, 0, 0, 1, 1, 0, 0, 0, 1, 1, 1, 0, 0, 0, 1, 0, 1, 1, 0, 1, 0, 0, 0, 0, 1, 0, 0, 0, 1, 1, 1, 0, 1, 0, 0, 1, 1, 1, 1, 0, 1, 0, 0, 1, 1, 1, 1, 0, 0, 1, 1, 1, 1, 1, 1, 0, 0, 1, 0, 1, 1, 1, 1, 1]}\n",
      "\n",
      "Evaluating Set ID: Set_8_Prop_0.3\n"
     ]
    },
    {
     "name": "stderr",
     "output_type": "stream",
     "text": [
      "Processing predictions: 100%|██████████| 100/100 [00:07<00:00, 12.80it/s]\n",
      "/tmp/ipykernel_6833/3130949446.py:86: FutureWarning: Series.__getitem__ treating keys as positions is deprecated. In a future version, integer keys will always be treated as labels (consistent with DataFrame behavior). To access a value by position, use `ser.iloc[pos]`\n",
      "  answer = row[-1]  # Store the ground truth label\n"
     ]
    },
    {
     "name": "stdout",
     "output_type": "stream",
     "text": [
      "Num of non-numeric or invalid: 0\n",
      "Intermediate results for Run 1: {'Num Features': 5, 'Sample Size': 16, 'Class 1 Proportion': 0.3, 'Set ID': 'Set_8_Prop_0.3', 'Run Number': 1, 'Accuracy': 0.78, 'Precision': 0.15384615384615385, 'Recall': 0.15384615384615385, 'F1 Score': 0.15384615384615385, 'Prediction': [0, 0, 0, 0, 0, 0, 0, 0, 0, 0, 1, 0, 1, 0, 0, 0, 0, 0, 0, 0, 0, 0, 0, 0, 0, 0, 0, 0, 0, 0, 0, 0, 0, 0, 0, 0, 0, 0, 0, 0, 0, 0, 0, 0, 1, 0, 0, 0, 0, 0, 0, 1, 0, 0, 0, 0, 0, 0, 0, 0, 0, 0, 0, 0, 0, 0, 1, 0, 0, 0, 0, 1, 0, 0, 0, 0, 0, 0, 0, 1, 0, 0, 0, 1, 0, 1, 0, 0, 0, 0, 0, 0, 0, 0, 1, 0, 1, 0, 1, 1]}\n",
      "\n",
      "Evaluating Set ID: Set_9_Prop_0.3\n"
     ]
    },
    {
     "name": "stderr",
     "output_type": "stream",
     "text": [
      "Processing predictions: 100%|██████████| 100/100 [00:56<00:00,  1.75it/s]\n",
      "/tmp/ipykernel_6833/3130949446.py:86: FutureWarning: Series.__getitem__ treating keys as positions is deprecated. In a future version, integer keys will always be treated as labels (consistent with DataFrame behavior). To access a value by position, use `ser.iloc[pos]`\n",
      "  answer = row[-1]  # Store the ground truth label\n"
     ]
    },
    {
     "name": "stdout",
     "output_type": "stream",
     "text": [
      "Num of non-numeric or invalid: 0\n",
      "Intermediate results for Run 1: {'Num Features': 5, 'Sample Size': 16, 'Class 1 Proportion': 0.3, 'Set ID': 'Set_9_Prop_0.3', 'Run Number': 1, 'Accuracy': 0.7, 'Precision': 0.24242424242424243, 'Recall': 0.6153846153846154, 'F1 Score': 0.34782608695652173, 'Prediction': [1, 1, 0, 0, 0, 1, 0, 0, 0, 1, 1, 0, 0, 0, 0, 0, 1, 0, 0, 0, 0, 0, 1, 0, 0, 0, 0, 1, 1, 0, 0, 0, 0, 1, 0, 0, 1, 0, 1, 0, 1, 0, 1, 0, 1, 0, 0, 0, 1, 0, 0, 1, 0, 1, 1, 0, 0, 1, 0, 0, 0, 0, 0, 0, 0, 0, 1, 0, 1, 1, 0, 0, 0, 1, 1, 0, 1, 0, 0, 1, 1, 0, 1, 0, 0, 0, 1, 0, 1, 0, 0, 0, 0, 0, 1, 0, 0, 0, 0, 1]}\n",
      "\n",
      "Evaluating Set ID: Set_10_Prop_0.3\n"
     ]
    },
    {
     "name": "stderr",
     "output_type": "stream",
     "text": [
      "Processing predictions: 100%|██████████| 100/100 [00:08<00:00, 11.43it/s]\n",
      "/tmp/ipykernel_6833/3130949446.py:86: FutureWarning: Series.__getitem__ treating keys as positions is deprecated. In a future version, integer keys will always be treated as labels (consistent with DataFrame behavior). To access a value by position, use `ser.iloc[pos]`\n",
      "  answer = row[-1]  # Store the ground truth label\n"
     ]
    },
    {
     "name": "stdout",
     "output_type": "stream",
     "text": [
      "Num of non-numeric or invalid: 0\n",
      "Intermediate results for Run 1: {'Num Features': 5, 'Sample Size': 16, 'Class 1 Proportion': 0.3, 'Set ID': 'Set_10_Prop_0.3', 'Run Number': 1, 'Accuracy': 0.67, 'Precision': 0.20588235294117646, 'Recall': 0.5384615384615384, 'F1 Score': 0.2978723404255319, 'Prediction': [0, 1, 0, 0, 0, 1, 0, 1, 0, 0, 1, 0, 0, 0, 1, 0, 0, 0, 0, 0, 1, 0, 0, 0, 0, 0, 0, 1, 0, 1, 0, 0, 0, 1, 0, 0, 0, 1, 1, 0, 0, 0, 0, 0, 1, 1, 1, 1, 0, 1, 0, 0, 1, 1, 0, 1, 1, 0, 0, 0, 0, 0, 0, 0, 0, 1, 1, 0, 0, 1, 1, 0, 0, 1, 0, 1, 0, 1, 1, 0, 0, 1, 0, 1, 0, 0, 1, 0, 1, 1, 0, 0, 0, 0, 0, 0, 0, 0, 0, 1]}\n",
      "\n",
      "Evaluating Set ID: Set_11_Prop_0.3\n"
     ]
    },
    {
     "name": "stderr",
     "output_type": "stream",
     "text": [
      "Processing predictions: 100%|██████████| 100/100 [00:08<00:00, 12.02it/s]\n",
      "/tmp/ipykernel_6833/3130949446.py:86: FutureWarning: Series.__getitem__ treating keys as positions is deprecated. In a future version, integer keys will always be treated as labels (consistent with DataFrame behavior). To access a value by position, use `ser.iloc[pos]`\n",
      "  answer = row[-1]  # Store the ground truth label\n"
     ]
    },
    {
     "name": "stdout",
     "output_type": "stream",
     "text": [
      "Num of non-numeric or invalid: 0\n",
      "Intermediate results for Run 1: {'Num Features': 5, 'Sample Size': 16, 'Class 1 Proportion': 0.3, 'Set ID': 'Set_11_Prop_0.3', 'Run Number': 1, 'Accuracy': 0.41, 'Precision': 0.15151515151515152, 'Recall': 0.7692307692307693, 'F1 Score': 0.25316455696202533, 'Prediction': [0, 0, 0, 1, 1, 1, 0, 1, 0, 1, 1, 0, 0, 1, 1, 1, 1, 0, 0, 0, 0, 1, 1, 1, 1, 1, 0, 1, 1, 1, 0, 1, 1, 1, 1, 0, 1, 1, 1, 1, 1, 1, 0, 1, 1, 1, 1, 0, 1, 1, 0, 1, 1, 1, 1, 1, 1, 1, 1, 1, 1, 0, 1, 1, 1, 0, 0, 1, 1, 1, 1, 1, 1, 1, 0, 1, 1, 1, 0, 1, 0, 1, 1, 0, 0, 0, 1, 1, 0, 1, 1, 0, 1, 0, 0, 1, 0, 0, 0, 0]}\n",
      "\n",
      "Evaluating Set ID: Set_12_Prop_0.3\n"
     ]
    },
    {
     "name": "stderr",
     "output_type": "stream",
     "text": [
      "Processing predictions: 100%|██████████| 100/100 [00:07<00:00, 13.29it/s]\n",
      "/tmp/ipykernel_6833/3130949446.py:86: FutureWarning: Series.__getitem__ treating keys as positions is deprecated. In a future version, integer keys will always be treated as labels (consistent with DataFrame behavior). To access a value by position, use `ser.iloc[pos]`\n",
      "  answer = row[-1]  # Store the ground truth label\n"
     ]
    },
    {
     "name": "stdout",
     "output_type": "stream",
     "text": [
      "Num of non-numeric or invalid: 0\n",
      "Intermediate results for Run 1: {'Num Features': 5, 'Sample Size': 16, 'Class 1 Proportion': 0.3, 'Set ID': 'Set_12_Prop_0.3', 'Run Number': 1, 'Accuracy': 0.72, 'Precision': 0.2222222222222222, 'Recall': 0.46153846153846156, 'F1 Score': 0.3, 'Prediction': [1, 0, 0, 0, 0, 1, 0, 0, 1, 0, 0, 1, 0, 0, 0, 0, 0, 1, 0, 0, 0, 0, 1, 0, 0, 0, 0, 1, 0, 0, 0, 0, 0, 1, 0, 1, 0, 0, 0, 0, 0, 0, 0, 0, 1, 1, 0, 0, 0, 0, 0, 1, 1, 1, 1, 0, 1, 0, 0, 0, 0, 0, 0, 0, 0, 0, 0, 1, 0, 0, 1, 0, 0, 1, 1, 0, 1, 0, 1, 0, 0, 0, 1, 0, 0, 1, 0, 1, 0, 1, 0, 0, 0, 0, 0, 0, 1, 0, 0, 0]}\n",
      "\n",
      "Evaluating Set ID: Set_13_Prop_0.3\n"
     ]
    },
    {
     "name": "stderr",
     "output_type": "stream",
     "text": [
      "Processing predictions: 100%|██████████| 100/100 [00:07<00:00, 13.36it/s]\n",
      "/tmp/ipykernel_6833/3130949446.py:86: FutureWarning: Series.__getitem__ treating keys as positions is deprecated. In a future version, integer keys will always be treated as labels (consistent with DataFrame behavior). To access a value by position, use `ser.iloc[pos]`\n",
      "  answer = row[-1]  # Store the ground truth label\n"
     ]
    },
    {
     "name": "stdout",
     "output_type": "stream",
     "text": [
      "Num of non-numeric or invalid: 0\n",
      "Intermediate results for Run 1: {'Num Features': 5, 'Sample Size': 16, 'Class 1 Proportion': 0.3, 'Set ID': 'Set_13_Prop_0.3', 'Run Number': 1, 'Accuracy': 0.63, 'Precision': 0.2, 'Recall': 0.6153846153846154, 'F1 Score': 0.3018867924528302, 'Prediction': [1, 0, 1, 0, 1, 0, 0, 1, 0, 0, 0, 1, 0, 0, 0, 0, 1, 0, 0, 0, 0, 1, 0, 0, 0, 1, 0, 1, 0, 0, 0, 0, 0, 1, 0, 0, 0, 1, 1, 0, 1, 0, 0, 1, 1, 1, 0, 1, 0, 0, 1, 0, 1, 1, 1, 0, 1, 0, 0, 1, 0, 1, 0, 0, 1, 0, 1, 0, 0, 1, 0, 1, 0, 1, 1, 1, 0, 0, 0, 1, 1, 0, 1, 1, 0, 1, 1, 1, 0, 1, 0, 0, 0, 0, 0, 0, 1, 0, 0, 0]}\n",
      "\n",
      "Evaluating Set ID: Set_14_Prop_0.3\n"
     ]
    },
    {
     "name": "stderr",
     "output_type": "stream",
     "text": [
      "Processing predictions: 100%|██████████| 100/100 [00:08<00:00, 11.95it/s]\n",
      "/tmp/ipykernel_6833/3130949446.py:86: FutureWarning: Series.__getitem__ treating keys as positions is deprecated. In a future version, integer keys will always be treated as labels (consistent with DataFrame behavior). To access a value by position, use `ser.iloc[pos]`\n",
      "  answer = row[-1]  # Store the ground truth label\n"
     ]
    },
    {
     "name": "stdout",
     "output_type": "stream",
     "text": [
      "Num of non-numeric or invalid: 0\n",
      "Intermediate results for Run 1: {'Num Features': 5, 'Sample Size': 16, 'Class 1 Proportion': 0.3, 'Set ID': 'Set_14_Prop_0.3', 'Run Number': 1, 'Accuracy': 0.59, 'Precision': 0.20833333333333334, 'Recall': 0.7692307692307693, 'F1 Score': 0.32786885245901637, 'Prediction': [0, 1, 1, 0, 0, 0, 1, 0, 0, 1, 1, 1, 0, 0, 1, 0, 0, 1, 0, 0, 0, 0, 1, 0, 0, 0, 0, 1, 0, 0, 0, 0, 1, 1, 0, 0, 0, 1, 0, 1, 0, 1, 0, 0, 1, 1, 1, 1, 0, 0, 1, 1, 0, 1, 1, 1, 0, 0, 0, 0, 0, 0, 0, 0, 0, 1, 0, 1, 0, 1, 1, 0, 1, 1, 0, 1, 1, 0, 0, 1, 1, 1, 1, 1, 1, 1, 1, 0, 1, 1, 0, 0, 0, 1, 1, 1, 1, 1, 0, 1]}\n",
      "\n",
      "Evaluating Set ID: Set_15_Prop_0.3\n"
     ]
    },
    {
     "name": "stderr",
     "output_type": "stream",
     "text": [
      "Processing predictions: 100%|██████████| 100/100 [00:09<00:00, 11.10it/s]\n",
      "/tmp/ipykernel_6833/3130949446.py:86: FutureWarning: Series.__getitem__ treating keys as positions is deprecated. In a future version, integer keys will always be treated as labels (consistent with DataFrame behavior). To access a value by position, use `ser.iloc[pos]`\n",
      "  answer = row[-1]  # Store the ground truth label\n"
     ]
    },
    {
     "name": "stdout",
     "output_type": "stream",
     "text": [
      "Num of non-numeric or invalid: 0\n",
      "Intermediate results for Run 1: {'Num Features': 5, 'Sample Size': 16, 'Class 1 Proportion': 0.3, 'Set ID': 'Set_15_Prop_0.3', 'Run Number': 1, 'Accuracy': 0.64, 'Precision': 0.20512820512820512, 'Recall': 0.6153846153846154, 'F1 Score': 0.3076923076923077, 'Prediction': [0, 0, 0, 1, 1, 0, 0, 0, 1, 0, 1, 1, 0, 0, 0, 1, 1, 0, 0, 0, 0, 1, 0, 0, 0, 0, 0, 1, 0, 0, 0, 1, 1, 0, 0, 0, 0, 1, 1, 0, 0, 0, 0, 0, 1, 1, 1, 0, 0, 0, 0, 0, 1, 1, 1, 0, 0, 1, 0, 0, 0, 0, 0, 0, 0, 0, 1, 1, 0, 0, 1, 0, 0, 1, 1, 0, 0, 1, 1, 1, 1, 0, 0, 0, 1, 1, 1, 0, 1, 1, 0, 0, 1, 0, 1, 1, 0, 0, 1, 1]}\n",
      "\n",
      "Testing with class 1 proportion: 0.5\n",
      "\n",
      "Evaluating Set ID: Set_1_Prop_0.5\n"
     ]
    },
    {
     "name": "stderr",
     "output_type": "stream",
     "text": [
      "Processing predictions: 100%|██████████| 100/100 [00:08<00:00, 11.51it/s]\n",
      "/tmp/ipykernel_6833/3130949446.py:86: FutureWarning: Series.__getitem__ treating keys as positions is deprecated. In a future version, integer keys will always be treated as labels (consistent with DataFrame behavior). To access a value by position, use `ser.iloc[pos]`\n",
      "  answer = row[-1]  # Store the ground truth label\n"
     ]
    },
    {
     "name": "stdout",
     "output_type": "stream",
     "text": [
      "Num of non-numeric or invalid: 0\n",
      "Intermediate results for Run 1: {'Num Features': 5, 'Sample Size': 16, 'Class 1 Proportion': 0.5, 'Set ID': 'Set_1_Prop_0.5', 'Run Number': 1, 'Accuracy': 0.63, 'Precision': 0.2, 'Recall': 0.6153846153846154, 'F1 Score': 0.3018867924528302, 'Prediction': [0, 0, 1, 1, 0, 0, 0, 1, 1, 0, 1, 1, 0, 0, 1, 0, 1, 0, 1, 0, 0, 1, 0, 0, 0, 0, 0, 1, 0, 1, 0, 0, 1, 0, 1, 0, 0, 0, 0, 1, 0, 0, 0, 0, 1, 1, 0, 0, 0, 0, 1, 0, 1, 0, 0, 0, 1, 0, 0, 0, 0, 0, 0, 0, 0, 1, 0, 0, 1, 1, 0, 1, 1, 1, 1, 1, 1, 1, 0, 1, 0, 0, 0, 0, 0, 1, 0, 1, 1, 0, 1, 0, 0, 0, 1, 1, 0, 1, 1, 1]}\n",
      "\n",
      "Evaluating Set ID: Set_2_Prop_0.5\n"
     ]
    },
    {
     "name": "stderr",
     "output_type": "stream",
     "text": [
      "Processing predictions: 100%|██████████| 100/100 [00:09<00:00, 10.44it/s]\n",
      "/tmp/ipykernel_6833/3130949446.py:86: FutureWarning: Series.__getitem__ treating keys as positions is deprecated. In a future version, integer keys will always be treated as labels (consistent with DataFrame behavior). To access a value by position, use `ser.iloc[pos]`\n",
      "  answer = row[-1]  # Store the ground truth label\n"
     ]
    },
    {
     "name": "stdout",
     "output_type": "stream",
     "text": [
      "Num of non-numeric or invalid: 0\n",
      "Intermediate results for Run 1: {'Num Features': 5, 'Sample Size': 16, 'Class 1 Proportion': 0.5, 'Set ID': 'Set_2_Prop_0.5', 'Run Number': 1, 'Accuracy': 0.15, 'Precision': 0.1326530612244898, 'Recall': 1.0, 'F1 Score': 0.23423423423423423, 'Prediction': [1, 1, 1, 1, 1, 1, 1, 1, 1, 1, 1, 1, 1, 1, 1, 1, 1, 1, 1, 0, 1, 1, 1, 1, 1, 1, 1, 1, 1, 1, 1, 1, 1, 1, 1, 1, 1, 1, 1, 1, 1, 1, 1, 1, 1, 1, 1, 1, 1, 1, 1, 1, 1, 1, 1, 1, 1, 1, 1, 1, 1, 1, 1, 1, 1, 1, 1, 1, 1, 1, 1, 1, 1, 1, 1, 1, 1, 1, 1, 1, 1, 1, 1, 1, 1, 1, 1, 1, 1, 1, 1, 1, 1, 0, 1, 1, 1, 1, 1, 1]}\n",
      "\n",
      "Evaluating Set ID: Set_3_Prop_0.5\n"
     ]
    },
    {
     "name": "stderr",
     "output_type": "stream",
     "text": [
      "Processing predictions: 100%|██████████| 100/100 [00:08<00:00, 11.28it/s]\n",
      "/tmp/ipykernel_6833/3130949446.py:86: FutureWarning: Series.__getitem__ treating keys as positions is deprecated. In a future version, integer keys will always be treated as labels (consistent with DataFrame behavior). To access a value by position, use `ser.iloc[pos]`\n",
      "  answer = row[-1]  # Store the ground truth label\n"
     ]
    },
    {
     "name": "stdout",
     "output_type": "stream",
     "text": [
      "Num of non-numeric or invalid: 0\n",
      "Intermediate results for Run 1: {'Num Features': 5, 'Sample Size': 16, 'Class 1 Proportion': 0.5, 'Set ID': 'Set_3_Prop_0.5', 'Run Number': 1, 'Accuracy': 0.33, 'Precision': 0.125, 'Recall': 0.6923076923076923, 'F1 Score': 0.21176470588235294, 'Prediction': [0, 1, 0, 1, 0, 1, 1, 1, 0, 1, 1, 1, 1, 1, 0, 1, 0, 1, 0, 0, 1, 0, 1, 1, 0, 1, 1, 1, 1, 0, 1, 1, 1, 0, 1, 1, 1, 1, 1, 1, 0, 1, 0, 1, 0, 1, 1, 1, 1, 1, 0, 1, 0, 1, 1, 1, 1, 0, 0, 0, 1, 1, 1, 1, 1, 1, 1, 1, 1, 0, 0, 1, 1, 1, 1, 1, 0, 1, 1, 1, 1, 1, 1, 1, 1, 0, 1, 1, 0, 1, 1, 1, 0, 0, 1, 1, 1, 0, 1, 1]}\n",
      "\n",
      "Evaluating Set ID: Set_4_Prop_0.5\n"
     ]
    },
    {
     "name": "stderr",
     "output_type": "stream",
     "text": [
      "Processing predictions: 100%|██████████| 100/100 [00:08<00:00, 11.84it/s]\n",
      "/tmp/ipykernel_6833/3130949446.py:86: FutureWarning: Series.__getitem__ treating keys as positions is deprecated. In a future version, integer keys will always be treated as labels (consistent with DataFrame behavior). To access a value by position, use `ser.iloc[pos]`\n",
      "  answer = row[-1]  # Store the ground truth label\n"
     ]
    },
    {
     "name": "stdout",
     "output_type": "stream",
     "text": [
      "Num of non-numeric or invalid: 0\n",
      "Intermediate results for Run 1: {'Num Features': 5, 'Sample Size': 16, 'Class 1 Proportion': 0.5, 'Set ID': 'Set_4_Prop_0.5', 'Run Number': 1, 'Accuracy': 0.33, 'Precision': 0.14473684210526316, 'Recall': 0.8461538461538461, 'F1 Score': 0.24719101123595505, 'Prediction': [1, 0, 1, 1, 0, 1, 1, 1, 1, 0, 1, 0, 1, 1, 1, 0, 1, 0, 0, 1, 1, 1, 1, 1, 1, 1, 1, 0, 1, 1, 1, 1, 1, 0, 1, 1, 1, 1, 1, 1, 1, 0, 0, 1, 1, 1, 1, 1, 1, 1, 0, 0, 1, 1, 1, 1, 1, 1, 1, 1, 1, 1, 1, 1, 1, 0, 1, 1, 1, 1, 1, 0, 1, 1, 1, 1, 1, 1, 1, 0, 1, 1, 1, 1, 0, 0, 1, 1, 1, 1, 0, 1, 0, 1, 0, 1, 1, 0, 0, 0]}\n",
      "\n",
      "Evaluating Set ID: Set_5_Prop_0.5\n"
     ]
    },
    {
     "name": "stderr",
     "output_type": "stream",
     "text": [
      "Processing predictions: 100%|██████████| 100/100 [00:10<00:00,  9.28it/s]\n",
      "/tmp/ipykernel_6833/3130949446.py:86: FutureWarning: Series.__getitem__ treating keys as positions is deprecated. In a future version, integer keys will always be treated as labels (consistent with DataFrame behavior). To access a value by position, use `ser.iloc[pos]`\n",
      "  answer = row[-1]  # Store the ground truth label\n"
     ]
    },
    {
     "name": "stdout",
     "output_type": "stream",
     "text": [
      "Num of non-numeric or invalid: 0\n",
      "Intermediate results for Run 1: {'Num Features': 5, 'Sample Size': 16, 'Class 1 Proportion': 0.5, 'Set ID': 'Set_5_Prop_0.5', 'Run Number': 1, 'Accuracy': 0.68, 'Precision': 0.1724137931034483, 'Recall': 0.38461538461538464, 'F1 Score': 0.23809523809523808, 'Prediction': [1, 0, 0, 0, 1, 0, 0, 0, 0, 1, 1, 0, 0, 1, 0, 0, 1, 0, 0, 0, 0, 0, 1, 0, 0, 0, 0, 0, 0, 0, 1, 0, 1, 1, 0, 0, 0, 0, 0, 0, 0, 0, 0, 0, 0, 1, 1, 0, 1, 0, 0, 0, 1, 0, 0, 0, 0, 0, 1, 0, 1, 1, 0, 0, 0, 0, 0, 0, 0, 1, 1, 1, 0, 1, 1, 1, 1, 0, 1, 0, 0, 0, 0, 1, 0, 1, 0, 1, 0, 0, 0, 0, 0, 0, 0, 0, 1, 0, 0, 0]}\n",
      "\n",
      "Evaluating Set ID: Set_6_Prop_0.5\n"
     ]
    },
    {
     "name": "stderr",
     "output_type": "stream",
     "text": [
      "Processing predictions: 100%|██████████| 100/100 [00:08<00:00, 12.21it/s]\n",
      "/tmp/ipykernel_6833/3130949446.py:86: FutureWarning: Series.__getitem__ treating keys as positions is deprecated. In a future version, integer keys will always be treated as labels (consistent with DataFrame behavior). To access a value by position, use `ser.iloc[pos]`\n",
      "  answer = row[-1]  # Store the ground truth label\n"
     ]
    },
    {
     "name": "stdout",
     "output_type": "stream",
     "text": [
      "Num of non-numeric or invalid: 0\n",
      "Intermediate results for Run 1: {'Num Features': 5, 'Sample Size': 16, 'Class 1 Proportion': 0.5, 'Set ID': 'Set_6_Prop_0.5', 'Run Number': 1, 'Accuracy': 0.59, 'Precision': 0.13157894736842105, 'Recall': 0.38461538461538464, 'F1 Score': 0.19607843137254902, 'Prediction': [1, 0, 0, 1, 1, 1, 0, 0, 1, 0, 0, 0, 0, 0, 0, 1, 0, 0, 0, 0, 0, 0, 0, 0, 0, 0, 0, 1, 1, 1, 1, 0, 1, 0, 0, 0, 1, 1, 0, 1, 0, 1, 0, 0, 1, 1, 0, 0, 1, 0, 1, 1, 1, 0, 1, 0, 0, 1, 0, 0, 0, 0, 1, 0, 1, 0, 1, 0, 1, 0, 0, 0, 1, 0, 0, 0, 0, 0, 1, 0, 0, 1, 1, 1, 1, 0, 0, 0, 1, 0, 1, 1, 0, 0, 1, 0, 0, 1, 0, 0]}\n",
      "\n",
      "Evaluating Set ID: Set_7_Prop_0.5\n"
     ]
    },
    {
     "name": "stderr",
     "output_type": "stream",
     "text": [
      "Processing predictions: 100%|██████████| 100/100 [00:07<00:00, 12.79it/s]\n",
      "/tmp/ipykernel_6833/3130949446.py:86: FutureWarning: Series.__getitem__ treating keys as positions is deprecated. In a future version, integer keys will always be treated as labels (consistent with DataFrame behavior). To access a value by position, use `ser.iloc[pos]`\n",
      "  answer = row[-1]  # Store the ground truth label\n"
     ]
    },
    {
     "name": "stdout",
     "output_type": "stream",
     "text": [
      "Num of non-numeric or invalid: 0\n",
      "Intermediate results for Run 1: {'Num Features': 5, 'Sample Size': 16, 'Class 1 Proportion': 0.5, 'Set ID': 'Set_7_Prop_0.5', 'Run Number': 1, 'Accuracy': 0.13, 'Precision': 0.13, 'Recall': 1.0, 'F1 Score': 0.23008849557522124, 'Prediction': [1, 1, 1, 1, 1, 1, 1, 1, 1, 1, 1, 1, 1, 1, 1, 1, 1, 1, 1, 1, 1, 1, 1, 1, 1, 1, 1, 1, 1, 1, 1, 1, 1, 1, 1, 1, 1, 1, 1, 1, 1, 1, 1, 1, 1, 1, 1, 1, 1, 1, 1, 1, 1, 1, 1, 1, 1, 1, 1, 1, 1, 1, 1, 1, 1, 1, 1, 1, 1, 1, 1, 1, 1, 1, 1, 1, 1, 1, 1, 1, 1, 1, 1, 1, 1, 1, 1, 1, 1, 1, 1, 1, 1, 1, 1, 1, 1, 1, 1, 1]}\n",
      "\n",
      "Evaluating Set ID: Set_8_Prop_0.5\n"
     ]
    },
    {
     "name": "stderr",
     "output_type": "stream",
     "text": [
      "Processing predictions: 100%|██████████| 100/100 [00:07<00:00, 12.61it/s]\n",
      "/tmp/ipykernel_6833/3130949446.py:86: FutureWarning: Series.__getitem__ treating keys as positions is deprecated. In a future version, integer keys will always be treated as labels (consistent with DataFrame behavior). To access a value by position, use `ser.iloc[pos]`\n",
      "  answer = row[-1]  # Store the ground truth label\n"
     ]
    },
    {
     "name": "stdout",
     "output_type": "stream",
     "text": [
      "Num of non-numeric or invalid: 0\n",
      "Intermediate results for Run 1: {'Num Features': 5, 'Sample Size': 16, 'Class 1 Proportion': 0.5, 'Set ID': 'Set_8_Prop_0.5', 'Run Number': 1, 'Accuracy': 0.4, 'Precision': 0.14925373134328357, 'Recall': 0.7692307692307693, 'F1 Score': 0.25, 'Prediction': [1, 0, 1, 1, 1, 0, 0, 1, 1, 1, 1, 1, 0, 1, 0, 1, 0, 1, 0, 0, 1, 0, 0, 1, 1, 0, 1, 0, 1, 1, 1, 0, 0, 1, 1, 1, 0, 1, 1, 1, 1, 0, 0, 0, 1, 1, 1, 1, 0, 1, 1, 0, 1, 1, 1, 1, 0, 0, 1, 0, 0, 0, 1, 0, 1, 1, 1, 1, 0, 1, 1, 1, 1, 1, 1, 1, 1, 0, 1, 1, 1, 1, 1, 0, 1, 1, 1, 1, 1, 1, 0, 0, 0, 1, 1, 0, 1, 1, 1, 1]}\n",
      "\n",
      "Evaluating Set ID: Set_9_Prop_0.5\n"
     ]
    },
    {
     "name": "stderr",
     "output_type": "stream",
     "text": [
      "Processing predictions: 100%|██████████| 100/100 [00:11<00:00,  8.64it/s]\n",
      "/tmp/ipykernel_6833/3130949446.py:86: FutureWarning: Series.__getitem__ treating keys as positions is deprecated. In a future version, integer keys will always be treated as labels (consistent with DataFrame behavior). To access a value by position, use `ser.iloc[pos]`\n",
      "  answer = row[-1]  # Store the ground truth label\n"
     ]
    },
    {
     "name": "stdout",
     "output_type": "stream",
     "text": [
      "Num of non-numeric or invalid: 0\n",
      "Intermediate results for Run 1: {'Num Features': 5, 'Sample Size': 16, 'Class 1 Proportion': 0.5, 'Set ID': 'Set_9_Prop_0.5', 'Run Number': 1, 'Accuracy': 0.26, 'Precision': 0.14942528735632185, 'Recall': 1.0, 'F1 Score': 0.26, 'Prediction': [1, 0, 1, 1, 1, 1, 1, 1, 1, 1, 1, 1, 1, 1, 1, 1, 0, 0, 0, 1, 1, 1, 1, 1, 1, 1, 0, 1, 1, 1, 1, 1, 0, 1, 1, 1, 1, 0, 1, 1, 1, 0, 1, 1, 1, 1, 1, 1, 1, 1, 1, 1, 1, 1, 1, 1, 1, 1, 1, 1, 0, 1, 1, 1, 1, 1, 1, 1, 1, 1, 1, 1, 1, 1, 1, 1, 1, 1, 1, 1, 1, 1, 1, 1, 0, 1, 1, 1, 0, 1, 1, 1, 1, 0, 1, 1, 1, 0, 1, 1]}\n",
      "\n",
      "Evaluating Set ID: Set_10_Prop_0.5\n"
     ]
    },
    {
     "name": "stderr",
     "output_type": "stream",
     "text": [
      "Processing predictions: 100%|██████████| 100/100 [00:07<00:00, 13.40it/s]\n",
      "/tmp/ipykernel_6833/3130949446.py:86: FutureWarning: Series.__getitem__ treating keys as positions is deprecated. In a future version, integer keys will always be treated as labels (consistent with DataFrame behavior). To access a value by position, use `ser.iloc[pos]`\n",
      "  answer = row[-1]  # Store the ground truth label\n"
     ]
    },
    {
     "name": "stdout",
     "output_type": "stream",
     "text": [
      "Num of non-numeric or invalid: 0\n",
      "Intermediate results for Run 1: {'Num Features': 5, 'Sample Size': 16, 'Class 1 Proportion': 0.5, 'Set ID': 'Set_10_Prop_0.5', 'Run Number': 1, 'Accuracy': 0.26, 'Precision': 0.14942528735632185, 'Recall': 1.0, 'F1 Score': 0.26, 'Prediction': [1, 0, 1, 1, 1, 1, 1, 1, 1, 1, 1, 1, 1, 0, 1, 1, 1, 0, 1, 1, 0, 1, 1, 1, 1, 0, 1, 1, 1, 1, 0, 1, 1, 1, 1, 1, 1, 1, 1, 1, 1, 1, 0, 1, 1, 1, 1, 0, 1, 1, 0, 1, 0, 1, 1, 1, 1, 1, 1, 1, 1, 1, 1, 1, 1, 1, 1, 1, 1, 1, 1, 1, 1, 1, 1, 1, 1, 1, 1, 1, 1, 1, 1, 0, 1, 0, 1, 1, 1, 1, 1, 1, 1, 0, 1, 1, 1, 1, 1, 1]}\n",
      "\n",
      "Evaluating Set ID: Set_11_Prop_0.5\n"
     ]
    },
    {
     "name": "stderr",
     "output_type": "stream",
     "text": [
      "Processing predictions: 100%|██████████| 100/100 [00:07<00:00, 12.80it/s]\n",
      "/tmp/ipykernel_6833/3130949446.py:86: FutureWarning: Series.__getitem__ treating keys as positions is deprecated. In a future version, integer keys will always be treated as labels (consistent with DataFrame behavior). To access a value by position, use `ser.iloc[pos]`\n",
      "  answer = row[-1]  # Store the ground truth label\n"
     ]
    },
    {
     "name": "stdout",
     "output_type": "stream",
     "text": [
      "Num of non-numeric or invalid: 0\n",
      "Intermediate results for Run 1: {'Num Features': 5, 'Sample Size': 16, 'Class 1 Proportion': 0.5, 'Set ID': 'Set_11_Prop_0.5', 'Run Number': 1, 'Accuracy': 0.3, 'Precision': 0.13924050632911392, 'Recall': 0.8461538461538461, 'F1 Score': 0.2391304347826087, 'Prediction': [1, 1, 1, 0, 1, 1, 1, 0, 1, 1, 1, 0, 0, 1, 1, 0, 1, 1, 1, 1, 1, 1, 1, 1, 1, 1, 0, 1, 1, 0, 1, 1, 1, 1, 1, 0, 1, 1, 1, 1, 1, 0, 1, 1, 1, 1, 1, 1, 1, 1, 1, 1, 1, 1, 1, 1, 1, 1, 1, 1, 0, 1, 1, 1, 1, 0, 1, 1, 1, 1, 1, 1, 0, 1, 1, 1, 1, 1, 1, 0, 1, 1, 1, 1, 1, 0, 1, 1, 1, 1, 1, 0, 1, 0, 0, 1, 0, 0, 0, 0]}\n",
      "\n",
      "Evaluating Set ID: Set_12_Prop_0.5\n"
     ]
    },
    {
     "name": "stderr",
     "output_type": "stream",
     "text": [
      "Processing predictions: 100%|██████████| 100/100 [00:07<00:00, 13.09it/s]\n",
      "/tmp/ipykernel_6833/3130949446.py:86: FutureWarning: Series.__getitem__ treating keys as positions is deprecated. In a future version, integer keys will always be treated as labels (consistent with DataFrame behavior). To access a value by position, use `ser.iloc[pos]`\n",
      "  answer = row[-1]  # Store the ground truth label\n"
     ]
    },
    {
     "name": "stdout",
     "output_type": "stream",
     "text": [
      "Num of non-numeric or invalid: 0\n",
      "Intermediate results for Run 1: {'Num Features': 5, 'Sample Size': 16, 'Class 1 Proportion': 0.5, 'Set ID': 'Set_12_Prop_0.5', 'Run Number': 1, 'Accuracy': 0.24, 'Precision': 0.14606741573033707, 'Recall': 1.0, 'F1 Score': 0.2549019607843137, 'Prediction': [1, 1, 1, 1, 1, 1, 1, 0, 1, 1, 1, 1, 1, 1, 1, 1, 0, 1, 1, 0, 1, 1, 1, 1, 1, 1, 0, 1, 1, 1, 1, 1, 1, 1, 1, 1, 1, 1, 1, 1, 0, 1, 1, 0, 1, 1, 1, 0, 1, 1, 0, 0, 1, 1, 1, 1, 1, 1, 1, 1, 1, 1, 1, 1, 1, 1, 1, 1, 1, 1, 1, 1, 1, 1, 1, 1, 1, 1, 1, 1, 1, 1, 1, 0, 1, 1, 1, 1, 1, 1, 1, 1, 1, 0, 1, 1, 1, 1, 1, 1]}\n",
      "\n",
      "Evaluating Set ID: Set_13_Prop_0.5\n"
     ]
    },
    {
     "name": "stderr",
     "output_type": "stream",
     "text": [
      "Processing predictions: 100%|██████████| 100/100 [00:08<00:00, 11.70it/s]\n",
      "/tmp/ipykernel_6833/3130949446.py:86: FutureWarning: Series.__getitem__ treating keys as positions is deprecated. In a future version, integer keys will always be treated as labels (consistent with DataFrame behavior). To access a value by position, use `ser.iloc[pos]`\n",
      "  answer = row[-1]  # Store the ground truth label\n"
     ]
    },
    {
     "name": "stdout",
     "output_type": "stream",
     "text": [
      "Num of non-numeric or invalid: 0\n",
      "Intermediate results for Run 1: {'Num Features': 5, 'Sample Size': 16, 'Class 1 Proportion': 0.5, 'Set ID': 'Set_13_Prop_0.5', 'Run Number': 1, 'Accuracy': 0.28, 'Precision': 0.14457831325301204, 'Recall': 0.9230769230769231, 'F1 Score': 0.25, 'Prediction': [1, 1, 0, 1, 1, 1, 1, 1, 1, 1, 1, 1, 1, 0, 1, 1, 0, 1, 0, 0, 1, 1, 1, 1, 1, 0, 1, 1, 1, 1, 0, 0, 1, 1, 1, 1, 1, 1, 1, 0, 0, 1, 1, 1, 0, 1, 1, 1, 1, 1, 1, 0, 1, 1, 1, 1, 1, 1, 0, 1, 1, 0, 1, 1, 1, 1, 1, 1, 1, 1, 1, 1, 1, 1, 1, 1, 1, 1, 1, 1, 1, 1, 0, 1, 1, 1, 1, 1, 1, 1, 1, 0, 1, 0, 1, 1, 1, 1, 1, 1]}\n",
      "\n",
      "Evaluating Set ID: Set_14_Prop_0.5\n"
     ]
    },
    {
     "name": "stderr",
     "output_type": "stream",
     "text": [
      "Processing predictions: 100%|██████████| 100/100 [00:09<00:00, 10.49it/s]\n",
      "/tmp/ipykernel_6833/3130949446.py:86: FutureWarning: Series.__getitem__ treating keys as positions is deprecated. In a future version, integer keys will always be treated as labels (consistent with DataFrame behavior). To access a value by position, use `ser.iloc[pos]`\n",
      "  answer = row[-1]  # Store the ground truth label\n"
     ]
    },
    {
     "name": "stdout",
     "output_type": "stream",
     "text": [
      "Num of non-numeric or invalid: 0\n",
      "Intermediate results for Run 1: {'Num Features': 5, 'Sample Size': 16, 'Class 1 Proportion': 0.5, 'Set ID': 'Set_14_Prop_0.5', 'Run Number': 1, 'Accuracy': 0.25, 'Precision': 0.13953488372093023, 'Recall': 0.9230769230769231, 'F1 Score': 0.24242424242424243, 'Prediction': [1, 1, 1, 1, 1, 0, 1, 0, 1, 1, 1, 1, 1, 1, 1, 0, 1, 1, 1, 0, 1, 1, 1, 1, 1, 1, 1, 0, 1, 0, 1, 1, 1, 1, 1, 1, 1, 1, 1, 1, 0, 1, 1, 1, 1, 1, 1, 0, 1, 1, 0, 0, 1, 1, 1, 1, 1, 1, 1, 1, 1, 1, 1, 0, 1, 1, 1, 1, 1, 1, 1, 1, 1, 1, 1, 1, 1, 1, 1, 1, 1, 1, 1, 1, 1, 1, 1, 1, 1, 0, 1, 0, 1, 1, 1, 1, 0, 1, 1, 1]}\n",
      "\n",
      "Evaluating Set ID: Set_15_Prop_0.5\n"
     ]
    },
    {
     "name": "stderr",
     "output_type": "stream",
     "text": [
      "Processing predictions: 100%|██████████| 100/100 [00:08<00:00, 12.39it/s]\n",
      "/tmp/ipykernel_6833/3130949446.py:86: FutureWarning: Series.__getitem__ treating keys as positions is deprecated. In a future version, integer keys will always be treated as labels (consistent with DataFrame behavior). To access a value by position, use `ser.iloc[pos]`\n",
      "  answer = row[-1]  # Store the ground truth label\n"
     ]
    },
    {
     "name": "stdout",
     "output_type": "stream",
     "text": [
      "Num of non-numeric or invalid: 0\n",
      "Intermediate results for Run 1: {'Num Features': 5, 'Sample Size': 16, 'Class 1 Proportion': 0.5, 'Set ID': 'Set_15_Prop_0.5', 'Run Number': 1, 'Accuracy': 0.65, 'Precision': 0.19444444444444445, 'Recall': 0.5384615384615384, 'F1 Score': 0.2857142857142857, 'Prediction': [1, 1, 0, 0, 1, 0, 0, 0, 1, 1, 0, 0, 0, 0, 0, 0, 0, 1, 0, 0, 0, 0, 0, 1, 0, 0, 1, 1, 1, 0, 1, 0, 0, 0, 0, 0, 1, 1, 1, 0, 0, 0, 0, 0, 1, 1, 0, 0, 0, 0, 0, 1, 1, 1, 0, 1, 0, 1, 0, 0, 0, 1, 0, 0, 1, 0, 0, 0, 0, 0, 1, 0, 1, 1, 1, 0, 0, 1, 0, 1, 0, 1, 0, 0, 0, 0, 1, 1, 1, 0, 0, 1, 0, 0, 1, 0, 1, 0, 0, 0]}\n",
      "\n",
      "Starting experiments for top 10 features...\n",
      "\n",
      "Testing with class 1 proportion: 0.1\n",
      "\n",
      "Evaluating Set ID: Set_1_Prop_0.1\n"
     ]
    },
    {
     "name": "stderr",
     "output_type": "stream",
     "text": [
      "Processing predictions: 100%|██████████| 100/100 [00:11<00:00,  8.45it/s]\n",
      "/tmp/ipykernel_6833/3130949446.py:86: FutureWarning: Series.__getitem__ treating keys as positions is deprecated. In a future version, integer keys will always be treated as labels (consistent with DataFrame behavior). To access a value by position, use `ser.iloc[pos]`\n",
      "  answer = row[-1]  # Store the ground truth label\n"
     ]
    },
    {
     "name": "stdout",
     "output_type": "stream",
     "text": [
      "Num of non-numeric or invalid: 0\n",
      "Intermediate results for Run 1: {'Num Features': 10, 'Sample Size': 16, 'Class 1 Proportion': 0.1, 'Set ID': 'Set_1_Prop_0.1', 'Run Number': 1, 'Accuracy': 0.72, 'Precision': 0.0, 'Recall': 0.0, 'F1 Score': 0.0, 'Prediction': [0, 0, 0, 1, 0, 0, 0, 1, 0, 0, 0, 0, 0, 0, 0, 0, 1, 1, 0, 0, 0, 0, 0, 0, 0, 1, 0, 1, 0, 0, 0, 0, 0, 0, 0, 1, 0, 0, 0, 0, 0, 1, 1, 0, 0, 0, 0, 0, 0, 0, 0, 0, 0, 0, 0, 1, 0, 0, 0, 0, 0, 0, 0, 0, 0, 0, 0, 0, 0, 0, 0, 0, 0, 0, 0, 0, 0, 0, 0, 0, 0, 0, 1, 0, 0, 0, 1, 1, 0, 0, 0, 1, 0, 1, 0, 0, 0, 0, 0, 0]}\n",
      "\n",
      "Evaluating Set ID: Set_2_Prop_0.1\n"
     ]
    },
    {
     "name": "stderr",
     "output_type": "stream",
     "text": [
      "Processing predictions: 100%|██████████| 100/100 [00:10<00:00,  9.94it/s]\n",
      "/tmp/ipykernel_6833/3130949446.py:86: FutureWarning: Series.__getitem__ treating keys as positions is deprecated. In a future version, integer keys will always be treated as labels (consistent with DataFrame behavior). To access a value by position, use `ser.iloc[pos]`\n",
      "  answer = row[-1]  # Store the ground truth label\n"
     ]
    },
    {
     "name": "stdout",
     "output_type": "stream",
     "text": [
      "Num of non-numeric or invalid: 0\n",
      "Intermediate results for Run 1: {'Num Features': 10, 'Sample Size': 16, 'Class 1 Proportion': 0.1, 'Set ID': 'Set_2_Prop_0.1', 'Run Number': 1, 'Accuracy': 0.77, 'Precision': 0.0, 'Recall': 0.0, 'F1 Score': 0.0, 'Prediction': [0, 1, 0, 0, 0, 0, 0, 0, 0, 0, 0, 0, 0, 0, 0, 0, 0, 1, 0, 0, 0, 0, 0, 0, 0, 0, 1, 1, 1, 0, 0, 0, 0, 0, 0, 0, 0, 0, 0, 0, 0, 0, 1, 0, 0, 0, 0, 0, 0, 0, 0, 0, 0, 0, 0, 0, 0, 0, 0, 0, 0, 0, 0, 0, 0, 0, 0, 0, 0, 0, 0, 0, 0, 0, 0, 0, 0, 0, 0, 0, 0, 0, 0, 0, 0, 1, 0, 0, 0, 1, 0, 1, 1, 0, 0, 0, 0, 0, 0, 0]}\n",
      "\n",
      "Evaluating Set ID: Set_3_Prop_0.1\n"
     ]
    },
    {
     "name": "stderr",
     "output_type": "stream",
     "text": [
      "Processing predictions: 100%|██████████| 100/100 [00:10<00:00,  9.26it/s]\n",
      "/tmp/ipykernel_6833/3130949446.py:86: FutureWarning: Series.__getitem__ treating keys as positions is deprecated. In a future version, integer keys will always be treated as labels (consistent with DataFrame behavior). To access a value by position, use `ser.iloc[pos]`\n",
      "  answer = row[-1]  # Store the ground truth label\n"
     ]
    },
    {
     "name": "stdout",
     "output_type": "stream",
     "text": [
      "Num of non-numeric or invalid: 0\n",
      "Intermediate results for Run 1: {'Num Features': 10, 'Sample Size': 16, 'Class 1 Proportion': 0.1, 'Set ID': 'Set_3_Prop_0.1', 'Run Number': 1, 'Accuracy': 0.76, 'Precision': 0.13333333333333333, 'Recall': 0.15384615384615385, 'F1 Score': 0.14285714285714285, 'Prediction': [0, 0, 1, 0, 0, 0, 1, 0, 0, 0, 0, 0, 0, 0, 0, 0, 1, 1, 0, 0, 0, 0, 0, 0, 0, 0, 1, 0, 1, 0, 0, 0, 0, 0, 0, 0, 1, 0, 0, 0, 0, 0, 1, 0, 0, 0, 0, 0, 0, 0, 0, 0, 0, 0, 0, 1, 0, 0, 0, 0, 0, 0, 0, 0, 0, 0, 0, 0, 0, 0, 0, 1, 0, 0, 0, 0, 0, 0, 0, 0, 0, 0, 1, 0, 0, 0, 0, 1, 0, 0, 1, 1, 0, 1, 0, 0, 0, 0, 0, 0]}\n",
      "\n",
      "Evaluating Set ID: Set_4_Prop_0.1\n"
     ]
    },
    {
     "name": "stderr",
     "output_type": "stream",
     "text": [
      "Processing predictions: 100%|██████████| 100/100 [00:10<00:00,  9.92it/s]\n",
      "/tmp/ipykernel_6833/3130949446.py:86: FutureWarning: Series.__getitem__ treating keys as positions is deprecated. In a future version, integer keys will always be treated as labels (consistent with DataFrame behavior). To access a value by position, use `ser.iloc[pos]`\n",
      "  answer = row[-1]  # Store the ground truth label\n"
     ]
    },
    {
     "name": "stdout",
     "output_type": "stream",
     "text": [
      "Num of non-numeric or invalid: 0\n",
      "Intermediate results for Run 1: {'Num Features': 10, 'Sample Size': 16, 'Class 1 Proportion': 0.1, 'Set ID': 'Set_4_Prop_0.1', 'Run Number': 1, 'Accuracy': 0.73, 'Precision': 0.0, 'Recall': 0.0, 'F1 Score': 0.0, 'Prediction': [0, 1, 0, 0, 0, 0, 0, 1, 0, 0, 0, 0, 0, 0, 0, 0, 1, 0, 1, 0, 0, 0, 0, 0, 0, 0, 1, 1, 0, 0, 1, 0, 0, 0, 0, 0, 0, 0, 1, 0, 1, 0, 0, 0, 0, 0, 0, 0, 0, 0, 0, 0, 0, 0, 0, 1, 0, 0, 0, 0, 0, 0, 0, 0, 0, 0, 0, 0, 0, 0, 0, 0, 0, 0, 0, 0, 0, 0, 0, 0, 0, 1, 0, 0, 0, 0, 0, 0, 0, 1, 0, 1, 1, 0, 0, 0, 0, 0, 0, 0]}\n",
      "\n",
      "Evaluating Set ID: Set_5_Prop_0.1\n"
     ]
    },
    {
     "name": "stderr",
     "output_type": "stream",
     "text": [
      "Processing predictions: 100%|██████████| 100/100 [00:08<00:00, 11.57it/s]\n",
      "/tmp/ipykernel_6833/3130949446.py:86: FutureWarning: Series.__getitem__ treating keys as positions is deprecated. In a future version, integer keys will always be treated as labels (consistent with DataFrame behavior). To access a value by position, use `ser.iloc[pos]`\n",
      "  answer = row[-1]  # Store the ground truth label\n"
     ]
    },
    {
     "name": "stdout",
     "output_type": "stream",
     "text": [
      "Num of non-numeric or invalid: 0\n",
      "Intermediate results for Run 1: {'Num Features': 10, 'Sample Size': 16, 'Class 1 Proportion': 0.1, 'Set ID': 'Set_5_Prop_0.1', 'Run Number': 1, 'Accuracy': 0.71, 'Precision': 0.05555555555555555, 'Recall': 0.07692307692307693, 'F1 Score': 0.06451612903225806, 'Prediction': [0, 1, 0, 0, 0, 1, 0, 0, 0, 0, 0, 0, 0, 0, 0, 0, 1, 1, 0, 0, 0, 0, 0, 0, 1, 0, 0, 1, 1, 0, 0, 0, 0, 1, 0, 0, 0, 1, 0, 0, 0, 1, 1, 0, 0, 0, 0, 0, 0, 0, 0, 0, 0, 0, 1, 0, 0, 0, 0, 0, 0, 0, 0, 0, 0, 0, 0, 0, 0, 0, 1, 0, 0, 0, 0, 0, 0, 0, 0, 0, 0, 1, 0, 0, 1, 0, 0, 0, 0, 1, 0, 1, 0, 0, 1, 0, 0, 0, 0, 0]}\n",
      "\n",
      "Evaluating Set ID: Set_6_Prop_0.1\n"
     ]
    },
    {
     "name": "stderr",
     "output_type": "stream",
     "text": [
      "Processing predictions: 100%|██████████| 100/100 [00:09<00:00, 10.92it/s]\n",
      "/tmp/ipykernel_6833/3130949446.py:86: FutureWarning: Series.__getitem__ treating keys as positions is deprecated. In a future version, integer keys will always be treated as labels (consistent with DataFrame behavior). To access a value by position, use `ser.iloc[pos]`\n",
      "  answer = row[-1]  # Store the ground truth label\n"
     ]
    },
    {
     "name": "stdout",
     "output_type": "stream",
     "text": [
      "Num of non-numeric or invalid: 0\n",
      "Intermediate results for Run 1: {'Num Features': 10, 'Sample Size': 16, 'Class 1 Proportion': 0.1, 'Set ID': 'Set_6_Prop_0.1', 'Run Number': 1, 'Accuracy': 0.8, 'Precision': 0.0, 'Recall': 0.0, 'F1 Score': 0.0, 'Prediction': [1, 0, 0, 0, 0, 0, 0, 0, 0, 0, 0, 0, 0, 0, 0, 0, 0, 0, 1, 0, 0, 0, 0, 0, 0, 0, 0, 0, 0, 0, 0, 0, 0, 1, 0, 0, 0, 0, 0, 0, 0, 0, 0, 0, 0, 1, 0, 0, 0, 0, 0, 0, 0, 0, 0, 0, 0, 0, 0, 0, 0, 0, 0, 0, 0, 0, 0, 0, 0, 0, 0, 0, 0, 0, 0, 0, 0, 0, 0, 0, 0, 0, 0, 0, 0, 1, 0, 0, 1, 0, 0, 0, 1, 0, 0, 0, 0, 0, 0, 0]}\n",
      "\n",
      "Evaluating Set ID: Set_7_Prop_0.1\n"
     ]
    },
    {
     "name": "stderr",
     "output_type": "stream",
     "text": [
      "Processing predictions: 100%|██████████| 100/100 [00:11<00:00,  8.47it/s]\n",
      "/tmp/ipykernel_6833/3130949446.py:86: FutureWarning: Series.__getitem__ treating keys as positions is deprecated. In a future version, integer keys will always be treated as labels (consistent with DataFrame behavior). To access a value by position, use `ser.iloc[pos]`\n",
      "  answer = row[-1]  # Store the ground truth label\n"
     ]
    },
    {
     "name": "stdout",
     "output_type": "stream",
     "text": [
      "Num of non-numeric or invalid: 0\n",
      "Intermediate results for Run 1: {'Num Features': 10, 'Sample Size': 16, 'Class 1 Proportion': 0.1, 'Set ID': 'Set_7_Prop_0.1', 'Run Number': 1, 'Accuracy': 0.76, 'Precision': 0.07692307692307693, 'Recall': 0.07692307692307693, 'F1 Score': 0.07692307692307693, 'Prediction': [1, 0, 0, 0, 0, 0, 0, 0, 0, 0, 0, 0, 0, 0, 0, 1, 1, 0, 0, 0, 0, 0, 0, 0, 0, 1, 1, 1, 0, 0, 0, 0, 0, 0, 0, 0, 1, 0, 0, 0, 0, 0, 1, 0, 0, 0, 0, 0, 0, 0, 0, 0, 0, 0, 0, 0, 0, 0, 0, 0, 0, 0, 0, 0, 0, 0, 0, 0, 0, 1, 0, 0, 0, 0, 0, 0, 0, 0, 0, 0, 0, 0, 0, 0, 0, 0, 0, 1, 0, 1, 1, 0, 0, 1, 0, 0, 0, 0, 0, 0]}\n",
      "\n",
      "Evaluating Set ID: Set_8_Prop_0.1\n"
     ]
    },
    {
     "name": "stderr",
     "output_type": "stream",
     "text": [
      "Processing predictions: 100%|██████████| 100/100 [00:08<00:00, 11.87it/s]\n",
      "/tmp/ipykernel_6833/3130949446.py:86: FutureWarning: Series.__getitem__ treating keys as positions is deprecated. In a future version, integer keys will always be treated as labels (consistent with DataFrame behavior). To access a value by position, use `ser.iloc[pos]`\n",
      "  answer = row[-1]  # Store the ground truth label\n"
     ]
    },
    {
     "name": "stdout",
     "output_type": "stream",
     "text": [
      "Num of non-numeric or invalid: 0\n",
      "Intermediate results for Run 1: {'Num Features': 10, 'Sample Size': 16, 'Class 1 Proportion': 0.1, 'Set ID': 'Set_8_Prop_0.1', 'Run Number': 1, 'Accuracy': 0.78, 'Precision': 0.0, 'Recall': 0.0, 'F1 Score': 0.0, 'Prediction': [0, 0, 0, 1, 0, 0, 0, 0, 0, 0, 0, 0, 0, 0, 0, 0, 0, 1, 0, 0, 0, 0, 0, 0, 0, 0, 1, 0, 1, 0, 0, 0, 0, 0, 0, 0, 0, 0, 0, 0, 0, 0, 1, 0, 0, 0, 0, 0, 0, 0, 0, 0, 0, 0, 0, 1, 0, 0, 0, 0, 0, 0, 0, 0, 0, 0, 0, 0, 0, 0, 0, 0, 0, 0, 0, 0, 0, 0, 0, 0, 0, 0, 0, 1, 0, 0, 0, 0, 0, 0, 1, 0, 0, 0, 1, 0, 0, 0, 0, 0]}\n",
      "\n",
      "Evaluating Set ID: Set_9_Prop_0.1\n"
     ]
    },
    {
     "name": "stderr",
     "output_type": "stream",
     "text": [
      "Processing predictions: 100%|██████████| 100/100 [00:28<00:00,  3.47it/s]\n",
      "/tmp/ipykernel_6833/3130949446.py:86: FutureWarning: Series.__getitem__ treating keys as positions is deprecated. In a future version, integer keys will always be treated as labels (consistent with DataFrame behavior). To access a value by position, use `ser.iloc[pos]`\n",
      "  answer = row[-1]  # Store the ground truth label\n"
     ]
    },
    {
     "name": "stdout",
     "output_type": "stream",
     "text": [
      "Num of non-numeric or invalid: 0\n",
      "Intermediate results for Run 1: {'Num Features': 10, 'Sample Size': 16, 'Class 1 Proportion': 0.1, 'Set ID': 'Set_9_Prop_0.1', 'Run Number': 1, 'Accuracy': 0.73, 'Precision': 0.15, 'Recall': 0.23076923076923078, 'F1 Score': 0.18181818181818182, 'Prediction': [0, 0, 0, 1, 0, 0, 0, 0, 0, 1, 0, 0, 0, 0, 0, 1, 1, 0, 0, 0, 0, 0, 0, 0, 0, 0, 1, 0, 0, 0, 0, 0, 0, 1, 0, 0, 0, 0, 0, 0, 1, 0, 0, 1, 0, 0, 0, 0, 0, 0, 0, 0, 0, 0, 0, 0, 0, 0, 0, 0, 0, 0, 0, 0, 1, 0, 0, 0, 1, 0, 0, 0, 0, 0, 0, 0, 0, 0, 1, 0, 1, 0, 1, 0, 1, 0, 1, 0, 0, 0, 1, 0, 1, 1, 0, 0, 1, 1, 0, 0]}\n",
      "\n",
      "Evaluating Set ID: Set_10_Prop_0.1\n"
     ]
    },
    {
     "name": "stderr",
     "output_type": "stream",
     "text": [
      "Processing predictions: 100%|██████████| 100/100 [00:09<00:00, 11.07it/s]\n",
      "/tmp/ipykernel_6833/3130949446.py:86: FutureWarning: Series.__getitem__ treating keys as positions is deprecated. In a future version, integer keys will always be treated as labels (consistent with DataFrame behavior). To access a value by position, use `ser.iloc[pos]`\n",
      "  answer = row[-1]  # Store the ground truth label\n"
     ]
    },
    {
     "name": "stdout",
     "output_type": "stream",
     "text": [
      "Num of non-numeric or invalid: 0\n",
      "Intermediate results for Run 1: {'Num Features': 10, 'Sample Size': 16, 'Class 1 Proportion': 0.1, 'Set ID': 'Set_10_Prop_0.1', 'Run Number': 1, 'Accuracy': 0.67, 'Precision': 0.14285714285714285, 'Recall': 0.3076923076923077, 'F1 Score': 0.1951219512195122, 'Prediction': [1, 0, 0, 0, 0, 0, 1, 1, 0, 1, 0, 0, 0, 0, 0, 1, 1, 0, 0, 0, 0, 0, 0, 0, 0, 0, 1, 1, 0, 0, 0, 0, 1, 1, 0, 1, 0, 0, 1, 0, 0, 1, 1, 0, 1, 0, 0, 0, 0, 0, 0, 0, 0, 0, 0, 0, 0, 1, 0, 0, 0, 0, 0, 0, 0, 0, 0, 0, 0, 0, 0, 1, 0, 0, 0, 1, 0, 0, 0, 0, 0, 1, 0, 1, 1, 1, 0, 0, 1, 1, 1, 0, 1, 0, 0, 1, 0, 1, 0, 0]}\n",
      "\n",
      "Evaluating Set ID: Set_11_Prop_0.1\n"
     ]
    },
    {
     "name": "stderr",
     "output_type": "stream",
     "text": [
      "Processing predictions: 100%|██████████| 100/100 [00:09<00:00, 10.32it/s]\n",
      "/tmp/ipykernel_6833/3130949446.py:86: FutureWarning: Series.__getitem__ treating keys as positions is deprecated. In a future version, integer keys will always be treated as labels (consistent with DataFrame behavior). To access a value by position, use `ser.iloc[pos]`\n",
      "  answer = row[-1]  # Store the ground truth label\n"
     ]
    },
    {
     "name": "stdout",
     "output_type": "stream",
     "text": [
      "Num of non-numeric or invalid: 0\n",
      "Intermediate results for Run 1: {'Num Features': 10, 'Sample Size': 16, 'Class 1 Proportion': 0.1, 'Set ID': 'Set_11_Prop_0.1', 'Run Number': 1, 'Accuracy': 0.87, 'Precision': 1.0, 'Recall': 0.0, 'F1 Score': 0.0, 'Prediction': [0, 0, 0, 0, 0, 0, 0, 0, 0, 0, 0, 0, 0, 0, 0, 0, 0, 0, 0, 0, 0, 0, 0, 0, 0, 0, 0, 0, 0, 0, 0, 0, 0, 0, 0, 0, 0, 0, 0, 0, 0, 0, 0, 0, 0, 0, 0, 0, 0, 0, 0, 0, 0, 0, 0, 0, 0, 0, 0, 0, 0, 0, 0, 0, 0, 0, 0, 0, 0, 0, 0, 0, 0, 0, 0, 0, 0, 0, 0, 0, 0, 0, 0, 0, 0, 0, 0, 0, 0, 0, 0, 0, 0, 0, 0, 0, 0, 0, 0, 0]}\n",
      "\n",
      "Evaluating Set ID: Set_12_Prop_0.1\n"
     ]
    },
    {
     "name": "stderr",
     "output_type": "stream",
     "text": [
      "Processing predictions: 100%|██████████| 100/100 [00:10<00:00,  9.29it/s]\n",
      "/tmp/ipykernel_6833/3130949446.py:86: FutureWarning: Series.__getitem__ treating keys as positions is deprecated. In a future version, integer keys will always be treated as labels (consistent with DataFrame behavior). To access a value by position, use `ser.iloc[pos]`\n",
      "  answer = row[-1]  # Store the ground truth label\n"
     ]
    },
    {
     "name": "stdout",
     "output_type": "stream",
     "text": [
      "Num of non-numeric or invalid: 0\n",
      "Intermediate results for Run 1: {'Num Features': 10, 'Sample Size': 16, 'Class 1 Proportion': 0.1, 'Set ID': 'Set_12_Prop_0.1', 'Run Number': 1, 'Accuracy': 0.84, 'Precision': 0.0, 'Recall': 0.0, 'F1 Score': 0.0, 'Prediction': [0, 0, 0, 1, 0, 0, 0, 0, 0, 0, 0, 0, 0, 0, 0, 0, 0, 1, 0, 0, 0, 0, 0, 0, 0, 0, 0, 0, 0, 0, 0, 0, 0, 0, 0, 1, 0, 0, 0, 0, 0, 0, 0, 0, 0, 0, 0, 0, 0, 0, 0, 0, 0, 0, 0, 0, 0, 0, 0, 0, 0, 0, 0, 0, 0, 0, 0, 0, 0, 0, 0, 0, 0, 0, 0, 0, 0, 0, 0, 0, 0, 0, 0, 0, 0, 0, 0, 0, 0, 0, 0, 0, 0, 0, 0, 0, 0, 0, 0, 0]}\n",
      "\n",
      "Evaluating Set ID: Set_13_Prop_0.1\n"
     ]
    },
    {
     "name": "stderr",
     "output_type": "stream",
     "text": [
      "Processing predictions: 100%|██████████| 100/100 [00:09<00:00, 11.09it/s]\n",
      "/tmp/ipykernel_6833/3130949446.py:86: FutureWarning: Series.__getitem__ treating keys as positions is deprecated. In a future version, integer keys will always be treated as labels (consistent with DataFrame behavior). To access a value by position, use `ser.iloc[pos]`\n",
      "  answer = row[-1]  # Store the ground truth label\n"
     ]
    },
    {
     "name": "stdout",
     "output_type": "stream",
     "text": [
      "Num of non-numeric or invalid: 0\n",
      "Intermediate results for Run 1: {'Num Features': 10, 'Sample Size': 16, 'Class 1 Proportion': 0.1, 'Set ID': 'Set_13_Prop_0.1', 'Run Number': 1, 'Accuracy': 0.83, 'Precision': 0.0, 'Recall': 0.0, 'F1 Score': 0.0, 'Prediction': [0, 0, 0, 0, 0, 0, 0, 0, 0, 0, 0, 0, 0, 0, 0, 0, 1, 0, 0, 0, 0, 0, 0, 0, 0, 0, 0, 0, 0, 0, 0, 0, 0, 1, 0, 0, 0, 0, 0, 0, 0, 0, 0, 0, 0, 0, 0, 1, 0, 0, 0, 0, 0, 0, 0, 0, 0, 0, 0, 0, 0, 0, 0, 0, 0, 0, 0, 0, 0, 0, 0, 0, 0, 0, 0, 0, 0, 0, 0, 0, 0, 0, 0, 0, 0, 0, 0, 0, 0, 0, 0, 0, 1, 0, 0, 0, 0, 0, 0, 0]}\n",
      "\n",
      "Evaluating Set ID: Set_14_Prop_0.1\n"
     ]
    },
    {
     "name": "stderr",
     "output_type": "stream",
     "text": [
      "Processing predictions: 100%|██████████| 100/100 [00:18<00:00,  5.38it/s]\n",
      "/tmp/ipykernel_6833/3130949446.py:86: FutureWarning: Series.__getitem__ treating keys as positions is deprecated. In a future version, integer keys will always be treated as labels (consistent with DataFrame behavior). To access a value by position, use `ser.iloc[pos]`\n",
      "  answer = row[-1]  # Store the ground truth label\n"
     ]
    },
    {
     "name": "stdout",
     "output_type": "stream",
     "text": [
      "Num of non-numeric or invalid: 0\n",
      "Intermediate results for Run 1: {'Num Features': 10, 'Sample Size': 16, 'Class 1 Proportion': 0.1, 'Set ID': 'Set_14_Prop_0.1', 'Run Number': 1, 'Accuracy': 0.71, 'Precision': 0.05555555555555555, 'Recall': 0.07692307692307693, 'F1 Score': 0.06451612903225806, 'Prediction': [0, 0, 1, 0, 0, 0, 1, 0, 0, 0, 0, 0, 0, 0, 0, 0, 1, 1, 0, 0, 0, 0, 0, 0, 0, 1, 0, 1, 1, 0, 0, 0, 0, 1, 0, 1, 0, 0, 0, 0, 0, 1, 1, 0, 0, 0, 0, 0, 0, 0, 0, 0, 0, 0, 0, 0, 1, 0, 0, 0, 0, 0, 0, 0, 0, 0, 0, 0, 0, 0, 0, 1, 0, 0, 0, 0, 0, 0, 0, 0, 1, 0, 0, 0, 1, 0, 0, 0, 1, 0, 0, 1, 0, 1, 0, 0, 0, 0, 0, 0]}\n",
      "\n",
      "Evaluating Set ID: Set_15_Prop_0.1\n"
     ]
    },
    {
     "name": "stderr",
     "output_type": "stream",
     "text": [
      "Processing predictions: 100%|██████████| 100/100 [00:08<00:00, 12.09it/s]\n",
      "/tmp/ipykernel_6833/3130949446.py:86: FutureWarning: Series.__getitem__ treating keys as positions is deprecated. In a future version, integer keys will always be treated as labels (consistent with DataFrame behavior). To access a value by position, use `ser.iloc[pos]`\n",
      "  answer = row[-1]  # Store the ground truth label\n"
     ]
    },
    {
     "name": "stdout",
     "output_type": "stream",
     "text": [
      "Num of non-numeric or invalid: 0\n",
      "Intermediate results for Run 1: {'Num Features': 10, 'Sample Size': 16, 'Class 1 Proportion': 0.1, 'Set ID': 'Set_15_Prop_0.1', 'Run Number': 1, 'Accuracy': 0.85, 'Precision': 0.0, 'Recall': 0.0, 'F1 Score': 0.0, 'Prediction': [0, 0, 0, 0, 0, 0, 0, 0, 0, 0, 0, 0, 0, 0, 0, 0, 0, 0, 0, 0, 0, 0, 0, 0, 0, 0, 0, 0, 0, 0, 0, 0, 0, 0, 0, 0, 0, 0, 0, 0, 0, 0, 0, 0, 0, 0, 0, 0, 0, 0, 0, 0, 0, 0, 0, 0, 0, 0, 0, 0, 0, 0, 0, 0, 0, 0, 0, 0, 0, 0, 0, 0, 0, 0, 0, 0, 0, 0, 0, 0, 0, 0, 0, 0, 1, 0, 0, 0, 0, 0, 0, 0, 1, 0, 0, 0, 0, 0, 0, 0]}\n",
      "\n",
      "Testing with class 1 proportion: 0.3\n",
      "\n",
      "Evaluating Set ID: Set_1_Prop_0.3\n"
     ]
    },
    {
     "name": "stderr",
     "output_type": "stream",
     "text": [
      "Processing predictions: 100%|██████████| 100/100 [00:13<00:00,  7.41it/s]\n",
      "/tmp/ipykernel_6833/3130949446.py:86: FutureWarning: Series.__getitem__ treating keys as positions is deprecated. In a future version, integer keys will always be treated as labels (consistent with DataFrame behavior). To access a value by position, use `ser.iloc[pos]`\n",
      "  answer = row[-1]  # Store the ground truth label\n"
     ]
    },
    {
     "name": "stdout",
     "output_type": "stream",
     "text": [
      "Num of non-numeric or invalid: 0\n",
      "Intermediate results for Run 1: {'Num Features': 10, 'Sample Size': 16, 'Class 1 Proportion': 0.3, 'Set ID': 'Set_1_Prop_0.3', 'Run Number': 1, 'Accuracy': 0.7, 'Precision': 0.16, 'Recall': 0.3076923076923077, 'F1 Score': 0.21052631578947367, 'Prediction': [0, 1, 0, 0, 0, 0, 1, 0, 1, 1, 0, 0, 0, 0, 1, 0, 0, 1, 0, 0, 0, 1, 0, 0, 1, 1, 0, 0, 0, 0, 0, 0, 0, 0, 0, 0, 0, 0, 0, 0, 1, 0, 1, 0, 1, 0, 1, 0, 0, 0, 0, 0, 1, 0, 0, 0, 0, 0, 0, 0, 0, 0, 0, 0, 0, 0, 0, 0, 0, 1, 0, 0, 1, 1, 1, 1, 0, 0, 0, 0, 0, 0, 0, 0, 1, 0, 1, 1, 1, 0, 0, 0, 0, 0, 0, 1, 0, 0, 0, 1]}\n",
      "\n",
      "Evaluating Set ID: Set_2_Prop_0.3\n"
     ]
    },
    {
     "name": "stderr",
     "output_type": "stream",
     "text": [
      "Processing predictions: 100%|██████████| 100/100 [00:09<00:00, 10.77it/s]\n",
      "/tmp/ipykernel_6833/3130949446.py:86: FutureWarning: Series.__getitem__ treating keys as positions is deprecated. In a future version, integer keys will always be treated as labels (consistent with DataFrame behavior). To access a value by position, use `ser.iloc[pos]`\n",
      "  answer = row[-1]  # Store the ground truth label\n"
     ]
    },
    {
     "name": "stdout",
     "output_type": "stream",
     "text": [
      "Num of non-numeric or invalid: 0\n",
      "Intermediate results for Run 1: {'Num Features': 10, 'Sample Size': 16, 'Class 1 Proportion': 0.3, 'Set ID': 'Set_2_Prop_0.3', 'Run Number': 1, 'Accuracy': 0.78, 'Precision': 0.0, 'Recall': 0.0, 'F1 Score': 0.0, 'Prediction': [0, 1, 0, 0, 0, 0, 0, 0, 0, 0, 0, 0, 0, 0, 0, 0, 1, 0, 0, 0, 0, 0, 1, 0, 0, 0, 0, 0, 0, 0, 0, 1, 0, 0, 0, 0, 0, 0, 0, 0, 0, 0, 1, 0, 0, 0, 0, 0, 0, 0, 0, 0, 0, 0, 0, 0, 0, 0, 0, 0, 0, 0, 0, 0, 0, 0, 0, 0, 0, 0, 0, 0, 0, 0, 0, 0, 0, 0, 0, 0, 0, 0, 1, 0, 1, 0, 0, 0, 0, 0, 1, 0, 0, 1, 0, 0, 0, 0, 0, 0]}\n",
      "\n",
      "Evaluating Set ID: Set_3_Prop_0.3\n"
     ]
    },
    {
     "name": "stderr",
     "output_type": "stream",
     "text": [
      "Processing predictions: 100%|██████████| 100/100 [00:13<00:00,  7.25it/s]\n",
      "/tmp/ipykernel_6833/3130949446.py:86: FutureWarning: Series.__getitem__ treating keys as positions is deprecated. In a future version, integer keys will always be treated as labels (consistent with DataFrame behavior). To access a value by position, use `ser.iloc[pos]`\n",
      "  answer = row[-1]  # Store the ground truth label\n"
     ]
    },
    {
     "name": "stdout",
     "output_type": "stream",
     "text": [
      "Num of non-numeric or invalid: 0\n",
      "Intermediate results for Run 1: {'Num Features': 10, 'Sample Size': 16, 'Class 1 Proportion': 0.3, 'Set ID': 'Set_3_Prop_0.3', 'Run Number': 1, 'Accuracy': 0.2, 'Precision': 0.13978494623655913, 'Recall': 1.0, 'F1 Score': 0.24528301886792453, 'Prediction': [1, 1, 1, 1, 1, 1, 0, 1, 1, 1, 0, 1, 0, 1, 1, 1, 1, 1, 1, 1, 1, 1, 1, 1, 1, 1, 1, 1, 1, 1, 1, 0, 1, 1, 1, 1, 1, 1, 1, 1, 1, 1, 1, 1, 1, 1, 1, 1, 1, 1, 1, 1, 1, 1, 1, 1, 1, 1, 1, 1, 1, 1, 0, 1, 1, 1, 1, 0, 1, 1, 1, 1, 1, 1, 1, 1, 1, 1, 1, 1, 0, 1, 1, 1, 1, 1, 1, 1, 1, 1, 1, 1, 1, 1, 1, 1, 1, 1, 1, 1]}\n",
      "\n",
      "Evaluating Set ID: Set_4_Prop_0.3\n"
     ]
    },
    {
     "name": "stderr",
     "output_type": "stream",
     "text": [
      "Processing predictions: 100%|██████████| 100/100 [00:09<00:00, 10.78it/s]\n",
      "/tmp/ipykernel_6833/3130949446.py:86: FutureWarning: Series.__getitem__ treating keys as positions is deprecated. In a future version, integer keys will always be treated as labels (consistent with DataFrame behavior). To access a value by position, use `ser.iloc[pos]`\n",
      "  answer = row[-1]  # Store the ground truth label\n"
     ]
    },
    {
     "name": "stdout",
     "output_type": "stream",
     "text": [
      "Num of non-numeric or invalid: 0\n",
      "Intermediate results for Run 1: {'Num Features': 10, 'Sample Size': 16, 'Class 1 Proportion': 0.3, 'Set ID': 'Set_4_Prop_0.3', 'Run Number': 1, 'Accuracy': 0.74, 'Precision': 0.11764705882352941, 'Recall': 0.15384615384615385, 'F1 Score': 0.13333333333333333, 'Prediction': [0, 0, 0, 1, 0, 0, 0, 0, 0, 0, 0, 0, 0, 0, 0, 0, 1, 1, 0, 0, 0, 0, 0, 0, 0, 0, 1, 1, 0, 1, 0, 0, 0, 0, 1, 0, 0, 0, 0, 0, 1, 0, 0, 0, 0, 0, 0, 0, 0, 0, 0, 0, 0, 0, 0, 0, 0, 1, 0, 0, 0, 0, 0, 0, 0, 0, 0, 0, 0, 0, 1, 0, 0, 0, 0, 0, 0, 0, 0, 0, 0, 0, 1, 1, 0, 0, 0, 0, 1, 1, 0, 1, 0, 1, 0, 0, 0, 0, 0, 1]}\n",
      "\n",
      "Evaluating Set ID: Set_5_Prop_0.3\n"
     ]
    },
    {
     "name": "stderr",
     "output_type": "stream",
     "text": [
      "Processing predictions: 100%|██████████| 100/100 [00:08<00:00, 11.66it/s]\n",
      "/tmp/ipykernel_6833/3130949446.py:86: FutureWarning: Series.__getitem__ treating keys as positions is deprecated. In a future version, integer keys will always be treated as labels (consistent with DataFrame behavior). To access a value by position, use `ser.iloc[pos]`\n",
      "  answer = row[-1]  # Store the ground truth label\n"
     ]
    },
    {
     "name": "stdout",
     "output_type": "stream",
     "text": [
      "Num of non-numeric or invalid: 0\n",
      "Intermediate results for Run 1: {'Num Features': 10, 'Sample Size': 16, 'Class 1 Proportion': 0.3, 'Set ID': 'Set_5_Prop_0.3', 'Run Number': 1, 'Accuracy': 0.72, 'Precision': 0.058823529411764705, 'Recall': 0.07692307692307693, 'F1 Score': 0.06666666666666667, 'Prediction': [0, 0, 1, 0, 0, 0, 0, 0, 1, 0, 0, 0, 0, 0, 0, 1, 1, 0, 0, 0, 0, 0, 0, 0, 0, 0, 1, 0, 1, 0, 0, 0, 0, 0, 0, 0, 0, 0, 0, 0, 1, 1, 0, 0, 0, 1, 0, 0, 0, 0, 0, 0, 0, 0, 1, 0, 0, 1, 0, 0, 0, 0, 0, 0, 0, 0, 0, 0, 0, 0, 0, 1, 0, 0, 0, 0, 0, 0, 0, 0, 0, 0, 0, 1, 1, 1, 0, 0, 1, 0, 0, 1, 0, 0, 0, 0, 0, 0, 0, 0]}\n",
      "\n",
      "Evaluating Set ID: Set_6_Prop_0.3\n"
     ]
    },
    {
     "name": "stderr",
     "output_type": "stream",
     "text": [
      "Processing predictions: 100%|██████████| 100/100 [00:09<00:00, 10.67it/s]\n",
      "/tmp/ipykernel_6833/3130949446.py:86: FutureWarning: Series.__getitem__ treating keys as positions is deprecated. In a future version, integer keys will always be treated as labels (consistent with DataFrame behavior). To access a value by position, use `ser.iloc[pos]`\n",
      "  answer = row[-1]  # Store the ground truth label\n"
     ]
    },
    {
     "name": "stdout",
     "output_type": "stream",
     "text": [
      "Num of non-numeric or invalid: 0\n",
      "Intermediate results for Run 1: {'Num Features': 10, 'Sample Size': 16, 'Class 1 Proportion': 0.3, 'Set ID': 'Set_6_Prop_0.3', 'Run Number': 1, 'Accuracy': 0.66, 'Precision': 0.16129032258064516, 'Recall': 0.38461538461538464, 'F1 Score': 0.22727272727272727, 'Prediction': [0, 1, 0, 0, 0, 0, 0, 1, 0, 1, 0, 0, 0, 0, 1, 1, 0, 0, 0, 0, 0, 0, 0, 0, 0, 0, 1, 1, 0, 1, 0, 1, 0, 0, 0, 0, 1, 1, 0, 0, 0, 1, 1, 0, 0, 0, 0, 0, 0, 0, 0, 0, 0, 0, 1, 0, 0, 0, 0, 0, 0, 0, 0, 0, 0, 0, 0, 0, 0, 1, 0, 1, 1, 1, 1, 0, 0, 0, 0, 0, 0, 1, 0, 1, 1, 1, 0, 1, 1, 0, 1, 0, 1, 0, 1, 0, 1, 1, 0, 1]}\n",
      "\n",
      "Evaluating Set ID: Set_7_Prop_0.3\n"
     ]
    },
    {
     "name": "stderr",
     "output_type": "stream",
     "text": [
      "Processing predictions: 100%|██████████| 100/100 [00:10<00:00,  9.76it/s]\n",
      "/tmp/ipykernel_6833/3130949446.py:86: FutureWarning: Series.__getitem__ treating keys as positions is deprecated. In a future version, integer keys will always be treated as labels (consistent with DataFrame behavior). To access a value by position, use `ser.iloc[pos]`\n",
      "  answer = row[-1]  # Store the ground truth label\n"
     ]
    },
    {
     "name": "stdout",
     "output_type": "stream",
     "text": [
      "Num of non-numeric or invalid: 0\n",
      "Intermediate results for Run 1: {'Num Features': 10, 'Sample Size': 16, 'Class 1 Proportion': 0.3, 'Set ID': 'Set_7_Prop_0.3', 'Run Number': 1, 'Accuracy': 0.6, 'Precision': 0.15384615384615385, 'Recall': 0.46153846153846156, 'F1 Score': 0.23076923076923078, 'Prediction': [0, 0, 1, 1, 1, 0, 1, 0, 1, 1, 0, 0, 0, 0, 1, 0, 1, 0, 0, 0, 1, 0, 0, 1, 0, 0, 1, 1, 1, 0, 0, 0, 0, 1, 1, 1, 0, 0, 0, 0, 0, 1, 0, 1, 0, 1, 0, 0, 0, 0, 0, 0, 0, 0, 1, 0, 1, 0, 0, 0, 1, 0, 0, 0, 0, 0, 0, 0, 0, 0, 1, 1, 1, 0, 1, 0, 0, 0, 1, 1, 0, 0, 0, 1, 1, 1, 0, 1, 1, 0, 1, 1, 1, 0, 0, 1, 1, 1, 0, 0]}\n",
      "\n",
      "Evaluating Set ID: Set_8_Prop_0.3\n"
     ]
    },
    {
     "name": "stderr",
     "output_type": "stream",
     "text": [
      "Processing predictions: 100%|██████████| 100/100 [00:08<00:00, 11.45it/s]\n",
      "/tmp/ipykernel_6833/3130949446.py:86: FutureWarning: Series.__getitem__ treating keys as positions is deprecated. In a future version, integer keys will always be treated as labels (consistent with DataFrame behavior). To access a value by position, use `ser.iloc[pos]`\n",
      "  answer = row[-1]  # Store the ground truth label\n"
     ]
    },
    {
     "name": "stdout",
     "output_type": "stream",
     "text": [
      "Num of non-numeric or invalid: 0\n",
      "Intermediate results for Run 1: {'Num Features': 10, 'Sample Size': 16, 'Class 1 Proportion': 0.3, 'Set ID': 'Set_8_Prop_0.3', 'Run Number': 1, 'Accuracy': 0.59, 'Precision': 0.13157894736842105, 'Recall': 0.38461538461538464, 'F1 Score': 0.19607843137254902, 'Prediction': [1, 0, 0, 1, 0, 0, 1, 1, 0, 1, 0, 1, 0, 0, 0, 0, 1, 1, 1, 1, 0, 1, 0, 0, 0, 1, 0, 1, 1, 0, 0, 0, 0, 1, 0, 1, 0, 0, 0, 1, 0, 1, 1, 0, 0, 1, 1, 0, 0, 0, 0, 0, 0, 1, 1, 0, 0, 0, 0, 0, 0, 0, 0, 0, 0, 0, 0, 0, 1, 1, 0, 1, 0, 1, 1, 1, 0, 0, 0, 0, 0, 0, 0, 1, 1, 0, 0, 1, 1, 1, 1, 0, 1, 0, 0, 0, 1, 1, 0, 0]}\n",
      "\n",
      "Evaluating Set ID: Set_9_Prop_0.3\n"
     ]
    },
    {
     "name": "stderr",
     "output_type": "stream",
     "text": [
      "Processing predictions: 100%|██████████| 100/100 [00:20<00:00,  4.84it/s]\n",
      "/tmp/ipykernel_6833/3130949446.py:86: FutureWarning: Series.__getitem__ treating keys as positions is deprecated. In a future version, integer keys will always be treated as labels (consistent with DataFrame behavior). To access a value by position, use `ser.iloc[pos]`\n",
      "  answer = row[-1]  # Store the ground truth label\n"
     ]
    },
    {
     "name": "stdout",
     "output_type": "stream",
     "text": [
      "Num of non-numeric or invalid: 0\n",
      "Intermediate results for Run 1: {'Num Features': 10, 'Sample Size': 16, 'Class 1 Proportion': 0.3, 'Set ID': 'Set_9_Prop_0.3', 'Run Number': 1, 'Accuracy': 0.64, 'Precision': 0.17142857142857143, 'Recall': 0.46153846153846156, 'F1 Score': 0.25, 'Prediction': [0, 0, 0, 1, 1, 0, 1, 0, 1, 0, 1, 0, 0, 0, 0, 0, 1, 0, 1, 0, 0, 1, 0, 1, 0, 1, 1, 0, 0, 0, 0, 0, 1, 0, 1, 0, 0, 0, 0, 0, 1, 0, 1, 0, 1, 1, 0, 0, 1, 0, 0, 0, 0, 0, 0, 0, 1, 0, 0, 0, 1, 0, 0, 0, 0, 0, 0, 0, 0, 0, 0, 1, 0, 1, 0, 0, 1, 0, 1, 0, 0, 0, 1, 1, 1, 0, 1, 0, 1, 1, 0, 0, 1, 0, 1, 0, 1, 1, 1, 0]}\n",
      "\n",
      "Evaluating Set ID: Set_10_Prop_0.3\n"
     ]
    },
    {
     "name": "stderr",
     "output_type": "stream",
     "text": [
      "Processing predictions: 100%|██████████| 100/100 [00:12<00:00,  7.89it/s]\n",
      "/tmp/ipykernel_6833/3130949446.py:86: FutureWarning: Series.__getitem__ treating keys as positions is deprecated. In a future version, integer keys will always be treated as labels (consistent with DataFrame behavior). To access a value by position, use `ser.iloc[pos]`\n",
      "  answer = row[-1]  # Store the ground truth label\n"
     ]
    },
    {
     "name": "stdout",
     "output_type": "stream",
     "text": [
      "Num of non-numeric or invalid: 0\n",
      "Intermediate results for Run 1: {'Num Features': 10, 'Sample Size': 16, 'Class 1 Proportion': 0.3, 'Set ID': 'Set_10_Prop_0.3', 'Run Number': 1, 'Accuracy': 0.7, 'Precision': 0.05263157894736842, 'Recall': 0.07692307692307693, 'F1 Score': 0.0625, 'Prediction': [1, 0, 0, 0, 0, 0, 0, 1, 0, 0, 0, 0, 0, 0, 0, 0, 1, 1, 0, 0, 0, 0, 0, 0, 0, 0, 1, 1, 1, 0, 0, 0, 0, 1, 0, 1, 0, 0, 0, 0, 0, 1, 1, 0, 0, 0, 0, 0, 0, 0, 0, 0, 0, 0, 0, 1, 0, 0, 0, 0, 0, 0, 0, 0, 0, 0, 0, 0, 0, 0, 0, 1, 0, 0, 0, 0, 0, 0, 0, 0, 1, 1, 0, 0, 0, 1, 0, 0, 1, 0, 1, 0, 0, 0, 0, 0, 1, 0, 0, 0]}\n",
      "\n",
      "Evaluating Set ID: Set_11_Prop_0.3\n"
     ]
    },
    {
     "name": "stderr",
     "output_type": "stream",
     "text": [
      "Processing predictions: 100%|██████████| 100/100 [00:14<00:00,  7.00it/s]\n",
      "/tmp/ipykernel_6833/3130949446.py:86: FutureWarning: Series.__getitem__ treating keys as positions is deprecated. In a future version, integer keys will always be treated as labels (consistent with DataFrame behavior). To access a value by position, use `ser.iloc[pos]`\n",
      "  answer = row[-1]  # Store the ground truth label\n"
     ]
    },
    {
     "name": "stdout",
     "output_type": "stream",
     "text": [
      "Num of non-numeric or invalid: 0\n",
      "Intermediate results for Run 1: {'Num Features': 10, 'Sample Size': 16, 'Class 1 Proportion': 0.3, 'Set ID': 'Set_11_Prop_0.3', 'Run Number': 1, 'Accuracy': 0.14, 'Precision': 0.13131313131313133, 'Recall': 1.0, 'F1 Score': 0.23214285714285715, 'Prediction': [1, 1, 1, 1, 1, 1, 1, 1, 1, 1, 1, 1, 1, 1, 1, 1, 1, 1, 1, 1, 1, 1, 1, 1, 1, 1, 1, 1, 1, 1, 1, 1, 1, 1, 1, 1, 1, 1, 1, 1, 1, 1, 1, 1, 1, 1, 1, 1, 0, 1, 1, 1, 1, 1, 1, 1, 1, 1, 1, 1, 1, 1, 1, 1, 1, 1, 1, 1, 1, 1, 1, 1, 1, 1, 1, 1, 1, 1, 1, 1, 1, 1, 1, 1, 1, 1, 1, 1, 1, 1, 1, 1, 1, 1, 1, 1, 1, 1, 1, 1]}\n",
      "\n",
      "Evaluating Set ID: Set_12_Prop_0.3\n"
     ]
    },
    {
     "name": "stderr",
     "output_type": "stream",
     "text": [
      "Processing predictions: 100%|██████████| 100/100 [00:10<00:00,  9.77it/s]\n",
      "/tmp/ipykernel_6833/3130949446.py:86: FutureWarning: Series.__getitem__ treating keys as positions is deprecated. In a future version, integer keys will always be treated as labels (consistent with DataFrame behavior). To access a value by position, use `ser.iloc[pos]`\n",
      "  answer = row[-1]  # Store the ground truth label\n"
     ]
    },
    {
     "name": "stdout",
     "output_type": "stream",
     "text": [
      "Num of non-numeric or invalid: 0\n",
      "Intermediate results for Run 1: {'Num Features': 10, 'Sample Size': 16, 'Class 1 Proportion': 0.3, 'Set ID': 'Set_12_Prop_0.3', 'Run Number': 1, 'Accuracy': 0.44, 'Precision': 0.13559322033898305, 'Recall': 0.6153846153846154, 'F1 Score': 0.2222222222222222, 'Prediction': [0, 1, 1, 1, 1, 0, 0, 1, 1, 1, 0, 1, 0, 1, 0, 0, 1, 1, 1, 1, 0, 0, 0, 1, 0, 1, 0, 1, 1, 1, 1, 0, 0, 1, 1, 1, 1, 1, 1, 0, 1, 0, 1, 1, 0, 0, 1, 0, 0, 0, 0, 1, 0, 1, 1, 1, 1, 0, 1, 0, 0, 1, 1, 0, 0, 1, 0, 0, 1, 0, 1, 0, 1, 1, 1, 1, 0, 1, 0, 1, 0, 0, 1, 1, 0, 1, 1, 1, 1, 1, 0, 1, 0, 1, 1, 1, 0, 0, 1, 1]}\n",
      "\n",
      "Evaluating Set ID: Set_13_Prop_0.3\n"
     ]
    },
    {
     "name": "stderr",
     "output_type": "stream",
     "text": [
      "Processing predictions: 100%|██████████| 100/100 [00:08<00:00, 11.73it/s]\n",
      "/tmp/ipykernel_6833/3130949446.py:86: FutureWarning: Series.__getitem__ treating keys as positions is deprecated. In a future version, integer keys will always be treated as labels (consistent with DataFrame behavior). To access a value by position, use `ser.iloc[pos]`\n",
      "  answer = row[-1]  # Store the ground truth label\n"
     ]
    },
    {
     "name": "stdout",
     "output_type": "stream",
     "text": [
      "Num of non-numeric or invalid: 0\n",
      "Intermediate results for Run 1: {'Num Features': 10, 'Sample Size': 16, 'Class 1 Proportion': 0.3, 'Set ID': 'Set_13_Prop_0.3', 'Run Number': 1, 'Accuracy': 0.59, 'Precision': 0.1956521739130435, 'Recall': 0.6923076923076923, 'F1 Score': 0.3050847457627119, 'Prediction': [0, 1, 1, 1, 0, 0, 0, 1, 0, 1, 1, 0, 0, 1, 0, 1, 1, 0, 0, 1, 0, 1, 1, 0, 0, 1, 0, 1, 1, 0, 0, 0, 0, 1, 0, 0, 1, 0, 0, 0, 0, 1, 1, 0, 0, 1, 1, 0, 0, 0, 0, 0, 1, 1, 1, 1, 0, 0, 0, 0, 1, 0, 0, 0, 0, 1, 0, 0, 0, 1, 0, 0, 1, 1, 1, 1, 1, 0, 0, 0, 0, 1, 0, 0, 1, 1, 1, 1, 1, 1, 1, 0, 0, 1, 1, 0, 1, 1, 1, 0]}\n",
      "\n",
      "Evaluating Set ID: Set_14_Prop_0.3\n"
     ]
    },
    {
     "name": "stderr",
     "output_type": "stream",
     "text": [
      "Processing predictions: 100%|██████████| 100/100 [00:08<00:00, 12.43it/s]\n",
      "/tmp/ipykernel_6833/3130949446.py:86: FutureWarning: Series.__getitem__ treating keys as positions is deprecated. In a future version, integer keys will always be treated as labels (consistent with DataFrame behavior). To access a value by position, use `ser.iloc[pos]`\n",
      "  answer = row[-1]  # Store the ground truth label\n"
     ]
    },
    {
     "name": "stdout",
     "output_type": "stream",
     "text": [
      "Num of non-numeric or invalid: 0\n",
      "Intermediate results for Run 1: {'Num Features': 10, 'Sample Size': 16, 'Class 1 Proportion': 0.3, 'Set ID': 'Set_14_Prop_0.3', 'Run Number': 1, 'Accuracy': 0.74, 'Precision': 0.11764705882352941, 'Recall': 0.15384615384615385, 'F1 Score': 0.13333333333333333, 'Prediction': [0, 0, 1, 0, 0, 0, 0, 0, 0, 0, 0, 0, 0, 0, 0, 0, 0, 1, 1, 0, 0, 0, 0, 0, 0, 1, 1, 0, 1, 0, 0, 0, 0, 0, 0, 0, 1, 0, 0, 0, 0, 1, 1, 0, 0, 0, 0, 0, 0, 0, 0, 0, 0, 0, 0, 1, 0, 0, 0, 0, 0, 0, 0, 0, 0, 0, 0, 0, 0, 0, 0, 1, 0, 0, 0, 0, 0, 0, 0, 0, 0, 1, 0, 0, 1, 0, 0, 0, 1, 1, 0, 1, 0, 0, 1, 0, 0, 0, 0, 0]}\n",
      "\n",
      "Evaluating Set ID: Set_15_Prop_0.3\n"
     ]
    },
    {
     "name": "stderr",
     "output_type": "stream",
     "text": [
      "Processing predictions: 100%|██████████| 100/100 [00:08<00:00, 11.42it/s]\n",
      "/tmp/ipykernel_6833/3130949446.py:86: FutureWarning: Series.__getitem__ treating keys as positions is deprecated. In a future version, integer keys will always be treated as labels (consistent with DataFrame behavior). To access a value by position, use `ser.iloc[pos]`\n",
      "  answer = row[-1]  # Store the ground truth label\n"
     ]
    },
    {
     "name": "stdout",
     "output_type": "stream",
     "text": [
      "Num of non-numeric or invalid: 0\n",
      "Intermediate results for Run 1: {'Num Features': 10, 'Sample Size': 16, 'Class 1 Proportion': 0.3, 'Set ID': 'Set_15_Prop_0.3', 'Run Number': 1, 'Accuracy': 0.5, 'Precision': 0.16363636363636364, 'Recall': 0.6923076923076923, 'F1 Score': 0.2647058823529412, 'Prediction': [1, 0, 0, 1, 1, 0, 0, 1, 0, 1, 1, 1, 0, 0, 0, 1, 0, 1, 0, 1, 0, 0, 0, 1, 0, 0, 1, 1, 1, 0, 0, 0, 0, 1, 0, 1, 0, 0, 1, 1, 1, 1, 0, 1, 1, 1, 1, 0, 0, 0, 0, 1, 1, 1, 0, 1, 0, 1, 0, 0, 1, 1, 0, 0, 0, 1, 0, 0, 1, 0, 1, 0, 1, 1, 1, 0, 0, 1, 0, 1, 1, 1, 1, 1, 1, 1, 1, 1, 1, 0, 1, 1, 0, 1, 0, 1, 0, 1, 1, 1]}\n",
      "\n",
      "Testing with class 1 proportion: 0.5\n",
      "\n",
      "Evaluating Set ID: Set_1_Prop_0.5\n"
     ]
    },
    {
     "name": "stderr",
     "output_type": "stream",
     "text": [
      "Processing predictions: 100%|██████████| 100/100 [00:09<00:00, 10.94it/s]\n",
      "/tmp/ipykernel_6833/3130949446.py:86: FutureWarning: Series.__getitem__ treating keys as positions is deprecated. In a future version, integer keys will always be treated as labels (consistent with DataFrame behavior). To access a value by position, use `ser.iloc[pos]`\n",
      "  answer = row[-1]  # Store the ground truth label\n"
     ]
    },
    {
     "name": "stdout",
     "output_type": "stream",
     "text": [
      "Num of non-numeric or invalid: 0\n",
      "Intermediate results for Run 1: {'Num Features': 10, 'Sample Size': 16, 'Class 1 Proportion': 0.5, 'Set ID': 'Set_1_Prop_0.5', 'Run Number': 1, 'Accuracy': 0.68, 'Precision': 0.14814814814814814, 'Recall': 0.3076923076923077, 'F1 Score': 0.2, 'Prediction': [0, 0, 1, 1, 0, 0, 0, 1, 1, 0, 0, 1, 0, 0, 0, 0, 1, 0, 0, 0, 0, 0, 0, 0, 0, 1, 0, 1, 0, 0, 0, 0, 0, 1, 1, 0, 0, 0, 0, 0, 0, 0, 0, 1, 0, 0, 1, 0, 0, 0, 0, 0, 1, 0, 0, 0, 1, 0, 0, 0, 1, 0, 0, 0, 0, 0, 0, 0, 0, 0, 1, 0, 0, 1, 1, 0, 1, 0, 0, 0, 0, 0, 0, 1, 1, 1, 0, 1, 1, 0, 1, 0, 0, 0, 0, 1, 1, 0, 0, 0]}\n",
      "\n",
      "Evaluating Set ID: Set_2_Prop_0.5\n"
     ]
    },
    {
     "name": "stderr",
     "output_type": "stream",
     "text": [
      "Processing predictions: 100%|██████████| 100/100 [00:08<00:00, 12.16it/s]\n",
      "/tmp/ipykernel_6833/3130949446.py:86: FutureWarning: Series.__getitem__ treating keys as positions is deprecated. In a future version, integer keys will always be treated as labels (consistent with DataFrame behavior). To access a value by position, use `ser.iloc[pos]`\n",
      "  answer = row[-1]  # Store the ground truth label\n"
     ]
    },
    {
     "name": "stdout",
     "output_type": "stream",
     "text": [
      "Num of non-numeric or invalid: 0\n",
      "Intermediate results for Run 1: {'Num Features': 10, 'Sample Size': 16, 'Class 1 Proportion': 0.5, 'Set ID': 'Set_2_Prop_0.5', 'Run Number': 1, 'Accuracy': 0.62, 'Precision': 0.12121212121212122, 'Recall': 0.3076923076923077, 'F1 Score': 0.17391304347826086, 'Prediction': [0, 0, 0, 1, 0, 0, 0, 1, 0, 0, 1, 1, 0, 0, 0, 1, 0, 1, 0, 0, 0, 0, 0, 0, 0, 0, 1, 1, 1, 0, 0, 0, 1, 0, 0, 0, 1, 0, 1, 0, 0, 1, 1, 0, 0, 0, 0, 0, 0, 1, 1, 0, 0, 0, 0, 1, 0, 0, 0, 0, 0, 0, 0, 0, 0, 0, 1, 0, 0, 0, 1, 0, 1, 0, 0, 0, 0, 0, 0, 1, 1, 0, 1, 1, 0, 1, 0, 0, 1, 1, 0, 0, 1, 1, 0, 1, 1, 0, 1, 1]}\n",
      "\n",
      "Evaluating Set ID: Set_3_Prop_0.5\n"
     ]
    },
    {
     "name": "stderr",
     "output_type": "stream",
     "text": [
      "Processing predictions: 100%|██████████| 100/100 [00:08<00:00, 11.76it/s]\n",
      "/tmp/ipykernel_6833/3130949446.py:86: FutureWarning: Series.__getitem__ treating keys as positions is deprecated. In a future version, integer keys will always be treated as labels (consistent with DataFrame behavior). To access a value by position, use `ser.iloc[pos]`\n",
      "  answer = row[-1]  # Store the ground truth label\n"
     ]
    },
    {
     "name": "stdout",
     "output_type": "stream",
     "text": [
      "Num of non-numeric or invalid: 0\n",
      "Intermediate results for Run 1: {'Num Features': 10, 'Sample Size': 16, 'Class 1 Proportion': 0.5, 'Set ID': 'Set_3_Prop_0.5', 'Run Number': 1, 'Accuracy': 0.42, 'Precision': 0.15384615384615385, 'Recall': 0.7692307692307693, 'F1 Score': 0.2564102564102564, 'Prediction': [1, 1, 0, 1, 0, 1, 1, 1, 1, 1, 1, 0, 0, 0, 0, 0, 1, 1, 1, 0, 1, 0, 0, 1, 0, 0, 1, 1, 1, 0, 0, 0, 1, 1, 1, 0, 0, 1, 1, 1, 0, 1, 0, 1, 1, 1, 1, 1, 0, 1, 1, 0, 1, 1, 1, 0, 0, 0, 1, 0, 0, 1, 1, 1, 0, 0, 1, 0, 1, 0, 0, 1, 1, 1, 1, 1, 0, 1, 0, 1, 1, 1, 1, 1, 1, 1, 1, 1, 1, 1, 0, 1, 0, 1, 1, 1, 1, 1, 1, 1]}\n",
      "\n",
      "Evaluating Set ID: Set_4_Prop_0.5\n"
     ]
    },
    {
     "name": "stderr",
     "output_type": "stream",
     "text": [
      "Processing predictions: 100%|██████████| 100/100 [00:09<00:00, 10.20it/s]\n",
      "/tmp/ipykernel_6833/3130949446.py:86: FutureWarning: Series.__getitem__ treating keys as positions is deprecated. In a future version, integer keys will always be treated as labels (consistent with DataFrame behavior). To access a value by position, use `ser.iloc[pos]`\n",
      "  answer = row[-1]  # Store the ground truth label\n"
     ]
    },
    {
     "name": "stdout",
     "output_type": "stream",
     "text": [
      "Num of non-numeric or invalid: 0\n",
      "Intermediate results for Run 1: {'Num Features': 10, 'Sample Size': 16, 'Class 1 Proportion': 0.5, 'Set ID': 'Set_4_Prop_0.5', 'Run Number': 1, 'Accuracy': 0.48, 'Precision': 0.15789473684210525, 'Recall': 0.6923076923076923, 'F1 Score': 0.2571428571428571, 'Prediction': [0, 1, 0, 1, 0, 1, 1, 1, 1, 0, 0, 0, 1, 1, 0, 1, 1, 1, 0, 1, 1, 0, 0, 1, 0, 0, 1, 1, 1, 0, 0, 0, 1, 1, 0, 0, 1, 1, 1, 0, 1, 0, 1, 1, 0, 0, 0, 1, 0, 0, 0, 0, 0, 1, 1, 0, 1, 1, 0, 1, 1, 0, 0, 0, 1, 1, 0, 0, 0, 0, 1, 1, 1, 0, 0, 1, 0, 0, 1, 1, 0, 1, 1, 1, 1, 1, 0, 1, 1, 1, 1, 1, 1, 1, 1, 1, 0, 1, 1, 1]}\n",
      "\n",
      "Evaluating Set ID: Set_5_Prop_0.5\n"
     ]
    },
    {
     "name": "stderr",
     "output_type": "stream",
     "text": [
      "Processing predictions: 100%|██████████| 100/100 [00:14<00:00,  6.89it/s]\n",
      "/tmp/ipykernel_6833/3130949446.py:86: FutureWarning: Series.__getitem__ treating keys as positions is deprecated. In a future version, integer keys will always be treated as labels (consistent with DataFrame behavior). To access a value by position, use `ser.iloc[pos]`\n",
      "  answer = row[-1]  # Store the ground truth label\n"
     ]
    },
    {
     "name": "stdout",
     "output_type": "stream",
     "text": [
      "Num of non-numeric or invalid: 0\n",
      "Intermediate results for Run 1: {'Num Features': 10, 'Sample Size': 16, 'Class 1 Proportion': 0.5, 'Set ID': 'Set_5_Prop_0.5', 'Run Number': 1, 'Accuracy': 0.21, 'Precision': 0.14130434782608695, 'Recall': 1.0, 'F1 Score': 0.24761904761904763, 'Prediction': [1, 1, 1, 0, 1, 1, 1, 1, 1, 0, 1, 1, 1, 1, 1, 1, 1, 1, 1, 1, 1, 1, 1, 1, 1, 1, 1, 1, 1, 1, 1, 0, 0, 1, 1, 1, 1, 1, 1, 1, 1, 1, 1, 1, 1, 1, 1, 1, 1, 1, 1, 0, 0, 1, 1, 1, 1, 1, 1, 1, 1, 1, 0, 1, 1, 1, 1, 0, 1, 1, 1, 1, 1, 1, 1, 1, 1, 1, 1, 1, 1, 1, 1, 1, 1, 1, 1, 1, 1, 1, 1, 1, 1, 1, 1, 1, 1, 1, 1, 1]}\n",
      "\n",
      "Evaluating Set ID: Set_6_Prop_0.5\n"
     ]
    },
    {
     "name": "stderr",
     "output_type": "stream",
     "text": [
      "Processing predictions: 100%|██████████| 100/100 [00:08<00:00, 12.30it/s]\n",
      "/tmp/ipykernel_6833/3130949446.py:86: FutureWarning: Series.__getitem__ treating keys as positions is deprecated. In a future version, integer keys will always be treated as labels (consistent with DataFrame behavior). To access a value by position, use `ser.iloc[pos]`\n",
      "  answer = row[-1]  # Store the ground truth label\n"
     ]
    },
    {
     "name": "stdout",
     "output_type": "stream",
     "text": [
      "Num of non-numeric or invalid: 0\n",
      "Intermediate results for Run 1: {'Num Features': 10, 'Sample Size': 16, 'Class 1 Proportion': 0.5, 'Set ID': 'Set_6_Prop_0.5', 'Run Number': 1, 'Accuracy': 0.39, 'Precision': 0.15714285714285714, 'Recall': 0.8461538461538461, 'F1 Score': 0.26506024096385544, 'Prediction': [1, 0, 1, 0, 1, 0, 1, 0, 1, 1, 1, 1, 1, 0, 1, 0, 0, 1, 1, 1, 1, 0, 0, 1, 0, 1, 1, 1, 1, 0, 0, 0, 0, 1, 1, 1, 1, 1, 1, 0, 1, 1, 0, 1, 1, 1, 1, 0, 0, 0, 0, 1, 0, 1, 1, 0, 1, 1, 0, 1, 0, 0, 1, 1, 0, 1, 1, 1, 0, 1, 0, 1, 1, 1, 1, 1, 1, 1, 0, 1, 1, 1, 1, 1, 1, 1, 1, 1, 1, 1, 0, 1, 1, 1, 1, 1, 1, 1, 1, 1]}\n",
      "\n",
      "Evaluating Set ID: Set_7_Prop_0.5\n"
     ]
    },
    {
     "name": "stderr",
     "output_type": "stream",
     "text": [
      "Processing predictions: 100%|██████████| 100/100 [01:40<00:00,  1.00s/it]\n",
      "/tmp/ipykernel_6833/3130949446.py:86: FutureWarning: Series.__getitem__ treating keys as positions is deprecated. In a future version, integer keys will always be treated as labels (consistent with DataFrame behavior). To access a value by position, use `ser.iloc[pos]`\n",
      "  answer = row[-1]  # Store the ground truth label\n"
     ]
    },
    {
     "name": "stdout",
     "output_type": "stream",
     "text": [
      "Num of non-numeric or invalid: 0\n",
      "Intermediate results for Run 1: {'Num Features': 10, 'Sample Size': 16, 'Class 1 Proportion': 0.5, 'Set ID': 'Set_7_Prop_0.5', 'Run Number': 1, 'Accuracy': 0.41, 'Precision': 0.08928571428571429, 'Recall': 0.38461538461538464, 'F1 Score': 0.14492753623188406, 'Prediction': [1, 0, 1, 0, 0, 0, 1, 1, 0, 1, 0, 1, 1, 0, 1, 1, 1, 1, 0, 1, 1, 0, 1, 1, 1, 1, 1, 1, 0, 1, 0, 1, 1, 0, 0, 1, 1, 1, 0, 1, 0, 1, 1, 1, 0, 0, 0, 0, 1, 0, 0, 0, 0, 0, 1, 0, 0, 1, 0, 1, 0, 1, 1, 1, 0, 1, 0, 1, 0, 0, 1, 0, 1, 0, 0, 1, 1, 1, 0, 0, 1, 0, 1, 0, 1, 1, 0, 0, 1, 1, 1, 0, 1, 1, 0, 1, 1, 0, 1, 1]}\n",
      "\n",
      "Evaluating Set ID: Set_8_Prop_0.5\n"
     ]
    },
    {
     "name": "stderr",
     "output_type": "stream",
     "text": [
      "Processing predictions: 100%|██████████| 100/100 [00:14<00:00,  7.07it/s]\n",
      "/tmp/ipykernel_6833/3130949446.py:86: FutureWarning: Series.__getitem__ treating keys as positions is deprecated. In a future version, integer keys will always be treated as labels (consistent with DataFrame behavior). To access a value by position, use `ser.iloc[pos]`\n",
      "  answer = row[-1]  # Store the ground truth label\n"
     ]
    },
    {
     "name": "stdout",
     "output_type": "stream",
     "text": [
      "Num of non-numeric or invalid: 0\n",
      "Intermediate results for Run 1: {'Num Features': 10, 'Sample Size': 16, 'Class 1 Proportion': 0.5, 'Set ID': 'Set_8_Prop_0.5', 'Run Number': 1, 'Accuracy': 0.21, 'Precision': 0.125, 'Recall': 0.8461538461538461, 'F1 Score': 0.21782178217821782, 'Prediction': [1, 1, 1, 0, 1, 1, 1, 0, 1, 0, 1, 1, 1, 1, 1, 1, 1, 1, 1, 1, 1, 1, 0, 1, 1, 1, 1, 1, 1, 1, 1, 1, 1, 1, 1, 1, 1, 1, 0, 1, 1, 1, 0, 1, 1, 1, 1, 0, 1, 1, 1, 1, 1, 1, 1, 1, 1, 0, 1, 1, 1, 0, 1, 1, 0, 1, 1, 1, 1, 1, 1, 1, 1, 1, 1, 1, 1, 0, 1, 1, 1, 0, 1, 1, 1, 1, 1, 1, 1, 1, 1, 1, 1, 1, 1, 1, 1, 1, 1, 1]}\n",
      "\n",
      "Evaluating Set ID: Set_9_Prop_0.5\n"
     ]
    },
    {
     "name": "stderr",
     "output_type": "stream",
     "text": [
      "Processing predictions: 100%|██████████| 100/100 [00:11<00:00,  8.75it/s]\n",
      "/tmp/ipykernel_6833/3130949446.py:86: FutureWarning: Series.__getitem__ treating keys as positions is deprecated. In a future version, integer keys will always be treated as labels (consistent with DataFrame behavior). To access a value by position, use `ser.iloc[pos]`\n",
      "  answer = row[-1]  # Store the ground truth label\n"
     ]
    },
    {
     "name": "stdout",
     "output_type": "stream",
     "text": [
      "Num of non-numeric or invalid: 0\n",
      "Intermediate results for Run 1: {'Num Features': 10, 'Sample Size': 16, 'Class 1 Proportion': 0.5, 'Set ID': 'Set_9_Prop_0.5', 'Run Number': 1, 'Accuracy': 0.23, 'Precision': 0.13636363636363635, 'Recall': 0.9230769230769231, 'F1 Score': 0.2376237623762376, 'Prediction': [1, 1, 1, 1, 1, 1, 0, 1, 1, 1, 1, 1, 1, 1, 1, 1, 1, 1, 1, 1, 0, 1, 1, 0, 0, 0, 1, 1, 1, 1, 1, 0, 1, 1, 1, 1, 1, 1, 1, 1, 1, 1, 1, 1, 1, 1, 0, 1, 1, 1, 1, 1, 1, 1, 1, 1, 1, 1, 1, 1, 1, 0, 0, 0, 0, 1, 1, 1, 1, 1, 1, 1, 1, 1, 1, 1, 1, 0, 1, 1, 1, 1, 1, 1, 1, 1, 1, 1, 1, 1, 1, 1, 1, 1, 1, 1, 1, 1, 1, 1]}\n",
      "\n",
      "Evaluating Set ID: Set_10_Prop_0.5\n"
     ]
    },
    {
     "name": "stderr",
     "output_type": "stream",
     "text": [
      "Processing predictions: 100%|██████████| 100/100 [00:13<00:00,  7.16it/s]\n",
      "/tmp/ipykernel_6833/3130949446.py:86: FutureWarning: Series.__getitem__ treating keys as positions is deprecated. In a future version, integer keys will always be treated as labels (consistent with DataFrame behavior). To access a value by position, use `ser.iloc[pos]`\n",
      "  answer = row[-1]  # Store the ground truth label\n"
     ]
    },
    {
     "name": "stdout",
     "output_type": "stream",
     "text": [
      "Num of non-numeric or invalid: 0\n",
      "Intermediate results for Run 1: {'Num Features': 10, 'Sample Size': 16, 'Class 1 Proportion': 0.5, 'Set ID': 'Set_10_Prop_0.5', 'Run Number': 1, 'Accuracy': 0.31, 'Precision': 0.15, 'Recall': 0.9230769230769231, 'F1 Score': 0.25806451612903225, 'Prediction': [1, 1, 0, 1, 0, 1, 1, 1, 1, 1, 1, 1, 0, 1, 1, 1, 1, 1, 0, 1, 1, 1, 1, 1, 1, 1, 1, 1, 1, 1, 1, 0, 1, 1, 1, 1, 0, 1, 1, 1, 0, 1, 1, 1, 0, 1, 0, 0, 1, 0, 0, 1, 0, 1, 1, 1, 1, 1, 1, 1, 1, 0, 1, 0, 1, 0, 1, 1, 1, 0, 1, 1, 1, 1, 1, 1, 1, 1, 1, 0, 0, 1, 0, 1, 1, 1, 1, 1, 1, 1, 1, 1, 1, 1, 1, 1, 1, 1, 1, 1]}\n",
      "\n",
      "Evaluating Set ID: Set_11_Prop_0.5\n"
     ]
    },
    {
     "name": "stderr",
     "output_type": "stream",
     "text": [
      "Processing predictions: 100%|██████████| 100/100 [00:09<00:00, 10.16it/s]\n",
      "/tmp/ipykernel_6833/3130949446.py:86: FutureWarning: Series.__getitem__ treating keys as positions is deprecated. In a future version, integer keys will always be treated as labels (consistent with DataFrame behavior). To access a value by position, use `ser.iloc[pos]`\n",
      "  answer = row[-1]  # Store the ground truth label\n"
     ]
    },
    {
     "name": "stdout",
     "output_type": "stream",
     "text": [
      "Num of non-numeric or invalid: 0\n",
      "Intermediate results for Run 1: {'Num Features': 10, 'Sample Size': 16, 'Class 1 Proportion': 0.5, 'Set ID': 'Set_11_Prop_0.5', 'Run Number': 1, 'Accuracy': 0.62, 'Precision': 0.14285714285714285, 'Recall': 0.38461538461538464, 'F1 Score': 0.20833333333333334, 'Prediction': [0, 0, 0, 1, 0, 1, 0, 0, 1, 1, 0, 0, 0, 0, 0, 0, 1, 0, 0, 0, 1, 0, 0, 0, 0, 1, 0, 1, 1, 0, 0, 0, 1, 0, 0, 0, 1, 1, 0, 0, 1, 1, 0, 0, 1, 0, 1, 0, 0, 0, 1, 0, 0, 1, 0, 0, 1, 0, 0, 0, 0, 0, 1, 1, 0, 0, 0, 0, 1, 0, 0, 0, 0, 1, 0, 0, 0, 1, 0, 1, 0, 1, 1, 1, 1, 0, 1, 0, 1, 1, 1, 1, 0, 1, 0, 0, 0, 0, 0, 0]}\n",
      "\n",
      "Evaluating Set ID: Set_12_Prop_0.5\n"
     ]
    },
    {
     "name": "stderr",
     "output_type": "stream",
     "text": [
      "Processing predictions: 100%|██████████| 100/100 [00:09<00:00, 10.96it/s]\n",
      "/tmp/ipykernel_6833/3130949446.py:86: FutureWarning: Series.__getitem__ treating keys as positions is deprecated. In a future version, integer keys will always be treated as labels (consistent with DataFrame behavior). To access a value by position, use `ser.iloc[pos]`\n",
      "  answer = row[-1]  # Store the ground truth label\n"
     ]
    },
    {
     "name": "stdout",
     "output_type": "stream",
     "text": [
      "Num of non-numeric or invalid: 0\n",
      "Intermediate results for Run 1: {'Num Features': 10, 'Sample Size': 16, 'Class 1 Proportion': 0.5, 'Set ID': 'Set_12_Prop_0.5', 'Run Number': 1, 'Accuracy': 0.63, 'Precision': 0.1, 'Recall': 0.23076923076923078, 'F1 Score': 0.13953488372093023, 'Prediction': [1, 0, 0, 0, 0, 1, 0, 0, 0, 0, 1, 0, 0, 0, 1, 0, 0, 1, 1, 0, 0, 0, 0, 0, 0, 1, 1, 0, 0, 0, 0, 0, 0, 1, 1, 0, 0, 1, 1, 1, 0, 1, 1, 0, 0, 0, 0, 0, 0, 0, 0, 0, 0, 0, 0, 0, 1, 0, 0, 0, 0, 0, 0, 0, 0, 0, 1, 0, 0, 0, 1, 0, 0, 0, 0, 0, 0, 0, 1, 1, 0, 0, 1, 1, 1, 1, 0, 1, 0, 0, 1, 1, 1, 0, 0, 1, 0, 0, 1, 0]}\n",
      "\n",
      "Evaluating Set ID: Set_13_Prop_0.5\n"
     ]
    },
    {
     "name": "stderr",
     "output_type": "stream",
     "text": [
      "Processing predictions: 100%|██████████| 100/100 [00:09<00:00, 10.72it/s]\n",
      "/tmp/ipykernel_6833/3130949446.py:86: FutureWarning: Series.__getitem__ treating keys as positions is deprecated. In a future version, integer keys will always be treated as labels (consistent with DataFrame behavior). To access a value by position, use `ser.iloc[pos]`\n",
      "  answer = row[-1]  # Store the ground truth label\n"
     ]
    },
    {
     "name": "stdout",
     "output_type": "stream",
     "text": [
      "Num of non-numeric or invalid: 0\n",
      "Intermediate results for Run 1: {'Num Features': 10, 'Sample Size': 16, 'Class 1 Proportion': 0.5, 'Set ID': 'Set_13_Prop_0.5', 'Run Number': 1, 'Accuracy': 0.36, 'Precision': 0.1506849315068493, 'Recall': 0.8461538461538461, 'F1 Score': 0.2558139534883721, 'Prediction': [1, 0, 0, 1, 1, 1, 1, 1, 1, 1, 0, 1, 1, 1, 0, 1, 1, 1, 1, 1, 1, 1, 1, 0, 1, 0, 1, 1, 1, 1, 1, 1, 0, 1, 1, 0, 0, 1, 1, 0, 1, 0, 1, 1, 0, 1, 0, 0, 1, 1, 1, 0, 1, 1, 1, 1, 0, 0, 1, 0, 1, 1, 0, 0, 1, 1, 1, 1, 0, 0, 0, 1, 1, 1, 1, 1, 0, 0, 1, 1, 1, 1, 1, 1, 1, 1, 1, 1, 1, 0, 1, 0, 1, 1, 1, 1, 1, 1, 1, 1]}\n",
      "\n",
      "Evaluating Set ID: Set_14_Prop_0.5\n"
     ]
    },
    {
     "name": "stderr",
     "output_type": "stream",
     "text": [
      "Processing predictions: 100%|██████████| 100/100 [00:08<00:00, 11.33it/s]\n",
      "/tmp/ipykernel_6833/3130949446.py:86: FutureWarning: Series.__getitem__ treating keys as positions is deprecated. In a future version, integer keys will always be treated as labels (consistent with DataFrame behavior). To access a value by position, use `ser.iloc[pos]`\n",
      "  answer = row[-1]  # Store the ground truth label\n"
     ]
    },
    {
     "name": "stdout",
     "output_type": "stream",
     "text": [
      "Num of non-numeric or invalid: 0\n",
      "Intermediate results for Run 1: {'Num Features': 10, 'Sample Size': 16, 'Class 1 Proportion': 0.5, 'Set ID': 'Set_14_Prop_0.5', 'Run Number': 1, 'Accuracy': 0.41, 'Precision': 0.140625, 'Recall': 0.6923076923076923, 'F1 Score': 0.23376623376623376, 'Prediction': [1, 1, 1, 1, 0, 1, 0, 0, 1, 1, 1, 1, 1, 0, 0, 0, 1, 1, 1, 1, 0, 0, 0, 1, 0, 0, 1, 1, 0, 1, 1, 0, 1, 1, 0, 1, 1, 0, 1, 1, 1, 0, 1, 1, 0, 1, 1, 0, 0, 1, 1, 1, 0, 0, 1, 1, 0, 1, 0, 0, 1, 1, 1, 0, 1, 0, 1, 0, 1, 0, 0, 1, 1, 1, 0, 1, 1, 0, 0, 1, 1, 1, 0, 1, 1, 1, 1, 1, 1, 1, 0, 1, 1, 1, 1, 0, 0, 1, 1, 1]}\n",
      "\n",
      "Evaluating Set ID: Set_15_Prop_0.5\n"
     ]
    },
    {
     "name": "stderr",
     "output_type": "stream",
     "text": [
      "Processing predictions: 100%|██████████| 100/100 [00:08<00:00, 11.81it/s]\n",
      "/tmp/ipykernel_6833/3130949446.py:86: FutureWarning: Series.__getitem__ treating keys as positions is deprecated. In a future version, integer keys will always be treated as labels (consistent with DataFrame behavior). To access a value by position, use `ser.iloc[pos]`\n",
      "  answer = row[-1]  # Store the ground truth label\n"
     ]
    },
    {
     "name": "stdout",
     "output_type": "stream",
     "text": [
      "Num of non-numeric or invalid: 0\n",
      "Intermediate results for Run 1: {'Num Features': 10, 'Sample Size': 16, 'Class 1 Proportion': 0.5, 'Set ID': 'Set_15_Prop_0.5', 'Run Number': 1, 'Accuracy': 0.54, 'Precision': 0.16326530612244897, 'Recall': 0.6153846153846154, 'F1 Score': 0.25806451612903225, 'Prediction': [0, 1, 0, 0, 0, 1, 0, 1, 1, 0, 1, 1, 1, 0, 1, 1, 1, 0, 1, 0, 0, 0, 0, 0, 0, 1, 1, 1, 1, 0, 0, 0, 0, 1, 0, 0, 1, 0, 1, 0, 1, 1, 0, 1, 1, 0, 1, 0, 0, 0, 1, 1, 0, 1, 1, 0, 0, 1, 0, 0, 1, 0, 0, 0, 0, 0, 1, 1, 0, 0, 1, 1, 0, 0, 1, 1, 0, 0, 0, 1, 0, 0, 1, 1, 1, 1, 1, 1, 0, 0, 1, 1, 0, 1, 0, 1, 0, 1, 1, 1]}\n",
      "\n",
      "Starting experiments for top 20 features...\n",
      "\n",
      "Testing with class 1 proportion: 0.1\n",
      "\n",
      "Evaluating Set ID: Set_1_Prop_0.1\n"
     ]
    },
    {
     "name": "stderr",
     "output_type": "stream",
     "text": [
      "Processing predictions: 100%|██████████| 100/100 [00:14<00:00,  6.98it/s]\n",
      "/tmp/ipykernel_6833/3130949446.py:86: FutureWarning: Series.__getitem__ treating keys as positions is deprecated. In a future version, integer keys will always be treated as labels (consistent with DataFrame behavior). To access a value by position, use `ser.iloc[pos]`\n",
      "  answer = row[-1]  # Store the ground truth label\n"
     ]
    },
    {
     "name": "stdout",
     "output_type": "stream",
     "text": [
      "Num of non-numeric or invalid: 0\n",
      "Intermediate results for Run 1: {'Num Features': 20, 'Sample Size': 16, 'Class 1 Proportion': 0.1, 'Set ID': 'Set_1_Prop_0.1', 'Run Number': 1, 'Accuracy': 0.28, 'Precision': 0.12658227848101267, 'Recall': 0.7692307692307693, 'F1 Score': 0.21739130434782608, 'Prediction': [1, 1, 1, 0, 0, 1, 1, 1, 1, 1, 1, 0, 1, 1, 0, 1, 1, 1, 1, 1, 0, 0, 1, 1, 0, 1, 1, 1, 1, 1, 1, 1, 1, 0, 0, 1, 0, 1, 1, 1, 1, 1, 0, 1, 1, 1, 0, 1, 1, 1, 1, 1, 1, 1, 0, 1, 0, 1, 1, 0, 1, 0, 1, 0, 1, 1, 0, 1, 1, 0, 1, 0, 1, 1, 0, 1, 1, 1, 1, 1, 1, 1, 1, 1, 1, 1, 1, 1, 1, 1, 1, 1, 1, 1, 1, 1, 1, 1, 1, 1]}\n",
      "\n",
      "Evaluating Set ID: Set_2_Prop_0.1\n"
     ]
    },
    {
     "name": "stderr",
     "output_type": "stream",
     "text": [
      "Processing predictions: 100%|██████████| 100/100 [00:08<00:00, 11.26it/s]\n",
      "/tmp/ipykernel_6833/3130949446.py:86: FutureWarning: Series.__getitem__ treating keys as positions is deprecated. In a future version, integer keys will always be treated as labels (consistent with DataFrame behavior). To access a value by position, use `ser.iloc[pos]`\n",
      "  answer = row[-1]  # Store the ground truth label\n"
     ]
    },
    {
     "name": "stdout",
     "output_type": "stream",
     "text": [
      "Num of non-numeric or invalid: 0\n",
      "Intermediate results for Run 1: {'Num Features': 20, 'Sample Size': 16, 'Class 1 Proportion': 0.1, 'Set ID': 'Set_2_Prop_0.1', 'Run Number': 1, 'Accuracy': 0.75, 'Precision': 0.125, 'Recall': 0.15384615384615385, 'F1 Score': 0.13793103448275862, 'Prediction': [0, 0, 1, 0, 0, 0, 0, 1, 0, 1, 0, 0, 0, 0, 0, 0, 0, 1, 0, 0, 0, 0, 0, 0, 0, 0, 1, 1, 0, 0, 0, 0, 0, 1, 0, 0, 1, 0, 0, 0, 0, 0, 0, 0, 0, 0, 0, 0, 0, 0, 0, 0, 0, 0, 0, 0, 0, 0, 0, 0, 1, 0, 0, 0, 0, 0, 0, 0, 0, 0, 1, 0, 0, 0, 0, 0, 0, 0, 0, 0, 0, 0, 1, 1, 1, 0, 1, 0, 0, 0, 1, 0, 0, 0, 0, 0, 0, 0, 1, 0]}\n",
      "\n",
      "Evaluating Set ID: Set_3_Prop_0.1\n"
     ]
    },
    {
     "name": "stderr",
     "output_type": "stream",
     "text": [
      "Processing predictions: 100%|██████████| 100/100 [00:10<00:00,  9.22it/s]\n",
      "/tmp/ipykernel_6833/3130949446.py:86: FutureWarning: Series.__getitem__ treating keys as positions is deprecated. In a future version, integer keys will always be treated as labels (consistent with DataFrame behavior). To access a value by position, use `ser.iloc[pos]`\n",
      "  answer = row[-1]  # Store the ground truth label\n"
     ]
    },
    {
     "name": "stdout",
     "output_type": "stream",
     "text": [
      "Num of non-numeric or invalid: 0\n",
      "Intermediate results for Run 1: {'Num Features': 20, 'Sample Size': 16, 'Class 1 Proportion': 0.1, 'Set ID': 'Set_3_Prop_0.1', 'Run Number': 1, 'Accuracy': 0.53, 'Precision': 0.17307692307692307, 'Recall': 0.6923076923076923, 'F1 Score': 0.27692307692307694, 'Prediction': [1, 1, 0, 0, 0, 1, 1, 1, 0, 1, 0, 1, 0, 0, 1, 0, 1, 1, 1, 1, 0, 1, 0, 0, 0, 0, 1, 1, 1, 0, 0, 1, 1, 0, 1, 0, 0, 0, 1, 1, 0, 1, 1, 0, 0, 1, 1, 0, 0, 1, 1, 0, 1, 1, 1, 1, 1, 0, 0, 1, 1, 0, 0, 1, 0, 0, 0, 1, 1, 0, 0, 1, 0, 1, 1, 0, 1, 0, 1, 0, 0, 0, 1, 1, 0, 1, 1, 0, 1, 1, 1, 1, 0, 1, 0, 0, 1, 0, 0, 0]}\n",
      "\n",
      "Evaluating Set ID: Set_4_Prop_0.1\n"
     ]
    },
    {
     "name": "stderr",
     "output_type": "stream",
     "text": [
      "Processing predictions: 100%|██████████| 100/100 [00:09<00:00, 10.70it/s]\n",
      "/tmp/ipykernel_6833/3130949446.py:86: FutureWarning: Series.__getitem__ treating keys as positions is deprecated. In a future version, integer keys will always be treated as labels (consistent with DataFrame behavior). To access a value by position, use `ser.iloc[pos]`\n",
      "  answer = row[-1]  # Store the ground truth label\n"
     ]
    },
    {
     "name": "stdout",
     "output_type": "stream",
     "text": [
      "Num of non-numeric or invalid: 0\n",
      "Intermediate results for Run 1: {'Num Features': 20, 'Sample Size': 16, 'Class 1 Proportion': 0.1, 'Set ID': 'Set_4_Prop_0.1', 'Run Number': 1, 'Accuracy': 0.7, 'Precision': 0.2571428571428571, 'Recall': 0.6923076923076923, 'F1 Score': 0.375, 'Prediction': [0, 0, 0, 1, 1, 0, 0, 0, 1, 1, 0, 1, 0, 1, 0, 1, 0, 1, 0, 0, 0, 1, 0, 0, 0, 0, 0, 1, 1, 0, 0, 0, 0, 1, 0, 0, 0, 1, 0, 0, 0, 0, 1, 0, 0, 0, 1, 0, 0, 0, 1, 1, 0, 0, 1, 0, 0, 0, 0, 0, 0, 0, 0, 0, 0, 0, 0, 0, 0, 1, 1, 1, 0, 0, 0, 0, 1, 1, 0, 0, 0, 0, 1, 0, 1, 1, 1, 0, 1, 0, 1, 0, 1, 1, 0, 1, 1, 1, 0, 1]}\n",
      "\n",
      "Evaluating Set ID: Set_5_Prop_0.1\n"
     ]
    },
    {
     "name": "stderr",
     "output_type": "stream",
     "text": [
      "Processing predictions: 100%|██████████| 100/100 [00:09<00:00, 10.62it/s]\n",
      "/tmp/ipykernel_6833/3130949446.py:86: FutureWarning: Series.__getitem__ treating keys as positions is deprecated. In a future version, integer keys will always be treated as labels (consistent with DataFrame behavior). To access a value by position, use `ser.iloc[pos]`\n",
      "  answer = row[-1]  # Store the ground truth label\n"
     ]
    },
    {
     "name": "stdout",
     "output_type": "stream",
     "text": [
      "Num of non-numeric or invalid: 0\n",
      "Intermediate results for Run 1: {'Num Features': 20, 'Sample Size': 16, 'Class 1 Proportion': 0.1, 'Set ID': 'Set_5_Prop_0.1', 'Run Number': 1, 'Accuracy': 0.67, 'Precision': 0.20588235294117646, 'Recall': 0.5384615384615384, 'F1 Score': 0.2978723404255319, 'Prediction': [1, 0, 0, 1, 1, 0, 1, 1, 1, 1, 0, 0, 0, 0, 0, 0, 0, 1, 0, 1, 0, 0, 1, 0, 0, 0, 0, 1, 1, 0, 0, 0, 0, 1, 0, 0, 0, 1, 0, 0, 0, 0, 0, 0, 1, 0, 1, 0, 1, 0, 1, 0, 0, 1, 0, 0, 1, 0, 0, 0, 0, 0, 0, 0, 0, 0, 1, 1, 0, 0, 0, 1, 0, 0, 0, 0, 0, 0, 0, 1, 0, 0, 1, 1, 0, 1, 1, 0, 1, 1, 0, 1, 1, 0, 0, 1, 0, 1, 0, 0]}\n",
      "\n",
      "Evaluating Set ID: Set_6_Prop_0.1\n"
     ]
    },
    {
     "name": "stderr",
     "output_type": "stream",
     "text": [
      "Processing predictions: 100%|██████████| 100/100 [00:10<00:00,  9.45it/s]\n",
      "/tmp/ipykernel_6833/3130949446.py:86: FutureWarning: Series.__getitem__ treating keys as positions is deprecated. In a future version, integer keys will always be treated as labels (consistent with DataFrame behavior). To access a value by position, use `ser.iloc[pos]`\n",
      "  answer = row[-1]  # Store the ground truth label\n"
     ]
    },
    {
     "name": "stdout",
     "output_type": "stream",
     "text": [
      "Num of non-numeric or invalid: 0\n",
      "Intermediate results for Run 1: {'Num Features': 20, 'Sample Size': 16, 'Class 1 Proportion': 0.1, 'Set ID': 'Set_6_Prop_0.1', 'Run Number': 1, 'Accuracy': 0.46, 'Precision': 0.16393442622950818, 'Recall': 0.7692307692307693, 'F1 Score': 0.2702702702702703, 'Prediction': [1, 1, 0, 0, 1, 0, 1, 1, 1, 0, 1, 1, 1, 0, 0, 1, 0, 1, 0, 0, 1, 0, 1, 0, 0, 0, 1, 1, 1, 0, 0, 1, 1, 1, 0, 1, 0, 0, 1, 0, 1, 0, 1, 0, 1, 1, 1, 1, 0, 0, 1, 1, 1, 1, 1, 0, 0, 0, 0, 0, 0, 1, 1, 0, 0, 1, 1, 0, 1, 1, 0, 1, 1, 1, 1, 1, 0, 0, 1, 1, 0, 1, 1, 0, 1, 1, 1, 1, 1, 0, 1, 1, 0, 1, 1, 1, 1, 1, 1, 1]}\n",
      "\n",
      "Evaluating Set ID: Set_7_Prop_0.1\n"
     ]
    },
    {
     "name": "stderr",
     "output_type": "stream",
     "text": [
      "Processing predictions: 100%|██████████| 100/100 [00:10<00:00,  9.41it/s]\n",
      "/tmp/ipykernel_6833/3130949446.py:86: FutureWarning: Series.__getitem__ treating keys as positions is deprecated. In a future version, integer keys will always be treated as labels (consistent with DataFrame behavior). To access a value by position, use `ser.iloc[pos]`\n",
      "  answer = row[-1]  # Store the ground truth label\n"
     ]
    },
    {
     "name": "stdout",
     "output_type": "stream",
     "text": [
      "Num of non-numeric or invalid: 0\n",
      "Intermediate results for Run 1: {'Num Features': 20, 'Sample Size': 16, 'Class 1 Proportion': 0.1, 'Set ID': 'Set_7_Prop_0.1', 'Run Number': 1, 'Accuracy': 0.72, 'Precision': 0.14285714285714285, 'Recall': 0.23076923076923078, 'F1 Score': 0.17647058823529413, 'Prediction': [0, 0, 0, 1, 0, 0, 0, 0, 0, 0, 0, 0, 1, 1, 0, 0, 0, 1, 0, 0, 1, 0, 0, 0, 0, 1, 0, 0, 1, 0, 0, 0, 0, 0, 0, 0, 1, 0, 0, 0, 0, 0, 0, 0, 0, 0, 0, 1, 0, 0, 0, 1, 0, 0, 0, 0, 0, 0, 0, 0, 0, 0, 0, 0, 1, 0, 0, 1, 0, 0, 0, 0, 0, 0, 0, 0, 1, 0, 0, 0, 1, 0, 0, 0, 1, 0, 1, 1, 0, 0, 0, 0, 0, 1, 1, 0, 0, 1, 0, 1]}\n",
      "\n",
      "Evaluating Set ID: Set_8_Prop_0.1\n"
     ]
    },
    {
     "name": "stderr",
     "output_type": "stream",
     "text": [
      "Processing predictions: 100%|██████████| 100/100 [00:09<00:00, 10.28it/s]\n",
      "/tmp/ipykernel_6833/3130949446.py:86: FutureWarning: Series.__getitem__ treating keys as positions is deprecated. In a future version, integer keys will always be treated as labels (consistent with DataFrame behavior). To access a value by position, use `ser.iloc[pos]`\n",
      "  answer = row[-1]  # Store the ground truth label\n"
     ]
    },
    {
     "name": "stdout",
     "output_type": "stream",
     "text": [
      "Num of non-numeric or invalid: 0\n",
      "Intermediate results for Run 1: {'Num Features': 20, 'Sample Size': 16, 'Class 1 Proportion': 0.1, 'Set ID': 'Set_8_Prop_0.1', 'Run Number': 1, 'Accuracy': 0.48, 'Precision': 0.1694915254237288, 'Recall': 0.7692307692307693, 'F1 Score': 0.2777777777777778, 'Prediction': [0, 1, 1, 0, 1, 1, 1, 0, 1, 1, 0, 1, 0, 0, 0, 1, 1, 1, 1, 0, 0, 0, 1, 0, 0, 0, 1, 1, 0, 1, 0, 0, 0, 1, 1, 1, 0, 0, 0, 1, 1, 1, 0, 0, 1, 1, 1, 1, 0, 0, 1, 1, 1, 1, 1, 0, 0, 0, 0, 1, 0, 0, 0, 1, 0, 0, 1, 1, 1, 1, 0, 1, 1, 1, 0, 1, 1, 0, 0, 1, 1, 1, 1, 0, 1, 1, 1, 1, 1, 1, 0, 0, 1, 1, 1, 1, 0, 1, 1, 1]}\n",
      "\n",
      "Evaluating Set ID: Set_9_Prop_0.1\n"
     ]
    },
    {
     "name": "stderr",
     "output_type": "stream",
     "text": [
      "Processing predictions: 100%|██████████| 100/100 [00:15<00:00,  6.41it/s]\n",
      "/tmp/ipykernel_6833/3130949446.py:86: FutureWarning: Series.__getitem__ treating keys as positions is deprecated. In a future version, integer keys will always be treated as labels (consistent with DataFrame behavior). To access a value by position, use `ser.iloc[pos]`\n",
      "  answer = row[-1]  # Store the ground truth label\n"
     ]
    },
    {
     "name": "stdout",
     "output_type": "stream",
     "text": [
      "Num of non-numeric or invalid: 0\n",
      "Intermediate results for Run 1: {'Num Features': 20, 'Sample Size': 16, 'Class 1 Proportion': 0.1, 'Set ID': 'Set_9_Prop_0.1', 'Run Number': 1, 'Accuracy': 0.22, 'Precision': 0.14285714285714285, 'Recall': 1.0, 'F1 Score': 0.25, 'Prediction': [1, 1, 1, 1, 1, 1, 0, 1, 1, 1, 1, 1, 1, 1, 1, 1, 0, 1, 1, 1, 1, 1, 1, 1, 1, 1, 1, 1, 1, 1, 1, 0, 1, 1, 0, 1, 1, 1, 1, 1, 1, 1, 1, 1, 1, 1, 1, 1, 1, 1, 1, 1, 1, 1, 0, 1, 1, 0, 1, 0, 1, 1, 0, 1, 1, 0, 1, 1, 1, 1, 1, 1, 1, 1, 1, 1, 1, 1, 1, 1, 1, 1, 1, 1, 1, 1, 1, 1, 1, 1, 1, 1, 1, 1, 1, 1, 1, 1, 1, 1]}\n",
      "\n",
      "Evaluating Set ID: Set_10_Prop_0.1\n"
     ]
    },
    {
     "name": "stderr",
     "output_type": "stream",
     "text": [
      "Processing predictions: 100%|██████████| 100/100 [00:09<00:00, 10.89it/s]\n",
      "/tmp/ipykernel_6833/3130949446.py:86: FutureWarning: Series.__getitem__ treating keys as positions is deprecated. In a future version, integer keys will always be treated as labels (consistent with DataFrame behavior). To access a value by position, use `ser.iloc[pos]`\n",
      "  answer = row[-1]  # Store the ground truth label\n"
     ]
    },
    {
     "name": "stdout",
     "output_type": "stream",
     "text": [
      "Num of non-numeric or invalid: 0\n",
      "Intermediate results for Run 1: {'Num Features': 20, 'Sample Size': 16, 'Class 1 Proportion': 0.1, 'Set ID': 'Set_10_Prop_0.1', 'Run Number': 1, 'Accuracy': 0.18, 'Precision': 0.1368421052631579, 'Recall': 1.0, 'F1 Score': 0.24074074074074073, 'Prediction': [1, 1, 1, 1, 1, 1, 1, 1, 1, 1, 1, 1, 1, 0, 1, 1, 1, 1, 1, 1, 0, 1, 1, 1, 1, 1, 1, 1, 1, 1, 1, 1, 1, 1, 1, 1, 1, 1, 0, 1, 1, 1, 1, 1, 1, 1, 1, 1, 1, 1, 1, 1, 1, 1, 1, 1, 1, 0, 1, 1, 0, 1, 1, 1, 1, 1, 1, 1, 1, 1, 1, 1, 1, 1, 1, 1, 1, 1, 1, 1, 1, 1, 1, 1, 1, 1, 1, 1, 1, 1, 1, 1, 1, 1, 1, 1, 1, 1, 1, 1]}\n",
      "\n",
      "Evaluating Set ID: Set_11_Prop_0.1\n"
     ]
    },
    {
     "name": "stderr",
     "output_type": "stream",
     "text": [
      "Processing predictions: 100%|██████████| 100/100 [00:08<00:00, 11.32it/s]\n",
      "/tmp/ipykernel_6833/3130949446.py:86: FutureWarning: Series.__getitem__ treating keys as positions is deprecated. In a future version, integer keys will always be treated as labels (consistent with DataFrame behavior). To access a value by position, use `ser.iloc[pos]`\n",
      "  answer = row[-1]  # Store the ground truth label\n"
     ]
    },
    {
     "name": "stdout",
     "output_type": "stream",
     "text": [
      "Num of non-numeric or invalid: 0\n",
      "Intermediate results for Run 1: {'Num Features': 20, 'Sample Size': 16, 'Class 1 Proportion': 0.1, 'Set ID': 'Set_11_Prop_0.1', 'Run Number': 1, 'Accuracy': 0.55, 'Precision': 0.18, 'Recall': 0.6923076923076923, 'F1 Score': 0.2857142857142857, 'Prediction': [0, 1, 0, 0, 1, 0, 1, 0, 0, 1, 1, 0, 1, 0, 0, 1, 0, 0, 1, 1, 0, 0, 0, 1, 0, 0, 1, 1, 1, 0, 0, 0, 0, 1, 1, 1, 0, 0, 1, 0, 0, 0, 0, 1, 1, 1, 1, 0, 0, 0, 0, 1, 0, 1, 1, 0, 1, 0, 0, 0, 1, 0, 0, 0, 0, 0, 0, 0, 1, 0, 0, 1, 1, 1, 0, 1, 1, 0, 1, 0, 1, 1, 1, 1, 0, 1, 1, 1, 1, 1, 1, 0, 0, 1, 1, 1, 1, 1, 1, 1]}\n",
      "\n",
      "Evaluating Set ID: Set_12_Prop_0.1\n"
     ]
    },
    {
     "name": "stderr",
     "output_type": "stream",
     "text": [
      "Processing predictions: 100%|██████████| 100/100 [00:09<00:00, 10.63it/s]\n",
      "/tmp/ipykernel_6833/3130949446.py:86: FutureWarning: Series.__getitem__ treating keys as positions is deprecated. In a future version, integer keys will always be treated as labels (consistent with DataFrame behavior). To access a value by position, use `ser.iloc[pos]`\n",
      "  answer = row[-1]  # Store the ground truth label\n"
     ]
    },
    {
     "name": "stdout",
     "output_type": "stream",
     "text": [
      "Num of non-numeric or invalid: 0\n",
      "Intermediate results for Run 1: {'Num Features': 20, 'Sample Size': 16, 'Class 1 Proportion': 0.1, 'Set ID': 'Set_12_Prop_0.1', 'Run Number': 1, 'Accuracy': 0.82, 'Precision': 0.35294117647058826, 'Recall': 0.46153846153846156, 'F1 Score': 0.4, 'Prediction': [0, 0, 0, 0, 0, 1, 0, 0, 0, 0, 0, 0, 1, 0, 0, 0, 0, 0, 0, 0, 0, 0, 0, 0, 0, 1, 1, 0, 0, 0, 0, 0, 0, 1, 0, 1, 0, 0, 0, 0, 0, 0, 0, 0, 0, 0, 1, 0, 0, 0, 0, 0, 0, 0, 1, 0, 0, 0, 0, 0, 0, 0, 0, 0, 0, 0, 0, 0, 0, 0, 0, 0, 1, 0, 0, 0, 0, 0, 0, 1, 0, 0, 0, 1, 0, 1, 0, 0, 0, 1, 0, 0, 1, 0, 0, 1, 1, 0, 1, 0]}\n",
      "\n",
      "Evaluating Set ID: Set_13_Prop_0.1\n"
     ]
    },
    {
     "name": "stderr",
     "output_type": "stream",
     "text": [
      "Processing predictions: 100%|██████████| 100/100 [00:08<00:00, 11.28it/s]\n",
      "/tmp/ipykernel_6833/3130949446.py:86: FutureWarning: Series.__getitem__ treating keys as positions is deprecated. In a future version, integer keys will always be treated as labels (consistent with DataFrame behavior). To access a value by position, use `ser.iloc[pos]`\n",
      "  answer = row[-1]  # Store the ground truth label\n"
     ]
    },
    {
     "name": "stdout",
     "output_type": "stream",
     "text": [
      "Num of non-numeric or invalid: 0\n",
      "Intermediate results for Run 1: {'Num Features': 20, 'Sample Size': 16, 'Class 1 Proportion': 0.1, 'Set ID': 'Set_13_Prop_0.1', 'Run Number': 1, 'Accuracy': 0.46, 'Precision': 0.15254237288135594, 'Recall': 0.6923076923076923, 'F1 Score': 0.25, 'Prediction': [1, 0, 0, 1, 1, 1, 1, 1, 1, 0, 1, 1, 0, 0, 0, 1, 0, 1, 1, 1, 0, 0, 0, 1, 0, 0, 1, 1, 1, 0, 0, 1, 0, 0, 0, 1, 1, 0, 1, 0, 0, 1, 0, 0, 1, 1, 1, 1, 0, 1, 0, 1, 1, 1, 1, 0, 0, 0, 1, 0, 0, 1, 0, 0, 1, 0, 1, 0, 0, 0, 1, 1, 1, 1, 1, 0, 1, 0, 1, 1, 0, 0, 1, 1, 1, 1, 1, 1, 1, 1, 0, 1, 0, 1, 1, 1, 1, 1, 1, 1]}\n",
      "\n",
      "Evaluating Set ID: Set_14_Prop_0.1\n"
     ]
    },
    {
     "name": "stderr",
     "output_type": "stream",
     "text": [
      "Processing predictions: 100%|██████████| 100/100 [00:09<00:00, 10.85it/s]\n",
      "/tmp/ipykernel_6833/3130949446.py:86: FutureWarning: Series.__getitem__ treating keys as positions is deprecated. In a future version, integer keys will always be treated as labels (consistent with DataFrame behavior). To access a value by position, use `ser.iloc[pos]`\n",
      "  answer = row[-1]  # Store the ground truth label\n"
     ]
    },
    {
     "name": "stdout",
     "output_type": "stream",
     "text": [
      "Num of non-numeric or invalid: 0\n",
      "Intermediate results for Run 1: {'Num Features': 20, 'Sample Size': 16, 'Class 1 Proportion': 0.1, 'Set ID': 'Set_14_Prop_0.1', 'Run Number': 1, 'Accuracy': 0.52, 'Precision': 0.16981132075471697, 'Recall': 0.6923076923076923, 'F1 Score': 0.2727272727272727, 'Prediction': [0, 0, 1, 1, 0, 1, 1, 1, 1, 1, 0, 0, 1, 0, 0, 0, 1, 0, 1, 1, 1, 0, 0, 0, 0, 1, 1, 0, 1, 0, 0, 0, 0, 0, 1, 0, 1, 1, 0, 1, 1, 1, 0, 1, 0, 1, 0, 0, 0, 1, 0, 1, 1, 0, 1, 1, 0, 0, 0, 1, 0, 0, 0, 0, 1, 0, 0, 1, 0, 1, 0, 1, 1, 1, 1, 0, 0, 1, 0, 1, 1, 0, 1, 1, 1, 1, 1, 1, 1, 1, 1, 0, 1, 1, 0, 0, 1, 0, 1, 1]}\n",
      "\n",
      "Evaluating Set ID: Set_15_Prop_0.1\n"
     ]
    },
    {
     "name": "stderr",
     "output_type": "stream",
     "text": [
      "Processing predictions: 100%|██████████| 100/100 [00:10<00:00,  9.42it/s]\n",
      "/tmp/ipykernel_6833/3130949446.py:86: FutureWarning: Series.__getitem__ treating keys as positions is deprecated. In a future version, integer keys will always be treated as labels (consistent with DataFrame behavior). To access a value by position, use `ser.iloc[pos]`\n",
      "  answer = row[-1]  # Store the ground truth label\n"
     ]
    },
    {
     "name": "stdout",
     "output_type": "stream",
     "text": [
      "Num of non-numeric or invalid: 0\n",
      "Intermediate results for Run 1: {'Num Features': 20, 'Sample Size': 16, 'Class 1 Proportion': 0.1, 'Set ID': 'Set_15_Prop_0.1', 'Run Number': 1, 'Accuracy': 0.53, 'Precision': 0.18518518518518517, 'Recall': 0.7692307692307693, 'F1 Score': 0.29850746268656714, 'Prediction': [0, 0, 1, 1, 0, 1, 0, 1, 0, 1, 1, 1, 0, 0, 0, 1, 1, 0, 0, 0, 0, 1, 0, 0, 0, 0, 1, 0, 1, 1, 0, 1, 0, 1, 1, 0, 0, 0, 1, 1, 0, 1, 0, 1, 1, 1, 1, 0, 0, 0, 1, 0, 1, 0, 1, 1, 0, 0, 1, 0, 0, 0, 0, 0, 1, 0, 0, 1, 0, 1, 1, 1, 1, 1, 1, 0, 1, 0, 0, 1, 0, 1, 1, 0, 1, 1, 1, 1, 1, 1, 0, 1, 1, 1, 1, 0, 1, 1, 1, 1]}\n",
      "\n",
      "Testing with class 1 proportion: 0.3\n",
      "\n",
      "Evaluating Set ID: Set_1_Prop_0.3\n"
     ]
    },
    {
     "name": "stderr",
     "output_type": "stream",
     "text": [
      "Processing predictions: 100%|██████████| 100/100 [00:09<00:00, 10.54it/s]\n",
      "/tmp/ipykernel_6833/3130949446.py:86: FutureWarning: Series.__getitem__ treating keys as positions is deprecated. In a future version, integer keys will always be treated as labels (consistent with DataFrame behavior). To access a value by position, use `ser.iloc[pos]`\n",
      "  answer = row[-1]  # Store the ground truth label\n"
     ]
    },
    {
     "name": "stdout",
     "output_type": "stream",
     "text": [
      "Num of non-numeric or invalid: 0\n",
      "Intermediate results for Run 1: {'Num Features': 20, 'Sample Size': 16, 'Class 1 Proportion': 0.3, 'Set ID': 'Set_1_Prop_0.3', 'Run Number': 1, 'Accuracy': 0.21, 'Precision': 0.0975609756097561, 'Recall': 0.6153846153846154, 'F1 Score': 0.16842105263157894, 'Prediction': [0, 1, 1, 1, 1, 0, 1, 0, 1, 1, 0, 1, 0, 1, 1, 1, 1, 1, 1, 1, 1, 1, 1, 1, 1, 1, 1, 1, 1, 1, 1, 1, 0, 0, 1, 1, 1, 1, 1, 1, 1, 1, 1, 1, 0, 1, 0, 1, 1, 1, 1, 1, 1, 1, 1, 1, 1, 1, 1, 0, 1, 1, 1, 1, 1, 1, 1, 1, 1, 1, 1, 0, 0, 0, 0, 1, 1, 1, 1, 0, 1, 1, 1, 1, 1, 1, 0, 1, 1, 1, 1, 1, 1, 1, 0, 1, 1, 0, 1, 1]}\n",
      "\n",
      "Evaluating Set ID: Set_2_Prop_0.3\n"
     ]
    },
    {
     "name": "stderr",
     "output_type": "stream",
     "text": [
      "Processing predictions: 100%|██████████| 100/100 [00:11<00:00,  8.95it/s]\n",
      "/tmp/ipykernel_6833/3130949446.py:86: FutureWarning: Series.__getitem__ treating keys as positions is deprecated. In a future version, integer keys will always be treated as labels (consistent with DataFrame behavior). To access a value by position, use `ser.iloc[pos]`\n",
      "  answer = row[-1]  # Store the ground truth label\n"
     ]
    },
    {
     "name": "stdout",
     "output_type": "stream",
     "text": [
      "Num of non-numeric or invalid: 0\n",
      "Intermediate results for Run 1: {'Num Features': 20, 'Sample Size': 16, 'Class 1 Proportion': 0.3, 'Set ID': 'Set_2_Prop_0.3', 'Run Number': 1, 'Accuracy': 0.17, 'Precision': 0.13541666666666666, 'Recall': 1.0, 'F1 Score': 0.23853211009174313, 'Prediction': [1, 1, 1, 1, 1, 1, 1, 1, 1, 1, 1, 1, 1, 1, 1, 1, 1, 1, 1, 1, 1, 1, 1, 1, 1, 1, 1, 1, 1, 1, 1, 1, 1, 1, 1, 1, 0, 1, 1, 1, 1, 1, 1, 1, 1, 1, 1, 1, 1, 1, 1, 1, 1, 1, 1, 1, 1, 1, 1, 1, 1, 1, 1, 0, 1, 1, 0, 1, 1, 1, 1, 1, 1, 1, 1, 1, 1, 1, 1, 1, 1, 1, 1, 1, 1, 1, 1, 1, 1, 1, 0, 1, 1, 1, 1, 1, 1, 1, 1, 1]}\n",
      "\n",
      "Evaluating Set ID: Set_3_Prop_0.3\n"
     ]
    },
    {
     "name": "stderr",
     "output_type": "stream",
     "text": [
      "Processing predictions: 100%|██████████| 100/100 [00:09<00:00, 10.19it/s]\n",
      "/tmp/ipykernel_6833/3130949446.py:86: FutureWarning: Series.__getitem__ treating keys as positions is deprecated. In a future version, integer keys will always be treated as labels (consistent with DataFrame behavior). To access a value by position, use `ser.iloc[pos]`\n",
      "  answer = row[-1]  # Store the ground truth label\n"
     ]
    },
    {
     "name": "stdout",
     "output_type": "stream",
     "text": [
      "Num of non-numeric or invalid: 0\n",
      "Intermediate results for Run 1: {'Num Features': 20, 'Sample Size': 16, 'Class 1 Proportion': 0.3, 'Set ID': 'Set_3_Prop_0.3', 'Run Number': 1, 'Accuracy': 0.27, 'Precision': 0.13414634146341464, 'Recall': 0.8461538461538461, 'F1 Score': 0.23157894736842105, 'Prediction': [0, 0, 1, 1, 1, 1, 1, 1, 1, 1, 0, 1, 0, 1, 1, 1, 1, 1, 1, 1, 1, 1, 1, 0, 1, 1, 1, 1, 0, 1, 1, 1, 1, 0, 1, 0, 1, 1, 1, 0, 1, 1, 1, 0, 1, 1, 1, 1, 0, 0, 1, 1, 1, 1, 1, 0, 1, 1, 1, 0, 1, 1, 0, 1, 1, 1, 1, 1, 0, 1, 1, 1, 1, 0, 1, 1, 0, 1, 1, 1, 1, 1, 1, 1, 1, 1, 1, 1, 1, 1, 1, 1, 1, 1, 1, 1, 1, 1, 1, 1]}\n",
      "\n",
      "Evaluating Set ID: Set_4_Prop_0.3\n"
     ]
    },
    {
     "name": "stderr",
     "output_type": "stream",
     "text": [
      "Processing predictions: 100%|██████████| 100/100 [00:10<00:00,  9.84it/s]\n",
      "/tmp/ipykernel_6833/3130949446.py:86: FutureWarning: Series.__getitem__ treating keys as positions is deprecated. In a future version, integer keys will always be treated as labels (consistent with DataFrame behavior). To access a value by position, use `ser.iloc[pos]`\n",
      "  answer = row[-1]  # Store the ground truth label\n"
     ]
    },
    {
     "name": "stdout",
     "output_type": "stream",
     "text": [
      "Num of non-numeric or invalid: 0\n",
      "Intermediate results for Run 1: {'Num Features': 20, 'Sample Size': 16, 'Class 1 Proportion': 0.3, 'Set ID': 'Set_4_Prop_0.3', 'Run Number': 1, 'Accuracy': 0.44, 'Precision': 0.14754098360655737, 'Recall': 0.6923076923076923, 'F1 Score': 0.24324324324324326, 'Prediction': [1, 0, 0, 1, 1, 0, 1, 1, 1, 0, 1, 1, 0, 0, 0, 1, 0, 1, 1, 1, 1, 0, 1, 0, 0, 0, 1, 1, 0, 1, 1, 0, 0, 1, 1, 0, 1, 1, 0, 1, 1, 1, 0, 0, 1, 1, 1, 1, 0, 0, 0, 0, 1, 1, 0, 0, 0, 1, 1, 1, 0, 0, 0, 0, 1, 1, 0, 1, 0, 1, 1, 1, 1, 0, 1, 0, 1, 0, 1, 1, 1, 1, 1, 1, 1, 1, 1, 1, 1, 0, 1, 1, 0, 1, 0, 1, 1, 1, 1, 0]}\n",
      "\n",
      "Evaluating Set ID: Set_5_Prop_0.3\n"
     ]
    },
    {
     "name": "stderr",
     "output_type": "stream",
     "text": [
      "Processing predictions: 100%|██████████| 100/100 [00:09<00:00, 10.96it/s]\n",
      "/tmp/ipykernel_6833/3130949446.py:86: FutureWarning: Series.__getitem__ treating keys as positions is deprecated. In a future version, integer keys will always be treated as labels (consistent with DataFrame behavior). To access a value by position, use `ser.iloc[pos]`\n",
      "  answer = row[-1]  # Store the ground truth label\n"
     ]
    },
    {
     "name": "stdout",
     "output_type": "stream",
     "text": [
      "Num of non-numeric or invalid: 0\n",
      "Intermediate results for Run 1: {'Num Features': 20, 'Sample Size': 16, 'Class 1 Proportion': 0.3, 'Set ID': 'Set_5_Prop_0.3', 'Run Number': 1, 'Accuracy': 0.48, 'Precision': 0.18032786885245902, 'Recall': 0.8461538461538461, 'F1 Score': 0.2972972972972973, 'Prediction': [1, 0, 1, 1, 0, 0, 1, 1, 0, 1, 1, 1, 1, 0, 1, 0, 0, 1, 1, 1, 0, 1, 1, 0, 0, 1, 1, 1, 0, 0, 0, 1, 0, 1, 0, 1, 1, 1, 0, 0, 1, 1, 1, 0, 1, 1, 1, 0, 0, 0, 1, 1, 0, 1, 0, 1, 1, 0, 0, 0, 0, 0, 1, 0, 0, 1, 1, 0, 0, 0, 1, 1, 1, 0, 1, 1, 1, 0, 1, 1, 0, 0, 1, 1, 1, 1, 1, 1, 1, 0, 0, 1, 1, 1, 1, 1, 1, 1, 1, 1]}\n",
      "\n",
      "Evaluating Set ID: Set_6_Prop_0.3\n"
     ]
    },
    {
     "name": "stderr",
     "output_type": "stream",
     "text": [
      "Processing predictions: 100%|██████████| 100/100 [00:08<00:00, 11.46it/s]\n",
      "/tmp/ipykernel_6833/3130949446.py:86: FutureWarning: Series.__getitem__ treating keys as positions is deprecated. In a future version, integer keys will always be treated as labels (consistent with DataFrame behavior). To access a value by position, use `ser.iloc[pos]`\n",
      "  answer = row[-1]  # Store the ground truth label\n"
     ]
    },
    {
     "name": "stdout",
     "output_type": "stream",
     "text": [
      "Num of non-numeric or invalid: 0\n",
      "Intermediate results for Run 1: {'Num Features': 20, 'Sample Size': 16, 'Class 1 Proportion': 0.3, 'Set ID': 'Set_6_Prop_0.3', 'Run Number': 1, 'Accuracy': 0.42, 'Precision': 0.14285714285714285, 'Recall': 0.6923076923076923, 'F1 Score': 0.23684210526315788, 'Prediction': [1, 1, 0, 1, 0, 1, 1, 1, 1, 0, 1, 1, 1, 0, 0, 0, 1, 1, 1, 1, 0, 0, 1, 0, 0, 0, 1, 1, 1, 0, 0, 1, 1, 1, 0, 0, 1, 0, 1, 0, 0, 0, 1, 1, 1, 1, 0, 0, 1, 1, 0, 1, 1, 1, 1, 0, 1, 0, 0, 0, 0, 1, 0, 0, 0, 1, 1, 1, 0, 1, 0, 1, 1, 1, 1, 0, 1, 0, 0, 1, 1, 1, 1, 1, 1, 1, 1, 1, 1, 0, 1, 1, 0, 1, 1, 1, 1, 1, 1, 1]}\n",
      "\n",
      "Evaluating Set ID: Set_7_Prop_0.3\n"
     ]
    },
    {
     "name": "stderr",
     "output_type": "stream",
     "text": [
      "Processing predictions: 100%|██████████| 100/100 [00:10<00:00,  9.76it/s]\n",
      "/tmp/ipykernel_6833/3130949446.py:86: FutureWarning: Series.__getitem__ treating keys as positions is deprecated. In a future version, integer keys will always be treated as labels (consistent with DataFrame behavior). To access a value by position, use `ser.iloc[pos]`\n",
      "  answer = row[-1]  # Store the ground truth label\n"
     ]
    },
    {
     "name": "stdout",
     "output_type": "stream",
     "text": [
      "Num of non-numeric or invalid: 0\n",
      "Intermediate results for Run 1: {'Num Features': 20, 'Sample Size': 16, 'Class 1 Proportion': 0.3, 'Set ID': 'Set_7_Prop_0.3', 'Run Number': 1, 'Accuracy': 0.19, 'Precision': 0.13043478260869565, 'Recall': 0.9230769230769231, 'F1 Score': 0.22857142857142856, 'Prediction': [1, 1, 0, 1, 1, 1, 0, 1, 1, 1, 1, 1, 1, 1, 1, 1, 1, 1, 1, 1, 1, 1, 1, 0, 1, 1, 1, 1, 1, 0, 1, 1, 1, 1, 1, 1, 1, 1, 1, 1, 1, 1, 1, 1, 1, 1, 1, 0, 1, 1, 1, 1, 1, 0, 1, 1, 1, 0, 1, 1, 1, 0, 1, 1, 1, 1, 1, 1, 1, 1, 1, 1, 1, 1, 1, 1, 1, 1, 1, 1, 1, 1, 1, 1, 1, 1, 1, 1, 1, 1, 1, 1, 1, 1, 1, 1, 1, 1, 1, 1]}\n",
      "\n",
      "Evaluating Set ID: Set_8_Prop_0.3\n"
     ]
    },
    {
     "name": "stderr",
     "output_type": "stream",
     "text": [
      "Processing predictions: 100%|██████████| 100/100 [00:08<00:00, 11.22it/s]\n",
      "/tmp/ipykernel_6833/3130949446.py:86: FutureWarning: Series.__getitem__ treating keys as positions is deprecated. In a future version, integer keys will always be treated as labels (consistent with DataFrame behavior). To access a value by position, use `ser.iloc[pos]`\n",
      "  answer = row[-1]  # Store the ground truth label\n"
     ]
    },
    {
     "name": "stdout",
     "output_type": "stream",
     "text": [
      "Num of non-numeric or invalid: 0\n",
      "Intermediate results for Run 1: {'Num Features': 20, 'Sample Size': 16, 'Class 1 Proportion': 0.3, 'Set ID': 'Set_8_Prop_0.3', 'Run Number': 1, 'Accuracy': 0.3, 'Precision': 0.14814814814814814, 'Recall': 0.9230769230769231, 'F1 Score': 0.2553191489361702, 'Prediction': [1, 1, 1, 1, 1, 1, 1, 1, 1, 0, 1, 1, 0, 1, 1, 1, 1, 0, 1, 1, 1, 1, 1, 1, 0, 1, 1, 1, 1, 1, 0, 1, 0, 1, 0, 1, 1, 1, 1, 1, 0, 1, 1, 1, 1, 1, 1, 1, 0, 1, 1, 1, 1, 1, 1, 0, 1, 1, 0, 1, 0, 1, 0, 0, 0, 1, 1, 1, 1, 1, 0, 1, 1, 1, 0, 1, 1, 1, 1, 1, 1, 1, 1, 1, 1, 1, 1, 1, 1, 0, 1, 1, 0, 1, 1, 1, 1, 1, 1, 1]}\n",
      "\n",
      "Evaluating Set ID: Set_9_Prop_0.3\n"
     ]
    },
    {
     "name": "stderr",
     "output_type": "stream",
     "text": [
      "Processing predictions: 100%|██████████| 100/100 [00:08<00:00, 11.81it/s]\n",
      "/tmp/ipykernel_6833/3130949446.py:86: FutureWarning: Series.__getitem__ treating keys as positions is deprecated. In a future version, integer keys will always be treated as labels (consistent with DataFrame behavior). To access a value by position, use `ser.iloc[pos]`\n",
      "  answer = row[-1]  # Store the ground truth label\n"
     ]
    },
    {
     "name": "stdout",
     "output_type": "stream",
     "text": [
      "Num of non-numeric or invalid: 0\n",
      "Intermediate results for Run 1: {'Num Features': 20, 'Sample Size': 16, 'Class 1 Proportion': 0.3, 'Set ID': 'Set_9_Prop_0.3', 'Run Number': 1, 'Accuracy': 0.47, 'Precision': 0.16666666666666666, 'Recall': 0.7692307692307693, 'F1 Score': 0.273972602739726, 'Prediction': [0, 0, 1, 1, 1, 0, 0, 1, 1, 0, 1, 1, 0, 1, 0, 0, 1, 1, 0, 1, 0, 1, 0, 1, 0, 0, 1, 1, 0, 0, 0, 1, 1, 1, 0, 1, 0, 1, 1, 0, 1, 0, 0, 0, 1, 1, 1, 1, 0, 1, 1, 0, 1, 1, 1, 0, 1, 0, 1, 1, 0, 1, 0, 0, 1, 0, 0, 1, 0, 0, 1, 1, 1, 1, 1, 1, 0, 0, 1, 1, 1, 1, 1, 0, 1, 1, 1, 1, 1, 0, 0, 1, 0, 1, 1, 1, 1, 0, 1, 1]}\n",
      "\n",
      "Evaluating Set ID: Set_10_Prop_0.3\n"
     ]
    },
    {
     "name": "stderr",
     "output_type": "stream",
     "text": [
      "Processing predictions: 100%|██████████| 100/100 [00:10<00:00,  9.92it/s]\n",
      "/tmp/ipykernel_6833/3130949446.py:86: FutureWarning: Series.__getitem__ treating keys as positions is deprecated. In a future version, integer keys will always be treated as labels (consistent with DataFrame behavior). To access a value by position, use `ser.iloc[pos]`\n",
      "  answer = row[-1]  # Store the ground truth label\n"
     ]
    },
    {
     "name": "stdout",
     "output_type": "stream",
     "text": [
      "Num of non-numeric or invalid: 0\n",
      "Intermediate results for Run 1: {'Num Features': 20, 'Sample Size': 16, 'Class 1 Proportion': 0.3, 'Set ID': 'Set_10_Prop_0.3', 'Run Number': 1, 'Accuracy': 0.28, 'Precision': 0.13580246913580246, 'Recall': 0.8461538461538461, 'F1 Score': 0.23404255319148937, 'Prediction': [0, 1, 1, 0, 1, 1, 1, 0, 0, 1, 1, 1, 1, 0, 1, 1, 1, 1, 1, 1, 1, 1, 0, 0, 1, 1, 1, 1, 1, 1, 0, 0, 1, 1, 0, 1, 1, 1, 0, 1, 1, 1, 1, 1, 1, 0, 0, 0, 1, 1, 1, 1, 1, 1, 1, 1, 1, 1, 1, 0, 1, 1, 1, 1, 1, 1, 0, 1, 1, 1, 1, 0, 1, 1, 1, 1, 1, 1, 1, 0, 1, 1, 1, 1, 1, 1, 1, 1, 1, 1, 1, 1, 1, 0, 1, 1, 1, 1, 1, 1]}\n",
      "\n",
      "Evaluating Set ID: Set_11_Prop_0.3\n"
     ]
    },
    {
     "name": "stderr",
     "output_type": "stream",
     "text": [
      "Processing predictions: 100%|██████████| 100/100 [00:08<00:00, 11.60it/s]\n",
      "/tmp/ipykernel_6833/3130949446.py:86: FutureWarning: Series.__getitem__ treating keys as positions is deprecated. In a future version, integer keys will always be treated as labels (consistent with DataFrame behavior). To access a value by position, use `ser.iloc[pos]`\n",
      "  answer = row[-1]  # Store the ground truth label\n"
     ]
    },
    {
     "name": "stdout",
     "output_type": "stream",
     "text": [
      "Num of non-numeric or invalid: 0\n",
      "Intermediate results for Run 1: {'Num Features': 20, 'Sample Size': 16, 'Class 1 Proportion': 0.3, 'Set ID': 'Set_11_Prop_0.3', 'Run Number': 1, 'Accuracy': 0.14, 'Precision': 0.13131313131313133, 'Recall': 1.0, 'F1 Score': 0.23214285714285715, 'Prediction': [1, 1, 1, 1, 1, 1, 1, 1, 1, 1, 1, 1, 1, 1, 1, 1, 1, 1, 1, 1, 1, 1, 1, 1, 1, 1, 1, 1, 1, 1, 1, 1, 1, 1, 1, 1, 1, 1, 1, 1, 1, 1, 1, 1, 1, 1, 1, 1, 1, 1, 1, 1, 1, 1, 1, 1, 1, 1, 1, 1, 1, 1, 1, 0, 1, 1, 1, 1, 1, 1, 1, 1, 1, 1, 1, 1, 1, 1, 1, 1, 1, 1, 1, 1, 1, 1, 1, 1, 1, 1, 1, 1, 1, 1, 1, 1, 1, 1, 1, 1]}\n",
      "\n",
      "Evaluating Set ID: Set_12_Prop_0.3\n"
     ]
    },
    {
     "name": "stderr",
     "output_type": "stream",
     "text": [
      "Processing predictions: 100%|██████████| 100/100 [00:08<00:00, 11.74it/s]\n",
      "/tmp/ipykernel_6833/3130949446.py:86: FutureWarning: Series.__getitem__ treating keys as positions is deprecated. In a future version, integer keys will always be treated as labels (consistent with DataFrame behavior). To access a value by position, use `ser.iloc[pos]`\n",
      "  answer = row[-1]  # Store the ground truth label\n"
     ]
    },
    {
     "name": "stdout",
     "output_type": "stream",
     "text": [
      "Num of non-numeric or invalid: 0\n",
      "Intermediate results for Run 1: {'Num Features': 20, 'Sample Size': 16, 'Class 1 Proportion': 0.3, 'Set ID': 'Set_12_Prop_0.3', 'Run Number': 1, 'Accuracy': 0.74, 'Precision': 0.15789473684210525, 'Recall': 0.23076923076923078, 'F1 Score': 0.1875, 'Prediction': [0, 0, 0, 0, 0, 1, 0, 0, 0, 0, 1, 0, 0, 0, 0, 0, 0, 0, 0, 0, 0, 0, 0, 0, 0, 0, 1, 0, 0, 0, 0, 1, 1, 0, 0, 0, 0, 1, 0, 0, 0, 0, 0, 0, 1, 0, 0, 1, 0, 0, 1, 0, 0, 0, 1, 0, 0, 0, 0, 0, 0, 0, 0, 0, 0, 1, 0, 0, 0, 0, 1, 0, 1, 0, 0, 0, 0, 0, 0, 0, 0, 0, 0, 1, 1, 0, 0, 0, 0, 1, 0, 0, 1, 0, 1, 0, 0, 0, 1, 0]}\n",
      "\n",
      "Evaluating Set ID: Set_13_Prop_0.3\n"
     ]
    },
    {
     "name": "stderr",
     "output_type": "stream",
     "text": [
      "Processing predictions: 100%|██████████| 100/100 [00:09<00:00, 10.99it/s]\n",
      "/tmp/ipykernel_6833/3130949446.py:86: FutureWarning: Series.__getitem__ treating keys as positions is deprecated. In a future version, integer keys will always be treated as labels (consistent with DataFrame behavior). To access a value by position, use `ser.iloc[pos]`\n",
      "  answer = row[-1]  # Store the ground truth label\n"
     ]
    },
    {
     "name": "stdout",
     "output_type": "stream",
     "text": [
      "Num of non-numeric or invalid: 0\n",
      "Intermediate results for Run 1: {'Num Features': 20, 'Sample Size': 16, 'Class 1 Proportion': 0.3, 'Set ID': 'Set_13_Prop_0.3', 'Run Number': 1, 'Accuracy': 0.13, 'Precision': 0.13, 'Recall': 1.0, 'F1 Score': 0.23008849557522124, 'Prediction': [1, 1, 1, 1, 1, 1, 1, 1, 1, 1, 1, 1, 1, 1, 1, 1, 1, 1, 1, 1, 1, 1, 1, 1, 1, 1, 1, 1, 1, 1, 1, 1, 1, 1, 1, 1, 1, 1, 1, 1, 1, 1, 1, 1, 1, 1, 1, 1, 1, 1, 1, 1, 1, 1, 1, 1, 1, 1, 1, 1, 1, 1, 1, 1, 1, 1, 1, 1, 1, 1, 1, 1, 1, 1, 1, 1, 1, 1, 1, 1, 1, 1, 1, 1, 1, 1, 1, 1, 1, 1, 1, 1, 1, 1, 1, 1, 1, 1, 1, 1]}\n",
      "\n",
      "Evaluating Set ID: Set_14_Prop_0.3\n"
     ]
    },
    {
     "name": "stderr",
     "output_type": "stream",
     "text": [
      "Processing predictions: 100%|██████████| 100/100 [00:09<00:00, 10.90it/s]\n",
      "/tmp/ipykernel_6833/3130949446.py:86: FutureWarning: Series.__getitem__ treating keys as positions is deprecated. In a future version, integer keys will always be treated as labels (consistent with DataFrame behavior). To access a value by position, use `ser.iloc[pos]`\n",
      "  answer = row[-1]  # Store the ground truth label\n"
     ]
    },
    {
     "name": "stdout",
     "output_type": "stream",
     "text": [
      "Num of non-numeric or invalid: 0\n",
      "Intermediate results for Run 1: {'Num Features': 20, 'Sample Size': 16, 'Class 1 Proportion': 0.3, 'Set ID': 'Set_14_Prop_0.3', 'Run Number': 1, 'Accuracy': 0.14, 'Precision': 0.13131313131313133, 'Recall': 1.0, 'F1 Score': 0.23214285714285715, 'Prediction': [1, 1, 1, 1, 1, 1, 1, 1, 1, 1, 1, 1, 1, 1, 1, 1, 1, 1, 1, 1, 1, 1, 1, 1, 1, 1, 1, 1, 1, 1, 1, 1, 1, 1, 1, 1, 1, 1, 1, 1, 1, 1, 1, 1, 1, 1, 1, 1, 1, 1, 1, 1, 1, 1, 1, 1, 1, 1, 0, 1, 1, 1, 1, 1, 1, 1, 1, 1, 1, 1, 1, 1, 1, 1, 1, 1, 1, 1, 1, 1, 1, 1, 1, 1, 1, 1, 1, 1, 1, 1, 1, 1, 1, 1, 1, 1, 1, 1, 1, 1]}\n",
      "\n",
      "Evaluating Set ID: Set_15_Prop_0.3\n"
     ]
    },
    {
     "name": "stderr",
     "output_type": "stream",
     "text": [
      "Processing predictions: 100%|██████████| 100/100 [00:08<00:00, 11.16it/s]\n",
      "/tmp/ipykernel_6833/3130949446.py:86: FutureWarning: Series.__getitem__ treating keys as positions is deprecated. In a future version, integer keys will always be treated as labels (consistent with DataFrame behavior). To access a value by position, use `ser.iloc[pos]`\n",
      "  answer = row[-1]  # Store the ground truth label\n"
     ]
    },
    {
     "name": "stdout",
     "output_type": "stream",
     "text": [
      "Num of non-numeric or invalid: 0\n",
      "Intermediate results for Run 1: {'Num Features': 20, 'Sample Size': 16, 'Class 1 Proportion': 0.3, 'Set ID': 'Set_15_Prop_0.3', 'Run Number': 1, 'Accuracy': 0.12, 'Precision': 0.12121212121212122, 'Recall': 0.9230769230769231, 'F1 Score': 0.21428571428571427, 'Prediction': [1, 1, 1, 1, 1, 1, 1, 1, 1, 1, 1, 1, 1, 1, 1, 1, 1, 1, 1, 1, 1, 1, 1, 1, 1, 1, 1, 1, 1, 1, 1, 1, 1, 1, 1, 1, 1, 1, 1, 1, 0, 1, 1, 1, 1, 1, 1, 1, 1, 1, 1, 1, 1, 1, 1, 1, 1, 1, 1, 1, 1, 1, 1, 1, 1, 1, 1, 1, 1, 1, 1, 1, 1, 1, 1, 1, 1, 1, 1, 1, 1, 1, 1, 1, 1, 1, 1, 1, 1, 1, 1, 1, 1, 1, 1, 1, 1, 1, 1, 1]}\n",
      "\n",
      "Testing with class 1 proportion: 0.5\n",
      "\n",
      "Evaluating Set ID: Set_1_Prop_0.5\n"
     ]
    },
    {
     "name": "stderr",
     "output_type": "stream",
     "text": [
      "Processing predictions: 100%|██████████| 100/100 [00:09<00:00, 10.45it/s]\n",
      "/tmp/ipykernel_6833/3130949446.py:86: FutureWarning: Series.__getitem__ treating keys as positions is deprecated. In a future version, integer keys will always be treated as labels (consistent with DataFrame behavior). To access a value by position, use `ser.iloc[pos]`\n",
      "  answer = row[-1]  # Store the ground truth label\n"
     ]
    },
    {
     "name": "stdout",
     "output_type": "stream",
     "text": [
      "Num of non-numeric or invalid: 0\n",
      "Intermediate results for Run 1: {'Num Features': 20, 'Sample Size': 16, 'Class 1 Proportion': 0.5, 'Set ID': 'Set_1_Prop_0.5', 'Run Number': 1, 'Accuracy': 0.2, 'Precision': 0.13186813186813187, 'Recall': 0.9230769230769231, 'F1 Score': 0.23076923076923078, 'Prediction': [1, 1, 1, 1, 1, 1, 1, 1, 1, 1, 1, 1, 1, 1, 1, 1, 1, 0, 1, 1, 1, 1, 1, 1, 1, 1, 1, 1, 1, 0, 1, 1, 1, 1, 1, 1, 1, 1, 1, 1, 1, 1, 1, 1, 1, 1, 1, 1, 1, 1, 1, 1, 1, 1, 0, 1, 1, 0, 1, 1, 1, 0, 1, 1, 1, 1, 1, 1, 1, 0, 1, 1, 1, 1, 1, 1, 1, 1, 1, 1, 1, 1, 1, 1, 1, 1, 1, 1, 1, 0, 1, 0, 1, 1, 1, 1, 1, 1, 1, 0]}\n",
      "\n",
      "Evaluating Set ID: Set_2_Prop_0.5\n"
     ]
    },
    {
     "name": "stderr",
     "output_type": "stream",
     "text": [
      "Processing predictions: 100%|██████████| 100/100 [00:09<00:00, 10.30it/s]\n",
      "/tmp/ipykernel_6833/3130949446.py:86: FutureWarning: Series.__getitem__ treating keys as positions is deprecated. In a future version, integer keys will always be treated as labels (consistent with DataFrame behavior). To access a value by position, use `ser.iloc[pos]`\n",
      "  answer = row[-1]  # Store the ground truth label\n"
     ]
    },
    {
     "name": "stdout",
     "output_type": "stream",
     "text": [
      "Num of non-numeric or invalid: 0\n",
      "Intermediate results for Run 1: {'Num Features': 20, 'Sample Size': 16, 'Class 1 Proportion': 0.5, 'Set ID': 'Set_2_Prop_0.5', 'Run Number': 1, 'Accuracy': 0.35, 'Precision': 0.1388888888888889, 'Recall': 0.7692307692307693, 'F1 Score': 0.23529411764705882, 'Prediction': [0, 1, 0, 1, 0, 1, 1, 1, 1, 1, 1, 1, 0, 0, 1, 1, 1, 1, 1, 1, 0, 0, 0, 1, 0, 0, 1, 1, 1, 1, 1, 1, 0, 1, 0, 1, 1, 0, 0, 1, 1, 1, 1, 0, 1, 1, 1, 0, 1, 0, 1, 1, 1, 1, 1, 1, 1, 0, 1, 1, 1, 1, 0, 0, 0, 1, 1, 1, 0, 0, 1, 1, 1, 1, 1, 1, 0, 0, 1, 0, 1, 1, 1, 1, 1, 1, 1, 1, 1, 0, 1, 0, 1, 1, 1, 1, 1, 1, 1, 1]}\n",
      "\n",
      "Evaluating Set ID: Set_3_Prop_0.5\n"
     ]
    },
    {
     "name": "stderr",
     "output_type": "stream",
     "text": [
      "Processing predictions: 100%|██████████| 100/100 [00:09<00:00, 10.65it/s]\n",
      "/tmp/ipykernel_6833/3130949446.py:86: FutureWarning: Series.__getitem__ treating keys as positions is deprecated. In a future version, integer keys will always be treated as labels (consistent with DataFrame behavior). To access a value by position, use `ser.iloc[pos]`\n",
      "  answer = row[-1]  # Store the ground truth label\n"
     ]
    },
    {
     "name": "stdout",
     "output_type": "stream",
     "text": [
      "Num of non-numeric or invalid: 0\n",
      "Intermediate results for Run 1: {'Num Features': 20, 'Sample Size': 16, 'Class 1 Proportion': 0.5, 'Set ID': 'Set_3_Prop_0.5', 'Run Number': 1, 'Accuracy': 0.37, 'Precision': 0.1323529411764706, 'Recall': 0.6923076923076923, 'F1 Score': 0.2222222222222222, 'Prediction': [0, 1, 1, 0, 0, 1, 1, 0, 1, 1, 1, 1, 1, 1, 0, 0, 1, 1, 0, 1, 1, 0, 1, 0, 0, 1, 1, 1, 1, 1, 1, 0, 1, 1, 1, 1, 0, 0, 1, 1, 0, 0, 0, 1, 1, 1, 1, 1, 0, 0, 1, 0, 1, 1, 0, 1, 0, 0, 1, 1, 1, 1, 0, 1, 0, 1, 1, 1, 1, 0, 0, 0, 1, 1, 1, 1, 1, 0, 1, 0, 1, 1, 1, 1, 0, 1, 1, 1, 1, 0, 1, 0, 1, 1, 1, 1, 1, 1, 1, 1]}\n",
      "\n",
      "Evaluating Set ID: Set_4_Prop_0.5\n"
     ]
    },
    {
     "name": "stderr",
     "output_type": "stream",
     "text": [
      "Processing predictions: 100%|██████████| 100/100 [00:09<00:00, 10.87it/s]\n",
      "/tmp/ipykernel_6833/3130949446.py:86: FutureWarning: Series.__getitem__ treating keys as positions is deprecated. In a future version, integer keys will always be treated as labels (consistent with DataFrame behavior). To access a value by position, use `ser.iloc[pos]`\n",
      "  answer = row[-1]  # Store the ground truth label\n"
     ]
    },
    {
     "name": "stdout",
     "output_type": "stream",
     "text": [
      "Num of non-numeric or invalid: 0\n",
      "Intermediate results for Run 1: {'Num Features': 20, 'Sample Size': 16, 'Class 1 Proportion': 0.5, 'Set ID': 'Set_4_Prop_0.5', 'Run Number': 1, 'Accuracy': 0.31, 'Precision': 0.14102564102564102, 'Recall': 0.8461538461538461, 'F1 Score': 0.24175824175824176, 'Prediction': [1, 0, 1, 1, 1, 1, 1, 0, 1, 1, 1, 1, 1, 1, 1, 0, 1, 1, 1, 0, 1, 1, 1, 0, 1, 0, 0, 1, 1, 1, 0, 0, 1, 1, 0, 1, 0, 1, 1, 1, 0, 1, 1, 0, 1, 1, 1, 1, 0, 1, 1, 1, 1, 1, 1, 1, 0, 1, 1, 1, 1, 1, 0, 1, 1, 0, 1, 1, 1, 0, 1, 0, 1, 1, 1, 1, 1, 0, 0, 1, 1, 1, 1, 1, 1, 1, 1, 1, 1, 1, 0, 1, 1, 1, 1, 1, 1, 1, 1, 1]}\n",
      "\n",
      "Evaluating Set ID: Set_5_Prop_0.5\n"
     ]
    },
    {
     "name": "stderr",
     "output_type": "stream",
     "text": [
      "Processing predictions: 100%|██████████| 100/100 [00:09<00:00, 10.43it/s]\n",
      "/tmp/ipykernel_6833/3130949446.py:86: FutureWarning: Series.__getitem__ treating keys as positions is deprecated. In a future version, integer keys will always be treated as labels (consistent with DataFrame behavior). To access a value by position, use `ser.iloc[pos]`\n",
      "  answer = row[-1]  # Store the ground truth label\n"
     ]
    },
    {
     "name": "stdout",
     "output_type": "stream",
     "text": [
      "Num of non-numeric or invalid: 0\n",
      "Intermediate results for Run 1: {'Num Features': 20, 'Sample Size': 16, 'Class 1 Proportion': 0.5, 'Set ID': 'Set_5_Prop_0.5', 'Run Number': 1, 'Accuracy': 0.13, 'Precision': 0.10638297872340426, 'Recall': 0.7692307692307693, 'F1 Score': 0.18691588785046728, 'Prediction': [1, 1, 1, 1, 1, 1, 1, 1, 1, 1, 1, 1, 1, 1, 1, 1, 1, 1, 1, 1, 1, 1, 0, 1, 1, 1, 1, 1, 1, 1, 1, 1, 1, 1, 1, 1, 1, 1, 1, 0, 1, 0, 1, 0, 1, 1, 1, 0, 1, 1, 1, 1, 1, 1, 1, 1, 1, 1, 1, 1, 1, 1, 1, 0, 1, 1, 1, 1, 1, 1, 1, 1, 1, 1, 1, 1, 1, 1, 1, 1, 1, 1, 1, 1, 1, 1, 1, 1, 1, 1, 1, 1, 1, 1, 1, 1, 1, 1, 1, 1]}\n",
      "\n",
      "Evaluating Set ID: Set_6_Prop_0.5\n"
     ]
    },
    {
     "name": "stderr",
     "output_type": "stream",
     "text": [
      "Processing predictions: 100%|██████████| 100/100 [00:10<00:00,  9.36it/s]\n",
      "/tmp/ipykernel_6833/3130949446.py:86: FutureWarning: Series.__getitem__ treating keys as positions is deprecated. In a future version, integer keys will always be treated as labels (consistent with DataFrame behavior). To access a value by position, use `ser.iloc[pos]`\n",
      "  answer = row[-1]  # Store the ground truth label\n"
     ]
    },
    {
     "name": "stdout",
     "output_type": "stream",
     "text": [
      "Num of non-numeric or invalid: 0\n",
      "Intermediate results for Run 1: {'Num Features': 20, 'Sample Size': 16, 'Class 1 Proportion': 0.5, 'Set ID': 'Set_6_Prop_0.5', 'Run Number': 1, 'Accuracy': 0.2, 'Precision': 0.13978494623655913, 'Recall': 1.0, 'F1 Score': 0.24528301886792453, 'Prediction': [1, 0, 1, 1, 0, 1, 1, 1, 1, 1, 1, 0, 1, 1, 1, 1, 1, 1, 1, 1, 0, 1, 1, 1, 1, 1, 1, 1, 1, 1, 1, 1, 1, 1, 1, 0, 1, 1, 1, 1, 1, 1, 1, 1, 1, 1, 1, 1, 1, 1, 0, 1, 1, 1, 1, 1, 1, 1, 1, 1, 1, 1, 1, 1, 1, 1, 1, 1, 1, 1, 1, 1, 1, 1, 1, 1, 1, 1, 1, 1, 1, 0, 1, 1, 1, 1, 1, 1, 1, 1, 1, 1, 1, 1, 1, 1, 1, 1, 1, 1]}\n",
      "\n",
      "Evaluating Set ID: Set_7_Prop_0.5\n"
     ]
    },
    {
     "name": "stderr",
     "output_type": "stream",
     "text": [
      "Processing predictions: 100%|██████████| 100/100 [00:09<00:00, 10.87it/s]\n",
      "/tmp/ipykernel_6833/3130949446.py:86: FutureWarning: Series.__getitem__ treating keys as positions is deprecated. In a future version, integer keys will always be treated as labels (consistent with DataFrame behavior). To access a value by position, use `ser.iloc[pos]`\n",
      "  answer = row[-1]  # Store the ground truth label\n"
     ]
    },
    {
     "name": "stdout",
     "output_type": "stream",
     "text": [
      "Num of non-numeric or invalid: 0\n",
      "Intermediate results for Run 1: {'Num Features': 20, 'Sample Size': 16, 'Class 1 Proportion': 0.5, 'Set ID': 'Set_7_Prop_0.5', 'Run Number': 1, 'Accuracy': 0.33, 'Precision': 0.13513513513513514, 'Recall': 0.7692307692307693, 'F1 Score': 0.22988505747126436, 'Prediction': [1, 0, 0, 1, 1, 1, 0, 1, 1, 0, 1, 1, 1, 1, 1, 0, 1, 1, 1, 1, 1, 1, 0, 0, 0, 1, 1, 0, 1, 0, 1, 0, 1, 1, 0, 1, 1, 1, 1, 1, 1, 0, 1, 1, 1, 1, 1, 1, 0, 1, 1, 1, 1, 0, 1, 0, 1, 1, 0, 1, 0, 1, 0, 0, 1, 1, 0, 1, 1, 1, 0, 1, 1, 1, 1, 1, 1, 0, 0, 1, 1, 1, 1, 1, 1, 1, 1, 1, 1, 1, 0, 1, 1, 0, 1, 1, 1, 1, 1, 1]}\n",
      "\n",
      "Evaluating Set ID: Set_8_Prop_0.5\n"
     ]
    },
    {
     "name": "stderr",
     "output_type": "stream",
     "text": [
      "Processing predictions: 100%|██████████| 100/100 [00:11<00:00,  8.35it/s]\n",
      "/tmp/ipykernel_6833/3130949446.py:86: FutureWarning: Series.__getitem__ treating keys as positions is deprecated. In a future version, integer keys will always be treated as labels (consistent with DataFrame behavior). To access a value by position, use `ser.iloc[pos]`\n",
      "  answer = row[-1]  # Store the ground truth label\n"
     ]
    },
    {
     "name": "stdout",
     "output_type": "stream",
     "text": [
      "Num of non-numeric or invalid: 0\n",
      "Intermediate results for Run 1: {'Num Features': 20, 'Sample Size': 16, 'Class 1 Proportion': 0.5, 'Set ID': 'Set_8_Prop_0.5', 'Run Number': 1, 'Accuracy': 0.2, 'Precision': 0.13186813186813187, 'Recall': 0.9230769230769231, 'F1 Score': 0.23076923076923078, 'Prediction': [1, 1, 1, 1, 1, 1, 1, 0, 1, 0, 1, 0, 1, 1, 1, 1, 1, 1, 1, 1, 1, 1, 1, 1, 1, 1, 1, 1, 1, 1, 0, 0, 1, 1, 1, 1, 1, 1, 1, 1, 0, 1, 1, 1, 1, 1, 1, 1, 1, 1, 1, 1, 1, 1, 1, 1, 1, 0, 1, 1, 1, 1, 1, 1, 0, 1, 1, 1, 1, 1, 1, 1, 1, 1, 1, 1, 0, 1, 1, 1, 1, 1, 1, 1, 1, 1, 1, 1, 1, 1, 1, 1, 1, 1, 1, 1, 1, 1, 1, 1]}\n",
      "\n",
      "Evaluating Set ID: Set_9_Prop_0.5\n"
     ]
    },
    {
     "name": "stderr",
     "output_type": "stream",
     "text": [
      "Processing predictions: 100%|██████████| 100/100 [00:10<00:00,  9.90it/s]\n",
      "/tmp/ipykernel_6833/3130949446.py:86: FutureWarning: Series.__getitem__ treating keys as positions is deprecated. In a future version, integer keys will always be treated as labels (consistent with DataFrame behavior). To access a value by position, use `ser.iloc[pos]`\n",
      "  answer = row[-1]  # Store the ground truth label\n"
     ]
    },
    {
     "name": "stdout",
     "output_type": "stream",
     "text": [
      "Num of non-numeric or invalid: 0\n",
      "Intermediate results for Run 1: {'Num Features': 20, 'Sample Size': 16, 'Class 1 Proportion': 0.5, 'Set ID': 'Set_9_Prop_0.5', 'Run Number': 1, 'Accuracy': 0.29, 'Precision': 0.1282051282051282, 'Recall': 0.7692307692307693, 'F1 Score': 0.21978021978021978, 'Prediction': [1, 0, 1, 1, 1, 0, 1, 1, 1, 0, 1, 1, 1, 1, 1, 0, 1, 1, 1, 1, 0, 0, 0, 0, 1, 0, 1, 1, 1, 0, 1, 1, 1, 1, 1, 1, 1, 0, 0, 1, 1, 1, 0, 1, 1, 1, 1, 1, 1, 1, 1, 1, 1, 1, 1, 0, 1, 0, 1, 0, 1, 0, 1, 1, 0, 1, 1, 0, 1, 1, 0, 1, 1, 1, 1, 1, 1, 1, 0, 0, 1, 1, 1, 1, 1, 1, 1, 1, 1, 1, 1, 1, 1, 1, 1, 1, 1, 1, 1, 1]}\n",
      "\n",
      "Evaluating Set ID: Set_10_Prop_0.5\n"
     ]
    },
    {
     "name": "stderr",
     "output_type": "stream",
     "text": [
      "Processing predictions: 100%|██████████| 100/100 [00:08<00:00, 11.53it/s]\n",
      "/tmp/ipykernel_6833/3130949446.py:86: FutureWarning: Series.__getitem__ treating keys as positions is deprecated. In a future version, integer keys will always be treated as labels (consistent with DataFrame behavior). To access a value by position, use `ser.iloc[pos]`\n",
      "  answer = row[-1]  # Store the ground truth label\n"
     ]
    },
    {
     "name": "stdout",
     "output_type": "stream",
     "text": [
      "Num of non-numeric or invalid: 0\n",
      "Intermediate results for Run 1: {'Num Features': 20, 'Sample Size': 16, 'Class 1 Proportion': 0.5, 'Set ID': 'Set_10_Prop_0.5', 'Run Number': 1, 'Accuracy': 0.14, 'Precision': 0.13131313131313133, 'Recall': 1.0, 'F1 Score': 0.23214285714285715, 'Prediction': [1, 1, 0, 1, 1, 1, 1, 1, 1, 1, 1, 1, 1, 1, 1, 1, 1, 1, 1, 1, 1, 1, 1, 1, 1, 1, 1, 1, 1, 1, 1, 1, 1, 1, 1, 1, 1, 1, 1, 1, 1, 1, 1, 1, 1, 1, 1, 1, 1, 1, 1, 1, 1, 1, 1, 1, 1, 1, 1, 1, 1, 1, 1, 1, 1, 1, 1, 1, 1, 1, 1, 1, 1, 1, 1, 1, 1, 1, 1, 1, 1, 1, 1, 1, 1, 1, 1, 1, 1, 1, 1, 1, 1, 1, 1, 1, 1, 1, 1, 1]}\n",
      "\n",
      "Evaluating Set ID: Set_11_Prop_0.5\n"
     ]
    },
    {
     "name": "stderr",
     "output_type": "stream",
     "text": [
      "Processing predictions: 100%|██████████| 100/100 [00:09<00:00, 10.29it/s]\n",
      "/tmp/ipykernel_6833/3130949446.py:86: FutureWarning: Series.__getitem__ treating keys as positions is deprecated. In a future version, integer keys will always be treated as labels (consistent with DataFrame behavior). To access a value by position, use `ser.iloc[pos]`\n",
      "  answer = row[-1]  # Store the ground truth label\n"
     ]
    },
    {
     "name": "stdout",
     "output_type": "stream",
     "text": [
      "Num of non-numeric or invalid: 0\n",
      "Intermediate results for Run 1: {'Num Features': 20, 'Sample Size': 16, 'Class 1 Proportion': 0.5, 'Set ID': 'Set_11_Prop_0.5', 'Run Number': 1, 'Accuracy': 0.14, 'Precision': 0.11578947368421053, 'Recall': 0.8461538461538461, 'F1 Score': 0.2037037037037037, 'Prediction': [1, 1, 1, 1, 1, 1, 1, 1, 1, 1, 1, 1, 1, 1, 1, 1, 1, 1, 1, 1, 0, 1, 1, 1, 1, 0, 1, 1, 1, 1, 1, 1, 1, 1, 1, 1, 1, 0, 1, 1, 1, 1, 1, 1, 1, 1, 1, 1, 1, 1, 1, 1, 1, 1, 1, 1, 1, 1, 0, 1, 1, 0, 1, 1, 1, 1, 1, 1, 1, 1, 1, 1, 1, 1, 1, 1, 1, 1, 1, 1, 1, 1, 1, 1, 1, 1, 1, 1, 1, 1, 1, 1, 1, 1, 1, 1, 1, 1, 1, 1]}\n",
      "\n",
      "Evaluating Set ID: Set_12_Prop_0.5\n"
     ]
    },
    {
     "name": "stderr",
     "output_type": "stream",
     "text": [
      "Processing predictions: 100%|██████████| 100/100 [00:09<00:00, 10.26it/s]\n",
      "/tmp/ipykernel_6833/3130949446.py:86: FutureWarning: Series.__getitem__ treating keys as positions is deprecated. In a future version, integer keys will always be treated as labels (consistent with DataFrame behavior). To access a value by position, use `ser.iloc[pos]`\n",
      "  answer = row[-1]  # Store the ground truth label\n"
     ]
    },
    {
     "name": "stdout",
     "output_type": "stream",
     "text": [
      "Num of non-numeric or invalid: 0\n",
      "Intermediate results for Run 1: {'Num Features': 20, 'Sample Size': 16, 'Class 1 Proportion': 0.5, 'Set ID': 'Set_12_Prop_0.5', 'Run Number': 1, 'Accuracy': 0.23, 'Precision': 0.12790697674418605, 'Recall': 0.8461538461538461, 'F1 Score': 0.2222222222222222, 'Prediction': [1, 1, 1, 0, 1, 1, 0, 1, 1, 1, 1, 1, 1, 1, 0, 1, 1, 1, 1, 1, 1, 1, 0, 0, 1, 1, 1, 1, 0, 1, 1, 1, 1, 0, 1, 1, 0, 1, 1, 1, 1, 1, 1, 1, 1, 1, 1, 0, 1, 1, 1, 1, 0, 1, 0, 1, 1, 0, 1, 1, 1, 1, 1, 1, 1, 1, 1, 1, 1, 1, 0, 1, 1, 1, 1, 1, 0, 1, 1, 1, 1, 1, 1, 1, 1, 1, 1, 1, 1, 1, 1, 1, 1, 1, 1, 1, 1, 1, 1, 1]}\n",
      "\n",
      "Evaluating Set ID: Set_13_Prop_0.5\n"
     ]
    },
    {
     "name": "stderr",
     "output_type": "stream",
     "text": [
      "Processing predictions: 100%|██████████| 100/100 [00:10<00:00,  9.87it/s]\n",
      "/tmp/ipykernel_6833/3130949446.py:86: FutureWarning: Series.__getitem__ treating keys as positions is deprecated. In a future version, integer keys will always be treated as labels (consistent with DataFrame behavior). To access a value by position, use `ser.iloc[pos]`\n",
      "  answer = row[-1]  # Store the ground truth label\n"
     ]
    },
    {
     "name": "stdout",
     "output_type": "stream",
     "text": [
      "Num of non-numeric or invalid: 0\n",
      "Intermediate results for Run 1: {'Num Features': 20, 'Sample Size': 16, 'Class 1 Proportion': 0.5, 'Set ID': 'Set_13_Prop_0.5', 'Run Number': 1, 'Accuracy': 0.23, 'Precision': 0.12790697674418605, 'Recall': 0.8461538461538461, 'F1 Score': 0.2222222222222222, 'Prediction': [1, 1, 0, 1, 1, 1, 1, 1, 0, 1, 1, 1, 1, 1, 1, 0, 1, 1, 1, 1, 1, 0, 0, 1, 1, 1, 1, 1, 1, 1, 1, 1, 1, 1, 1, 1, 1, 1, 1, 1, 0, 1, 1, 0, 1, 1, 1, 0, 1, 1, 1, 1, 1, 1, 1, 1, 1, 0, 1, 1, 0, 1, 0, 1, 1, 1, 1, 1, 1, 1, 1, 1, 1, 1, 1, 1, 1, 0, 1, 1, 1, 1, 1, 1, 1, 1, 1, 1, 1, 0, 1, 1, 0, 1, 1, 1, 1, 1, 1, 1]}\n",
      "\n",
      "Evaluating Set ID: Set_14_Prop_0.5\n"
     ]
    },
    {
     "name": "stderr",
     "output_type": "stream",
     "text": [
      "Processing predictions: 100%|██████████| 100/100 [00:09<00:00, 10.02it/s]\n",
      "/tmp/ipykernel_6833/3130949446.py:86: FutureWarning: Series.__getitem__ treating keys as positions is deprecated. In a future version, integer keys will always be treated as labels (consistent with DataFrame behavior). To access a value by position, use `ser.iloc[pos]`\n",
      "  answer = row[-1]  # Store the ground truth label\n"
     ]
    },
    {
     "name": "stdout",
     "output_type": "stream",
     "text": [
      "Num of non-numeric or invalid: 0\n",
      "Intermediate results for Run 1: {'Num Features': 20, 'Sample Size': 16, 'Class 1 Proportion': 0.5, 'Set ID': 'Set_14_Prop_0.5', 'Run Number': 1, 'Accuracy': 0.13, 'Precision': 0.13, 'Recall': 1.0, 'F1 Score': 0.23008849557522124, 'Prediction': [1, 1, 1, 1, 1, 1, 1, 1, 1, 1, 1, 1, 1, 1, 1, 1, 1, 1, 1, 1, 1, 1, 1, 1, 1, 1, 1, 1, 1, 1, 1, 1, 1, 1, 1, 1, 1, 1, 1, 1, 1, 1, 1, 1, 1, 1, 1, 1, 1, 1, 1, 1, 1, 1, 1, 1, 1, 1, 1, 1, 1, 1, 1, 1, 1, 1, 1, 1, 1, 1, 1, 1, 1, 1, 1, 1, 1, 1, 1, 1, 1, 1, 1, 1, 1, 1, 1, 1, 1, 1, 1, 1, 1, 1, 1, 1, 1, 1, 1, 1]}\n",
      "\n",
      "Evaluating Set ID: Set_15_Prop_0.5\n"
     ]
    },
    {
     "name": "stderr",
     "output_type": "stream",
     "text": [
      "Processing predictions: 100%|██████████| 100/100 [00:09<00:00, 10.36it/s]\n",
      "/tmp/ipykernel_6833/3130949446.py:86: FutureWarning: Series.__getitem__ treating keys as positions is deprecated. In a future version, integer keys will always be treated as labels (consistent with DataFrame behavior). To access a value by position, use `ser.iloc[pos]`\n",
      "  answer = row[-1]  # Store the ground truth label\n"
     ]
    },
    {
     "name": "stdout",
     "output_type": "stream",
     "text": [
      "Num of non-numeric or invalid: 0\n",
      "Intermediate results for Run 1: {'Num Features': 20, 'Sample Size': 16, 'Class 1 Proportion': 0.5, 'Set ID': 'Set_15_Prop_0.5', 'Run Number': 1, 'Accuracy': 0.7, 'Precision': 0.2571428571428571, 'Recall': 0.6923076923076923, 'F1 Score': 0.375, 'Prediction': [1, 0, 0, 0, 0, 1, 0, 1, 0, 1, 0, 1, 1, 0, 0, 0, 0, 1, 0, 0, 0, 0, 0, 0, 0, 0, 0, 1, 1, 0, 0, 0, 1, 0, 0, 0, 0, 1, 0, 0, 0, 0, 0, 1, 0, 0, 0, 1, 0, 0, 0, 0, 1, 0, 0, 0, 1, 0, 0, 1, 0, 0, 0, 0, 1, 1, 0, 0, 0, 0, 1, 1, 1, 1, 1, 0, 0, 1, 0, 1, 0, 0, 0, 1, 0, 1, 1, 1, 1, 0, 0, 0, 0, 0, 1, 1, 1, 0, 1, 1]}\n",
      "\n",
      "Starting experiments for top 30 features...\n",
      "\n",
      "Testing with class 1 proportion: 0.1\n",
      "\n",
      "Evaluating Set ID: Set_1_Prop_0.1\n"
     ]
    },
    {
     "name": "stderr",
     "output_type": "stream",
     "text": [
      "Processing predictions: 100%|██████████| 100/100 [00:09<00:00, 10.74it/s]\n",
      "/tmp/ipykernel_6833/3130949446.py:86: FutureWarning: Series.__getitem__ treating keys as positions is deprecated. In a future version, integer keys will always be treated as labels (consistent with DataFrame behavior). To access a value by position, use `ser.iloc[pos]`\n",
      "  answer = row[-1]  # Store the ground truth label\n"
     ]
    },
    {
     "name": "stdout",
     "output_type": "stream",
     "text": [
      "Num of non-numeric or invalid: 0\n",
      "Intermediate results for Run 1: {'Num Features': 30, 'Sample Size': 16, 'Class 1 Proportion': 0.1, 'Set ID': 'Set_1_Prop_0.1', 'Run Number': 1, 'Accuracy': 0.61, 'Precision': 0.19047619047619047, 'Recall': 0.6153846153846154, 'F1 Score': 0.2909090909090909, 'Prediction': [1, 1, 0, 0, 1, 1, 0, 1, 0, 1, 1, 1, 0, 1, 0, 1, 0, 1, 0, 1, 1, 0, 0, 1, 0, 1, 0, 0, 1, 0, 0, 0, 0, 0, 0, 1, 0, 0, 1, 0, 0, 0, 0, 0, 1, 1, 1, 0, 0, 0, 1, 1, 0, 1, 0, 1, 0, 0, 0, 0, 0, 0, 0, 0, 0, 1, 1, 0, 0, 0, 0, 1, 1, 0, 1, 1, 1, 0, 0, 0, 1, 0, 0, 0, 0, 1, 1, 0, 1, 0, 0, 0, 0, 1, 1, 1, 1, 1, 1, 0]}\n",
      "\n",
      "Evaluating Set ID: Set_2_Prop_0.1\n"
     ]
    },
    {
     "name": "stderr",
     "output_type": "stream",
     "text": [
      "Processing predictions: 100%|██████████| 100/100 [00:17<00:00,  5.73it/s]\n",
      "/tmp/ipykernel_6833/3130949446.py:86: FutureWarning: Series.__getitem__ treating keys as positions is deprecated. In a future version, integer keys will always be treated as labels (consistent with DataFrame behavior). To access a value by position, use `ser.iloc[pos]`\n",
      "  answer = row[-1]  # Store the ground truth label\n"
     ]
    },
    {
     "name": "stdout",
     "output_type": "stream",
     "text": [
      "Num of non-numeric or invalid: 0\n",
      "Intermediate results for Run 1: {'Num Features': 30, 'Sample Size': 16, 'Class 1 Proportion': 0.1, 'Set ID': 'Set_2_Prop_0.1', 'Run Number': 1, 'Accuracy': 0.47, 'Precision': 0.16666666666666666, 'Recall': 0.7692307692307693, 'F1 Score': 0.273972602739726, 'Prediction': [0, 1, 1, 1, 1, 0, 1, 1, 0, 1, 1, 1, 0, 1, 1, 1, 0, 0, 0, 1, 0, 0, 0, 0, 1, 1, 1, 1, 0, 0, 0, 0, 1, 0, 0, 0, 1, 1, 0, 1, 1, 0, 0, 0, 1, 1, 1, 0, 0, 1, 1, 1, 1, 1, 0, 1, 0, 0, 0, 0, 0, 1, 0, 0, 1, 1, 1, 0, 1, 0, 1, 1, 1, 1, 1, 0, 1, 0, 0, 1, 0, 1, 1, 1, 1, 1, 1, 1, 1, 1, 0, 0, 1, 1, 1, 1, 1, 1, 1, 1]}\n",
      "\n",
      "Evaluating Set ID: Set_3_Prop_0.1\n"
     ]
    },
    {
     "name": "stderr",
     "output_type": "stream",
     "text": [
      "Processing predictions: 100%|██████████| 100/100 [00:09<00:00, 10.28it/s]\n",
      "/tmp/ipykernel_6833/3130949446.py:86: FutureWarning: Series.__getitem__ treating keys as positions is deprecated. In a future version, integer keys will always be treated as labels (consistent with DataFrame behavior). To access a value by position, use `ser.iloc[pos]`\n",
      "  answer = row[-1]  # Store the ground truth label\n"
     ]
    },
    {
     "name": "stdout",
     "output_type": "stream",
     "text": [
      "Num of non-numeric or invalid: 0\n",
      "Intermediate results for Run 1: {'Num Features': 30, 'Sample Size': 16, 'Class 1 Proportion': 0.1, 'Set ID': 'Set_3_Prop_0.1', 'Run Number': 1, 'Accuracy': 0.55, 'Precision': 0.13636363636363635, 'Recall': 0.46153846153846156, 'F1 Score': 0.21052631578947367, 'Prediction': [1, 1, 1, 1, 1, 0, 1, 0, 0, 1, 1, 0, 0, 1, 0, 0, 0, 1, 1, 0, 0, 0, 0, 0, 1, 0, 1, 1, 1, 0, 0, 0, 0, 1, 1, 0, 0, 0, 0, 0, 0, 0, 1, 1, 0, 0, 1, 0, 1, 0, 1, 1, 1, 1, 0, 0, 0, 1, 0, 0, 0, 1, 0, 0, 1, 0, 0, 0, 0, 1, 0, 0, 0, 0, 1, 0, 0, 1, 0, 1, 0, 1, 1, 1, 1, 1, 1, 0, 1, 0, 0, 1, 1, 0, 1, 0, 1, 0, 1, 0]}\n",
      "\n",
      "Evaluating Set ID: Set_4_Prop_0.1\n"
     ]
    },
    {
     "name": "stderr",
     "output_type": "stream",
     "text": [
      "Processing predictions: 100%|██████████| 100/100 [00:10<00:00,  9.64it/s]\n",
      "/tmp/ipykernel_6833/3130949446.py:86: FutureWarning: Series.__getitem__ treating keys as positions is deprecated. In a future version, integer keys will always be treated as labels (consistent with DataFrame behavior). To access a value by position, use `ser.iloc[pos]`\n",
      "  answer = row[-1]  # Store the ground truth label\n"
     ]
    },
    {
     "name": "stdout",
     "output_type": "stream",
     "text": [
      "Num of non-numeric or invalid: 0\n",
      "Intermediate results for Run 1: {'Num Features': 30, 'Sample Size': 16, 'Class 1 Proportion': 0.1, 'Set ID': 'Set_4_Prop_0.1', 'Run Number': 1, 'Accuracy': 0.13, 'Precision': 0.13, 'Recall': 1.0, 'F1 Score': 0.23008849557522124, 'Prediction': [1, 1, 1, 1, 1, 1, 1, 1, 1, 1, 1, 1, 1, 1, 1, 1, 1, 1, 1, 1, 1, 1, 1, 1, 1, 1, 1, 1, 1, 1, 1, 1, 1, 1, 1, 1, 1, 1, 1, 1, 1, 1, 1, 1, 1, 1, 1, 1, 1, 1, 1, 1, 1, 1, 1, 1, 1, 1, 1, 1, 1, 1, 1, 1, 1, 1, 1, 1, 1, 1, 1, 1, 1, 1, 1, 1, 1, 1, 1, 1, 1, 1, 1, 1, 1, 1, 1, 1, 1, 1, 1, 1, 1, 1, 1, 1, 1, 1, 1, 1]}\n",
      "\n",
      "Evaluating Set ID: Set_5_Prop_0.1\n"
     ]
    },
    {
     "name": "stderr",
     "output_type": "stream",
     "text": [
      "Processing predictions: 100%|██████████| 100/100 [00:10<00:00,  9.75it/s]\n",
      "/tmp/ipykernel_6833/3130949446.py:86: FutureWarning: Series.__getitem__ treating keys as positions is deprecated. In a future version, integer keys will always be treated as labels (consistent with DataFrame behavior). To access a value by position, use `ser.iloc[pos]`\n",
      "  answer = row[-1]  # Store the ground truth label\n"
     ]
    },
    {
     "name": "stdout",
     "output_type": "stream",
     "text": [
      "Num of non-numeric or invalid: 0\n",
      "Intermediate results for Run 1: {'Num Features': 30, 'Sample Size': 16, 'Class 1 Proportion': 0.1, 'Set ID': 'Set_5_Prop_0.1', 'Run Number': 1, 'Accuracy': 0.72, 'Precision': 0.2222222222222222, 'Recall': 0.46153846153846156, 'F1 Score': 0.3, 'Prediction': [0, 0, 0, 1, 1, 0, 0, 1, 0, 0, 0, 1, 0, 1, 0, 1, 1, 0, 0, 0, 0, 0, 0, 0, 0, 0, 0, 0, 1, 0, 0, 0, 0, 0, 0, 0, 0, 0, 0, 0, 0, 0, 0, 0, 0, 0, 0, 0, 0, 1, 1, 1, 1, 0, 1, 0, 0, 0, 1, 0, 0, 0, 0, 0, 0, 1, 1, 0, 0, 1, 0, 0, 1, 0, 0, 0, 1, 0, 0, 0, 1, 0, 0, 0, 0, 1, 1, 0, 0, 1, 1, 0, 0, 1, 0, 1, 1, 0, 0, 0]}\n",
      "\n",
      "Evaluating Set ID: Set_6_Prop_0.1\n"
     ]
    },
    {
     "name": "stderr",
     "output_type": "stream",
     "text": [
      "Processing predictions: 100%|██████████| 100/100 [00:21<00:00,  4.60it/s]\n",
      "/tmp/ipykernel_6833/3130949446.py:86: FutureWarning: Series.__getitem__ treating keys as positions is deprecated. In a future version, integer keys will always be treated as labels (consistent with DataFrame behavior). To access a value by position, use `ser.iloc[pos]`\n",
      "  answer = row[-1]  # Store the ground truth label\n"
     ]
    },
    {
     "name": "stdout",
     "output_type": "stream",
     "text": [
      "Num of non-numeric or invalid: 0\n",
      "Intermediate results for Run 1: {'Num Features': 30, 'Sample Size': 16, 'Class 1 Proportion': 0.1, 'Set ID': 'Set_6_Prop_0.1', 'Run Number': 1, 'Accuracy': 0.47, 'Precision': 0.14285714285714285, 'Recall': 0.6153846153846154, 'F1 Score': 0.2318840579710145, 'Prediction': [1, 1, 0, 1, 1, 0, 0, 1, 1, 0, 1, 1, 0, 1, 0, 1, 1, 0, 1, 0, 0, 1, 1, 0, 0, 1, 1, 0, 1, 0, 1, 0, 0, 1, 0, 1, 1, 0, 0, 0, 0, 0, 0, 1, 1, 1, 1, 0, 0, 0, 1, 1, 0, 1, 0, 1, 0, 0, 0, 0, 0, 0, 0, 1, 1, 0, 0, 0, 1, 0, 1, 1, 1, 1, 0, 0, 0, 1, 1, 1, 0, 1, 1, 1, 1, 1, 1, 1, 1, 0, 1, 1, 1, 1, 1, 1, 1, 1, 0, 1]}\n",
      "\n",
      "Evaluating Set ID: Set_7_Prop_0.1\n"
     ]
    },
    {
     "name": "stderr",
     "output_type": "stream",
     "text": [
      "Processing predictions: 100%|██████████| 100/100 [00:09<00:00, 10.15it/s]\n",
      "/tmp/ipykernel_6833/3130949446.py:86: FutureWarning: Series.__getitem__ treating keys as positions is deprecated. In a future version, integer keys will always be treated as labels (consistent with DataFrame behavior). To access a value by position, use `ser.iloc[pos]`\n",
      "  answer = row[-1]  # Store the ground truth label\n"
     ]
    },
    {
     "name": "stdout",
     "output_type": "stream",
     "text": [
      "Num of non-numeric or invalid: 0\n",
      "Intermediate results for Run 1: {'Num Features': 30, 'Sample Size': 16, 'Class 1 Proportion': 0.1, 'Set ID': 'Set_7_Prop_0.1', 'Run Number': 1, 'Accuracy': 0.41, 'Precision': 0.16176470588235295, 'Recall': 0.8461538461538461, 'F1 Score': 0.2716049382716049, 'Prediction': [1, 0, 0, 1, 1, 1, 0, 1, 1, 0, 1, 1, 1, 0, 1, 0, 1, 1, 0, 1, 0, 1, 0, 0, 1, 0, 0, 1, 0, 1, 0, 1, 0, 1, 1, 0, 1, 0, 0, 1, 1, 1, 1, 0, 1, 1, 0, 1, 0, 0, 1, 1, 1, 1, 1, 0, 1, 1, 1, 1, 0, 0, 0, 0, 0, 1, 1, 1, 1, 1, 1, 1, 1, 1, 1, 1, 0, 0, 1, 1, 1, 0, 1, 0, 1, 1, 1, 1, 1, 1, 1, 1, 1, 1, 1, 1, 1, 1, 1, 1]}\n",
      "\n",
      "Evaluating Set ID: Set_8_Prop_0.1\n"
     ]
    },
    {
     "name": "stderr",
     "output_type": "stream",
     "text": [
      "Processing predictions: 100%|██████████| 100/100 [00:11<00:00,  9.05it/s]\n",
      "/tmp/ipykernel_6833/3130949446.py:86: FutureWarning: Series.__getitem__ treating keys as positions is deprecated. In a future version, integer keys will always be treated as labels (consistent with DataFrame behavior). To access a value by position, use `ser.iloc[pos]`\n",
      "  answer = row[-1]  # Store the ground truth label\n"
     ]
    },
    {
     "name": "stdout",
     "output_type": "stream",
     "text": [
      "Num of non-numeric or invalid: 0\n",
      "Intermediate results for Run 1: {'Num Features': 30, 'Sample Size': 16, 'Class 1 Proportion': 0.1, 'Set ID': 'Set_8_Prop_0.1', 'Run Number': 1, 'Accuracy': 0.6, 'Precision': 0.18604651162790697, 'Recall': 0.6153846153846154, 'F1 Score': 0.2857142857142857, 'Prediction': [0, 1, 1, 1, 0, 1, 1, 1, 0, 1, 1, 1, 0, 0, 0, 1, 1, 1, 0, 0, 0, 0, 0, 0, 0, 0, 0, 1, 0, 1, 0, 0, 1, 1, 0, 0, 1, 0, 0, 0, 0, 0, 0, 0, 1, 0, 1, 0, 0, 1, 0, 0, 0, 1, 1, 0, 0, 0, 0, 0, 1, 0, 0, 0, 1, 1, 0, 0, 1, 0, 0, 0, 1, 0, 1, 1, 1, 0, 0, 1, 1, 0, 0, 0, 1, 1, 1, 0, 1, 1, 1, 0, 0, 1, 0, 1, 1, 1, 0, 1]}\n",
      "\n",
      "Evaluating Set ID: Set_9_Prop_0.1\n"
     ]
    },
    {
     "name": "stderr",
     "output_type": "stream",
     "text": [
      "Processing predictions: 100%|██████████| 100/100 [00:10<00:00,  9.22it/s]\n",
      "/tmp/ipykernel_6833/3130949446.py:86: FutureWarning: Series.__getitem__ treating keys as positions is deprecated. In a future version, integer keys will always be treated as labels (consistent with DataFrame behavior). To access a value by position, use `ser.iloc[pos]`\n",
      "  answer = row[-1]  # Store the ground truth label\n"
     ]
    },
    {
     "name": "stdout",
     "output_type": "stream",
     "text": [
      "Num of non-numeric or invalid: 0\n",
      "Intermediate results for Run 1: {'Num Features': 30, 'Sample Size': 16, 'Class 1 Proportion': 0.1, 'Set ID': 'Set_9_Prop_0.1', 'Run Number': 1, 'Accuracy': 0.53, 'Precision': 0.18518518518518517, 'Recall': 0.7692307692307693, 'F1 Score': 0.29850746268656714, 'Prediction': [1, 1, 0, 1, 1, 0, 0, 1, 0, 1, 1, 1, 1, 0, 0, 1, 1, 1, 1, 0, 1, 0, 0, 0, 0, 1, 1, 1, 0, 0, 0, 1, 0, 0, 0, 0, 0, 0, 0, 1, 0, 0, 1, 1, 1, 1, 0, 0, 0, 0, 1, 1, 0, 1, 0, 1, 1, 0, 0, 0, 1, 0, 0, 0, 0, 1, 1, 0, 1, 0, 0, 1, 1, 0, 1, 1, 0, 0, 1, 0, 0, 1, 1, 1, 1, 1, 1, 1, 1, 1, 1, 1, 0, 0, 1, 1, 1, 1, 1, 1]}\n",
      "\n",
      "Evaluating Set ID: Set_10_Prop_0.1\n"
     ]
    },
    {
     "name": "stderr",
     "output_type": "stream",
     "text": [
      "Processing predictions: 100%|██████████| 100/100 [00:10<00:00,  9.34it/s]\n",
      "/tmp/ipykernel_6833/3130949446.py:86: FutureWarning: Series.__getitem__ treating keys as positions is deprecated. In a future version, integer keys will always be treated as labels (consistent with DataFrame behavior). To access a value by position, use `ser.iloc[pos]`\n",
      "  answer = row[-1]  # Store the ground truth label\n"
     ]
    },
    {
     "name": "stdout",
     "output_type": "stream",
     "text": [
      "Num of non-numeric or invalid: 0\n",
      "Intermediate results for Run 1: {'Num Features': 30, 'Sample Size': 16, 'Class 1 Proportion': 0.1, 'Set ID': 'Set_10_Prop_0.1', 'Run Number': 1, 'Accuracy': 0.3, 'Precision': 0.14814814814814814, 'Recall': 0.9230769230769231, 'F1 Score': 0.2553191489361702, 'Prediction': [1, 1, 1, 1, 1, 0, 1, 1, 1, 1, 1, 1, 1, 1, 1, 1, 0, 1, 0, 1, 1, 1, 0, 1, 0, 1, 1, 1, 1, 1, 1, 1, 0, 1, 1, 0, 1, 1, 1, 1, 0, 1, 1, 1, 1, 1, 1, 1, 0, 1, 1, 1, 1, 1, 0, 0, 1, 0, 1, 0, 1, 1, 0, 1, 1, 1, 1, 0, 1, 1, 0, 1, 1, 1, 1, 0, 0, 1, 1, 1, 1, 1, 1, 1, 1, 1, 1, 1, 1, 1, 1, 1, 0, 1, 1, 1, 1, 1, 1, 1]}\n",
      "\n",
      "Evaluating Set ID: Set_11_Prop_0.1\n"
     ]
    },
    {
     "name": "stderr",
     "output_type": "stream",
     "text": [
      "Processing predictions: 100%|██████████| 100/100 [00:10<00:00,  9.70it/s]\n",
      "/tmp/ipykernel_6833/3130949446.py:86: FutureWarning: Series.__getitem__ treating keys as positions is deprecated. In a future version, integer keys will always be treated as labels (consistent with DataFrame behavior). To access a value by position, use `ser.iloc[pos]`\n",
      "  answer = row[-1]  # Store the ground truth label\n"
     ]
    },
    {
     "name": "stdout",
     "output_type": "stream",
     "text": [
      "Num of non-numeric or invalid: 0\n",
      "Intermediate results for Run 1: {'Num Features': 30, 'Sample Size': 16, 'Class 1 Proportion': 0.1, 'Set ID': 'Set_11_Prop_0.1', 'Run Number': 1, 'Accuracy': 0.35, 'Precision': 0.12857142857142856, 'Recall': 0.6923076923076923, 'F1 Score': 0.21686746987951808, 'Prediction': [1, 1, 1, 1, 1, 1, 0, 0, 1, 1, 1, 1, 1, 0, 0, 1, 1, 1, 1, 0, 1, 1, 1, 0, 0, 0, 1, 1, 1, 1, 1, 0, 0, 1, 1, 1, 1, 1, 0, 1, 1, 0, 0, 0, 1, 1, 0, 1, 0, 0, 1, 1, 1, 1, 1, 0, 0, 0, 1, 1, 0, 0, 0, 0, 1, 0, 1, 1, 1, 1, 1, 1, 1, 1, 0, 0, 0, 1, 1, 1, 0, 1, 1, 1, 0, 1, 1, 1, 1, 1, 1, 1, 1, 1, 1, 1, 1, 1, 1, 1]}\n",
      "\n",
      "Evaluating Set ID: Set_12_Prop_0.1\n"
     ]
    },
    {
     "name": "stderr",
     "output_type": "stream",
     "text": [
      "Processing predictions: 100%|██████████| 100/100 [00:10<00:00,  9.87it/s]\n",
      "/tmp/ipykernel_6833/3130949446.py:86: FutureWarning: Series.__getitem__ treating keys as positions is deprecated. In a future version, integer keys will always be treated as labels (consistent with DataFrame behavior). To access a value by position, use `ser.iloc[pos]`\n",
      "  answer = row[-1]  # Store the ground truth label\n"
     ]
    },
    {
     "name": "stdout",
     "output_type": "stream",
     "text": [
      "Num of non-numeric or invalid: 0\n",
      "Intermediate results for Run 1: {'Num Features': 30, 'Sample Size': 16, 'Class 1 Proportion': 0.1, 'Set ID': 'Set_12_Prop_0.1', 'Run Number': 1, 'Accuracy': 0.64, 'Precision': 0.17142857142857143, 'Recall': 0.46153846153846156, 'F1 Score': 0.25, 'Prediction': [0, 1, 0, 1, 0, 0, 1, 1, 0, 1, 1, 1, 0, 1, 0, 1, 1, 1, 0, 0, 1, 0, 0, 0, 0, 0, 0, 1, 1, 0, 0, 0, 0, 1, 0, 1, 0, 0, 0, 0, 0, 0, 0, 0, 0, 1, 0, 0, 0, 0, 0, 0, 0, 1, 0, 0, 0, 0, 0, 0, 0, 0, 0, 0, 0, 1, 1, 0, 0, 1, 0, 1, 0, 0, 0, 0, 1, 0, 1, 0, 0, 0, 0, 1, 0, 1, 1, 1, 1, 0, 0, 0, 0, 1, 1, 1, 0, 1, 1, 1]}\n",
      "\n",
      "Evaluating Set ID: Set_13_Prop_0.1\n"
     ]
    },
    {
     "name": "stderr",
     "output_type": "stream",
     "text": [
      "Processing predictions: 100%|██████████| 100/100 [00:10<00:00,  9.24it/s]\n",
      "/tmp/ipykernel_6833/3130949446.py:86: FutureWarning: Series.__getitem__ treating keys as positions is deprecated. In a future version, integer keys will always be treated as labels (consistent with DataFrame behavior). To access a value by position, use `ser.iloc[pos]`\n",
      "  answer = row[-1]  # Store the ground truth label\n"
     ]
    },
    {
     "name": "stdout",
     "output_type": "stream",
     "text": [
      "Num of non-numeric or invalid: 0\n",
      "Intermediate results for Run 1: {'Num Features': 30, 'Sample Size': 16, 'Class 1 Proportion': 0.1, 'Set ID': 'Set_13_Prop_0.1', 'Run Number': 1, 'Accuracy': 0.35, 'Precision': 0.14864864864864866, 'Recall': 0.8461538461538461, 'F1 Score': 0.25287356321839083, 'Prediction': [0, 1, 1, 1, 1, 1, 1, 0, 1, 0, 1, 1, 0, 1, 1, 1, 1, 1, 1, 1, 1, 0, 0, 0, 1, 1, 1, 1, 1, 0, 1, 0, 1, 1, 1, 1, 1, 0, 1, 0, 0, 0, 1, 0, 1, 1, 1, 0, 0, 0, 1, 1, 1, 1, 1, 1, 1, 1, 1, 0, 1, 0, 0, 0, 0, 1, 1, 1, 1, 0, 1, 1, 1, 1, 1, 0, 0, 1, 1, 1, 1, 0, 1, 1, 1, 1, 1, 1, 1, 1, 1, 1, 1, 1, 1, 1, 1, 1, 1, 1]}\n",
      "\n",
      "Evaluating Set ID: Set_14_Prop_0.1\n"
     ]
    },
    {
     "name": "stderr",
     "output_type": "stream",
     "text": [
      "Processing predictions: 100%|██████████| 100/100 [00:10<00:00,  9.16it/s]\n",
      "/tmp/ipykernel_6833/3130949446.py:86: FutureWarning: Series.__getitem__ treating keys as positions is deprecated. In a future version, integer keys will always be treated as labels (consistent with DataFrame behavior). To access a value by position, use `ser.iloc[pos]`\n",
      "  answer = row[-1]  # Store the ground truth label\n"
     ]
    },
    {
     "name": "stdout",
     "output_type": "stream",
     "text": [
      "Num of non-numeric or invalid: 0\n",
      "Intermediate results for Run 1: {'Num Features': 30, 'Sample Size': 16, 'Class 1 Proportion': 0.1, 'Set ID': 'Set_14_Prop_0.1', 'Run Number': 1, 'Accuracy': 0.59, 'Precision': 0.1956521739130435, 'Recall': 0.6923076923076923, 'F1 Score': 0.3050847457627119, 'Prediction': [1, 0, 1, 0, 1, 0, 1, 1, 1, 0, 1, 1, 0, 1, 0, 0, 1, 1, 0, 0, 1, 1, 0, 0, 1, 0, 0, 1, 0, 1, 0, 1, 1, 0, 0, 1, 1, 0, 0, 0, 0, 0, 0, 1, 0, 0, 0, 1, 0, 1, 0, 1, 1, 0, 0, 1, 0, 0, 0, 0, 1, 0, 0, 0, 0, 1, 1, 0, 0, 1, 0, 0, 1, 1, 1, 1, 0, 0, 0, 1, 1, 0, 0, 0, 0, 1, 1, 1, 1, 0, 1, 0, 0, 0, 1, 1, 0, 1, 1, 1]}\n",
      "\n",
      "Evaluating Set ID: Set_15_Prop_0.1\n"
     ]
    },
    {
     "name": "stderr",
     "output_type": "stream",
     "text": [
      "Processing predictions: 100%|██████████| 100/100 [00:09<00:00, 10.59it/s]\n",
      "/tmp/ipykernel_6833/3130949446.py:86: FutureWarning: Series.__getitem__ treating keys as positions is deprecated. In a future version, integer keys will always be treated as labels (consistent with DataFrame behavior). To access a value by position, use `ser.iloc[pos]`\n",
      "  answer = row[-1]  # Store the ground truth label\n"
     ]
    },
    {
     "name": "stdout",
     "output_type": "stream",
     "text": [
      "Num of non-numeric or invalid: 0\n",
      "Intermediate results for Run 1: {'Num Features': 30, 'Sample Size': 16, 'Class 1 Proportion': 0.1, 'Set ID': 'Set_15_Prop_0.1', 'Run Number': 1, 'Accuracy': 0.47, 'Precision': 0.1774193548387097, 'Recall': 0.8461538461538461, 'F1 Score': 0.29333333333333333, 'Prediction': [0, 1, 1, 1, 1, 1, 0, 1, 1, 1, 1, 0, 1, 0, 0, 0, 1, 1, 0, 1, 1, 1, 0, 0, 1, 0, 1, 1, 1, 1, 0, 1, 0, 1, 1, 1, 0, 0, 0, 1, 0, 1, 0, 1, 0, 1, 1, 0, 0, 0, 0, 1, 1, 1, 1, 0, 1, 0, 1, 0, 1, 1, 0, 0, 1, 1, 0, 0, 0, 1, 0, 1, 1, 1, 0, 0, 1, 1, 0, 0, 1, 1, 0, 1, 0, 1, 1, 1, 1, 1, 1, 0, 1, 1, 1, 1, 1, 1, 1, 1]}\n",
      "\n",
      "Testing with class 1 proportion: 0.3\n",
      "\n",
      "Evaluating Set ID: Set_1_Prop_0.3\n"
     ]
    },
    {
     "name": "stderr",
     "output_type": "stream",
     "text": [
      "Processing predictions: 100%|██████████| 100/100 [00:10<00:00,  9.17it/s]\n",
      "/tmp/ipykernel_6833/3130949446.py:86: FutureWarning: Series.__getitem__ treating keys as positions is deprecated. In a future version, integer keys will always be treated as labels (consistent with DataFrame behavior). To access a value by position, use `ser.iloc[pos]`\n",
      "  answer = row[-1]  # Store the ground truth label\n"
     ]
    },
    {
     "name": "stdout",
     "output_type": "stream",
     "text": [
      "Num of non-numeric or invalid: 0\n",
      "Intermediate results for Run 1: {'Num Features': 30, 'Sample Size': 16, 'Class 1 Proportion': 0.3, 'Set ID': 'Set_1_Prop_0.3', 'Run Number': 1, 'Accuracy': 0.49, 'Precision': 0.1724137931034483, 'Recall': 0.7692307692307693, 'F1 Score': 0.28169014084507044, 'Prediction': [1, 0, 1, 1, 1, 1, 1, 0, 1, 0, 1, 1, 1, 0, 1, 0, 1, 0, 0, 1, 1, 1, 0, 0, 0, 1, 1, 0, 1, 0, 0, 0, 0, 1, 1, 0, 0, 1, 0, 0, 0, 0, 1, 0, 1, 1, 1, 0, 0, 0, 1, 1, 1, 1, 1, 0, 1, 0, 0, 0, 1, 0, 0, 0, 0, 1, 1, 1, 1, 0, 1, 1, 1, 0, 1, 1, 0, 0, 1, 1, 1, 0, 1, 1, 1, 0, 1, 1, 0, 0, 1, 1, 1, 0, 1, 1, 1, 1, 1, 1]}\n",
      "\n",
      "Evaluating Set ID: Set_2_Prop_0.3\n"
     ]
    },
    {
     "name": "stderr",
     "output_type": "stream",
     "text": [
      "Processing predictions: 100%|██████████| 100/100 [00:09<00:00, 10.58it/s]\n",
      "/tmp/ipykernel_6833/3130949446.py:86: FutureWarning: Series.__getitem__ treating keys as positions is deprecated. In a future version, integer keys will always be treated as labels (consistent with DataFrame behavior). To access a value by position, use `ser.iloc[pos]`\n",
      "  answer = row[-1]  # Store the ground truth label\n"
     ]
    },
    {
     "name": "stdout",
     "output_type": "stream",
     "text": [
      "Num of non-numeric or invalid: 0\n",
      "Intermediate results for Run 1: {'Num Features': 30, 'Sample Size': 16, 'Class 1 Proportion': 0.3, 'Set ID': 'Set_2_Prop_0.3', 'Run Number': 1, 'Accuracy': 0.18, 'Precision': 0.1368421052631579, 'Recall': 1.0, 'F1 Score': 0.24074074074074073, 'Prediction': [1, 1, 1, 1, 1, 1, 1, 1, 1, 1, 1, 1, 1, 0, 1, 1, 1, 1, 1, 1, 1, 1, 1, 1, 1, 1, 1, 1, 1, 1, 1, 0, 1, 1, 1, 1, 1, 1, 1, 0, 1, 1, 1, 1, 1, 1, 1, 1, 1, 1, 1, 1, 1, 1, 1, 1, 0, 1, 1, 1, 1, 1, 1, 1, 1, 1, 1, 1, 1, 1, 1, 1, 1, 1, 1, 1, 1, 1, 0, 1, 1, 1, 1, 1, 1, 1, 1, 1, 1, 1, 1, 1, 1, 1, 1, 1, 1, 1, 1, 1]}\n",
      "\n",
      "Evaluating Set ID: Set_3_Prop_0.3\n"
     ]
    },
    {
     "name": "stderr",
     "output_type": "stream",
     "text": [
      "Processing predictions: 100%|██████████| 100/100 [00:09<00:00, 10.49it/s]\n",
      "/tmp/ipykernel_6833/3130949446.py:86: FutureWarning: Series.__getitem__ treating keys as positions is deprecated. In a future version, integer keys will always be treated as labels (consistent with DataFrame behavior). To access a value by position, use `ser.iloc[pos]`\n",
      "  answer = row[-1]  # Store the ground truth label\n"
     ]
    },
    {
     "name": "stdout",
     "output_type": "stream",
     "text": [
      "Num of non-numeric or invalid: 0\n",
      "Intermediate results for Run 1: {'Num Features': 30, 'Sample Size': 16, 'Class 1 Proportion': 0.3, 'Set ID': 'Set_3_Prop_0.3', 'Run Number': 1, 'Accuracy': 0.13, 'Precision': 0.13, 'Recall': 1.0, 'F1 Score': 0.23008849557522124, 'Prediction': [1, 1, 1, 1, 1, 1, 1, 1, 1, 1, 1, 1, 1, 1, 1, 1, 1, 1, 1, 1, 1, 1, 1, 1, 1, 1, 1, 1, 1, 1, 1, 1, 1, 1, 1, 1, 1, 1, 1, 1, 1, 1, 1, 1, 1, 1, 1, 1, 1, 1, 1, 1, 1, 1, 1, 1, 1, 1, 1, 1, 1, 1, 1, 1, 1, 1, 1, 1, 1, 1, 1, 1, 1, 1, 1, 1, 1, 1, 1, 1, 1, 1, 1, 1, 1, 1, 1, 1, 1, 1, 1, 1, 1, 1, 1, 1, 1, 1, 1, 1]}\n",
      "\n",
      "Evaluating Set ID: Set_4_Prop_0.3\n"
     ]
    },
    {
     "name": "stderr",
     "output_type": "stream",
     "text": [
      "Processing predictions: 100%|██████████| 100/100 [00:10<00:00,  9.94it/s]\n",
      "/tmp/ipykernel_6833/3130949446.py:86: FutureWarning: Series.__getitem__ treating keys as positions is deprecated. In a future version, integer keys will always be treated as labels (consistent with DataFrame behavior). To access a value by position, use `ser.iloc[pos]`\n",
      "  answer = row[-1]  # Store the ground truth label\n"
     ]
    },
    {
     "name": "stdout",
     "output_type": "stream",
     "text": [
      "Num of non-numeric or invalid: 0\n",
      "Intermediate results for Run 1: {'Num Features': 30, 'Sample Size': 16, 'Class 1 Proportion': 0.3, 'Set ID': 'Set_4_Prop_0.3', 'Run Number': 1, 'Accuracy': 0.24, 'Precision': 0.14606741573033707, 'Recall': 1.0, 'F1 Score': 0.2549019607843137, 'Prediction': [1, 1, 1, 1, 1, 0, 1, 1, 1, 0, 1, 1, 0, 1, 1, 1, 1, 1, 1, 0, 1, 1, 1, 1, 1, 1, 0, 1, 1, 1, 0, 0, 1, 1, 0, 1, 1, 1, 1, 1, 0, 1, 1, 1, 1, 0, 1, 1, 1, 1, 1, 1, 1, 1, 1, 1, 1, 1, 1, 1, 1, 1, 1, 1, 1, 1, 1, 1, 1, 1, 1, 1, 1, 0, 1, 1, 1, 1, 1, 1, 1, 1, 1, 1, 1, 1, 1, 1, 1, 1, 1, 1, 1, 1, 1, 1, 1, 1, 1, 1]}\n",
      "\n",
      "Evaluating Set ID: Set_5_Prop_0.3\n"
     ]
    },
    {
     "name": "stderr",
     "output_type": "stream",
     "text": [
      "Processing predictions: 100%|██████████| 100/100 [00:09<00:00, 10.08it/s]\n",
      "/tmp/ipykernel_6833/3130949446.py:86: FutureWarning: Series.__getitem__ treating keys as positions is deprecated. In a future version, integer keys will always be treated as labels (consistent with DataFrame behavior). To access a value by position, use `ser.iloc[pos]`\n",
      "  answer = row[-1]  # Store the ground truth label\n"
     ]
    },
    {
     "name": "stdout",
     "output_type": "stream",
     "text": [
      "Num of non-numeric or invalid: 0\n",
      "Intermediate results for Run 1: {'Num Features': 30, 'Sample Size': 16, 'Class 1 Proportion': 0.3, 'Set ID': 'Set_5_Prop_0.3', 'Run Number': 1, 'Accuracy': 0.18, 'Precision': 0.1368421052631579, 'Recall': 1.0, 'F1 Score': 0.24074074074074073, 'Prediction': [1, 1, 1, 1, 1, 1, 1, 1, 0, 1, 1, 1, 1, 1, 1, 1, 1, 1, 1, 1, 1, 1, 1, 1, 0, 1, 1, 1, 1, 1, 1, 1, 0, 1, 1, 1, 1, 1, 1, 0, 1, 1, 1, 1, 1, 1, 1, 1, 1, 1, 1, 1, 1, 1, 1, 1, 1, 1, 1, 1, 1, 1, 1, 1, 0, 1, 1, 1, 1, 1, 1, 1, 1, 1, 1, 1, 1, 1, 1, 1, 1, 1, 1, 1, 1, 1, 1, 1, 1, 1, 1, 1, 1, 1, 1, 1, 1, 1, 1, 1]}\n",
      "\n",
      "Evaluating Set ID: Set_6_Prop_0.3\n"
     ]
    },
    {
     "name": "stderr",
     "output_type": "stream",
     "text": [
      "Processing predictions: 100%|██████████| 100/100 [00:09<00:00, 10.75it/s]\n",
      "/tmp/ipykernel_6833/3130949446.py:86: FutureWarning: Series.__getitem__ treating keys as positions is deprecated. In a future version, integer keys will always be treated as labels (consistent with DataFrame behavior). To access a value by position, use `ser.iloc[pos]`\n",
      "  answer = row[-1]  # Store the ground truth label\n"
     ]
    },
    {
     "name": "stdout",
     "output_type": "stream",
     "text": [
      "Num of non-numeric or invalid: 0\n",
      "Intermediate results for Run 1: {'Num Features': 30, 'Sample Size': 16, 'Class 1 Proportion': 0.3, 'Set ID': 'Set_6_Prop_0.3', 'Run Number': 1, 'Accuracy': 0.18, 'Precision': 0.12903225806451613, 'Recall': 0.9230769230769231, 'F1 Score': 0.22641509433962265, 'Prediction': [1, 1, 1, 1, 0, 1, 1, 1, 1, 0, 1, 1, 1, 1, 1, 1, 1, 1, 1, 1, 1, 1, 0, 1, 1, 0, 1, 1, 1, 1, 1, 0, 1, 1, 1, 1, 1, 1, 1, 1, 1, 1, 1, 1, 0, 1, 1, 1, 1, 1, 1, 1, 1, 1, 1, 1, 1, 1, 1, 1, 1, 1, 1, 1, 0, 1, 1, 1, 1, 1, 1, 1, 1, 1, 1, 1, 1, 1, 1, 1, 1, 1, 1, 1, 1, 1, 1, 1, 1, 1, 1, 1, 1, 1, 1, 1, 1, 1, 1, 1]}\n",
      "\n",
      "Evaluating Set ID: Set_7_Prop_0.3\n"
     ]
    },
    {
     "name": "stderr",
     "output_type": "stream",
     "text": [
      "Processing predictions: 100%|██████████| 100/100 [00:08<00:00, 11.24it/s]\n",
      "/tmp/ipykernel_6833/3130949446.py:86: FutureWarning: Series.__getitem__ treating keys as positions is deprecated. In a future version, integer keys will always be treated as labels (consistent with DataFrame behavior). To access a value by position, use `ser.iloc[pos]`\n",
      "  answer = row[-1]  # Store the ground truth label\n"
     ]
    },
    {
     "name": "stdout",
     "output_type": "stream",
     "text": [
      "Num of non-numeric or invalid: 0\n",
      "Intermediate results for Run 1: {'Num Features': 30, 'Sample Size': 16, 'Class 1 Proportion': 0.3, 'Set ID': 'Set_7_Prop_0.3', 'Run Number': 1, 'Accuracy': 0.37, 'Precision': 0.14285714285714285, 'Recall': 0.7692307692307693, 'F1 Score': 0.24096385542168675, 'Prediction': [1, 1, 1, 0, 1, 1, 0, 1, 1, 1, 1, 1, 1, 0, 1, 1, 1, 1, 1, 1, 1, 0, 0, 0, 1, 1, 1, 0, 1, 1, 1, 0, 0, 1, 1, 1, 0, 1, 1, 0, 0, 1, 0, 0, 1, 1, 0, 0, 0, 1, 1, 1, 1, 1, 1, 1, 1, 0, 1, 0, 0, 1, 0, 0, 1, 0, 1, 0, 1, 1, 1, 1, 1, 1, 1, 1, 0, 0, 0, 0, 1, 1, 1, 1, 0, 1, 1, 1, 1, 1, 1, 1, 0, 1, 1, 1, 1, 1, 1, 1]}\n",
      "\n",
      "Evaluating Set ID: Set_8_Prop_0.3\n"
     ]
    },
    {
     "name": "stderr",
     "output_type": "stream",
     "text": [
      "Processing predictions: 100%|██████████| 100/100 [00:17<00:00,  5.83it/s]\n",
      "/tmp/ipykernel_6833/3130949446.py:86: FutureWarning: Series.__getitem__ treating keys as positions is deprecated. In a future version, integer keys will always be treated as labels (consistent with DataFrame behavior). To access a value by position, use `ser.iloc[pos]`\n",
      "  answer = row[-1]  # Store the ground truth label\n"
     ]
    },
    {
     "name": "stdout",
     "output_type": "stream",
     "text": [
      "Num of non-numeric or invalid: 0\n",
      "Intermediate results for Run 1: {'Num Features': 30, 'Sample Size': 16, 'Class 1 Proportion': 0.3, 'Set ID': 'Set_8_Prop_0.3', 'Run Number': 1, 'Accuracy': 0.23, 'Precision': 0.11904761904761904, 'Recall': 0.7692307692307693, 'F1 Score': 0.20618556701030927, 'Prediction': [1, 0, 1, 1, 1, 1, 1, 1, 1, 1, 1, 1, 1, 1, 0, 0, 1, 1, 1, 1, 0, 1, 1, 0, 0, 1, 1, 1, 1, 1, 1, 1, 1, 1, 1, 1, 1, 1, 1, 0, 1, 0, 1, 1, 1, 1, 1, 1, 0, 0, 1, 1, 1, 1, 1, 1, 1, 1, 1, 0, 0, 1, 0, 1, 1, 1, 1, 1, 1, 1, 1, 1, 1, 1, 1, 0, 0, 1, 0, 1, 1, 1, 1, 1, 1, 1, 1, 1, 1, 1, 1, 1, 1, 1, 1, 1, 1, 1, 1, 1]}\n",
      "\n",
      "Evaluating Set ID: Set_9_Prop_0.3\n"
     ]
    },
    {
     "name": "stderr",
     "output_type": "stream",
     "text": [
      "Processing predictions: 100%|██████████| 100/100 [00:16<00:00,  6.24it/s]\n",
      "/tmp/ipykernel_6833/3130949446.py:86: FutureWarning: Series.__getitem__ treating keys as positions is deprecated. In a future version, integer keys will always be treated as labels (consistent with DataFrame behavior). To access a value by position, use `ser.iloc[pos]`\n",
      "  answer = row[-1]  # Store the ground truth label\n"
     ]
    },
    {
     "name": "stdout",
     "output_type": "stream",
     "text": [
      "Num of non-numeric or invalid: 0\n",
      "Intermediate results for Run 1: {'Num Features': 30, 'Sample Size': 16, 'Class 1 Proportion': 0.3, 'Set ID': 'Set_9_Prop_0.3', 'Run Number': 1, 'Accuracy': 0.33, 'Precision': 0.14473684210526316, 'Recall': 0.8461538461538461, 'F1 Score': 0.24719101123595505, 'Prediction': [1, 1, 0, 1, 1, 1, 0, 1, 1, 1, 1, 0, 1, 1, 1, 1, 1, 0, 1, 1, 1, 1, 0, 1, 1, 1, 1, 1, 1, 1, 0, 0, 1, 1, 0, 1, 0, 1, 0, 0, 1, 0, 1, 1, 1, 1, 1, 0, 0, 1, 1, 1, 1, 1, 1, 1, 0, 0, 0, 1, 1, 0, 0, 1, 0, 1, 1, 1, 1, 1, 1, 1, 1, 1, 0, 1, 1, 0, 1, 0, 1, 1, 1, 1, 1, 1, 1, 1, 1, 1, 1, 0, 1, 1, 1, 1, 1, 1, 1, 1]}\n",
      "\n",
      "Evaluating Set ID: Set_10_Prop_0.3\n"
     ]
    },
    {
     "name": "stderr",
     "output_type": "stream",
     "text": [
      "Processing predictions: 100%|██████████| 100/100 [00:09<00:00, 10.42it/s]\n",
      "/tmp/ipykernel_6833/3130949446.py:86: FutureWarning: Series.__getitem__ treating keys as positions is deprecated. In a future version, integer keys will always be treated as labels (consistent with DataFrame behavior). To access a value by position, use `ser.iloc[pos]`\n",
      "  answer = row[-1]  # Store the ground truth label\n"
     ]
    },
    {
     "name": "stdout",
     "output_type": "stream",
     "text": [
      "Num of non-numeric or invalid: 0\n",
      "Intermediate results for Run 1: {'Num Features': 30, 'Sample Size': 16, 'Class 1 Proportion': 0.3, 'Set ID': 'Set_10_Prop_0.3', 'Run Number': 1, 'Accuracy': 0.45, 'Precision': 0.16129032258064516, 'Recall': 0.7692307692307693, 'F1 Score': 0.26666666666666666, 'Prediction': [1, 0, 1, 1, 1, 1, 0, 1, 0, 1, 1, 1, 0, 1, 1, 1, 1, 0, 1, 1, 1, 0, 1, 0, 1, 0, 0, 1, 1, 0, 1, 0, 0, 1, 1, 0, 0, 1, 1, 0, 0, 0, 0, 1, 1, 1, 1, 0, 0, 0, 0, 1, 1, 0, 1, 1, 1, 0, 0, 1, 0, 0, 0, 0, 0, 1, 1, 1, 0, 1, 1, 0, 1, 1, 1, 0, 1, 0, 1, 0, 1, 0, 1, 1, 0, 1, 1, 1, 1, 1, 1, 1, 1, 1, 1, 1, 1, 0, 1, 1]}\n",
      "\n",
      "Evaluating Set ID: Set_11_Prop_0.3\n"
     ]
    },
    {
     "name": "stderr",
     "output_type": "stream",
     "text": [
      "Processing predictions: 100%|██████████| 100/100 [00:13<00:00,  7.56it/s]\n",
      "/tmp/ipykernel_6833/3130949446.py:86: FutureWarning: Series.__getitem__ treating keys as positions is deprecated. In a future version, integer keys will always be treated as labels (consistent with DataFrame behavior). To access a value by position, use `ser.iloc[pos]`\n",
      "  answer = row[-1]  # Store the ground truth label\n"
     ]
    },
    {
     "name": "stdout",
     "output_type": "stream",
     "text": [
      "Num of non-numeric or invalid: 0\n",
      "Intermediate results for Run 1: {'Num Features': 30, 'Sample Size': 16, 'Class 1 Proportion': 0.3, 'Set ID': 'Set_11_Prop_0.3', 'Run Number': 1, 'Accuracy': 0.13, 'Precision': 0.11458333333333333, 'Recall': 0.8461538461538461, 'F1 Score': 0.2018348623853211, 'Prediction': [1, 1, 1, 1, 1, 1, 1, 1, 1, 1, 1, 1, 1, 1, 1, 1, 1, 1, 1, 1, 1, 1, 0, 1, 1, 0, 1, 1, 1, 1, 1, 1, 1, 1, 1, 1, 1, 1, 1, 0, 1, 1, 1, 1, 1, 1, 1, 1, 1, 1, 1, 1, 1, 1, 1, 1, 1, 1, 1, 1, 1, 1, 1, 0, 1, 1, 1, 1, 1, 1, 1, 1, 1, 1, 1, 1, 1, 1, 1, 1, 1, 1, 1, 1, 1, 1, 1, 1, 1, 1, 1, 1, 1, 1, 1, 1, 1, 1, 1, 1]}\n",
      "\n",
      "Evaluating Set ID: Set_12_Prop_0.3\n"
     ]
    },
    {
     "name": "stderr",
     "output_type": "stream",
     "text": [
      "Processing predictions: 100%|██████████| 100/100 [00:09<00:00, 10.30it/s]\n",
      "/tmp/ipykernel_6833/3130949446.py:86: FutureWarning: Series.__getitem__ treating keys as positions is deprecated. In a future version, integer keys will always be treated as labels (consistent with DataFrame behavior). To access a value by position, use `ser.iloc[pos]`\n",
      "  answer = row[-1]  # Store the ground truth label\n"
     ]
    },
    {
     "name": "stdout",
     "output_type": "stream",
     "text": [
      "Num of non-numeric or invalid: 0\n",
      "Intermediate results for Run 1: {'Num Features': 30, 'Sample Size': 16, 'Class 1 Proportion': 0.3, 'Set ID': 'Set_12_Prop_0.3', 'Run Number': 1, 'Accuracy': 0.18, 'Precision': 0.12903225806451613, 'Recall': 0.9230769230769231, 'F1 Score': 0.22641509433962265, 'Prediction': [0, 1, 1, 1, 1, 1, 1, 1, 1, 1, 1, 1, 1, 1, 1, 1, 1, 1, 1, 1, 0, 1, 0, 1, 1, 1, 1, 1, 1, 1, 1, 1, 1, 1, 1, 1, 1, 1, 1, 1, 1, 1, 1, 1, 1, 1, 1, 1, 1, 1, 1, 1, 1, 1, 1, 1, 1, 1, 1, 0, 0, 1, 0, 1, 1, 1, 1, 1, 1, 1, 1, 1, 1, 0, 1, 1, 1, 1, 1, 1, 1, 1, 1, 1, 1, 1, 1, 1, 1, 1, 1, 1, 1, 1, 1, 1, 1, 1, 1, 1]}\n",
      "\n",
      "Evaluating Set ID: Set_13_Prop_0.3\n"
     ]
    },
    {
     "name": "stderr",
     "output_type": "stream",
     "text": [
      "Processing predictions: 100%|██████████| 100/100 [00:10<00:00,  9.70it/s]\n",
      "/tmp/ipykernel_6833/3130949446.py:86: FutureWarning: Series.__getitem__ treating keys as positions is deprecated. In a future version, integer keys will always be treated as labels (consistent with DataFrame behavior). To access a value by position, use `ser.iloc[pos]`\n",
      "  answer = row[-1]  # Store the ground truth label\n"
     ]
    },
    {
     "name": "stdout",
     "output_type": "stream",
     "text": [
      "Num of non-numeric or invalid: 0\n",
      "Intermediate results for Run 1: {'Num Features': 30, 'Sample Size': 16, 'Class 1 Proportion': 0.3, 'Set ID': 'Set_13_Prop_0.3', 'Run Number': 1, 'Accuracy': 0.36, 'Precision': 0.14084507042253522, 'Recall': 0.7692307692307693, 'F1 Score': 0.23809523809523808, 'Prediction': [1, 1, 0, 1, 0, 1, 1, 1, 0, 1, 1, 1, 0, 0, 1, 0, 1, 1, 1, 1, 1, 1, 0, 0, 0, 0, 1, 1, 0, 1, 1, 1, 1, 1, 0, 0, 1, 1, 0, 1, 0, 0, 0, 1, 1, 1, 1, 0, 1, 0, 1, 1, 1, 1, 1, 0, 1, 0, 0, 1, 1, 1, 0, 0, 0, 1, 1, 1, 1, 1, 0, 1, 1, 1, 1, 0, 1, 0, 1, 1, 1, 1, 1, 1, 1, 1, 1, 1, 1, 1, 1, 0, 1, 1, 1, 1, 1, 1, 1, 1]}\n",
      "\n",
      "Evaluating Set ID: Set_14_Prop_0.3\n"
     ]
    },
    {
     "name": "stderr",
     "output_type": "stream",
     "text": [
      "Processing predictions: 100%|██████████| 100/100 [00:10<00:00,  9.59it/s]\n",
      "/tmp/ipykernel_6833/3130949446.py:86: FutureWarning: Series.__getitem__ treating keys as positions is deprecated. In a future version, integer keys will always be treated as labels (consistent with DataFrame behavior). To access a value by position, use `ser.iloc[pos]`\n",
      "  answer = row[-1]  # Store the ground truth label\n"
     ]
    },
    {
     "name": "stdout",
     "output_type": "stream",
     "text": [
      "Num of non-numeric or invalid: 0\n",
      "Intermediate results for Run 1: {'Num Features': 30, 'Sample Size': 16, 'Class 1 Proportion': 0.3, 'Set ID': 'Set_14_Prop_0.3', 'Run Number': 1, 'Accuracy': 0.53, 'Precision': 0.18518518518518517, 'Recall': 0.7692307692307693, 'F1 Score': 0.29850746268656714, 'Prediction': [0, 1, 1, 0, 1, 0, 0, 1, 1, 1, 1, 1, 1, 0, 1, 1, 1, 0, 1, 1, 0, 0, 1, 0, 0, 0, 0, 1, 1, 1, 0, 0, 0, 0, 0, 1, 1, 0, 1, 1, 0, 0, 1, 0, 1, 1, 0, 0, 0, 0, 0, 1, 0, 1, 1, 0, 0, 0, 0, 1, 0, 0, 0, 0, 0, 1, 1, 0, 0, 1, 0, 1, 1, 1, 1, 0, 0, 1, 0, 1, 1, 1, 0, 1, 1, 1, 1, 1, 1, 0, 1, 0, 1, 1, 1, 1, 1, 0, 1, 1]}\n",
      "\n",
      "Evaluating Set ID: Set_15_Prop_0.3\n"
     ]
    },
    {
     "name": "stderr",
     "output_type": "stream",
     "text": [
      "Processing predictions: 100%|██████████| 100/100 [00:10<00:00,  9.66it/s]\n",
      "/tmp/ipykernel_6833/3130949446.py:86: FutureWarning: Series.__getitem__ treating keys as positions is deprecated. In a future version, integer keys will always be treated as labels (consistent with DataFrame behavior). To access a value by position, use `ser.iloc[pos]`\n",
      "  answer = row[-1]  # Store the ground truth label\n"
     ]
    },
    {
     "name": "stdout",
     "output_type": "stream",
     "text": [
      "Num of non-numeric or invalid: 0\n",
      "Intermediate results for Run 1: {'Num Features': 30, 'Sample Size': 16, 'Class 1 Proportion': 0.3, 'Set ID': 'Set_15_Prop_0.3', 'Run Number': 1, 'Accuracy': 0.53, 'Precision': 0.16, 'Recall': 0.6153846153846154, 'F1 Score': 0.25396825396825395, 'Prediction': [0, 0, 1, 0, 0, 1, 1, 1, 0, 1, 0, 1, 1, 0, 0, 1, 0, 1, 1, 0, 0, 0, 0, 0, 0, 0, 1, 1, 1, 0, 0, 0, 0, 1, 0, 0, 0, 1, 0, 1, 0, 1, 1, 0, 1, 0, 0, 0, 0, 1, 0, 1, 1, 1, 1, 0, 0, 1, 0, 1, 0, 0, 1, 1, 0, 0, 0, 0, 1, 1, 0, 1, 1, 0, 1, 1, 0, 0, 0, 1, 1, 0, 1, 1, 1, 1, 1, 0, 0, 1, 1, 0, 1, 1, 1, 0, 1, 1, 1, 1]}\n",
      "\n",
      "Testing with class 1 proportion: 0.5\n",
      "\n",
      "Evaluating Set ID: Set_1_Prop_0.5\n"
     ]
    },
    {
     "name": "stderr",
     "output_type": "stream",
     "text": [
      "Processing predictions: 100%|██████████| 100/100 [00:13<00:00,  7.69it/s]\n",
      "/tmp/ipykernel_6833/3130949446.py:86: FutureWarning: Series.__getitem__ treating keys as positions is deprecated. In a future version, integer keys will always be treated as labels (consistent with DataFrame behavior). To access a value by position, use `ser.iloc[pos]`\n",
      "  answer = row[-1]  # Store the ground truth label\n"
     ]
    },
    {
     "name": "stdout",
     "output_type": "stream",
     "text": [
      "Num of non-numeric or invalid: 0\n",
      "Intermediate results for Run 1: {'Num Features': 30, 'Sample Size': 16, 'Class 1 Proportion': 0.5, 'Set ID': 'Set_1_Prop_0.5', 'Run Number': 1, 'Accuracy': 0.32, 'Precision': 0.1232876712328767, 'Recall': 0.6923076923076923, 'F1 Score': 0.20930232558139536, 'Prediction': [1, 1, 1, 0, 0, 1, 1, 0, 1, 1, 1, 1, 1, 1, 1, 1, 1, 1, 1, 1, 0, 0, 0, 1, 0, 1, 1, 1, 1, 1, 0, 1, 0, 1, 1, 0, 0, 1, 1, 1, 0, 1, 1, 0, 1, 1, 1, 0, 1, 1, 0, 1, 1, 1, 1, 1, 0, 0, 1, 1, 0, 1, 1, 1, 0, 0, 1, 0, 1, 1, 0, 1, 0, 1, 1, 1, 0, 0, 0, 1, 1, 1, 1, 1, 1, 1, 1, 1, 1, 0, 1, 1, 1, 1, 1, 1, 1, 1, 1, 1]}\n",
      "\n",
      "Evaluating Set ID: Set_2_Prop_0.5\n"
     ]
    },
    {
     "name": "stderr",
     "output_type": "stream",
     "text": [
      "Processing predictions: 100%|██████████| 100/100 [00:09<00:00, 10.28it/s]\n",
      "/tmp/ipykernel_6833/3130949446.py:86: FutureWarning: Series.__getitem__ treating keys as positions is deprecated. In a future version, integer keys will always be treated as labels (consistent with DataFrame behavior). To access a value by position, use `ser.iloc[pos]`\n",
      "  answer = row[-1]  # Store the ground truth label\n"
     ]
    },
    {
     "name": "stdout",
     "output_type": "stream",
     "text": [
      "Num of non-numeric or invalid: 0\n",
      "Intermediate results for Run 1: {'Num Features': 30, 'Sample Size': 16, 'Class 1 Proportion': 0.5, 'Set ID': 'Set_2_Prop_0.5', 'Run Number': 1, 'Accuracy': 0.13, 'Precision': 0.13, 'Recall': 1.0, 'F1 Score': 0.23008849557522124, 'Prediction': [1, 1, 1, 1, 1, 1, 1, 1, 1, 1, 1, 1, 1, 1, 1, 1, 1, 1, 1, 1, 1, 1, 1, 1, 1, 1, 1, 1, 1, 1, 1, 1, 1, 1, 1, 1, 1, 1, 1, 1, 1, 1, 1, 1, 1, 1, 1, 1, 1, 1, 1, 1, 1, 1, 1, 1, 1, 1, 1, 1, 1, 1, 1, 1, 1, 1, 1, 1, 1, 1, 1, 1, 1, 1, 1, 1, 1, 1, 1, 1, 1, 1, 1, 1, 1, 1, 1, 1, 1, 1, 1, 1, 1, 1, 1, 1, 1, 1, 1, 1]}\n",
      "\n",
      "Evaluating Set ID: Set_3_Prop_0.5\n"
     ]
    },
    {
     "name": "stderr",
     "output_type": "stream",
     "text": [
      "Processing predictions: 100%|██████████| 100/100 [00:09<00:00, 10.20it/s]\n",
      "/tmp/ipykernel_6833/3130949446.py:86: FutureWarning: Series.__getitem__ treating keys as positions is deprecated. In a future version, integer keys will always be treated as labels (consistent with DataFrame behavior). To access a value by position, use `ser.iloc[pos]`\n",
      "  answer = row[-1]  # Store the ground truth label\n"
     ]
    },
    {
     "name": "stdout",
     "output_type": "stream",
     "text": [
      "Num of non-numeric or invalid: 0\n",
      "Intermediate results for Run 1: {'Num Features': 30, 'Sample Size': 16, 'Class 1 Proportion': 0.5, 'Set ID': 'Set_3_Prop_0.5', 'Run Number': 1, 'Accuracy': 0.33, 'Precision': 0.14473684210526316, 'Recall': 0.8461538461538461, 'F1 Score': 0.24719101123595505, 'Prediction': [1, 1, 1, 0, 1, 1, 1, 1, 1, 0, 1, 1, 1, 1, 1, 1, 1, 1, 1, 1, 0, 1, 1, 0, 1, 1, 1, 0, 1, 1, 0, 1, 0, 1, 1, 0, 0, 1, 1, 0, 1, 0, 1, 1, 1, 0, 0, 1, 0, 0, 1, 1, 1, 1, 1, 1, 0, 1, 1, 0, 1, 1, 0, 1, 0, 1, 1, 1, 1, 1, 0, 1, 1, 1, 1, 1, 0, 0, 0, 1, 1, 1, 1, 1, 1, 1, 1, 1, 1, 1, 1, 1, 0, 1, 1, 1, 1, 1, 1, 1]}\n",
      "\n",
      "Evaluating Set ID: Set_4_Prop_0.5\n"
     ]
    },
    {
     "name": "stderr",
     "output_type": "stream",
     "text": [
      "Processing predictions: 100%|██████████| 100/100 [00:10<00:00,  9.39it/s]\n",
      "/tmp/ipykernel_6833/3130949446.py:86: FutureWarning: Series.__getitem__ treating keys as positions is deprecated. In a future version, integer keys will always be treated as labels (consistent with DataFrame behavior). To access a value by position, use `ser.iloc[pos]`\n",
      "  answer = row[-1]  # Store the ground truth label\n"
     ]
    },
    {
     "name": "stdout",
     "output_type": "stream",
     "text": [
      "Num of non-numeric or invalid: 0\n",
      "Intermediate results for Run 1: {'Num Features': 30, 'Sample Size': 16, 'Class 1 Proportion': 0.5, 'Set ID': 'Set_4_Prop_0.5', 'Run Number': 1, 'Accuracy': 0.13, 'Precision': 0.13, 'Recall': 1.0, 'F1 Score': 0.23008849557522124, 'Prediction': [1, 1, 1, 1, 1, 1, 1, 1, 1, 1, 1, 1, 1, 1, 1, 1, 1, 1, 1, 1, 1, 1, 1, 1, 1, 1, 1, 1, 1, 1, 1, 1, 1, 1, 1, 1, 1, 1, 1, 1, 1, 1, 1, 1, 1, 1, 1, 1, 1, 1, 1, 1, 1, 1, 1, 1, 1, 1, 1, 1, 1, 1, 1, 1, 1, 1, 1, 1, 1, 1, 1, 1, 1, 1, 1, 1, 1, 1, 1, 1, 1, 1, 1, 1, 1, 1, 1, 1, 1, 1, 1, 1, 1, 1, 1, 1, 1, 1, 1, 1]}\n",
      "\n",
      "Evaluating Set ID: Set_5_Prop_0.5\n"
     ]
    },
    {
     "name": "stderr",
     "output_type": "stream",
     "text": [
      "Processing predictions: 100%|██████████| 100/100 [00:09<00:00, 10.24it/s]\n",
      "/tmp/ipykernel_6833/3130949446.py:86: FutureWarning: Series.__getitem__ treating keys as positions is deprecated. In a future version, integer keys will always be treated as labels (consistent with DataFrame behavior). To access a value by position, use `ser.iloc[pos]`\n",
      "  answer = row[-1]  # Store the ground truth label\n"
     ]
    },
    {
     "name": "stdout",
     "output_type": "stream",
     "text": [
      "Num of non-numeric or invalid: 0\n",
      "Intermediate results for Run 1: {'Num Features': 30, 'Sample Size': 16, 'Class 1 Proportion': 0.5, 'Set ID': 'Set_5_Prop_0.5', 'Run Number': 1, 'Accuracy': 0.13, 'Precision': 0.13, 'Recall': 1.0, 'F1 Score': 0.23008849557522124, 'Prediction': [1, 1, 1, 1, 1, 1, 1, 1, 1, 1, 1, 1, 1, 1, 1, 1, 1, 1, 1, 1, 1, 1, 1, 1, 1, 1, 1, 1, 1, 1, 1, 1, 1, 1, 1, 1, 1, 1, 1, 1, 1, 1, 1, 1, 1, 1, 1, 1, 1, 1, 1, 1, 1, 1, 1, 1, 1, 1, 1, 1, 1, 1, 1, 1, 1, 1, 1, 1, 1, 1, 1, 1, 1, 1, 1, 1, 1, 1, 1, 1, 1, 1, 1, 1, 1, 1, 1, 1, 1, 1, 1, 1, 1, 1, 1, 1, 1, 1, 1, 1]}\n",
      "\n",
      "Evaluating Set ID: Set_6_Prop_0.5\n"
     ]
    },
    {
     "name": "stderr",
     "output_type": "stream",
     "text": [
      "Processing predictions: 100%|██████████| 100/100 [00:10<00:00,  9.70it/s]\n",
      "/tmp/ipykernel_6833/3130949446.py:86: FutureWarning: Series.__getitem__ treating keys as positions is deprecated. In a future version, integer keys will always be treated as labels (consistent with DataFrame behavior). To access a value by position, use `ser.iloc[pos]`\n",
      "  answer = row[-1]  # Store the ground truth label\n"
     ]
    },
    {
     "name": "stdout",
     "output_type": "stream",
     "text": [
      "Num of non-numeric or invalid: 0\n",
      "Intermediate results for Run 1: {'Num Features': 30, 'Sample Size': 16, 'Class 1 Proportion': 0.5, 'Set ID': 'Set_6_Prop_0.5', 'Run Number': 1, 'Accuracy': 0.13, 'Precision': 0.13, 'Recall': 1.0, 'F1 Score': 0.23008849557522124, 'Prediction': [1, 1, 1, 1, 1, 1, 1, 1, 1, 1, 1, 1, 1, 1, 1, 1, 1, 1, 1, 1, 1, 1, 1, 1, 1, 1, 1, 1, 1, 1, 1, 1, 1, 1, 1, 1, 1, 1, 1, 1, 1, 1, 1, 1, 1, 1, 1, 1, 1, 1, 1, 1, 1, 1, 1, 1, 1, 1, 1, 1, 1, 1, 1, 1, 1, 1, 1, 1, 1, 1, 1, 1, 1, 1, 1, 1, 1, 1, 1, 1, 1, 1, 1, 1, 1, 1, 1, 1, 1, 1, 1, 1, 1, 1, 1, 1, 1, 1, 1, 1]}\n",
      "\n",
      "Evaluating Set ID: Set_7_Prop_0.5\n"
     ]
    },
    {
     "name": "stderr",
     "output_type": "stream",
     "text": [
      "Processing predictions: 100%|██████████| 100/100 [00:09<00:00, 10.26it/s]\n",
      "/tmp/ipykernel_6833/3130949446.py:86: FutureWarning: Series.__getitem__ treating keys as positions is deprecated. In a future version, integer keys will always be treated as labels (consistent with DataFrame behavior). To access a value by position, use `ser.iloc[pos]`\n",
      "  answer = row[-1]  # Store the ground truth label\n"
     ]
    },
    {
     "name": "stdout",
     "output_type": "stream",
     "text": [
      "Num of non-numeric or invalid: 0\n",
      "Intermediate results for Run 1: {'Num Features': 30, 'Sample Size': 16, 'Class 1 Proportion': 0.5, 'Set ID': 'Set_7_Prop_0.5', 'Run Number': 1, 'Accuracy': 0.26, 'Precision': 0.12345679012345678, 'Recall': 0.7692307692307693, 'F1 Score': 0.2127659574468085, 'Prediction': [0, 1, 1, 1, 1, 1, 1, 1, 1, 1, 0, 1, 1, 1, 1, 1, 1, 1, 1, 1, 0, 1, 1, 0, 1, 1, 0, 1, 1, 0, 0, 1, 1, 1, 1, 1, 1, 0, 0, 1, 1, 1, 1, 0, 1, 1, 1, 0, 1, 1, 1, 1, 1, 1, 0, 1, 0, 0, 0, 1, 1, 1, 0, 0, 1, 1, 1, 1, 1, 1, 1, 1, 1, 1, 1, 1, 1, 1, 1, 1, 0, 1, 1, 1, 1, 1, 1, 1, 1, 1, 1, 1, 0, 1, 1, 1, 1, 1, 1, 1]}\n",
      "\n",
      "Evaluating Set ID: Set_8_Prop_0.5\n"
     ]
    },
    {
     "name": "stderr",
     "output_type": "stream",
     "text": [
      "Processing predictions: 100%|██████████| 100/100 [00:09<00:00, 10.25it/s]\n",
      "/tmp/ipykernel_6833/3130949446.py:86: FutureWarning: Series.__getitem__ treating keys as positions is deprecated. In a future version, integer keys will always be treated as labels (consistent with DataFrame behavior). To access a value by position, use `ser.iloc[pos]`\n",
      "  answer = row[-1]  # Store the ground truth label\n"
     ]
    },
    {
     "name": "stdout",
     "output_type": "stream",
     "text": [
      "Num of non-numeric or invalid: 0\n",
      "Intermediate results for Run 1: {'Num Features': 30, 'Sample Size': 16, 'Class 1 Proportion': 0.5, 'Set ID': 'Set_8_Prop_0.5', 'Run Number': 1, 'Accuracy': 0.13, 'Precision': 0.13, 'Recall': 1.0, 'F1 Score': 0.23008849557522124, 'Prediction': [1, 1, 1, 1, 1, 1, 1, 1, 1, 1, 1, 1, 1, 1, 1, 1, 1, 1, 1, 1, 1, 1, 1, 1, 1, 1, 1, 1, 1, 1, 1, 1, 1, 1, 1, 1, 1, 1, 1, 1, 1, 1, 1, 1, 1, 1, 1, 1, 1, 1, 1, 1, 1, 1, 1, 1, 1, 1, 1, 1, 1, 1, 1, 1, 1, 1, 1, 1, 1, 1, 1, 1, 1, 1, 1, 1, 1, 1, 1, 1, 1, 1, 1, 1, 1, 1, 1, 1, 1, 1, 1, 1, 1, 1, 1, 1, 1, 1, 1, 1]}\n",
      "\n",
      "Evaluating Set ID: Set_9_Prop_0.5\n"
     ]
    },
    {
     "name": "stderr",
     "output_type": "stream",
     "text": [
      "Processing predictions: 100%|██████████| 100/100 [00:10<00:00,  9.95it/s]\n",
      "/tmp/ipykernel_6833/3130949446.py:86: FutureWarning: Series.__getitem__ treating keys as positions is deprecated. In a future version, integer keys will always be treated as labels (consistent with DataFrame behavior). To access a value by position, use `ser.iloc[pos]`\n",
      "  answer = row[-1]  # Store the ground truth label\n"
     ]
    },
    {
     "name": "stdout",
     "output_type": "stream",
     "text": [
      "Num of non-numeric or invalid: 0\n",
      "Intermediate results for Run 1: {'Num Features': 30, 'Sample Size': 16, 'Class 1 Proportion': 0.5, 'Set ID': 'Set_9_Prop_0.5', 'Run Number': 1, 'Accuracy': 0.13, 'Precision': 0.13, 'Recall': 1.0, 'F1 Score': 0.23008849557522124, 'Prediction': [1, 1, 1, 1, 1, 1, 1, 1, 1, 1, 1, 1, 1, 1, 1, 1, 1, 1, 1, 1, 1, 1, 1, 1, 1, 1, 1, 1, 1, 1, 1, 1, 1, 1, 1, 1, 1, 1, 1, 1, 1, 1, 1, 1, 1, 1, 1, 1, 1, 1, 1, 1, 1, 1, 1, 1, 1, 1, 1, 1, 1, 1, 1, 1, 1, 1, 1, 1, 1, 1, 1, 1, 1, 1, 1, 1, 1, 1, 1, 1, 1, 1, 1, 1, 1, 1, 1, 1, 1, 1, 1, 1, 1, 1, 1, 1, 1, 1, 1, 1]}\n",
      "\n",
      "Evaluating Set ID: Set_10_Prop_0.5\n"
     ]
    },
    {
     "name": "stderr",
     "output_type": "stream",
     "text": [
      "Processing predictions: 100%|██████████| 100/100 [00:10<00:00,  9.88it/s]\n",
      "/tmp/ipykernel_6833/3130949446.py:86: FutureWarning: Series.__getitem__ treating keys as positions is deprecated. In a future version, integer keys will always be treated as labels (consistent with DataFrame behavior). To access a value by position, use `ser.iloc[pos]`\n",
      "  answer = row[-1]  # Store the ground truth label\n"
     ]
    },
    {
     "name": "stdout",
     "output_type": "stream",
     "text": [
      "Num of non-numeric or invalid: 0\n",
      "Intermediate results for Run 1: {'Num Features': 30, 'Sample Size': 16, 'Class 1 Proportion': 0.5, 'Set ID': 'Set_10_Prop_0.5', 'Run Number': 1, 'Accuracy': 0.14, 'Precision': 0.13131313131313133, 'Recall': 1.0, 'F1 Score': 0.23214285714285715, 'Prediction': [1, 1, 1, 1, 1, 1, 1, 1, 1, 1, 1, 1, 1, 1, 1, 1, 1, 1, 1, 1, 1, 1, 1, 1, 1, 1, 1, 1, 1, 1, 1, 1, 1, 1, 0, 1, 1, 1, 1, 1, 1, 1, 1, 1, 1, 1, 1, 1, 1, 1, 1, 1, 1, 1, 1, 1, 1, 1, 1, 1, 1, 1, 1, 1, 1, 1, 1, 1, 1, 1, 1, 1, 1, 1, 1, 1, 1, 1, 1, 1, 1, 1, 1, 1, 1, 1, 1, 1, 1, 1, 1, 1, 1, 1, 1, 1, 1, 1, 1, 1]}\n",
      "\n",
      "Evaluating Set ID: Set_11_Prop_0.5\n"
     ]
    },
    {
     "name": "stderr",
     "output_type": "stream",
     "text": [
      "Processing predictions: 100%|██████████| 100/100 [00:09<00:00, 10.94it/s]\n",
      "/tmp/ipykernel_6833/3130949446.py:86: FutureWarning: Series.__getitem__ treating keys as positions is deprecated. In a future version, integer keys will always be treated as labels (consistent with DataFrame behavior). To access a value by position, use `ser.iloc[pos]`\n",
      "  answer = row[-1]  # Store the ground truth label\n"
     ]
    },
    {
     "name": "stdout",
     "output_type": "stream",
     "text": [
      "Num of non-numeric or invalid: 0\n",
      "Intermediate results for Run 1: {'Num Features': 30, 'Sample Size': 16, 'Class 1 Proportion': 0.5, 'Set ID': 'Set_11_Prop_0.5', 'Run Number': 1, 'Accuracy': 0.14, 'Precision': 0.13131313131313133, 'Recall': 1.0, 'F1 Score': 0.23214285714285715, 'Prediction': [1, 1, 1, 1, 1, 1, 1, 1, 1, 1, 1, 1, 1, 1, 1, 0, 1, 1, 1, 1, 1, 1, 1, 1, 1, 1, 1, 1, 1, 1, 1, 1, 1, 1, 1, 1, 1, 1, 1, 1, 1, 1, 1, 1, 1, 1, 1, 1, 1, 1, 1, 1, 1, 1, 1, 1, 1, 1, 1, 1, 1, 1, 1, 1, 1, 1, 1, 1, 1, 1, 1, 1, 1, 1, 1, 1, 1, 1, 1, 1, 1, 1, 1, 1, 1, 1, 1, 1, 1, 1, 1, 1, 1, 1, 1, 1, 1, 1, 1, 1]}\n",
      "\n",
      "Evaluating Set ID: Set_12_Prop_0.5\n"
     ]
    },
    {
     "name": "stderr",
     "output_type": "stream",
     "text": [
      "Processing predictions: 100%|██████████| 100/100 [00:09<00:00, 10.50it/s]\n",
      "/tmp/ipykernel_6833/3130949446.py:86: FutureWarning: Series.__getitem__ treating keys as positions is deprecated. In a future version, integer keys will always be treated as labels (consistent with DataFrame behavior). To access a value by position, use `ser.iloc[pos]`\n",
      "  answer = row[-1]  # Store the ground truth label\n"
     ]
    },
    {
     "name": "stdout",
     "output_type": "stream",
     "text": [
      "Num of non-numeric or invalid: 0\n",
      "Intermediate results for Run 1: {'Num Features': 30, 'Sample Size': 16, 'Class 1 Proportion': 0.5, 'Set ID': 'Set_12_Prop_0.5', 'Run Number': 1, 'Accuracy': 0.35, 'Precision': 0.14864864864864866, 'Recall': 0.8461538461538461, 'F1 Score': 0.25287356321839083, 'Prediction': [1, 1, 1, 0, 1, 1, 1, 1, 0, 0, 1, 1, 0, 1, 1, 1, 1, 1, 1, 1, 0, 1, 1, 0, 0, 0, 1, 1, 1, 1, 1, 0, 0, 1, 1, 0, 1, 1, 1, 1, 1, 1, 1, 0, 1, 1, 1, 0, 0, 0, 1, 1, 1, 1, 1, 0, 1, 0, 1, 0, 1, 1, 0, 0, 0, 1, 0, 1, 1, 1, 1, 1, 1, 1, 0, 1, 1, 0, 1, 0, 1, 1, 1, 1, 1, 1, 1, 1, 1, 1, 1, 1, 0, 1, 1, 1, 1, 1, 1, 1]}\n",
      "\n",
      "Evaluating Set ID: Set_13_Prop_0.5\n"
     ]
    },
    {
     "name": "stderr",
     "output_type": "stream",
     "text": [
      "Processing predictions: 100%|██████████| 100/100 [00:10<00:00,  9.79it/s]\n",
      "/tmp/ipykernel_6833/3130949446.py:86: FutureWarning: Series.__getitem__ treating keys as positions is deprecated. In a future version, integer keys will always be treated as labels (consistent with DataFrame behavior). To access a value by position, use `ser.iloc[pos]`\n",
      "  answer = row[-1]  # Store the ground truth label\n"
     ]
    },
    {
     "name": "stdout",
     "output_type": "stream",
     "text": [
      "Num of non-numeric or invalid: 0\n",
      "Intermediate results for Run 1: {'Num Features': 30, 'Sample Size': 16, 'Class 1 Proportion': 0.5, 'Set ID': 'Set_13_Prop_0.5', 'Run Number': 1, 'Accuracy': 0.22, 'Precision': 0.12643678160919541, 'Recall': 0.8461538461538461, 'F1 Score': 0.22, 'Prediction': [1, 1, 1, 1, 1, 0, 1, 1, 0, 1, 1, 1, 1, 1, 1, 1, 1, 1, 1, 1, 1, 1, 1, 0, 0, 1, 1, 1, 1, 1, 0, 1, 0, 0, 0, 1, 1, 1, 1, 1, 0, 0, 1, 1, 1, 1, 1, 1, 1, 1, 1, 1, 1, 1, 1, 1, 1, 1, 0, 1, 1, 1, 1, 1, 1, 1, 1, 1, 1, 1, 1, 1, 1, 1, 1, 1, 1, 1, 1, 1, 1, 1, 1, 1, 1, 1, 1, 0, 1, 1, 1, 1, 0, 1, 1, 1, 1, 1, 1, 1]}\n",
      "\n",
      "Evaluating Set ID: Set_14_Prop_0.5\n"
     ]
    },
    {
     "name": "stderr",
     "output_type": "stream",
     "text": [
      "Processing predictions: 100%|██████████| 100/100 [00:10<00:00,  9.59it/s]\n",
      "/tmp/ipykernel_6833/3130949446.py:86: FutureWarning: Series.__getitem__ treating keys as positions is deprecated. In a future version, integer keys will always be treated as labels (consistent with DataFrame behavior). To access a value by position, use `ser.iloc[pos]`\n",
      "  answer = row[-1]  # Store the ground truth label\n"
     ]
    },
    {
     "name": "stdout",
     "output_type": "stream",
     "text": [
      "Num of non-numeric or invalid: 0\n",
      "Intermediate results for Run 1: {'Num Features': 30, 'Sample Size': 16, 'Class 1 Proportion': 0.5, 'Set ID': 'Set_14_Prop_0.5', 'Run Number': 1, 'Accuracy': 0.13, 'Precision': 0.13, 'Recall': 1.0, 'F1 Score': 0.23008849557522124, 'Prediction': [1, 1, 1, 1, 1, 1, 1, 1, 1, 1, 1, 1, 1, 1, 1, 1, 1, 1, 1, 1, 1, 1, 1, 1, 1, 1, 1, 1, 1, 1, 1, 1, 1, 1, 1, 1, 1, 1, 1, 1, 1, 1, 1, 1, 1, 1, 1, 1, 1, 1, 1, 1, 1, 1, 1, 1, 1, 1, 1, 1, 1, 1, 1, 1, 1, 1, 1, 1, 1, 1, 1, 1, 1, 1, 1, 1, 1, 1, 1, 1, 1, 1, 1, 1, 1, 1, 1, 1, 1, 1, 1, 1, 1, 1, 1, 1, 1, 1, 1, 1]}\n",
      "\n",
      "Evaluating Set ID: Set_15_Prop_0.5\n"
     ]
    },
    {
     "name": "stderr",
     "output_type": "stream",
     "text": [
      "Processing predictions: 100%|██████████| 100/100 [00:09<00:00, 10.98it/s]\n",
      "/tmp/ipykernel_6833/3130949446.py:86: FutureWarning: Series.__getitem__ treating keys as positions is deprecated. In a future version, integer keys will always be treated as labels (consistent with DataFrame behavior). To access a value by position, use `ser.iloc[pos]`\n",
      "  answer = row[-1]  # Store the ground truth label\n"
     ]
    },
    {
     "name": "stdout",
     "output_type": "stream",
     "text": [
      "Num of non-numeric or invalid: 0\n",
      "Intermediate results for Run 1: {'Num Features': 30, 'Sample Size': 16, 'Class 1 Proportion': 0.5, 'Set ID': 'Set_15_Prop_0.5', 'Run Number': 1, 'Accuracy': 0.13, 'Precision': 0.13, 'Recall': 1.0, 'F1 Score': 0.23008849557522124, 'Prediction': [1, 1, 1, 1, 1, 1, 1, 1, 1, 1, 1, 1, 1, 1, 1, 1, 1, 1, 1, 1, 1, 1, 1, 1, 1, 1, 1, 1, 1, 1, 1, 1, 1, 1, 1, 1, 1, 1, 1, 1, 1, 1, 1, 1, 1, 1, 1, 1, 1, 1, 1, 1, 1, 1, 1, 1, 1, 1, 1, 1, 1, 1, 1, 1, 1, 1, 1, 1, 1, 1, 1, 1, 1, 1, 1, 1, 1, 1, 1, 1, 1, 1, 1, 1, 1, 1, 1, 1, 1, 1, 1, 1, 1, 1, 1, 1, 1, 1, 1, 1]}\n",
      "\n",
      "All experiments completed.\n",
      "Results for sample_size=16 saved as experiments_result_t_table_show_16.csv\n",
      "\n",
      "Starting experiments for top 5 features...\n",
      "\n",
      "Testing with class 1 proportion: 0.1\n",
      "\n",
      "Evaluating Set ID: Set_1_Prop_0.1\n"
     ]
    },
    {
     "name": "stderr",
     "output_type": "stream",
     "text": [
      "Processing predictions: 100%|██████████| 100/100 [00:08<00:00, 11.50it/s]\n",
      "/tmp/ipykernel_6833/3130949446.py:86: FutureWarning: Series.__getitem__ treating keys as positions is deprecated. In a future version, integer keys will always be treated as labels (consistent with DataFrame behavior). To access a value by position, use `ser.iloc[pos]`\n",
      "  answer = row[-1]  # Store the ground truth label\n"
     ]
    },
    {
     "name": "stdout",
     "output_type": "stream",
     "text": [
      "Num of non-numeric or invalid: 0\n",
      "Intermediate results for Run 1: {'Num Features': 5, 'Sample Size': 32, 'Class 1 Proportion': 0.1, 'Set ID': 'Set_1_Prop_0.1', 'Run Number': 1, 'Accuracy': 0.54, 'Precision': 0.14893617021276595, 'Recall': 0.5384615384615384, 'F1 Score': 0.23333333333333334, 'Prediction': [1, 1, 1, 0, 1, 0, 0, 0, 1, 0, 1, 0, 0, 0, 0, 0, 0, 1, 1, 0, 0, 0, 1, 0, 0, 0, 0, 1, 0, 1, 0, 1, 0, 1, 1, 1, 0, 1, 0, 0, 0, 0, 1, 1, 1, 1, 0, 0, 0, 0, 1, 1, 1, 1, 0, 1, 1, 0, 0, 0, 0, 1, 0, 0, 0, 1, 1, 0, 0, 1, 0, 0, 1, 1, 1, 0, 1, 0, 0, 1, 0, 1, 1, 1, 1, 1, 0, 1, 1, 1, 0, 1, 0, 1, 0, 0, 1, 1, 0, 0]}\n",
      "\n",
      "Evaluating Set ID: Set_2_Prop_0.1\n"
     ]
    },
    {
     "name": "stderr",
     "output_type": "stream",
     "text": [
      "Processing predictions: 100%|██████████| 100/100 [00:09<00:00, 10.77it/s]\n",
      "/tmp/ipykernel_6833/3130949446.py:86: FutureWarning: Series.__getitem__ treating keys as positions is deprecated. In a future version, integer keys will always be treated as labels (consistent with DataFrame behavior). To access a value by position, use `ser.iloc[pos]`\n",
      "  answer = row[-1]  # Store the ground truth label\n"
     ]
    },
    {
     "name": "stdout",
     "output_type": "stream",
     "text": [
      "Num of non-numeric or invalid: 0\n",
      "Intermediate results for Run 1: {'Num Features': 5, 'Sample Size': 32, 'Class 1 Proportion': 0.1, 'Set ID': 'Set_2_Prop_0.1', 'Run Number': 1, 'Accuracy': 0.88, 'Precision': 1.0, 'Recall': 0.07692307692307693, 'F1 Score': 0.14285714285714285, 'Prediction': [0, 0, 0, 0, 0, 0, 0, 0, 0, 0, 0, 0, 0, 0, 0, 0, 0, 0, 0, 0, 0, 0, 0, 0, 0, 0, 0, 0, 0, 0, 0, 0, 0, 0, 0, 0, 0, 0, 0, 0, 0, 0, 0, 0, 0, 0, 0, 0, 0, 0, 0, 0, 0, 0, 0, 0, 0, 0, 0, 0, 0, 0, 0, 0, 0, 0, 0, 0, 0, 0, 0, 0, 1, 0, 0, 0, 0, 0, 0, 0, 0, 0, 0, 0, 0, 0, 0, 0, 0, 0, 0, 0, 0, 0, 0, 0, 0, 0, 0, 0]}\n",
      "\n",
      "Evaluating Set ID: Set_3_Prop_0.1\n"
     ]
    },
    {
     "name": "stderr",
     "output_type": "stream",
     "text": [
      "Processing predictions: 100%|██████████| 100/100 [00:07<00:00, 13.25it/s]\n",
      "/tmp/ipykernel_6833/3130949446.py:86: FutureWarning: Series.__getitem__ treating keys as positions is deprecated. In a future version, integer keys will always be treated as labels (consistent with DataFrame behavior). To access a value by position, use `ser.iloc[pos]`\n",
      "  answer = row[-1]  # Store the ground truth label\n"
     ]
    },
    {
     "name": "stdout",
     "output_type": "stream",
     "text": [
      "Num of non-numeric or invalid: 0\n",
      "Intermediate results for Run 1: {'Num Features': 5, 'Sample Size': 32, 'Class 1 Proportion': 0.1, 'Set ID': 'Set_3_Prop_0.1', 'Run Number': 1, 'Accuracy': 0.8, 'Precision': 0.1111111111111111, 'Recall': 0.07692307692307693, 'F1 Score': 0.09090909090909091, 'Prediction': [0, 0, 0, 0, 0, 0, 0, 0, 0, 0, 0, 0, 0, 0, 0, 0, 0, 0, 0, 0, 0, 0, 0, 0, 0, 0, 1, 0, 1, 0, 0, 0, 0, 0, 0, 0, 1, 0, 1, 0, 0, 0, 0, 0, 0, 0, 0, 0, 0, 0, 0, 0, 0, 0, 1, 0, 1, 0, 0, 0, 0, 0, 0, 0, 0, 0, 0, 1, 0, 0, 0, 0, 0, 0, 0, 0, 0, 0, 0, 1, 0, 1, 0, 0, 0, 0, 0, 0, 0, 0, 0, 0, 0, 0, 0, 0, 0, 0, 0, 0]}\n",
      "\n",
      "Evaluating Set ID: Set_4_Prop_0.1\n"
     ]
    },
    {
     "name": "stderr",
     "output_type": "stream",
     "text": [
      "Processing predictions: 100%|██████████| 100/100 [00:07<00:00, 12.51it/s]\n",
      "/tmp/ipykernel_6833/3130949446.py:86: FutureWarning: Series.__getitem__ treating keys as positions is deprecated. In a future version, integer keys will always be treated as labels (consistent with DataFrame behavior). To access a value by position, use `ser.iloc[pos]`\n",
      "  answer = row[-1]  # Store the ground truth label\n"
     ]
    },
    {
     "name": "stdout",
     "output_type": "stream",
     "text": [
      "Num of non-numeric or invalid: 0\n",
      "Intermediate results for Run 1: {'Num Features': 5, 'Sample Size': 32, 'Class 1 Proportion': 0.1, 'Set ID': 'Set_4_Prop_0.1', 'Run Number': 1, 'Accuracy': 0.87, 'Precision': 1.0, 'Recall': 0.0, 'F1 Score': 0.0, 'Prediction': [0, 0, 0, 0, 0, 0, 0, 0, 0, 0, 0, 0, 0, 0, 0, 0, 0, 0, 0, 0, 0, 0, 0, 0, 0, 0, 0, 0, 0, 0, 0, 0, 0, 0, 0, 0, 0, 0, 0, 0, 0, 0, 0, 0, 0, 0, 0, 0, 0, 0, 0, 0, 0, 0, 0, 0, 0, 0, 0, 0, 0, 0, 0, 0, 0, 0, 0, 0, 0, 0, 0, 0, 0, 0, 0, 0, 0, 0, 0, 0, 0, 0, 0, 0, 0, 0, 0, 0, 0, 0, 0, 0, 0, 0, 0, 0, 0, 0, 0, 0]}\n",
      "\n",
      "Evaluating Set ID: Set_5_Prop_0.1\n"
     ]
    },
    {
     "name": "stderr",
     "output_type": "stream",
     "text": [
      "Processing predictions: 100%|██████████| 100/100 [00:08<00:00, 11.34it/s]\n",
      "/tmp/ipykernel_6833/3130949446.py:86: FutureWarning: Series.__getitem__ treating keys as positions is deprecated. In a future version, integer keys will always be treated as labels (consistent with DataFrame behavior). To access a value by position, use `ser.iloc[pos]`\n",
      "  answer = row[-1]  # Store the ground truth label\n"
     ]
    },
    {
     "name": "stdout",
     "output_type": "stream",
     "text": [
      "Num of non-numeric or invalid: 0\n",
      "Intermediate results for Run 1: {'Num Features': 5, 'Sample Size': 32, 'Class 1 Proportion': 0.1, 'Set ID': 'Set_5_Prop_0.1', 'Run Number': 1, 'Accuracy': 0.87, 'Precision': 1.0, 'Recall': 0.0, 'F1 Score': 0.0, 'Prediction': [0, 0, 0, 0, 0, 0, 0, 0, 0, 0, 0, 0, 0, 0, 0, 0, 0, 0, 0, 0, 0, 0, 0, 0, 0, 0, 0, 0, 0, 0, 0, 0, 0, 0, 0, 0, 0, 0, 0, 0, 0, 0, 0, 0, 0, 0, 0, 0, 0, 0, 0, 0, 0, 0, 0, 0, 0, 0, 0, 0, 0, 0, 0, 0, 0, 0, 0, 0, 0, 0, 0, 0, 0, 0, 0, 0, 0, 0, 0, 0, 0, 0, 0, 0, 0, 0, 0, 0, 0, 0, 0, 0, 0, 0, 0, 0, 0, 0, 0, 0]}\n",
      "\n",
      "Evaluating Set ID: Set_6_Prop_0.1\n"
     ]
    },
    {
     "name": "stderr",
     "output_type": "stream",
     "text": [
      "Processing predictions: 100%|██████████| 100/100 [00:08<00:00, 11.12it/s]\n",
      "/tmp/ipykernel_6833/3130949446.py:86: FutureWarning: Series.__getitem__ treating keys as positions is deprecated. In a future version, integer keys will always be treated as labels (consistent with DataFrame behavior). To access a value by position, use `ser.iloc[pos]`\n",
      "  answer = row[-1]  # Store the ground truth label\n"
     ]
    },
    {
     "name": "stdout",
     "output_type": "stream",
     "text": [
      "Num of non-numeric or invalid: 0\n",
      "Intermediate results for Run 1: {'Num Features': 5, 'Sample Size': 32, 'Class 1 Proportion': 0.1, 'Set ID': 'Set_6_Prop_0.1', 'Run Number': 1, 'Accuracy': 0.87, 'Precision': 1.0, 'Recall': 0.0, 'F1 Score': 0.0, 'Prediction': [0, 0, 0, 0, 0, 0, 0, 0, 0, 0, 0, 0, 0, 0, 0, 0, 0, 0, 0, 0, 0, 0, 0, 0, 0, 0, 0, 0, 0, 0, 0, 0, 0, 0, 0, 0, 0, 0, 0, 0, 0, 0, 0, 0, 0, 0, 0, 0, 0, 0, 0, 0, 0, 0, 0, 0, 0, 0, 0, 0, 0, 0, 0, 0, 0, 0, 0, 0, 0, 0, 0, 0, 0, 0, 0, 0, 0, 0, 0, 0, 0, 0, 0, 0, 0, 0, 0, 0, 0, 0, 0, 0, 0, 0, 0, 0, 0, 0, 0, 0]}\n",
      "\n",
      "Evaluating Set ID: Set_7_Prop_0.1\n"
     ]
    },
    {
     "name": "stderr",
     "output_type": "stream",
     "text": [
      "Processing predictions: 100%|██████████| 100/100 [00:08<00:00, 12.16it/s]\n",
      "/tmp/ipykernel_6833/3130949446.py:86: FutureWarning: Series.__getitem__ treating keys as positions is deprecated. In a future version, integer keys will always be treated as labels (consistent with DataFrame behavior). To access a value by position, use `ser.iloc[pos]`\n",
      "  answer = row[-1]  # Store the ground truth label\n"
     ]
    },
    {
     "name": "stdout",
     "output_type": "stream",
     "text": [
      "Num of non-numeric or invalid: 0\n",
      "Intermediate results for Run 1: {'Num Features': 5, 'Sample Size': 32, 'Class 1 Proportion': 0.1, 'Set ID': 'Set_7_Prop_0.1', 'Run Number': 1, 'Accuracy': 0.87, 'Precision': 1.0, 'Recall': 0.0, 'F1 Score': 0.0, 'Prediction': [0, 0, 0, 0, 0, 0, 0, 0, 0, 0, 0, 0, 0, 0, 0, 0, 0, 0, 0, 0, 0, 0, 0, 0, 0, 0, 0, 0, 0, 0, 0, 0, 0, 0, 0, 0, 0, 0, 0, 0, 0, 0, 0, 0, 0, 0, 0, 0, 0, 0, 0, 0, 0, 0, 0, 0, 0, 0, 0, 0, 0, 0, 0, 0, 0, 0, 0, 0, 0, 0, 0, 0, 0, 0, 0, 0, 0, 0, 0, 0, 0, 0, 0, 0, 0, 0, 0, 0, 0, 0, 0, 0, 0, 0, 0, 0, 0, 0, 0, 0]}\n",
      "\n",
      "Evaluating Set ID: Set_8_Prop_0.1\n"
     ]
    },
    {
     "name": "stderr",
     "output_type": "stream",
     "text": [
      "Processing predictions: 100%|██████████| 100/100 [00:09<00:00, 10.99it/s]\n",
      "/tmp/ipykernel_6833/3130949446.py:86: FutureWarning: Series.__getitem__ treating keys as positions is deprecated. In a future version, integer keys will always be treated as labels (consistent with DataFrame behavior). To access a value by position, use `ser.iloc[pos]`\n",
      "  answer = row[-1]  # Store the ground truth label\n"
     ]
    },
    {
     "name": "stdout",
     "output_type": "stream",
     "text": [
      "Num of non-numeric or invalid: 0\n",
      "Intermediate results for Run 1: {'Num Features': 5, 'Sample Size': 32, 'Class 1 Proportion': 0.1, 'Set ID': 'Set_8_Prop_0.1', 'Run Number': 1, 'Accuracy': 0.86, 'Precision': 0.42857142857142855, 'Recall': 0.23076923076923078, 'F1 Score': 0.3, 'Prediction': [0, 0, 1, 0, 0, 1, 0, 0, 0, 0, 0, 0, 0, 0, 0, 0, 0, 0, 0, 0, 0, 0, 0, 0, 0, 0, 0, 0, 0, 0, 0, 0, 0, 0, 0, 0, 0, 1, 0, 0, 0, 0, 0, 1, 0, 0, 0, 0, 0, 0, 0, 0, 1, 0, 0, 0, 0, 0, 0, 0, 0, 0, 0, 0, 0, 0, 0, 0, 0, 0, 0, 1, 0, 0, 0, 0, 0, 0, 0, 0, 0, 0, 0, 0, 0, 0, 0, 0, 1, 0, 0, 0, 0, 0, 0, 0, 0, 0, 0, 0]}\n",
      "\n",
      "Evaluating Set ID: Set_9_Prop_0.1\n"
     ]
    },
    {
     "name": "stderr",
     "output_type": "stream",
     "text": [
      "Processing predictions: 100%|██████████| 100/100 [00:08<00:00, 11.47it/s]\n",
      "/tmp/ipykernel_6833/3130949446.py:86: FutureWarning: Series.__getitem__ treating keys as positions is deprecated. In a future version, integer keys will always be treated as labels (consistent with DataFrame behavior). To access a value by position, use `ser.iloc[pos]`\n",
      "  answer = row[-1]  # Store the ground truth label\n"
     ]
    },
    {
     "name": "stdout",
     "output_type": "stream",
     "text": [
      "Num of non-numeric or invalid: 0\n",
      "Intermediate results for Run 1: {'Num Features': 5, 'Sample Size': 32, 'Class 1 Proportion': 0.1, 'Set ID': 'Set_9_Prop_0.1', 'Run Number': 1, 'Accuracy': 0.7, 'Precision': 0.22580645161290322, 'Recall': 0.5384615384615384, 'F1 Score': 0.3181818181818182, 'Prediction': [1, 0, 0, 1, 0, 0, 0, 0, 1, 0, 1, 1, 0, 1, 0, 0, 1, 0, 0, 0, 0, 0, 1, 0, 0, 0, 1, 0, 0, 1, 0, 0, 1, 0, 0, 0, 0, 0, 0, 0, 0, 0, 0, 0, 1, 1, 0, 0, 0, 0, 0, 0, 0, 0, 0, 0, 1, 0, 0, 0, 0, 0, 0, 0, 0, 1, 0, 0, 0, 0, 0, 1, 1, 1, 1, 0, 1, 0, 0, 0, 1, 1, 0, 0, 0, 1, 1, 1, 1, 0, 0, 0, 0, 1, 0, 1, 1, 0, 1, 1]}\n",
      "\n",
      "Evaluating Set ID: Set_10_Prop_0.1\n"
     ]
    },
    {
     "name": "stderr",
     "output_type": "stream",
     "text": [
      "Processing predictions: 100%|██████████| 100/100 [00:08<00:00, 12.00it/s]\n",
      "/tmp/ipykernel_6833/3130949446.py:86: FutureWarning: Series.__getitem__ treating keys as positions is deprecated. In a future version, integer keys will always be treated as labels (consistent with DataFrame behavior). To access a value by position, use `ser.iloc[pos]`\n",
      "  answer = row[-1]  # Store the ground truth label\n"
     ]
    },
    {
     "name": "stdout",
     "output_type": "stream",
     "text": [
      "Num of non-numeric or invalid: 0\n",
      "Intermediate results for Run 1: {'Num Features': 5, 'Sample Size': 32, 'Class 1 Proportion': 0.1, 'Set ID': 'Set_10_Prop_0.1', 'Run Number': 1, 'Accuracy': 0.87, 'Precision': 0.5, 'Recall': 0.38461538461538464, 'F1 Score': 0.43478260869565216, 'Prediction': [1, 0, 0, 1, 0, 0, 0, 0, 1, 0, 0, 0, 0, 0, 0, 0, 0, 0, 0, 0, 0, 0, 0, 1, 0, 0, 0, 1, 0, 0, 0, 0, 0, 0, 0, 0, 0, 0, 0, 0, 0, 0, 0, 0, 0, 0, 0, 0, 0, 1, 0, 0, 0, 0, 0, 0, 1, 0, 0, 0, 0, 0, 0, 0, 0, 0, 0, 0, 0, 0, 0, 0, 0, 1, 0, 0, 1, 0, 0, 0, 1, 0, 0, 0, 0, 0, 0, 0, 0, 0, 0, 0, 0, 0, 0, 0, 0, 0, 0, 0]}\n",
      "\n",
      "Evaluating Set ID: Set_11_Prop_0.1\n"
     ]
    },
    {
     "name": "stderr",
     "output_type": "stream",
     "text": [
      "Processing predictions: 100%|██████████| 100/100 [00:08<00:00, 12.42it/s]\n",
      "/tmp/ipykernel_6833/3130949446.py:86: FutureWarning: Series.__getitem__ treating keys as positions is deprecated. In a future version, integer keys will always be treated as labels (consistent with DataFrame behavior). To access a value by position, use `ser.iloc[pos]`\n",
      "  answer = row[-1]  # Store the ground truth label\n"
     ]
    },
    {
     "name": "stdout",
     "output_type": "stream",
     "text": [
      "Num of non-numeric or invalid: 0\n",
      "Intermediate results for Run 1: {'Num Features': 5, 'Sample Size': 32, 'Class 1 Proportion': 0.1, 'Set ID': 'Set_11_Prop_0.1', 'Run Number': 1, 'Accuracy': 0.86, 'Precision': 0.0, 'Recall': 0.0, 'F1 Score': 0.0, 'Prediction': [1, 0, 0, 0, 0, 0, 0, 0, 0, 0, 0, 0, 0, 0, 0, 0, 0, 0, 0, 0, 0, 0, 0, 0, 0, 0, 0, 0, 0, 0, 0, 0, 0, 0, 0, 0, 0, 0, 0, 0, 0, 0, 0, 0, 0, 0, 0, 0, 0, 0, 0, 0, 0, 0, 0, 0, 0, 0, 0, 0, 0, 0, 0, 0, 0, 0, 0, 0, 0, 0, 0, 0, 0, 0, 0, 0, 0, 0, 0, 0, 0, 0, 0, 0, 0, 0, 0, 0, 0, 0, 0, 0, 0, 0, 0, 0, 0, 0, 0, 0]}\n",
      "\n",
      "Evaluating Set ID: Set_12_Prop_0.1\n"
     ]
    },
    {
     "name": "stderr",
     "output_type": "stream",
     "text": [
      "Processing predictions: 100%|██████████| 100/100 [00:08<00:00, 11.57it/s]\n",
      "/tmp/ipykernel_6833/3130949446.py:86: FutureWarning: Series.__getitem__ treating keys as positions is deprecated. In a future version, integer keys will always be treated as labels (consistent with DataFrame behavior). To access a value by position, use `ser.iloc[pos]`\n",
      "  answer = row[-1]  # Store the ground truth label\n"
     ]
    },
    {
     "name": "stdout",
     "output_type": "stream",
     "text": [
      "Num of non-numeric or invalid: 0\n",
      "Intermediate results for Run 1: {'Num Features': 5, 'Sample Size': 32, 'Class 1 Proportion': 0.1, 'Set ID': 'Set_12_Prop_0.1', 'Run Number': 1, 'Accuracy': 0.82, 'Precision': 0.2727272727272727, 'Recall': 0.23076923076923078, 'F1 Score': 0.25, 'Prediction': [0, 0, 0, 0, 0, 0, 0, 0, 0, 0, 1, 0, 1, 0, 0, 0, 0, 0, 0, 0, 0, 0, 0, 0, 0, 0, 0, 0, 0, 0, 0, 0, 0, 0, 0, 0, 0, 0, 0, 0, 0, 0, 0, 0, 0, 0, 0, 0, 0, 0, 0, 0, 0, 0, 0, 0, 0, 0, 0, 0, 0, 0, 0, 0, 0, 0, 1, 0, 0, 0, 0, 1, 1, 0, 0, 0, 0, 0, 1, 0, 0, 0, 0, 0, 1, 0, 0, 0, 0, 0, 0, 0, 0, 1, 1, 0, 0, 0, 1, 1]}\n",
      "\n",
      "Evaluating Set ID: Set_13_Prop_0.1\n"
     ]
    },
    {
     "name": "stderr",
     "output_type": "stream",
     "text": [
      "Processing predictions: 100%|██████████| 100/100 [00:08<00:00, 11.92it/s]\n",
      "/tmp/ipykernel_6833/3130949446.py:86: FutureWarning: Series.__getitem__ treating keys as positions is deprecated. In a future version, integer keys will always be treated as labels (consistent with DataFrame behavior). To access a value by position, use `ser.iloc[pos]`\n",
      "  answer = row[-1]  # Store the ground truth label\n"
     ]
    },
    {
     "name": "stdout",
     "output_type": "stream",
     "text": [
      "Num of non-numeric or invalid: 0\n",
      "Intermediate results for Run 1: {'Num Features': 5, 'Sample Size': 32, 'Class 1 Proportion': 0.1, 'Set ID': 'Set_13_Prop_0.1', 'Run Number': 1, 'Accuracy': 0.87, 'Precision': 1.0, 'Recall': 0.0, 'F1 Score': 0.0, 'Prediction': [0, 0, 0, 0, 0, 0, 0, 0, 0, 0, 0, 0, 0, 0, 0, 0, 0, 0, 0, 0, 0, 0, 0, 0, 0, 0, 0, 0, 0, 0, 0, 0, 0, 0, 0, 0, 0, 0, 0, 0, 0, 0, 0, 0, 0, 0, 0, 0, 0, 0, 0, 0, 0, 0, 0, 0, 0, 0, 0, 0, 0, 0, 0, 0, 0, 0, 0, 0, 0, 0, 0, 0, 0, 0, 0, 0, 0, 0, 0, 0, 0, 0, 0, 0, 0, 0, 0, 0, 0, 0, 0, 0, 0, 0, 0, 0, 0, 0, 0, 0]}\n",
      "\n",
      "Evaluating Set ID: Set_14_Prop_0.1\n"
     ]
    },
    {
     "name": "stderr",
     "output_type": "stream",
     "text": [
      "Processing predictions: 100%|██████████| 100/100 [00:08<00:00, 11.71it/s]\n",
      "/tmp/ipykernel_6833/3130949446.py:86: FutureWarning: Series.__getitem__ treating keys as positions is deprecated. In a future version, integer keys will always be treated as labels (consistent with DataFrame behavior). To access a value by position, use `ser.iloc[pos]`\n",
      "  answer = row[-1]  # Store the ground truth label\n"
     ]
    },
    {
     "name": "stdout",
     "output_type": "stream",
     "text": [
      "Num of non-numeric or invalid: 0\n",
      "Intermediate results for Run 1: {'Num Features': 5, 'Sample Size': 32, 'Class 1 Proportion': 0.1, 'Set ID': 'Set_14_Prop_0.1', 'Run Number': 1, 'Accuracy': 0.87, 'Precision': 1.0, 'Recall': 0.0, 'F1 Score': 0.0, 'Prediction': [0, 0, 0, 0, 0, 0, 0, 0, 0, 0, 0, 0, 0, 0, 0, 0, 0, 0, 0, 0, 0, 0, 0, 0, 0, 0, 0, 0, 0, 0, 0, 0, 0, 0, 0, 0, 0, 0, 0, 0, 0, 0, 0, 0, 0, 0, 0, 0, 0, 0, 0, 0, 0, 0, 0, 0, 0, 0, 0, 0, 0, 0, 0, 0, 0, 0, 0, 0, 0, 0, 0, 0, 0, 0, 0, 0, 0, 0, 0, 0, 0, 0, 0, 0, 0, 0, 0, 0, 0, 0, 0, 0, 0, 0, 0, 0, 0, 0, 0, 0]}\n",
      "\n",
      "Evaluating Set ID: Set_15_Prop_0.1\n"
     ]
    },
    {
     "name": "stderr",
     "output_type": "stream",
     "text": [
      "Processing predictions: 100%|██████████| 100/100 [00:08<00:00, 11.56it/s]\n",
      "/tmp/ipykernel_6833/3130949446.py:86: FutureWarning: Series.__getitem__ treating keys as positions is deprecated. In a future version, integer keys will always be treated as labels (consistent with DataFrame behavior). To access a value by position, use `ser.iloc[pos]`\n",
      "  answer = row[-1]  # Store the ground truth label\n"
     ]
    },
    {
     "name": "stdout",
     "output_type": "stream",
     "text": [
      "Num of non-numeric or invalid: 0\n",
      "Intermediate results for Run 1: {'Num Features': 5, 'Sample Size': 32, 'Class 1 Proportion': 0.1, 'Set ID': 'Set_15_Prop_0.1', 'Run Number': 1, 'Accuracy': 0.81, 'Precision': 0.25, 'Recall': 0.23076923076923078, 'F1 Score': 0.24, 'Prediction': [0, 1, 0, 0, 0, 0, 0, 1, 0, 0, 0, 0, 0, 0, 0, 0, 0, 1, 0, 0, 0, 0, 1, 0, 0, 0, 0, 0, 0, 0, 0, 0, 1, 0, 0, 0, 0, 0, 0, 0, 0, 0, 0, 0, 0, 0, 1, 0, 0, 0, 0, 0, 0, 0, 0, 0, 0, 0, 0, 0, 0, 0, 0, 0, 0, 0, 0, 0, 0, 0, 0, 0, 1, 1, 1, 0, 0, 0, 0, 0, 0, 0, 0, 0, 0, 1, 0, 0, 0, 0, 0, 1, 0, 0, 0, 0, 1, 0, 0, 0]}\n",
      "\n",
      "Testing with class 1 proportion: 0.3\n",
      "\n",
      "Evaluating Set ID: Set_1_Prop_0.3\n"
     ]
    },
    {
     "name": "stderr",
     "output_type": "stream",
     "text": [
      "Processing predictions: 100%|██████████| 100/100 [00:08<00:00, 11.28it/s]\n",
      "/tmp/ipykernel_6833/3130949446.py:86: FutureWarning: Series.__getitem__ treating keys as positions is deprecated. In a future version, integer keys will always be treated as labels (consistent with DataFrame behavior). To access a value by position, use `ser.iloc[pos]`\n",
      "  answer = row[-1]  # Store the ground truth label\n"
     ]
    },
    {
     "name": "stdout",
     "output_type": "stream",
     "text": [
      "Num of non-numeric or invalid: 0\n",
      "Intermediate results for Run 1: {'Num Features': 5, 'Sample Size': 32, 'Class 1 Proportion': 0.3, 'Set ID': 'Set_1_Prop_0.3', 'Run Number': 1, 'Accuracy': 0.53, 'Precision': 0.16, 'Recall': 0.6153846153846154, 'F1 Score': 0.25396825396825395, 'Prediction': [1, 0, 1, 1, 1, 1, 0, 1, 1, 0, 0, 1, 0, 0, 0, 1, 0, 1, 1, 0, 0, 1, 0, 0, 0, 1, 1, 0, 0, 0, 0, 0, 1, 1, 1, 0, 1, 1, 0, 0, 1, 0, 0, 0, 1, 1, 1, 1, 1, 0, 0, 1, 1, 1, 1, 0, 0, 1, 0, 0, 0, 1, 0, 0, 0, 1, 0, 1, 1, 0, 0, 1, 0, 1, 1, 0, 1, 0, 1, 0, 1, 1, 0, 1, 1, 1, 0, 1, 1, 0, 1, 1, 0, 0, 0, 0, 0, 1, 1, 0]}\n",
      "\n",
      "Evaluating Set ID: Set_2_Prop_0.3\n"
     ]
    },
    {
     "name": "stderr",
     "output_type": "stream",
     "text": [
      "Processing predictions: 100%|██████████| 100/100 [00:08<00:00, 11.33it/s]\n",
      "/tmp/ipykernel_6833/3130949446.py:86: FutureWarning: Series.__getitem__ treating keys as positions is deprecated. In a future version, integer keys will always be treated as labels (consistent with DataFrame behavior). To access a value by position, use `ser.iloc[pos]`\n",
      "  answer = row[-1]  # Store the ground truth label\n"
     ]
    },
    {
     "name": "stdout",
     "output_type": "stream",
     "text": [
      "Num of non-numeric or invalid: 0\n",
      "Intermediate results for Run 1: {'Num Features': 5, 'Sample Size': 32, 'Class 1 Proportion': 0.3, 'Set ID': 'Set_2_Prop_0.3', 'Run Number': 1, 'Accuracy': 0.48, 'Precision': 0.1320754716981132, 'Recall': 0.5384615384615384, 'F1 Score': 0.21212121212121213, 'Prediction': [1, 0, 1, 1, 0, 1, 0, 1, 1, 0, 0, 1, 0, 0, 1, 0, 0, 1, 0, 0, 1, 1, 0, 0, 0, 1, 0, 0, 1, 1, 0, 1, 1, 1, 0, 1, 1, 0, 1, 0, 0, 0, 0, 1, 1, 1, 1, 1, 1, 1, 0, 1, 1, 1, 1, 1, 1, 0, 0, 0, 0, 0, 0, 1, 0, 0, 0, 1, 1, 1, 0, 0, 1, 1, 1, 1, 1, 1, 1, 0, 0, 1, 1, 1, 0, 1, 1, 1, 0, 1, 1, 0, 0, 0, 0, 0, 1, 0, 0, 0]}\n",
      "\n",
      "Evaluating Set ID: Set_3_Prop_0.3\n"
     ]
    },
    {
     "name": "stderr",
     "output_type": "stream",
     "text": [
      "Processing predictions: 100%|██████████| 100/100 [00:08<00:00, 11.53it/s]\n",
      "/tmp/ipykernel_6833/3130949446.py:86: FutureWarning: Series.__getitem__ treating keys as positions is deprecated. In a future version, integer keys will always be treated as labels (consistent with DataFrame behavior). To access a value by position, use `ser.iloc[pos]`\n",
      "  answer = row[-1]  # Store the ground truth label\n"
     ]
    },
    {
     "name": "stdout",
     "output_type": "stream",
     "text": [
      "Num of non-numeric or invalid: 0\n",
      "Intermediate results for Run 1: {'Num Features': 5, 'Sample Size': 32, 'Class 1 Proportion': 0.3, 'Set ID': 'Set_3_Prop_0.3', 'Run Number': 1, 'Accuracy': 0.71, 'Precision': 0.19230769230769232, 'Recall': 0.38461538461538464, 'F1 Score': 0.2564102564102564, 'Prediction': [1, 0, 0, 0, 1, 0, 0, 0, 0, 1, 0, 0, 0, 1, 0, 0, 1, 0, 0, 0, 0, 0, 1, 0, 0, 0, 1, 1, 0, 0, 0, 0, 1, 0, 0, 0, 1, 0, 0, 1, 0, 0, 0, 0, 0, 1, 0, 1, 0, 0, 0, 0, 1, 0, 0, 0, 1, 0, 0, 0, 0, 0, 0, 0, 0, 0, 1, 0, 1, 0, 0, 1, 0, 0, 0, 0, 1, 1, 0, 1, 0, 1, 0, 0, 0, 0, 1, 1, 1, 0, 0, 0, 0, 0, 0, 0, 1, 0, 0, 0]}\n",
      "\n",
      "Evaluating Set ID: Set_4_Prop_0.3\n"
     ]
    },
    {
     "name": "stderr",
     "output_type": "stream",
     "text": [
      "Processing predictions: 100%|██████████| 100/100 [00:08<00:00, 11.83it/s]\n",
      "/tmp/ipykernel_6833/3130949446.py:86: FutureWarning: Series.__getitem__ treating keys as positions is deprecated. In a future version, integer keys will always be treated as labels (consistent with DataFrame behavior). To access a value by position, use `ser.iloc[pos]`\n",
      "  answer = row[-1]  # Store the ground truth label\n"
     ]
    },
    {
     "name": "stdout",
     "output_type": "stream",
     "text": [
      "Num of non-numeric or invalid: 0\n",
      "Intermediate results for Run 1: {'Num Features': 5, 'Sample Size': 32, 'Class 1 Proportion': 0.3, 'Set ID': 'Set_4_Prop_0.3', 'Run Number': 1, 'Accuracy': 0.88, 'Precision': 1.0, 'Recall': 0.07692307692307693, 'F1 Score': 0.14285714285714285, 'Prediction': [0, 0, 0, 0, 0, 0, 0, 0, 0, 0, 0, 0, 0, 0, 0, 0, 0, 0, 0, 0, 0, 0, 0, 0, 0, 0, 0, 0, 0, 0, 0, 0, 0, 0, 0, 0, 0, 0, 0, 0, 0, 0, 0, 0, 0, 0, 0, 0, 0, 0, 0, 0, 0, 0, 0, 0, 0, 0, 0, 0, 0, 0, 0, 0, 0, 0, 0, 0, 0, 0, 0, 1, 0, 0, 0, 0, 0, 0, 0, 0, 0, 0, 0, 0, 0, 0, 0, 0, 0, 0, 0, 0, 0, 0, 0, 0, 0, 0, 0, 0]}\n",
      "\n",
      "Evaluating Set ID: Set_5_Prop_0.3\n"
     ]
    },
    {
     "name": "stderr",
     "output_type": "stream",
     "text": [
      "Processing predictions: 100%|██████████| 100/100 [00:08<00:00, 11.25it/s]\n",
      "/tmp/ipykernel_6833/3130949446.py:86: FutureWarning: Series.__getitem__ treating keys as positions is deprecated. In a future version, integer keys will always be treated as labels (consistent with DataFrame behavior). To access a value by position, use `ser.iloc[pos]`\n",
      "  answer = row[-1]  # Store the ground truth label\n"
     ]
    },
    {
     "name": "stdout",
     "output_type": "stream",
     "text": [
      "Num of non-numeric or invalid: 0\n",
      "Intermediate results for Run 1: {'Num Features': 5, 'Sample Size': 32, 'Class 1 Proportion': 0.3, 'Set ID': 'Set_5_Prop_0.3', 'Run Number': 1, 'Accuracy': 0.81, 'Precision': 0.125, 'Recall': 0.07692307692307693, 'F1 Score': 0.09523809523809523, 'Prediction': [0, 1, 0, 0, 0, 0, 0, 0, 0, 1, 0, 0, 0, 0, 0, 0, 0, 0, 0, 0, 1, 0, 0, 0, 0, 0, 0, 0, 0, 0, 0, 0, 0, 1, 0, 0, 0, 0, 0, 0, 0, 0, 0, 0, 0, 0, 0, 0, 0, 0, 0, 0, 0, 0, 0, 0, 0, 0, 0, 0, 0, 0, 0, 0, 0, 0, 0, 0, 0, 0, 0, 0, 0, 0, 1, 0, 0, 0, 0, 0, 0, 0, 1, 0, 0, 0, 1, 1, 0, 0, 0, 0, 0, 0, 0, 0, 0, 0, 0, 0]}\n",
      "\n",
      "Evaluating Set ID: Set_6_Prop_0.3\n"
     ]
    },
    {
     "name": "stderr",
     "output_type": "stream",
     "text": [
      "Processing predictions: 100%|██████████| 100/100 [00:08<00:00, 12.32it/s]\n",
      "/tmp/ipykernel_6833/3130949446.py:86: FutureWarning: Series.__getitem__ treating keys as positions is deprecated. In a future version, integer keys will always be treated as labels (consistent with DataFrame behavior). To access a value by position, use `ser.iloc[pos]`\n",
      "  answer = row[-1]  # Store the ground truth label\n"
     ]
    },
    {
     "name": "stdout",
     "output_type": "stream",
     "text": [
      "Num of non-numeric or invalid: 0\n",
      "Intermediate results for Run 1: {'Num Features': 5, 'Sample Size': 32, 'Class 1 Proportion': 0.3, 'Set ID': 'Set_6_Prop_0.3', 'Run Number': 1, 'Accuracy': 0.22, 'Precision': 0.12643678160919541, 'Recall': 0.8461538461538461, 'F1 Score': 0.22, 'Prediction': [1, 1, 0, 1, 1, 1, 1, 1, 1, 1, 1, 1, 1, 1, 1, 1, 0, 1, 0, 0, 1, 1, 1, 1, 1, 1, 0, 1, 1, 1, 0, 1, 1, 1, 1, 1, 1, 1, 1, 1, 1, 0, 1, 1, 1, 1, 1, 1, 1, 1, 1, 1, 1, 1, 1, 1, 1, 1, 1, 1, 1, 1, 1, 1, 1, 1, 1, 0, 1, 1, 1, 1, 1, 1, 1, 1, 1, 1, 1, 1, 1, 1, 1, 1, 1, 1, 1, 1, 1, 1, 1, 1, 1, 0, 1, 0, 0, 1, 0, 0]}\n",
      "\n",
      "Evaluating Set ID: Set_7_Prop_0.3\n"
     ]
    },
    {
     "name": "stderr",
     "output_type": "stream",
     "text": [
      "Processing predictions: 100%|██████████| 100/100 [00:09<00:00, 11.09it/s]\n",
      "/tmp/ipykernel_6833/3130949446.py:86: FutureWarning: Series.__getitem__ treating keys as positions is deprecated. In a future version, integer keys will always be treated as labels (consistent with DataFrame behavior). To access a value by position, use `ser.iloc[pos]`\n",
      "  answer = row[-1]  # Store the ground truth label\n"
     ]
    },
    {
     "name": "stdout",
     "output_type": "stream",
     "text": [
      "Num of non-numeric or invalid: 0\n",
      "Intermediate results for Run 1: {'Num Features': 5, 'Sample Size': 32, 'Class 1 Proportion': 0.3, 'Set ID': 'Set_7_Prop_0.3', 'Run Number': 1, 'Accuracy': 0.21, 'Precision': 0.14130434782608695, 'Recall': 1.0, 'F1 Score': 0.24761904761904763, 'Prediction': [1, 1, 1, 1, 1, 0, 1, 1, 1, 1, 1, 1, 1, 1, 1, 1, 0, 0, 0, 1, 1, 1, 1, 1, 1, 1, 1, 1, 1, 1, 0, 1, 1, 1, 1, 1, 1, 1, 1, 1, 1, 1, 0, 1, 1, 1, 1, 1, 1, 1, 1, 1, 1, 1, 1, 1, 1, 1, 1, 1, 1, 1, 1, 1, 1, 1, 1, 1, 1, 1, 1, 1, 1, 1, 1, 1, 1, 1, 1, 1, 1, 1, 0, 1, 1, 1, 1, 1, 1, 1, 1, 1, 1, 0, 1, 1, 1, 1, 1, 1]}\n",
      "\n",
      "Evaluating Set ID: Set_8_Prop_0.3\n"
     ]
    },
    {
     "name": "stderr",
     "output_type": "stream",
     "text": [
      "Processing predictions: 100%|██████████| 100/100 [00:08<00:00, 11.73it/s]\n",
      "/tmp/ipykernel_6833/3130949446.py:86: FutureWarning: Series.__getitem__ treating keys as positions is deprecated. In a future version, integer keys will always be treated as labels (consistent with DataFrame behavior). To access a value by position, use `ser.iloc[pos]`\n",
      "  answer = row[-1]  # Store the ground truth label\n"
     ]
    },
    {
     "name": "stdout",
     "output_type": "stream",
     "text": [
      "Num of non-numeric or invalid: 0\n",
      "Intermediate results for Run 1: {'Num Features': 5, 'Sample Size': 32, 'Class 1 Proportion': 0.3, 'Set ID': 'Set_8_Prop_0.3', 'Run Number': 1, 'Accuracy': 0.7, 'Precision': 0.20689655172413793, 'Recall': 0.46153846153846156, 'F1 Score': 0.2857142857142857, 'Prediction': [1, 0, 1, 0, 1, 0, 0, 1, 0, 0, 1, 0, 0, 0, 0, 0, 0, 0, 1, 0, 0, 1, 0, 0, 0, 0, 0, 1, 1, 0, 0, 0, 0, 1, 1, 0, 0, 1, 0, 0, 0, 0, 0, 0, 1, 1, 0, 0, 0, 0, 0, 0, 0, 1, 1, 1, 0, 0, 0, 0, 0, 0, 0, 0, 0, 0, 0, 1, 0, 1, 0, 0, 0, 1, 1, 0, 1, 0, 0, 1, 0, 1, 0, 0, 0, 0, 1, 1, 1, 0, 1, 0, 0, 0, 0, 0, 1, 0, 0, 0]}\n",
      "\n",
      "Evaluating Set ID: Set_9_Prop_0.3\n"
     ]
    },
    {
     "name": "stderr",
     "output_type": "stream",
     "text": [
      "Processing predictions: 100%|██████████| 100/100 [00:09<00:00, 10.65it/s]\n",
      "/tmp/ipykernel_6833/3130949446.py:86: FutureWarning: Series.__getitem__ treating keys as positions is deprecated. In a future version, integer keys will always be treated as labels (consistent with DataFrame behavior). To access a value by position, use `ser.iloc[pos]`\n",
      "  answer = row[-1]  # Store the ground truth label\n"
     ]
    },
    {
     "name": "stdout",
     "output_type": "stream",
     "text": [
      "Num of non-numeric or invalid: 0\n",
      "Intermediate results for Run 1: {'Num Features': 5, 'Sample Size': 32, 'Class 1 Proportion': 0.3, 'Set ID': 'Set_9_Prop_0.3', 'Run Number': 1, 'Accuracy': 0.55, 'Precision': 0.15217391304347827, 'Recall': 0.5384615384615384, 'F1 Score': 0.23728813559322035, 'Prediction': [1, 0, 1, 0, 0, 1, 1, 0, 1, 0, 1, 1, 0, 0, 1, 1, 0, 1, 0, 1, 0, 1, 1, 1, 0, 1, 0, 0, 0, 1, 0, 0, 1, 1, 0, 1, 1, 0, 0, 0, 0, 0, 0, 0, 1, 0, 0, 1, 1, 1, 0, 0, 0, 1, 1, 0, 0, 1, 0, 1, 0, 1, 0, 1, 1, 0, 0, 0, 1, 1, 1, 1, 0, 1, 1, 1, 1, 1, 0, 1, 0, 0, 0, 0, 1, 0, 1, 0, 0, 1, 0, 0, 0, 1, 0, 0, 1, 0, 0, 0]}\n",
      "\n",
      "Evaluating Set ID: Set_10_Prop_0.3\n"
     ]
    },
    {
     "name": "stderr",
     "output_type": "stream",
     "text": [
      "Processing predictions: 100%|██████████| 100/100 [00:08<00:00, 11.47it/s]\n",
      "/tmp/ipykernel_6833/3130949446.py:86: FutureWarning: Series.__getitem__ treating keys as positions is deprecated. In a future version, integer keys will always be treated as labels (consistent with DataFrame behavior). To access a value by position, use `ser.iloc[pos]`\n",
      "  answer = row[-1]  # Store the ground truth label\n"
     ]
    },
    {
     "name": "stdout",
     "output_type": "stream",
     "text": [
      "Num of non-numeric or invalid: 0\n",
      "Intermediate results for Run 1: {'Num Features': 5, 'Sample Size': 32, 'Class 1 Proportion': 0.3, 'Set ID': 'Set_10_Prop_0.3', 'Run Number': 1, 'Accuracy': 0.79, 'Precision': 0.2777777777777778, 'Recall': 0.38461538461538464, 'F1 Score': 0.3225806451612903, 'Prediction': [0, 1, 0, 0, 0, 1, 0, 0, 1, 0, 1, 0, 0, 0, 0, 0, 0, 1, 0, 0, 0, 0, 1, 0, 0, 0, 0, 0, 0, 0, 0, 0, 0, 1, 0, 0, 0, 0, 0, 0, 0, 0, 0, 0, 1, 0, 1, 0, 0, 0, 0, 0, 0, 1, 0, 0, 0, 0, 0, 0, 0, 0, 0, 0, 0, 0, 0, 0, 0, 1, 0, 1, 1, 1, 1, 0, 0, 0, 0, 0, 0, 0, 0, 0, 0, 0, 1, 1, 0, 0, 0, 0, 0, 0, 0, 1, 0, 0, 0, 0]}\n",
      "\n",
      "Evaluating Set ID: Set_11_Prop_0.3\n"
     ]
    },
    {
     "name": "stderr",
     "output_type": "stream",
     "text": [
      "Processing predictions: 100%|██████████| 100/100 [00:08<00:00, 11.32it/s]\n",
      "/tmp/ipykernel_6833/3130949446.py:86: FutureWarning: Series.__getitem__ treating keys as positions is deprecated. In a future version, integer keys will always be treated as labels (consistent with DataFrame behavior). To access a value by position, use `ser.iloc[pos]`\n",
      "  answer = row[-1]  # Store the ground truth label\n"
     ]
    },
    {
     "name": "stdout",
     "output_type": "stream",
     "text": [
      "Num of non-numeric or invalid: 0\n",
      "Intermediate results for Run 1: {'Num Features': 5, 'Sample Size': 32, 'Class 1 Proportion': 0.3, 'Set ID': 'Set_11_Prop_0.3', 'Run Number': 1, 'Accuracy': 0.83, 'Precision': 0.3, 'Recall': 0.23076923076923078, 'F1 Score': 0.2608695652173913, 'Prediction': [0, 1, 0, 0, 0, 0, 0, 0, 0, 0, 0, 0, 0, 0, 0, 0, 0, 0, 0, 0, 1, 0, 0, 1, 0, 0, 0, 0, 0, 0, 0, 0, 0, 0, 0, 0, 0, 0, 0, 0, 0, 0, 0, 0, 0, 0, 0, 0, 1, 0, 0, 0, 0, 0, 0, 0, 1, 0, 0, 0, 1, 0, 0, 1, 0, 0, 0, 0, 0, 0, 0, 0, 1, 0, 0, 0, 0, 0, 1, 0, 0, 0, 0, 0, 0, 0, 0, 0, 0, 1, 0, 0, 0, 0, 0, 0, 0, 0, 0, 0]}\n",
      "\n",
      "Evaluating Set ID: Set_12_Prop_0.3\n"
     ]
    },
    {
     "name": "stderr",
     "output_type": "stream",
     "text": [
      "Processing predictions: 100%|██████████| 100/100 [00:08<00:00, 11.72it/s]\n",
      "/tmp/ipykernel_6833/3130949446.py:86: FutureWarning: Series.__getitem__ treating keys as positions is deprecated. In a future version, integer keys will always be treated as labels (consistent with DataFrame behavior). To access a value by position, use `ser.iloc[pos]`\n",
      "  answer = row[-1]  # Store the ground truth label\n"
     ]
    },
    {
     "name": "stdout",
     "output_type": "stream",
     "text": [
      "Num of non-numeric or invalid: 0\n",
      "Intermediate results for Run 1: {'Num Features': 5, 'Sample Size': 32, 'Class 1 Proportion': 0.3, 'Set ID': 'Set_12_Prop_0.3', 'Run Number': 1, 'Accuracy': 0.77, 'Precision': 0.25, 'Recall': 0.38461538461538464, 'F1 Score': 0.30303030303030304, 'Prediction': [0, 0, 0, 1, 0, 0, 1, 0, 1, 1, 0, 0, 0, 0, 0, 0, 0, 0, 1, 0, 0, 0, 1, 0, 0, 0, 0, 1, 1, 0, 0, 0, 0, 0, 0, 0, 0, 0, 0, 0, 0, 0, 0, 0, 0, 1, 0, 0, 0, 0, 1, 0, 1, 0, 0, 1, 0, 0, 0, 0, 0, 0, 0, 0, 0, 0, 0, 0, 0, 0, 1, 1, 1, 1, 0, 0, 0, 0, 0, 1, 0, 0, 0, 0, 0, 1, 0, 1, 0, 0, 0, 0, 0, 0, 0, 1, 0, 0, 0, 0]}\n",
      "\n",
      "Evaluating Set ID: Set_13_Prop_0.3\n"
     ]
    },
    {
     "name": "stderr",
     "output_type": "stream",
     "text": [
      "Processing predictions: 100%|██████████| 100/100 [00:08<00:00, 12.04it/s]\n",
      "/tmp/ipykernel_6833/3130949446.py:86: FutureWarning: Series.__getitem__ treating keys as positions is deprecated. In a future version, integer keys will always be treated as labels (consistent with DataFrame behavior). To access a value by position, use `ser.iloc[pos]`\n",
      "  answer = row[-1]  # Store the ground truth label\n"
     ]
    },
    {
     "name": "stdout",
     "output_type": "stream",
     "text": [
      "Num of non-numeric or invalid: 0\n",
      "Intermediate results for Run 1: {'Num Features': 5, 'Sample Size': 32, 'Class 1 Proportion': 0.3, 'Set ID': 'Set_13_Prop_0.3', 'Run Number': 1, 'Accuracy': 0.51, 'Precision': 0.09090909090909091, 'Recall': 0.3076923076923077, 'F1 Score': 0.14035087719298245, 'Prediction': [0, 1, 0, 0, 0, 1, 0, 1, 0, 0, 0, 0, 1, 1, 0, 0, 0, 0, 0, 0, 1, 1, 0, 1, 1, 1, 0, 1, 1, 1, 1, 0, 0, 0, 0, 1, 1, 1, 1, 1, 0, 0, 0, 0, 1, 0, 1, 1, 0, 1, 1, 1, 0, 1, 0, 1, 1, 1, 1, 1, 1, 0, 0, 0, 0, 0, 1, 1, 0, 1, 0, 1, 0, 0, 0, 1, 0, 1, 1, 1, 0, 1, 0, 0, 1, 0, 0, 0, 1, 0, 0, 0, 1, 0, 0, 0, 0, 0, 0, 0]}\n",
      "\n",
      "Evaluating Set ID: Set_14_Prop_0.3\n"
     ]
    },
    {
     "name": "stderr",
     "output_type": "stream",
     "text": [
      "Processing predictions: 100%|██████████| 100/100 [00:11<00:00,  8.70it/s]\n",
      "/tmp/ipykernel_6833/3130949446.py:86: FutureWarning: Series.__getitem__ treating keys as positions is deprecated. In a future version, integer keys will always be treated as labels (consistent with DataFrame behavior). To access a value by position, use `ser.iloc[pos]`\n",
      "  answer = row[-1]  # Store the ground truth label\n"
     ]
    },
    {
     "name": "stdout",
     "output_type": "stream",
     "text": [
      "Num of non-numeric or invalid: 0\n",
      "Intermediate results for Run 1: {'Num Features': 5, 'Sample Size': 32, 'Class 1 Proportion': 0.3, 'Set ID': 'Set_14_Prop_0.3', 'Run Number': 1, 'Accuracy': 0.87, 'Precision': 0.5, 'Recall': 0.07692307692307693, 'F1 Score': 0.13333333333333333, 'Prediction': [0, 0, 0, 0, 1, 0, 0, 0, 0, 0, 0, 0, 0, 0, 0, 0, 0, 0, 0, 0, 0, 0, 0, 0, 0, 0, 0, 0, 0, 0, 0, 0, 0, 0, 0, 0, 0, 0, 0, 0, 0, 0, 0, 0, 0, 0, 0, 0, 0, 0, 0, 0, 0, 0, 0, 0, 0, 0, 0, 0, 0, 0, 0, 0, 0, 0, 0, 0, 0, 0, 0, 1, 0, 0, 0, 0, 0, 0, 0, 0, 0, 0, 0, 0, 0, 0, 0, 0, 0, 0, 0, 0, 0, 0, 0, 0, 0, 0, 0, 0]}\n",
      "\n",
      "Evaluating Set ID: Set_15_Prop_0.3\n"
     ]
    },
    {
     "name": "stderr",
     "output_type": "stream",
     "text": [
      "Processing predictions: 100%|██████████| 100/100 [00:13<00:00,  7.31it/s]\n",
      "/tmp/ipykernel_6833/3130949446.py:86: FutureWarning: Series.__getitem__ treating keys as positions is deprecated. In a future version, integer keys will always be treated as labels (consistent with DataFrame behavior). To access a value by position, use `ser.iloc[pos]`\n",
      "  answer = row[-1]  # Store the ground truth label\n"
     ]
    },
    {
     "name": "stdout",
     "output_type": "stream",
     "text": [
      "Num of non-numeric or invalid: 0\n",
      "Intermediate results for Run 1: {'Num Features': 5, 'Sample Size': 32, 'Class 1 Proportion': 0.3, 'Set ID': 'Set_15_Prop_0.3', 'Run Number': 1, 'Accuracy': 0.53, 'Precision': 0.11363636363636363, 'Recall': 0.38461538461538464, 'F1 Score': 0.17543859649122806, 'Prediction': [1, 0, 0, 0, 1, 0, 0, 0, 0, 0, 1, 1, 1, 1, 1, 1, 0, 0, 0, 0, 1, 1, 0, 1, 1, 0, 0, 1, 0, 1, 1, 0, 0, 0, 0, 0, 1, 1, 1, 0, 0, 0, 0, 1, 0, 0, 0, 1, 0, 1, 0, 0, 0, 0, 1, 0, 0, 1, 1, 1, 1, 0, 1, 1, 1, 1, 0, 1, 0, 0, 1, 0, 0, 1, 0, 1, 1, 0, 1, 0, 0, 0, 0, 1, 0, 0, 0, 1, 0, 1, 0, 1, 0, 1, 0, 0, 1, 1, 0, 1]}\n",
      "\n",
      "Testing with class 1 proportion: 0.5\n",
      "\n",
      "Evaluating Set ID: Set_1_Prop_0.5\n"
     ]
    },
    {
     "name": "stderr",
     "output_type": "stream",
     "text": [
      "Processing predictions: 100%|██████████| 100/100 [00:08<00:00, 12.31it/s]\n",
      "/tmp/ipykernel_6833/3130949446.py:86: FutureWarning: Series.__getitem__ treating keys as positions is deprecated. In a future version, integer keys will always be treated as labels (consistent with DataFrame behavior). To access a value by position, use `ser.iloc[pos]`\n",
      "  answer = row[-1]  # Store the ground truth label\n"
     ]
    },
    {
     "name": "stdout",
     "output_type": "stream",
     "text": [
      "Num of non-numeric or invalid: 0\n",
      "Intermediate results for Run 1: {'Num Features': 5, 'Sample Size': 32, 'Class 1 Proportion': 0.5, 'Set ID': 'Set_1_Prop_0.5', 'Run Number': 1, 'Accuracy': 0.26, 'Precision': 0.14942528735632185, 'Recall': 1.0, 'F1 Score': 0.26, 'Prediction': [1, 1, 1, 1, 1, 1, 1, 1, 1, 1, 1, 1, 0, 0, 1, 1, 1, 1, 1, 0, 0, 1, 1, 1, 1, 1, 1, 1, 1, 0, 1, 1, 0, 1, 0, 1, 1, 1, 1, 1, 1, 0, 1, 1, 1, 1, 1, 1, 1, 1, 1, 0, 1, 1, 1, 1, 1, 1, 1, 0, 0, 1, 0, 1, 1, 1, 1, 1, 1, 1, 1, 1, 1, 1, 1, 1, 1, 1, 1, 1, 1, 1, 1, 1, 1, 1, 1, 1, 1, 1, 1, 0, 1, 1, 1, 1, 1, 1, 1, 1]}\n",
      "\n",
      "Evaluating Set ID: Set_2_Prop_0.5\n"
     ]
    },
    {
     "name": "stderr",
     "output_type": "stream",
     "text": [
      "Processing predictions: 100%|██████████| 100/100 [00:09<00:00, 11.08it/s]\n",
      "/tmp/ipykernel_6833/3130949446.py:86: FutureWarning: Series.__getitem__ treating keys as positions is deprecated. In a future version, integer keys will always be treated as labels (consistent with DataFrame behavior). To access a value by position, use `ser.iloc[pos]`\n",
      "  answer = row[-1]  # Store the ground truth label\n"
     ]
    },
    {
     "name": "stdout",
     "output_type": "stream",
     "text": [
      "Num of non-numeric or invalid: 0\n",
      "Intermediate results for Run 1: {'Num Features': 5, 'Sample Size': 32, 'Class 1 Proportion': 0.5, 'Set ID': 'Set_2_Prop_0.5', 'Run Number': 1, 'Accuracy': 0.51, 'Precision': 0.17857142857142858, 'Recall': 0.7692307692307693, 'F1 Score': 0.2898550724637681, 'Prediction': [1, 0, 0, 1, 1, 0, 0, 0, 0, 1, 1, 1, 0, 1, 0, 0, 1, 0, 1, 0, 0, 1, 0, 0, 0, 0, 1, 1, 1, 0, 0, 0, 1, 0, 1, 0, 1, 1, 0, 1, 0, 0, 0, 1, 1, 0, 1, 0, 0, 1, 1, 1, 1, 1, 0, 1, 1, 0, 0, 0, 1, 0, 0, 0, 0, 0, 1, 1, 0, 1, 1, 1, 0, 1, 1, 1, 0, 0, 0, 1, 1, 1, 1, 1, 1, 1, 1, 1, 1, 1, 0, 0, 1, 1, 1, 1, 1, 1, 1, 1]}\n",
      "\n",
      "Evaluating Set ID: Set_3_Prop_0.5\n"
     ]
    },
    {
     "name": "stderr",
     "output_type": "stream",
     "text": [
      "Processing predictions: 100%|██████████| 100/100 [00:09<00:00, 11.10it/s]\n",
      "/tmp/ipykernel_6833/3130949446.py:86: FutureWarning: Series.__getitem__ treating keys as positions is deprecated. In a future version, integer keys will always be treated as labels (consistent with DataFrame behavior). To access a value by position, use `ser.iloc[pos]`\n",
      "  answer = row[-1]  # Store the ground truth label\n"
     ]
    },
    {
     "name": "stdout",
     "output_type": "stream",
     "text": [
      "Num of non-numeric or invalid: 0\n",
      "Intermediate results for Run 1: {'Num Features': 5, 'Sample Size': 32, 'Class 1 Proportion': 0.5, 'Set ID': 'Set_3_Prop_0.5', 'Run Number': 1, 'Accuracy': 0.36, 'Precision': 0.14084507042253522, 'Recall': 0.7692307692307693, 'F1 Score': 0.23809523809523808, 'Prediction': [1, 1, 0, 1, 1, 1, 0, 1, 0, 1, 1, 1, 0, 0, 0, 1, 1, 1, 1, 0, 1, 0, 1, 0, 0, 1, 1, 1, 0, 1, 1, 0, 1, 1, 1, 0, 0, 1, 0, 0, 1, 1, 1, 1, 0, 1, 1, 1, 0, 0, 1, 1, 1, 1, 1, 1, 1, 0, 0, 1, 1, 1, 0, 0, 0, 1, 1, 1, 0, 1, 1, 1, 0, 1, 1, 1, 1, 0, 1, 1, 1, 1, 1, 1, 1, 1, 1, 1, 1, 0, 1, 0, 1, 1, 1, 1, 1, 1, 1, 1]}\n",
      "\n",
      "Evaluating Set ID: Set_4_Prop_0.5\n"
     ]
    },
    {
     "name": "stderr",
     "output_type": "stream",
     "text": [
      "Processing predictions: 100%|██████████| 100/100 [00:08<00:00, 11.93it/s]\n",
      "/tmp/ipykernel_6833/3130949446.py:86: FutureWarning: Series.__getitem__ treating keys as positions is deprecated. In a future version, integer keys will always be treated as labels (consistent with DataFrame behavior). To access a value by position, use `ser.iloc[pos]`\n",
      "  answer = row[-1]  # Store the ground truth label\n"
     ]
    },
    {
     "name": "stdout",
     "output_type": "stream",
     "text": [
      "Num of non-numeric or invalid: 0\n",
      "Intermediate results for Run 1: {'Num Features': 5, 'Sample Size': 32, 'Class 1 Proportion': 0.5, 'Set ID': 'Set_4_Prop_0.5', 'Run Number': 1, 'Accuracy': 0.27, 'Precision': 0.1511627906976744, 'Recall': 1.0, 'F1 Score': 0.26262626262626265, 'Prediction': [0, 1, 1, 1, 1, 1, 1, 1, 1, 1, 1, 1, 1, 0, 1, 1, 0, 0, 0, 1, 1, 1, 1, 1, 0, 1, 1, 1, 1, 1, 0, 1, 0, 1, 1, 1, 1, 1, 1, 1, 1, 0, 1, 0, 1, 1, 1, 1, 1, 1, 1, 1, 1, 1, 1, 1, 1, 1, 1, 0, 1, 0, 1, 1, 1, 1, 1, 1, 1, 1, 1, 1, 1, 1, 1, 1, 1, 1, 1, 1, 1, 1, 1, 1, 1, 1, 1, 1, 1, 1, 1, 1, 0, 0, 1, 1, 1, 1, 1, 1]}\n",
      "\n",
      "Evaluating Set ID: Set_5_Prop_0.5\n"
     ]
    },
    {
     "name": "stderr",
     "output_type": "stream",
     "text": [
      "Processing predictions: 100%|██████████| 100/100 [00:08<00:00, 11.46it/s]\n",
      "/tmp/ipykernel_6833/3130949446.py:86: FutureWarning: Series.__getitem__ treating keys as positions is deprecated. In a future version, integer keys will always be treated as labels (consistent with DataFrame behavior). To access a value by position, use `ser.iloc[pos]`\n",
      "  answer = row[-1]  # Store the ground truth label\n"
     ]
    },
    {
     "name": "stdout",
     "output_type": "stream",
     "text": [
      "Num of non-numeric or invalid: 0\n",
      "Intermediate results for Run 1: {'Num Features': 5, 'Sample Size': 32, 'Class 1 Proportion': 0.5, 'Set ID': 'Set_5_Prop_0.5', 'Run Number': 1, 'Accuracy': 0.67, 'Precision': 0.14285714285714285, 'Recall': 0.3076923076923077, 'F1 Score': 0.1951219512195122, 'Prediction': [1, 0, 0, 1, 0, 0, 0, 0, 1, 1, 0, 0, 0, 0, 0, 0, 0, 1, 0, 0, 0, 1, 0, 0, 0, 0, 1, 0, 0, 0, 1, 0, 0, 0, 1, 0, 0, 1, 0, 1, 0, 0, 0, 0, 1, 0, 0, 0, 1, 1, 0, 0, 1, 1, 1, 1, 0, 0, 0, 0, 0, 0, 0, 0, 0, 0, 1, 1, 0, 1, 0, 0, 0, 0, 1, 0, 0, 0, 0, 1, 1, 0, 1, 0, 1, 0, 0, 1, 0, 0, 0, 0, 0, 1, 0, 0, 0, 0, 0, 0]}\n",
      "\n",
      "Evaluating Set ID: Set_6_Prop_0.5\n"
     ]
    },
    {
     "name": "stderr",
     "output_type": "stream",
     "text": [
      "Processing predictions: 100%|██████████| 100/100 [00:10<00:00,  9.70it/s]\n",
      "/tmp/ipykernel_6833/3130949446.py:86: FutureWarning: Series.__getitem__ treating keys as positions is deprecated. In a future version, integer keys will always be treated as labels (consistent with DataFrame behavior). To access a value by position, use `ser.iloc[pos]`\n",
      "  answer = row[-1]  # Store the ground truth label\n"
     ]
    },
    {
     "name": "stdout",
     "output_type": "stream",
     "text": [
      "Num of non-numeric or invalid: 0\n",
      "Intermediate results for Run 1: {'Num Features': 5, 'Sample Size': 32, 'Class 1 Proportion': 0.5, 'Set ID': 'Set_6_Prop_0.5', 'Run Number': 1, 'Accuracy': 0.33, 'Precision': 0.15384615384615385, 'Recall': 0.9230769230769231, 'F1 Score': 0.26373626373626374, 'Prediction': [0, 1, 1, 1, 1, 0, 0, 0, 1, 1, 1, 1, 1, 1, 1, 1, 0, 0, 0, 1, 1, 1, 1, 0, 1, 1, 0, 1, 1, 1, 0, 1, 1, 1, 0, 1, 1, 1, 1, 1, 1, 0, 0, 1, 1, 1, 1, 1, 1, 1, 1, 1, 1, 1, 1, 1, 1, 1, 1, 1, 1, 1, 1, 0, 0, 1, 1, 1, 1, 1, 1, 1, 1, 1, 1, 1, 1, 1, 1, 1, 1, 1, 1, 1, 1, 0, 1, 0, 0, 0, 1, 1, 0, 0, 1, 1, 0, 1, 1, 1]}\n",
      "\n",
      "Evaluating Set ID: Set_7_Prop_0.5\n"
     ]
    },
    {
     "name": "stderr",
     "output_type": "stream",
     "text": [
      "Processing predictions: 100%|██████████| 100/100 [00:17<00:00,  5.86it/s]\n",
      "/tmp/ipykernel_6833/3130949446.py:86: FutureWarning: Series.__getitem__ treating keys as positions is deprecated. In a future version, integer keys will always be treated as labels (consistent with DataFrame behavior). To access a value by position, use `ser.iloc[pos]`\n",
      "  answer = row[-1]  # Store the ground truth label\n"
     ]
    },
    {
     "name": "stdout",
     "output_type": "stream",
     "text": [
      "Num of non-numeric or invalid: 0\n",
      "Intermediate results for Run 1: {'Num Features': 5, 'Sample Size': 32, 'Class 1 Proportion': 0.5, 'Set ID': 'Set_7_Prop_0.5', 'Run Number': 1, 'Accuracy': 0.5, 'Precision': 0.17543859649122806, 'Recall': 0.7692307692307693, 'F1 Score': 0.2857142857142857, 'Prediction': [1, 0, 1, 0, 1, 1, 0, 1, 1, 0, 1, 1, 1, 0, 0, 1, 0, 0, 0, 0, 0, 1, 0, 0, 0, 0, 0, 1, 1, 0, 0, 0, 1, 0, 1, 1, 0, 0, 1, 0, 0, 1, 0, 1, 0, 1, 1, 0, 0, 1, 1, 1, 1, 0, 1, 0, 0, 0, 1, 0, 0, 1, 0, 1, 1, 1, 1, 0, 0, 1, 1, 1, 1, 0, 1, 0, 0, 1, 1, 1, 1, 1, 0, 1, 1, 1, 1, 1, 1, 0, 1, 0, 1, 1, 1, 1, 1, 1, 1, 1]}\n",
      "\n",
      "Evaluating Set ID: Set_8_Prop_0.5\n"
     ]
    },
    {
     "name": "stderr",
     "output_type": "stream",
     "text": [
      "Processing predictions: 100%|██████████| 100/100 [00:13<00:00,  7.66it/s]\n",
      "/tmp/ipykernel_6833/3130949446.py:86: FutureWarning: Series.__getitem__ treating keys as positions is deprecated. In a future version, integer keys will always be treated as labels (consistent with DataFrame behavior). To access a value by position, use `ser.iloc[pos]`\n",
      "  answer = row[-1]  # Store the ground truth label\n"
     ]
    },
    {
     "name": "stdout",
     "output_type": "stream",
     "text": [
      "Num of non-numeric or invalid: 0\n",
      "Intermediate results for Run 1: {'Num Features': 5, 'Sample Size': 32, 'Class 1 Proportion': 0.5, 'Set ID': 'Set_8_Prop_0.5', 'Run Number': 1, 'Accuracy': 0.49, 'Precision': 0.1724137931034483, 'Recall': 0.7692307692307693, 'F1 Score': 0.28169014084507044, 'Prediction': [0, 0, 1, 1, 1, 1, 0, 1, 0, 1, 1, 1, 1, 0, 0, 0, 0, 1, 1, 0, 0, 0, 1, 0, 0, 0, 0, 1, 1, 1, 0, 0, 0, 1, 1, 0, 1, 0, 1, 1, 0, 0, 0, 0, 1, 1, 1, 1, 0, 0, 1, 1, 1, 0, 1, 1, 0, 0, 0, 0, 0, 1, 0, 0, 1, 1, 1, 1, 1, 1, 1, 1, 0, 1, 0, 0, 1, 0, 1, 1, 1, 1, 1, 1, 1, 1, 1, 0, 1, 1, 0, 1, 0, 1, 1, 1, 1, 1, 1, 0]}\n",
      "\n",
      "Evaluating Set ID: Set_9_Prop_0.5\n"
     ]
    },
    {
     "name": "stderr",
     "output_type": "stream",
     "text": [
      "Processing predictions: 100%|██████████| 100/100 [00:10<00:00,  9.13it/s]\n",
      "/tmp/ipykernel_6833/3130949446.py:86: FutureWarning: Series.__getitem__ treating keys as positions is deprecated. In a future version, integer keys will always be treated as labels (consistent with DataFrame behavior). To access a value by position, use `ser.iloc[pos]`\n",
      "  answer = row[-1]  # Store the ground truth label\n"
     ]
    },
    {
     "name": "stdout",
     "output_type": "stream",
     "text": [
      "Num of non-numeric or invalid: 0\n",
      "Intermediate results for Run 1: {'Num Features': 5, 'Sample Size': 32, 'Class 1 Proportion': 0.5, 'Set ID': 'Set_9_Prop_0.5', 'Run Number': 1, 'Accuracy': 0.17, 'Precision': 0.13541666666666666, 'Recall': 1.0, 'F1 Score': 0.23853211009174313, 'Prediction': [1, 1, 1, 1, 1, 1, 1, 1, 1, 1, 1, 1, 1, 1, 1, 0, 1, 1, 1, 1, 1, 1, 1, 1, 1, 1, 1, 1, 1, 1, 1, 1, 1, 1, 1, 1, 1, 1, 1, 1, 1, 1, 1, 1, 1, 1, 1, 1, 1, 1, 1, 1, 1, 1, 1, 1, 0, 0, 1, 0, 1, 1, 1, 1, 1, 1, 1, 1, 1, 1, 1, 1, 1, 1, 1, 1, 1, 1, 1, 1, 1, 1, 1, 1, 1, 1, 1, 1, 1, 1, 1, 1, 1, 1, 1, 1, 1, 1, 1, 1]}\n",
      "\n",
      "Evaluating Set ID: Set_10_Prop_0.5\n"
     ]
    },
    {
     "name": "stderr",
     "output_type": "stream",
     "text": [
      "Processing predictions: 100%|██████████| 100/100 [00:08<00:00, 12.19it/s]\n",
      "/tmp/ipykernel_6833/3130949446.py:86: FutureWarning: Series.__getitem__ treating keys as positions is deprecated. In a future version, integer keys will always be treated as labels (consistent with DataFrame behavior). To access a value by position, use `ser.iloc[pos]`\n",
      "  answer = row[-1]  # Store the ground truth label\n"
     ]
    },
    {
     "name": "stdout",
     "output_type": "stream",
     "text": [
      "Num of non-numeric or invalid: 0\n",
      "Intermediate results for Run 1: {'Num Features': 5, 'Sample Size': 32, 'Class 1 Proportion': 0.5, 'Set ID': 'Set_10_Prop_0.5', 'Run Number': 1, 'Accuracy': 0.3, 'Precision': 0.14814814814814814, 'Recall': 0.9230769230769231, 'F1 Score': 0.2553191489361702, 'Prediction': [1, 1, 1, 0, 1, 0, 0, 1, 1, 1, 1, 1, 1, 1, 1, 1, 0, 0, 1, 0, 1, 1, 1, 1, 1, 0, 1, 1, 1, 1, 0, 1, 1, 1, 1, 1, 1, 1, 1, 1, 1, 0, 1, 1, 0, 1, 1, 0, 1, 1, 0, 0, 1, 1, 1, 1, 1, 0, 1, 1, 1, 1, 1, 1, 1, 1, 1, 1, 1, 1, 0, 1, 1, 1, 1, 1, 1, 1, 1, 1, 1, 1, 1, 0, 1, 0, 1, 1, 1, 1, 1, 0, 1, 0, 1, 1, 1, 1, 1, 1]}\n",
      "\n",
      "Evaluating Set ID: Set_11_Prop_0.5\n"
     ]
    },
    {
     "name": "stderr",
     "output_type": "stream",
     "text": [
      "Processing predictions: 100%|██████████| 100/100 [00:08<00:00, 11.35it/s]\n",
      "/tmp/ipykernel_6833/3130949446.py:86: FutureWarning: Series.__getitem__ treating keys as positions is deprecated. In a future version, integer keys will always be treated as labels (consistent with DataFrame behavior). To access a value by position, use `ser.iloc[pos]`\n",
      "  answer = row[-1]  # Store the ground truth label\n"
     ]
    },
    {
     "name": "stdout",
     "output_type": "stream",
     "text": [
      "Num of non-numeric or invalid: 0\n",
      "Intermediate results for Run 1: {'Num Features': 5, 'Sample Size': 32, 'Class 1 Proportion': 0.5, 'Set ID': 'Set_11_Prop_0.5', 'Run Number': 1, 'Accuracy': 0.74, 'Precision': 0.19047619047619047, 'Recall': 0.3076923076923077, 'F1 Score': 0.23529411764705882, 'Prediction': [1, 0, 0, 0, 0, 0, 1, 0, 1, 0, 0, 0, 1, 0, 0, 0, 0, 1, 0, 0, 0, 0, 0, 0, 0, 1, 0, 0, 0, 0, 0, 0, 0, 1, 0, 0, 0, 0, 0, 0, 0, 0, 0, 0, 0, 0, 1, 0, 1, 0, 0, 0, 0, 1, 0, 0, 0, 0, 0, 1, 0, 0, 0, 0, 0, 1, 0, 0, 1, 0, 0, 0, 0, 1, 1, 0, 1, 1, 0, 0, 0, 0, 0, 0, 1, 0, 1, 1, 0, 0, 0, 0, 0, 0, 0, 0, 1, 0, 0, 0]}\n",
      "\n",
      "Evaluating Set ID: Set_12_Prop_0.5\n"
     ]
    },
    {
     "name": "stderr",
     "output_type": "stream",
     "text": [
      "Processing predictions: 100%|██████████| 100/100 [00:09<00:00, 10.92it/s]\n",
      "/tmp/ipykernel_6833/3130949446.py:86: FutureWarning: Series.__getitem__ treating keys as positions is deprecated. In a future version, integer keys will always be treated as labels (consistent with DataFrame behavior). To access a value by position, use `ser.iloc[pos]`\n",
      "  answer = row[-1]  # Store the ground truth label\n"
     ]
    },
    {
     "name": "stdout",
     "output_type": "stream",
     "text": [
      "Num of non-numeric or invalid: 0\n",
      "Intermediate results for Run 1: {'Num Features': 5, 'Sample Size': 32, 'Class 1 Proportion': 0.5, 'Set ID': 'Set_12_Prop_0.5', 'Run Number': 1, 'Accuracy': 0.45, 'Precision': 0.16129032258064516, 'Recall': 0.7692307692307693, 'F1 Score': 0.26666666666666666, 'Prediction': [1, 0, 0, 1, 1, 1, 0, 1, 0, 1, 1, 1, 1, 0, 1, 0, 0, 1, 1, 0, 0, 1, 0, 1, 0, 0, 1, 1, 1, 0, 1, 0, 1, 1, 0, 1, 1, 0, 0, 1, 1, 0, 0, 1, 0, 1, 1, 1, 0, 1, 0, 1, 1, 0, 1, 1, 0, 0, 1, 0, 1, 0, 0, 0, 1, 1, 1, 1, 1, 0, 1, 1, 1, 0, 1, 1, 0, 0, 1, 1, 1, 0, 1, 0, 1, 1, 1, 1, 1, 0, 1, 0, 0, 1, 1, 1, 1, 1, 1, 1]}\n",
      "\n",
      "Evaluating Set ID: Set_13_Prop_0.5\n"
     ]
    },
    {
     "name": "stderr",
     "output_type": "stream",
     "text": [
      "Processing predictions: 100%|██████████| 100/100 [00:08<00:00, 12.02it/s]\n",
      "/tmp/ipykernel_6833/3130949446.py:86: FutureWarning: Series.__getitem__ treating keys as positions is deprecated. In a future version, integer keys will always be treated as labels (consistent with DataFrame behavior). To access a value by position, use `ser.iloc[pos]`\n",
      "  answer = row[-1]  # Store the ground truth label\n"
     ]
    },
    {
     "name": "stdout",
     "output_type": "stream",
     "text": [
      "Num of non-numeric or invalid: 0\n",
      "Intermediate results for Run 1: {'Num Features': 5, 'Sample Size': 32, 'Class 1 Proportion': 0.5, 'Set ID': 'Set_13_Prop_0.5', 'Run Number': 1, 'Accuracy': 0.53, 'Precision': 0.16, 'Recall': 0.6153846153846154, 'F1 Score': 0.25396825396825395, 'Prediction': [0, 0, 1, 1, 1, 1, 0, 1, 0, 1, 0, 0, 0, 0, 0, 1, 0, 1, 0, 0, 1, 1, 0, 1, 1, 1, 0, 1, 1, 1, 0, 1, 0, 0, 0, 1, 1, 1, 1, 1, 1, 1, 0, 1, 0, 0, 0, 1, 0, 0, 1, 1, 0, 0, 1, 1, 1, 1, 1, 0, 0, 1, 0, 1, 1, 0, 1, 1, 1, 1, 1, 0, 0, 0, 0, 1, 1, 1, 1, 1, 0, 0, 1, 0, 0, 0, 0, 0, 0, 1, 1, 0, 1, 0, 0, 0, 0, 0, 0, 0]}\n",
      "\n",
      "Evaluating Set ID: Set_14_Prop_0.5\n"
     ]
    },
    {
     "name": "stderr",
     "output_type": "stream",
     "text": [
      "Processing predictions: 100%|██████████| 100/100 [00:08<00:00, 11.35it/s]\n",
      "/tmp/ipykernel_6833/3130949446.py:86: FutureWarning: Series.__getitem__ treating keys as positions is deprecated. In a future version, integer keys will always be treated as labels (consistent with DataFrame behavior). To access a value by position, use `ser.iloc[pos]`\n",
      "  answer = row[-1]  # Store the ground truth label\n"
     ]
    },
    {
     "name": "stdout",
     "output_type": "stream",
     "text": [
      "Num of non-numeric or invalid: 0\n",
      "Intermediate results for Run 1: {'Num Features': 5, 'Sample Size': 32, 'Class 1 Proportion': 0.5, 'Set ID': 'Set_14_Prop_0.5', 'Run Number': 1, 'Accuracy': 0.66, 'Precision': 0.13793103448275862, 'Recall': 0.3076923076923077, 'F1 Score': 0.19047619047619047, 'Prediction': [0, 0, 1, 0, 0, 0, 0, 1, 0, 1, 0, 0, 1, 0, 0, 0, 0, 1, 0, 1, 0, 1, 0, 0, 0, 0, 0, 0, 0, 1, 1, 0, 1, 0, 1, 0, 0, 0, 0, 0, 0, 0, 0, 0, 0, 1, 1, 0, 0, 1, 0, 0, 0, 0, 1, 0, 0, 0, 1, 1, 0, 0, 0, 0, 1, 0, 0, 0, 1, 1, 1, 0, 0, 1, 1, 1, 1, 1, 0, 0, 0, 0, 0, 0, 0, 1, 0, 1, 0, 0, 0, 0, 0, 0, 0, 0, 0, 0, 1, 0]}\n",
      "\n",
      "Evaluating Set ID: Set_15_Prop_0.5\n"
     ]
    },
    {
     "name": "stderr",
     "output_type": "stream",
     "text": [
      "Processing predictions: 100%|██████████| 100/100 [00:07<00:00, 12.78it/s]\n",
      "/tmp/ipykernel_6833/3130949446.py:86: FutureWarning: Series.__getitem__ treating keys as positions is deprecated. In a future version, integer keys will always be treated as labels (consistent with DataFrame behavior). To access a value by position, use `ser.iloc[pos]`\n",
      "  answer = row[-1]  # Store the ground truth label\n"
     ]
    },
    {
     "name": "stdout",
     "output_type": "stream",
     "text": [
      "Num of non-numeric or invalid: 0\n",
      "Intermediate results for Run 1: {'Num Features': 5, 'Sample Size': 32, 'Class 1 Proportion': 0.5, 'Set ID': 'Set_15_Prop_0.5', 'Run Number': 1, 'Accuracy': 0.49, 'Precision': 0.16071428571428573, 'Recall': 0.6923076923076923, 'F1 Score': 0.2608695652173913, 'Prediction': [0, 1, 1, 0, 1, 1, 1, 0, 0, 1, 1, 1, 1, 0, 0, 0, 0, 1, 0, 1, 0, 1, 0, 0, 0, 1, 1, 1, 0, 0, 0, 0, 0, 1, 1, 0, 0, 1, 0, 1, 1, 0, 0, 0, 1, 1, 1, 1, 0, 0, 1, 1, 1, 1, 1, 0, 1, 0, 0, 0, 0, 1, 0, 0, 0, 1, 1, 1, 0, 1, 0, 0, 1, 1, 1, 1, 0, 0, 0, 1, 1, 1, 1, 1, 0, 1, 1, 1, 1, 0, 1, 1, 0, 0, 1, 1, 1, 1, 1, 1]}\n",
      "\n",
      "Starting experiments for top 10 features...\n",
      "\n",
      "Testing with class 1 proportion: 0.1\n",
      "\n",
      "Evaluating Set ID: Set_1_Prop_0.1\n"
     ]
    },
    {
     "name": "stderr",
     "output_type": "stream",
     "text": [
      "Processing predictions: 100%|██████████| 100/100 [00:11<00:00,  8.48it/s]\n",
      "/tmp/ipykernel_6833/3130949446.py:86: FutureWarning: Series.__getitem__ treating keys as positions is deprecated. In a future version, integer keys will always be treated as labels (consistent with DataFrame behavior). To access a value by position, use `ser.iloc[pos]`\n",
      "  answer = row[-1]  # Store the ground truth label\n"
     ]
    },
    {
     "name": "stdout",
     "output_type": "stream",
     "text": [
      "Num of non-numeric or invalid: 0\n",
      "Intermediate results for Run 1: {'Num Features': 10, 'Sample Size': 32, 'Class 1 Proportion': 0.1, 'Set ID': 'Set_1_Prop_0.1', 'Run Number': 1, 'Accuracy': 0.86, 'Precision': 0.0, 'Recall': 0.0, 'F1 Score': 0.0, 'Prediction': [0, 0, 0, 0, 0, 0, 0, 0, 0, 0, 0, 0, 0, 0, 0, 0, 0, 0, 1, 0, 0, 0, 0, 0, 0, 0, 0, 0, 0, 0, 0, 0, 0, 0, 0, 0, 0, 0, 0, 0, 0, 0, 0, 0, 0, 0, 0, 0, 0, 0, 0, 0, 0, 0, 0, 0, 0, 0, 0, 0, 0, 0, 0, 0, 0, 0, 0, 0, 0, 0, 0, 0, 0, 0, 0, 0, 0, 0, 0, 0, 0, 0, 0, 0, 0, 0, 0, 0, 0, 0, 0, 0, 0, 0, 0, 0, 0, 0, 0, 0]}\n",
      "\n",
      "Evaluating Set ID: Set_2_Prop_0.1\n"
     ]
    },
    {
     "name": "stderr",
     "output_type": "stream",
     "text": [
      "Processing predictions: 100%|██████████| 100/100 [00:12<00:00,  8.17it/s]\n",
      "/tmp/ipykernel_6833/3130949446.py:86: FutureWarning: Series.__getitem__ treating keys as positions is deprecated. In a future version, integer keys will always be treated as labels (consistent with DataFrame behavior). To access a value by position, use `ser.iloc[pos]`\n",
      "  answer = row[-1]  # Store the ground truth label\n"
     ]
    },
    {
     "name": "stdout",
     "output_type": "stream",
     "text": [
      "Num of non-numeric or invalid: 0\n",
      "Intermediate results for Run 1: {'Num Features': 10, 'Sample Size': 32, 'Class 1 Proportion': 0.1, 'Set ID': 'Set_2_Prop_0.1', 'Run Number': 1, 'Accuracy': 0.76, 'Precision': 0.07692307692307693, 'Recall': 0.07692307692307693, 'F1 Score': 0.07692307692307693, 'Prediction': [0, 0, 1, 0, 0, 0, 0, 0, 0, 0, 0, 0, 0, 0, 0, 1, 0, 0, 1, 0, 0, 0, 0, 0, 0, 1, 0, 1, 0, 0, 0, 0, 0, 0, 0, 1, 0, 0, 0, 0, 0, 1, 0, 0, 0, 0, 0, 0, 0, 0, 0, 0, 0, 0, 0, 0, 0, 0, 0, 1, 0, 0, 0, 0, 0, 0, 0, 0, 0, 0, 1, 0, 0, 0, 0, 0, 0, 0, 0, 0, 0, 0, 1, 0, 0, 0, 0, 1, 0, 0, 1, 0, 1, 0, 0, 0, 0, 0, 0, 0]}\n",
      "\n",
      "Evaluating Set ID: Set_3_Prop_0.1\n"
     ]
    },
    {
     "name": "stderr",
     "output_type": "stream",
     "text": [
      "Processing predictions: 100%|██████████| 100/100 [00:12<00:00,  7.99it/s]\n",
      "/tmp/ipykernel_6833/3130949446.py:86: FutureWarning: Series.__getitem__ treating keys as positions is deprecated. In a future version, integer keys will always be treated as labels (consistent with DataFrame behavior). To access a value by position, use `ser.iloc[pos]`\n",
      "  answer = row[-1]  # Store the ground truth label\n"
     ]
    },
    {
     "name": "stdout",
     "output_type": "stream",
     "text": [
      "Num of non-numeric or invalid: 0\n",
      "Intermediate results for Run 1: {'Num Features': 10, 'Sample Size': 32, 'Class 1 Proportion': 0.1, 'Set ID': 'Set_3_Prop_0.1', 'Run Number': 1, 'Accuracy': 0.84, 'Precision': 0.0, 'Recall': 0.0, 'F1 Score': 0.0, 'Prediction': [0, 0, 0, 0, 0, 0, 0, 0, 0, 0, 0, 0, 0, 0, 0, 0, 0, 0, 0, 1, 0, 0, 0, 0, 0, 0, 0, 0, 0, 0, 0, 0, 0, 0, 0, 0, 0, 0, 0, 0, 0, 0, 0, 0, 0, 0, 0, 0, 0, 0, 0, 0, 0, 0, 0, 0, 0, 0, 0, 0, 0, 0, 0, 0, 0, 0, 0, 0, 0, 0, 0, 0, 0, 0, 0, 0, 0, 0, 0, 0, 0, 0, 0, 1, 0, 0, 0, 0, 0, 0, 0, 0, 0, 0, 0, 0, 0, 0, 0, 1]}\n",
      "\n",
      "Evaluating Set ID: Set_4_Prop_0.1\n"
     ]
    },
    {
     "name": "stderr",
     "output_type": "stream",
     "text": [
      "Processing predictions: 100%|██████████| 100/100 [00:11<00:00,  8.83it/s]\n",
      "/tmp/ipykernel_6833/3130949446.py:86: FutureWarning: Series.__getitem__ treating keys as positions is deprecated. In a future version, integer keys will always be treated as labels (consistent with DataFrame behavior). To access a value by position, use `ser.iloc[pos]`\n",
      "  answer = row[-1]  # Store the ground truth label\n"
     ]
    },
    {
     "name": "stdout",
     "output_type": "stream",
     "text": [
      "Num of non-numeric or invalid: 0\n",
      "Intermediate results for Run 1: {'Num Features': 10, 'Sample Size': 32, 'Class 1 Proportion': 0.1, 'Set ID': 'Set_4_Prop_0.1', 'Run Number': 1, 'Accuracy': 0.82, 'Precision': 0.0, 'Recall': 0.0, 'F1 Score': 0.0, 'Prediction': [0, 0, 0, 1, 0, 0, 0, 0, 0, 0, 0, 0, 0, 0, 1, 0, 0, 0, 0, 0, 0, 0, 0, 0, 0, 0, 1, 0, 0, 0, 1, 0, 0, 0, 0, 0, 1, 0, 0, 0, 0, 0, 0, 0, 0, 0, 0, 0, 0, 0, 0, 0, 0, 0, 0, 0, 0, 0, 0, 0, 0, 0, 0, 0, 0, 0, 0, 0, 0, 0, 0, 0, 0, 0, 0, 0, 0, 0, 0, 0, 0, 0, 0, 0, 0, 0, 0, 0, 0, 0, 0, 0, 0, 0, 0, 0, 0, 0, 0, 0]}\n",
      "\n",
      "Evaluating Set ID: Set_5_Prop_0.1\n"
     ]
    },
    {
     "name": "stderr",
     "output_type": "stream",
     "text": [
      "Processing predictions: 100%|██████████| 100/100 [00:10<00:00,  9.73it/s]\n",
      "/tmp/ipykernel_6833/3130949446.py:86: FutureWarning: Series.__getitem__ treating keys as positions is deprecated. In a future version, integer keys will always be treated as labels (consistent with DataFrame behavior). To access a value by position, use `ser.iloc[pos]`\n",
      "  answer = row[-1]  # Store the ground truth label\n"
     ]
    },
    {
     "name": "stdout",
     "output_type": "stream",
     "text": [
      "Num of non-numeric or invalid: 0\n",
      "Intermediate results for Run 1: {'Num Features': 10, 'Sample Size': 32, 'Class 1 Proportion': 0.1, 'Set ID': 'Set_5_Prop_0.1', 'Run Number': 1, 'Accuracy': 0.85, 'Precision': 0.0, 'Recall': 0.0, 'F1 Score': 0.0, 'Prediction': [0, 0, 1, 0, 0, 0, 0, 0, 0, 0, 0, 0, 0, 0, 0, 0, 0, 0, 0, 0, 0, 0, 0, 0, 0, 0, 0, 0, 0, 0, 0, 0, 0, 0, 0, 0, 0, 0, 0, 0, 0, 0, 0, 0, 0, 0, 0, 0, 0, 0, 0, 0, 0, 0, 0, 0, 0, 0, 0, 0, 0, 0, 0, 0, 0, 0, 0, 0, 0, 0, 0, 0, 0, 0, 0, 0, 0, 0, 0, 0, 0, 0, 0, 0, 0, 0, 0, 0, 0, 0, 0, 0, 1, 0, 0, 0, 0, 0, 0, 0]}\n",
      "\n",
      "Evaluating Set ID: Set_6_Prop_0.1\n"
     ]
    },
    {
     "name": "stderr",
     "output_type": "stream",
     "text": [
      "Processing predictions: 100%|██████████| 100/100 [00:09<00:00, 10.68it/s]\n",
      "/tmp/ipykernel_6833/3130949446.py:86: FutureWarning: Series.__getitem__ treating keys as positions is deprecated. In a future version, integer keys will always be treated as labels (consistent with DataFrame behavior). To access a value by position, use `ser.iloc[pos]`\n",
      "  answer = row[-1]  # Store the ground truth label\n"
     ]
    },
    {
     "name": "stdout",
     "output_type": "stream",
     "text": [
      "Num of non-numeric or invalid: 0\n",
      "Intermediate results for Run 1: {'Num Features': 10, 'Sample Size': 32, 'Class 1 Proportion': 0.1, 'Set ID': 'Set_6_Prop_0.1', 'Run Number': 1, 'Accuracy': 0.74, 'Precision': 0.06666666666666667, 'Recall': 0.07692307692307693, 'F1 Score': 0.07142857142857142, 'Prediction': [1, 0, 0, 0, 0, 1, 0, 0, 0, 0, 0, 0, 0, 0, 0, 0, 1, 0, 0, 0, 0, 0, 0, 0, 0, 1, 1, 1, 0, 0, 0, 0, 1, 0, 0, 1, 0, 0, 0, 0, 0, 1, 0, 0, 0, 0, 0, 0, 0, 0, 0, 0, 1, 0, 0, 0, 1, 0, 0, 0, 0, 0, 0, 0, 0, 0, 0, 0, 0, 0, 1, 0, 0, 0, 0, 0, 0, 0, 0, 0, 0, 0, 0, 0, 1, 0, 0, 0, 0, 0, 0, 1, 0, 1, 0, 0, 0, 0, 0, 0]}\n",
      "\n",
      "Evaluating Set ID: Set_7_Prop_0.1\n"
     ]
    },
    {
     "name": "stderr",
     "output_type": "stream",
     "text": [
      "Processing predictions: 100%|██████████| 100/100 [00:09<00:00, 10.65it/s]\n",
      "/tmp/ipykernel_6833/3130949446.py:86: FutureWarning: Series.__getitem__ treating keys as positions is deprecated. In a future version, integer keys will always be treated as labels (consistent with DataFrame behavior). To access a value by position, use `ser.iloc[pos]`\n",
      "  answer = row[-1]  # Store the ground truth label\n"
     ]
    },
    {
     "name": "stdout",
     "output_type": "stream",
     "text": [
      "Num of non-numeric or invalid: 0\n",
      "Intermediate results for Run 1: {'Num Features': 10, 'Sample Size': 32, 'Class 1 Proportion': 0.1, 'Set ID': 'Set_7_Prop_0.1', 'Run Number': 1, 'Accuracy': 0.87, 'Precision': 1.0, 'Recall': 0.0, 'F1 Score': 0.0, 'Prediction': [0, 0, 0, 0, 0, 0, 0, 0, 0, 0, 0, 0, 0, 0, 0, 0, 0, 0, 0, 0, 0, 0, 0, 0, 0, 0, 0, 0, 0, 0, 0, 0, 0, 0, 0, 0, 0, 0, 0, 0, 0, 0, 0, 0, 0, 0, 0, 0, 0, 0, 0, 0, 0, 0, 0, 0, 0, 0, 0, 0, 0, 0, 0, 0, 0, 0, 0, 0, 0, 0, 0, 0, 0, 0, 0, 0, 0, 0, 0, 0, 0, 0, 0, 0, 0, 0, 0, 0, 0, 0, 0, 0, 0, 0, 0, 0, 0, 0, 0, 0]}\n",
      "\n",
      "Evaluating Set ID: Set_8_Prop_0.1\n"
     ]
    },
    {
     "name": "stderr",
     "output_type": "stream",
     "text": [
      "Processing predictions: 100%|██████████| 100/100 [00:09<00:00, 10.14it/s]\n",
      "/tmp/ipykernel_6833/3130949446.py:86: FutureWarning: Series.__getitem__ treating keys as positions is deprecated. In a future version, integer keys will always be treated as labels (consistent with DataFrame behavior). To access a value by position, use `ser.iloc[pos]`\n",
      "  answer = row[-1]  # Store the ground truth label\n"
     ]
    },
    {
     "name": "stdout",
     "output_type": "stream",
     "text": [
      "Num of non-numeric or invalid: 0\n",
      "Intermediate results for Run 1: {'Num Features': 10, 'Sample Size': 32, 'Class 1 Proportion': 0.1, 'Set ID': 'Set_8_Prop_0.1', 'Run Number': 1, 'Accuracy': 0.86, 'Precision': 0.0, 'Recall': 0.0, 'F1 Score': 0.0, 'Prediction': [0, 0, 0, 0, 0, 0, 0, 0, 0, 0, 0, 0, 0, 0, 0, 0, 0, 0, 0, 0, 0, 0, 0, 0, 0, 0, 0, 0, 0, 0, 0, 0, 0, 0, 0, 0, 0, 0, 0, 0, 0, 0, 0, 0, 0, 0, 0, 0, 0, 0, 0, 0, 0, 0, 0, 0, 0, 0, 0, 0, 0, 0, 0, 0, 0, 0, 0, 0, 0, 0, 0, 0, 0, 0, 0, 0, 0, 0, 0, 0, 0, 0, 0, 0, 0, 0, 0, 0, 0, 0, 0, 0, 1, 0, 0, 0, 0, 0, 0, 0]}\n",
      "\n",
      "Evaluating Set ID: Set_9_Prop_0.1\n"
     ]
    },
    {
     "name": "stderr",
     "output_type": "stream",
     "text": [
      "Processing predictions: 100%|██████████| 100/100 [00:11<00:00,  8.96it/s]\n",
      "/tmp/ipykernel_6833/3130949446.py:86: FutureWarning: Series.__getitem__ treating keys as positions is deprecated. In a future version, integer keys will always be treated as labels (consistent with DataFrame behavior). To access a value by position, use `ser.iloc[pos]`\n",
      "  answer = row[-1]  # Store the ground truth label\n"
     ]
    },
    {
     "name": "stdout",
     "output_type": "stream",
     "text": [
      "Num of non-numeric or invalid: 0\n",
      "Intermediate results for Run 1: {'Num Features': 10, 'Sample Size': 32, 'Class 1 Proportion': 0.1, 'Set ID': 'Set_9_Prop_0.1', 'Run Number': 1, 'Accuracy': 0.7, 'Precision': 0.05263157894736842, 'Recall': 0.07692307692307693, 'F1 Score': 0.0625, 'Prediction': [0, 0, 0, 0, 0, 0, 1, 0, 0, 1, 0, 0, 0, 0, 0, 1, 0, 1, 0, 1, 0, 0, 0, 0, 0, 1, 1, 1, 0, 0, 0, 1, 0, 0, 0, 0, 0, 1, 0, 0, 0, 1, 1, 0, 0, 0, 0, 0, 0, 0, 0, 0, 0, 0, 0, 0, 1, 0, 0, 0, 0, 0, 0, 0, 0, 0, 0, 0, 0, 0, 1, 0, 0, 0, 0, 0, 0, 0, 0, 1, 0, 0, 0, 0, 0, 0, 1, 0, 0, 1, 0, 1, 1, 0, 0, 0, 0, 0, 0, 0]}\n",
      "\n",
      "Evaluating Set ID: Set_10_Prop_0.1\n"
     ]
    },
    {
     "name": "stderr",
     "output_type": "stream",
     "text": [
      "Processing predictions: 100%|██████████| 100/100 [00:08<00:00, 11.28it/s]\n",
      "/tmp/ipykernel_6833/3130949446.py:86: FutureWarning: Series.__getitem__ treating keys as positions is deprecated. In a future version, integer keys will always be treated as labels (consistent with DataFrame behavior). To access a value by position, use `ser.iloc[pos]`\n",
      "  answer = row[-1]  # Store the ground truth label\n"
     ]
    },
    {
     "name": "stdout",
     "output_type": "stream",
     "text": [
      "Num of non-numeric or invalid: 0\n",
      "Intermediate results for Run 1: {'Num Features': 10, 'Sample Size': 32, 'Class 1 Proportion': 0.1, 'Set ID': 'Set_10_Prop_0.1', 'Run Number': 1, 'Accuracy': 0.66, 'Precision': 0.16129032258064516, 'Recall': 0.38461538461538464, 'F1 Score': 0.22727272727272727, 'Prediction': [0, 0, 0, 1, 0, 0, 1, 0, 0, 0, 0, 0, 0, 0, 1, 0, 1, 1, 0, 0, 1, 0, 0, 0, 0, 0, 1, 1, 1, 0, 0, 0, 0, 0, 1, 0, 1, 0, 1, 0, 1, 1, 0, 1, 0, 1, 1, 0, 0, 0, 0, 0, 0, 0, 0, 0, 1, 0, 0, 0, 0, 0, 0, 0, 1, 0, 0, 0, 0, 1, 0, 0, 0, 0, 0, 0, 1, 0, 0, 0, 1, 0, 0, 1, 1, 0, 1, 1, 1, 1, 0, 1, 1, 0, 0, 0, 0, 1, 0, 0]}\n",
      "\n",
      "Evaluating Set ID: Set_11_Prop_0.1\n"
     ]
    },
    {
     "name": "stderr",
     "output_type": "stream",
     "text": [
      "Processing predictions: 100%|██████████| 100/100 [00:10<00:00,  9.46it/s]\n",
      "/tmp/ipykernel_6833/3130949446.py:86: FutureWarning: Series.__getitem__ treating keys as positions is deprecated. In a future version, integer keys will always be treated as labels (consistent with DataFrame behavior). To access a value by position, use `ser.iloc[pos]`\n",
      "  answer = row[-1]  # Store the ground truth label\n"
     ]
    },
    {
     "name": "stdout",
     "output_type": "stream",
     "text": [
      "Num of non-numeric or invalid: 0\n",
      "Intermediate results for Run 1: {'Num Features': 10, 'Sample Size': 32, 'Class 1 Proportion': 0.1, 'Set ID': 'Set_11_Prop_0.1', 'Run Number': 1, 'Accuracy': 0.84, 'Precision': 0.0, 'Recall': 0.0, 'F1 Score': 0.0, 'Prediction': [0, 0, 0, 0, 0, 0, 0, 0, 0, 0, 0, 0, 0, 0, 0, 0, 0, 1, 0, 0, 0, 0, 0, 0, 0, 0, 0, 0, 0, 0, 0, 0, 0, 0, 0, 0, 0, 0, 0, 0, 0, 0, 0, 0, 0, 0, 0, 0, 0, 0, 0, 0, 0, 0, 0, 0, 0, 0, 0, 0, 0, 0, 0, 0, 0, 0, 0, 0, 0, 0, 0, 0, 0, 0, 0, 0, 0, 0, 0, 0, 0, 0, 0, 0, 1, 0, 0, 0, 0, 0, 0, 1, 0, 0, 0, 0, 0, 0, 0, 0]}\n",
      "\n",
      "Evaluating Set ID: Set_12_Prop_0.1\n"
     ]
    },
    {
     "name": "stderr",
     "output_type": "stream",
     "text": [
      "Processing predictions: 100%|██████████| 100/100 [00:09<00:00, 10.29it/s]\n",
      "/tmp/ipykernel_6833/3130949446.py:86: FutureWarning: Series.__getitem__ treating keys as positions is deprecated. In a future version, integer keys will always be treated as labels (consistent with DataFrame behavior). To access a value by position, use `ser.iloc[pos]`\n",
      "  answer = row[-1]  # Store the ground truth label\n"
     ]
    },
    {
     "name": "stdout",
     "output_type": "stream",
     "text": [
      "Num of non-numeric or invalid: 0\n",
      "Intermediate results for Run 1: {'Num Features': 10, 'Sample Size': 32, 'Class 1 Proportion': 0.1, 'Set ID': 'Set_12_Prop_0.1', 'Run Number': 1, 'Accuracy': 0.82, 'Precision': 0.0, 'Recall': 0.0, 'F1 Score': 0.0, 'Prediction': [0, 0, 0, 1, 0, 0, 0, 0, 0, 0, 0, 0, 0, 0, 0, 0, 0, 1, 0, 0, 1, 0, 0, 0, 0, 0, 0, 1, 0, 0, 0, 0, 0, 0, 0, 0, 0, 0, 0, 0, 0, 0, 0, 0, 0, 0, 0, 0, 0, 0, 0, 0, 0, 0, 0, 0, 0, 0, 0, 0, 0, 0, 0, 0, 0, 0, 0, 0, 0, 0, 0, 0, 0, 0, 0, 0, 0, 0, 0, 0, 0, 0, 0, 0, 0, 0, 0, 0, 0, 0, 0, 0, 0, 0, 1, 0, 0, 0, 0, 0]}\n",
      "\n",
      "Evaluating Set ID: Set_13_Prop_0.1\n"
     ]
    },
    {
     "name": "stderr",
     "output_type": "stream",
     "text": [
      "Processing predictions: 100%|██████████| 100/100 [00:08<00:00, 11.57it/s]\n",
      "/tmp/ipykernel_6833/3130949446.py:86: FutureWarning: Series.__getitem__ treating keys as positions is deprecated. In a future version, integer keys will always be treated as labels (consistent with DataFrame behavior). To access a value by position, use `ser.iloc[pos]`\n",
      "  answer = row[-1]  # Store the ground truth label\n"
     ]
    },
    {
     "name": "stdout",
     "output_type": "stream",
     "text": [
      "Num of non-numeric or invalid: 0\n",
      "Intermediate results for Run 1: {'Num Features': 10, 'Sample Size': 32, 'Class 1 Proportion': 0.1, 'Set ID': 'Set_13_Prop_0.1', 'Run Number': 1, 'Accuracy': 0.85, 'Precision': 0.0, 'Recall': 0.0, 'F1 Score': 0.0, 'Prediction': [0, 0, 0, 0, 0, 0, 0, 0, 0, 0, 0, 0, 0, 0, 0, 0, 0, 0, 0, 0, 0, 0, 0, 0, 0, 0, 0, 0, 0, 1, 0, 0, 0, 0, 0, 0, 1, 0, 0, 0, 0, 0, 0, 0, 0, 0, 0, 0, 0, 0, 0, 0, 0, 0, 0, 0, 0, 0, 0, 0, 0, 0, 0, 0, 0, 0, 0, 0, 0, 0, 0, 0, 0, 0, 0, 0, 0, 0, 0, 0, 0, 0, 0, 0, 0, 0, 0, 0, 0, 0, 0, 0, 0, 0, 0, 0, 0, 0, 0, 0]}\n",
      "\n",
      "Evaluating Set ID: Set_14_Prop_0.1\n"
     ]
    },
    {
     "name": "stderr",
     "output_type": "stream",
     "text": [
      "Processing predictions: 100%|██████████| 100/100 [00:09<00:00, 10.33it/s]\n",
      "/tmp/ipykernel_6833/3130949446.py:86: FutureWarning: Series.__getitem__ treating keys as positions is deprecated. In a future version, integer keys will always be treated as labels (consistent with DataFrame behavior). To access a value by position, use `ser.iloc[pos]`\n",
      "  answer = row[-1]  # Store the ground truth label\n"
     ]
    },
    {
     "name": "stdout",
     "output_type": "stream",
     "text": [
      "Num of non-numeric or invalid: 0\n",
      "Intermediate results for Run 1: {'Num Features': 10, 'Sample Size': 32, 'Class 1 Proportion': 0.1, 'Set ID': 'Set_14_Prop_0.1', 'Run Number': 1, 'Accuracy': 0.79, 'Precision': 0.0, 'Recall': 0.0, 'F1 Score': 0.0, 'Prediction': [0, 0, 1, 0, 0, 0, 0, 0, 0, 0, 0, 0, 0, 0, 0, 0, 0, 1, 0, 0, 0, 0, 0, 0, 0, 1, 0, 1, 0, 0, 0, 0, 0, 1, 0, 0, 0, 0, 0, 0, 0, 0, 0, 0, 0, 0, 0, 0, 0, 0, 0, 0, 0, 0, 0, 0, 0, 0, 0, 0, 0, 0, 0, 0, 0, 0, 0, 0, 0, 0, 0, 0, 0, 0, 0, 0, 0, 0, 0, 0, 0, 0, 0, 1, 0, 0, 0, 1, 0, 0, 0, 0, 0, 1, 0, 0, 0, 0, 0, 0]}\n",
      "\n",
      "Evaluating Set ID: Set_15_Prop_0.1\n"
     ]
    },
    {
     "name": "stderr",
     "output_type": "stream",
     "text": [
      "Processing predictions: 100%|██████████| 100/100 [00:10<00:00,  9.61it/s]\n",
      "/tmp/ipykernel_6833/3130949446.py:86: FutureWarning: Series.__getitem__ treating keys as positions is deprecated. In a future version, integer keys will always be treated as labels (consistent with DataFrame behavior). To access a value by position, use `ser.iloc[pos]`\n",
      "  answer = row[-1]  # Store the ground truth label\n"
     ]
    },
    {
     "name": "stdout",
     "output_type": "stream",
     "text": [
      "Num of non-numeric or invalid: 0\n",
      "Intermediate results for Run 1: {'Num Features': 10, 'Sample Size': 32, 'Class 1 Proportion': 0.1, 'Set ID': 'Set_15_Prop_0.1', 'Run Number': 1, 'Accuracy': 0.71, 'Precision': 0.05555555555555555, 'Recall': 0.07692307692307693, 'F1 Score': 0.06451612903225806, 'Prediction': [0, 1, 0, 0, 0, 1, 0, 0, 0, 0, 0, 0, 0, 0, 0, 0, 1, 0, 1, 0, 0, 0, 0, 0, 0, 0, 1, 1, 1, 0, 0, 0, 0, 0, 0, 0, 1, 0, 0, 0, 0, 1, 0, 1, 0, 0, 0, 0, 0, 0, 0, 0, 1, 0, 1, 0, 0, 0, 0, 0, 0, 0, 0, 0, 0, 0, 0, 0, 0, 0, 0, 0, 0, 0, 0, 0, 1, 0, 0, 0, 0, 0, 1, 0, 0, 0, 0, 1, 0, 1, 0, 0, 1, 0, 0, 0, 0, 0, 0, 1]}\n",
      "\n",
      "Testing with class 1 proportion: 0.3\n",
      "\n",
      "Evaluating Set ID: Set_1_Prop_0.3\n"
     ]
    },
    {
     "name": "stderr",
     "output_type": "stream",
     "text": [
      "Processing predictions: 100%|██████████| 100/100 [00:09<00:00, 10.34it/s]\n",
      "/tmp/ipykernel_6833/3130949446.py:86: FutureWarning: Series.__getitem__ treating keys as positions is deprecated. In a future version, integer keys will always be treated as labels (consistent with DataFrame behavior). To access a value by position, use `ser.iloc[pos]`\n",
      "  answer = row[-1]  # Store the ground truth label\n"
     ]
    },
    {
     "name": "stdout",
     "output_type": "stream",
     "text": [
      "Num of non-numeric or invalid: 0\n",
      "Intermediate results for Run 1: {'Num Features': 10, 'Sample Size': 32, 'Class 1 Proportion': 0.3, 'Set ID': 'Set_1_Prop_0.3', 'Run Number': 1, 'Accuracy': 0.49, 'Precision': 0.14814814814814814, 'Recall': 0.6153846153846154, 'F1 Score': 0.23880597014925373, 'Prediction': [0, 1, 0, 1, 1, 1, 0, 0, 1, 0, 1, 0, 1, 1, 0, 0, 1, 1, 0, 0, 0, 1, 1, 0, 0, 1, 0, 1, 0, 1, 0, 0, 0, 1, 1, 1, 0, 1, 0, 1, 0, 0, 1, 0, 0, 1, 1, 0, 0, 0, 1, 1, 0, 1, 1, 1, 0, 1, 0, 0, 0, 1, 0, 0, 0, 1, 0, 0, 1, 0, 1, 1, 0, 1, 1, 1, 1, 0, 1, 1, 1, 0, 1, 1, 1, 1, 1, 1, 1, 1, 1, 0, 0, 1, 1, 1, 1, 0, 0, 0]}\n",
      "\n",
      "Evaluating Set ID: Set_2_Prop_0.3\n"
     ]
    },
    {
     "name": "stderr",
     "output_type": "stream",
     "text": [
      "Processing predictions: 100%|██████████| 100/100 [00:08<00:00, 11.33it/s]\n",
      "/tmp/ipykernel_6833/3130949446.py:86: FutureWarning: Series.__getitem__ treating keys as positions is deprecated. In a future version, integer keys will always be treated as labels (consistent with DataFrame behavior). To access a value by position, use `ser.iloc[pos]`\n",
      "  answer = row[-1]  # Store the ground truth label\n"
     ]
    },
    {
     "name": "stdout",
     "output_type": "stream",
     "text": [
      "Num of non-numeric or invalid: 0\n",
      "Intermediate results for Run 1: {'Num Features': 10, 'Sample Size': 32, 'Class 1 Proportion': 0.3, 'Set ID': 'Set_2_Prop_0.3', 'Run Number': 1, 'Accuracy': 0.85, 'Precision': 0.0, 'Recall': 0.0, 'F1 Score': 0.0, 'Prediction': [1, 0, 0, 0, 0, 0, 0, 0, 0, 0, 0, 0, 0, 0, 0, 0, 1, 0, 0, 0, 0, 0, 0, 0, 0, 0, 0, 0, 0, 0, 0, 0, 0, 0, 0, 0, 0, 0, 0, 0, 0, 0, 0, 0, 0, 0, 0, 0, 0, 0, 0, 0, 0, 0, 0, 0, 0, 0, 0, 0, 0, 0, 0, 0, 0, 0, 0, 0, 0, 0, 0, 0, 0, 0, 0, 0, 0, 0, 0, 0, 0, 0, 0, 0, 0, 0, 0, 0, 0, 0, 0, 0, 0, 0, 0, 0, 0, 0, 0, 0]}\n",
      "\n",
      "Evaluating Set ID: Set_3_Prop_0.3\n"
     ]
    },
    {
     "name": "stderr",
     "output_type": "stream",
     "text": [
      "Processing predictions: 100%|██████████| 100/100 [00:08<00:00, 11.43it/s]\n",
      "/tmp/ipykernel_6833/3130949446.py:86: FutureWarning: Series.__getitem__ treating keys as positions is deprecated. In a future version, integer keys will always be treated as labels (consistent with DataFrame behavior). To access a value by position, use `ser.iloc[pos]`\n",
      "  answer = row[-1]  # Store the ground truth label\n"
     ]
    },
    {
     "name": "stdout",
     "output_type": "stream",
     "text": [
      "Num of non-numeric or invalid: 0\n",
      "Intermediate results for Run 1: {'Num Features': 10, 'Sample Size': 32, 'Class 1 Proportion': 0.3, 'Set ID': 'Set_3_Prop_0.3', 'Run Number': 1, 'Accuracy': 0.75, 'Precision': 0.07142857142857142, 'Recall': 0.07692307692307693, 'F1 Score': 0.07407407407407407, 'Prediction': [0, 0, 0, 1, 0, 1, 0, 0, 0, 0, 0, 0, 0, 0, 0, 0, 1, 1, 0, 0, 0, 0, 0, 0, 0, 0, 1, 1, 1, 0, 0, 0, 0, 0, 0, 0, 1, 0, 0, 0, 0, 0, 0, 0, 0, 0, 0, 0, 0, 0, 0, 0, 0, 0, 0, 0, 0, 0, 0, 1, 0, 0, 0, 0, 0, 0, 0, 0, 0, 0, 1, 0, 0, 0, 0, 0, 0, 0, 0, 0, 0, 0, 0, 1, 1, 0, 0, 0, 0, 0, 0, 0, 1, 1, 0, 0, 0, 0, 0, 0]}\n",
      "\n",
      "Evaluating Set ID: Set_4_Prop_0.3\n"
     ]
    },
    {
     "name": "stderr",
     "output_type": "stream",
     "text": [
      "Processing predictions: 100%|██████████| 100/100 [00:08<00:00, 11.38it/s]\n",
      "/tmp/ipykernel_6833/3130949446.py:86: FutureWarning: Series.__getitem__ treating keys as positions is deprecated. In a future version, integer keys will always be treated as labels (consistent with DataFrame behavior). To access a value by position, use `ser.iloc[pos]`\n",
      "  answer = row[-1]  # Store the ground truth label\n"
     ]
    },
    {
     "name": "stdout",
     "output_type": "stream",
     "text": [
      "Num of non-numeric or invalid: 0\n",
      "Intermediate results for Run 1: {'Num Features': 10, 'Sample Size': 32, 'Class 1 Proportion': 0.3, 'Set ID': 'Set_4_Prop_0.3', 'Run Number': 1, 'Accuracy': 0.7, 'Precision': 0.16, 'Recall': 0.3076923076923077, 'F1 Score': 0.21052631578947367, 'Prediction': [1, 0, 0, 0, 0, 1, 0, 0, 0, 0, 1, 0, 0, 0, 1, 0, 1, 1, 0, 0, 0, 0, 0, 0, 1, 0, 0, 1, 1, 0, 0, 0, 0, 1, 0, 0, 1, 0, 1, 0, 0, 0, 1, 1, 0, 0, 0, 0, 0, 0, 0, 0, 0, 0, 0, 0, 0, 1, 0, 0, 0, 0, 0, 0, 0, 0, 0, 0, 0, 1, 0, 0, 0, 0, 0, 1, 0, 0, 0, 0, 0, 0, 1, 1, 1, 0, 1, 0, 1, 1, 0, 0, 1, 0, 1, 0, 0, 0, 0, 0]}\n",
      "\n",
      "Evaluating Set ID: Set_5_Prop_0.3\n"
     ]
    },
    {
     "name": "stderr",
     "output_type": "stream",
     "text": [
      "Processing predictions: 100%|██████████| 100/100 [00:08<00:00, 11.30it/s]\n",
      "/tmp/ipykernel_6833/3130949446.py:86: FutureWarning: Series.__getitem__ treating keys as positions is deprecated. In a future version, integer keys will always be treated as labels (consistent with DataFrame behavior). To access a value by position, use `ser.iloc[pos]`\n",
      "  answer = row[-1]  # Store the ground truth label\n"
     ]
    },
    {
     "name": "stdout",
     "output_type": "stream",
     "text": [
      "Num of non-numeric or invalid: 0\n",
      "Intermediate results for Run 1: {'Num Features': 10, 'Sample Size': 32, 'Class 1 Proportion': 0.3, 'Set ID': 'Set_5_Prop_0.3', 'Run Number': 1, 'Accuracy': 0.84, 'Precision': 0.0, 'Recall': 0.0, 'F1 Score': 0.0, 'Prediction': [0, 1, 0, 0, 0, 0, 0, 0, 0, 0, 0, 0, 0, 0, 0, 0, 0, 1, 0, 0, 0, 0, 0, 0, 0, 0, 0, 0, 0, 0, 0, 0, 0, 0, 0, 0, 0, 0, 0, 0, 0, 0, 0, 0, 0, 0, 0, 0, 0, 0, 0, 0, 0, 0, 0, 0, 0, 0, 0, 0, 0, 0, 0, 0, 0, 0, 0, 0, 0, 0, 0, 0, 0, 0, 0, 0, 0, 0, 0, 0, 0, 0, 0, 0, 0, 0, 0, 0, 1, 0, 0, 0, 0, 0, 0, 0, 0, 0, 0, 0]}\n",
      "\n",
      "Evaluating Set ID: Set_6_Prop_0.3\n"
     ]
    },
    {
     "name": "stderr",
     "output_type": "stream",
     "text": [
      "Processing predictions: 100%|██████████| 100/100 [00:10<00:00,  9.53it/s]\n",
      "/tmp/ipykernel_6833/3130949446.py:86: FutureWarning: Series.__getitem__ treating keys as positions is deprecated. In a future version, integer keys will always be treated as labels (consistent with DataFrame behavior). To access a value by position, use `ser.iloc[pos]`\n",
      "  answer = row[-1]  # Store the ground truth label\n"
     ]
    },
    {
     "name": "stdout",
     "output_type": "stream",
     "text": [
      "Num of non-numeric or invalid: 0\n",
      "Intermediate results for Run 1: {'Num Features': 10, 'Sample Size': 32, 'Class 1 Proportion': 0.3, 'Set ID': 'Set_6_Prop_0.3', 'Run Number': 1, 'Accuracy': 0.5, 'Precision': 0.10638297872340426, 'Recall': 0.38461538461538464, 'F1 Score': 0.16666666666666666, 'Prediction': [0, 1, 0, 0, 0, 0, 0, 1, 0, 0, 0, 1, 1, 0, 1, 0, 1, 1, 1, 0, 1, 1, 0, 0, 1, 0, 1, 1, 1, 0, 1, 0, 0, 1, 0, 1, 1, 1, 1, 1, 0, 1, 1, 1, 0, 0, 1, 0, 0, 0, 1, 0, 0, 0, 1, 1, 0, 1, 1, 1, 0, 1, 0, 0, 0, 0, 1, 0, 1, 0, 1, 1, 0, 0, 0, 1, 1, 0, 1, 0, 0, 0, 1, 0, 1, 0, 0, 0, 1, 0, 0, 1, 1, 1, 1, 0, 0, 1, 0, 0]}\n",
      "\n",
      "Evaluating Set ID: Set_7_Prop_0.3\n"
     ]
    },
    {
     "name": "stderr",
     "output_type": "stream",
     "text": [
      "Processing predictions: 100%|██████████| 100/100 [00:08<00:00, 11.47it/s]\n",
      "/tmp/ipykernel_6833/3130949446.py:86: FutureWarning: Series.__getitem__ treating keys as positions is deprecated. In a future version, integer keys will always be treated as labels (consistent with DataFrame behavior). To access a value by position, use `ser.iloc[pos]`\n",
      "  answer = row[-1]  # Store the ground truth label\n"
     ]
    },
    {
     "name": "stdout",
     "output_type": "stream",
     "text": [
      "Num of non-numeric or invalid: 0\n",
      "Intermediate results for Run 1: {'Num Features': 10, 'Sample Size': 32, 'Class 1 Proportion': 0.3, 'Set ID': 'Set_7_Prop_0.3', 'Run Number': 1, 'Accuracy': 0.65, 'Precision': 0.15625, 'Recall': 0.38461538461538464, 'F1 Score': 0.2222222222222222, 'Prediction': [0, 1, 0, 0, 1, 1, 0, 0, 0, 0, 1, 1, 1, 0, 0, 0, 1, 1, 1, 0, 0, 0, 0, 0, 0, 0, 1, 1, 1, 0, 0, 0, 0, 1, 0, 0, 1, 0, 0, 0, 0, 1, 0, 1, 0, 0, 0, 0, 0, 0, 0, 0, 0, 0, 0, 1, 0, 0, 0, 0, 0, 0, 0, 0, 0, 0, 1, 0, 0, 0, 0, 1, 0, 1, 0, 0, 0, 0, 1, 0, 0, 0, 0, 1, 1, 1, 0, 0, 1, 1, 0, 1, 0, 1, 1, 1, 0, 1, 0, 1]}\n",
      "\n",
      "Evaluating Set ID: Set_8_Prop_0.3\n"
     ]
    },
    {
     "name": "stderr",
     "output_type": "stream",
     "text": [
      "Processing predictions: 100%|██████████| 100/100 [00:08<00:00, 11.18it/s]\n",
      "/tmp/ipykernel_6833/3130949446.py:86: FutureWarning: Series.__getitem__ treating keys as positions is deprecated. In a future version, integer keys will always be treated as labels (consistent with DataFrame behavior). To access a value by position, use `ser.iloc[pos]`\n",
      "  answer = row[-1]  # Store the ground truth label\n"
     ]
    },
    {
     "name": "stdout",
     "output_type": "stream",
     "text": [
      "Num of non-numeric or invalid: 0\n",
      "Intermediate results for Run 1: {'Num Features': 10, 'Sample Size': 32, 'Class 1 Proportion': 0.3, 'Set ID': 'Set_8_Prop_0.3', 'Run Number': 1, 'Accuracy': 0.86, 'Precision': 0.0, 'Recall': 0.0, 'F1 Score': 0.0, 'Prediction': [0, 0, 0, 0, 0, 0, 0, 0, 0, 0, 0, 0, 0, 0, 0, 0, 1, 0, 0, 0, 0, 0, 0, 0, 0, 0, 0, 0, 0, 0, 0, 0, 0, 0, 0, 0, 0, 0, 0, 0, 0, 0, 0, 0, 0, 0, 0, 0, 0, 0, 0, 0, 0, 0, 0, 0, 0, 0, 0, 0, 0, 0, 0, 0, 0, 0, 0, 0, 0, 0, 0, 0, 0, 0, 0, 0, 0, 0, 0, 0, 0, 0, 0, 0, 0, 0, 0, 0, 0, 0, 0, 0, 0, 0, 0, 0, 0, 0, 0, 0]}\n",
      "\n",
      "Evaluating Set ID: Set_9_Prop_0.3\n"
     ]
    },
    {
     "name": "stderr",
     "output_type": "stream",
     "text": [
      "Processing predictions: 100%|██████████| 100/100 [00:09<00:00, 10.77it/s]\n",
      "/tmp/ipykernel_6833/3130949446.py:86: FutureWarning: Series.__getitem__ treating keys as positions is deprecated. In a future version, integer keys will always be treated as labels (consistent with DataFrame behavior). To access a value by position, use `ser.iloc[pos]`\n",
      "  answer = row[-1]  # Store the ground truth label\n"
     ]
    },
    {
     "name": "stdout",
     "output_type": "stream",
     "text": [
      "Num of non-numeric or invalid: 0\n",
      "Intermediate results for Run 1: {'Num Features': 10, 'Sample Size': 32, 'Class 1 Proportion': 0.3, 'Set ID': 'Set_9_Prop_0.3', 'Run Number': 1, 'Accuracy': 0.35, 'Precision': 0.14864864864864866, 'Recall': 0.8461538461538461, 'F1 Score': 0.25287356321839083, 'Prediction': [1, 0, 1, 0, 1, 0, 1, 1, 0, 1, 1, 1, 1, 0, 1, 1, 1, 1, 0, 1, 1, 0, 1, 0, 0, 1, 1, 1, 1, 1, 0, 0, 0, 1, 0, 1, 1, 1, 1, 0, 0, 1, 1, 1, 1, 1, 0, 0, 1, 1, 0, 1, 0, 1, 1, 0, 1, 0, 1, 1, 1, 0, 0, 1, 1, 1, 1, 1, 1, 0, 1, 0, 1, 1, 1, 1, 1, 1, 0, 1, 1, 1, 1, 1, 1, 1, 1, 1, 1, 1, 1, 1, 1, 1, 1, 1, 1, 1, 1, 1]}\n",
      "\n",
      "Evaluating Set ID: Set_10_Prop_0.3\n"
     ]
    },
    {
     "name": "stderr",
     "output_type": "stream",
     "text": [
      "Processing predictions: 100%|██████████| 100/100 [00:09<00:00, 10.19it/s]\n",
      "/tmp/ipykernel_6833/3130949446.py:86: FutureWarning: Series.__getitem__ treating keys as positions is deprecated. In a future version, integer keys will always be treated as labels (consistent with DataFrame behavior). To access a value by position, use `ser.iloc[pos]`\n",
      "  answer = row[-1]  # Store the ground truth label\n"
     ]
    },
    {
     "name": "stdout",
     "output_type": "stream",
     "text": [
      "Num of non-numeric or invalid: 0\n",
      "Intermediate results for Run 1: {'Num Features': 10, 'Sample Size': 32, 'Class 1 Proportion': 0.3, 'Set ID': 'Set_10_Prop_0.3', 'Run Number': 1, 'Accuracy': 0.57, 'Precision': 0.10526315789473684, 'Recall': 0.3076923076923077, 'F1 Score': 0.1568627450980392, 'Prediction': [0, 0, 1, 1, 0, 0, 1, 1, 0, 1, 0, 1, 0, 0, 0, 0, 1, 1, 1, 0, 0, 0, 0, 0, 0, 1, 0, 1, 1, 0, 0, 0, 0, 1, 1, 0, 0, 1, 1, 0, 0, 1, 0, 0, 0, 1, 0, 0, 0, 0, 1, 0, 0, 0, 0, 0, 0, 1, 0, 0, 0, 0, 1, 0, 0, 0, 1, 0, 0, 0, 0, 0, 1, 1, 1, 0, 0, 0, 0, 1, 1, 0, 0, 0, 1, 1, 1, 1, 1, 1, 0, 0, 1, 1, 1, 1, 0, 1, 0, 0]}\n",
      "\n",
      "Evaluating Set ID: Set_11_Prop_0.3\n"
     ]
    },
    {
     "name": "stderr",
     "output_type": "stream",
     "text": [
      "Processing predictions: 100%|██████████| 100/100 [00:23<00:00,  4.23it/s]\n",
      "/tmp/ipykernel_6833/3130949446.py:86: FutureWarning: Series.__getitem__ treating keys as positions is deprecated. In a future version, integer keys will always be treated as labels (consistent with DataFrame behavior). To access a value by position, use `ser.iloc[pos]`\n",
      "  answer = row[-1]  # Store the ground truth label\n"
     ]
    },
    {
     "name": "stdout",
     "output_type": "stream",
     "text": [
      "Num of non-numeric or invalid: 0\n",
      "Intermediate results for Run 1: {'Num Features': 10, 'Sample Size': 32, 'Class 1 Proportion': 0.3, 'Set ID': 'Set_11_Prop_0.3', 'Run Number': 1, 'Accuracy': 0.84, 'Precision': 0.2, 'Recall': 0.07692307692307693, 'F1 Score': 0.1111111111111111, 'Prediction': [0, 0, 0, 0, 0, 0, 0, 0, 0, 0, 0, 0, 0, 0, 0, 0, 1, 0, 0, 0, 0, 0, 0, 0, 0, 0, 0, 0, 0, 0, 0, 0, 0, 0, 0, 0, 1, 0, 0, 0, 0, 0, 0, 0, 0, 0, 0, 0, 0, 0, 0, 0, 0, 0, 0, 0, 0, 0, 0, 0, 0, 0, 0, 0, 0, 0, 0, 0, 0, 0, 1, 0, 0, 0, 0, 0, 0, 0, 0, 1, 0, 0, 0, 0, 0, 0, 0, 0, 0, 0, 1, 0, 0, 0, 0, 0, 0, 0, 0, 0]}\n",
      "\n",
      "Evaluating Set ID: Set_12_Prop_0.3\n"
     ]
    },
    {
     "name": "stderr",
     "output_type": "stream",
     "text": [
      "Processing predictions: 100%|██████████| 100/100 [00:11<00:00,  8.75it/s]\n",
      "/tmp/ipykernel_6833/3130949446.py:86: FutureWarning: Series.__getitem__ treating keys as positions is deprecated. In a future version, integer keys will always be treated as labels (consistent with DataFrame behavior). To access a value by position, use `ser.iloc[pos]`\n",
      "  answer = row[-1]  # Store the ground truth label\n"
     ]
    },
    {
     "name": "stdout",
     "output_type": "stream",
     "text": [
      "Num of non-numeric or invalid: 0\n",
      "Intermediate results for Run 1: {'Num Features': 10, 'Sample Size': 32, 'Class 1 Proportion': 0.3, 'Set ID': 'Set_12_Prop_0.3', 'Run Number': 1, 'Accuracy': 0.35, 'Precision': 0.10606060606060606, 'Recall': 0.5384615384615384, 'F1 Score': 0.17721518987341772, 'Prediction': [0, 1, 0, 1, 0, 1, 1, 1, 1, 0, 1, 1, 1, 1, 0, 1, 0, 1, 1, 0, 0, 1, 0, 0, 1, 1, 1, 1, 1, 1, 0, 1, 1, 1, 1, 1, 0, 1, 0, 0, 1, 1, 0, 1, 0, 1, 0, 1, 0, 1, 0, 1, 1, 1, 0, 0, 1, 1, 0, 1, 1, 1, 0, 0, 0, 1, 0, 1, 0, 0, 1, 1, 0, 1, 1, 1, 1, 0, 0, 1, 1, 0, 1, 1, 1, 1, 1, 1, 1, 1, 0, 1, 1, 1, 1, 1, 1, 0, 1, 1]}\n",
      "\n",
      "Evaluating Set ID: Set_13_Prop_0.3\n"
     ]
    },
    {
     "name": "stderr",
     "output_type": "stream",
     "text": [
      "Processing predictions: 100%|██████████| 100/100 [00:09<00:00, 10.31it/s]\n",
      "/tmp/ipykernel_6833/3130949446.py:86: FutureWarning: Series.__getitem__ treating keys as positions is deprecated. In a future version, integer keys will always be treated as labels (consistent with DataFrame behavior). To access a value by position, use `ser.iloc[pos]`\n",
      "  answer = row[-1]  # Store the ground truth label\n"
     ]
    },
    {
     "name": "stdout",
     "output_type": "stream",
     "text": [
      "Num of non-numeric or invalid: 0\n",
      "Intermediate results for Run 1: {'Num Features': 10, 'Sample Size': 32, 'Class 1 Proportion': 0.3, 'Set ID': 'Set_13_Prop_0.3', 'Run Number': 1, 'Accuracy': 0.83, 'Precision': 0.0, 'Recall': 0.0, 'F1 Score': 0.0, 'Prediction': [0, 0, 0, 0, 0, 0, 0, 0, 0, 0, 0, 0, 0, 0, 0, 0, 0, 0, 1, 0, 0, 0, 0, 0, 0, 0, 1, 1, 0, 0, 0, 0, 0, 0, 0, 0, 1, 0, 0, 0, 0, 0, 0, 0, 0, 0, 0, 0, 0, 0, 0, 0, 0, 0, 0, 0, 0, 0, 0, 0, 0, 0, 0, 0, 0, 0, 0, 0, 0, 0, 0, 0, 0, 0, 0, 0, 0, 0, 0, 0, 0, 0, 0, 0, 0, 0, 0, 0, 0, 0, 0, 0, 0, 0, 0, 0, 0, 0, 0, 0]}\n",
      "\n",
      "Evaluating Set ID: Set_14_Prop_0.3\n"
     ]
    },
    {
     "name": "stderr",
     "output_type": "stream",
     "text": [
      "Processing predictions: 100%|██████████| 100/100 [00:08<00:00, 11.28it/s]\n",
      "/tmp/ipykernel_6833/3130949446.py:86: FutureWarning: Series.__getitem__ treating keys as positions is deprecated. In a future version, integer keys will always be treated as labels (consistent with DataFrame behavior). To access a value by position, use `ser.iloc[pos]`\n",
      "  answer = row[-1]  # Store the ground truth label\n"
     ]
    },
    {
     "name": "stdout",
     "output_type": "stream",
     "text": [
      "Num of non-numeric or invalid: 0\n",
      "Intermediate results for Run 1: {'Num Features': 10, 'Sample Size': 32, 'Class 1 Proportion': 0.3, 'Set ID': 'Set_14_Prop_0.3', 'Run Number': 1, 'Accuracy': 0.61, 'Precision': 0.06666666666666667, 'Recall': 0.15384615384615385, 'F1 Score': 0.09302325581395349, 'Prediction': [0, 0, 0, 1, 0, 0, 1, 0, 0, 0, 0, 0, 0, 0, 0, 1, 1, 1, 0, 0, 1, 0, 0, 0, 1, 0, 1, 1, 1, 0, 0, 0, 1, 0, 0, 0, 1, 1, 0, 0, 0, 1, 1, 0, 0, 0, 0, 0, 0, 0, 0, 0, 0, 0, 0, 1, 1, 0, 0, 0, 0, 0, 0, 1, 0, 0, 0, 0, 0, 0, 1, 1, 1, 0, 0, 0, 0, 0, 0, 1, 0, 0, 1, 1, 0, 0, 1, 1, 0, 1, 1, 0, 1, 1, 0, 0, 0, 0, 0, 0]}\n",
      "\n",
      "Evaluating Set ID: Set_15_Prop_0.3\n"
     ]
    },
    {
     "name": "stderr",
     "output_type": "stream",
     "text": [
      "Processing predictions: 100%|██████████| 100/100 [00:08<00:00, 11.25it/s]\n",
      "/tmp/ipykernel_6833/3130949446.py:86: FutureWarning: Series.__getitem__ treating keys as positions is deprecated. In a future version, integer keys will always be treated as labels (consistent with DataFrame behavior). To access a value by position, use `ser.iloc[pos]`\n",
      "  answer = row[-1]  # Store the ground truth label\n"
     ]
    },
    {
     "name": "stdout",
     "output_type": "stream",
     "text": [
      "Num of non-numeric or invalid: 0\n",
      "Intermediate results for Run 1: {'Num Features': 10, 'Sample Size': 32, 'Class 1 Proportion': 0.3, 'Set ID': 'Set_15_Prop_0.3', 'Run Number': 1, 'Accuracy': 0.75, 'Precision': 0.07142857142857142, 'Recall': 0.07692307692307693, 'F1 Score': 0.07407407407407407, 'Prediction': [1, 0, 0, 0, 0, 0, 0, 0, 0, 0, 0, 0, 0, 0, 0, 0, 1, 1, 0, 0, 0, 0, 0, 0, 0, 1, 1, 0, 1, 0, 0, 0, 1, 0, 1, 0, 0, 0, 0, 0, 0, 0, 0, 1, 0, 0, 0, 0, 0, 0, 0, 0, 0, 0, 0, 0, 1, 0, 0, 0, 0, 0, 0, 0, 0, 0, 0, 0, 0, 0, 0, 1, 0, 0, 0, 0, 0, 0, 0, 0, 0, 0, 0, 1, 0, 0, 0, 0, 0, 0, 0, 0, 1, 1, 0, 0, 0, 0, 0, 0]}\n",
      "\n",
      "Testing with class 1 proportion: 0.5\n",
      "\n",
      "Evaluating Set ID: Set_1_Prop_0.5\n"
     ]
    },
    {
     "name": "stderr",
     "output_type": "stream",
     "text": [
      "Processing predictions: 100%|██████████| 100/100 [00:09<00:00, 11.00it/s]\n",
      "/tmp/ipykernel_6833/3130949446.py:86: FutureWarning: Series.__getitem__ treating keys as positions is deprecated. In a future version, integer keys will always be treated as labels (consistent with DataFrame behavior). To access a value by position, use `ser.iloc[pos]`\n",
      "  answer = row[-1]  # Store the ground truth label\n"
     ]
    },
    {
     "name": "stdout",
     "output_type": "stream",
     "text": [
      "Num of non-numeric or invalid: 0\n",
      "Intermediate results for Run 1: {'Num Features': 10, 'Sample Size': 32, 'Class 1 Proportion': 0.5, 'Set ID': 'Set_1_Prop_0.5', 'Run Number': 1, 'Accuracy': 0.71, 'Precision': 0.05555555555555555, 'Recall': 0.07692307692307693, 'F1 Score': 0.06451612903225806, 'Prediction': [0, 1, 0, 0, 1, 0, 0, 0, 0, 1, 0, 0, 0, 0, 1, 1, 1, 1, 0, 0, 0, 0, 0, 0, 0, 0, 0, 1, 1, 0, 0, 0, 0, 0, 1, 0, 1, 0, 0, 0, 0, 0, 0, 0, 0, 0, 0, 0, 0, 0, 0, 0, 0, 0, 0, 0, 0, 0, 0, 0, 0, 0, 0, 0, 0, 1, 0, 0, 0, 0, 0, 0, 0, 1, 0, 0, 0, 0, 0, 0, 1, 0, 0, 0, 0, 1, 0, 0, 0, 0, 0, 1, 0, 0, 1, 0, 0, 0, 0, 1]}\n",
      "\n",
      "Evaluating Set ID: Set_2_Prop_0.5\n"
     ]
    },
    {
     "name": "stderr",
     "output_type": "stream",
     "text": [
      "Processing predictions: 100%|██████████| 100/100 [00:22<00:00,  4.36it/s]\n",
      "/tmp/ipykernel_6833/3130949446.py:86: FutureWarning: Series.__getitem__ treating keys as positions is deprecated. In a future version, integer keys will always be treated as labels (consistent with DataFrame behavior). To access a value by position, use `ser.iloc[pos]`\n",
      "  answer = row[-1]  # Store the ground truth label\n"
     ]
    },
    {
     "name": "stdout",
     "output_type": "stream",
     "text": [
      "Num of non-numeric or invalid: 0\n",
      "Intermediate results for Run 1: {'Num Features': 10, 'Sample Size': 32, 'Class 1 Proportion': 0.5, 'Set ID': 'Set_2_Prop_0.5', 'Run Number': 1, 'Accuracy': 0.44, 'Precision': 0.15873015873015872, 'Recall': 0.7692307692307693, 'F1 Score': 0.2631578947368421, 'Prediction': [0, 0, 1, 1, 1, 0, 0, 1, 1, 0, 1, 1, 0, 1, 0, 0, 1, 1, 1, 0, 0, 1, 1, 0, 0, 1, 1, 0, 0, 1, 1, 1, 0, 1, 1, 0, 1, 0, 0, 1, 1, 1, 0, 1, 1, 0, 1, 0, 0, 0, 0, 1, 0, 1, 1, 0, 0, 1, 1, 1, 0, 1, 0, 1, 1, 0, 1, 0, 0, 1, 1, 1, 1, 1, 1, 0, 0, 1, 0, 1, 1, 1, 1, 1, 1, 1, 1, 1, 1, 1, 1, 0, 0, 1, 1, 1, 1, 1, 1, 1]}\n",
      "\n",
      "Evaluating Set ID: Set_3_Prop_0.5\n"
     ]
    },
    {
     "name": "stderr",
     "output_type": "stream",
     "text": [
      "Processing predictions: 100%|██████████| 100/100 [00:09<00:00, 10.00it/s]\n",
      "/tmp/ipykernel_6833/3130949446.py:86: FutureWarning: Series.__getitem__ treating keys as positions is deprecated. In a future version, integer keys will always be treated as labels (consistent with DataFrame behavior). To access a value by position, use `ser.iloc[pos]`\n",
      "  answer = row[-1]  # Store the ground truth label\n"
     ]
    },
    {
     "name": "stdout",
     "output_type": "stream",
     "text": [
      "Num of non-numeric or invalid: 0\n",
      "Intermediate results for Run 1: {'Num Features': 10, 'Sample Size': 32, 'Class 1 Proportion': 0.5, 'Set ID': 'Set_3_Prop_0.5', 'Run Number': 1, 'Accuracy': 0.26, 'Precision': 0.13253012048192772, 'Recall': 0.8461538461538461, 'F1 Score': 0.22916666666666666, 'Prediction': [1, 1, 0, 1, 1, 1, 1, 1, 1, 0, 1, 1, 1, 0, 1, 1, 1, 1, 1, 0, 1, 1, 1, 0, 1, 1, 1, 1, 1, 1, 1, 0, 1, 1, 1, 1, 1, 1, 1, 0, 1, 1, 1, 1, 0, 1, 1, 0, 0, 0, 1, 1, 1, 1, 1, 1, 1, 0, 1, 1, 1, 1, 1, 0, 1, 1, 1, 1, 1, 1, 0, 1, 1, 0, 1, 1, 1, 1, 1, 1, 1, 0, 1, 1, 1, 1, 1, 1, 1, 1, 1, 1, 1, 1, 1, 1, 1, 1, 0, 1]}\n",
      "\n",
      "Evaluating Set ID: Set_4_Prop_0.5\n"
     ]
    },
    {
     "name": "stderr",
     "output_type": "stream",
     "text": [
      "Processing predictions: 100%|██████████| 100/100 [00:08<00:00, 11.16it/s]\n",
      "/tmp/ipykernel_6833/3130949446.py:86: FutureWarning: Series.__getitem__ treating keys as positions is deprecated. In a future version, integer keys will always be treated as labels (consistent with DataFrame behavior). To access a value by position, use `ser.iloc[pos]`\n",
      "  answer = row[-1]  # Store the ground truth label\n"
     ]
    },
    {
     "name": "stdout",
     "output_type": "stream",
     "text": [
      "Num of non-numeric or invalid: 0\n",
      "Intermediate results for Run 1: {'Num Features': 10, 'Sample Size': 32, 'Class 1 Proportion': 0.5, 'Set ID': 'Set_4_Prop_0.5', 'Run Number': 1, 'Accuracy': 0.24, 'Precision': 0.1111111111111111, 'Recall': 0.6923076923076923, 'F1 Score': 0.19148936170212766, 'Prediction': [0, 1, 0, 1, 1, 1, 1, 0, 1, 0, 1, 1, 1, 1, 1, 1, 1, 1, 1, 0, 1, 0, 1, 0, 1, 1, 1, 1, 1, 1, 1, 0, 1, 1, 1, 1, 1, 0, 0, 1, 1, 1, 1, 0, 1, 0, 1, 1, 1, 1, 1, 0, 1, 1, 1, 1, 0, 1, 1, 1, 1, 1, 0, 0, 1, 1, 1, 1, 1, 1, 0, 0, 1, 1, 1, 1, 1, 1, 1, 1, 1, 1, 1, 1, 1, 1, 1, 1, 1, 1, 1, 0, 1, 1, 1, 1, 1, 1, 1, 1]}\n",
      "\n",
      "Evaluating Set ID: Set_5_Prop_0.5\n"
     ]
    },
    {
     "name": "stderr",
     "output_type": "stream",
     "text": [
      "Processing predictions: 100%|██████████| 100/100 [00:13<00:00,  7.58it/s]\n",
      "/tmp/ipykernel_6833/3130949446.py:86: FutureWarning: Series.__getitem__ treating keys as positions is deprecated. In a future version, integer keys will always be treated as labels (consistent with DataFrame behavior). To access a value by position, use `ser.iloc[pos]`\n",
      "  answer = row[-1]  # Store the ground truth label\n"
     ]
    },
    {
     "name": "stdout",
     "output_type": "stream",
     "text": [
      "Num of non-numeric or invalid: 0\n",
      "Intermediate results for Run 1: {'Num Features': 10, 'Sample Size': 32, 'Class 1 Proportion': 0.5, 'Set ID': 'Set_5_Prop_0.5', 'Run Number': 1, 'Accuracy': 0.63, 'Precision': 0.2, 'Recall': 0.6153846153846154, 'F1 Score': 0.3018867924528302, 'Prediction': [0, 1, 0, 0, 0, 0, 1, 0, 0, 1, 1, 1, 1, 0, 0, 0, 1, 1, 0, 0, 1, 0, 1, 0, 1, 0, 1, 0, 1, 0, 0, 0, 0, 0, 1, 0, 0, 0, 0, 0, 1, 0, 0, 0, 1, 0, 0, 0, 0, 0, 1, 0, 0, 1, 0, 0, 0, 0, 0, 0, 0, 1, 0, 0, 0, 0, 0, 0, 1, 1, 0, 1, 1, 0, 1, 0, 0, 1, 0, 1, 1, 0, 0, 1, 1, 1, 1, 1, 0, 1, 0, 1, 0, 1, 1, 1, 1, 0, 1, 1]}\n",
      "\n",
      "Evaluating Set ID: Set_6_Prop_0.5\n"
     ]
    },
    {
     "name": "stderr",
     "output_type": "stream",
     "text": [
      "Processing predictions: 100%|██████████| 100/100 [00:08<00:00, 11.76it/s]\n",
      "/tmp/ipykernel_6833/3130949446.py:86: FutureWarning: Series.__getitem__ treating keys as positions is deprecated. In a future version, integer keys will always be treated as labels (consistent with DataFrame behavior). To access a value by position, use `ser.iloc[pos]`\n",
      "  answer = row[-1]  # Store the ground truth label\n"
     ]
    },
    {
     "name": "stdout",
     "output_type": "stream",
     "text": [
      "Num of non-numeric or invalid: 0\n",
      "Intermediate results for Run 1: {'Num Features': 10, 'Sample Size': 32, 'Class 1 Proportion': 0.5, 'Set ID': 'Set_6_Prop_0.5', 'Run Number': 1, 'Accuracy': 0.59, 'Precision': 0.0625, 'Recall': 0.15384615384615385, 'F1 Score': 0.08888888888888889, 'Prediction': [0, 1, 0, 0, 0, 0, 1, 0, 0, 0, 1, 0, 0, 0, 0, 1, 0, 1, 0, 0, 0, 0, 0, 1, 0, 0, 1, 1, 1, 1, 0, 0, 0, 0, 0, 1, 0, 1, 1, 0, 1, 1, 1, 0, 0, 0, 0, 0, 0, 0, 0, 0, 0, 0, 0, 0, 0, 0, 0, 1, 0, 1, 0, 0, 0, 1, 0, 0, 0, 0, 0, 0, 0, 0, 1, 1, 0, 0, 1, 0, 1, 0, 0, 1, 1, 1, 1, 0, 1, 1, 0, 1, 1, 0, 0, 0, 1, 0, 0, 0]}\n",
      "\n",
      "Evaluating Set ID: Set_7_Prop_0.5\n"
     ]
    },
    {
     "name": "stderr",
     "output_type": "stream",
     "text": [
      "Processing predictions: 100%|██████████| 100/100 [00:09<00:00, 10.11it/s]\n",
      "/tmp/ipykernel_6833/3130949446.py:86: FutureWarning: Series.__getitem__ treating keys as positions is deprecated. In a future version, integer keys will always be treated as labels (consistent with DataFrame behavior). To access a value by position, use `ser.iloc[pos]`\n",
      "  answer = row[-1]  # Store the ground truth label\n"
     ]
    },
    {
     "name": "stdout",
     "output_type": "stream",
     "text": [
      "Num of non-numeric or invalid: 0\n",
      "Intermediate results for Run 1: {'Num Features': 10, 'Sample Size': 32, 'Class 1 Proportion': 0.5, 'Set ID': 'Set_7_Prop_0.5', 'Run Number': 1, 'Accuracy': 0.48, 'Precision': 0.1694915254237288, 'Recall': 0.7692307692307693, 'F1 Score': 0.2777777777777778, 'Prediction': [0, 1, 0, 0, 0, 0, 1, 1, 1, 1, 1, 0, 1, 0, 0, 1, 0, 1, 1, 0, 1, 0, 0, 1, 0, 0, 1, 1, 1, 0, 1, 0, 1, 1, 1, 1, 0, 0, 0, 1, 1, 1, 0, 1, 0, 1, 1, 0, 1, 0, 1, 0, 0, 1, 0, 0, 1, 0, 1, 0, 0, 0, 0, 0, 1, 1, 1, 0, 0, 1, 1, 0, 1, 0, 1, 1, 1, 1, 0, 0, 1, 1, 1, 1, 1, 1, 1, 1, 1, 1, 0, 1, 0, 1, 1, 1, 1, 1, 1, 1]}\n",
      "\n",
      "Evaluating Set ID: Set_8_Prop_0.5\n"
     ]
    },
    {
     "name": "stderr",
     "output_type": "stream",
     "text": [
      "Processing predictions: 100%|██████████| 100/100 [00:09<00:00, 11.01it/s]\n",
      "/tmp/ipykernel_6833/3130949446.py:86: FutureWarning: Series.__getitem__ treating keys as positions is deprecated. In a future version, integer keys will always be treated as labels (consistent with DataFrame behavior). To access a value by position, use `ser.iloc[pos]`\n",
      "  answer = row[-1]  # Store the ground truth label\n"
     ]
    },
    {
     "name": "stdout",
     "output_type": "stream",
     "text": [
      "Num of non-numeric or invalid: 0\n",
      "Intermediate results for Run 1: {'Num Features': 10, 'Sample Size': 32, 'Class 1 Proportion': 0.5, 'Set ID': 'Set_8_Prop_0.5', 'Run Number': 1, 'Accuracy': 0.24, 'Precision': 0.12048192771084337, 'Recall': 0.7692307692307693, 'F1 Score': 0.20833333333333334, 'Prediction': [1, 1, 1, 1, 1, 1, 1, 1, 1, 0, 1, 1, 1, 1, 1, 0, 1, 1, 1, 1, 1, 0, 1, 0, 0, 1, 1, 1, 1, 1, 1, 0, 1, 1, 1, 1, 0, 1, 0, 1, 1, 1, 1, 1, 1, 0, 1, 0, 1, 1, 1, 1, 1, 1, 1, 1, 1, 0, 1, 0, 1, 1, 1, 1, 0, 1, 1, 1, 0, 1, 1, 1, 1, 1, 1, 1, 1, 1, 1, 0, 1, 1, 1, 1, 1, 1, 1, 1, 1, 1, 1, 0, 0, 1, 1, 1, 1, 1, 1, 1]}\n",
      "\n",
      "Evaluating Set ID: Set_9_Prop_0.5\n"
     ]
    },
    {
     "name": "stderr",
     "output_type": "stream",
     "text": [
      "Processing predictions: 100%|██████████| 100/100 [00:08<00:00, 11.42it/s]\n",
      "/tmp/ipykernel_6833/3130949446.py:86: FutureWarning: Series.__getitem__ treating keys as positions is deprecated. In a future version, integer keys will always be treated as labels (consistent with DataFrame behavior). To access a value by position, use `ser.iloc[pos]`\n",
      "  answer = row[-1]  # Store the ground truth label\n"
     ]
    },
    {
     "name": "stdout",
     "output_type": "stream",
     "text": [
      "Num of non-numeric or invalid: 0\n",
      "Intermediate results for Run 1: {'Num Features': 10, 'Sample Size': 32, 'Class 1 Proportion': 0.5, 'Set ID': 'Set_9_Prop_0.5', 'Run Number': 1, 'Accuracy': 0.26, 'Precision': 0.13253012048192772, 'Recall': 0.8461538461538461, 'F1 Score': 0.22916666666666666, 'Prediction': [0, 1, 1, 1, 1, 1, 1, 1, 1, 0, 1, 1, 1, 1, 1, 1, 1, 1, 1, 1, 0, 1, 0, 0, 0, 1, 1, 1, 1, 1, 1, 1, 1, 1, 1, 0, 1, 0, 1, 1, 1, 1, 1, 0, 1, 0, 1, 0, 0, 0, 1, 1, 1, 1, 1, 1, 1, 0, 1, 1, 1, 1, 0, 1, 1, 0, 1, 1, 1, 1, 1, 1, 1, 1, 1, 1, 1, 1, 1, 0, 1, 1, 1, 1, 1, 1, 1, 1, 1, 1, 1, 1, 1, 1, 1, 1, 1, 1, 1, 1]}\n",
      "\n",
      "Evaluating Set ID: Set_10_Prop_0.5\n"
     ]
    },
    {
     "name": "stderr",
     "output_type": "stream",
     "text": [
      "Processing predictions: 100%|██████████| 100/100 [00:09<00:00, 11.04it/s]\n",
      "/tmp/ipykernel_6833/3130949446.py:86: FutureWarning: Series.__getitem__ treating keys as positions is deprecated. In a future version, integer keys will always be treated as labels (consistent with DataFrame behavior). To access a value by position, use `ser.iloc[pos]`\n",
      "  answer = row[-1]  # Store the ground truth label\n"
     ]
    },
    {
     "name": "stdout",
     "output_type": "stream",
     "text": [
      "Num of non-numeric or invalid: 0\n",
      "Intermediate results for Run 1: {'Num Features': 10, 'Sample Size': 32, 'Class 1 Proportion': 0.5, 'Set ID': 'Set_10_Prop_0.5', 'Run Number': 1, 'Accuracy': 0.26, 'Precision': 0.1411764705882353, 'Recall': 0.9230769230769231, 'F1 Score': 0.24489795918367346, 'Prediction': [1, 1, 0, 1, 1, 1, 1, 1, 1, 0, 1, 1, 1, 1, 1, 1, 1, 0, 0, 1, 0, 1, 1, 0, 1, 1, 1, 1, 1, 1, 1, 1, 1, 1, 1, 0, 1, 0, 1, 0, 1, 1, 1, 1, 1, 1, 1, 0, 1, 0, 1, 1, 1, 1, 1, 1, 1, 1, 1, 1, 1, 1, 1, 1, 0, 1, 1, 1, 1, 0, 1, 1, 1, 1, 1, 1, 1, 0, 1, 0, 1, 1, 1, 1, 1, 1, 1, 1, 1, 1, 1, 1, 1, 1, 1, 1, 1, 1, 1, 1]}\n",
      "\n",
      "Evaluating Set ID: Set_11_Prop_0.5\n"
     ]
    },
    {
     "name": "stderr",
     "output_type": "stream",
     "text": [
      "Processing predictions: 100%|██████████| 100/100 [00:08<00:00, 11.55it/s]\n",
      "/tmp/ipykernel_6833/3130949446.py:86: FutureWarning: Series.__getitem__ treating keys as positions is deprecated. In a future version, integer keys will always be treated as labels (consistent with DataFrame behavior). To access a value by position, use `ser.iloc[pos]`\n",
      "  answer = row[-1]  # Store the ground truth label\n"
     ]
    },
    {
     "name": "stdout",
     "output_type": "stream",
     "text": [
      "Num of non-numeric or invalid: 0\n",
      "Intermediate results for Run 1: {'Num Features': 10, 'Sample Size': 32, 'Class 1 Proportion': 0.5, 'Set ID': 'Set_11_Prop_0.5', 'Run Number': 1, 'Accuracy': 0.3, 'Precision': 0.12987012987012986, 'Recall': 0.7692307692307693, 'F1 Score': 0.2222222222222222, 'Prediction': [1, 0, 0, 1, 1, 0, 1, 1, 1, 1, 0, 1, 1, 0, 1, 1, 1, 1, 1, 0, 1, 1, 1, 1, 1, 1, 1, 1, 1, 1, 1, 0, 1, 1, 0, 1, 1, 1, 1, 1, 0, 1, 1, 1, 0, 1, 1, 0, 1, 1, 0, 1, 1, 1, 1, 1, 1, 1, 1, 1, 0, 1, 1, 1, 1, 0, 0, 1, 1, 1, 0, 1, 1, 0, 1, 1, 1, 1, 1, 1, 1, 0, 1, 0, 1, 1, 1, 1, 1, 1, 1, 1, 1, 1, 0, 0, 1, 1, 0, 0]}\n",
      "\n",
      "Evaluating Set ID: Set_12_Prop_0.5\n"
     ]
    },
    {
     "name": "stderr",
     "output_type": "stream",
     "text": [
      "Processing predictions: 100%|██████████| 100/100 [00:09<00:00, 11.09it/s]\n",
      "/tmp/ipykernel_6833/3130949446.py:86: FutureWarning: Series.__getitem__ treating keys as positions is deprecated. In a future version, integer keys will always be treated as labels (consistent with DataFrame behavior). To access a value by position, use `ser.iloc[pos]`\n",
      "  answer = row[-1]  # Store the ground truth label\n"
     ]
    },
    {
     "name": "stdout",
     "output_type": "stream",
     "text": [
      "Num of non-numeric or invalid: 0\n",
      "Intermediate results for Run 1: {'Num Features': 10, 'Sample Size': 32, 'Class 1 Proportion': 0.5, 'Set ID': 'Set_12_Prop_0.5', 'Run Number': 1, 'Accuracy': 0.57, 'Precision': 0.08333333333333333, 'Recall': 0.23076923076923078, 'F1 Score': 0.12244897959183673, 'Prediction': [1, 0, 0, 0, 0, 1, 0, 0, 0, 1, 0, 0, 0, 0, 1, 1, 0, 0, 0, 1, 1, 0, 1, 1, 1, 1, 1, 0, 1, 1, 0, 0, 0, 0, 1, 0, 0, 0, 1, 1, 0, 1, 1, 0, 0, 1, 0, 1, 0, 0, 1, 0, 0, 0, 0, 1, 0, 1, 1, 0, 0, 0, 0, 1, 1, 0, 0, 1, 0, 0, 0, 0, 0, 0, 0, 0, 1, 1, 1, 0, 0, 0, 0, 0, 0, 1, 0, 0, 0, 0, 1, 1, 1, 0, 1, 0, 0, 0, 0, 0]}\n",
      "\n",
      "Evaluating Set ID: Set_13_Prop_0.5\n"
     ]
    },
    {
     "name": "stderr",
     "output_type": "stream",
     "text": [
      "Processing predictions: 100%|██████████| 100/100 [00:09<00:00, 10.71it/s]\n",
      "/tmp/ipykernel_6833/3130949446.py:86: FutureWarning: Series.__getitem__ treating keys as positions is deprecated. In a future version, integer keys will always be treated as labels (consistent with DataFrame behavior). To access a value by position, use `ser.iloc[pos]`\n",
      "  answer = row[-1]  # Store the ground truth label\n"
     ]
    },
    {
     "name": "stdout",
     "output_type": "stream",
     "text": [
      "Num of non-numeric or invalid: 0\n",
      "Intermediate results for Run 1: {'Num Features': 10, 'Sample Size': 32, 'Class 1 Proportion': 0.5, 'Set ID': 'Set_13_Prop_0.5', 'Run Number': 1, 'Accuracy': 0.19, 'Precision': 0.13829787234042554, 'Recall': 1.0, 'F1 Score': 0.24299065420560748, 'Prediction': [1, 1, 0, 1, 1, 1, 1, 1, 1, 1, 1, 1, 1, 1, 1, 1, 1, 1, 0, 0, 1, 1, 1, 1, 1, 1, 1, 1, 1, 1, 1, 1, 0, 1, 1, 1, 1, 1, 1, 1, 1, 1, 1, 1, 1, 1, 1, 1, 1, 1, 1, 1, 1, 1, 1, 1, 1, 1, 1, 0, 1, 0, 1, 1, 1, 1, 1, 1, 1, 1, 1, 1, 1, 1, 1, 1, 1, 1, 1, 1, 1, 1, 1, 1, 1, 1, 1, 1, 1, 1, 1, 1, 1, 1, 1, 1, 1, 1, 1, 1]}\n",
      "\n",
      "Evaluating Set ID: Set_14_Prop_0.5\n"
     ]
    },
    {
     "name": "stderr",
     "output_type": "stream",
     "text": [
      "Processing predictions: 100%|██████████| 100/100 [00:09<00:00, 10.79it/s]\n",
      "/tmp/ipykernel_6833/3130949446.py:86: FutureWarning: Series.__getitem__ treating keys as positions is deprecated. In a future version, integer keys will always be treated as labels (consistent with DataFrame behavior). To access a value by position, use `ser.iloc[pos]`\n",
      "  answer = row[-1]  # Store the ground truth label\n"
     ]
    },
    {
     "name": "stdout",
     "output_type": "stream",
     "text": [
      "Num of non-numeric or invalid: 0\n",
      "Intermediate results for Run 1: {'Num Features': 10, 'Sample Size': 32, 'Class 1 Proportion': 0.5, 'Set ID': 'Set_14_Prop_0.5', 'Run Number': 1, 'Accuracy': 0.4, 'Precision': 0.08771929824561403, 'Recall': 0.38461538461538464, 'F1 Score': 0.14285714285714285, 'Prediction': [1, 0, 1, 0, 1, 1, 1, 1, 0, 1, 0, 0, 1, 1, 1, 1, 1, 1, 0, 0, 1, 1, 0, 1, 1, 1, 1, 1, 0, 1, 1, 0, 0, 1, 1, 0, 1, 1, 0, 1, 1, 1, 1, 1, 0, 0, 0, 0, 1, 1, 0, 1, 0, 0, 1, 1, 1, 1, 0, 1, 0, 1, 1, 1, 1, 1, 1, 0, 0, 0, 0, 0, 1, 0, 0, 0, 1, 1, 1, 1, 0, 1, 1, 0, 0, 0, 0, 1, 0, 1, 1, 0, 1, 1, 0, 0, 0, 0, 0, 0]}\n",
      "\n",
      "Evaluating Set ID: Set_15_Prop_0.5\n"
     ]
    },
    {
     "name": "stderr",
     "output_type": "stream",
     "text": [
      "Processing predictions: 100%|██████████| 100/100 [00:08<00:00, 11.30it/s]\n",
      "/tmp/ipykernel_6833/3130949446.py:86: FutureWarning: Series.__getitem__ treating keys as positions is deprecated. In a future version, integer keys will always be treated as labels (consistent with DataFrame behavior). To access a value by position, use `ser.iloc[pos]`\n",
      "  answer = row[-1]  # Store the ground truth label\n"
     ]
    },
    {
     "name": "stdout",
     "output_type": "stream",
     "text": [
      "Num of non-numeric or invalid: 0\n",
      "Intermediate results for Run 1: {'Num Features': 10, 'Sample Size': 32, 'Class 1 Proportion': 0.5, 'Set ID': 'Set_15_Prop_0.5', 'Run Number': 1, 'Accuracy': 0.71, 'Precision': 0.05555555555555555, 'Recall': 0.07692307692307693, 'F1 Score': 0.06451612903225806, 'Prediction': [0, 1, 0, 0, 0, 0, 0, 0, 0, 0, 0, 1, 1, 0, 0, 0, 0, 1, 0, 0, 0, 0, 0, 0, 0, 1, 1, 0, 0, 0, 0, 0, 0, 0, 0, 0, 0, 0, 0, 0, 0, 0, 0, 0, 1, 0, 0, 0, 0, 0, 0, 0, 0, 0, 0, 0, 0, 1, 0, 0, 0, 0, 0, 0, 0, 1, 0, 0, 0, 0, 0, 0, 1, 0, 0, 0, 0, 0, 0, 0, 0, 0, 0, 0, 1, 1, 0, 0, 1, 0, 0, 1, 0, 0, 1, 0, 1, 1, 0, 1]}\n",
      "\n",
      "Starting experiments for top 20 features...\n",
      "\n",
      "Testing with class 1 proportion: 0.1\n",
      "\n",
      "Evaluating Set ID: Set_1_Prop_0.1\n"
     ]
    },
    {
     "name": "stderr",
     "output_type": "stream",
     "text": [
      "Processing predictions: 100%|██████████| 100/100 [00:16<00:00,  5.92it/s]\n",
      "/tmp/ipykernel_6833/3130949446.py:86: FutureWarning: Series.__getitem__ treating keys as positions is deprecated. In a future version, integer keys will always be treated as labels (consistent with DataFrame behavior). To access a value by position, use `ser.iloc[pos]`\n",
      "  answer = row[-1]  # Store the ground truth label\n"
     ]
    },
    {
     "name": "stdout",
     "output_type": "stream",
     "text": [
      "Num of non-numeric or invalid: 0\n",
      "Intermediate results for Run 1: {'Num Features': 20, 'Sample Size': 32, 'Class 1 Proportion': 0.1, 'Set ID': 'Set_1_Prop_0.1', 'Run Number': 1, 'Accuracy': 0.81, 'Precision': 0.25, 'Recall': 0.23076923076923078, 'F1 Score': 0.24, 'Prediction': [0, 1, 0, 0, 0, 0, 0, 0, 0, 0, 0, 0, 0, 0, 0, 0, 1, 0, 0, 0, 0, 0, 0, 0, 0, 0, 0, 0, 1, 0, 0, 0, 0, 1, 1, 0, 0, 0, 0, 0, 0, 0, 0, 0, 1, 0, 0, 0, 0, 0, 0, 0, 0, 0, 0, 0, 0, 0, 0, 0, 0, 0, 0, 0, 0, 0, 0, 1, 0, 0, 1, 0, 0, 0, 0, 0, 0, 0, 0, 0, 0, 1, 0, 1, 0, 0, 0, 0, 1, 0, 0, 1, 0, 0, 0, 0, 0, 0, 0, 0]}\n",
      "\n",
      "Evaluating Set ID: Set_2_Prop_0.1\n"
     ]
    },
    {
     "name": "stderr",
     "output_type": "stream",
     "text": [
      "Processing predictions: 100%|██████████| 100/100 [00:10<00:00,  9.87it/s]\n",
      "/tmp/ipykernel_6833/3130949446.py:86: FutureWarning: Series.__getitem__ treating keys as positions is deprecated. In a future version, integer keys will always be treated as labels (consistent with DataFrame behavior). To access a value by position, use `ser.iloc[pos]`\n",
      "  answer = row[-1]  # Store the ground truth label\n"
     ]
    },
    {
     "name": "stdout",
     "output_type": "stream",
     "text": [
      "Num of non-numeric or invalid: 0\n",
      "Intermediate results for Run 1: {'Num Features': 20, 'Sample Size': 32, 'Class 1 Proportion': 0.1, 'Set ID': 'Set_2_Prop_0.1', 'Run Number': 1, 'Accuracy': 0.75, 'Precision': 0.25, 'Recall': 0.46153846153846156, 'F1 Score': 0.32432432432432434, 'Prediction': [0, 0, 1, 0, 0, 0, 0, 0, 1, 1, 0, 0, 0, 0, 0, 1, 0, 0, 0, 0, 0, 0, 0, 0, 1, 0, 0, 1, 0, 0, 0, 0, 0, 0, 0, 0, 0, 0, 1, 0, 0, 0, 0, 0, 1, 0, 0, 0, 0, 1, 0, 0, 0, 1, 0, 0, 0, 0, 1, 0, 0, 0, 0, 0, 0, 0, 0, 0, 0, 0, 1, 1, 1, 1, 0, 0, 1, 0, 0, 0, 1, 0, 0, 0, 1, 1, 1, 1, 0, 0, 0, 0, 0, 0, 0, 0, 1, 0, 1, 1]}\n",
      "\n",
      "Evaluating Set ID: Set_3_Prop_0.1\n"
     ]
    },
    {
     "name": "stderr",
     "output_type": "stream",
     "text": [
      "Processing predictions: 100%|██████████| 100/100 [00:10<00:00,  9.92it/s]\n",
      "/tmp/ipykernel_6833/3130949446.py:86: FutureWarning: Series.__getitem__ treating keys as positions is deprecated. In a future version, integer keys will always be treated as labels (consistent with DataFrame behavior). To access a value by position, use `ser.iloc[pos]`\n",
      "  answer = row[-1]  # Store the ground truth label\n"
     ]
    },
    {
     "name": "stdout",
     "output_type": "stream",
     "text": [
      "Num of non-numeric or invalid: 0\n",
      "Intermediate results for Run 1: {'Num Features': 20, 'Sample Size': 32, 'Class 1 Proportion': 0.1, 'Set ID': 'Set_3_Prop_0.1', 'Run Number': 1, 'Accuracy': 0.38, 'Precision': 0.15492957746478872, 'Recall': 0.8461538461538461, 'F1 Score': 0.2619047619047619, 'Prediction': [1, 0, 1, 1, 1, 1, 0, 1, 0, 1, 1, 1, 0, 0, 1, 1, 0, 1, 0, 1, 0, 0, 1, 0, 0, 1, 1, 0, 1, 0, 1, 1, 1, 0, 1, 0, 1, 1, 0, 1, 0, 1, 1, 1, 1, 1, 0, 0, 1, 1, 0, 1, 1, 1, 1, 0, 1, 1, 0, 1, 0, 1, 1, 0, 0, 1, 1, 0, 1, 0, 1, 1, 1, 1, 1, 0, 0, 1, 1, 1, 1, 1, 1, 1, 1, 1, 1, 1, 1, 1, 1, 1, 1, 1, 1, 1, 1, 1, 1, 1]}\n",
      "\n",
      "Evaluating Set ID: Set_4_Prop_0.1\n"
     ]
    },
    {
     "name": "stderr",
     "output_type": "stream",
     "text": [
      "Processing predictions: 100%|██████████| 100/100 [00:09<00:00, 10.44it/s]\n",
      "/tmp/ipykernel_6833/3130949446.py:86: FutureWarning: Series.__getitem__ treating keys as positions is deprecated. In a future version, integer keys will always be treated as labels (consistent with DataFrame behavior). To access a value by position, use `ser.iloc[pos]`\n",
      "  answer = row[-1]  # Store the ground truth label\n"
     ]
    },
    {
     "name": "stdout",
     "output_type": "stream",
     "text": [
      "Num of non-numeric or invalid: 0\n",
      "Intermediate results for Run 1: {'Num Features': 20, 'Sample Size': 32, 'Class 1 Proportion': 0.1, 'Set ID': 'Set_4_Prop_0.1', 'Run Number': 1, 'Accuracy': 0.44, 'Precision': 0.16923076923076924, 'Recall': 0.8461538461538461, 'F1 Score': 0.28205128205128205, 'Prediction': [1, 0, 1, 1, 0, 1, 1, 1, 0, 1, 1, 1, 1, 0, 0, 0, 1, 1, 1, 1, 1, 1, 0, 0, 0, 0, 1, 1, 0, 1, 0, 1, 1, 1, 0, 0, 1, 0, 0, 1, 0, 1, 1, 0, 1, 1, 1, 1, 0, 1, 0, 1, 1, 1, 1, 0, 1, 0, 0, 1, 0, 0, 0, 0, 1, 1, 0, 0, 1, 1, 0, 1, 1, 1, 1, 0, 1, 0, 1, 1, 0, 1, 1, 1, 1, 1, 1, 1, 1, 1, 1, 0, 0, 1, 1, 1, 1, 1, 1, 1]}\n",
      "\n",
      "Evaluating Set ID: Set_5_Prop_0.1\n"
     ]
    },
    {
     "name": "stderr",
     "output_type": "stream",
     "text": [
      "Processing predictions: 100%|██████████| 100/100 [00:09<00:00, 10.23it/s]\n",
      "/tmp/ipykernel_6833/3130949446.py:86: FutureWarning: Series.__getitem__ treating keys as positions is deprecated. In a future version, integer keys will always be treated as labels (consistent with DataFrame behavior). To access a value by position, use `ser.iloc[pos]`\n",
      "  answer = row[-1]  # Store the ground truth label\n"
     ]
    },
    {
     "name": "stdout",
     "output_type": "stream",
     "text": [
      "Num of non-numeric or invalid: 0\n",
      "Intermediate results for Run 1: {'Num Features': 20, 'Sample Size': 32, 'Class 1 Proportion': 0.1, 'Set ID': 'Set_5_Prop_0.1', 'Run Number': 1, 'Accuracy': 0.67, 'Precision': 0.2222222222222222, 'Recall': 0.6153846153846154, 'F1 Score': 0.32653061224489793, 'Prediction': [0, 0, 0, 1, 0, 1, 0, 1, 1, 1, 0, 1, 0, 0, 0, 0, 0, 1, 0, 0, 0, 0, 0, 0, 0, 0, 0, 1, 1, 0, 0, 0, 1, 0, 0, 0, 1, 0, 0, 0, 0, 0, 0, 1, 0, 1, 0, 0, 1, 0, 0, 0, 0, 0, 0, 0, 0, 0, 0, 0, 1, 0, 0, 0, 0, 0, 0, 0, 1, 0, 1, 1, 1, 1, 1, 0, 1, 1, 0, 0, 1, 0, 0, 1, 1, 1, 0, 0, 1, 0, 1, 1, 0, 1, 1, 1, 1, 0, 1, 1]}\n",
      "\n",
      "Evaluating Set ID: Set_6_Prop_0.1\n"
     ]
    },
    {
     "name": "stderr",
     "output_type": "stream",
     "text": [
      "Processing predictions: 100%|██████████| 100/100 [00:09<00:00, 10.42it/s]\n",
      "/tmp/ipykernel_6833/3130949446.py:86: FutureWarning: Series.__getitem__ treating keys as positions is deprecated. In a future version, integer keys will always be treated as labels (consistent with DataFrame behavior). To access a value by position, use `ser.iloc[pos]`\n",
      "  answer = row[-1]  # Store the ground truth label\n"
     ]
    },
    {
     "name": "stdout",
     "output_type": "stream",
     "text": [
      "Num of non-numeric or invalid: 0\n",
      "Intermediate results for Run 1: {'Num Features': 20, 'Sample Size': 32, 'Class 1 Proportion': 0.1, 'Set ID': 'Set_6_Prop_0.1', 'Run Number': 1, 'Accuracy': 0.51, 'Precision': 0.14, 'Recall': 0.5384615384615384, 'F1 Score': 0.2222222222222222, 'Prediction': [1, 1, 1, 0, 0, 1, 1, 1, 0, 1, 1, 0, 1, 0, 0, 0, 1, 1, 1, 0, 0, 1, 0, 0, 0, 1, 1, 0, 1, 1, 1, 1, 0, 1, 0, 0, 1, 0, 0, 1, 0, 0, 1, 0, 0, 1, 1, 0, 0, 0, 0, 1, 1, 1, 1, 0, 0, 0, 0, 0, 1, 0, 0, 0, 0, 1, 0, 0, 0, 1, 1, 1, 1, 0, 1, 1, 0, 1, 0, 0, 1, 1, 0, 1, 1, 0, 0, 1, 1, 0, 0, 1, 0, 1, 1, 1, 1, 0, 1, 0]}\n",
      "\n",
      "Evaluating Set ID: Set_7_Prop_0.1\n"
     ]
    },
    {
     "name": "stderr",
     "output_type": "stream",
     "text": [
      "Processing predictions: 100%|██████████| 100/100 [00:09<00:00, 10.04it/s]\n",
      "/tmp/ipykernel_6833/3130949446.py:86: FutureWarning: Series.__getitem__ treating keys as positions is deprecated. In a future version, integer keys will always be treated as labels (consistent with DataFrame behavior). To access a value by position, use `ser.iloc[pos]`\n",
      "  answer = row[-1]  # Store the ground truth label\n"
     ]
    },
    {
     "name": "stdout",
     "output_type": "stream",
     "text": [
      "Num of non-numeric or invalid: 0\n",
      "Intermediate results for Run 1: {'Num Features': 20, 'Sample Size': 32, 'Class 1 Proportion': 0.1, 'Set ID': 'Set_7_Prop_0.1', 'Run Number': 1, 'Accuracy': 0.7, 'Precision': 0.20689655172413793, 'Recall': 0.46153846153846156, 'F1 Score': 0.2857142857142857, 'Prediction': [0, 1, 0, 1, 0, 0, 0, 0, 1, 1, 0, 0, 0, 0, 0, 1, 1, 0, 1, 0, 0, 0, 0, 0, 0, 0, 1, 1, 0, 0, 0, 0, 1, 0, 0, 0, 0, 1, 0, 0, 0, 0, 1, 1, 0, 1, 1, 0, 0, 0, 1, 0, 0, 0, 0, 0, 0, 0, 0, 0, 0, 0, 0, 0, 1, 0, 0, 0, 0, 0, 0, 1, 0, 1, 0, 0, 0, 1, 0, 0, 0, 0, 0, 0, 0, 1, 1, 1, 1, 0, 1, 0, 1, 0, 1, 0, 1, 0, 1, 0]}\n",
      "\n",
      "Evaluating Set ID: Set_8_Prop_0.1\n"
     ]
    },
    {
     "name": "stderr",
     "output_type": "stream",
     "text": [
      "Processing predictions: 100%|██████████| 100/100 [00:09<00:00, 10.69it/s]\n",
      "/tmp/ipykernel_6833/3130949446.py:86: FutureWarning: Series.__getitem__ treating keys as positions is deprecated. In a future version, integer keys will always be treated as labels (consistent with DataFrame behavior). To access a value by position, use `ser.iloc[pos]`\n",
      "  answer = row[-1]  # Store the ground truth label\n"
     ]
    },
    {
     "name": "stdout",
     "output_type": "stream",
     "text": [
      "Num of non-numeric or invalid: 0\n",
      "Intermediate results for Run 1: {'Num Features': 20, 'Sample Size': 32, 'Class 1 Proportion': 0.1, 'Set ID': 'Set_8_Prop_0.1', 'Run Number': 1, 'Accuracy': 0.56, 'Precision': 0.1836734693877551, 'Recall': 0.6923076923076923, 'F1 Score': 0.2903225806451613, 'Prediction': [1, 0, 0, 1, 1, 0, 1, 0, 0, 1, 1, 1, 1, 0, 0, 0, 1, 1, 1, 0, 0, 1, 0, 0, 0, 0, 0, 1, 0, 1, 0, 0, 0, 1, 0, 1, 1, 0, 1, 0, 0, 1, 0, 1, 1, 1, 0, 0, 0, 0, 0, 0, 0, 1, 1, 1, 0, 0, 0, 0, 0, 0, 0, 0, 1, 0, 1, 1, 0, 1, 0, 1, 1, 1, 0, 1, 1, 0, 0, 1, 1, 1, 0, 0, 1, 1, 1, 1, 1, 1, 0, 0, 0, 1, 1, 1, 1, 0, 1, 1]}\n",
      "\n",
      "Evaluating Set ID: Set_9_Prop_0.1\n"
     ]
    },
    {
     "name": "stderr",
     "output_type": "stream",
     "text": [
      "Processing predictions: 100%|██████████| 100/100 [00:10<00:00,  9.91it/s]\n",
      "/tmp/ipykernel_6833/3130949446.py:86: FutureWarning: Series.__getitem__ treating keys as positions is deprecated. In a future version, integer keys will always be treated as labels (consistent with DataFrame behavior). To access a value by position, use `ser.iloc[pos]`\n",
      "  answer = row[-1]  # Store the ground truth label\n"
     ]
    },
    {
     "name": "stdout",
     "output_type": "stream",
     "text": [
      "Num of non-numeric or invalid: 0\n",
      "Intermediate results for Run 1: {'Num Features': 20, 'Sample Size': 32, 'Class 1 Proportion': 0.1, 'Set ID': 'Set_9_Prop_0.1', 'Run Number': 1, 'Accuracy': 0.49, 'Precision': 0.1724137931034483, 'Recall': 0.7692307692307693, 'F1 Score': 0.28169014084507044, 'Prediction': [0, 1, 1, 1, 1, 0, 0, 1, 1, 0, 0, 1, 0, 1, 0, 1, 0, 1, 0, 1, 0, 0, 1, 0, 0, 0, 1, 1, 0, 1, 1, 0, 0, 1, 0, 0, 1, 1, 0, 0, 0, 1, 0, 1, 1, 1, 1, 1, 0, 0, 1, 1, 1, 1, 1, 0, 1, 0, 0, 0, 1, 0, 0, 0, 1, 1, 1, 1, 0, 1, 1, 0, 1, 1, 1, 0, 1, 0, 1, 0, 0, 1, 1, 1, 0, 1, 1, 1, 1, 1, 1, 0, 1, 0, 1, 0, 1, 1, 1, 1]}\n",
      "\n",
      "Evaluating Set ID: Set_10_Prop_0.1\n"
     ]
    },
    {
     "name": "stderr",
     "output_type": "stream",
     "text": [
      "Processing predictions: 100%|██████████| 100/100 [00:09<00:00, 10.70it/s]\n",
      "/tmp/ipykernel_6833/3130949446.py:86: FutureWarning: Series.__getitem__ treating keys as positions is deprecated. In a future version, integer keys will always be treated as labels (consistent with DataFrame behavior). To access a value by position, use `ser.iloc[pos]`\n",
      "  answer = row[-1]  # Store the ground truth label\n"
     ]
    },
    {
     "name": "stdout",
     "output_type": "stream",
     "text": [
      "Num of non-numeric or invalid: 0\n",
      "Intermediate results for Run 1: {'Num Features': 20, 'Sample Size': 32, 'Class 1 Proportion': 0.1, 'Set ID': 'Set_10_Prop_0.1', 'Run Number': 1, 'Accuracy': 0.23, 'Precision': 0.14444444444444443, 'Recall': 1.0, 'F1 Score': 0.2524271844660194, 'Prediction': [0, 1, 1, 1, 1, 1, 1, 1, 1, 1, 1, 1, 1, 1, 0, 1, 1, 1, 0, 1, 1, 1, 1, 1, 1, 1, 1, 0, 1, 1, 1, 1, 1, 1, 1, 0, 1, 1, 1, 1, 1, 1, 0, 1, 1, 1, 1, 1, 1, 1, 1, 1, 1, 1, 1, 0, 1, 1, 1, 1, 1, 1, 1, 1, 0, 1, 1, 1, 1, 0, 1, 1, 1, 1, 1, 1, 1, 0, 1, 1, 1, 1, 1, 1, 1, 1, 1, 1, 1, 1, 1, 1, 1, 1, 1, 1, 1, 1, 1, 1]}\n",
      "\n",
      "Evaluating Set ID: Set_11_Prop_0.1\n"
     ]
    },
    {
     "name": "stderr",
     "output_type": "stream",
     "text": [
      "Processing predictions: 100%|██████████| 100/100 [00:21<00:00,  4.63it/s]\n",
      "/tmp/ipykernel_6833/3130949446.py:86: FutureWarning: Series.__getitem__ treating keys as positions is deprecated. In a future version, integer keys will always be treated as labels (consistent with DataFrame behavior). To access a value by position, use `ser.iloc[pos]`\n",
      "  answer = row[-1]  # Store the ground truth label\n"
     ]
    },
    {
     "name": "stdout",
     "output_type": "stream",
     "text": [
      "Num of non-numeric or invalid: 0\n",
      "Intermediate results for Run 1: {'Num Features': 20, 'Sample Size': 32, 'Class 1 Proportion': 0.1, 'Set ID': 'Set_11_Prop_0.1', 'Run Number': 1, 'Accuracy': 0.4, 'Precision': 0.14925373134328357, 'Recall': 0.7692307692307693, 'F1 Score': 0.25, 'Prediction': [1, 1, 0, 1, 1, 1, 0, 1, 1, 1, 1, 0, 1, 0, 0, 1, 1, 1, 1, 0, 0, 0, 0, 1, 0, 0, 1, 1, 0, 1, 0, 1, 1, 0, 1, 1, 0, 1, 0, 1, 0, 1, 1, 1, 1, 0, 0, 1, 1, 1, 1, 1, 1, 0, 1, 1, 0, 0, 0, 1, 1, 0, 0, 0, 1, 1, 1, 0, 1, 1, 1, 0, 1, 1, 0, 1, 0, 0, 1, 1, 1, 1, 1, 1, 1, 1, 1, 1, 1, 0, 1, 0, 1, 1, 1, 1, 1, 1, 1, 1]}\n",
      "\n",
      "Evaluating Set ID: Set_12_Prop_0.1\n"
     ]
    },
    {
     "name": "stderr",
     "output_type": "stream",
     "text": [
      "Processing predictions: 100%|██████████| 100/100 [00:09<00:00, 10.72it/s]\n",
      "/tmp/ipykernel_6833/3130949446.py:86: FutureWarning: Series.__getitem__ treating keys as positions is deprecated. In a future version, integer keys will always be treated as labels (consistent with DataFrame behavior). To access a value by position, use `ser.iloc[pos]`\n",
      "  answer = row[-1]  # Store the ground truth label\n"
     ]
    },
    {
     "name": "stdout",
     "output_type": "stream",
     "text": [
      "Num of non-numeric or invalid: 0\n",
      "Intermediate results for Run 1: {'Num Features': 20, 'Sample Size': 32, 'Class 1 Proportion': 0.1, 'Set ID': 'Set_12_Prop_0.1', 'Run Number': 1, 'Accuracy': 0.82, 'Precision': 0.2727272727272727, 'Recall': 0.23076923076923078, 'F1 Score': 0.25, 'Prediction': [0, 0, 0, 0, 0, 0, 0, 0, 0, 1, 0, 0, 1, 0, 0, 0, 1, 0, 0, 0, 0, 0, 0, 0, 0, 0, 1, 0, 1, 0, 0, 0, 0, 1, 0, 0, 0, 0, 0, 0, 0, 0, 0, 0, 1, 0, 0, 0, 0, 0, 0, 0, 0, 0, 0, 0, 0, 0, 0, 0, 0, 0, 0, 0, 0, 0, 0, 0, 0, 0, 0, 1, 0, 0, 0, 0, 0, 1, 0, 0, 0, 0, 0, 0, 0, 0, 0, 0, 0, 0, 0, 0, 0, 1, 0, 0, 0, 0, 1, 0]}\n",
      "\n",
      "Evaluating Set ID: Set_13_Prop_0.1\n"
     ]
    },
    {
     "name": "stderr",
     "output_type": "stream",
     "text": [
      "Processing predictions: 100%|██████████| 100/100 [00:10<00:00,  9.86it/s]\n",
      "/tmp/ipykernel_6833/3130949446.py:86: FutureWarning: Series.__getitem__ treating keys as positions is deprecated. In a future version, integer keys will always be treated as labels (consistent with DataFrame behavior). To access a value by position, use `ser.iloc[pos]`\n",
      "  answer = row[-1]  # Store the ground truth label\n"
     ]
    },
    {
     "name": "stdout",
     "output_type": "stream",
     "text": [
      "Num of non-numeric or invalid: 0\n",
      "Intermediate results for Run 1: {'Num Features': 20, 'Sample Size': 32, 'Class 1 Proportion': 0.1, 'Set ID': 'Set_13_Prop_0.1', 'Run Number': 1, 'Accuracy': 0.6, 'Precision': 0.15384615384615385, 'Recall': 0.46153846153846156, 'F1 Score': 0.23076923076923078, 'Prediction': [1, 0, 1, 0, 1, 0, 0, 1, 0, 0, 0, 1, 0, 0, 0, 1, 1, 0, 0, 0, 1, 0, 0, 0, 0, 0, 1, 1, 1, 0, 0, 1, 0, 1, 1, 0, 0, 0, 0, 0, 0, 0, 1, 0, 1, 0, 1, 1, 0, 1, 0, 1, 0, 1, 0, 0, 0, 0, 1, 0, 0, 0, 1, 0, 0, 0, 0, 0, 0, 1, 1, 0, 0, 1, 0, 1, 1, 0, 0, 1, 0, 0, 0, 1, 1, 1, 1, 1, 1, 1, 0, 0, 0, 1, 0, 1, 1, 0, 0, 0]}\n",
      "\n",
      "Evaluating Set ID: Set_14_Prop_0.1\n"
     ]
    },
    {
     "name": "stderr",
     "output_type": "stream",
     "text": [
      "Processing predictions: 100%|██████████| 100/100 [00:10<00:00,  9.43it/s]\n",
      "/tmp/ipykernel_6833/3130949446.py:86: FutureWarning: Series.__getitem__ treating keys as positions is deprecated. In a future version, integer keys will always be treated as labels (consistent with DataFrame behavior). To access a value by position, use `ser.iloc[pos]`\n",
      "  answer = row[-1]  # Store the ground truth label\n"
     ]
    },
    {
     "name": "stdout",
     "output_type": "stream",
     "text": [
      "Num of non-numeric or invalid: 0\n",
      "Intermediate results for Run 1: {'Num Features': 20, 'Sample Size': 32, 'Class 1 Proportion': 0.1, 'Set ID': 'Set_14_Prop_0.1', 'Run Number': 1, 'Accuracy': 0.61, 'Precision': 0.21739130434782608, 'Recall': 0.7692307692307693, 'F1 Score': 0.3389830508474576, 'Prediction': [0, 1, 0, 0, 1, 0, 1, 0, 1, 0, 1, 1, 0, 1, 0, 0, 1, 1, 1, 0, 0, 1, 0, 0, 0, 0, 1, 1, 0, 0, 0, 1, 0, 0, 0, 1, 0, 0, 0, 0, 1, 0, 1, 1, 1, 0, 0, 0, 1, 0, 0, 1, 0, 0, 1, 1, 0, 0, 0, 0, 0, 0, 0, 0, 0, 1, 0, 1, 0, 0, 1, 0, 1, 1, 1, 0, 1, 0, 0, 1, 0, 1, 1, 1, 1, 0, 1, 1, 0, 1, 1, 1, 0, 1, 1, 1, 1, 1, 0, 1]}\n",
      "\n",
      "Evaluating Set ID: Set_15_Prop_0.1\n"
     ]
    },
    {
     "name": "stderr",
     "output_type": "stream",
     "text": [
      "Processing predictions: 100%|██████████| 100/100 [00:10<00:00,  9.20it/s]\n",
      "/tmp/ipykernel_6833/3130949446.py:86: FutureWarning: Series.__getitem__ treating keys as positions is deprecated. In a future version, integer keys will always be treated as labels (consistent with DataFrame behavior). To access a value by position, use `ser.iloc[pos]`\n",
      "  answer = row[-1]  # Store the ground truth label\n"
     ]
    },
    {
     "name": "stdout",
     "output_type": "stream",
     "text": [
      "Num of non-numeric or invalid: 0\n",
      "Intermediate results for Run 1: {'Num Features': 20, 'Sample Size': 32, 'Class 1 Proportion': 0.1, 'Set ID': 'Set_15_Prop_0.1', 'Run Number': 1, 'Accuracy': 0.85, 'Precision': 0.0, 'Recall': 0.0, 'F1 Score': 0.0, 'Prediction': [0, 0, 0, 0, 0, 0, 0, 0, 0, 0, 0, 0, 0, 0, 0, 0, 0, 0, 0, 0, 0, 0, 0, 0, 0, 0, 0, 0, 0, 0, 0, 0, 0, 0, 0, 0, 0, 0, 0, 0, 0, 0, 0, 0, 0, 0, 0, 0, 0, 0, 0, 0, 0, 0, 0, 0, 0, 0, 0, 0, 0, 0, 0, 0, 0, 0, 0, 0, 0, 0, 0, 0, 0, 0, 0, 0, 0, 0, 0, 0, 0, 0, 0, 0, 1, 0, 0, 0, 0, 0, 0, 0, 0, 1, 0, 0, 0, 0, 0, 0]}\n",
      "\n",
      "Testing with class 1 proportion: 0.3\n",
      "\n",
      "Evaluating Set ID: Set_1_Prop_0.3\n"
     ]
    },
    {
     "name": "stderr",
     "output_type": "stream",
     "text": [
      "Processing predictions: 100%|██████████| 100/100 [00:09<00:00, 10.39it/s]\n",
      "/tmp/ipykernel_6833/3130949446.py:86: FutureWarning: Series.__getitem__ treating keys as positions is deprecated. In a future version, integer keys will always be treated as labels (consistent with DataFrame behavior). To access a value by position, use `ser.iloc[pos]`\n",
      "  answer = row[-1]  # Store the ground truth label\n"
     ]
    },
    {
     "name": "stdout",
     "output_type": "stream",
     "text": [
      "Num of non-numeric or invalid: 0\n",
      "Intermediate results for Run 1: {'Num Features': 20, 'Sample Size': 32, 'Class 1 Proportion': 0.3, 'Set ID': 'Set_1_Prop_0.3', 'Run Number': 1, 'Accuracy': 0.32, 'Precision': 0.13333333333333333, 'Recall': 0.7692307692307693, 'F1 Score': 0.22727272727272727, 'Prediction': [1, 1, 1, 0, 1, 1, 0, 1, 1, 0, 1, 1, 1, 1, 0, 1, 1, 1, 1, 1, 1, 0, 1, 0, 1, 1, 1, 0, 1, 1, 1, 0, 1, 0, 1, 1, 0, 1, 0, 1, 1, 1, 1, 0, 1, 1, 1, 0, 0, 0, 1, 1, 1, 0, 1, 0, 1, 0, 1, 1, 1, 0, 1, 0, 0, 1, 1, 1, 0, 1, 1, 1, 1, 1, 1, 1, 1, 0, 1, 1, 1, 1, 1, 1, 1, 1, 1, 1, 0, 1, 1, 0, 1, 1, 1, 1, 1, 1, 1, 1]}\n",
      "\n",
      "Evaluating Set ID: Set_2_Prop_0.3\n"
     ]
    },
    {
     "name": "stderr",
     "output_type": "stream",
     "text": [
      "Processing predictions: 100%|██████████| 100/100 [00:09<00:00, 10.27it/s]\n",
      "/tmp/ipykernel_6833/3130949446.py:86: FutureWarning: Series.__getitem__ treating keys as positions is deprecated. In a future version, integer keys will always be treated as labels (consistent with DataFrame behavior). To access a value by position, use `ser.iloc[pos]`\n",
      "  answer = row[-1]  # Store the ground truth label\n"
     ]
    },
    {
     "name": "stdout",
     "output_type": "stream",
     "text": [
      "Num of non-numeric or invalid: 0\n",
      "Intermediate results for Run 1: {'Num Features': 20, 'Sample Size': 32, 'Class 1 Proportion': 0.3, 'Set ID': 'Set_2_Prop_0.3', 'Run Number': 1, 'Accuracy': 0.13, 'Precision': 0.13, 'Recall': 1.0, 'F1 Score': 0.23008849557522124, 'Prediction': [1, 1, 1, 1, 1, 1, 1, 1, 1, 1, 1, 1, 1, 1, 1, 1, 1, 1, 1, 1, 1, 1, 1, 1, 1, 1, 1, 1, 1, 1, 1, 1, 1, 1, 1, 1, 1, 1, 1, 1, 1, 1, 1, 1, 1, 1, 1, 1, 1, 1, 1, 1, 1, 1, 1, 1, 1, 1, 1, 1, 1, 1, 1, 1, 1, 1, 1, 1, 1, 1, 1, 1, 1, 1, 1, 1, 1, 1, 1, 1, 1, 1, 1, 1, 1, 1, 1, 1, 1, 1, 1, 1, 1, 1, 1, 1, 1, 1, 1, 1]}\n",
      "\n",
      "Evaluating Set ID: Set_3_Prop_0.3\n"
     ]
    },
    {
     "name": "stderr",
     "output_type": "stream",
     "text": [
      "Processing predictions: 100%|██████████| 100/100 [00:19<00:00,  5.12it/s]\n",
      "/tmp/ipykernel_6833/3130949446.py:86: FutureWarning: Series.__getitem__ treating keys as positions is deprecated. In a future version, integer keys will always be treated as labels (consistent with DataFrame behavior). To access a value by position, use `ser.iloc[pos]`\n",
      "  answer = row[-1]  # Store the ground truth label\n"
     ]
    },
    {
     "name": "stdout",
     "output_type": "stream",
     "text": [
      "Num of non-numeric or invalid: 0\n",
      "Intermediate results for Run 1: {'Num Features': 20, 'Sample Size': 32, 'Class 1 Proportion': 0.3, 'Set ID': 'Set_3_Prop_0.3', 'Run Number': 1, 'Accuracy': 0.2, 'Precision': 0.13186813186813187, 'Recall': 0.9230769230769231, 'F1 Score': 0.23076923076923078, 'Prediction': [1, 0, 1, 1, 1, 1, 1, 1, 1, 1, 1, 1, 1, 1, 1, 1, 0, 0, 1, 1, 1, 1, 1, 1, 1, 0, 1, 1, 1, 1, 1, 1, 1, 1, 1, 1, 1, 1, 1, 1, 0, 0, 1, 1, 1, 1, 1, 1, 1, 1, 1, 1, 1, 1, 1, 1, 1, 1, 1, 1, 1, 1, 1, 1, 1, 1, 1, 0, 1, 1, 1, 1, 1, 1, 1, 1, 1, 1, 1, 1, 1, 0, 1, 1, 1, 1, 1, 1, 1, 1, 1, 1, 1, 1, 0, 1, 1, 1, 1, 1]}\n",
      "\n",
      "Evaluating Set ID: Set_4_Prop_0.3\n"
     ]
    },
    {
     "name": "stderr",
     "output_type": "stream",
     "text": [
      "Processing predictions: 100%|██████████| 100/100 [00:10<00:00,  9.86it/s]\n",
      "/tmp/ipykernel_6833/3130949446.py:86: FutureWarning: Series.__getitem__ treating keys as positions is deprecated. In a future version, integer keys will always be treated as labels (consistent with DataFrame behavior). To access a value by position, use `ser.iloc[pos]`\n",
      "  answer = row[-1]  # Store the ground truth label\n"
     ]
    },
    {
     "name": "stdout",
     "output_type": "stream",
     "text": [
      "Num of non-numeric or invalid: 0\n",
      "Intermediate results for Run 1: {'Num Features': 20, 'Sample Size': 32, 'Class 1 Proportion': 0.3, 'Set ID': 'Set_4_Prop_0.3', 'Run Number': 1, 'Accuracy': 0.61, 'Precision': 0.175, 'Recall': 0.5384615384615384, 'F1 Score': 0.2641509433962264, 'Prediction': [0, 1, 0, 0, 1, 0, 0, 0, 0, 1, 1, 0, 1, 0, 0, 1, 0, 0, 1, 0, 0, 0, 0, 1, 0, 0, 1, 1, 0, 1, 0, 0, 0, 1, 0, 1, 0, 1, 0, 0, 0, 1, 0, 0, 1, 1, 1, 0, 0, 0, 0, 0, 1, 1, 0, 0, 0, 0, 0, 0, 0, 0, 0, 0, 0, 0, 0, 0, 0, 0, 1, 1, 1, 1, 1, 0, 1, 0, 0, 1, 1, 0, 1, 1, 1, 1, 1, 0, 0, 0, 1, 0, 1, 0, 1, 0, 1, 1, 1, 1]}\n",
      "\n",
      "Evaluating Set ID: Set_5_Prop_0.3\n"
     ]
    },
    {
     "name": "stderr",
     "output_type": "stream",
     "text": [
      "Processing predictions: 100%|██████████| 100/100 [00:10<00:00,  9.38it/s]\n",
      "/tmp/ipykernel_6833/3130949446.py:86: FutureWarning: Series.__getitem__ treating keys as positions is deprecated. In a future version, integer keys will always be treated as labels (consistent with DataFrame behavior). To access a value by position, use `ser.iloc[pos]`\n",
      "  answer = row[-1]  # Store the ground truth label\n"
     ]
    },
    {
     "name": "stdout",
     "output_type": "stream",
     "text": [
      "Num of non-numeric or invalid: 0\n",
      "Intermediate results for Run 1: {'Num Features': 20, 'Sample Size': 32, 'Class 1 Proportion': 0.3, 'Set ID': 'Set_5_Prop_0.3', 'Run Number': 1, 'Accuracy': 0.17, 'Precision': 0.1111111111111111, 'Recall': 0.7692307692307693, 'F1 Score': 0.1941747572815534, 'Prediction': [1, 1, 1, 1, 1, 1, 1, 1, 1, 0, 1, 1, 1, 1, 1, 1, 1, 1, 1, 1, 1, 1, 0, 1, 1, 1, 1, 1, 1, 1, 0, 1, 1, 1, 1, 1, 1, 1, 1, 1, 1, 1, 0, 1, 1, 1, 1, 1, 1, 1, 1, 1, 1, 1, 1, 1, 1, 0, 1, 1, 1, 1, 1, 0, 1, 1, 1, 1, 1, 1, 1, 1, 1, 1, 1, 1, 1, 1, 0, 1, 1, 1, 1, 1, 1, 1, 0, 1, 1, 1, 0, 1, 1, 1, 1, 0, 1, 1, 1, 1]}\n",
      "\n",
      "Evaluating Set ID: Set_6_Prop_0.3\n"
     ]
    },
    {
     "name": "stderr",
     "output_type": "stream",
     "text": [
      "Processing predictions: 100%|██████████| 100/100 [00:11<00:00,  8.60it/s]\n",
      "/tmp/ipykernel_6833/3130949446.py:86: FutureWarning: Series.__getitem__ treating keys as positions is deprecated. In a future version, integer keys will always be treated as labels (consistent with DataFrame behavior). To access a value by position, use `ser.iloc[pos]`\n",
      "  answer = row[-1]  # Store the ground truth label\n"
     ]
    },
    {
     "name": "stdout",
     "output_type": "stream",
     "text": [
      "Num of non-numeric or invalid: 0\n",
      "Intermediate results for Run 1: {'Num Features': 20, 'Sample Size': 32, 'Class 1 Proportion': 0.3, 'Set ID': 'Set_6_Prop_0.3', 'Run Number': 1, 'Accuracy': 0.44, 'Precision': 0.1791044776119403, 'Recall': 0.9230769230769231, 'F1 Score': 0.3, 'Prediction': [0, 1, 1, 1, 0, 1, 1, 1, 1, 1, 0, 1, 1, 0, 0, 0, 1, 1, 0, 1, 1, 0, 1, 0, 0, 1, 0, 1, 1, 0, 0, 0, 0, 1, 0, 1, 1, 0, 1, 0, 0, 1, 1, 1, 1, 0, 1, 1, 1, 1, 0, 1, 1, 1, 1, 0, 1, 0, 0, 1, 1, 1, 0, 0, 1, 1, 1, 1, 0, 1, 0, 1, 1, 1, 0, 1, 1, 0, 0, 1, 1, 1, 1, 1, 1, 1, 1, 1, 1, 1, 0, 1, 0, 1, 1, 1, 1, 1, 1, 1]}\n",
      "\n",
      "Evaluating Set ID: Set_7_Prop_0.3\n"
     ]
    },
    {
     "name": "stderr",
     "output_type": "stream",
     "text": [
      "Processing predictions: 100%|██████████| 100/100 [00:10<00:00,  9.11it/s]\n",
      "/tmp/ipykernel_6833/3130949446.py:86: FutureWarning: Series.__getitem__ treating keys as positions is deprecated. In a future version, integer keys will always be treated as labels (consistent with DataFrame behavior). To access a value by position, use `ser.iloc[pos]`\n",
      "  answer = row[-1]  # Store the ground truth label\n"
     ]
    },
    {
     "name": "stdout",
     "output_type": "stream",
     "text": [
      "Num of non-numeric or invalid: 0\n",
      "Intermediate results for Run 1: {'Num Features': 20, 'Sample Size': 32, 'Class 1 Proportion': 0.3, 'Set ID': 'Set_7_Prop_0.3', 'Run Number': 1, 'Accuracy': 0.28, 'Precision': 0.14457831325301204, 'Recall': 0.9230769230769231, 'F1 Score': 0.25, 'Prediction': [0, 1, 1, 0, 1, 1, 1, 1, 1, 1, 1, 1, 0, 1, 1, 1, 1, 1, 1, 1, 1, 0, 1, 1, 0, 1, 1, 0, 1, 1, 1, 1, 1, 1, 1, 1, 1, 0, 1, 1, 1, 1, 1, 0, 1, 1, 1, 1, 1, 1, 1, 1, 1, 1, 1, 1, 0, 0, 1, 1, 1, 1, 0, 1, 0, 1, 1, 0, 1, 1, 1, 0, 1, 1, 1, 1, 1, 1, 1, 0, 1, 1, 1, 1, 1, 1, 1, 1, 0, 1, 1, 1, 0, 1, 1, 1, 1, 1, 1, 1]}\n",
      "\n",
      "Evaluating Set ID: Set_8_Prop_0.3\n"
     ]
    },
    {
     "name": "stderr",
     "output_type": "stream",
     "text": [
      "Processing predictions: 100%|██████████| 100/100 [00:09<00:00, 10.35it/s]\n",
      "/tmp/ipykernel_6833/3130949446.py:86: FutureWarning: Series.__getitem__ treating keys as positions is deprecated. In a future version, integer keys will always be treated as labels (consistent with DataFrame behavior). To access a value by position, use `ser.iloc[pos]`\n",
      "  answer = row[-1]  # Store the ground truth label\n"
     ]
    },
    {
     "name": "stdout",
     "output_type": "stream",
     "text": [
      "Num of non-numeric or invalid: 0\n",
      "Intermediate results for Run 1: {'Num Features': 20, 'Sample Size': 32, 'Class 1 Proportion': 0.3, 'Set ID': 'Set_8_Prop_0.3', 'Run Number': 1, 'Accuracy': 0.13, 'Precision': 0.13, 'Recall': 1.0, 'F1 Score': 0.23008849557522124, 'Prediction': [1, 1, 1, 1, 1, 1, 1, 1, 1, 1, 1, 1, 1, 1, 1, 1, 1, 1, 1, 1, 1, 1, 1, 1, 1, 1, 1, 1, 1, 1, 1, 1, 1, 1, 1, 1, 1, 1, 1, 1, 1, 1, 1, 1, 1, 1, 1, 1, 1, 1, 1, 1, 1, 1, 1, 1, 1, 1, 1, 1, 1, 1, 1, 1, 1, 1, 1, 1, 1, 1, 1, 1, 1, 1, 1, 1, 1, 1, 1, 1, 1, 1, 1, 1, 1, 1, 1, 1, 1, 1, 1, 1, 1, 1, 1, 1, 1, 1, 1, 1]}\n",
      "\n",
      "Evaluating Set ID: Set_9_Prop_0.3\n"
     ]
    },
    {
     "name": "stderr",
     "output_type": "stream",
     "text": [
      "Processing predictions: 100%|██████████| 100/100 [00:25<00:00,  3.98it/s]\n",
      "/tmp/ipykernel_6833/3130949446.py:86: FutureWarning: Series.__getitem__ treating keys as positions is deprecated. In a future version, integer keys will always be treated as labels (consistent with DataFrame behavior). To access a value by position, use `ser.iloc[pos]`\n",
      "  answer = row[-1]  # Store the ground truth label\n"
     ]
    },
    {
     "name": "stdout",
     "output_type": "stream",
     "text": [
      "Num of non-numeric or invalid: 0\n",
      "Intermediate results for Run 1: {'Num Features': 20, 'Sample Size': 32, 'Class 1 Proportion': 0.3, 'Set ID': 'Set_9_Prop_0.3', 'Run Number': 1, 'Accuracy': 0.38, 'Precision': 0.14492753623188406, 'Recall': 0.7692307692307693, 'F1 Score': 0.24390243902439024, 'Prediction': [0, 1, 1, 1, 1, 0, 1, 1, 1, 1, 1, 1, 0, 0, 0, 1, 1, 1, 1, 1, 0, 0, 0, 1, 1, 1, 1, 0, 1, 0, 0, 0, 1, 1, 0, 1, 1, 1, 0, 1, 1, 1, 0, 1, 1, 0, 0, 0, 1, 1, 1, 1, 1, 1, 0, 0, 0, 1, 1, 1, 0, 0, 0, 1, 1, 1, 0, 1, 0, 1, 1, 1, 1, 0, 1, 0, 0, 1, 1, 1, 1, 1, 1, 1, 1, 1, 1, 1, 0, 0, 1, 1, 1, 1, 1, 1, 1, 1, 1, 1]}\n",
      "\n",
      "Evaluating Set ID: Set_10_Prop_0.3\n"
     ]
    },
    {
     "name": "stderr",
     "output_type": "stream",
     "text": [
      "Processing predictions: 100%|██████████| 100/100 [00:10<00:00,  9.91it/s]\n",
      "/tmp/ipykernel_6833/3130949446.py:86: FutureWarning: Series.__getitem__ treating keys as positions is deprecated. In a future version, integer keys will always be treated as labels (consistent with DataFrame behavior). To access a value by position, use `ser.iloc[pos]`\n",
      "  answer = row[-1]  # Store the ground truth label\n"
     ]
    },
    {
     "name": "stdout",
     "output_type": "stream",
     "text": [
      "Num of non-numeric or invalid: 0\n",
      "Intermediate results for Run 1: {'Num Features': 20, 'Sample Size': 32, 'Class 1 Proportion': 0.3, 'Set ID': 'Set_10_Prop_0.3', 'Run Number': 1, 'Accuracy': 0.47, 'Precision': 0.12962962962962962, 'Recall': 0.5384615384615384, 'F1 Score': 0.208955223880597, 'Prediction': [1, 1, 0, 1, 1, 1, 0, 1, 1, 0, 1, 0, 0, 0, 0, 0, 1, 1, 1, 0, 1, 0, 1, 0, 0, 0, 1, 1, 0, 1, 0, 1, 0, 1, 1, 1, 0, 1, 0, 0, 0, 0, 1, 1, 1, 1, 0, 1, 0, 0, 1, 1, 1, 1, 0, 1, 0, 1, 0, 0, 0, 1, 0, 0, 0, 1, 0, 1, 0, 0, 1, 1, 0, 1, 1, 0, 1, 0, 0, 0, 1, 1, 1, 1, 1, 0, 1, 1, 1, 1, 0, 1, 0, 1, 0, 0, 1, 1, 1, 0]}\n",
      "\n",
      "Evaluating Set ID: Set_11_Prop_0.3\n"
     ]
    },
    {
     "name": "stderr",
     "output_type": "stream",
     "text": [
      "Processing predictions: 100%|██████████| 100/100 [00:09<00:00, 10.51it/s]\n",
      "/tmp/ipykernel_6833/3130949446.py:86: FutureWarning: Series.__getitem__ treating keys as positions is deprecated. In a future version, integer keys will always be treated as labels (consistent with DataFrame behavior). To access a value by position, use `ser.iloc[pos]`\n",
      "  answer = row[-1]  # Store the ground truth label\n"
     ]
    },
    {
     "name": "stdout",
     "output_type": "stream",
     "text": [
      "Num of non-numeric or invalid: 0\n",
      "Intermediate results for Run 1: {'Num Features': 20, 'Sample Size': 32, 'Class 1 Proportion': 0.3, 'Set ID': 'Set_11_Prop_0.3', 'Run Number': 1, 'Accuracy': 0.16, 'Precision': 0.13402061855670103, 'Recall': 1.0, 'F1 Score': 0.23636363636363636, 'Prediction': [0, 1, 1, 1, 1, 1, 1, 1, 1, 1, 1, 1, 1, 0, 1, 1, 1, 1, 1, 1, 1, 1, 1, 1, 1, 1, 1, 1, 1, 1, 1, 1, 1, 1, 1, 1, 1, 1, 1, 1, 1, 1, 1, 1, 1, 1, 1, 1, 1, 1, 1, 1, 1, 1, 1, 1, 1, 1, 1, 1, 1, 1, 1, 1, 1, 1, 1, 1, 1, 1, 1, 1, 1, 1, 1, 1, 1, 0, 1, 1, 1, 1, 1, 1, 1, 1, 1, 1, 1, 1, 1, 1, 1, 1, 1, 1, 1, 1, 1, 1]}\n",
      "\n",
      "Evaluating Set ID: Set_12_Prop_0.3\n"
     ]
    },
    {
     "name": "stderr",
     "output_type": "stream",
     "text": [
      "Processing predictions: 100%|██████████| 100/100 [00:09<00:00, 10.12it/s]\n",
      "/tmp/ipykernel_6833/3130949446.py:86: FutureWarning: Series.__getitem__ treating keys as positions is deprecated. In a future version, integer keys will always be treated as labels (consistent with DataFrame behavior). To access a value by position, use `ser.iloc[pos]`\n",
      "  answer = row[-1]  # Store the ground truth label\n"
     ]
    },
    {
     "name": "stdout",
     "output_type": "stream",
     "text": [
      "Num of non-numeric or invalid: 0\n",
      "Intermediate results for Run 1: {'Num Features': 20, 'Sample Size': 32, 'Class 1 Proportion': 0.3, 'Set ID': 'Set_12_Prop_0.3', 'Run Number': 1, 'Accuracy': 0.43, 'Precision': 0.13333333333333333, 'Recall': 0.6153846153846154, 'F1 Score': 0.2191780821917808, 'Prediction': [1, 1, 1, 0, 0, 1, 1, 1, 1, 1, 1, 0, 0, 0, 1, 0, 1, 1, 1, 1, 0, 1, 0, 0, 0, 0, 1, 1, 1, 1, 0, 0, 0, 1, 0, 0, 0, 1, 0, 1, 0, 0, 1, 0, 1, 1, 1, 0, 1, 1, 0, 1, 1, 1, 0, 1, 1, 0, 0, 0, 0, 0, 0, 0, 0, 1, 1, 0, 1, 1, 0, 1, 1, 1, 0, 1, 0, 1, 0, 1, 1, 1, 1, 1, 1, 1, 1, 1, 1, 1, 1, 0, 0, 1, 1, 1, 1, 1, 0, 1]}\n",
      "\n",
      "Evaluating Set ID: Set_13_Prop_0.3\n"
     ]
    },
    {
     "name": "stderr",
     "output_type": "stream",
     "text": [
      "Processing predictions: 100%|██████████| 100/100 [00:09<00:00, 10.13it/s]\n",
      "/tmp/ipykernel_6833/3130949446.py:86: FutureWarning: Series.__getitem__ treating keys as positions is deprecated. In a future version, integer keys will always be treated as labels (consistent with DataFrame behavior). To access a value by position, use `ser.iloc[pos]`\n",
      "  answer = row[-1]  # Store the ground truth label\n"
     ]
    },
    {
     "name": "stdout",
     "output_type": "stream",
     "text": [
      "Num of non-numeric or invalid: 0\n",
      "Intermediate results for Run 1: {'Num Features': 20, 'Sample Size': 32, 'Class 1 Proportion': 0.3, 'Set ID': 'Set_13_Prop_0.3', 'Run Number': 1, 'Accuracy': 0.13, 'Precision': 0.13, 'Recall': 1.0, 'F1 Score': 0.23008849557522124, 'Prediction': [1, 1, 1, 1, 1, 1, 1, 1, 1, 1, 1, 1, 1, 1, 1, 1, 1, 1, 1, 1, 1, 1, 1, 1, 1, 1, 1, 1, 1, 1, 1, 1, 1, 1, 1, 1, 1, 1, 1, 1, 1, 1, 1, 1, 1, 1, 1, 1, 1, 1, 1, 1, 1, 1, 1, 1, 1, 1, 1, 1, 1, 1, 1, 1, 1, 1, 1, 1, 1, 1, 1, 1, 1, 1, 1, 1, 1, 1, 1, 1, 1, 1, 1, 1, 1, 1, 1, 1, 1, 1, 1, 1, 1, 1, 1, 1, 1, 1, 1, 1]}\n",
      "\n",
      "Evaluating Set ID: Set_14_Prop_0.3\n"
     ]
    },
    {
     "name": "stderr",
     "output_type": "stream",
     "text": [
      "Processing predictions: 100%|██████████| 100/100 [00:09<00:00, 10.34it/s]\n",
      "/tmp/ipykernel_6833/3130949446.py:86: FutureWarning: Series.__getitem__ treating keys as positions is deprecated. In a future version, integer keys will always be treated as labels (consistent with DataFrame behavior). To access a value by position, use `ser.iloc[pos]`\n",
      "  answer = row[-1]  # Store the ground truth label\n"
     ]
    },
    {
     "name": "stdout",
     "output_type": "stream",
     "text": [
      "Num of non-numeric or invalid: 0\n",
      "Intermediate results for Run 1: {'Num Features': 20, 'Sample Size': 32, 'Class 1 Proportion': 0.3, 'Set ID': 'Set_14_Prop_0.3', 'Run Number': 1, 'Accuracy': 0.44, 'Precision': 0.14754098360655737, 'Recall': 0.6923076923076923, 'F1 Score': 0.24324324324324326, 'Prediction': [1, 0, 1, 1, 1, 1, 0, 1, 0, 1, 1, 1, 0, 1, 0, 0, 1, 0, 1, 0, 0, 0, 0, 1, 1, 0, 1, 1, 1, 0, 0, 1, 0, 1, 1, 0, 1, 1, 0, 0, 0, 1, 0, 0, 1, 1, 1, 0, 0, 0, 1, 1, 1, 1, 0, 1, 0, 0, 1, 0, 1, 0, 0, 1, 1, 1, 0, 0, 0, 1, 1, 1, 1, 1, 1, 0, 0, 1, 1, 0, 1, 1, 0, 1, 1, 1, 1, 1, 0, 1, 1, 1, 1, 0, 1, 1, 1, 1, 1, 1]}\n",
      "\n",
      "Evaluating Set ID: Set_15_Prop_0.3\n"
     ]
    },
    {
     "name": "stderr",
     "output_type": "stream",
     "text": [
      "Processing predictions: 100%|██████████| 100/100 [00:09<00:00, 10.15it/s]\n",
      "/tmp/ipykernel_6833/3130949446.py:86: FutureWarning: Series.__getitem__ treating keys as positions is deprecated. In a future version, integer keys will always be treated as labels (consistent with DataFrame behavior). To access a value by position, use `ser.iloc[pos]`\n",
      "  answer = row[-1]  # Store the ground truth label\n"
     ]
    },
    {
     "name": "stdout",
     "output_type": "stream",
     "text": [
      "Num of non-numeric or invalid: 0\n",
      "Intermediate results for Run 1: {'Num Features': 20, 'Sample Size': 32, 'Class 1 Proportion': 0.3, 'Set ID': 'Set_15_Prop_0.3', 'Run Number': 1, 'Accuracy': 0.21, 'Precision': 0.125, 'Recall': 0.8461538461538461, 'F1 Score': 0.21782178217821782, 'Prediction': [1, 1, 1, 1, 1, 0, 1, 1, 1, 1, 1, 1, 1, 1, 0, 1, 1, 1, 0, 1, 1, 1, 1, 0, 1, 1, 1, 1, 1, 1, 1, 1, 1, 1, 1, 1, 1, 1, 1, 1, 1, 1, 0, 1, 1, 1, 0, 1, 0, 1, 1, 1, 1, 1, 1, 1, 1, 0, 1, 1, 1, 1, 1, 0, 1, 1, 1, 1, 1, 1, 0, 1, 1, 1, 0, 1, 1, 1, 1, 1, 1, 1, 1, 1, 1, 1, 1, 1, 1, 0, 1, 1, 1, 1, 1, 1, 1, 1, 1, 1]}\n",
      "\n",
      "Testing with class 1 proportion: 0.5\n",
      "\n",
      "Evaluating Set ID: Set_1_Prop_0.5\n"
     ]
    },
    {
     "name": "stderr",
     "output_type": "stream",
     "text": [
      "Processing predictions: 100%|██████████| 100/100 [00:09<00:00, 10.46it/s]\n",
      "/tmp/ipykernel_6833/3130949446.py:86: FutureWarning: Series.__getitem__ treating keys as positions is deprecated. In a future version, integer keys will always be treated as labels (consistent with DataFrame behavior). To access a value by position, use `ser.iloc[pos]`\n",
      "  answer = row[-1]  # Store the ground truth label\n"
     ]
    },
    {
     "name": "stdout",
     "output_type": "stream",
     "text": [
      "Num of non-numeric or invalid: 0\n",
      "Intermediate results for Run 1: {'Num Features': 20, 'Sample Size': 32, 'Class 1 Proportion': 0.5, 'Set ID': 'Set_1_Prop_0.5', 'Run Number': 1, 'Accuracy': 0.18, 'Precision': 0.1368421052631579, 'Recall': 1.0, 'F1 Score': 0.24074074074074073, 'Prediction': [1, 1, 1, 0, 1, 1, 1, 1, 1, 1, 1, 1, 1, 1, 1, 1, 0, 1, 1, 1, 1, 0, 1, 1, 1, 1, 1, 1, 1, 1, 1, 1, 1, 1, 1, 1, 1, 1, 1, 1, 1, 1, 1, 1, 0, 1, 1, 1, 1, 1, 1, 1, 1, 1, 1, 1, 1, 1, 1, 1, 1, 1, 1, 1, 1, 1, 1, 1, 1, 1, 1, 1, 1, 1, 1, 1, 1, 1, 1, 1, 1, 1, 1, 1, 1, 1, 1, 0, 1, 1, 1, 1, 1, 1, 1, 1, 1, 1, 1, 1]}\n",
      "\n",
      "Evaluating Set ID: Set_2_Prop_0.5\n"
     ]
    },
    {
     "name": "stderr",
     "output_type": "stream",
     "text": [
      "Processing predictions: 100%|██████████| 100/100 [00:09<00:00, 10.90it/s]\n",
      "/tmp/ipykernel_6833/3130949446.py:86: FutureWarning: Series.__getitem__ treating keys as positions is deprecated. In a future version, integer keys will always be treated as labels (consistent with DataFrame behavior). To access a value by position, use `ser.iloc[pos]`\n",
      "  answer = row[-1]  # Store the ground truth label\n"
     ]
    },
    {
     "name": "stdout",
     "output_type": "stream",
     "text": [
      "Num of non-numeric or invalid: 0\n",
      "Intermediate results for Run 1: {'Num Features': 20, 'Sample Size': 32, 'Class 1 Proportion': 0.5, 'Set ID': 'Set_2_Prop_0.5', 'Run Number': 1, 'Accuracy': 0.16, 'Precision': 0.13402061855670103, 'Recall': 1.0, 'F1 Score': 0.23636363636363636, 'Prediction': [1, 1, 1, 1, 1, 1, 1, 1, 1, 1, 1, 1, 1, 1, 1, 1, 1, 1, 1, 1, 1, 1, 1, 1, 1, 1, 1, 1, 1, 1, 1, 1, 0, 1, 1, 1, 1, 0, 1, 1, 1, 1, 1, 1, 1, 1, 1, 1, 1, 1, 1, 1, 1, 1, 1, 1, 1, 0, 1, 1, 1, 1, 1, 1, 1, 1, 1, 1, 1, 1, 1, 1, 1, 1, 1, 1, 1, 1, 1, 1, 1, 1, 1, 1, 1, 1, 1, 1, 1, 1, 1, 1, 1, 1, 1, 1, 1, 1, 1, 1]}\n",
      "\n",
      "Evaluating Set ID: Set_3_Prop_0.5\n"
     ]
    },
    {
     "name": "stderr",
     "output_type": "stream",
     "text": [
      "Processing predictions: 100%|██████████| 100/100 [00:13<00:00,  7.60it/s]\n",
      "/tmp/ipykernel_6833/3130949446.py:86: FutureWarning: Series.__getitem__ treating keys as positions is deprecated. In a future version, integer keys will always be treated as labels (consistent with DataFrame behavior). To access a value by position, use `ser.iloc[pos]`\n",
      "  answer = row[-1]  # Store the ground truth label\n"
     ]
    },
    {
     "name": "stdout",
     "output_type": "stream",
     "text": [
      "Num of non-numeric or invalid: 0\n",
      "Intermediate results for Run 1: {'Num Features': 20, 'Sample Size': 32, 'Class 1 Proportion': 0.5, 'Set ID': 'Set_3_Prop_0.5', 'Run Number': 1, 'Accuracy': 0.13, 'Precision': 0.13, 'Recall': 1.0, 'F1 Score': 0.23008849557522124, 'Prediction': [1, 1, 1, 1, 1, 1, 1, 1, 1, 1, 1, 1, 1, 1, 1, 1, 1, 1, 1, 1, 1, 1, 1, 1, 1, 1, 1, 1, 1, 1, 1, 1, 1, 1, 1, 1, 1, 1, 1, 1, 1, 1, 1, 1, 1, 1, 1, 1, 1, 1, 1, 1, 1, 1, 1, 1, 1, 1, 1, 1, 1, 1, 1, 1, 1, 1, 1, 1, 1, 1, 1, 1, 1, 1, 1, 1, 1, 1, 1, 1, 1, 1, 1, 1, 1, 1, 1, 1, 1, 1, 1, 1, 1, 1, 1, 1, 1, 1, 1, 1]}\n",
      "\n",
      "Evaluating Set ID: Set_4_Prop_0.5\n"
     ]
    },
    {
     "name": "stderr",
     "output_type": "stream",
     "text": [
      "Processing predictions: 100%|██████████| 100/100 [00:13<00:00,  7.53it/s]\n",
      "/tmp/ipykernel_6833/3130949446.py:86: FutureWarning: Series.__getitem__ treating keys as positions is deprecated. In a future version, integer keys will always be treated as labels (consistent with DataFrame behavior). To access a value by position, use `ser.iloc[pos]`\n",
      "  answer = row[-1]  # Store the ground truth label\n"
     ]
    },
    {
     "name": "stdout",
     "output_type": "stream",
     "text": [
      "Num of non-numeric or invalid: 0\n",
      "Intermediate results for Run 1: {'Num Features': 20, 'Sample Size': 32, 'Class 1 Proportion': 0.5, 'Set ID': 'Set_4_Prop_0.5', 'Run Number': 1, 'Accuracy': 0.15, 'Precision': 0.11702127659574468, 'Recall': 0.8461538461538461, 'F1 Score': 0.205607476635514, 'Prediction': [1, 1, 1, 1, 1, 1, 1, 1, 0, 1, 0, 1, 1, 1, 1, 1, 1, 1, 1, 1, 1, 1, 1, 1, 1, 1, 1, 1, 1, 1, 1, 1, 1, 1, 1, 1, 1, 1, 1, 1, 1, 1, 1, 1, 1, 1, 1, 1, 1, 1, 1, 1, 1, 1, 1, 1, 1, 1, 1, 1, 1, 1, 1, 1, 1, 1, 1, 1, 1, 1, 1, 0, 1, 1, 1, 1, 1, 1, 1, 1, 1, 1, 1, 1, 1, 1, 0, 1, 1, 1, 1, 1, 1, 0, 1, 1, 1, 1, 0, 1]}\n",
      "\n",
      "Evaluating Set ID: Set_5_Prop_0.5\n"
     ]
    },
    {
     "name": "stderr",
     "output_type": "stream",
     "text": [
      "Processing predictions: 100%|██████████| 100/100 [00:09<00:00, 10.40it/s]\n",
      "/tmp/ipykernel_6833/3130949446.py:86: FutureWarning: Series.__getitem__ treating keys as positions is deprecated. In a future version, integer keys will always be treated as labels (consistent with DataFrame behavior). To access a value by position, use `ser.iloc[pos]`\n",
      "  answer = row[-1]  # Store the ground truth label\n"
     ]
    },
    {
     "name": "stdout",
     "output_type": "stream",
     "text": [
      "Num of non-numeric or invalid: 0\n",
      "Intermediate results for Run 1: {'Num Features': 20, 'Sample Size': 32, 'Class 1 Proportion': 0.5, 'Set ID': 'Set_5_Prop_0.5', 'Run Number': 1, 'Accuracy': 0.26, 'Precision': 0.12345679012345678, 'Recall': 0.7692307692307693, 'F1 Score': 0.2127659574468085, 'Prediction': [1, 0, 1, 1, 1, 1, 1, 1, 1, 0, 0, 1, 1, 1, 1, 1, 1, 1, 1, 1, 1, 0, 1, 1, 1, 1, 1, 1, 1, 1, 1, 1, 1, 0, 1, 0, 1, 1, 1, 1, 1, 1, 1, 0, 1, 1, 0, 1, 0, 1, 1, 1, 1, 1, 1, 1, 1, 0, 1, 1, 1, 0, 0, 0, 1, 1, 0, 1, 1, 1, 1, 0, 1, 1, 1, 1, 1, 1, 0, 1, 1, 1, 1, 1, 1, 0, 1, 1, 1, 1, 1, 1, 1, 1, 1, 0, 1, 1, 1, 0]}\n",
      "\n",
      "Evaluating Set ID: Set_6_Prop_0.5\n"
     ]
    },
    {
     "name": "stderr",
     "output_type": "stream",
     "text": [
      "Processing predictions: 100%|██████████| 100/100 [00:10<00:00,  9.76it/s]\n",
      "/tmp/ipykernel_6833/3130949446.py:86: FutureWarning: Series.__getitem__ treating keys as positions is deprecated. In a future version, integer keys will always be treated as labels (consistent with DataFrame behavior). To access a value by position, use `ser.iloc[pos]`\n",
      "  answer = row[-1]  # Store the ground truth label\n"
     ]
    },
    {
     "name": "stdout",
     "output_type": "stream",
     "text": [
      "Num of non-numeric or invalid: 0\n",
      "Intermediate results for Run 1: {'Num Features': 20, 'Sample Size': 32, 'Class 1 Proportion': 0.5, 'Set ID': 'Set_6_Prop_0.5', 'Run Number': 1, 'Accuracy': 0.29, 'Precision': 0.1375, 'Recall': 0.8461538461538461, 'F1 Score': 0.23655913978494625, 'Prediction': [1, 1, 1, 1, 1, 1, 1, 1, 1, 1, 1, 1, 1, 1, 1, 1, 1, 1, 1, 1, 1, 0, 0, 0, 1, 1, 1, 1, 1, 1, 1, 1, 1, 0, 1, 1, 1, 1, 1, 0, 1, 0, 1, 0, 1, 1, 1, 1, 1, 1, 0, 0, 0, 1, 1, 0, 1, 0, 1, 1, 0, 1, 1, 1, 0, 1, 1, 0, 1, 1, 1, 1, 1, 0, 1, 1, 1, 0, 1, 1, 1, 1, 1, 1, 1, 1, 1, 1, 1, 1, 0, 0, 1, 0, 1, 1, 1, 1, 1, 1]}\n",
      "\n",
      "Evaluating Set ID: Set_7_Prop_0.5\n"
     ]
    },
    {
     "name": "stderr",
     "output_type": "stream",
     "text": [
      "Processing predictions: 100%|██████████| 100/100 [00:09<00:00, 10.27it/s]\n",
      "/tmp/ipykernel_6833/3130949446.py:86: FutureWarning: Series.__getitem__ treating keys as positions is deprecated. In a future version, integer keys will always be treated as labels (consistent with DataFrame behavior). To access a value by position, use `ser.iloc[pos]`\n",
      "  answer = row[-1]  # Store the ground truth label\n"
     ]
    },
    {
     "name": "stdout",
     "output_type": "stream",
     "text": [
      "Num of non-numeric or invalid: 0\n",
      "Intermediate results for Run 1: {'Num Features': 20, 'Sample Size': 32, 'Class 1 Proportion': 0.5, 'Set ID': 'Set_7_Prop_0.5', 'Run Number': 1, 'Accuracy': 0.15, 'Precision': 0.125, 'Recall': 0.9230769230769231, 'F1 Score': 0.22018348623853212, 'Prediction': [1, 1, 1, 1, 1, 1, 1, 1, 1, 1, 1, 1, 1, 1, 1, 0, 1, 1, 1, 1, 1, 1, 1, 1, 1, 1, 1, 1, 1, 1, 1, 1, 1, 1, 1, 1, 1, 1, 1, 1, 0, 1, 1, 1, 1, 1, 1, 0, 1, 0, 1, 1, 1, 1, 1, 1, 1, 1, 1, 1, 1, 1, 1, 1, 1, 1, 1, 1, 1, 1, 1, 1, 1, 1, 1, 1, 1, 1, 1, 1, 1, 1, 1, 1, 1, 1, 1, 1, 1, 1, 1, 1, 1, 1, 1, 1, 1, 1, 1, 1]}\n",
      "\n",
      "Evaluating Set ID: Set_8_Prop_0.5\n"
     ]
    },
    {
     "name": "stderr",
     "output_type": "stream",
     "text": [
      "Processing predictions: 100%|██████████| 100/100 [00:10<00:00,  9.68it/s]\n",
      "/tmp/ipykernel_6833/3130949446.py:86: FutureWarning: Series.__getitem__ treating keys as positions is deprecated. In a future version, integer keys will always be treated as labels (consistent with DataFrame behavior). To access a value by position, use `ser.iloc[pos]`\n",
      "  answer = row[-1]  # Store the ground truth label\n"
     ]
    },
    {
     "name": "stdout",
     "output_type": "stream",
     "text": [
      "Num of non-numeric or invalid: 0\n",
      "Intermediate results for Run 1: {'Num Features': 20, 'Sample Size': 32, 'Class 1 Proportion': 0.5, 'Set ID': 'Set_8_Prop_0.5', 'Run Number': 1, 'Accuracy': 0.19, 'Precision': 0.11363636363636363, 'Recall': 0.7692307692307693, 'F1 Score': 0.19801980198019803, 'Prediction': [1, 1, 1, 1, 1, 1, 1, 1, 1, 1, 1, 1, 1, 1, 0, 1, 1, 1, 1, 1, 1, 1, 1, 1, 1, 1, 1, 1, 1, 1, 1, 1, 1, 1, 1, 1, 1, 1, 0, 1, 1, 1, 1, 1, 0, 1, 1, 0, 1, 1, 0, 1, 1, 1, 1, 1, 1, 1, 1, 1, 1, 1, 1, 1, 0, 1, 0, 1, 1, 1, 1, 1, 0, 1, 1, 1, 1, 1, 1, 1, 0, 1, 1, 1, 1, 1, 0, 1, 1, 1, 1, 1, 0, 1, 1, 1, 1, 1, 0, 1]}\n",
      "\n",
      "Evaluating Set ID: Set_9_Prop_0.5\n"
     ]
    },
    {
     "name": "stderr",
     "output_type": "stream",
     "text": [
      "Processing predictions: 100%|██████████| 100/100 [00:14<00:00,  7.11it/s]\n",
      "/tmp/ipykernel_6833/3130949446.py:86: FutureWarning: Series.__getitem__ treating keys as positions is deprecated. In a future version, integer keys will always be treated as labels (consistent with DataFrame behavior). To access a value by position, use `ser.iloc[pos]`\n",
      "  answer = row[-1]  # Store the ground truth label\n"
     ]
    },
    {
     "name": "stdout",
     "output_type": "stream",
     "text": [
      "Num of non-numeric or invalid: 0\n",
      "Intermediate results for Run 1: {'Num Features': 20, 'Sample Size': 32, 'Class 1 Proportion': 0.5, 'Set ID': 'Set_9_Prop_0.5', 'Run Number': 1, 'Accuracy': 0.13, 'Precision': 0.13, 'Recall': 1.0, 'F1 Score': 0.23008849557522124, 'Prediction': [1, 1, 1, 1, 1, 1, 1, 1, 1, 1, 1, 1, 1, 1, 1, 1, 1, 1, 1, 1, 1, 1, 1, 1, 1, 1, 1, 1, 1, 1, 1, 1, 1, 1, 1, 1, 1, 1, 1, 1, 1, 1, 1, 1, 1, 1, 1, 1, 1, 1, 1, 1, 1, 1, 1, 1, 1, 1, 1, 1, 1, 1, 1, 1, 1, 1, 1, 1, 1, 1, 1, 1, 1, 1, 1, 1, 1, 1, 1, 1, 1, 1, 1, 1, 1, 1, 1, 1, 1, 1, 1, 1, 1, 1, 1, 1, 1, 1, 1, 1]}\n",
      "\n",
      "Evaluating Set ID: Set_10_Prop_0.5\n"
     ]
    },
    {
     "name": "stderr",
     "output_type": "stream",
     "text": [
      "Processing predictions: 100%|██████████| 100/100 [00:20<00:00,  4.89it/s]\n",
      "/tmp/ipykernel_6833/3130949446.py:86: FutureWarning: Series.__getitem__ treating keys as positions is deprecated. In a future version, integer keys will always be treated as labels (consistent with DataFrame behavior). To access a value by position, use `ser.iloc[pos]`\n",
      "  answer = row[-1]  # Store the ground truth label\n"
     ]
    },
    {
     "name": "stdout",
     "output_type": "stream",
     "text": [
      "Num of non-numeric or invalid: 0\n",
      "Intermediate results for Run 1: {'Num Features': 20, 'Sample Size': 32, 'Class 1 Proportion': 0.5, 'Set ID': 'Set_10_Prop_0.5', 'Run Number': 1, 'Accuracy': 0.13, 'Precision': 0.13, 'Recall': 1.0, 'F1 Score': 0.23008849557522124, 'Prediction': [1, 1, 1, 1, 1, 1, 1, 1, 1, 1, 1, 1, 1, 1, 1, 1, 1, 1, 1, 1, 1, 1, 1, 1, 1, 1, 1, 1, 1, 1, 1, 1, 1, 1, 1, 1, 1, 1, 1, 1, 1, 1, 1, 1, 1, 1, 1, 1, 1, 1, 1, 1, 1, 1, 1, 1, 1, 1, 1, 1, 1, 1, 1, 1, 1, 1, 1, 1, 1, 1, 1, 1, 1, 1, 1, 1, 1, 1, 1, 1, 1, 1, 1, 1, 1, 1, 1, 1, 1, 1, 1, 1, 1, 1, 1, 1, 1, 1, 1, 1]}\n",
      "\n",
      "Evaluating Set ID: Set_11_Prop_0.5\n"
     ]
    },
    {
     "name": "stderr",
     "output_type": "stream",
     "text": [
      "Processing predictions: 100%|██████████| 100/100 [00:09<00:00, 10.22it/s]\n",
      "/tmp/ipykernel_6833/3130949446.py:86: FutureWarning: Series.__getitem__ treating keys as positions is deprecated. In a future version, integer keys will always be treated as labels (consistent with DataFrame behavior). To access a value by position, use `ser.iloc[pos]`\n",
      "  answer = row[-1]  # Store the ground truth label\n"
     ]
    },
    {
     "name": "stdout",
     "output_type": "stream",
     "text": [
      "Num of non-numeric or invalid: 0\n",
      "Intermediate results for Run 1: {'Num Features': 20, 'Sample Size': 32, 'Class 1 Proportion': 0.5, 'Set ID': 'Set_11_Prop_0.5', 'Run Number': 1, 'Accuracy': 0.14, 'Precision': 0.13131313131313133, 'Recall': 1.0, 'F1 Score': 0.23214285714285715, 'Prediction': [1, 1, 1, 1, 1, 1, 1, 1, 1, 1, 1, 1, 1, 1, 1, 1, 1, 1, 1, 1, 1, 1, 1, 1, 1, 1, 1, 1, 1, 1, 1, 1, 1, 1, 1, 1, 1, 1, 1, 1, 1, 1, 1, 1, 1, 1, 1, 1, 1, 1, 1, 1, 1, 1, 1, 1, 1, 1, 1, 1, 1, 1, 1, 1, 0, 1, 1, 1, 1, 1, 1, 1, 1, 1, 1, 1, 1, 1, 1, 1, 1, 1, 1, 1, 1, 1, 1, 1, 1, 1, 1, 1, 1, 1, 1, 1, 1, 1, 1, 1]}\n",
      "\n",
      "Evaluating Set ID: Set_12_Prop_0.5\n"
     ]
    },
    {
     "name": "stderr",
     "output_type": "stream",
     "text": [
      "Processing predictions: 100%|██████████| 100/100 [00:10<00:00,  9.55it/s]\n",
      "/tmp/ipykernel_6833/3130949446.py:86: FutureWarning: Series.__getitem__ treating keys as positions is deprecated. In a future version, integer keys will always be treated as labels (consistent with DataFrame behavior). To access a value by position, use `ser.iloc[pos]`\n",
      "  answer = row[-1]  # Store the ground truth label\n"
     ]
    },
    {
     "name": "stdout",
     "output_type": "stream",
     "text": [
      "Num of non-numeric or invalid: 0\n",
      "Intermediate results for Run 1: {'Num Features': 20, 'Sample Size': 32, 'Class 1 Proportion': 0.5, 'Set ID': 'Set_12_Prop_0.5', 'Run Number': 1, 'Accuracy': 0.15, 'Precision': 0.1326530612244898, 'Recall': 1.0, 'F1 Score': 0.23423423423423423, 'Prediction': [1, 1, 1, 1, 1, 1, 1, 1, 1, 1, 1, 1, 1, 1, 1, 1, 0, 1, 1, 1, 1, 1, 1, 1, 1, 1, 1, 1, 1, 1, 1, 1, 1, 1, 0, 1, 1, 1, 1, 1, 1, 1, 1, 1, 1, 1, 1, 1, 1, 1, 1, 1, 1, 1, 1, 1, 1, 1, 1, 1, 1, 1, 1, 1, 1, 1, 1, 1, 1, 1, 1, 1, 1, 1, 1, 1, 1, 1, 1, 1, 1, 1, 1, 1, 1, 1, 1, 1, 1, 1, 1, 1, 1, 1, 1, 1, 1, 1, 1, 1]}\n",
      "\n",
      "Evaluating Set ID: Set_13_Prop_0.5\n"
     ]
    },
    {
     "name": "stderr",
     "output_type": "stream",
     "text": [
      "Processing predictions: 100%|██████████| 100/100 [00:10<00:00,  9.75it/s]\n",
      "/tmp/ipykernel_6833/3130949446.py:86: FutureWarning: Series.__getitem__ treating keys as positions is deprecated. In a future version, integer keys will always be treated as labels (consistent with DataFrame behavior). To access a value by position, use `ser.iloc[pos]`\n",
      "  answer = row[-1]  # Store the ground truth label\n"
     ]
    },
    {
     "name": "stdout",
     "output_type": "stream",
     "text": [
      "Num of non-numeric or invalid: 0\n",
      "Intermediate results for Run 1: {'Num Features': 20, 'Sample Size': 32, 'Class 1 Proportion': 0.5, 'Set ID': 'Set_13_Prop_0.5', 'Run Number': 1, 'Accuracy': 0.13, 'Precision': 0.13, 'Recall': 1.0, 'F1 Score': 0.23008849557522124, 'Prediction': [1, 1, 1, 1, 1, 1, 1, 1, 1, 1, 1, 1, 1, 1, 1, 1, 1, 1, 1, 1, 1, 1, 1, 1, 1, 1, 1, 1, 1, 1, 1, 1, 1, 1, 1, 1, 1, 1, 1, 1, 1, 1, 1, 1, 1, 1, 1, 1, 1, 1, 1, 1, 1, 1, 1, 1, 1, 1, 1, 1, 1, 1, 1, 1, 1, 1, 1, 1, 1, 1, 1, 1, 1, 1, 1, 1, 1, 1, 1, 1, 1, 1, 1, 1, 1, 1, 1, 1, 1, 1, 1, 1, 1, 1, 1, 1, 1, 1, 1, 1]}\n",
      "\n",
      "Evaluating Set ID: Set_14_Prop_0.5\n"
     ]
    },
    {
     "name": "stderr",
     "output_type": "stream",
     "text": [
      "Processing predictions: 100%|██████████| 100/100 [00:09<00:00, 10.25it/s]\n",
      "/tmp/ipykernel_6833/3130949446.py:86: FutureWarning: Series.__getitem__ treating keys as positions is deprecated. In a future version, integer keys will always be treated as labels (consistent with DataFrame behavior). To access a value by position, use `ser.iloc[pos]`\n",
      "  answer = row[-1]  # Store the ground truth label\n"
     ]
    },
    {
     "name": "stdout",
     "output_type": "stream",
     "text": [
      "Num of non-numeric or invalid: 0\n",
      "Intermediate results for Run 1: {'Num Features': 20, 'Sample Size': 32, 'Class 1 Proportion': 0.5, 'Set ID': 'Set_14_Prop_0.5', 'Run Number': 1, 'Accuracy': 0.13, 'Precision': 0.13, 'Recall': 1.0, 'F1 Score': 0.23008849557522124, 'Prediction': [1, 1, 1, 1, 1, 1, 1, 1, 1, 1, 1, 1, 1, 1, 1, 1, 1, 1, 1, 1, 1, 1, 1, 1, 1, 1, 1, 1, 1, 1, 1, 1, 1, 1, 1, 1, 1, 1, 1, 1, 1, 1, 1, 1, 1, 1, 1, 1, 1, 1, 1, 1, 1, 1, 1, 1, 1, 1, 1, 1, 1, 1, 1, 1, 1, 1, 1, 1, 1, 1, 1, 1, 1, 1, 1, 1, 1, 1, 1, 1, 1, 1, 1, 1, 1, 1, 1, 1, 1, 1, 1, 1, 1, 1, 1, 1, 1, 1, 1, 1]}\n",
      "\n",
      "Evaluating Set ID: Set_15_Prop_0.5\n"
     ]
    },
    {
     "name": "stderr",
     "output_type": "stream",
     "text": [
      "Processing predictions: 100%|██████████| 100/100 [00:10<00:00,  9.88it/s]\n",
      "/tmp/ipykernel_6833/3130949446.py:86: FutureWarning: Series.__getitem__ treating keys as positions is deprecated. In a future version, integer keys will always be treated as labels (consistent with DataFrame behavior). To access a value by position, use `ser.iloc[pos]`\n",
      "  answer = row[-1]  # Store the ground truth label\n"
     ]
    },
    {
     "name": "stdout",
     "output_type": "stream",
     "text": [
      "Num of non-numeric or invalid: 0\n",
      "Intermediate results for Run 1: {'Num Features': 20, 'Sample Size': 32, 'Class 1 Proportion': 0.5, 'Set ID': 'Set_15_Prop_0.5', 'Run Number': 1, 'Accuracy': 0.42, 'Precision': 0.15384615384615385, 'Recall': 0.7692307692307693, 'F1 Score': 0.2564102564102564, 'Prediction': [1, 1, 1, 0, 1, 1, 1, 1, 0, 1, 0, 1, 1, 0, 0, 0, 1, 1, 1, 1, 0, 0, 0, 1, 0, 0, 1, 1, 1, 1, 0, 1, 0, 1, 1, 0, 1, 1, 0, 1, 1, 1, 0, 0, 1, 1, 1, 1, 0, 1, 0, 1, 1, 1, 1, 0, 1, 0, 0, 0, 0, 0, 0, 0, 1, 1, 1, 0, 1, 0, 1, 0, 1, 1, 0, 1, 0, 0, 1, 1, 1, 1, 1, 1, 1, 1, 1, 1, 1, 1, 0, 0, 1, 1, 1, 1, 1, 1, 1, 1]}\n",
      "\n",
      "Starting experiments for top 30 features...\n",
      "\n",
      "Testing with class 1 proportion: 0.1\n",
      "\n",
      "Evaluating Set ID: Set_1_Prop_0.1\n"
     ]
    },
    {
     "name": "stderr",
     "output_type": "stream",
     "text": [
      "Processing predictions: 100%|██████████| 100/100 [00:23<00:00,  4.17it/s]\n",
      "/tmp/ipykernel_6833/3130949446.py:86: FutureWarning: Series.__getitem__ treating keys as positions is deprecated. In a future version, integer keys will always be treated as labels (consistent with DataFrame behavior). To access a value by position, use `ser.iloc[pos]`\n",
      "  answer = row[-1]  # Store the ground truth label\n"
     ]
    },
    {
     "name": "stdout",
     "output_type": "stream",
     "text": [
      "Num of non-numeric or invalid: 0\n",
      "Intermediate results for Run 1: {'Num Features': 30, 'Sample Size': 32, 'Class 1 Proportion': 0.1, 'Set ID': 'Set_1_Prop_0.1', 'Run Number': 1, 'Accuracy': 0.59, 'Precision': 0.20833333333333334, 'Recall': 0.7692307692307693, 'F1 Score': 0.32786885245901637, 'Prediction': [1, 1, 0, 0, 1, 1, 0, 0, 0, 1, 1, 1, 0, 1, 0, 0, 1, 1, 1, 1, 0, 0, 0, 0, 0, 0, 1, 0, 1, 0, 0, 0, 0, 1, 1, 0, 1, 0, 0, 0, 0, 0, 0, 1, 0, 0, 1, 0, 1, 0, 0, 1, 1, 1, 1, 0, 0, 0, 0, 0, 0, 0, 0, 0, 0, 1, 1, 1, 0, 0, 1, 1, 0, 1, 0, 1, 1, 0, 1, 1, 1, 1, 0, 1, 1, 1, 0, 1, 0, 0, 1, 1, 1, 1, 0, 1, 1, 0, 1, 1]}\n",
      "\n",
      "Evaluating Set ID: Set_2_Prop_0.1\n"
     ]
    },
    {
     "name": "stderr",
     "output_type": "stream",
     "text": [
      "Processing predictions: 100%|██████████| 100/100 [00:15<00:00,  6.64it/s]\n",
      "/tmp/ipykernel_6833/3130949446.py:86: FutureWarning: Series.__getitem__ treating keys as positions is deprecated. In a future version, integer keys will always be treated as labels (consistent with DataFrame behavior). To access a value by position, use `ser.iloc[pos]`\n",
      "  answer = row[-1]  # Store the ground truth label\n"
     ]
    },
    {
     "name": "stdout",
     "output_type": "stream",
     "text": [
      "Num of non-numeric or invalid: 0\n",
      "Intermediate results for Run 1: {'Num Features': 30, 'Sample Size': 32, 'Class 1 Proportion': 0.1, 'Set ID': 'Set_2_Prop_0.1', 'Run Number': 1, 'Accuracy': 0.64, 'Precision': 0.1891891891891892, 'Recall': 0.5384615384615384, 'F1 Score': 0.28, 'Prediction': [1, 1, 0, 0, 1, 0, 0, 1, 1, 1, 0, 1, 0, 1, 0, 0, 1, 1, 1, 0, 0, 0, 0, 0, 0, 0, 0, 0, 1, 1, 0, 0, 0, 1, 0, 0, 1, 0, 0, 0, 0, 0, 0, 1, 0, 0, 0, 0, 0, 0, 1, 0, 0, 0, 0, 1, 0, 0, 0, 0, 0, 0, 0, 0, 0, 1, 0, 0, 1, 0, 0, 1, 1, 0, 0, 1, 0, 0, 0, 0, 1, 0, 0, 1, 1, 1, 1, 0, 1, 1, 0, 1, 1, 0, 1, 1, 0, 1, 1, 1]}\n",
      "\n",
      "Evaluating Set ID: Set_3_Prop_0.1\n"
     ]
    },
    {
     "name": "stderr",
     "output_type": "stream",
     "text": [
      "Processing predictions: 100%|██████████| 100/100 [00:10<00:00,  9.96it/s]\n",
      "/tmp/ipykernel_6833/3130949446.py:86: FutureWarning: Series.__getitem__ treating keys as positions is deprecated. In a future version, integer keys will always be treated as labels (consistent with DataFrame behavior). To access a value by position, use `ser.iloc[pos]`\n",
      "  answer = row[-1]  # Store the ground truth label\n"
     ]
    },
    {
     "name": "stdout",
     "output_type": "stream",
     "text": [
      "Num of non-numeric or invalid: 0\n",
      "Intermediate results for Run 1: {'Num Features': 30, 'Sample Size': 32, 'Class 1 Proportion': 0.1, 'Set ID': 'Set_3_Prop_0.1', 'Run Number': 1, 'Accuracy': 0.24, 'Precision': 0.14606741573033707, 'Recall': 1.0, 'F1 Score': 0.2549019607843137, 'Prediction': [1, 1, 1, 1, 1, 1, 1, 1, 1, 1, 1, 1, 1, 0, 1, 1, 1, 1, 1, 1, 1, 1, 0, 1, 1, 1, 1, 1, 1, 1, 1, 0, 1, 0, 1, 1, 1, 1, 1, 1, 1, 0, 1, 1, 1, 1, 1, 0, 1, 1, 1, 1, 1, 1, 0, 1, 1, 1, 1, 1, 1, 0, 0, 1, 1, 1, 1, 1, 1, 1, 1, 1, 1, 1, 1, 1, 1, 1, 1, 1, 1, 1, 1, 0, 1, 1, 1, 1, 1, 0, 1, 1, 1, 1, 1, 1, 1, 1, 1, 1]}\n",
      "\n",
      "Evaluating Set ID: Set_4_Prop_0.1\n"
     ]
    },
    {
     "name": "stderr",
     "output_type": "stream",
     "text": [
      "Processing predictions: 100%|██████████| 100/100 [00:09<00:00, 10.03it/s]\n",
      "/tmp/ipykernel_6833/3130949446.py:86: FutureWarning: Series.__getitem__ treating keys as positions is deprecated. In a future version, integer keys will always be treated as labels (consistent with DataFrame behavior). To access a value by position, use `ser.iloc[pos]`\n",
      "  answer = row[-1]  # Store the ground truth label\n"
     ]
    },
    {
     "name": "stdout",
     "output_type": "stream",
     "text": [
      "Num of non-numeric or invalid: 0\n",
      "Intermediate results for Run 1: {'Num Features': 30, 'Sample Size': 32, 'Class 1 Proportion': 0.1, 'Set ID': 'Set_4_Prop_0.1', 'Run Number': 1, 'Accuracy': 0.62, 'Precision': 0.14285714285714285, 'Recall': 0.38461538461538464, 'F1 Score': 0.20833333333333334, 'Prediction': [1, 1, 0, 0, 0, 0, 1, 0, 0, 1, 1, 1, 1, 0, 0, 1, 1, 0, 0, 0, 1, 0, 0, 0, 0, 0, 0, 1, 0, 0, 0, 0, 0, 0, 1, 0, 1, 0, 0, 0, 0, 0, 0, 1, 1, 1, 0, 0, 0, 0, 0, 1, 0, 1, 0, 0, 0, 0, 0, 0, 0, 0, 0, 0, 0, 1, 1, 0, 0, 0, 0, 1, 1, 1, 0, 1, 0, 0, 0, 1, 0, 0, 0, 0, 1, 1, 0, 1, 0, 0, 0, 0, 1, 1, 0, 1, 1, 1, 1, 1]}\n",
      "\n",
      "Evaluating Set ID: Set_5_Prop_0.1\n"
     ]
    },
    {
     "name": "stderr",
     "output_type": "stream",
     "text": [
      "Processing predictions: 100%|██████████| 100/100 [00:11<00:00,  8.82it/s]\n",
      "/tmp/ipykernel_6833/3130949446.py:86: FutureWarning: Series.__getitem__ treating keys as positions is deprecated. In a future version, integer keys will always be treated as labels (consistent with DataFrame behavior). To access a value by position, use `ser.iloc[pos]`\n",
      "  answer = row[-1]  # Store the ground truth label\n"
     ]
    },
    {
     "name": "stdout",
     "output_type": "stream",
     "text": [
      "Num of non-numeric or invalid: 0\n",
      "Intermediate results for Run 1: {'Num Features': 30, 'Sample Size': 32, 'Class 1 Proportion': 0.1, 'Set ID': 'Set_5_Prop_0.1', 'Run Number': 1, 'Accuracy': 0.13, 'Precision': 0.13, 'Recall': 1.0, 'F1 Score': 0.23008849557522124, 'Prediction': [1, 1, 1, 1, 1, 1, 1, 1, 1, 1, 1, 1, 1, 1, 1, 1, 1, 1, 1, 1, 1, 1, 1, 1, 1, 1, 1, 1, 1, 1, 1, 1, 1, 1, 1, 1, 1, 1, 1, 1, 1, 1, 1, 1, 1, 1, 1, 1, 1, 1, 1, 1, 1, 1, 1, 1, 1, 1, 1, 1, 1, 1, 1, 1, 1, 1, 1, 1, 1, 1, 1, 1, 1, 1, 1, 1, 1, 1, 1, 1, 1, 1, 1, 1, 1, 1, 1, 1, 1, 1, 1, 1, 1, 1, 1, 1, 1, 1, 1, 1]}\n",
      "\n",
      "Evaluating Set ID: Set_6_Prop_0.1\n"
     ]
    },
    {
     "name": "stderr",
     "output_type": "stream",
     "text": [
      "Processing predictions: 100%|██████████| 100/100 [00:10<00:00,  9.72it/s]\n",
      "/tmp/ipykernel_6833/3130949446.py:86: FutureWarning: Series.__getitem__ treating keys as positions is deprecated. In a future version, integer keys will always be treated as labels (consistent with DataFrame behavior). To access a value by position, use `ser.iloc[pos]`\n",
      "  answer = row[-1]  # Store the ground truth label\n"
     ]
    },
    {
     "name": "stdout",
     "output_type": "stream",
     "text": [
      "Num of non-numeric or invalid: 0\n",
      "Intermediate results for Run 1: {'Num Features': 30, 'Sample Size': 32, 'Class 1 Proportion': 0.1, 'Set ID': 'Set_6_Prop_0.1', 'Run Number': 1, 'Accuracy': 0.77, 'Precision': 0.1875, 'Recall': 0.23076923076923078, 'F1 Score': 0.20689655172413793, 'Prediction': [0, 0, 0, 0, 0, 0, 0, 0, 0, 0, 0, 0, 1, 0, 0, 1, 0, 0, 0, 0, 0, 0, 0, 0, 0, 0, 1, 0, 0, 0, 0, 0, 0, 0, 0, 0, 1, 0, 0, 0, 0, 0, 0, 0, 1, 0, 0, 0, 0, 0, 0, 1, 0, 0, 1, 0, 0, 0, 0, 0, 1, 0, 0, 0, 0, 1, 1, 0, 0, 0, 0, 1, 1, 0, 0, 0, 0, 0, 0, 0, 0, 0, 1, 0, 0, 0, 1, 0, 1, 0, 0, 0, 0, 0, 0, 0, 0, 1, 0, 0]}\n",
      "\n",
      "Evaluating Set ID: Set_7_Prop_0.1\n"
     ]
    },
    {
     "name": "stderr",
     "output_type": "stream",
     "text": [
      "Processing predictions: 100%|██████████| 100/100 [00:10<00:00,  9.66it/s]\n",
      "/tmp/ipykernel_6833/3130949446.py:86: FutureWarning: Series.__getitem__ treating keys as positions is deprecated. In a future version, integer keys will always be treated as labels (consistent with DataFrame behavior). To access a value by position, use `ser.iloc[pos]`\n",
      "  answer = row[-1]  # Store the ground truth label\n"
     ]
    },
    {
     "name": "stdout",
     "output_type": "stream",
     "text": [
      "Num of non-numeric or invalid: 0\n",
      "Intermediate results for Run 1: {'Num Features': 30, 'Sample Size': 32, 'Class 1 Proportion': 0.1, 'Set ID': 'Set_7_Prop_0.1', 'Run Number': 1, 'Accuracy': 0.77, 'Precision': 0.1875, 'Recall': 0.23076923076923078, 'F1 Score': 0.20689655172413793, 'Prediction': [0, 0, 1, 0, 0, 0, 0, 0, 0, 0, 0, 1, 0, 0, 1, 1, 0, 0, 1, 0, 0, 0, 0, 0, 0, 0, 0, 0, 1, 0, 0, 0, 0, 0, 0, 0, 0, 1, 0, 0, 0, 0, 0, 0, 0, 0, 0, 0, 0, 0, 0, 0, 0, 0, 0, 1, 0, 0, 0, 0, 0, 0, 0, 0, 0, 0, 1, 0, 0, 0, 0, 0, 0, 1, 0, 0, 0, 0, 0, 0, 1, 0, 0, 0, 0, 1, 0, 0, 0, 0, 0, 0, 0, 0, 0, 1, 1, 0, 1, 1]}\n",
      "\n",
      "Evaluating Set ID: Set_8_Prop_0.1\n"
     ]
    },
    {
     "name": "stderr",
     "output_type": "stream",
     "text": [
      "Processing predictions: 100%|██████████| 100/100 [00:10<00:00,  9.70it/s]\n",
      "/tmp/ipykernel_6833/3130949446.py:86: FutureWarning: Series.__getitem__ treating keys as positions is deprecated. In a future version, integer keys will always be treated as labels (consistent with DataFrame behavior). To access a value by position, use `ser.iloc[pos]`\n",
      "  answer = row[-1]  # Store the ground truth label\n"
     ]
    },
    {
     "name": "stdout",
     "output_type": "stream",
     "text": [
      "Num of non-numeric or invalid: 0\n",
      "Intermediate results for Run 1: {'Num Features': 30, 'Sample Size': 32, 'Class 1 Proportion': 0.1, 'Set ID': 'Set_8_Prop_0.1', 'Run Number': 1, 'Accuracy': 0.53, 'Precision': 0.17307692307692307, 'Recall': 0.6923076923076923, 'F1 Score': 0.27692307692307694, 'Prediction': [1, 1, 0, 1, 0, 1, 1, 1, 0, 1, 1, 0, 1, 1, 1, 0, 1, 1, 0, 1, 0, 1, 0, 0, 0, 0, 1, 0, 1, 1, 1, 0, 0, 0, 1, 1, 0, 0, 0, 1, 0, 0, 0, 0, 0, 1, 0, 1, 0, 0, 1, 1, 1, 1, 1, 0, 0, 0, 0, 0, 0, 0, 0, 0, 1, 0, 0, 1, 1, 0, 0, 1, 1, 1, 1, 0, 0, 1, 0, 0, 0, 0, 1, 1, 0, 1, 1, 1, 1, 1, 0, 1, 0, 1, 1, 1, 1, 1, 1, 1]}\n",
      "\n",
      "Evaluating Set ID: Set_9_Prop_0.1\n"
     ]
    },
    {
     "name": "stderr",
     "output_type": "stream",
     "text": [
      "Processing predictions: 100%|██████████| 100/100 [00:10<00:00,  9.47it/s]\n",
      "/tmp/ipykernel_6833/3130949446.py:86: FutureWarning: Series.__getitem__ treating keys as positions is deprecated. In a future version, integer keys will always be treated as labels (consistent with DataFrame behavior). To access a value by position, use `ser.iloc[pos]`\n",
      "  answer = row[-1]  # Store the ground truth label\n"
     ]
    },
    {
     "name": "stdout",
     "output_type": "stream",
     "text": [
      "Num of non-numeric or invalid: 0\n",
      "Intermediate results for Run 1: {'Num Features': 30, 'Sample Size': 32, 'Class 1 Proportion': 0.1, 'Set ID': 'Set_9_Prop_0.1', 'Run Number': 1, 'Accuracy': 0.28, 'Precision': 0.13580246913580246, 'Recall': 0.8461538461538461, 'F1 Score': 0.23404255319148937, 'Prediction': [0, 1, 1, 1, 1, 1, 0, 1, 1, 0, 1, 1, 1, 1, 0, 1, 1, 1, 1, 1, 1, 1, 1, 0, 0, 1, 1, 1, 1, 1, 1, 0, 1, 1, 1, 0, 1, 1, 1, 1, 1, 1, 0, 0, 1, 1, 1, 0, 0, 1, 1, 1, 1, 1, 1, 0, 1, 1, 1, 0, 1, 1, 0, 1, 1, 0, 1, 1, 1, 0, 1, 1, 1, 1, 0, 1, 1, 1, 1, 1, 1, 1, 1, 1, 1, 1, 1, 1, 1, 1, 1, 1, 1, 0, 1, 1, 1, 1, 1, 1]}\n",
      "\n",
      "Evaluating Set ID: Set_10_Prop_0.1\n"
     ]
    },
    {
     "name": "stderr",
     "output_type": "stream",
     "text": [
      "Processing predictions: 100%|██████████| 100/100 [00:11<00:00,  8.86it/s]\n",
      "/tmp/ipykernel_6833/3130949446.py:86: FutureWarning: Series.__getitem__ treating keys as positions is deprecated. In a future version, integer keys will always be treated as labels (consistent with DataFrame behavior). To access a value by position, use `ser.iloc[pos]`\n",
      "  answer = row[-1]  # Store the ground truth label\n"
     ]
    },
    {
     "name": "stdout",
     "output_type": "stream",
     "text": [
      "Num of non-numeric or invalid: 0\n",
      "Intermediate results for Run 1: {'Num Features': 30, 'Sample Size': 32, 'Class 1 Proportion': 0.1, 'Set ID': 'Set_10_Prop_0.1', 'Run Number': 1, 'Accuracy': 0.85, 'Precision': 0.0, 'Recall': 0.0, 'F1 Score': 0.0, 'Prediction': [0, 0, 0, 0, 0, 0, 0, 0, 0, 0, 0, 1, 0, 0, 0, 0, 0, 0, 0, 0, 0, 0, 0, 0, 0, 0, 0, 0, 0, 0, 0, 0, 0, 0, 0, 0, 0, 0, 0, 0, 0, 0, 0, 0, 0, 0, 0, 0, 0, 0, 0, 0, 0, 0, 0, 0, 0, 0, 0, 0, 0, 0, 0, 0, 0, 0, 0, 0, 0, 0, 0, 0, 0, 0, 0, 0, 0, 0, 0, 0, 0, 0, 0, 0, 0, 0, 0, 0, 0, 0, 0, 0, 0, 0, 0, 0, 0, 0, 1, 0]}\n",
      "\n",
      "Evaluating Set ID: Set_11_Prop_0.1\n"
     ]
    },
    {
     "name": "stderr",
     "output_type": "stream",
     "text": [
      "Processing predictions: 100%|██████████| 100/100 [00:09<00:00, 10.26it/s]\n",
      "/tmp/ipykernel_6833/3130949446.py:86: FutureWarning: Series.__getitem__ treating keys as positions is deprecated. In a future version, integer keys will always be treated as labels (consistent with DataFrame behavior). To access a value by position, use `ser.iloc[pos]`\n",
      "  answer = row[-1]  # Store the ground truth label\n"
     ]
    },
    {
     "name": "stdout",
     "output_type": "stream",
     "text": [
      "Num of non-numeric or invalid: 0\n",
      "Intermediate results for Run 1: {'Num Features': 30, 'Sample Size': 32, 'Class 1 Proportion': 0.1, 'Set ID': 'Set_11_Prop_0.1', 'Run Number': 1, 'Accuracy': 0.58, 'Precision': 0.20408163265306123, 'Recall': 0.7692307692307693, 'F1 Score': 0.3225806451612903, 'Prediction': [0, 1, 1, 0, 0, 1, 0, 1, 1, 1, 0, 1, 0, 0, 0, 1, 1, 1, 1, 1, 1, 0, 0, 0, 0, 0, 1, 0, 1, 0, 0, 0, 0, 1, 0, 1, 0, 0, 1, 0, 0, 1, 0, 0, 1, 1, 1, 1, 1, 0, 0, 1, 1, 0, 0, 1, 1, 0, 0, 0, 0, 0, 0, 0, 0, 0, 1, 0, 0, 1, 0, 1, 1, 0, 1, 0, 0, 1, 0, 1, 0, 1, 1, 0, 1, 1, 0, 1, 1, 0, 1, 1, 0, 1, 1, 1, 0, 1, 1, 1]}\n",
      "\n",
      "Evaluating Set ID: Set_12_Prop_0.1\n"
     ]
    },
    {
     "name": "stderr",
     "output_type": "stream",
     "text": [
      "Processing predictions: 100%|██████████| 100/100 [00:24<00:00,  4.01it/s]\n",
      "/tmp/ipykernel_6833/3130949446.py:86: FutureWarning: Series.__getitem__ treating keys as positions is deprecated. In a future version, integer keys will always be treated as labels (consistent with DataFrame behavior). To access a value by position, use `ser.iloc[pos]`\n",
      "  answer = row[-1]  # Store the ground truth label\n"
     ]
    },
    {
     "name": "stdout",
     "output_type": "stream",
     "text": [
      "Num of non-numeric or invalid: 0\n",
      "Intermediate results for Run 1: {'Num Features': 30, 'Sample Size': 32, 'Class 1 Proportion': 0.1, 'Set ID': 'Set_12_Prop_0.1', 'Run Number': 1, 'Accuracy': 0.68, 'Precision': 0.21212121212121213, 'Recall': 0.5384615384615384, 'F1 Score': 0.30434782608695654, 'Prediction': [1, 0, 1, 1, 0, 0, 0, 1, 1, 1, 0, 0, 0, 0, 0, 1, 0, 1, 0, 1, 0, 0, 0, 0, 0, 0, 1, 1, 0, 0, 0, 0, 1, 0, 0, 0, 0, 0, 0, 0, 0, 1, 0, 1, 1, 0, 0, 0, 1, 0, 1, 1, 0, 0, 0, 0, 0, 0, 1, 0, 0, 0, 0, 0, 1, 0, 0, 0, 1, 1, 1, 1, 1, 0, 1, 0, 0, 0, 0, 0, 0, 0, 0, 1, 0, 1, 1, 0, 0, 0, 0, 1, 1, 0, 1, 1, 0, 0, 0, 0]}\n",
      "\n",
      "Evaluating Set ID: Set_13_Prop_0.1\n"
     ]
    },
    {
     "name": "stderr",
     "output_type": "stream",
     "text": [
      "Processing predictions: 100%|██████████| 100/100 [00:11<00:00,  8.81it/s]\n",
      "/tmp/ipykernel_6833/3130949446.py:86: FutureWarning: Series.__getitem__ treating keys as positions is deprecated. In a future version, integer keys will always be treated as labels (consistent with DataFrame behavior). To access a value by position, use `ser.iloc[pos]`\n",
      "  answer = row[-1]  # Store the ground truth label\n"
     ]
    },
    {
     "name": "stdout",
     "output_type": "stream",
     "text": [
      "Num of non-numeric or invalid: 0\n",
      "Intermediate results for Run 1: {'Num Features': 30, 'Sample Size': 32, 'Class 1 Proportion': 0.1, 'Set ID': 'Set_13_Prop_0.1', 'Run Number': 1, 'Accuracy': 0.46, 'Precision': 0.16393442622950818, 'Recall': 0.7692307692307693, 'F1 Score': 0.2702702702702703, 'Prediction': [1, 0, 0, 1, 1, 0, 1, 1, 1, 0, 1, 1, 1, 0, 0, 0, 1, 1, 1, 0, 1, 0, 1, 0, 0, 1, 1, 1, 0, 0, 1, 0, 0, 0, 1, 1, 1, 0, 1, 0, 1, 1, 0, 1, 1, 0, 0, 1, 0, 1, 0, 1, 1, 1, 0, 1, 0, 0, 0, 1, 0, 1, 1, 0, 0, 1, 1, 1, 0, 1, 1, 0, 1, 1, 1, 1, 0, 0, 1, 1, 0, 1, 0, 1, 1, 1, 1, 1, 1, 0, 0, 1, 1, 1, 1, 0, 1, 1, 1, 1]}\n",
      "\n",
      "Evaluating Set ID: Set_14_Prop_0.1\n"
     ]
    },
    {
     "name": "stderr",
     "output_type": "stream",
     "text": [
      "Processing predictions: 100%|██████████| 100/100 [00:11<00:00,  8.45it/s]\n",
      "/tmp/ipykernel_6833/3130949446.py:86: FutureWarning: Series.__getitem__ treating keys as positions is deprecated. In a future version, integer keys will always be treated as labels (consistent with DataFrame behavior). To access a value by position, use `ser.iloc[pos]`\n",
      "  answer = row[-1]  # Store the ground truth label\n"
     ]
    },
    {
     "name": "stdout",
     "output_type": "stream",
     "text": [
      "Num of non-numeric or invalid: 0\n",
      "Intermediate results for Run 1: {'Num Features': 30, 'Sample Size': 32, 'Class 1 Proportion': 0.1, 'Set ID': 'Set_14_Prop_0.1', 'Run Number': 1, 'Accuracy': 0.61, 'Precision': 0.175, 'Recall': 0.5384615384615384, 'F1 Score': 0.2641509433962264, 'Prediction': [1, 1, 0, 1, 0, 1, 1, 0, 1, 0, 1, 1, 1, 1, 0, 0, 1, 1, 0, 1, 0, 1, 0, 0, 0, 0, 0, 0, 1, 0, 0, 1, 1, 0, 0, 0, 1, 0, 1, 0, 0, 0, 0, 1, 0, 0, 0, 0, 0, 0, 1, 1, 1, 1, 0, 0, 0, 0, 1, 0, 0, 0, 0, 0, 0, 0, 0, 0, 0, 0, 0, 1, 1, 0, 0, 0, 1, 0, 1, 1, 1, 0, 0, 0, 1, 0, 1, 0, 1, 1, 0, 1, 0, 0, 0, 1, 1, 0, 1, 1]}\n",
      "\n",
      "Evaluating Set ID: Set_15_Prop_0.1\n"
     ]
    },
    {
     "name": "stderr",
     "output_type": "stream",
     "text": [
      "Processing predictions: 100%|██████████| 100/100 [00:11<00:00,  8.52it/s]\n",
      "/tmp/ipykernel_6833/3130949446.py:86: FutureWarning: Series.__getitem__ treating keys as positions is deprecated. In a future version, integer keys will always be treated as labels (consistent with DataFrame behavior). To access a value by position, use `ser.iloc[pos]`\n",
      "  answer = row[-1]  # Store the ground truth label\n"
     ]
    },
    {
     "name": "stdout",
     "output_type": "stream",
     "text": [
      "Num of non-numeric or invalid: 0\n",
      "Intermediate results for Run 1: {'Num Features': 30, 'Sample Size': 32, 'Class 1 Proportion': 0.1, 'Set ID': 'Set_15_Prop_0.1', 'Run Number': 1, 'Accuracy': 0.45, 'Precision': 0.16129032258064516, 'Recall': 0.7692307692307693, 'F1 Score': 0.26666666666666666, 'Prediction': [1, 1, 0, 1, 1, 0, 1, 1, 1, 1, 0, 1, 0, 0, 1, 0, 1, 1, 1, 0, 1, 0, 0, 0, 0, 1, 1, 1, 0, 1, 0, 0, 0, 1, 1, 1, 0, 1, 0, 1, 1, 0, 0, 1, 1, 1, 0, 1, 0, 0, 1, 1, 1, 0, 1, 0, 0, 1, 1, 0, 1, 0, 0, 0, 0, 1, 1, 1, 1, 1, 0, 0, 1, 1, 1, 1, 0, 0, 1, 0, 1, 1, 1, 0, 1, 1, 1, 1, 1, 1, 0, 1, 0, 1, 1, 1, 1, 1, 1, 1]}\n",
      "\n",
      "Testing with class 1 proportion: 0.3\n",
      "\n",
      "Evaluating Set ID: Set_1_Prop_0.3\n"
     ]
    },
    {
     "name": "stderr",
     "output_type": "stream",
     "text": [
      "Processing predictions: 100%|██████████| 100/100 [00:11<00:00,  8.66it/s]\n",
      "/tmp/ipykernel_6833/3130949446.py:86: FutureWarning: Series.__getitem__ treating keys as positions is deprecated. In a future version, integer keys will always be treated as labels (consistent with DataFrame behavior). To access a value by position, use `ser.iloc[pos]`\n",
      "  answer = row[-1]  # Store the ground truth label\n"
     ]
    },
    {
     "name": "stdout",
     "output_type": "stream",
     "text": [
      "Num of non-numeric or invalid: 0\n",
      "Intermediate results for Run 1: {'Num Features': 30, 'Sample Size': 32, 'Class 1 Proportion': 0.3, 'Set ID': 'Set_1_Prop_0.3', 'Run Number': 1, 'Accuracy': 0.13, 'Precision': 0.13, 'Recall': 1.0, 'F1 Score': 0.23008849557522124, 'Prediction': [1, 1, 1, 1, 1, 1, 1, 1, 1, 1, 1, 1, 1, 1, 1, 1, 1, 1, 1, 1, 1, 1, 1, 1, 1, 1, 1, 1, 1, 1, 1, 1, 1, 1, 1, 1, 1, 1, 1, 1, 1, 1, 1, 1, 1, 1, 1, 1, 1, 1, 1, 1, 1, 1, 1, 1, 1, 1, 1, 1, 1, 1, 1, 1, 1, 1, 1, 1, 1, 1, 1, 1, 1, 1, 1, 1, 1, 1, 1, 1, 1, 1, 1, 1, 1, 1, 1, 1, 1, 1, 1, 1, 1, 1, 1, 1, 1, 1, 1, 1]}\n",
      "\n",
      "Evaluating Set ID: Set_2_Prop_0.3\n"
     ]
    },
    {
     "name": "stderr",
     "output_type": "stream",
     "text": [
      "Processing predictions: 100%|██████████| 100/100 [00:11<00:00,  9.09it/s]\n",
      "/tmp/ipykernel_6833/3130949446.py:86: FutureWarning: Series.__getitem__ treating keys as positions is deprecated. In a future version, integer keys will always be treated as labels (consistent with DataFrame behavior). To access a value by position, use `ser.iloc[pos]`\n",
      "  answer = row[-1]  # Store the ground truth label\n"
     ]
    },
    {
     "name": "stdout",
     "output_type": "stream",
     "text": [
      "Num of non-numeric or invalid: 0\n",
      "Intermediate results for Run 1: {'Num Features': 30, 'Sample Size': 32, 'Class 1 Proportion': 0.3, 'Set ID': 'Set_2_Prop_0.3', 'Run Number': 1, 'Accuracy': 0.41, 'Precision': 0.16176470588235295, 'Recall': 0.8461538461538461, 'F1 Score': 0.2716049382716049, 'Prediction': [1, 1, 1, 0, 1, 1, 0, 1, 1, 1, 0, 1, 1, 0, 1, 1, 1, 1, 1, 0, 1, 1, 1, 0, 1, 0, 1, 0, 1, 0, 1, 0, 0, 1, 1, 0, 1, 0, 0, 1, 1, 0, 1, 0, 1, 1, 1, 0, 0, 1, 1, 1, 1, 1, 0, 1, 1, 0, 0, 0, 1, 1, 0, 0, 1, 1, 0, 1, 1, 1, 0, 0, 1, 1, 1, 0, 1, 0, 1, 1, 1, 1, 1, 1, 1, 0, 1, 1, 1, 1, 0, 0, 1, 1, 1, 1, 1, 1, 1, 1]}\n",
      "\n",
      "Evaluating Set ID: Set_3_Prop_0.3\n"
     ]
    },
    {
     "name": "stderr",
     "output_type": "stream",
     "text": [
      "Processing predictions: 100%|██████████| 100/100 [00:10<00:00,  9.74it/s]\n",
      "/tmp/ipykernel_6833/3130949446.py:86: FutureWarning: Series.__getitem__ treating keys as positions is deprecated. In a future version, integer keys will always be treated as labels (consistent with DataFrame behavior). To access a value by position, use `ser.iloc[pos]`\n",
      "  answer = row[-1]  # Store the ground truth label\n"
     ]
    },
    {
     "name": "stdout",
     "output_type": "stream",
     "text": [
      "Num of non-numeric or invalid: 0\n",
      "Intermediate results for Run 1: {'Num Features': 30, 'Sample Size': 32, 'Class 1 Proportion': 0.3, 'Set ID': 'Set_3_Prop_0.3', 'Run Number': 1, 'Accuracy': 0.25, 'Precision': 0.12195121951219512, 'Recall': 0.7692307692307693, 'F1 Score': 0.21052631578947367, 'Prediction': [1, 0, 1, 1, 1, 1, 1, 0, 1, 1, 1, 1, 1, 1, 1, 1, 1, 1, 1, 0, 1, 1, 0, 1, 0, 1, 1, 1, 1, 1, 1, 1, 1, 1, 1, 1, 1, 0, 1, 1, 1, 0, 0, 1, 1, 1, 0, 1, 0, 1, 1, 1, 1, 1, 1, 1, 1, 0, 0, 0, 1, 1, 1, 0, 1, 0, 1, 1, 1, 1, 1, 0, 1, 1, 1, 1, 1, 0, 0, 1, 1, 1, 1, 1, 1, 1, 1, 1, 1, 1, 1, 1, 1, 1, 1, 1, 1, 1, 1, 1]}\n",
      "\n",
      "Evaluating Set ID: Set_4_Prop_0.3\n"
     ]
    },
    {
     "name": "stderr",
     "output_type": "stream",
     "text": [
      "Processing predictions: 100%|██████████| 100/100 [00:12<00:00,  7.84it/s]\n",
      "/tmp/ipykernel_6833/3130949446.py:86: FutureWarning: Series.__getitem__ treating keys as positions is deprecated. In a future version, integer keys will always be treated as labels (consistent with DataFrame behavior). To access a value by position, use `ser.iloc[pos]`\n",
      "  answer = row[-1]  # Store the ground truth label\n"
     ]
    },
    {
     "name": "stdout",
     "output_type": "stream",
     "text": [
      "Num of non-numeric or invalid: 0\n",
      "Intermediate results for Run 1: {'Num Features': 30, 'Sample Size': 32, 'Class 1 Proportion': 0.3, 'Set ID': 'Set_4_Prop_0.3', 'Run Number': 1, 'Accuracy': 0.31, 'Precision': 0.13157894736842105, 'Recall': 0.7692307692307693, 'F1 Score': 0.2247191011235955, 'Prediction': [1, 1, 0, 1, 1, 0, 1, 1, 1, 1, 1, 1, 1, 0, 0, 1, 1, 1, 1, 1, 0, 0, 1, 0, 0, 0, 1, 1, 1, 1, 1, 1, 0, 0, 1, 0, 1, 1, 1, 0, 1, 1, 1, 1, 0, 0, 0, 1, 1, 0, 1, 1, 1, 1, 1, 1, 1, 1, 0, 1, 1, 0, 0, 1, 0, 1, 1, 1, 1, 1, 1, 1, 1, 1, 1, 1, 0, 0, 0, 1, 1, 1, 1, 1, 1, 1, 1, 1, 1, 1, 1, 1, 1, 1, 1, 1, 1, 1, 1, 1]}\n",
      "\n",
      "Evaluating Set ID: Set_5_Prop_0.3\n"
     ]
    },
    {
     "name": "stderr",
     "output_type": "stream",
     "text": [
      "Processing predictions: 100%|██████████| 100/100 [00:22<00:00,  4.45it/s]\n",
      "/tmp/ipykernel_6833/3130949446.py:86: FutureWarning: Series.__getitem__ treating keys as positions is deprecated. In a future version, integer keys will always be treated as labels (consistent with DataFrame behavior). To access a value by position, use `ser.iloc[pos]`\n",
      "  answer = row[-1]  # Store the ground truth label\n"
     ]
    },
    {
     "name": "stdout",
     "output_type": "stream",
     "text": [
      "Num of non-numeric or invalid: 0\n",
      "Intermediate results for Run 1: {'Num Features': 30, 'Sample Size': 32, 'Class 1 Proportion': 0.3, 'Set ID': 'Set_5_Prop_0.3', 'Run Number': 1, 'Accuracy': 0.15, 'Precision': 0.1326530612244898, 'Recall': 1.0, 'F1 Score': 0.23423423423423423, 'Prediction': [1, 1, 1, 1, 1, 1, 1, 1, 1, 1, 1, 1, 1, 1, 1, 1, 1, 1, 1, 1, 1, 1, 1, 1, 1, 1, 1, 1, 1, 1, 1, 1, 1, 1, 1, 1, 1, 1, 1, 1, 1, 0, 1, 1, 1, 1, 1, 1, 1, 1, 0, 1, 1, 1, 1, 1, 1, 1, 1, 1, 1, 1, 1, 1, 1, 1, 1, 1, 1, 1, 1, 1, 1, 1, 1, 1, 1, 1, 1, 1, 1, 1, 1, 1, 1, 1, 1, 1, 1, 1, 1, 1, 1, 1, 1, 1, 1, 1, 1, 1]}\n",
      "\n",
      "Evaluating Set ID: Set_6_Prop_0.3\n"
     ]
    },
    {
     "name": "stderr",
     "output_type": "stream",
     "text": [
      "Processing predictions: 100%|██████████| 100/100 [00:12<00:00,  7.96it/s]\n",
      "/tmp/ipykernel_6833/3130949446.py:86: FutureWarning: Series.__getitem__ treating keys as positions is deprecated. In a future version, integer keys will always be treated as labels (consistent with DataFrame behavior). To access a value by position, use `ser.iloc[pos]`\n",
      "  answer = row[-1]  # Store the ground truth label\n"
     ]
    },
    {
     "name": "stdout",
     "output_type": "stream",
     "text": [
      "Num of non-numeric or invalid: 0\n",
      "Intermediate results for Run 1: {'Num Features': 30, 'Sample Size': 32, 'Class 1 Proportion': 0.3, 'Set ID': 'Set_6_Prop_0.3', 'Run Number': 1, 'Accuracy': 0.13, 'Precision': 0.13, 'Recall': 1.0, 'F1 Score': 0.23008849557522124, 'Prediction': [1, 1, 1, 1, 1, 1, 1, 1, 1, 1, 1, 1, 1, 1, 1, 1, 1, 1, 1, 1, 1, 1, 1, 1, 1, 1, 1, 1, 1, 1, 1, 1, 1, 1, 1, 1, 1, 1, 1, 1, 1, 1, 1, 1, 1, 1, 1, 1, 1, 1, 1, 1, 1, 1, 1, 1, 1, 1, 1, 1, 1, 1, 1, 1, 1, 1, 1, 1, 1, 1, 1, 1, 1, 1, 1, 1, 1, 1, 1, 1, 1, 1, 1, 1, 1, 1, 1, 1, 1, 1, 1, 1, 1, 1, 1, 1, 1, 1, 1, 1]}\n",
      "\n",
      "Evaluating Set ID: Set_7_Prop_0.3\n"
     ]
    },
    {
     "name": "stderr",
     "output_type": "stream",
     "text": [
      "Processing predictions: 100%|██████████| 100/100 [00:09<00:00, 10.04it/s]\n",
      "/tmp/ipykernel_6833/3130949446.py:86: FutureWarning: Series.__getitem__ treating keys as positions is deprecated. In a future version, integer keys will always be treated as labels (consistent with DataFrame behavior). To access a value by position, use `ser.iloc[pos]`\n",
      "  answer = row[-1]  # Store the ground truth label\n"
     ]
    },
    {
     "name": "stdout",
     "output_type": "stream",
     "text": [
      "Num of non-numeric or invalid: 0\n",
      "Intermediate results for Run 1: {'Num Features': 30, 'Sample Size': 32, 'Class 1 Proportion': 0.3, 'Set ID': 'Set_7_Prop_0.3', 'Run Number': 1, 'Accuracy': 0.13, 'Precision': 0.13, 'Recall': 1.0, 'F1 Score': 0.23008849557522124, 'Prediction': [1, 1, 1, 1, 1, 1, 1, 1, 1, 1, 1, 1, 1, 1, 1, 1, 1, 1, 1, 1, 1, 1, 1, 1, 1, 1, 1, 1, 1, 1, 1, 1, 1, 1, 1, 1, 1, 1, 1, 1, 1, 1, 1, 1, 1, 1, 1, 1, 1, 1, 1, 1, 1, 1, 1, 1, 1, 1, 1, 1, 1, 1, 1, 1, 1, 1, 1, 1, 1, 1, 1, 1, 1, 1, 1, 1, 1, 1, 1, 1, 1, 1, 1, 1, 1, 1, 1, 1, 1, 1, 1, 1, 1, 1, 1, 1, 1, 1, 1, 1]}\n",
      "\n",
      "Evaluating Set ID: Set_8_Prop_0.3\n"
     ]
    },
    {
     "name": "stderr",
     "output_type": "stream",
     "text": [
      "Processing predictions: 100%|██████████| 100/100 [00:10<00:00,  9.45it/s]\n",
      "/tmp/ipykernel_6833/3130949446.py:86: FutureWarning: Series.__getitem__ treating keys as positions is deprecated. In a future version, integer keys will always be treated as labels (consistent with DataFrame behavior). To access a value by position, use `ser.iloc[pos]`\n",
      "  answer = row[-1]  # Store the ground truth label\n"
     ]
    },
    {
     "name": "stdout",
     "output_type": "stream",
     "text": [
      "Num of non-numeric or invalid: 0\n",
      "Intermediate results for Run 1: {'Num Features': 30, 'Sample Size': 32, 'Class 1 Proportion': 0.3, 'Set ID': 'Set_8_Prop_0.3', 'Run Number': 1, 'Accuracy': 0.15, 'Precision': 0.1326530612244898, 'Recall': 1.0, 'F1 Score': 0.23423423423423423, 'Prediction': [1, 1, 1, 1, 1, 1, 1, 1, 1, 1, 1, 1, 1, 1, 1, 1, 1, 1, 1, 1, 1, 1, 1, 1, 1, 1, 1, 1, 1, 1, 1, 1, 1, 1, 1, 1, 1, 0, 1, 1, 1, 1, 1, 1, 1, 1, 1, 1, 1, 1, 1, 1, 1, 1, 1, 1, 1, 1, 1, 1, 1, 1, 1, 1, 1, 1, 1, 1, 1, 1, 1, 1, 1, 1, 1, 1, 1, 1, 1, 1, 1, 1, 1, 1, 1, 1, 1, 1, 1, 1, 1, 1, 0, 1, 1, 1, 1, 1, 1, 1]}\n",
      "\n",
      "Evaluating Set ID: Set_9_Prop_0.3\n"
     ]
    },
    {
     "name": "stderr",
     "output_type": "stream",
     "text": [
      "Processing predictions: 100%|██████████| 100/100 [00:11<00:00,  8.98it/s]\n",
      "/tmp/ipykernel_6833/3130949446.py:86: FutureWarning: Series.__getitem__ treating keys as positions is deprecated. In a future version, integer keys will always be treated as labels (consistent with DataFrame behavior). To access a value by position, use `ser.iloc[pos]`\n",
      "  answer = row[-1]  # Store the ground truth label\n"
     ]
    },
    {
     "name": "stdout",
     "output_type": "stream",
     "text": [
      "Num of non-numeric or invalid: 0\n",
      "Intermediate results for Run 1: {'Num Features': 30, 'Sample Size': 32, 'Class 1 Proportion': 0.3, 'Set ID': 'Set_9_Prop_0.3', 'Run Number': 1, 'Accuracy': 0.13, 'Precision': 0.13, 'Recall': 1.0, 'F1 Score': 0.23008849557522124, 'Prediction': [1, 1, 1, 1, 1, 1, 1, 1, 1, 1, 1, 1, 1, 1, 1, 1, 1, 1, 1, 1, 1, 1, 1, 1, 1, 1, 1, 1, 1, 1, 1, 1, 1, 1, 1, 1, 1, 1, 1, 1, 1, 1, 1, 1, 1, 1, 1, 1, 1, 1, 1, 1, 1, 1, 1, 1, 1, 1, 1, 1, 1, 1, 1, 1, 1, 1, 1, 1, 1, 1, 1, 1, 1, 1, 1, 1, 1, 1, 1, 1, 1, 1, 1, 1, 1, 1, 1, 1, 1, 1, 1, 1, 1, 1, 1, 1, 1, 1, 1, 1]}\n",
      "\n",
      "Evaluating Set ID: Set_10_Prop_0.3\n"
     ]
    },
    {
     "name": "stderr",
     "output_type": "stream",
     "text": [
      "Processing predictions: 100%|██████████| 100/100 [00:10<00:00,  9.60it/s]\n",
      "/tmp/ipykernel_6833/3130949446.py:86: FutureWarning: Series.__getitem__ treating keys as positions is deprecated. In a future version, integer keys will always be treated as labels (consistent with DataFrame behavior). To access a value by position, use `ser.iloc[pos]`\n",
      "  answer = row[-1]  # Store the ground truth label\n"
     ]
    },
    {
     "name": "stdout",
     "output_type": "stream",
     "text": [
      "Num of non-numeric or invalid: 0\n",
      "Intermediate results for Run 1: {'Num Features': 30, 'Sample Size': 32, 'Class 1 Proportion': 0.3, 'Set ID': 'Set_10_Prop_0.3', 'Run Number': 1, 'Accuracy': 0.13, 'Precision': 0.13, 'Recall': 1.0, 'F1 Score': 0.23008849557522124, 'Prediction': [1, 1, 1, 1, 1, 1, 1, 1, 1, 1, 1, 1, 1, 1, 1, 1, 1, 1, 1, 1, 1, 1, 1, 1, 1, 1, 1, 1, 1, 1, 1, 1, 1, 1, 1, 1, 1, 1, 1, 1, 1, 1, 1, 1, 1, 1, 1, 1, 1, 1, 1, 1, 1, 1, 1, 1, 1, 1, 1, 1, 1, 1, 1, 1, 1, 1, 1, 1, 1, 1, 1, 1, 1, 1, 1, 1, 1, 1, 1, 1, 1, 1, 1, 1, 1, 1, 1, 1, 1, 1, 1, 1, 1, 1, 1, 1, 1, 1, 1, 1]}\n",
      "\n",
      "Evaluating Set ID: Set_11_Prop_0.3\n"
     ]
    },
    {
     "name": "stderr",
     "output_type": "stream",
     "text": [
      "Processing predictions: 100%|██████████| 100/100 [00:12<00:00,  7.81it/s]\n",
      "/tmp/ipykernel_6833/3130949446.py:86: FutureWarning: Series.__getitem__ treating keys as positions is deprecated. In a future version, integer keys will always be treated as labels (consistent with DataFrame behavior). To access a value by position, use `ser.iloc[pos]`\n",
      "  answer = row[-1]  # Store the ground truth label\n"
     ]
    },
    {
     "name": "stdout",
     "output_type": "stream",
     "text": [
      "Num of non-numeric or invalid: 0\n",
      "Intermediate results for Run 1: {'Num Features': 30, 'Sample Size': 32, 'Class 1 Proportion': 0.3, 'Set ID': 'Set_11_Prop_0.3', 'Run Number': 1, 'Accuracy': 0.16, 'Precision': 0.12631578947368421, 'Recall': 0.9230769230769231, 'F1 Score': 0.2222222222222222, 'Prediction': [1, 1, 1, 1, 1, 1, 0, 1, 1, 1, 1, 1, 0, 1, 1, 1, 1, 1, 1, 1, 1, 1, 1, 0, 1, 1, 1, 1, 1, 1, 1, 1, 1, 1, 1, 1, 1, 1, 1, 1, 1, 1, 1, 1, 1, 1, 1, 0, 1, 1, 1, 1, 1, 1, 1, 1, 1, 1, 1, 1, 1, 0, 1, 1, 1, 1, 1, 1, 1, 1, 1, 1, 1, 1, 1, 1, 1, 1, 1, 1, 1, 1, 1, 1, 1, 1, 1, 1, 1, 1, 1, 1, 1, 1, 1, 1, 1, 1, 1, 1]}\n",
      "\n",
      "Evaluating Set ID: Set_12_Prop_0.3\n"
     ]
    },
    {
     "name": "stderr",
     "output_type": "stream",
     "text": [
      "Processing predictions: 100%|██████████| 100/100 [00:11<00:00,  8.87it/s]\n",
      "/tmp/ipykernel_6833/3130949446.py:86: FutureWarning: Series.__getitem__ treating keys as positions is deprecated. In a future version, integer keys will always be treated as labels (consistent with DataFrame behavior). To access a value by position, use `ser.iloc[pos]`\n",
      "  answer = row[-1]  # Store the ground truth label\n"
     ]
    },
    {
     "name": "stdout",
     "output_type": "stream",
     "text": [
      "Num of non-numeric or invalid: 0\n",
      "Intermediate results for Run 1: {'Num Features': 30, 'Sample Size': 32, 'Class 1 Proportion': 0.3, 'Set ID': 'Set_12_Prop_0.3', 'Run Number': 1, 'Accuracy': 0.13, 'Precision': 0.13, 'Recall': 1.0, 'F1 Score': 0.23008849557522124, 'Prediction': [1, 1, 1, 1, 1, 1, 1, 1, 1, 1, 1, 1, 1, 1, 1, 1, 1, 1, 1, 1, 1, 1, 1, 1, 1, 1, 1, 1, 1, 1, 1, 1, 1, 1, 1, 1, 1, 1, 1, 1, 1, 1, 1, 1, 1, 1, 1, 1, 1, 1, 1, 1, 1, 1, 1, 1, 1, 1, 1, 1, 1, 1, 1, 1, 1, 1, 1, 1, 1, 1, 1, 1, 1, 1, 1, 1, 1, 1, 1, 1, 1, 1, 1, 1, 1, 1, 1, 1, 1, 1, 1, 1, 1, 1, 1, 1, 1, 1, 1, 1]}\n",
      "\n",
      "Evaluating Set ID: Set_13_Prop_0.3\n"
     ]
    },
    {
     "name": "stderr",
     "output_type": "stream",
     "text": [
      "Processing predictions: 100%|██████████| 100/100 [00:11<00:00,  8.68it/s]\n",
      "/tmp/ipykernel_6833/3130949446.py:86: FutureWarning: Series.__getitem__ treating keys as positions is deprecated. In a future version, integer keys will always be treated as labels (consistent with DataFrame behavior). To access a value by position, use `ser.iloc[pos]`\n",
      "  answer = row[-1]  # Store the ground truth label\n"
     ]
    },
    {
     "name": "stdout",
     "output_type": "stream",
     "text": [
      "Num of non-numeric or invalid: 0\n",
      "Intermediate results for Run 1: {'Num Features': 30, 'Sample Size': 32, 'Class 1 Proportion': 0.3, 'Set ID': 'Set_13_Prop_0.3', 'Run Number': 1, 'Accuracy': 0.14, 'Precision': 0.13131313131313133, 'Recall': 1.0, 'F1 Score': 0.23214285714285715, 'Prediction': [1, 1, 1, 1, 1, 1, 1, 1, 1, 1, 1, 1, 1, 1, 1, 1, 1, 1, 1, 1, 1, 1, 1, 1, 1, 1, 1, 1, 1, 1, 1, 1, 1, 1, 1, 1, 1, 1, 1, 1, 1, 1, 1, 1, 1, 1, 1, 1, 1, 0, 1, 1, 1, 1, 1, 1, 1, 1, 1, 1, 1, 1, 1, 1, 1, 1, 1, 1, 1, 1, 1, 1, 1, 1, 1, 1, 1, 1, 1, 1, 1, 1, 1, 1, 1, 1, 1, 1, 1, 1, 1, 1, 1, 1, 1, 1, 1, 1, 1, 1]}\n",
      "\n",
      "Evaluating Set ID: Set_14_Prop_0.3\n"
     ]
    },
    {
     "name": "stderr",
     "output_type": "stream",
     "text": [
      "Processing predictions: 100%|██████████| 100/100 [00:10<00:00,  9.12it/s]\n",
      "/tmp/ipykernel_6833/3130949446.py:86: FutureWarning: Series.__getitem__ treating keys as positions is deprecated. In a future version, integer keys will always be treated as labels (consistent with DataFrame behavior). To access a value by position, use `ser.iloc[pos]`\n",
      "  answer = row[-1]  # Store the ground truth label\n"
     ]
    },
    {
     "name": "stdout",
     "output_type": "stream",
     "text": [
      "Num of non-numeric or invalid: 0\n",
      "Intermediate results for Run 1: {'Num Features': 30, 'Sample Size': 32, 'Class 1 Proportion': 0.3, 'Set ID': 'Set_14_Prop_0.3', 'Run Number': 1, 'Accuracy': 0.18, 'Precision': 0.1368421052631579, 'Recall': 1.0, 'F1 Score': 0.24074074074074073, 'Prediction': [1, 1, 1, 1, 1, 1, 1, 1, 1, 1, 1, 1, 1, 1, 1, 1, 1, 1, 1, 1, 1, 1, 1, 1, 1, 1, 1, 1, 1, 1, 1, 1, 0, 1, 1, 1, 1, 1, 1, 1, 1, 1, 1, 1, 1, 1, 1, 1, 1, 1, 1, 0, 0, 1, 1, 1, 1, 0, 1, 1, 1, 1, 1, 1, 1, 1, 1, 1, 1, 1, 1, 1, 1, 1, 1, 1, 1, 1, 1, 1, 1, 1, 1, 1, 0, 1, 1, 1, 1, 1, 1, 1, 1, 1, 1, 1, 1, 1, 1, 1]}\n",
      "\n",
      "Evaluating Set ID: Set_15_Prop_0.3\n"
     ]
    },
    {
     "name": "stderr",
     "output_type": "stream",
     "text": [
      "Processing predictions: 100%|██████████| 100/100 [00:11<00:00,  8.45it/s]\n",
      "/tmp/ipykernel_6833/3130949446.py:86: FutureWarning: Series.__getitem__ treating keys as positions is deprecated. In a future version, integer keys will always be treated as labels (consistent with DataFrame behavior). To access a value by position, use `ser.iloc[pos]`\n",
      "  answer = row[-1]  # Store the ground truth label\n"
     ]
    },
    {
     "name": "stdout",
     "output_type": "stream",
     "text": [
      "Num of non-numeric or invalid: 0\n",
      "Intermediate results for Run 1: {'Num Features': 30, 'Sample Size': 32, 'Class 1 Proportion': 0.3, 'Set ID': 'Set_15_Prop_0.3', 'Run Number': 1, 'Accuracy': 0.13, 'Precision': 0.13, 'Recall': 1.0, 'F1 Score': 0.23008849557522124, 'Prediction': [1, 1, 1, 1, 1, 1, 1, 1, 1, 1, 1, 1, 1, 1, 1, 1, 1, 1, 1, 1, 1, 1, 1, 1, 1, 1, 1, 1, 1, 1, 1, 1, 1, 1, 1, 1, 1, 1, 1, 1, 1, 1, 1, 1, 1, 1, 1, 1, 1, 1, 1, 1, 1, 1, 1, 1, 1, 1, 1, 1, 1, 1, 1, 1, 1, 1, 1, 1, 1, 1, 1, 1, 1, 1, 1, 1, 1, 1, 1, 1, 1, 1, 1, 1, 1, 1, 1, 1, 1, 1, 1, 1, 1, 1, 1, 1, 1, 1, 1, 1]}\n",
      "\n",
      "Testing with class 1 proportion: 0.5\n",
      "\n",
      "Evaluating Set ID: Set_1_Prop_0.5\n"
     ]
    },
    {
     "name": "stderr",
     "output_type": "stream",
     "text": [
      "Processing predictions: 100%|██████████| 100/100 [00:10<00:00,  9.26it/s]\n",
      "/tmp/ipykernel_6833/3130949446.py:86: FutureWarning: Series.__getitem__ treating keys as positions is deprecated. In a future version, integer keys will always be treated as labels (consistent with DataFrame behavior). To access a value by position, use `ser.iloc[pos]`\n",
      "  answer = row[-1]  # Store the ground truth label\n"
     ]
    },
    {
     "name": "stdout",
     "output_type": "stream",
     "text": [
      "Num of non-numeric or invalid: 0\n",
      "Intermediate results for Run 1: {'Num Features': 30, 'Sample Size': 32, 'Class 1 Proportion': 0.5, 'Set ID': 'Set_1_Prop_0.5', 'Run Number': 1, 'Accuracy': 0.13, 'Precision': 0.13, 'Recall': 1.0, 'F1 Score': 0.23008849557522124, 'Prediction': [1, 1, 1, 1, 1, 1, 1, 1, 1, 1, 1, 1, 1, 1, 1, 1, 1, 1, 1, 1, 1, 1, 1, 1, 1, 1, 1, 1, 1, 1, 1, 1, 1, 1, 1, 1, 1, 1, 1, 1, 1, 1, 1, 1, 1, 1, 1, 1, 1, 1, 1, 1, 1, 1, 1, 1, 1, 1, 1, 1, 1, 1, 1, 1, 1, 1, 1, 1, 1, 1, 1, 1, 1, 1, 1, 1, 1, 1, 1, 1, 1, 1, 1, 1, 1, 1, 1, 1, 1, 1, 1, 1, 1, 1, 1, 1, 1, 1, 1, 1]}\n",
      "\n",
      "Evaluating Set ID: Set_2_Prop_0.5\n"
     ]
    },
    {
     "name": "stderr",
     "output_type": "stream",
     "text": [
      "Processing predictions: 100%|██████████| 100/100 [00:13<00:00,  7.35it/s]\n",
      "/tmp/ipykernel_6833/3130949446.py:86: FutureWarning: Series.__getitem__ treating keys as positions is deprecated. In a future version, integer keys will always be treated as labels (consistent with DataFrame behavior). To access a value by position, use `ser.iloc[pos]`\n",
      "  answer = row[-1]  # Store the ground truth label\n"
     ]
    },
    {
     "name": "stdout",
     "output_type": "stream",
     "text": [
      "Num of non-numeric or invalid: 0\n",
      "Intermediate results for Run 1: {'Num Features': 30, 'Sample Size': 32, 'Class 1 Proportion': 0.5, 'Set ID': 'Set_2_Prop_0.5', 'Run Number': 1, 'Accuracy': 0.13, 'Precision': 0.13, 'Recall': 1.0, 'F1 Score': 0.23008849557522124, 'Prediction': [1, 1, 1, 1, 1, 1, 1, 1, 1, 1, 1, 1, 1, 1, 1, 1, 1, 1, 1, 1, 1, 1, 1, 1, 1, 1, 1, 1, 1, 1, 1, 1, 1, 1, 1, 1, 1, 1, 1, 1, 1, 1, 1, 1, 1, 1, 1, 1, 1, 1, 1, 1, 1, 1, 1, 1, 1, 1, 1, 1, 1, 1, 1, 1, 1, 1, 1, 1, 1, 1, 1, 1, 1, 1, 1, 1, 1, 1, 1, 1, 1, 1, 1, 1, 1, 1, 1, 1, 1, 1, 1, 1, 1, 1, 1, 1, 1, 1, 1, 1]}\n",
      "\n",
      "Evaluating Set ID: Set_3_Prop_0.5\n"
     ]
    },
    {
     "name": "stderr",
     "output_type": "stream",
     "text": [
      "Processing predictions: 100%|██████████| 100/100 [00:10<00:00,  9.09it/s]\n",
      "/tmp/ipykernel_6833/3130949446.py:86: FutureWarning: Series.__getitem__ treating keys as positions is deprecated. In a future version, integer keys will always be treated as labels (consistent with DataFrame behavior). To access a value by position, use `ser.iloc[pos]`\n",
      "  answer = row[-1]  # Store the ground truth label\n"
     ]
    },
    {
     "name": "stdout",
     "output_type": "stream",
     "text": [
      "Num of non-numeric or invalid: 0\n",
      "Intermediate results for Run 1: {'Num Features': 30, 'Sample Size': 32, 'Class 1 Proportion': 0.5, 'Set ID': 'Set_3_Prop_0.5', 'Run Number': 1, 'Accuracy': 0.13, 'Precision': 0.13, 'Recall': 1.0, 'F1 Score': 0.23008849557522124, 'Prediction': [1, 1, 1, 1, 1, 1, 1, 1, 1, 1, 1, 1, 1, 1, 1, 1, 1, 1, 1, 1, 1, 1, 1, 1, 1, 1, 1, 1, 1, 1, 1, 1, 1, 1, 1, 1, 1, 1, 1, 1, 1, 1, 1, 1, 1, 1, 1, 1, 1, 1, 1, 1, 1, 1, 1, 1, 1, 1, 1, 1, 1, 1, 1, 1, 1, 1, 1, 1, 1, 1, 1, 1, 1, 1, 1, 1, 1, 1, 1, 1, 1, 1, 1, 1, 1, 1, 1, 1, 1, 1, 1, 1, 1, 1, 1, 1, 1, 1, 1, 1]}\n",
      "\n",
      "Evaluating Set ID: Set_4_Prop_0.5\n"
     ]
    },
    {
     "name": "stderr",
     "output_type": "stream",
     "text": [
      "Processing predictions: 100%|██████████| 100/100 [00:12<00:00,  7.77it/s]\n",
      "/tmp/ipykernel_6833/3130949446.py:86: FutureWarning: Series.__getitem__ treating keys as positions is deprecated. In a future version, integer keys will always be treated as labels (consistent with DataFrame behavior). To access a value by position, use `ser.iloc[pos]`\n",
      "  answer = row[-1]  # Store the ground truth label\n"
     ]
    },
    {
     "name": "stdout",
     "output_type": "stream",
     "text": [
      "Num of non-numeric or invalid: 0\n",
      "Intermediate results for Run 1: {'Num Features': 30, 'Sample Size': 32, 'Class 1 Proportion': 0.5, 'Set ID': 'Set_4_Prop_0.5', 'Run Number': 1, 'Accuracy': 0.13, 'Precision': 0.13, 'Recall': 1.0, 'F1 Score': 0.23008849557522124, 'Prediction': [1, 1, 1, 1, 1, 1, 1, 1, 1, 1, 1, 1, 1, 1, 1, 1, 1, 1, 1, 1, 1, 1, 1, 1, 1, 1, 1, 1, 1, 1, 1, 1, 1, 1, 1, 1, 1, 1, 1, 1, 1, 1, 1, 1, 1, 1, 1, 1, 1, 1, 1, 1, 1, 1, 1, 1, 1, 1, 1, 1, 1, 1, 1, 1, 1, 1, 1, 1, 1, 1, 1, 1, 1, 1, 1, 1, 1, 1, 1, 1, 1, 1, 1, 1, 1, 1, 1, 1, 1, 1, 1, 1, 1, 1, 1, 1, 1, 1, 1, 1]}\n",
      "\n",
      "Evaluating Set ID: Set_5_Prop_0.5\n"
     ]
    },
    {
     "name": "stderr",
     "output_type": "stream",
     "text": [
      "Processing predictions: 100%|██████████| 100/100 [00:11<00:00,  8.74it/s]\n",
      "/tmp/ipykernel_6833/3130949446.py:86: FutureWarning: Series.__getitem__ treating keys as positions is deprecated. In a future version, integer keys will always be treated as labels (consistent with DataFrame behavior). To access a value by position, use `ser.iloc[pos]`\n",
      "  answer = row[-1]  # Store the ground truth label\n"
     ]
    },
    {
     "name": "stdout",
     "output_type": "stream",
     "text": [
      "Num of non-numeric or invalid: 0\n",
      "Intermediate results for Run 1: {'Num Features': 30, 'Sample Size': 32, 'Class 1 Proportion': 0.5, 'Set ID': 'Set_5_Prop_0.5', 'Run Number': 1, 'Accuracy': 0.13, 'Precision': 0.13, 'Recall': 1.0, 'F1 Score': 0.23008849557522124, 'Prediction': [1, 1, 1, 1, 1, 1, 1, 1, 1, 1, 1, 1, 1, 1, 1, 1, 1, 1, 1, 1, 1, 1, 1, 1, 1, 1, 1, 1, 1, 1, 1, 1, 1, 1, 1, 1, 1, 1, 1, 1, 1, 1, 1, 1, 1, 1, 1, 1, 1, 1, 1, 1, 1, 1, 1, 1, 1, 1, 1, 1, 1, 1, 1, 1, 1, 1, 1, 1, 1, 1, 1, 1, 1, 1, 1, 1, 1, 1, 1, 1, 1, 1, 1, 1, 1, 1, 1, 1, 1, 1, 1, 1, 1, 1, 1, 1, 1, 1, 1, 1]}\n",
      "\n",
      "Evaluating Set ID: Set_6_Prop_0.5\n"
     ]
    },
    {
     "name": "stderr",
     "output_type": "stream",
     "text": [
      "Processing predictions: 100%|██████████| 100/100 [00:10<00:00,  9.22it/s]\n",
      "/tmp/ipykernel_6833/3130949446.py:86: FutureWarning: Series.__getitem__ treating keys as positions is deprecated. In a future version, integer keys will always be treated as labels (consistent with DataFrame behavior). To access a value by position, use `ser.iloc[pos]`\n",
      "  answer = row[-1]  # Store the ground truth label\n"
     ]
    },
    {
     "name": "stdout",
     "output_type": "stream",
     "text": [
      "Num of non-numeric or invalid: 0\n",
      "Intermediate results for Run 1: {'Num Features': 30, 'Sample Size': 32, 'Class 1 Proportion': 0.5, 'Set ID': 'Set_6_Prop_0.5', 'Run Number': 1, 'Accuracy': 0.14, 'Precision': 0.13131313131313133, 'Recall': 1.0, 'F1 Score': 0.23214285714285715, 'Prediction': [1, 1, 1, 1, 1, 1, 1, 1, 1, 1, 1, 1, 1, 1, 1, 1, 1, 1, 1, 1, 1, 1, 1, 1, 1, 1, 1, 1, 1, 1, 1, 1, 1, 1, 1, 1, 1, 1, 1, 1, 1, 1, 1, 1, 1, 1, 1, 1, 1, 1, 1, 1, 1, 1, 0, 1, 1, 1, 1, 1, 1, 1, 1, 1, 1, 1, 1, 1, 1, 1, 1, 1, 1, 1, 1, 1, 1, 1, 1, 1, 1, 1, 1, 1, 1, 1, 1, 1, 1, 1, 1, 1, 1, 1, 1, 1, 1, 1, 1, 1]}\n",
      "\n",
      "Evaluating Set ID: Set_7_Prop_0.5\n"
     ]
    },
    {
     "name": "stderr",
     "output_type": "stream",
     "text": [
      "Processing predictions: 100%|██████████| 100/100 [00:10<00:00,  9.65it/s]\n",
      "/tmp/ipykernel_6833/3130949446.py:86: FutureWarning: Series.__getitem__ treating keys as positions is deprecated. In a future version, integer keys will always be treated as labels (consistent with DataFrame behavior). To access a value by position, use `ser.iloc[pos]`\n",
      "  answer = row[-1]  # Store the ground truth label\n"
     ]
    },
    {
     "name": "stdout",
     "output_type": "stream",
     "text": [
      "Num of non-numeric or invalid: 0\n",
      "Intermediate results for Run 1: {'Num Features': 30, 'Sample Size': 32, 'Class 1 Proportion': 0.5, 'Set ID': 'Set_7_Prop_0.5', 'Run Number': 1, 'Accuracy': 0.13, 'Precision': 0.13, 'Recall': 1.0, 'F1 Score': 0.23008849557522124, 'Prediction': [1, 1, 1, 1, 1, 1, 1, 1, 1, 1, 1, 1, 1, 1, 1, 1, 1, 1, 1, 1, 1, 1, 1, 1, 1, 1, 1, 1, 1, 1, 1, 1, 1, 1, 1, 1, 1, 1, 1, 1, 1, 1, 1, 1, 1, 1, 1, 1, 1, 1, 1, 1, 1, 1, 1, 1, 1, 1, 1, 1, 1, 1, 1, 1, 1, 1, 1, 1, 1, 1, 1, 1, 1, 1, 1, 1, 1, 1, 1, 1, 1, 1, 1, 1, 1, 1, 1, 1, 1, 1, 1, 1, 1, 1, 1, 1, 1, 1, 1, 1]}\n",
      "\n",
      "Evaluating Set ID: Set_8_Prop_0.5\n"
     ]
    },
    {
     "name": "stderr",
     "output_type": "stream",
     "text": [
      "Processing predictions: 100%|██████████| 100/100 [00:10<00:00,  9.36it/s]\n",
      "/tmp/ipykernel_6833/3130949446.py:86: FutureWarning: Series.__getitem__ treating keys as positions is deprecated. In a future version, integer keys will always be treated as labels (consistent with DataFrame behavior). To access a value by position, use `ser.iloc[pos]`\n",
      "  answer = row[-1]  # Store the ground truth label\n"
     ]
    },
    {
     "name": "stdout",
     "output_type": "stream",
     "text": [
      "Num of non-numeric or invalid: 0\n",
      "Intermediate results for Run 1: {'Num Features': 30, 'Sample Size': 32, 'Class 1 Proportion': 0.5, 'Set ID': 'Set_8_Prop_0.5', 'Run Number': 1, 'Accuracy': 0.14, 'Precision': 0.13131313131313133, 'Recall': 1.0, 'F1 Score': 0.23214285714285715, 'Prediction': [1, 1, 1, 1, 1, 1, 1, 1, 1, 1, 1, 1, 1, 1, 1, 1, 1, 1, 1, 1, 1, 1, 1, 1, 1, 1, 1, 1, 1, 1, 1, 1, 1, 1, 1, 1, 1, 1, 1, 1, 1, 1, 1, 1, 1, 1, 1, 1, 1, 1, 1, 1, 1, 1, 1, 1, 1, 1, 1, 1, 1, 1, 1, 1, 1, 1, 1, 1, 1, 1, 1, 1, 1, 1, 1, 0, 1, 1, 1, 1, 1, 1, 1, 1, 1, 1, 1, 1, 1, 1, 1, 1, 1, 1, 1, 1, 1, 1, 1, 1]}\n",
      "\n",
      "Evaluating Set ID: Set_9_Prop_0.5\n"
     ]
    },
    {
     "name": "stderr",
     "output_type": "stream",
     "text": [
      "Processing predictions: 100%|██████████| 100/100 [00:10<00:00,  9.35it/s]\n",
      "/tmp/ipykernel_6833/3130949446.py:86: FutureWarning: Series.__getitem__ treating keys as positions is deprecated. In a future version, integer keys will always be treated as labels (consistent with DataFrame behavior). To access a value by position, use `ser.iloc[pos]`\n",
      "  answer = row[-1]  # Store the ground truth label\n"
     ]
    },
    {
     "name": "stdout",
     "output_type": "stream",
     "text": [
      "Num of non-numeric or invalid: 0\n",
      "Intermediate results for Run 1: {'Num Features': 30, 'Sample Size': 32, 'Class 1 Proportion': 0.5, 'Set ID': 'Set_9_Prop_0.5', 'Run Number': 1, 'Accuracy': 0.13, 'Precision': 0.13, 'Recall': 1.0, 'F1 Score': 0.23008849557522124, 'Prediction': [1, 1, 1, 1, 1, 1, 1, 1, 1, 1, 1, 1, 1, 1, 1, 1, 1, 1, 1, 1, 1, 1, 1, 1, 1, 1, 1, 1, 1, 1, 1, 1, 1, 1, 1, 1, 1, 1, 1, 1, 1, 1, 1, 1, 1, 1, 1, 1, 1, 1, 1, 1, 1, 1, 1, 1, 1, 1, 1, 1, 1, 1, 1, 1, 1, 1, 1, 1, 1, 1, 1, 1, 1, 1, 1, 1, 1, 1, 1, 1, 1, 1, 1, 1, 1, 1, 1, 1, 1, 1, 1, 1, 1, 1, 1, 1, 1, 1, 1, 1]}\n",
      "\n",
      "Evaluating Set ID: Set_10_Prop_0.5\n"
     ]
    },
    {
     "name": "stderr",
     "output_type": "stream",
     "text": [
      "Processing predictions: 100%|██████████| 100/100 [00:11<00:00,  8.93it/s]\n",
      "/tmp/ipykernel_6833/3130949446.py:86: FutureWarning: Series.__getitem__ treating keys as positions is deprecated. In a future version, integer keys will always be treated as labels (consistent with DataFrame behavior). To access a value by position, use `ser.iloc[pos]`\n",
      "  answer = row[-1]  # Store the ground truth label\n"
     ]
    },
    {
     "name": "stdout",
     "output_type": "stream",
     "text": [
      "Num of non-numeric or invalid: 0\n",
      "Intermediate results for Run 1: {'Num Features': 30, 'Sample Size': 32, 'Class 1 Proportion': 0.5, 'Set ID': 'Set_10_Prop_0.5', 'Run Number': 1, 'Accuracy': 0.13, 'Precision': 0.13, 'Recall': 1.0, 'F1 Score': 0.23008849557522124, 'Prediction': [1, 1, 1, 1, 1, 1, 1, 1, 1, 1, 1, 1, 1, 1, 1, 1, 1, 1, 1, 1, 1, 1, 1, 1, 1, 1, 1, 1, 1, 1, 1, 1, 1, 1, 1, 1, 1, 1, 1, 1, 1, 1, 1, 1, 1, 1, 1, 1, 1, 1, 1, 1, 1, 1, 1, 1, 1, 1, 1, 1, 1, 1, 1, 1, 1, 1, 1, 1, 1, 1, 1, 1, 1, 1, 1, 1, 1, 1, 1, 1, 1, 1, 1, 1, 1, 1, 1, 1, 1, 1, 1, 1, 1, 1, 1, 1, 1, 1, 1, 1]}\n",
      "\n",
      "Evaluating Set ID: Set_11_Prop_0.5\n"
     ]
    },
    {
     "name": "stderr",
     "output_type": "stream",
     "text": [
      "Processing predictions: 100%|██████████| 100/100 [00:13<00:00,  7.30it/s]\n",
      "/tmp/ipykernel_6833/3130949446.py:86: FutureWarning: Series.__getitem__ treating keys as positions is deprecated. In a future version, integer keys will always be treated as labels (consistent with DataFrame behavior). To access a value by position, use `ser.iloc[pos]`\n",
      "  answer = row[-1]  # Store the ground truth label\n"
     ]
    },
    {
     "name": "stdout",
     "output_type": "stream",
     "text": [
      "Num of non-numeric or invalid: 0\n",
      "Intermediate results for Run 1: {'Num Features': 30, 'Sample Size': 32, 'Class 1 Proportion': 0.5, 'Set ID': 'Set_11_Prop_0.5', 'Run Number': 1, 'Accuracy': 0.13, 'Precision': 0.13, 'Recall': 1.0, 'F1 Score': 0.23008849557522124, 'Prediction': [1, 1, 1, 1, 1, 1, 1, 1, 1, 1, 1, 1, 1, 1, 1, 1, 1, 1, 1, 1, 1, 1, 1, 1, 1, 1, 1, 1, 1, 1, 1, 1, 1, 1, 1, 1, 1, 1, 1, 1, 1, 1, 1, 1, 1, 1, 1, 1, 1, 1, 1, 1, 1, 1, 1, 1, 1, 1, 1, 1, 1, 1, 1, 1, 1, 1, 1, 1, 1, 1, 1, 1, 1, 1, 1, 1, 1, 1, 1, 1, 1, 1, 1, 1, 1, 1, 1, 1, 1, 1, 1, 1, 1, 1, 1, 1, 1, 1, 1, 1]}\n",
      "\n",
      "Evaluating Set ID: Set_12_Prop_0.5\n"
     ]
    },
    {
     "name": "stderr",
     "output_type": "stream",
     "text": [
      "Processing predictions: 100%|██████████| 100/100 [00:11<00:00,  8.75it/s]\n",
      "/tmp/ipykernel_6833/3130949446.py:86: FutureWarning: Series.__getitem__ treating keys as positions is deprecated. In a future version, integer keys will always be treated as labels (consistent with DataFrame behavior). To access a value by position, use `ser.iloc[pos]`\n",
      "  answer = row[-1]  # Store the ground truth label\n"
     ]
    },
    {
     "name": "stdout",
     "output_type": "stream",
     "text": [
      "Num of non-numeric or invalid: 0\n",
      "Intermediate results for Run 1: {'Num Features': 30, 'Sample Size': 32, 'Class 1 Proportion': 0.5, 'Set ID': 'Set_12_Prop_0.5', 'Run Number': 1, 'Accuracy': 0.15, 'Precision': 0.125, 'Recall': 0.9230769230769231, 'F1 Score': 0.22018348623853212, 'Prediction': [1, 1, 1, 1, 1, 1, 1, 0, 1, 1, 1, 1, 1, 1, 1, 1, 1, 1, 1, 1, 1, 1, 1, 1, 0, 1, 1, 1, 1, 1, 0, 1, 1, 1, 1, 1, 1, 1, 1, 1, 1, 1, 1, 1, 1, 1, 1, 1, 1, 1, 1, 1, 1, 1, 1, 1, 1, 1, 1, 1, 1, 1, 1, 1, 1, 1, 1, 1, 1, 1, 1, 1, 1, 1, 1, 1, 1, 1, 1, 1, 1, 1, 1, 1, 1, 1, 1, 1, 1, 1, 1, 1, 0, 1, 1, 1, 1, 1, 1, 1]}\n",
      "\n",
      "Evaluating Set ID: Set_13_Prop_0.5\n"
     ]
    },
    {
     "name": "stderr",
     "output_type": "stream",
     "text": [
      "Processing predictions: 100%|██████████| 100/100 [00:11<00:00,  8.89it/s]\n",
      "/tmp/ipykernel_6833/3130949446.py:86: FutureWarning: Series.__getitem__ treating keys as positions is deprecated. In a future version, integer keys will always be treated as labels (consistent with DataFrame behavior). To access a value by position, use `ser.iloc[pos]`\n",
      "  answer = row[-1]  # Store the ground truth label\n"
     ]
    },
    {
     "name": "stdout",
     "output_type": "stream",
     "text": [
      "Num of non-numeric or invalid: 0\n",
      "Intermediate results for Run 1: {'Num Features': 30, 'Sample Size': 32, 'Class 1 Proportion': 0.5, 'Set ID': 'Set_13_Prop_0.5', 'Run Number': 1, 'Accuracy': 0.13, 'Precision': 0.13, 'Recall': 1.0, 'F1 Score': 0.23008849557522124, 'Prediction': [1, 1, 1, 1, 1, 1, 1, 1, 1, 1, 1, 1, 1, 1, 1, 1, 1, 1, 1, 1, 1, 1, 1, 1, 1, 1, 1, 1, 1, 1, 1, 1, 1, 1, 1, 1, 1, 1, 1, 1, 1, 1, 1, 1, 1, 1, 1, 1, 1, 1, 1, 1, 1, 1, 1, 1, 1, 1, 1, 1, 1, 1, 1, 1, 1, 1, 1, 1, 1, 1, 1, 1, 1, 1, 1, 1, 1, 1, 1, 1, 1, 1, 1, 1, 1, 1, 1, 1, 1, 1, 1, 1, 1, 1, 1, 1, 1, 1, 1, 1]}\n",
      "\n",
      "Evaluating Set ID: Set_14_Prop_0.5\n"
     ]
    },
    {
     "name": "stderr",
     "output_type": "stream",
     "text": [
      "Processing predictions: 100%|██████████| 100/100 [00:10<00:00,  9.23it/s]\n",
      "/tmp/ipykernel_6833/3130949446.py:86: FutureWarning: Series.__getitem__ treating keys as positions is deprecated. In a future version, integer keys will always be treated as labels (consistent with DataFrame behavior). To access a value by position, use `ser.iloc[pos]`\n",
      "  answer = row[-1]  # Store the ground truth label\n"
     ]
    },
    {
     "name": "stdout",
     "output_type": "stream",
     "text": [
      "Num of non-numeric or invalid: 0\n",
      "Intermediate results for Run 1: {'Num Features': 30, 'Sample Size': 32, 'Class 1 Proportion': 0.5, 'Set ID': 'Set_14_Prop_0.5', 'Run Number': 1, 'Accuracy': 0.13, 'Precision': 0.13, 'Recall': 1.0, 'F1 Score': 0.23008849557522124, 'Prediction': [1, 1, 1, 1, 1, 1, 1, 1, 1, 1, 1, 1, 1, 1, 1, 1, 1, 1, 1, 1, 1, 1, 1, 1, 1, 1, 1, 1, 1, 1, 1, 1, 1, 1, 1, 1, 1, 1, 1, 1, 1, 1, 1, 1, 1, 1, 1, 1, 1, 1, 1, 1, 1, 1, 1, 1, 1, 1, 1, 1, 1, 1, 1, 1, 1, 1, 1, 1, 1, 1, 1, 1, 1, 1, 1, 1, 1, 1, 1, 1, 1, 1, 1, 1, 1, 1, 1, 1, 1, 1, 1, 1, 1, 1, 1, 1, 1, 1, 1, 1]}\n",
      "\n",
      "Evaluating Set ID: Set_15_Prop_0.5\n"
     ]
    },
    {
     "name": "stderr",
     "output_type": "stream",
     "text": [
      "Processing predictions: 100%|██████████| 100/100 [00:10<00:00,  9.10it/s]"
     ]
    },
    {
     "name": "stdout",
     "output_type": "stream",
     "text": [
      "Num of non-numeric or invalid: 0\n",
      "Intermediate results for Run 1: {'Num Features': 30, 'Sample Size': 32, 'Class 1 Proportion': 0.5, 'Set ID': 'Set_15_Prop_0.5', 'Run Number': 1, 'Accuracy': 0.13, 'Precision': 0.13, 'Recall': 1.0, 'F1 Score': 0.23008849557522124, 'Prediction': [1, 1, 1, 1, 1, 1, 1, 1, 1, 1, 1, 1, 1, 1, 1, 1, 1, 1, 1, 1, 1, 1, 1, 1, 1, 1, 1, 1, 1, 1, 1, 1, 1, 1, 1, 1, 1, 1, 1, 1, 1, 1, 1, 1, 1, 1, 1, 1, 1, 1, 1, 1, 1, 1, 1, 1, 1, 1, 1, 1, 1, 1, 1, 1, 1, 1, 1, 1, 1, 1, 1, 1, 1, 1, 1, 1, 1, 1, 1, 1, 1, 1, 1, 1, 1, 1, 1, 1, 1, 1, 1, 1, 1, 1, 1, 1, 1, 1, 1, 1]}\n",
      "\n",
      "All experiments completed.\n",
      "Results for sample_size=32 saved as experiments_result_t_table_show_32.csv\n"
     ]
    },
    {
     "name": "stderr",
     "output_type": "stream",
     "text": [
      "\n"
     ]
    }
   ],
   "source": [
    "# Run t-table experiments\n",
    "proportions = [0.1, 0.3, 0.5]\n",
    "# sample_sizes = [16, 32]\n",
    "sample_sizes = [16, 32]\n",
    "\n",
    "# Initialize OpenAI client\n",
    "client = openai.OpenAI(api_key='API-KEY')\n",
    "\n",
    "for sample_size in sample_sizes:\n",
    "    experiment_results, stored_in_context_sets = run_experiments(\n",
    "        feature_imp_ohe, test_ohe_100, client, train_ohe,\n",
    "        sample_size=sample_size, proportions=proportions,\n",
    "        feature_set_sizes=[5, 10, 20, 30], num_sets=15,\n",
    "        run_multiple=False, table_format=\"t-table\"\n",
    "    )\n",
    "\n",
    "    file_name = f\"experiments_result_t_table_show_{sample_size}.csv\"\n",
    "    experiment_results.to_csv(file_name, index=False)\n",
    "    print(f\"Results for sample_size={sample_size} saved as {file_name}\")"
   ]
  },
  {
   "cell_type": "code",
   "execution_count": 5,
   "metadata": {},
   "outputs": [
    {
     "name": "stderr",
     "output_type": "stream",
     "text": [
      "/tmp/ipykernel_6833/3130949446.py:86: FutureWarning: Series.__getitem__ treating keys as positions is deprecated. In a future version, integer keys will always be treated as labels (consistent with DataFrame behavior). To access a value by position, use `ser.iloc[pos]`\n",
      "  answer = row[-1]  # Store the ground truth label\n"
     ]
    },
    {
     "name": "stdout",
     "output_type": "stream",
     "text": [
      "\n",
      "Starting experiments for top 5 features...\n",
      "\n",
      "Testing with class 1 proportion: 0.1\n",
      "\n",
      "Evaluating Set ID: Set_1_Prop_0.1\n"
     ]
    },
    {
     "name": "stderr",
     "output_type": "stream",
     "text": [
      "Processing predictions: 100%|██████████| 100/100 [00:08<00:00, 11.27it/s]\n",
      "/tmp/ipykernel_6833/3130949446.py:86: FutureWarning: Series.__getitem__ treating keys as positions is deprecated. In a future version, integer keys will always be treated as labels (consistent with DataFrame behavior). To access a value by position, use `ser.iloc[pos]`\n",
      "  answer = row[-1]  # Store the ground truth label\n"
     ]
    },
    {
     "name": "stdout",
     "output_type": "stream",
     "text": [
      "Num of non-numeric or invalid: 0\n",
      "Intermediate results for Run 1: {'Num Features': 5, 'Sample Size': 48, 'Class 1 Proportion': 0.1, 'Set ID': 'Set_1_Prop_0.1', 'Run Number': 1, 'Accuracy': 0.86, 'Precision': 0.3333333333333333, 'Recall': 0.07692307692307693, 'F1 Score': 0.125, 'Prediction': [0, 0, 0, 0, 0, 0, 0, 1, 0, 0, 0, 0, 0, 0, 0, 0, 0, 0, 0, 0, 0, 0, 0, 0, 0, 0, 0, 0, 0, 0, 0, 0, 0, 0, 0, 0, 0, 0, 0, 0, 0, 0, 0, 0, 0, 0, 0, 0, 0, 0, 0, 0, 0, 0, 0, 0, 0, 0, 0, 0, 0, 0, 0, 0, 0, 0, 0, 0, 0, 1, 0, 1, 0, 0, 0, 0, 0, 0, 0, 0, 0, 0, 0, 0, 0, 0, 0, 0, 0, 0, 0, 0, 0, 0, 0, 0, 0, 0, 0, 0]}\n",
      "\n",
      "Evaluating Set ID: Set_2_Prop_0.1\n"
     ]
    },
    {
     "name": "stderr",
     "output_type": "stream",
     "text": [
      "Processing predictions: 100%|██████████| 100/100 [00:07<00:00, 14.18it/s]\n",
      "/tmp/ipykernel_6833/3130949446.py:86: FutureWarning: Series.__getitem__ treating keys as positions is deprecated. In a future version, integer keys will always be treated as labels (consistent with DataFrame behavior). To access a value by position, use `ser.iloc[pos]`\n",
      "  answer = row[-1]  # Store the ground truth label\n"
     ]
    },
    {
     "name": "stdout",
     "output_type": "stream",
     "text": [
      "Num of non-numeric or invalid: 0\n",
      "Intermediate results for Run 1: {'Num Features': 5, 'Sample Size': 48, 'Class 1 Proportion': 0.1, 'Set ID': 'Set_2_Prop_0.1', 'Run Number': 1, 'Accuracy': 0.71, 'Precision': 0.16666666666666666, 'Recall': 0.3076923076923077, 'F1 Score': 0.21621621621621623, 'Prediction': [1, 0, 0, 0, 0, 1, 0, 1, 0, 0, 0, 0, 0, 0, 0, 1, 0, 0, 0, 1, 0, 0, 0, 0, 0, 0, 1, 1, 1, 0, 0, 0, 0, 0, 0, 1, 0, 0, 0, 0, 0, 1, 1, 0, 0, 0, 1, 0, 0, 0, 1, 1, 0, 1, 0, 0, 0, 0, 0, 0, 0, 0, 0, 0, 0, 0, 1, 0, 0, 0, 0, 1, 0, 0, 0, 0, 0, 0, 0, 1, 0, 1, 1, 0, 1, 0, 0, 0, 0, 1, 0, 1, 0, 1, 0, 0, 0, 0, 0, 0]}\n",
      "\n",
      "Evaluating Set ID: Set_3_Prop_0.1\n"
     ]
    },
    {
     "name": "stderr",
     "output_type": "stream",
     "text": [
      "Processing predictions: 100%|██████████| 100/100 [00:06<00:00, 14.38it/s]\n",
      "/tmp/ipykernel_6833/3130949446.py:86: FutureWarning: Series.__getitem__ treating keys as positions is deprecated. In a future version, integer keys will always be treated as labels (consistent with DataFrame behavior). To access a value by position, use `ser.iloc[pos]`\n",
      "  answer = row[-1]  # Store the ground truth label\n"
     ]
    },
    {
     "name": "stdout",
     "output_type": "stream",
     "text": [
      "Num of non-numeric or invalid: 0\n",
      "Intermediate results for Run 1: {'Num Features': 5, 'Sample Size': 48, 'Class 1 Proportion': 0.1, 'Set ID': 'Set_3_Prop_0.1', 'Run Number': 1, 'Accuracy': 0.61, 'Precision': 0.175, 'Recall': 0.5384615384615384, 'F1 Score': 0.2641509433962264, 'Prediction': [1, 0, 0, 0, 1, 0, 1, 0, 0, 0, 0, 1, 1, 0, 0, 0, 1, 0, 1, 1, 0, 0, 0, 0, 0, 0, 1, 1, 1, 0, 1, 0, 0, 0, 0, 1, 0, 0, 1, 0, 1, 1, 0, 1, 0, 0, 0, 0, 0, 0, 0, 1, 1, 0, 1, 0, 1, 0, 0, 0, 0, 1, 0, 0, 1, 1, 1, 1, 0, 1, 0, 1, 1, 0, 0, 0, 0, 0, 0, 1, 1, 1, 1, 0, 0, 0, 1, 0, 1, 0, 0, 0, 1, 1, 1, 0, 0, 0, 1, 1]}\n",
      "\n",
      "Evaluating Set ID: Set_4_Prop_0.1\n"
     ]
    },
    {
     "name": "stderr",
     "output_type": "stream",
     "text": [
      "Processing predictions: 100%|██████████| 100/100 [00:14<00:00,  6.96it/s]\n",
      "/tmp/ipykernel_6833/3130949446.py:86: FutureWarning: Series.__getitem__ treating keys as positions is deprecated. In a future version, integer keys will always be treated as labels (consistent with DataFrame behavior). To access a value by position, use `ser.iloc[pos]`\n",
      "  answer = row[-1]  # Store the ground truth label\n"
     ]
    },
    {
     "name": "stdout",
     "output_type": "stream",
     "text": [
      "Num of non-numeric or invalid: 0\n",
      "Intermediate results for Run 1: {'Num Features': 5, 'Sample Size': 48, 'Class 1 Proportion': 0.1, 'Set ID': 'Set_4_Prop_0.1', 'Run Number': 1, 'Accuracy': 0.85, 'Precision': 0.25, 'Recall': 0.07692307692307693, 'F1 Score': 0.11764705882352941, 'Prediction': [1, 0, 0, 0, 0, 0, 0, 0, 0, 0, 0, 0, 0, 0, 0, 0, 0, 0, 0, 0, 0, 0, 0, 0, 0, 0, 0, 0, 0, 0, 0, 0, 0, 0, 0, 0, 0, 0, 0, 0, 0, 0, 0, 0, 0, 0, 0, 0, 0, 0, 0, 0, 0, 0, 0, 0, 0, 0, 0, 0, 0, 0, 0, 0, 0, 0, 0, 0, 0, 0, 0, 1, 0, 0, 0, 0, 0, 0, 0, 0, 0, 0, 0, 0, 0, 0, 0, 0, 0, 0, 0, 0, 0, 0, 1, 0, 1, 0, 0, 0]}\n",
      "\n",
      "Evaluating Set ID: Set_5_Prop_0.1\n"
     ]
    },
    {
     "name": "stderr",
     "output_type": "stream",
     "text": [
      "Processing predictions: 100%|██████████| 100/100 [00:07<00:00, 13.01it/s]\n",
      "/tmp/ipykernel_6833/3130949446.py:86: FutureWarning: Series.__getitem__ treating keys as positions is deprecated. In a future version, integer keys will always be treated as labels (consistent with DataFrame behavior). To access a value by position, use `ser.iloc[pos]`\n",
      "  answer = row[-1]  # Store the ground truth label\n"
     ]
    },
    {
     "name": "stdout",
     "output_type": "stream",
     "text": [
      "Num of non-numeric or invalid: 0\n",
      "Intermediate results for Run 1: {'Num Features': 5, 'Sample Size': 48, 'Class 1 Proportion': 0.1, 'Set ID': 'Set_5_Prop_0.1', 'Run Number': 1, 'Accuracy': 0.71, 'Precision': 0.19230769230769232, 'Recall': 0.38461538461538464, 'F1 Score': 0.2564102564102564, 'Prediction': [0, 0, 1, 1, 0, 0, 0, 0, 0, 0, 0, 1, 1, 0, 0, 0, 0, 0, 0, 1, 0, 0, 0, 0, 0, 0, 0, 0, 0, 0, 1, 0, 0, 0, 0, 1, 0, 0, 0, 1, 1, 0, 0, 0, 0, 0, 0, 0, 0, 0, 0, 0, 0, 0, 1, 0, 0, 0, 0, 0, 0, 1, 0, 0, 1, 0, 1, 1, 0, 0, 0, 1, 1, 0, 0, 0, 0, 0, 0, 1, 1, 1, 1, 0, 0, 0, 1, 0, 1, 0, 0, 0, 0, 1, 0, 1, 0, 1, 1, 0]}\n",
      "\n",
      "Testing with class 1 proportion: 0.3\n",
      "\n",
      "Evaluating Set ID: Set_1_Prop_0.3\n"
     ]
    },
    {
     "name": "stderr",
     "output_type": "stream",
     "text": [
      "Processing predictions: 100%|██████████| 100/100 [00:07<00:00, 12.86it/s]\n",
      "/tmp/ipykernel_6833/3130949446.py:86: FutureWarning: Series.__getitem__ treating keys as positions is deprecated. In a future version, integer keys will always be treated as labels (consistent with DataFrame behavior). To access a value by position, use `ser.iloc[pos]`\n",
      "  answer = row[-1]  # Store the ground truth label\n"
     ]
    },
    {
     "name": "stdout",
     "output_type": "stream",
     "text": [
      "Num of non-numeric or invalid: 0\n",
      "Intermediate results for Run 1: {'Num Features': 5, 'Sample Size': 48, 'Class 1 Proportion': 0.3, 'Set ID': 'Set_1_Prop_0.3', 'Run Number': 1, 'Accuracy': 0.74, 'Precision': 0.19047619047619047, 'Recall': 0.3076923076923077, 'F1 Score': 0.23529411764705882, 'Prediction': [0, 0, 0, 1, 1, 0, 0, 0, 0, 1, 0, 0, 0, 0, 0, 0, 0, 0, 0, 1, 0, 0, 0, 0, 0, 0, 1, 0, 1, 0, 0, 0, 0, 0, 1, 0, 0, 0, 1, 0, 0, 1, 0, 0, 0, 0, 0, 0, 0, 0, 0, 0, 1, 0, 1, 1, 1, 0, 0, 0, 0, 0, 0, 0, 1, 0, 1, 1, 0, 0, 0, 0, 0, 0, 0, 0, 0, 0, 1, 0, 0, 1, 0, 1, 0, 0, 0, 0, 0, 1, 1, 0, 0, 0, 0, 0, 0, 0, 0, 0]}\n",
      "\n",
      "Evaluating Set ID: Set_2_Prop_0.3\n"
     ]
    },
    {
     "name": "stderr",
     "output_type": "stream",
     "text": [
      "Processing predictions: 100%|██████████| 100/100 [00:06<00:00, 15.26it/s]\n",
      "/tmp/ipykernel_6833/3130949446.py:86: FutureWarning: Series.__getitem__ treating keys as positions is deprecated. In a future version, integer keys will always be treated as labels (consistent with DataFrame behavior). To access a value by position, use `ser.iloc[pos]`\n",
      "  answer = row[-1]  # Store the ground truth label\n"
     ]
    },
    {
     "name": "stdout",
     "output_type": "stream",
     "text": [
      "Num of non-numeric or invalid: 0\n",
      "Intermediate results for Run 1: {'Num Features': 5, 'Sample Size': 48, 'Class 1 Proportion': 0.3, 'Set ID': 'Set_2_Prop_0.3', 'Run Number': 1, 'Accuracy': 0.19, 'Precision': 0.13043478260869565, 'Recall': 0.9230769230769231, 'F1 Score': 0.22857142857142856, 'Prediction': [1, 1, 1, 1, 1, 0, 1, 1, 1, 1, 1, 1, 1, 1, 0, 1, 1, 1, 1, 1, 1, 1, 0, 1, 1, 1, 0, 1, 1, 1, 1, 1, 1, 1, 1, 1, 1, 1, 1, 1, 1, 0, 1, 1, 1, 1, 1, 1, 1, 1, 1, 1, 1, 1, 1, 1, 0, 1, 1, 1, 1, 1, 1, 1, 1, 1, 1, 1, 0, 1, 1, 1, 1, 1, 1, 1, 1, 1, 1, 1, 1, 1, 1, 1, 1, 1, 1, 1, 1, 1, 1, 0, 1, 1, 1, 1, 1, 1, 1, 1]}\n",
      "\n",
      "Evaluating Set ID: Set_3_Prop_0.3\n"
     ]
    },
    {
     "name": "stderr",
     "output_type": "stream",
     "text": [
      "Processing predictions: 100%|██████████| 100/100 [00:06<00:00, 14.83it/s]\n",
      "/tmp/ipykernel_6833/3130949446.py:86: FutureWarning: Series.__getitem__ treating keys as positions is deprecated. In a future version, integer keys will always be treated as labels (consistent with DataFrame behavior). To access a value by position, use `ser.iloc[pos]`\n",
      "  answer = row[-1]  # Store the ground truth label\n"
     ]
    },
    {
     "name": "stdout",
     "output_type": "stream",
     "text": [
      "Num of non-numeric or invalid: 0\n",
      "Intermediate results for Run 1: {'Num Features': 5, 'Sample Size': 48, 'Class 1 Proportion': 0.3, 'Set ID': 'Set_3_Prop_0.3', 'Run Number': 1, 'Accuracy': 0.7, 'Precision': 0.16, 'Recall': 0.3076923076923077, 'F1 Score': 0.21052631578947367, 'Prediction': [1, 0, 1, 0, 0, 0, 0, 0, 0, 0, 0, 0, 0, 0, 0, 0, 1, 0, 0, 1, 0, 0, 0, 0, 0, 0, 0, 0, 1, 0, 0, 0, 1, 0, 1, 0, 1, 1, 0, 0, 0, 1, 1, 0, 0, 0, 0, 0, 0, 0, 0, 1, 0, 0, 1, 0, 1, 0, 0, 0, 1, 0, 1, 0, 0, 1, 0, 1, 0, 0, 1, 0, 0, 0, 0, 0, 0, 0, 0, 1, 0, 1, 1, 0, 0, 0, 0, 0, 1, 1, 0, 0, 0, 0, 0, 1, 0, 0, 0, 0]}\n",
      "\n",
      "Evaluating Set ID: Set_4_Prop_0.3\n"
     ]
    },
    {
     "name": "stderr",
     "output_type": "stream",
     "text": [
      "Processing predictions: 100%|██████████| 100/100 [00:06<00:00, 15.60it/s]\n",
      "/tmp/ipykernel_6833/3130949446.py:86: FutureWarning: Series.__getitem__ treating keys as positions is deprecated. In a future version, integer keys will always be treated as labels (consistent with DataFrame behavior). To access a value by position, use `ser.iloc[pos]`\n",
      "  answer = row[-1]  # Store the ground truth label\n"
     ]
    },
    {
     "name": "stdout",
     "output_type": "stream",
     "text": [
      "Num of non-numeric or invalid: 0\n",
      "Intermediate results for Run 1: {'Num Features': 5, 'Sample Size': 48, 'Class 1 Proportion': 0.3, 'Set ID': 'Set_4_Prop_0.3', 'Run Number': 1, 'Accuracy': 0.13, 'Precision': 0.13, 'Recall': 1.0, 'F1 Score': 0.23008849557522124, 'Prediction': [1, 1, 1, 1, 1, 1, 1, 1, 1, 1, 1, 1, 1, 1, 1, 1, 1, 1, 1, 1, 1, 1, 1, 1, 1, 1, 1, 1, 1, 1, 1, 1, 1, 1, 1, 1, 1, 1, 1, 1, 1, 1, 1, 1, 1, 1, 1, 1, 1, 1, 1, 1, 1, 1, 1, 1, 1, 1, 1, 1, 1, 1, 1, 1, 1, 1, 1, 1, 1, 1, 1, 1, 1, 1, 1, 1, 1, 1, 1, 1, 1, 1, 1, 1, 1, 1, 1, 1, 1, 1, 1, 1, 1, 1, 1, 1, 1, 1, 1, 1]}\n",
      "\n",
      "Evaluating Set ID: Set_5_Prop_0.3\n"
     ]
    },
    {
     "name": "stderr",
     "output_type": "stream",
     "text": [
      "Processing predictions: 100%|██████████| 100/100 [00:09<00:00, 10.58it/s]\n",
      "/tmp/ipykernel_6833/3130949446.py:86: FutureWarning: Series.__getitem__ treating keys as positions is deprecated. In a future version, integer keys will always be treated as labels (consistent with DataFrame behavior). To access a value by position, use `ser.iloc[pos]`\n",
      "  answer = row[-1]  # Store the ground truth label\n"
     ]
    },
    {
     "name": "stdout",
     "output_type": "stream",
     "text": [
      "Num of non-numeric or invalid: 0\n",
      "Intermediate results for Run 1: {'Num Features': 5, 'Sample Size': 48, 'Class 1 Proportion': 0.3, 'Set ID': 'Set_5_Prop_0.3', 'Run Number': 1, 'Accuracy': 0.29, 'Precision': 0.1375, 'Recall': 0.8461538461538461, 'F1 Score': 0.23655913978494625, 'Prediction': [1, 1, 1, 1, 1, 1, 1, 1, 1, 1, 1, 0, 0, 0, 1, 1, 1, 1, 1, 1, 1, 1, 1, 1, 1, 1, 1, 1, 1, 1, 1, 0, 1, 1, 1, 1, 1, 1, 1, 1, 1, 0, 1, 1, 0, 1, 1, 1, 0, 1, 1, 0, 1, 1, 1, 1, 1, 0, 1, 1, 0, 1, 1, 1, 1, 0, 1, 1, 1, 1, 1, 1, 0, 1, 1, 1, 1, 1, 1, 1, 1, 1, 0, 0, 1, 0, 1, 1, 1, 1, 1, 1, 1, 1, 0, 0, 0, 1, 0, 0]}\n",
      "\n",
      "Testing with class 1 proportion: 0.5\n",
      "\n",
      "Evaluating Set ID: Set_1_Prop_0.5\n"
     ]
    },
    {
     "name": "stderr",
     "output_type": "stream",
     "text": [
      "Processing predictions: 100%|██████████| 100/100 [00:07<00:00, 13.83it/s]\n",
      "/tmp/ipykernel_6833/3130949446.py:86: FutureWarning: Series.__getitem__ treating keys as positions is deprecated. In a future version, integer keys will always be treated as labels (consistent with DataFrame behavior). To access a value by position, use `ser.iloc[pos]`\n",
      "  answer = row[-1]  # Store the ground truth label\n"
     ]
    },
    {
     "name": "stdout",
     "output_type": "stream",
     "text": [
      "Num of non-numeric or invalid: 0\n",
      "Intermediate results for Run 1: {'Num Features': 5, 'Sample Size': 48, 'Class 1 Proportion': 0.5, 'Set ID': 'Set_1_Prop_0.5', 'Run Number': 1, 'Accuracy': 0.21, 'Precision': 0.14130434782608695, 'Recall': 1.0, 'F1 Score': 0.24761904761904763, 'Prediction': [1, 1, 1, 1, 1, 1, 1, 1, 1, 1, 1, 1, 1, 1, 1, 1, 1, 1, 1, 1, 1, 1, 1, 1, 1, 1, 1, 1, 1, 1, 1, 1, 1, 1, 1, 1, 1, 1, 1, 1, 1, 0, 0, 1, 1, 1, 1, 1, 1, 1, 1, 1, 1, 1, 1, 1, 1, 1, 1, 1, 1, 1, 1, 0, 1, 1, 0, 1, 1, 1, 1, 1, 1, 0, 1, 1, 1, 1, 1, 1, 1, 1, 1, 0, 1, 0, 1, 1, 1, 1, 1, 1, 1, 1, 0, 1, 1, 1, 1, 1]}\n",
      "\n",
      "Evaluating Set ID: Set_2_Prop_0.5\n"
     ]
    },
    {
     "name": "stderr",
     "output_type": "stream",
     "text": [
      "Processing predictions: 100%|██████████| 100/100 [00:07<00:00, 13.40it/s]\n",
      "/tmp/ipykernel_6833/3130949446.py:86: FutureWarning: Series.__getitem__ treating keys as positions is deprecated. In a future version, integer keys will always be treated as labels (consistent with DataFrame behavior). To access a value by position, use `ser.iloc[pos]`\n",
      "  answer = row[-1]  # Store the ground truth label\n"
     ]
    },
    {
     "name": "stdout",
     "output_type": "stream",
     "text": [
      "Num of non-numeric or invalid: 0\n",
      "Intermediate results for Run 1: {'Num Features': 5, 'Sample Size': 48, 'Class 1 Proportion': 0.5, 'Set ID': 'Set_2_Prop_0.5', 'Run Number': 1, 'Accuracy': 0.43, 'Precision': 0.15625, 'Recall': 0.7692307692307693, 'F1 Score': 0.2597402597402597, 'Prediction': [1, 1, 1, 0, 1, 1, 1, 0, 1, 0, 1, 1, 0, 0, 1, 0, 1, 1, 1, 1, 1, 0, 0, 0, 0, 1, 0, 1, 1, 0, 1, 0, 0, 1, 0, 1, 1, 0, 1, 0, 1, 0, 1, 0, 1, 1, 1, 1, 0, 0, 1, 1, 1, 1, 1, 0, 1, 0, 0, 0, 0, 1, 0, 0, 0, 1, 1, 1, 0, 1, 0, 1, 1, 1, 1, 0, 0, 0, 1, 1, 1, 1, 1, 1, 1, 1, 1, 1, 1, 1, 0, 1, 1, 1, 1, 1, 1, 1, 0, 1]}\n",
      "\n",
      "Evaluating Set ID: Set_3_Prop_0.5\n"
     ]
    },
    {
     "name": "stderr",
     "output_type": "stream",
     "text": [
      "Processing predictions: 100%|██████████| 100/100 [00:08<00:00, 11.38it/s]\n",
      "/tmp/ipykernel_6833/3130949446.py:86: FutureWarning: Series.__getitem__ treating keys as positions is deprecated. In a future version, integer keys will always be treated as labels (consistent with DataFrame behavior). To access a value by position, use `ser.iloc[pos]`\n",
      "  answer = row[-1]  # Store the ground truth label\n"
     ]
    },
    {
     "name": "stdout",
     "output_type": "stream",
     "text": [
      "Num of non-numeric or invalid: 0\n",
      "Intermediate results for Run 1: {'Num Features': 5, 'Sample Size': 48, 'Class 1 Proportion': 0.5, 'Set ID': 'Set_3_Prop_0.5', 'Run Number': 1, 'Accuracy': 0.13, 'Precision': 0.13, 'Recall': 1.0, 'F1 Score': 0.23008849557522124, 'Prediction': [1, 1, 1, 1, 1, 1, 1, 1, 1, 1, 1, 1, 1, 1, 1, 1, 1, 1, 1, 1, 1, 1, 1, 1, 1, 1, 1, 1, 1, 1, 1, 1, 1, 1, 1, 1, 1, 1, 1, 1, 1, 1, 1, 1, 1, 1, 1, 1, 1, 1, 1, 1, 1, 1, 1, 1, 1, 1, 1, 1, 1, 1, 1, 1, 1, 1, 1, 1, 1, 1, 1, 1, 1, 1, 1, 1, 1, 1, 1, 1, 1, 1, 1, 1, 1, 1, 1, 1, 1, 1, 1, 1, 1, 1, 1, 1, 1, 1, 1, 1]}\n",
      "\n",
      "Evaluating Set ID: Set_4_Prop_0.5\n"
     ]
    },
    {
     "name": "stderr",
     "output_type": "stream",
     "text": [
      "Processing predictions: 100%|██████████| 100/100 [00:10<00:00,  9.68it/s]\n",
      "/tmp/ipykernel_6833/3130949446.py:86: FutureWarning: Series.__getitem__ treating keys as positions is deprecated. In a future version, integer keys will always be treated as labels (consistent with DataFrame behavior). To access a value by position, use `ser.iloc[pos]`\n",
      "  answer = row[-1]  # Store the ground truth label\n"
     ]
    },
    {
     "name": "stdout",
     "output_type": "stream",
     "text": [
      "Num of non-numeric or invalid: 0\n",
      "Intermediate results for Run 1: {'Num Features': 5, 'Sample Size': 48, 'Class 1 Proportion': 0.5, 'Set ID': 'Set_4_Prop_0.5', 'Run Number': 1, 'Accuracy': 0.23, 'Precision': 0.10975609756097561, 'Recall': 0.6923076923076923, 'F1 Score': 0.18947368421052632, 'Prediction': [1, 1, 0, 1, 1, 1, 0, 1, 0, 1, 1, 1, 1, 1, 0, 1, 1, 1, 0, 1, 1, 1, 0, 0, 1, 1, 1, 1, 1, 1, 0, 0, 1, 1, 1, 1, 1, 1, 1, 1, 1, 1, 0, 0, 0, 0, 1, 1, 1, 1, 1, 1, 1, 1, 0, 0, 1, 1, 1, 1, 1, 1, 1, 1, 1, 1, 1, 1, 1, 1, 1, 1, 0, 0, 1, 1, 1, 1, 1, 1, 1, 1, 1, 1, 1, 1, 1, 1, 1, 0, 1, 1, 1, 1, 1, 1, 1, 1, 1, 1]}\n",
      "\n",
      "Evaluating Set ID: Set_5_Prop_0.5\n"
     ]
    },
    {
     "name": "stderr",
     "output_type": "stream",
     "text": [
      "Processing predictions: 100%|██████████| 100/100 [00:10<00:00,  9.88it/s]\n",
      "/tmp/ipykernel_6833/3130949446.py:86: FutureWarning: Series.__getitem__ treating keys as positions is deprecated. In a future version, integer keys will always be treated as labels (consistent with DataFrame behavior). To access a value by position, use `ser.iloc[pos]`\n",
      "  answer = row[-1]  # Store the ground truth label\n"
     ]
    },
    {
     "name": "stdout",
     "output_type": "stream",
     "text": [
      "Num of non-numeric or invalid: 0\n",
      "Intermediate results for Run 1: {'Num Features': 5, 'Sample Size': 48, 'Class 1 Proportion': 0.5, 'Set ID': 'Set_5_Prop_0.5', 'Run Number': 1, 'Accuracy': 0.13, 'Precision': 0.13, 'Recall': 1.0, 'F1 Score': 0.23008849557522124, 'Prediction': [1, 1, 1, 1, 1, 1, 1, 1, 1, 1, 1, 1, 1, 1, 1, 1, 1, 1, 1, 1, 1, 1, 1, 1, 1, 1, 1, 1, 1, 1, 1, 1, 1, 1, 1, 1, 1, 1, 1, 1, 1, 1, 1, 1, 1, 1, 1, 1, 1, 1, 1, 1, 1, 1, 1, 1, 1, 1, 1, 1, 1, 1, 1, 1, 1, 1, 1, 1, 1, 1, 1, 1, 1, 1, 1, 1, 1, 1, 1, 1, 1, 1, 1, 1, 1, 1, 1, 1, 1, 1, 1, 1, 1, 1, 1, 1, 1, 1, 1, 1]}\n",
      "\n",
      "Starting experiments for top 10 features...\n",
      "\n",
      "Testing with class 1 proportion: 0.1\n",
      "\n",
      "Evaluating Set ID: Set_1_Prop_0.1\n"
     ]
    },
    {
     "name": "stderr",
     "output_type": "stream",
     "text": [
      "Processing predictions: 100%|██████████| 100/100 [00:07<00:00, 13.29it/s]\n",
      "/tmp/ipykernel_6833/3130949446.py:86: FutureWarning: Series.__getitem__ treating keys as positions is deprecated. In a future version, integer keys will always be treated as labels (consistent with DataFrame behavior). To access a value by position, use `ser.iloc[pos]`\n",
      "  answer = row[-1]  # Store the ground truth label\n"
     ]
    },
    {
     "name": "stdout",
     "output_type": "stream",
     "text": [
      "Num of non-numeric or invalid: 0\n",
      "Intermediate results for Run 1: {'Num Features': 10, 'Sample Size': 48, 'Class 1 Proportion': 0.1, 'Set ID': 'Set_1_Prop_0.1', 'Run Number': 1, 'Accuracy': 0.4, 'Precision': 0.14925373134328357, 'Recall': 0.7692307692307693, 'F1 Score': 0.25, 'Prediction': [1, 1, 0, 1, 1, 1, 0, 1, 1, 0, 1, 1, 1, 0, 0, 0, 1, 1, 1, 1, 0, 1, 0, 0, 0, 0, 1, 1, 0, 1, 1, 0, 0, 0, 1, 1, 1, 1, 1, 0, 1, 1, 0, 1, 1, 1, 1, 0, 0, 1, 1, 1, 1, 1, 1, 0, 1, 0, 0, 0, 1, 1, 0, 0, 0, 1, 1, 1, 0, 1, 0, 1, 1, 1, 1, 0, 1, 0, 0, 1, 1, 1, 1, 1, 1, 1, 1, 1, 1, 1, 1, 0, 0, 1, 1, 1, 1, 1, 1, 1]}\n",
      "\n",
      "Evaluating Set ID: Set_2_Prop_0.1\n"
     ]
    },
    {
     "name": "stderr",
     "output_type": "stream",
     "text": [
      "Processing predictions: 100%|██████████| 100/100 [00:06<00:00, 14.38it/s]\n",
      "/tmp/ipykernel_6833/3130949446.py:86: FutureWarning: Series.__getitem__ treating keys as positions is deprecated. In a future version, integer keys will always be treated as labels (consistent with DataFrame behavior). To access a value by position, use `ser.iloc[pos]`\n",
      "  answer = row[-1]  # Store the ground truth label\n"
     ]
    },
    {
     "name": "stdout",
     "output_type": "stream",
     "text": [
      "Num of non-numeric or invalid: 0\n",
      "Intermediate results for Run 1: {'Num Features': 10, 'Sample Size': 48, 'Class 1 Proportion': 0.1, 'Set ID': 'Set_2_Prop_0.1', 'Run Number': 1, 'Accuracy': 0.37, 'Precision': 0.16216216216216217, 'Recall': 0.9230769230769231, 'F1 Score': 0.27586206896551724, 'Prediction': [1, 0, 1, 0, 0, 0, 1, 1, 1, 1, 0, 1, 0, 1, 1, 1, 1, 1, 1, 0, 1, 0, 1, 1, 1, 1, 1, 1, 1, 1, 1, 0, 0, 1, 0, 1, 1, 1, 1, 1, 1, 1, 1, 1, 1, 1, 1, 1, 1, 1, 1, 1, 1, 1, 0, 1, 1, 0, 1, 0, 0, 0, 1, 1, 1, 1, 1, 1, 0, 0, 1, 1, 1, 0, 0, 1, 1, 1, 0, 1, 1, 1, 1, 1, 1, 1, 0, 0, 0, 1, 1, 1, 0, 1, 1, 1, 1, 0, 1, 1]}\n",
      "\n",
      "Evaluating Set ID: Set_3_Prop_0.1\n"
     ]
    },
    {
     "name": "stderr",
     "output_type": "stream",
     "text": [
      "Processing predictions: 100%|██████████| 100/100 [00:15<00:00,  6.45it/s]\n",
      "/tmp/ipykernel_6833/3130949446.py:86: FutureWarning: Series.__getitem__ treating keys as positions is deprecated. In a future version, integer keys will always be treated as labels (consistent with DataFrame behavior). To access a value by position, use `ser.iloc[pos]`\n",
      "  answer = row[-1]  # Store the ground truth label\n"
     ]
    },
    {
     "name": "stdout",
     "output_type": "stream",
     "text": [
      "Num of non-numeric or invalid: 0\n",
      "Intermediate results for Run 1: {'Num Features': 10, 'Sample Size': 48, 'Class 1 Proportion': 0.1, 'Set ID': 'Set_3_Prop_0.1', 'Run Number': 1, 'Accuracy': 0.65, 'Precision': 0.15625, 'Recall': 0.38461538461538464, 'F1 Score': 0.2222222222222222, 'Prediction': [1, 1, 0, 0, 1, 0, 1, 0, 0, 0, 1, 0, 0, 0, 0, 0, 0, 0, 1, 0, 0, 0, 0, 1, 0, 0, 1, 1, 1, 0, 0, 0, 0, 1, 0, 0, 1, 0, 1, 0, 1, 1, 0, 0, 1, 0, 0, 0, 0, 1, 0, 0, 0, 0, 1, 1, 0, 1, 0, 1, 0, 0, 0, 0, 0, 1, 0, 0, 0, 0, 0, 1, 0, 0, 1, 0, 1, 0, 0, 0, 1, 1, 0, 0, 1, 0, 0, 0, 1, 1, 0, 1, 0, 0, 0, 0, 0, 0, 0, 1]}\n",
      "\n",
      "Evaluating Set ID: Set_4_Prop_0.1\n"
     ]
    },
    {
     "name": "stderr",
     "output_type": "stream",
     "text": [
      "Processing predictions: 100%|██████████| 100/100 [00:08<00:00, 12.42it/s]\n",
      "/tmp/ipykernel_6833/3130949446.py:86: FutureWarning: Series.__getitem__ treating keys as positions is deprecated. In a future version, integer keys will always be treated as labels (consistent with DataFrame behavior). To access a value by position, use `ser.iloc[pos]`\n",
      "  answer = row[-1]  # Store the ground truth label\n"
     ]
    },
    {
     "name": "stdout",
     "output_type": "stream",
     "text": [
      "Num of non-numeric or invalid: 0\n",
      "Intermediate results for Run 1: {'Num Features': 10, 'Sample Size': 48, 'Class 1 Proportion': 0.1, 'Set ID': 'Set_4_Prop_0.1', 'Run Number': 1, 'Accuracy': 0.16, 'Precision': 0.11827956989247312, 'Recall': 0.8461538461538461, 'F1 Score': 0.20754716981132076, 'Prediction': [1, 0, 1, 1, 1, 1, 0, 1, 1, 1, 0, 1, 1, 1, 1, 1, 1, 1, 1, 1, 1, 1, 1, 1, 1, 1, 1, 1, 1, 1, 1, 1, 1, 1, 1, 1, 1, 1, 1, 1, 1, 1, 1, 1, 1, 1, 0, 1, 1, 1, 1, 1, 1, 1, 1, 1, 1, 1, 1, 1, 1, 1, 1, 1, 1, 1, 1, 1, 1, 1, 1, 1, 1, 1, 1, 0, 0, 1, 1, 1, 1, 1, 1, 1, 1, 0, 1, 1, 1, 1, 1, 1, 1, 1, 1, 1, 1, 1, 1, 1]}\n",
      "\n",
      "Evaluating Set ID: Set_5_Prop_0.1\n"
     ]
    },
    {
     "name": "stderr",
     "output_type": "stream",
     "text": [
      "Processing predictions: 100%|██████████| 100/100 [00:07<00:00, 13.67it/s]\n",
      "/tmp/ipykernel_6833/3130949446.py:86: FutureWarning: Series.__getitem__ treating keys as positions is deprecated. In a future version, integer keys will always be treated as labels (consistent with DataFrame behavior). To access a value by position, use `ser.iloc[pos]`\n",
      "  answer = row[-1]  # Store the ground truth label\n"
     ]
    },
    {
     "name": "stdout",
     "output_type": "stream",
     "text": [
      "Num of non-numeric or invalid: 0\n",
      "Intermediate results for Run 1: {'Num Features': 10, 'Sample Size': 48, 'Class 1 Proportion': 0.1, 'Set ID': 'Set_5_Prop_0.1', 'Run Number': 1, 'Accuracy': 0.47, 'Precision': 0.12962962962962962, 'Recall': 0.5384615384615384, 'F1 Score': 0.208955223880597, 'Prediction': [1, 1, 1, 0, 1, 0, 1, 0, 1, 0, 0, 1, 0, 0, 0, 0, 1, 1, 1, 1, 0, 0, 0, 0, 0, 1, 0, 1, 1, 0, 1, 0, 0, 1, 1, 0, 0, 1, 1, 0, 1, 1, 1, 1, 0, 1, 1, 0, 0, 0, 1, 1, 1, 1, 1, 0, 1, 0, 0, 0, 0, 0, 1, 0, 0, 0, 1, 1, 0, 0, 0, 1, 1, 1, 1, 0, 1, 0, 1, 0, 1, 1, 1, 1, 1, 0, 0, 1, 0, 0, 1, 1, 1, 0, 0, 1, 1, 1, 1, 1]}\n",
      "\n",
      "Testing with class 1 proportion: 0.3\n",
      "\n",
      "Evaluating Set ID: Set_1_Prop_0.3\n"
     ]
    },
    {
     "name": "stderr",
     "output_type": "stream",
     "text": [
      "Processing predictions: 100%|██████████| 100/100 [00:07<00:00, 13.55it/s]\n",
      "/tmp/ipykernel_6833/3130949446.py:86: FutureWarning: Series.__getitem__ treating keys as positions is deprecated. In a future version, integer keys will always be treated as labels (consistent with DataFrame behavior). To access a value by position, use `ser.iloc[pos]`\n",
      "  answer = row[-1]  # Store the ground truth label\n"
     ]
    },
    {
     "name": "stdout",
     "output_type": "stream",
     "text": [
      "Num of non-numeric or invalid: 0\n",
      "Intermediate results for Run 1: {'Num Features': 10, 'Sample Size': 48, 'Class 1 Proportion': 0.3, 'Set ID': 'Set_1_Prop_0.3', 'Run Number': 1, 'Accuracy': 0.55, 'Precision': 0.16666666666666666, 'Recall': 0.6153846153846154, 'F1 Score': 0.26229508196721313, 'Prediction': [0, 1, 1, 0, 0, 1, 0, 0, 1, 0, 1, 0, 1, 0, 1, 1, 0, 1, 0, 1, 0, 0, 1, 0, 0, 0, 1, 1, 0, 0, 1, 0, 1, 0, 0, 1, 0, 0, 1, 0, 0, 0, 1, 0, 1, 1, 1, 0, 0, 0, 0, 1, 0, 1, 1, 0, 1, 0, 0, 0, 1, 0, 0, 0, 0, 1, 0, 1, 0, 1, 0, 1, 1, 1, 0, 1, 0, 1, 0, 1, 1, 0, 0, 0, 1, 1, 1, 1, 1, 1, 0, 1, 1, 0, 1, 0, 1, 1, 1, 0]}\n",
      "\n",
      "Evaluating Set ID: Set_2_Prop_0.3\n"
     ]
    },
    {
     "name": "stderr",
     "output_type": "stream",
     "text": [
      "Processing predictions: 100%|██████████| 100/100 [00:07<00:00, 13.60it/s]\n",
      "/tmp/ipykernel_6833/3130949446.py:86: FutureWarning: Series.__getitem__ treating keys as positions is deprecated. In a future version, integer keys will always be treated as labels (consistent with DataFrame behavior). To access a value by position, use `ser.iloc[pos]`\n",
      "  answer = row[-1]  # Store the ground truth label\n"
     ]
    },
    {
     "name": "stdout",
     "output_type": "stream",
     "text": [
      "Num of non-numeric or invalid: 0\n",
      "Intermediate results for Run 1: {'Num Features': 10, 'Sample Size': 48, 'Class 1 Proportion': 0.3, 'Set ID': 'Set_2_Prop_0.3', 'Run Number': 1, 'Accuracy': 0.21, 'Precision': 0.125, 'Recall': 0.8461538461538461, 'F1 Score': 0.21782178217821782, 'Prediction': [1, 1, 0, 1, 1, 0, 1, 1, 1, 1, 1, 1, 1, 1, 1, 0, 1, 1, 1, 1, 0, 1, 1, 0, 1, 0, 1, 1, 1, 1, 1, 1, 1, 1, 1, 1, 1, 1, 1, 0, 1, 1, 1, 0, 1, 1, 1, 1, 1, 1, 1, 1, 1, 1, 1, 1, 1, 1, 0, 1, 1, 1, 1, 1, 1, 1, 1, 1, 1, 0, 1, 1, 1, 1, 1, 1, 1, 1, 1, 1, 1, 1, 1, 1, 1, 1, 1, 1, 1, 1, 0, 1, 0, 1, 1, 1, 1, 1, 1, 1]}\n",
      "\n",
      "Evaluating Set ID: Set_3_Prop_0.3\n"
     ]
    },
    {
     "name": "stderr",
     "output_type": "stream",
     "text": [
      "Processing predictions: 100%|██████████| 100/100 [00:09<00:00, 10.13it/s]\n",
      "/tmp/ipykernel_6833/3130949446.py:86: FutureWarning: Series.__getitem__ treating keys as positions is deprecated. In a future version, integer keys will always be treated as labels (consistent with DataFrame behavior). To access a value by position, use `ser.iloc[pos]`\n",
      "  answer = row[-1]  # Store the ground truth label\n"
     ]
    },
    {
     "name": "stdout",
     "output_type": "stream",
     "text": [
      "Num of non-numeric or invalid: 0\n",
      "Intermediate results for Run 1: {'Num Features': 10, 'Sample Size': 48, 'Class 1 Proportion': 0.3, 'Set ID': 'Set_3_Prop_0.3', 'Run Number': 1, 'Accuracy': 0.2, 'Precision': 0.13978494623655913, 'Recall': 1.0, 'F1 Score': 0.24528301886792453, 'Prediction': [1, 1, 0, 1, 1, 1, 1, 1, 1, 1, 1, 1, 1, 1, 1, 1, 1, 1, 1, 1, 0, 1, 1, 1, 0, 1, 1, 1, 1, 1, 1, 1, 1, 1, 1, 1, 1, 1, 1, 1, 1, 1, 1, 1, 1, 1, 1, 1, 0, 1, 1, 0, 1, 1, 1, 1, 1, 1, 1, 1, 1, 1, 1, 0, 1, 1, 1, 1, 1, 1, 1, 1, 1, 1, 1, 1, 1, 1, 1, 1, 1, 1, 1, 1, 1, 1, 1, 1, 1, 1, 1, 1, 0, 1, 1, 1, 1, 1, 1, 1]}\n",
      "\n",
      "Evaluating Set ID: Set_4_Prop_0.3\n"
     ]
    },
    {
     "name": "stderr",
     "output_type": "stream",
     "text": [
      "Processing predictions: 100%|██████████| 100/100 [00:07<00:00, 13.88it/s]\n",
      "/tmp/ipykernel_6833/3130949446.py:86: FutureWarning: Series.__getitem__ treating keys as positions is deprecated. In a future version, integer keys will always be treated as labels (consistent with DataFrame behavior). To access a value by position, use `ser.iloc[pos]`\n",
      "  answer = row[-1]  # Store the ground truth label\n"
     ]
    },
    {
     "name": "stdout",
     "output_type": "stream",
     "text": [
      "Num of non-numeric or invalid: 0\n",
      "Intermediate results for Run 1: {'Num Features': 10, 'Sample Size': 48, 'Class 1 Proportion': 0.3, 'Set ID': 'Set_4_Prop_0.3', 'Run Number': 1, 'Accuracy': 0.18, 'Precision': 0.11235955056179775, 'Recall': 0.7692307692307693, 'F1 Score': 0.19607843137254902, 'Prediction': [1, 1, 1, 1, 1, 1, 1, 1, 1, 1, 1, 1, 1, 1, 1, 1, 1, 1, 1, 1, 1, 1, 1, 0, 0, 1, 0, 1, 1, 1, 0, 1, 0, 1, 1, 1, 1, 1, 1, 1, 1, 0, 1, 1, 1, 1, 1, 1, 0, 1, 1, 1, 1, 1, 1, 1, 1, 1, 1, 1, 1, 1, 1, 1, 1, 0, 1, 1, 1, 0, 1, 1, 1, 1, 1, 1, 1, 1, 0, 1, 1, 1, 1, 1, 1, 1, 1, 1, 1, 1, 1, 1, 1, 1, 0, 1, 1, 1, 1, 1]}\n",
      "\n",
      "Evaluating Set ID: Set_5_Prop_0.3\n"
     ]
    },
    {
     "name": "stderr",
     "output_type": "stream",
     "text": [
      "Processing predictions: 100%|██████████| 100/100 [00:09<00:00, 10.42it/s]\n",
      "/tmp/ipykernel_6833/3130949446.py:86: FutureWarning: Series.__getitem__ treating keys as positions is deprecated. In a future version, integer keys will always be treated as labels (consistent with DataFrame behavior). To access a value by position, use `ser.iloc[pos]`\n",
      "  answer = row[-1]  # Store the ground truth label\n"
     ]
    },
    {
     "name": "stdout",
     "output_type": "stream",
     "text": [
      "Num of non-numeric or invalid: 0\n",
      "Intermediate results for Run 1: {'Num Features': 10, 'Sample Size': 48, 'Class 1 Proportion': 0.3, 'Set ID': 'Set_5_Prop_0.3', 'Run Number': 1, 'Accuracy': 0.18, 'Precision': 0.10344827586206896, 'Recall': 0.6923076923076923, 'F1 Score': 0.18, 'Prediction': [1, 1, 1, 1, 0, 1, 1, 0, 1, 1, 1, 1, 1, 1, 1, 1, 1, 1, 1, 1, 1, 1, 0, 0, 1, 1, 1, 1, 1, 1, 1, 1, 0, 1, 1, 1, 1, 1, 1, 1, 1, 1, 1, 1, 1, 1, 0, 1, 1, 1, 1, 1, 1, 1, 1, 1, 1, 1, 1, 0, 1, 1, 1, 1, 1, 1, 1, 1, 1, 1, 0, 1, 0, 0, 1, 1, 1, 1, 1, 1, 1, 1, 1, 1, 1, 0, 1, 0, 1, 1, 1, 1, 1, 1, 1, 1, 0, 1, 1, 1]}\n",
      "\n",
      "Testing with class 1 proportion: 0.5\n",
      "\n",
      "Evaluating Set ID: Set_1_Prop_0.5\n"
     ]
    },
    {
     "name": "stderr",
     "output_type": "stream",
     "text": [
      "Processing predictions: 100%|██████████| 100/100 [00:10<00:00,  9.58it/s]\n",
      "/tmp/ipykernel_6833/3130949446.py:86: FutureWarning: Series.__getitem__ treating keys as positions is deprecated. In a future version, integer keys will always be treated as labels (consistent with DataFrame behavior). To access a value by position, use `ser.iloc[pos]`\n",
      "  answer = row[-1]  # Store the ground truth label\n"
     ]
    },
    {
     "name": "stdout",
     "output_type": "stream",
     "text": [
      "Num of non-numeric or invalid: 0\n",
      "Intermediate results for Run 1: {'Num Features': 10, 'Sample Size': 48, 'Class 1 Proportion': 0.5, 'Set ID': 'Set_1_Prop_0.5', 'Run Number': 1, 'Accuracy': 0.41, 'Precision': 0.15151515151515152, 'Recall': 0.7692307692307693, 'F1 Score': 0.25316455696202533, 'Prediction': [1, 1, 1, 1, 0, 1, 0, 1, 1, 1, 0, 1, 1, 0, 0, 0, 1, 1, 1, 1, 0, 0, 1, 0, 0, 0, 1, 1, 1, 0, 1, 0, 0, 1, 1, 0, 0, 1, 1, 0, 1, 1, 0, 1, 1, 1, 1, 1, 0, 1, 0, 1, 1, 1, 1, 0, 0, 0, 1, 0, 1, 1, 0, 0, 0, 1, 1, 0, 1, 1, 0, 1, 1, 1, 1, 0, 1, 0, 1, 1, 1, 0, 1, 1, 1, 1, 1, 1, 1, 1, 1, 0, 1, 0, 1, 1, 1, 1, 1, 1]}\n",
      "\n",
      "Evaluating Set ID: Set_2_Prop_0.5\n"
     ]
    },
    {
     "name": "stderr",
     "output_type": "stream",
     "text": [
      "Processing predictions: 100%|██████████| 100/100 [00:08<00:00, 11.92it/s]\n",
      "/tmp/ipykernel_6833/3130949446.py:86: FutureWarning: Series.__getitem__ treating keys as positions is deprecated. In a future version, integer keys will always be treated as labels (consistent with DataFrame behavior). To access a value by position, use `ser.iloc[pos]`\n",
      "  answer = row[-1]  # Store the ground truth label\n"
     ]
    },
    {
     "name": "stdout",
     "output_type": "stream",
     "text": [
      "Num of non-numeric or invalid: 0\n",
      "Intermediate results for Run 1: {'Num Features': 10, 'Sample Size': 48, 'Class 1 Proportion': 0.5, 'Set ID': 'Set_2_Prop_0.5', 'Run Number': 1, 'Accuracy': 0.36, 'Precision': 0.14084507042253522, 'Recall': 0.7692307692307693, 'F1 Score': 0.23809523809523808, 'Prediction': [0, 1, 1, 1, 0, 1, 1, 1, 1, 0, 1, 1, 1, 1, 0, 0, 1, 1, 1, 1, 0, 1, 0, 0, 1, 1, 0, 1, 1, 0, 1, 0, 1, 1, 1, 1, 0, 0, 0, 1, 1, 0, 1, 1, 1, 1, 1, 1, 0, 1, 1, 1, 1, 0, 1, 1, 1, 0, 0, 0, 1, 1, 0, 0, 1, 1, 1, 1, 0, 1, 0, 1, 0, 1, 1, 1, 1, 0, 0, 1, 1, 1, 1, 1, 1, 1, 1, 1, 1, 0, 0, 1, 1, 1, 1, 1, 1, 1, 1, 1]}\n",
      "\n",
      "Evaluating Set ID: Set_3_Prop_0.5\n"
     ]
    },
    {
     "name": "stderr",
     "output_type": "stream",
     "text": [
      "Processing predictions: 100%|██████████| 100/100 [00:07<00:00, 13.19it/s]\n",
      "/tmp/ipykernel_6833/3130949446.py:86: FutureWarning: Series.__getitem__ treating keys as positions is deprecated. In a future version, integer keys will always be treated as labels (consistent with DataFrame behavior). To access a value by position, use `ser.iloc[pos]`\n",
      "  answer = row[-1]  # Store the ground truth label\n"
     ]
    },
    {
     "name": "stdout",
     "output_type": "stream",
     "text": [
      "Num of non-numeric or invalid: 0\n",
      "Intermediate results for Run 1: {'Num Features': 10, 'Sample Size': 48, 'Class 1 Proportion': 0.5, 'Set ID': 'Set_3_Prop_0.5', 'Run Number': 1, 'Accuracy': 0.19, 'Precision': 0.13043478260869565, 'Recall': 0.9230769230769231, 'F1 Score': 0.22857142857142856, 'Prediction': [1, 1, 1, 1, 1, 1, 1, 1, 1, 1, 1, 1, 0, 1, 1, 1, 1, 1, 1, 1, 1, 1, 1, 0, 1, 1, 1, 1, 1, 1, 1, 1, 1, 1, 1, 1, 1, 1, 0, 1, 1, 1, 1, 1, 1, 1, 1, 1, 0, 1, 1, 1, 1, 1, 1, 1, 1, 1, 1, 1, 1, 1, 0, 1, 1, 1, 1, 1, 1, 1, 1, 1, 1, 1, 1, 1, 1, 1, 1, 0, 1, 1, 1, 1, 1, 1, 1, 1, 1, 1, 1, 1, 1, 0, 1, 1, 0, 1, 1, 1]}\n",
      "\n",
      "Evaluating Set ID: Set_4_Prop_0.5\n"
     ]
    },
    {
     "name": "stderr",
     "output_type": "stream",
     "text": [
      "Processing predictions: 100%|██████████| 100/100 [00:19<00:00,  5.24it/s]\n",
      "/tmp/ipykernel_6833/3130949446.py:86: FutureWarning: Series.__getitem__ treating keys as positions is deprecated. In a future version, integer keys will always be treated as labels (consistent with DataFrame behavior). To access a value by position, use `ser.iloc[pos]`\n",
      "  answer = row[-1]  # Store the ground truth label\n"
     ]
    },
    {
     "name": "stdout",
     "output_type": "stream",
     "text": [
      "Num of non-numeric or invalid: 0\n",
      "Intermediate results for Run 1: {'Num Features': 10, 'Sample Size': 48, 'Class 1 Proportion': 0.5, 'Set ID': 'Set_4_Prop_0.5', 'Run Number': 1, 'Accuracy': 0.13, 'Precision': 0.13, 'Recall': 1.0, 'F1 Score': 0.23008849557522124, 'Prediction': [1, 1, 1, 1, 1, 1, 1, 1, 1, 1, 1, 1, 1, 1, 1, 1, 1, 1, 1, 1, 1, 1, 1, 1, 1, 1, 1, 1, 1, 1, 1, 1, 1, 1, 1, 1, 1, 1, 1, 1, 1, 1, 1, 1, 1, 1, 1, 1, 1, 1, 1, 1, 1, 1, 1, 1, 1, 1, 1, 1, 1, 1, 1, 1, 1, 1, 1, 1, 1, 1, 1, 1, 1, 1, 1, 1, 1, 1, 1, 1, 1, 1, 1, 1, 1, 1, 1, 1, 1, 1, 1, 1, 1, 1, 1, 1, 1, 1, 1, 1]}\n",
      "\n",
      "Evaluating Set ID: Set_5_Prop_0.5\n"
     ]
    },
    {
     "name": "stderr",
     "output_type": "stream",
     "text": [
      "Processing predictions: 100%|██████████| 100/100 [00:10<00:00,  9.41it/s]\n",
      "/tmp/ipykernel_6833/3130949446.py:86: FutureWarning: Series.__getitem__ treating keys as positions is deprecated. In a future version, integer keys will always be treated as labels (consistent with DataFrame behavior). To access a value by position, use `ser.iloc[pos]`\n",
      "  answer = row[-1]  # Store the ground truth label\n"
     ]
    },
    {
     "name": "stdout",
     "output_type": "stream",
     "text": [
      "Num of non-numeric or invalid: 0\n",
      "Intermediate results for Run 1: {'Num Features': 10, 'Sample Size': 48, 'Class 1 Proportion': 0.5, 'Set ID': 'Set_5_Prop_0.5', 'Run Number': 1, 'Accuracy': 0.31, 'Precision': 0.14102564102564102, 'Recall': 0.8461538461538461, 'F1 Score': 0.24175824175824176, 'Prediction': [1, 1, 1, 0, 1, 0, 1, 1, 1, 1, 1, 0, 0, 0, 1, 1, 1, 1, 1, 1, 0, 1, 1, 0, 1, 0, 1, 1, 1, 1, 1, 0, 0, 1, 1, 1, 1, 1, 1, 0, 1, 1, 1, 1, 1, 0, 1, 0, 0, 1, 1, 1, 1, 1, 1, 1, 1, 1, 0, 0, 1, 1, 1, 0, 0, 1, 1, 1, 1, 0, 1, 1, 1, 1, 1, 0, 1, 0, 1, 1, 1, 1, 1, 1, 1, 1, 1, 1, 1, 1, 0, 1, 1, 1, 1, 1, 1, 1, 1, 1]}\n",
      "\n",
      "Starting experiments for top 20 features...\n",
      "\n",
      "Testing with class 1 proportion: 0.1\n",
      "\n",
      "Evaluating Set ID: Set_1_Prop_0.1\n"
     ]
    },
    {
     "name": "stderr",
     "output_type": "stream",
     "text": [
      "Processing predictions: 100%|██████████| 100/100 [00:07<00:00, 12.98it/s]\n",
      "/tmp/ipykernel_6833/3130949446.py:86: FutureWarning: Series.__getitem__ treating keys as positions is deprecated. In a future version, integer keys will always be treated as labels (consistent with DataFrame behavior). To access a value by position, use `ser.iloc[pos]`\n",
      "  answer = row[-1]  # Store the ground truth label\n"
     ]
    },
    {
     "name": "stdout",
     "output_type": "stream",
     "text": [
      "Num of non-numeric or invalid: 0\n",
      "Intermediate results for Run 1: {'Num Features': 20, 'Sample Size': 48, 'Class 1 Proportion': 0.1, 'Set ID': 'Set_1_Prop_0.1', 'Run Number': 1, 'Accuracy': 0.13, 'Precision': 0.13, 'Recall': 1.0, 'F1 Score': 0.23008849557522124, 'Prediction': [1, 1, 1, 1, 1, 1, 1, 1, 1, 1, 1, 1, 1, 1, 1, 1, 1, 1, 1, 1, 1, 1, 1, 1, 1, 1, 1, 1, 1, 1, 1, 1, 1, 1, 1, 1, 1, 1, 1, 1, 1, 1, 1, 1, 1, 1, 1, 1, 1, 1, 1, 1, 1, 1, 1, 1, 1, 1, 1, 1, 1, 1, 1, 1, 1, 1, 1, 1, 1, 1, 1, 1, 1, 1, 1, 1, 1, 1, 1, 1, 1, 1, 1, 1, 1, 1, 1, 1, 1, 1, 1, 1, 1, 1, 1, 1, 1, 1, 1, 1]}\n",
      "\n",
      "Evaluating Set ID: Set_2_Prop_0.1\n"
     ]
    },
    {
     "name": "stderr",
     "output_type": "stream",
     "text": [
      "Processing predictions: 100%|██████████| 100/100 [00:10<00:00,  9.33it/s]\n",
      "/tmp/ipykernel_6833/3130949446.py:86: FutureWarning: Series.__getitem__ treating keys as positions is deprecated. In a future version, integer keys will always be treated as labels (consistent with DataFrame behavior). To access a value by position, use `ser.iloc[pos]`\n",
      "  answer = row[-1]  # Store the ground truth label\n"
     ]
    },
    {
     "name": "stdout",
     "output_type": "stream",
     "text": [
      "Num of non-numeric or invalid: 0\n",
      "Intermediate results for Run 1: {'Num Features': 20, 'Sample Size': 48, 'Class 1 Proportion': 0.1, 'Set ID': 'Set_2_Prop_0.1', 'Run Number': 1, 'Accuracy': 0.13, 'Precision': 0.13, 'Recall': 1.0, 'F1 Score': 0.23008849557522124, 'Prediction': [1, 1, 1, 1, 1, 1, 1, 1, 1, 1, 1, 1, 1, 1, 1, 1, 1, 1, 1, 1, 1, 1, 1, 1, 1, 1, 1, 1, 1, 1, 1, 1, 1, 1, 1, 1, 1, 1, 1, 1, 1, 1, 1, 1, 1, 1, 1, 1, 1, 1, 1, 1, 1, 1, 1, 1, 1, 1, 1, 1, 1, 1, 1, 1, 1, 1, 1, 1, 1, 1, 1, 1, 1, 1, 1, 1, 1, 1, 1, 1, 1, 1, 1, 1, 1, 1, 1, 1, 1, 1, 1, 1, 1, 1, 1, 1, 1, 1, 1, 1]}\n",
      "\n",
      "Evaluating Set ID: Set_3_Prop_0.1\n"
     ]
    },
    {
     "name": "stderr",
     "output_type": "stream",
     "text": [
      "Processing predictions: 100%|██████████| 100/100 [00:30<00:00,  3.32it/s]\n",
      "/tmp/ipykernel_6833/3130949446.py:86: FutureWarning: Series.__getitem__ treating keys as positions is deprecated. In a future version, integer keys will always be treated as labels (consistent with DataFrame behavior). To access a value by position, use `ser.iloc[pos]`\n",
      "  answer = row[-1]  # Store the ground truth label\n"
     ]
    },
    {
     "name": "stdout",
     "output_type": "stream",
     "text": [
      "Num of non-numeric or invalid: 0\n",
      "Intermediate results for Run 1: {'Num Features': 20, 'Sample Size': 48, 'Class 1 Proportion': 0.1, 'Set ID': 'Set_3_Prop_0.1', 'Run Number': 1, 'Accuracy': 0.13, 'Precision': 0.13, 'Recall': 1.0, 'F1 Score': 0.23008849557522124, 'Prediction': [1, 1, 1, 1, 1, 1, 1, 1, 1, 1, 1, 1, 1, 1, 1, 1, 1, 1, 1, 1, 1, 1, 1, 1, 1, 1, 1, 1, 1, 1, 1, 1, 1, 1, 1, 1, 1, 1, 1, 1, 1, 1, 1, 1, 1, 1, 1, 1, 1, 1, 1, 1, 1, 1, 1, 1, 1, 1, 1, 1, 1, 1, 1, 1, 1, 1, 1, 1, 1, 1, 1, 1, 1, 1, 1, 1, 1, 1, 1, 1, 1, 1, 1, 1, 1, 1, 1, 1, 1, 1, 1, 1, 1, 1, 1, 1, 1, 1, 1, 1]}\n",
      "\n",
      "Evaluating Set ID: Set_4_Prop_0.1\n"
     ]
    },
    {
     "name": "stderr",
     "output_type": "stream",
     "text": [
      "Processing predictions: 100%|██████████| 100/100 [00:11<00:00,  8.81it/s]\n",
      "/tmp/ipykernel_6833/3130949446.py:86: FutureWarning: Series.__getitem__ treating keys as positions is deprecated. In a future version, integer keys will always be treated as labels (consistent with DataFrame behavior). To access a value by position, use `ser.iloc[pos]`\n",
      "  answer = row[-1]  # Store the ground truth label\n"
     ]
    },
    {
     "name": "stdout",
     "output_type": "stream",
     "text": [
      "Num of non-numeric or invalid: 0\n",
      "Intermediate results for Run 1: {'Num Features': 20, 'Sample Size': 48, 'Class 1 Proportion': 0.1, 'Set ID': 'Set_4_Prop_0.1', 'Run Number': 1, 'Accuracy': 0.13, 'Precision': 0.13, 'Recall': 1.0, 'F1 Score': 0.23008849557522124, 'Prediction': [1, 1, 1, 1, 1, 1, 1, 1, 1, 1, 1, 1, 1, 1, 1, 1, 1, 1, 1, 1, 1, 1, 1, 1, 1, 1, 1, 1, 1, 1, 1, 1, 1, 1, 1, 1, 1, 1, 1, 1, 1, 1, 1, 1, 1, 1, 1, 1, 1, 1, 1, 1, 1, 1, 1, 1, 1, 1, 1, 1, 1, 1, 1, 1, 1, 1, 1, 1, 1, 1, 1, 1, 1, 1, 1, 1, 1, 1, 1, 1, 1, 1, 1, 1, 1, 1, 1, 1, 1, 1, 1, 1, 1, 1, 1, 1, 1, 1, 1, 1]}\n",
      "\n",
      "Evaluating Set ID: Set_5_Prop_0.1\n"
     ]
    },
    {
     "name": "stderr",
     "output_type": "stream",
     "text": [
      "Processing predictions: 100%|██████████| 100/100 [00:13<00:00,  7.15it/s]\n",
      "/tmp/ipykernel_6833/3130949446.py:86: FutureWarning: Series.__getitem__ treating keys as positions is deprecated. In a future version, integer keys will always be treated as labels (consistent with DataFrame behavior). To access a value by position, use `ser.iloc[pos]`\n",
      "  answer = row[-1]  # Store the ground truth label\n"
     ]
    },
    {
     "name": "stdout",
     "output_type": "stream",
     "text": [
      "Num of non-numeric or invalid: 0\n",
      "Intermediate results for Run 1: {'Num Features': 20, 'Sample Size': 48, 'Class 1 Proportion': 0.1, 'Set ID': 'Set_5_Prop_0.1', 'Run Number': 1, 'Accuracy': 0.13, 'Precision': 0.13, 'Recall': 1.0, 'F1 Score': 0.23008849557522124, 'Prediction': [1, 1, 1, 1, 1, 1, 1, 1, 1, 1, 1, 1, 1, 1, 1, 1, 1, 1, 1, 1, 1, 1, 1, 1, 1, 1, 1, 1, 1, 1, 1, 1, 1, 1, 1, 1, 1, 1, 1, 1, 1, 1, 1, 1, 1, 1, 1, 1, 1, 1, 1, 1, 1, 1, 1, 1, 1, 1, 1, 1, 1, 1, 1, 1, 1, 1, 1, 1, 1, 1, 1, 1, 1, 1, 1, 1, 1, 1, 1, 1, 1, 1, 1, 1, 1, 1, 1, 1, 1, 1, 1, 1, 1, 1, 1, 1, 1, 1, 1, 1]}\n",
      "\n",
      "Testing with class 1 proportion: 0.3\n",
      "\n",
      "Evaluating Set ID: Set_1_Prop_0.3\n"
     ]
    },
    {
     "name": "stderr",
     "output_type": "stream",
     "text": [
      "Processing predictions: 100%|██████████| 100/100 [00:09<00:00, 10.01it/s]\n",
      "/tmp/ipykernel_6833/3130949446.py:86: FutureWarning: Series.__getitem__ treating keys as positions is deprecated. In a future version, integer keys will always be treated as labels (consistent with DataFrame behavior). To access a value by position, use `ser.iloc[pos]`\n",
      "  answer = row[-1]  # Store the ground truth label\n"
     ]
    },
    {
     "name": "stdout",
     "output_type": "stream",
     "text": [
      "Num of non-numeric or invalid: 0\n",
      "Intermediate results for Run 1: {'Num Features': 20, 'Sample Size': 48, 'Class 1 Proportion': 0.3, 'Set ID': 'Set_1_Prop_0.3', 'Run Number': 1, 'Accuracy': 0.13, 'Precision': 0.13, 'Recall': 1.0, 'F1 Score': 0.23008849557522124, 'Prediction': [1, 1, 1, 1, 1, 1, 1, 1, 1, 1, 1, 1, 1, 1, 1, 1, 1, 1, 1, 1, 1, 1, 1, 1, 1, 1, 1, 1, 1, 1, 1, 1, 1, 1, 1, 1, 1, 1, 1, 1, 1, 1, 1, 1, 1, 1, 1, 1, 1, 1, 1, 1, 1, 1, 1, 1, 1, 1, 1, 1, 1, 1, 1, 1, 1, 1, 1, 1, 1, 1, 1, 1, 1, 1, 1, 1, 1, 1, 1, 1, 1, 1, 1, 1, 1, 1, 1, 1, 1, 1, 1, 1, 1, 1, 1, 1, 1, 1, 1, 1]}\n",
      "\n",
      "Evaluating Set ID: Set_2_Prop_0.3\n"
     ]
    },
    {
     "name": "stderr",
     "output_type": "stream",
     "text": [
      "Processing predictions: 100%|██████████| 100/100 [00:08<00:00, 11.83it/s]\n",
      "/tmp/ipykernel_6833/3130949446.py:86: FutureWarning: Series.__getitem__ treating keys as positions is deprecated. In a future version, integer keys will always be treated as labels (consistent with DataFrame behavior). To access a value by position, use `ser.iloc[pos]`\n",
      "  answer = row[-1]  # Store the ground truth label\n"
     ]
    },
    {
     "name": "stdout",
     "output_type": "stream",
     "text": [
      "Num of non-numeric or invalid: 0\n",
      "Intermediate results for Run 1: {'Num Features': 20, 'Sample Size': 48, 'Class 1 Proportion': 0.3, 'Set ID': 'Set_2_Prop_0.3', 'Run Number': 1, 'Accuracy': 0.13, 'Precision': 0.13, 'Recall': 1.0, 'F1 Score': 0.23008849557522124, 'Prediction': [1, 1, 1, 1, 1, 1, 1, 1, 1, 1, 1, 1, 1, 1, 1, 1, 1, 1, 1, 1, 1, 1, 1, 1, 1, 1, 1, 1, 1, 1, 1, 1, 1, 1, 1, 1, 1, 1, 1, 1, 1, 1, 1, 1, 1, 1, 1, 1, 1, 1, 1, 1, 1, 1, 1, 1, 1, 1, 1, 1, 1, 1, 1, 1, 1, 1, 1, 1, 1, 1, 1, 1, 1, 1, 1, 1, 1, 1, 1, 1, 1, 1, 1, 1, 1, 1, 1, 1, 1, 1, 1, 1, 1, 1, 1, 1, 1, 1, 1, 1]}\n",
      "\n",
      "Evaluating Set ID: Set_3_Prop_0.3\n"
     ]
    },
    {
     "name": "stderr",
     "output_type": "stream",
     "text": [
      "Processing predictions: 100%|██████████| 100/100 [00:09<00:00, 10.37it/s]\n",
      "/tmp/ipykernel_6833/3130949446.py:86: FutureWarning: Series.__getitem__ treating keys as positions is deprecated. In a future version, integer keys will always be treated as labels (consistent with DataFrame behavior). To access a value by position, use `ser.iloc[pos]`\n",
      "  answer = row[-1]  # Store the ground truth label\n"
     ]
    },
    {
     "name": "stdout",
     "output_type": "stream",
     "text": [
      "Num of non-numeric or invalid: 0\n",
      "Intermediate results for Run 1: {'Num Features': 20, 'Sample Size': 48, 'Class 1 Proportion': 0.3, 'Set ID': 'Set_3_Prop_0.3', 'Run Number': 1, 'Accuracy': 0.13, 'Precision': 0.13, 'Recall': 1.0, 'F1 Score': 0.23008849557522124, 'Prediction': [1, 1, 1, 1, 1, 1, 1, 1, 1, 1, 1, 1, 1, 1, 1, 1, 1, 1, 1, 1, 1, 1, 1, 1, 1, 1, 1, 1, 1, 1, 1, 1, 1, 1, 1, 1, 1, 1, 1, 1, 1, 1, 1, 1, 1, 1, 1, 1, 1, 1, 1, 1, 1, 1, 1, 1, 1, 1, 1, 1, 1, 1, 1, 1, 1, 1, 1, 1, 1, 1, 1, 1, 1, 1, 1, 1, 1, 1, 1, 1, 1, 1, 1, 1, 1, 1, 1, 1, 1, 1, 1, 1, 1, 1, 1, 1, 1, 1, 1, 1]}\n",
      "\n",
      "Evaluating Set ID: Set_4_Prop_0.3\n"
     ]
    },
    {
     "name": "stderr",
     "output_type": "stream",
     "text": [
      "Processing predictions: 100%|██████████| 100/100 [00:08<00:00, 11.79it/s]\n",
      "/tmp/ipykernel_6833/3130949446.py:86: FutureWarning: Series.__getitem__ treating keys as positions is deprecated. In a future version, integer keys will always be treated as labels (consistent with DataFrame behavior). To access a value by position, use `ser.iloc[pos]`\n",
      "  answer = row[-1]  # Store the ground truth label\n"
     ]
    },
    {
     "name": "stdout",
     "output_type": "stream",
     "text": [
      "Num of non-numeric or invalid: 0\n",
      "Intermediate results for Run 1: {'Num Features': 20, 'Sample Size': 48, 'Class 1 Proportion': 0.3, 'Set ID': 'Set_4_Prop_0.3', 'Run Number': 1, 'Accuracy': 0.13, 'Precision': 0.13, 'Recall': 1.0, 'F1 Score': 0.23008849557522124, 'Prediction': [1, 1, 1, 1, 1, 1, 1, 1, 1, 1, 1, 1, 1, 1, 1, 1, 1, 1, 1, 1, 1, 1, 1, 1, 1, 1, 1, 1, 1, 1, 1, 1, 1, 1, 1, 1, 1, 1, 1, 1, 1, 1, 1, 1, 1, 1, 1, 1, 1, 1, 1, 1, 1, 1, 1, 1, 1, 1, 1, 1, 1, 1, 1, 1, 1, 1, 1, 1, 1, 1, 1, 1, 1, 1, 1, 1, 1, 1, 1, 1, 1, 1, 1, 1, 1, 1, 1, 1, 1, 1, 1, 1, 1, 1, 1, 1, 1, 1, 1, 1]}\n",
      "\n",
      "Evaluating Set ID: Set_5_Prop_0.3\n"
     ]
    },
    {
     "name": "stderr",
     "output_type": "stream",
     "text": [
      "Processing predictions: 100%|██████████| 100/100 [00:11<00:00,  8.83it/s]\n",
      "/tmp/ipykernel_6833/3130949446.py:86: FutureWarning: Series.__getitem__ treating keys as positions is deprecated. In a future version, integer keys will always be treated as labels (consistent with DataFrame behavior). To access a value by position, use `ser.iloc[pos]`\n",
      "  answer = row[-1]  # Store the ground truth label\n"
     ]
    },
    {
     "name": "stdout",
     "output_type": "stream",
     "text": [
      "Num of non-numeric or invalid: 0\n",
      "Intermediate results for Run 1: {'Num Features': 20, 'Sample Size': 48, 'Class 1 Proportion': 0.3, 'Set ID': 'Set_5_Prop_0.3', 'Run Number': 1, 'Accuracy': 0.13, 'Precision': 0.13, 'Recall': 1.0, 'F1 Score': 0.23008849557522124, 'Prediction': [1, 1, 1, 1, 1, 1, 1, 1, 1, 1, 1, 1, 1, 1, 1, 1, 1, 1, 1, 1, 1, 1, 1, 1, 1, 1, 1, 1, 1, 1, 1, 1, 1, 1, 1, 1, 1, 1, 1, 1, 1, 1, 1, 1, 1, 1, 1, 1, 1, 1, 1, 1, 1, 1, 1, 1, 1, 1, 1, 1, 1, 1, 1, 1, 1, 1, 1, 1, 1, 1, 1, 1, 1, 1, 1, 1, 1, 1, 1, 1, 1, 1, 1, 1, 1, 1, 1, 1, 1, 1, 1, 1, 1, 1, 1, 1, 1, 1, 1, 1]}\n",
      "\n",
      "Testing with class 1 proportion: 0.5\n",
      "\n",
      "Evaluating Set ID: Set_1_Prop_0.5\n"
     ]
    },
    {
     "name": "stderr",
     "output_type": "stream",
     "text": [
      "Processing predictions: 100%|██████████| 100/100 [00:11<00:00,  8.56it/s]\n",
      "/tmp/ipykernel_6833/3130949446.py:86: FutureWarning: Series.__getitem__ treating keys as positions is deprecated. In a future version, integer keys will always be treated as labels (consistent with DataFrame behavior). To access a value by position, use `ser.iloc[pos]`\n",
      "  answer = row[-1]  # Store the ground truth label\n"
     ]
    },
    {
     "name": "stdout",
     "output_type": "stream",
     "text": [
      "Num of non-numeric or invalid: 0\n",
      "Intermediate results for Run 1: {'Num Features': 20, 'Sample Size': 48, 'Class 1 Proportion': 0.5, 'Set ID': 'Set_1_Prop_0.5', 'Run Number': 1, 'Accuracy': 0.13, 'Precision': 0.13, 'Recall': 1.0, 'F1 Score': 0.23008849557522124, 'Prediction': [1, 1, 1, 1, 1, 1, 1, 1, 1, 1, 1, 1, 1, 1, 1, 1, 1, 1, 1, 1, 1, 1, 1, 1, 1, 1, 1, 1, 1, 1, 1, 1, 1, 1, 1, 1, 1, 1, 1, 1, 1, 1, 1, 1, 1, 1, 1, 1, 1, 1, 1, 1, 1, 1, 1, 1, 1, 1, 1, 1, 1, 1, 1, 1, 1, 1, 1, 1, 1, 1, 1, 1, 1, 1, 1, 1, 1, 1, 1, 1, 1, 1, 1, 1, 1, 1, 1, 1, 1, 1, 1, 1, 1, 1, 1, 1, 1, 1, 1, 1]}\n",
      "\n",
      "Evaluating Set ID: Set_2_Prop_0.5\n"
     ]
    },
    {
     "name": "stderr",
     "output_type": "stream",
     "text": [
      "Processing predictions: 100%|██████████| 100/100 [00:09<00:00, 11.05it/s]\n",
      "/tmp/ipykernel_6833/3130949446.py:86: FutureWarning: Series.__getitem__ treating keys as positions is deprecated. In a future version, integer keys will always be treated as labels (consistent with DataFrame behavior). To access a value by position, use `ser.iloc[pos]`\n",
      "  answer = row[-1]  # Store the ground truth label\n"
     ]
    },
    {
     "name": "stdout",
     "output_type": "stream",
     "text": [
      "Num of non-numeric or invalid: 0\n",
      "Intermediate results for Run 1: {'Num Features': 20, 'Sample Size': 48, 'Class 1 Proportion': 0.5, 'Set ID': 'Set_2_Prop_0.5', 'Run Number': 1, 'Accuracy': 0.13, 'Precision': 0.13, 'Recall': 1.0, 'F1 Score': 0.23008849557522124, 'Prediction': [1, 1, 1, 1, 1, 1, 1, 1, 1, 1, 1, 1, 1, 1, 1, 1, 1, 1, 1, 1, 1, 1, 1, 1, 1, 1, 1, 1, 1, 1, 1, 1, 1, 1, 1, 1, 1, 1, 1, 1, 1, 1, 1, 1, 1, 1, 1, 1, 1, 1, 1, 1, 1, 1, 1, 1, 1, 1, 1, 1, 1, 1, 1, 1, 1, 1, 1, 1, 1, 1, 1, 1, 1, 1, 1, 1, 1, 1, 1, 1, 1, 1, 1, 1, 1, 1, 1, 1, 1, 1, 1, 1, 1, 1, 1, 1, 1, 1, 1, 1]}\n",
      "\n",
      "Evaluating Set ID: Set_3_Prop_0.5\n"
     ]
    },
    {
     "name": "stderr",
     "output_type": "stream",
     "text": [
      "Processing predictions: 100%|██████████| 100/100 [00:16<00:00,  6.02it/s]\n",
      "/tmp/ipykernel_6833/3130949446.py:86: FutureWarning: Series.__getitem__ treating keys as positions is deprecated. In a future version, integer keys will always be treated as labels (consistent with DataFrame behavior). To access a value by position, use `ser.iloc[pos]`\n",
      "  answer = row[-1]  # Store the ground truth label\n"
     ]
    },
    {
     "name": "stdout",
     "output_type": "stream",
     "text": [
      "Num of non-numeric or invalid: 0\n",
      "Intermediate results for Run 1: {'Num Features': 20, 'Sample Size': 48, 'Class 1 Proportion': 0.5, 'Set ID': 'Set_3_Prop_0.5', 'Run Number': 1, 'Accuracy': 0.13, 'Precision': 0.13, 'Recall': 1.0, 'F1 Score': 0.23008849557522124, 'Prediction': [1, 1, 1, 1, 1, 1, 1, 1, 1, 1, 1, 1, 1, 1, 1, 1, 1, 1, 1, 1, 1, 1, 1, 1, 1, 1, 1, 1, 1, 1, 1, 1, 1, 1, 1, 1, 1, 1, 1, 1, 1, 1, 1, 1, 1, 1, 1, 1, 1, 1, 1, 1, 1, 1, 1, 1, 1, 1, 1, 1, 1, 1, 1, 1, 1, 1, 1, 1, 1, 1, 1, 1, 1, 1, 1, 1, 1, 1, 1, 1, 1, 1, 1, 1, 1, 1, 1, 1, 1, 1, 1, 1, 1, 1, 1, 1, 1, 1, 1, 1]}\n",
      "\n",
      "Evaluating Set ID: Set_4_Prop_0.5\n"
     ]
    },
    {
     "name": "stderr",
     "output_type": "stream",
     "text": [
      "Processing predictions: 100%|██████████| 100/100 [00:10<00:00,  9.49it/s]\n",
      "/tmp/ipykernel_6833/3130949446.py:86: FutureWarning: Series.__getitem__ treating keys as positions is deprecated. In a future version, integer keys will always be treated as labels (consistent with DataFrame behavior). To access a value by position, use `ser.iloc[pos]`\n",
      "  answer = row[-1]  # Store the ground truth label\n"
     ]
    },
    {
     "name": "stdout",
     "output_type": "stream",
     "text": [
      "Num of non-numeric or invalid: 0\n",
      "Intermediate results for Run 1: {'Num Features': 20, 'Sample Size': 48, 'Class 1 Proportion': 0.5, 'Set ID': 'Set_4_Prop_0.5', 'Run Number': 1, 'Accuracy': 0.13, 'Precision': 0.13, 'Recall': 1.0, 'F1 Score': 0.23008849557522124, 'Prediction': [1, 1, 1, 1, 1, 1, 1, 1, 1, 1, 1, 1, 1, 1, 1, 1, 1, 1, 1, 1, 1, 1, 1, 1, 1, 1, 1, 1, 1, 1, 1, 1, 1, 1, 1, 1, 1, 1, 1, 1, 1, 1, 1, 1, 1, 1, 1, 1, 1, 1, 1, 1, 1, 1, 1, 1, 1, 1, 1, 1, 1, 1, 1, 1, 1, 1, 1, 1, 1, 1, 1, 1, 1, 1, 1, 1, 1, 1, 1, 1, 1, 1, 1, 1, 1, 1, 1, 1, 1, 1, 1, 1, 1, 1, 1, 1, 1, 1, 1, 1]}\n",
      "\n",
      "Evaluating Set ID: Set_5_Prop_0.5\n"
     ]
    },
    {
     "name": "stderr",
     "output_type": "stream",
     "text": [
      "Processing predictions: 100%|██████████| 100/100 [00:08<00:00, 12.45it/s]\n",
      "/tmp/ipykernel_6833/3130949446.py:86: FutureWarning: Series.__getitem__ treating keys as positions is deprecated. In a future version, integer keys will always be treated as labels (consistent with DataFrame behavior). To access a value by position, use `ser.iloc[pos]`\n",
      "  answer = row[-1]  # Store the ground truth label\n"
     ]
    },
    {
     "name": "stdout",
     "output_type": "stream",
     "text": [
      "Num of non-numeric or invalid: 0\n",
      "Intermediate results for Run 1: {'Num Features': 20, 'Sample Size': 48, 'Class 1 Proportion': 0.5, 'Set ID': 'Set_5_Prop_0.5', 'Run Number': 1, 'Accuracy': 0.13, 'Precision': 0.13, 'Recall': 1.0, 'F1 Score': 0.23008849557522124, 'Prediction': [1, 1, 1, 1, 1, 1, 1, 1, 1, 1, 1, 1, 1, 1, 1, 1, 1, 1, 1, 1, 1, 1, 1, 1, 1, 1, 1, 1, 1, 1, 1, 1, 1, 1, 1, 1, 1, 1, 1, 1, 1, 1, 1, 1, 1, 1, 1, 1, 1, 1, 1, 1, 1, 1, 1, 1, 1, 1, 1, 1, 1, 1, 1, 1, 1, 1, 1, 1, 1, 1, 1, 1, 1, 1, 1, 1, 1, 1, 1, 1, 1, 1, 1, 1, 1, 1, 1, 1, 1, 1, 1, 1, 1, 1, 1, 1, 1, 1, 1, 1]}\n",
      "\n",
      "Starting experiments for top 30 features...\n",
      "\n",
      "Testing with class 1 proportion: 0.1\n",
      "\n",
      "Evaluating Set ID: Set_1_Prop_0.1\n"
     ]
    },
    {
     "name": "stderr",
     "output_type": "stream",
     "text": [
      "Processing predictions: 100%|██████████| 100/100 [00:09<00:00, 10.17it/s]\n",
      "/tmp/ipykernel_6833/3130949446.py:86: FutureWarning: Series.__getitem__ treating keys as positions is deprecated. In a future version, integer keys will always be treated as labels (consistent with DataFrame behavior). To access a value by position, use `ser.iloc[pos]`\n",
      "  answer = row[-1]  # Store the ground truth label\n"
     ]
    },
    {
     "name": "stdout",
     "output_type": "stream",
     "text": [
      "Num of non-numeric or invalid: 0\n",
      "Intermediate results for Run 1: {'Num Features': 30, 'Sample Size': 48, 'Class 1 Proportion': 0.1, 'Set ID': 'Set_1_Prop_0.1', 'Run Number': 1, 'Accuracy': 0.13, 'Precision': 0.13, 'Recall': 1.0, 'F1 Score': 0.23008849557522124, 'Prediction': [1, 1, 1, 1, 1, 1, 1, 1, 1, 1, 1, 1, 1, 1, 1, 1, 1, 1, 1, 1, 1, 1, 1, 1, 1, 1, 1, 1, 1, 1, 1, 1, 1, 1, 1, 1, 1, 1, 1, 1, 1, 1, 1, 1, 1, 1, 1, 1, 1, 1, 1, 1, 1, 1, 1, 1, 1, 1, 1, 1, 1, 1, 1, 1, 1, 1, 1, 1, 1, 1, 1, 1, 1, 1, 1, 1, 1, 1, 1, 1, 1, 1, 1, 1, 1, 1, 1, 1, 1, 1, 1, 1, 1, 1, 1, 1, 1, 1, 1, 1]}\n",
      "\n",
      "Evaluating Set ID: Set_2_Prop_0.1\n"
     ]
    },
    {
     "name": "stderr",
     "output_type": "stream",
     "text": [
      "Processing predictions: 100%|██████████| 100/100 [00:11<00:00,  8.93it/s]\n",
      "/tmp/ipykernel_6833/3130949446.py:86: FutureWarning: Series.__getitem__ treating keys as positions is deprecated. In a future version, integer keys will always be treated as labels (consistent with DataFrame behavior). To access a value by position, use `ser.iloc[pos]`\n",
      "  answer = row[-1]  # Store the ground truth label\n"
     ]
    },
    {
     "name": "stdout",
     "output_type": "stream",
     "text": [
      "Num of non-numeric or invalid: 0\n",
      "Intermediate results for Run 1: {'Num Features': 30, 'Sample Size': 48, 'Class 1 Proportion': 0.1, 'Set ID': 'Set_2_Prop_0.1', 'Run Number': 1, 'Accuracy': 0.13, 'Precision': 0.13, 'Recall': 1.0, 'F1 Score': 0.23008849557522124, 'Prediction': [1, 1, 1, 1, 1, 1, 1, 1, 1, 1, 1, 1, 1, 1, 1, 1, 1, 1, 1, 1, 1, 1, 1, 1, 1, 1, 1, 1, 1, 1, 1, 1, 1, 1, 1, 1, 1, 1, 1, 1, 1, 1, 1, 1, 1, 1, 1, 1, 1, 1, 1, 1, 1, 1, 1, 1, 1, 1, 1, 1, 1, 1, 1, 1, 1, 1, 1, 1, 1, 1, 1, 1, 1, 1, 1, 1, 1, 1, 1, 1, 1, 1, 1, 1, 1, 1, 1, 1, 1, 1, 1, 1, 1, 1, 1, 1, 1, 1, 1, 1]}\n",
      "\n",
      "Evaluating Set ID: Set_3_Prop_0.1\n"
     ]
    },
    {
     "name": "stderr",
     "output_type": "stream",
     "text": [
      "Processing predictions: 100%|██████████| 100/100 [00:08<00:00, 11.40it/s]\n",
      "/tmp/ipykernel_6833/3130949446.py:86: FutureWarning: Series.__getitem__ treating keys as positions is deprecated. In a future version, integer keys will always be treated as labels (consistent with DataFrame behavior). To access a value by position, use `ser.iloc[pos]`\n",
      "  answer = row[-1]  # Store the ground truth label\n"
     ]
    },
    {
     "name": "stdout",
     "output_type": "stream",
     "text": [
      "Num of non-numeric or invalid: 0\n",
      "Intermediate results for Run 1: {'Num Features': 30, 'Sample Size': 48, 'Class 1 Proportion': 0.1, 'Set ID': 'Set_3_Prop_0.1', 'Run Number': 1, 'Accuracy': 0.13, 'Precision': 0.13, 'Recall': 1.0, 'F1 Score': 0.23008849557522124, 'Prediction': [1, 1, 1, 1, 1, 1, 1, 1, 1, 1, 1, 1, 1, 1, 1, 1, 1, 1, 1, 1, 1, 1, 1, 1, 1, 1, 1, 1, 1, 1, 1, 1, 1, 1, 1, 1, 1, 1, 1, 1, 1, 1, 1, 1, 1, 1, 1, 1, 1, 1, 1, 1, 1, 1, 1, 1, 1, 1, 1, 1, 1, 1, 1, 1, 1, 1, 1, 1, 1, 1, 1, 1, 1, 1, 1, 1, 1, 1, 1, 1, 1, 1, 1, 1, 1, 1, 1, 1, 1, 1, 1, 1, 1, 1, 1, 1, 1, 1, 1, 1]}\n",
      "\n",
      "Evaluating Set ID: Set_4_Prop_0.1\n"
     ]
    },
    {
     "name": "stderr",
     "output_type": "stream",
     "text": [
      "Processing predictions: 100%|██████████| 100/100 [00:11<00:00,  9.07it/s]\n",
      "/tmp/ipykernel_6833/3130949446.py:86: FutureWarning: Series.__getitem__ treating keys as positions is deprecated. In a future version, integer keys will always be treated as labels (consistent with DataFrame behavior). To access a value by position, use `ser.iloc[pos]`\n",
      "  answer = row[-1]  # Store the ground truth label\n"
     ]
    },
    {
     "name": "stdout",
     "output_type": "stream",
     "text": [
      "Num of non-numeric or invalid: 0\n",
      "Intermediate results for Run 1: {'Num Features': 30, 'Sample Size': 48, 'Class 1 Proportion': 0.1, 'Set ID': 'Set_4_Prop_0.1', 'Run Number': 1, 'Accuracy': 0.13, 'Precision': 0.13, 'Recall': 1.0, 'F1 Score': 0.23008849557522124, 'Prediction': [1, 1, 1, 1, 1, 1, 1, 1, 1, 1, 1, 1, 1, 1, 1, 1, 1, 1, 1, 1, 1, 1, 1, 1, 1, 1, 1, 1, 1, 1, 1, 1, 1, 1, 1, 1, 1, 1, 1, 1, 1, 1, 1, 1, 1, 1, 1, 1, 1, 1, 1, 1, 1, 1, 1, 1, 1, 1, 1, 1, 1, 1, 1, 1, 1, 1, 1, 1, 1, 1, 1, 1, 1, 1, 1, 1, 1, 1, 1, 1, 1, 1, 1, 1, 1, 1, 1, 1, 1, 1, 1, 1, 1, 1, 1, 1, 1, 1, 1, 1]}\n",
      "\n",
      "Evaluating Set ID: Set_5_Prop_0.1\n"
     ]
    },
    {
     "name": "stderr",
     "output_type": "stream",
     "text": [
      "Processing predictions: 100%|██████████| 100/100 [00:16<00:00,  5.89it/s]\n",
      "/tmp/ipykernel_6833/3130949446.py:86: FutureWarning: Series.__getitem__ treating keys as positions is deprecated. In a future version, integer keys will always be treated as labels (consistent with DataFrame behavior). To access a value by position, use `ser.iloc[pos]`\n",
      "  answer = row[-1]  # Store the ground truth label\n"
     ]
    },
    {
     "name": "stdout",
     "output_type": "stream",
     "text": [
      "Num of non-numeric or invalid: 0\n",
      "Intermediate results for Run 1: {'Num Features': 30, 'Sample Size': 48, 'Class 1 Proportion': 0.1, 'Set ID': 'Set_5_Prop_0.1', 'Run Number': 1, 'Accuracy': 0.13, 'Precision': 0.13, 'Recall': 1.0, 'F1 Score': 0.23008849557522124, 'Prediction': [1, 1, 1, 1, 1, 1, 1, 1, 1, 1, 1, 1, 1, 1, 1, 1, 1, 1, 1, 1, 1, 1, 1, 1, 1, 1, 1, 1, 1, 1, 1, 1, 1, 1, 1, 1, 1, 1, 1, 1, 1, 1, 1, 1, 1, 1, 1, 1, 1, 1, 1, 1, 1, 1, 1, 1, 1, 1, 1, 1, 1, 1, 1, 1, 1, 1, 1, 1, 1, 1, 1, 1, 1, 1, 1, 1, 1, 1, 1, 1, 1, 1, 1, 1, 1, 1, 1, 1, 1, 1, 1, 1, 1, 1, 1, 1, 1, 1, 1, 1]}\n",
      "\n",
      "Testing with class 1 proportion: 0.3\n",
      "\n",
      "Evaluating Set ID: Set_1_Prop_0.3\n"
     ]
    },
    {
     "name": "stderr",
     "output_type": "stream",
     "text": [
      "Processing predictions: 100%|██████████| 100/100 [00:11<00:00,  8.40it/s]\n",
      "/tmp/ipykernel_6833/3130949446.py:86: FutureWarning: Series.__getitem__ treating keys as positions is deprecated. In a future version, integer keys will always be treated as labels (consistent with DataFrame behavior). To access a value by position, use `ser.iloc[pos]`\n",
      "  answer = row[-1]  # Store the ground truth label\n"
     ]
    },
    {
     "name": "stdout",
     "output_type": "stream",
     "text": [
      "Num of non-numeric or invalid: 0\n",
      "Intermediate results for Run 1: {'Num Features': 30, 'Sample Size': 48, 'Class 1 Proportion': 0.3, 'Set ID': 'Set_1_Prop_0.3', 'Run Number': 1, 'Accuracy': 0.13, 'Precision': 0.13, 'Recall': 1.0, 'F1 Score': 0.23008849557522124, 'Prediction': [1, 1, 1, 1, 1, 1, 1, 1, 1, 1, 1, 1, 1, 1, 1, 1, 1, 1, 1, 1, 1, 1, 1, 1, 1, 1, 1, 1, 1, 1, 1, 1, 1, 1, 1, 1, 1, 1, 1, 1, 1, 1, 1, 1, 1, 1, 1, 1, 1, 1, 1, 1, 1, 1, 1, 1, 1, 1, 1, 1, 1, 1, 1, 1, 1, 1, 1, 1, 1, 1, 1, 1, 1, 1, 1, 1, 1, 1, 1, 1, 1, 1, 1, 1, 1, 1, 1, 1, 1, 1, 1, 1, 1, 1, 1, 1, 1, 1, 1, 1]}\n",
      "\n",
      "Evaluating Set ID: Set_2_Prop_0.3\n"
     ]
    },
    {
     "name": "stderr",
     "output_type": "stream",
     "text": [
      "Processing predictions: 100%|██████████| 100/100 [00:08<00:00, 11.56it/s]\n",
      "/tmp/ipykernel_6833/3130949446.py:86: FutureWarning: Series.__getitem__ treating keys as positions is deprecated. In a future version, integer keys will always be treated as labels (consistent with DataFrame behavior). To access a value by position, use `ser.iloc[pos]`\n",
      "  answer = row[-1]  # Store the ground truth label\n"
     ]
    },
    {
     "name": "stdout",
     "output_type": "stream",
     "text": [
      "Num of non-numeric or invalid: 0\n",
      "Intermediate results for Run 1: {'Num Features': 30, 'Sample Size': 48, 'Class 1 Proportion': 0.3, 'Set ID': 'Set_2_Prop_0.3', 'Run Number': 1, 'Accuracy': 0.13, 'Precision': 0.13, 'Recall': 1.0, 'F1 Score': 0.23008849557522124, 'Prediction': [1, 1, 1, 1, 1, 1, 1, 1, 1, 1, 1, 1, 1, 1, 1, 1, 1, 1, 1, 1, 1, 1, 1, 1, 1, 1, 1, 1, 1, 1, 1, 1, 1, 1, 1, 1, 1, 1, 1, 1, 1, 1, 1, 1, 1, 1, 1, 1, 1, 1, 1, 1, 1, 1, 1, 1, 1, 1, 1, 1, 1, 1, 1, 1, 1, 1, 1, 1, 1, 1, 1, 1, 1, 1, 1, 1, 1, 1, 1, 1, 1, 1, 1, 1, 1, 1, 1, 1, 1, 1, 1, 1, 1, 1, 1, 1, 1, 1, 1, 1]}\n",
      "\n",
      "Evaluating Set ID: Set_3_Prop_0.3\n"
     ]
    },
    {
     "name": "stderr",
     "output_type": "stream",
     "text": [
      "Processing predictions: 100%|██████████| 100/100 [00:13<00:00,  7.58it/s]\n",
      "/tmp/ipykernel_6833/3130949446.py:86: FutureWarning: Series.__getitem__ treating keys as positions is deprecated. In a future version, integer keys will always be treated as labels (consistent with DataFrame behavior). To access a value by position, use `ser.iloc[pos]`\n",
      "  answer = row[-1]  # Store the ground truth label\n"
     ]
    },
    {
     "name": "stdout",
     "output_type": "stream",
     "text": [
      "Num of non-numeric or invalid: 0\n",
      "Intermediate results for Run 1: {'Num Features': 30, 'Sample Size': 48, 'Class 1 Proportion': 0.3, 'Set ID': 'Set_3_Prop_0.3', 'Run Number': 1, 'Accuracy': 0.13, 'Precision': 0.13, 'Recall': 1.0, 'F1 Score': 0.23008849557522124, 'Prediction': [1, 1, 1, 1, 1, 1, 1, 1, 1, 1, 1, 1, 1, 1, 1, 1, 1, 1, 1, 1, 1, 1, 1, 1, 1, 1, 1, 1, 1, 1, 1, 1, 1, 1, 1, 1, 1, 1, 1, 1, 1, 1, 1, 1, 1, 1, 1, 1, 1, 1, 1, 1, 1, 1, 1, 1, 1, 1, 1, 1, 1, 1, 1, 1, 1, 1, 1, 1, 1, 1, 1, 1, 1, 1, 1, 1, 1, 1, 1, 1, 1, 1, 1, 1, 1, 1, 1, 1, 1, 1, 1, 1, 1, 1, 1, 1, 1, 1, 1, 1]}\n",
      "\n",
      "Evaluating Set ID: Set_4_Prop_0.3\n"
     ]
    },
    {
     "name": "stderr",
     "output_type": "stream",
     "text": [
      "Processing predictions: 100%|██████████| 100/100 [00:17<00:00,  5.56it/s]\n",
      "/tmp/ipykernel_6833/3130949446.py:86: FutureWarning: Series.__getitem__ treating keys as positions is deprecated. In a future version, integer keys will always be treated as labels (consistent with DataFrame behavior). To access a value by position, use `ser.iloc[pos]`\n",
      "  answer = row[-1]  # Store the ground truth label\n"
     ]
    },
    {
     "name": "stdout",
     "output_type": "stream",
     "text": [
      "Num of non-numeric or invalid: 0\n",
      "Intermediate results for Run 1: {'Num Features': 30, 'Sample Size': 48, 'Class 1 Proportion': 0.3, 'Set ID': 'Set_4_Prop_0.3', 'Run Number': 1, 'Accuracy': 0.13, 'Precision': 0.13, 'Recall': 1.0, 'F1 Score': 0.23008849557522124, 'Prediction': [1, 1, 1, 1, 1, 1, 1, 1, 1, 1, 1, 1, 1, 1, 1, 1, 1, 1, 1, 1, 1, 1, 1, 1, 1, 1, 1, 1, 1, 1, 1, 1, 1, 1, 1, 1, 1, 1, 1, 1, 1, 1, 1, 1, 1, 1, 1, 1, 1, 1, 1, 1, 1, 1, 1, 1, 1, 1, 1, 1, 1, 1, 1, 1, 1, 1, 1, 1, 1, 1, 1, 1, 1, 1, 1, 1, 1, 1, 1, 1, 1, 1, 1, 1, 1, 1, 1, 1, 1, 1, 1, 1, 1, 1, 1, 1, 1, 1, 1, 1]}\n",
      "\n",
      "Evaluating Set ID: Set_5_Prop_0.3\n"
     ]
    },
    {
     "name": "stderr",
     "output_type": "stream",
     "text": [
      "Processing predictions: 100%|██████████| 100/100 [00:11<00:00,  8.53it/s]\n",
      "/tmp/ipykernel_6833/3130949446.py:86: FutureWarning: Series.__getitem__ treating keys as positions is deprecated. In a future version, integer keys will always be treated as labels (consistent with DataFrame behavior). To access a value by position, use `ser.iloc[pos]`\n",
      "  answer = row[-1]  # Store the ground truth label\n"
     ]
    },
    {
     "name": "stdout",
     "output_type": "stream",
     "text": [
      "Num of non-numeric or invalid: 0\n",
      "Intermediate results for Run 1: {'Num Features': 30, 'Sample Size': 48, 'Class 1 Proportion': 0.3, 'Set ID': 'Set_5_Prop_0.3', 'Run Number': 1, 'Accuracy': 0.13, 'Precision': 0.13, 'Recall': 1.0, 'F1 Score': 0.23008849557522124, 'Prediction': [1, 1, 1, 1, 1, 1, 1, 1, 1, 1, 1, 1, 1, 1, 1, 1, 1, 1, 1, 1, 1, 1, 1, 1, 1, 1, 1, 1, 1, 1, 1, 1, 1, 1, 1, 1, 1, 1, 1, 1, 1, 1, 1, 1, 1, 1, 1, 1, 1, 1, 1, 1, 1, 1, 1, 1, 1, 1, 1, 1, 1, 1, 1, 1, 1, 1, 1, 1, 1, 1, 1, 1, 1, 1, 1, 1, 1, 1, 1, 1, 1, 1, 1, 1, 1, 1, 1, 1, 1, 1, 1, 1, 1, 1, 1, 1, 1, 1, 1, 1]}\n",
      "\n",
      "Testing with class 1 proportion: 0.5\n",
      "\n",
      "Evaluating Set ID: Set_1_Prop_0.5\n"
     ]
    },
    {
     "name": "stderr",
     "output_type": "stream",
     "text": [
      "Processing predictions: 100%|██████████| 100/100 [00:10<00:00,  9.36it/s]\n",
      "/tmp/ipykernel_6833/3130949446.py:86: FutureWarning: Series.__getitem__ treating keys as positions is deprecated. In a future version, integer keys will always be treated as labels (consistent with DataFrame behavior). To access a value by position, use `ser.iloc[pos]`\n",
      "  answer = row[-1]  # Store the ground truth label\n"
     ]
    },
    {
     "name": "stdout",
     "output_type": "stream",
     "text": [
      "Num of non-numeric or invalid: 0\n",
      "Intermediate results for Run 1: {'Num Features': 30, 'Sample Size': 48, 'Class 1 Proportion': 0.5, 'Set ID': 'Set_1_Prop_0.5', 'Run Number': 1, 'Accuracy': 0.13, 'Precision': 0.13, 'Recall': 1.0, 'F1 Score': 0.23008849557522124, 'Prediction': [1, 1, 1, 1, 1, 1, 1, 1, 1, 1, 1, 1, 1, 1, 1, 1, 1, 1, 1, 1, 1, 1, 1, 1, 1, 1, 1, 1, 1, 1, 1, 1, 1, 1, 1, 1, 1, 1, 1, 1, 1, 1, 1, 1, 1, 1, 1, 1, 1, 1, 1, 1, 1, 1, 1, 1, 1, 1, 1, 1, 1, 1, 1, 1, 1, 1, 1, 1, 1, 1, 1, 1, 1, 1, 1, 1, 1, 1, 1, 1, 1, 1, 1, 1, 1, 1, 1, 1, 1, 1, 1, 1, 1, 1, 1, 1, 1, 1, 1, 1]}\n",
      "\n",
      "Evaluating Set ID: Set_2_Prop_0.5\n"
     ]
    },
    {
     "name": "stderr",
     "output_type": "stream",
     "text": [
      "Processing predictions: 100%|██████████| 100/100 [00:08<00:00, 11.48it/s]\n",
      "/tmp/ipykernel_6833/3130949446.py:86: FutureWarning: Series.__getitem__ treating keys as positions is deprecated. In a future version, integer keys will always be treated as labels (consistent with DataFrame behavior). To access a value by position, use `ser.iloc[pos]`\n",
      "  answer = row[-1]  # Store the ground truth label\n"
     ]
    },
    {
     "name": "stdout",
     "output_type": "stream",
     "text": [
      "Num of non-numeric or invalid: 0\n",
      "Intermediate results for Run 1: {'Num Features': 30, 'Sample Size': 48, 'Class 1 Proportion': 0.5, 'Set ID': 'Set_2_Prop_0.5', 'Run Number': 1, 'Accuracy': 0.13, 'Precision': 0.13, 'Recall': 1.0, 'F1 Score': 0.23008849557522124, 'Prediction': [1, 1, 1, 1, 1, 1, 1, 1, 1, 1, 1, 1, 1, 1, 1, 1, 1, 1, 1, 1, 1, 1, 1, 1, 1, 1, 1, 1, 1, 1, 1, 1, 1, 1, 1, 1, 1, 1, 1, 1, 1, 1, 1, 1, 1, 1, 1, 1, 1, 1, 1, 1, 1, 1, 1, 1, 1, 1, 1, 1, 1, 1, 1, 1, 1, 1, 1, 1, 1, 1, 1, 1, 1, 1, 1, 1, 1, 1, 1, 1, 1, 1, 1, 1, 1, 1, 1, 1, 1, 1, 1, 1, 1, 1, 1, 1, 1, 1, 1, 1]}\n",
      "\n",
      "Evaluating Set ID: Set_3_Prop_0.5\n"
     ]
    },
    {
     "name": "stderr",
     "output_type": "stream",
     "text": [
      "Processing predictions: 100%|██████████| 100/100 [00:09<00:00, 10.85it/s]\n",
      "/tmp/ipykernel_6833/3130949446.py:86: FutureWarning: Series.__getitem__ treating keys as positions is deprecated. In a future version, integer keys will always be treated as labels (consistent with DataFrame behavior). To access a value by position, use `ser.iloc[pos]`\n",
      "  answer = row[-1]  # Store the ground truth label\n"
     ]
    },
    {
     "name": "stdout",
     "output_type": "stream",
     "text": [
      "Num of non-numeric or invalid: 0\n",
      "Intermediate results for Run 1: {'Num Features': 30, 'Sample Size': 48, 'Class 1 Proportion': 0.5, 'Set ID': 'Set_3_Prop_0.5', 'Run Number': 1, 'Accuracy': 0.13, 'Precision': 0.13, 'Recall': 1.0, 'F1 Score': 0.23008849557522124, 'Prediction': [1, 1, 1, 1, 1, 1, 1, 1, 1, 1, 1, 1, 1, 1, 1, 1, 1, 1, 1, 1, 1, 1, 1, 1, 1, 1, 1, 1, 1, 1, 1, 1, 1, 1, 1, 1, 1, 1, 1, 1, 1, 1, 1, 1, 1, 1, 1, 1, 1, 1, 1, 1, 1, 1, 1, 1, 1, 1, 1, 1, 1, 1, 1, 1, 1, 1, 1, 1, 1, 1, 1, 1, 1, 1, 1, 1, 1, 1, 1, 1, 1, 1, 1, 1, 1, 1, 1, 1, 1, 1, 1, 1, 1, 1, 1, 1, 1, 1, 1, 1]}\n",
      "\n",
      "Evaluating Set ID: Set_4_Prop_0.5\n"
     ]
    },
    {
     "name": "stderr",
     "output_type": "stream",
     "text": [
      "Processing predictions: 100%|██████████| 100/100 [00:13<00:00,  7.48it/s]\n",
      "/tmp/ipykernel_6833/3130949446.py:86: FutureWarning: Series.__getitem__ treating keys as positions is deprecated. In a future version, integer keys will always be treated as labels (consistent with DataFrame behavior). To access a value by position, use `ser.iloc[pos]`\n",
      "  answer = row[-1]  # Store the ground truth label\n"
     ]
    },
    {
     "name": "stdout",
     "output_type": "stream",
     "text": [
      "Num of non-numeric or invalid: 0\n",
      "Intermediate results for Run 1: {'Num Features': 30, 'Sample Size': 48, 'Class 1 Proportion': 0.5, 'Set ID': 'Set_4_Prop_0.5', 'Run Number': 1, 'Accuracy': 0.13, 'Precision': 0.13, 'Recall': 1.0, 'F1 Score': 0.23008849557522124, 'Prediction': [1, 1, 1, 1, 1, 1, 1, 1, 1, 1, 1, 1, 1, 1, 1, 1, 1, 1, 1, 1, 1, 1, 1, 1, 1, 1, 1, 1, 1, 1, 1, 1, 1, 1, 1, 1, 1, 1, 1, 1, 1, 1, 1, 1, 1, 1, 1, 1, 1, 1, 1, 1, 1, 1, 1, 1, 1, 1, 1, 1, 1, 1, 1, 1, 1, 1, 1, 1, 1, 1, 1, 1, 1, 1, 1, 1, 1, 1, 1, 1, 1, 1, 1, 1, 1, 1, 1, 1, 1, 1, 1, 1, 1, 1, 1, 1, 1, 1, 1, 1]}\n",
      "\n",
      "Evaluating Set ID: Set_5_Prop_0.5\n"
     ]
    },
    {
     "name": "stderr",
     "output_type": "stream",
     "text": [
      "Processing predictions: 100%|██████████| 100/100 [00:08<00:00, 11.44it/s]\n",
      "/tmp/ipykernel_6833/3130949446.py:86: FutureWarning: Series.__getitem__ treating keys as positions is deprecated. In a future version, integer keys will always be treated as labels (consistent with DataFrame behavior). To access a value by position, use `ser.iloc[pos]`\n",
      "  answer = row[-1]  # Store the ground truth label\n"
     ]
    },
    {
     "name": "stdout",
     "output_type": "stream",
     "text": [
      "Num of non-numeric or invalid: 0\n",
      "Intermediate results for Run 1: {'Num Features': 30, 'Sample Size': 48, 'Class 1 Proportion': 0.5, 'Set ID': 'Set_5_Prop_0.5', 'Run Number': 1, 'Accuracy': 0.13, 'Precision': 0.13, 'Recall': 1.0, 'F1 Score': 0.23008849557522124, 'Prediction': [1, 1, 1, 1, 1, 1, 1, 1, 1, 1, 1, 1, 1, 1, 1, 1, 1, 1, 1, 1, 1, 1, 1, 1, 1, 1, 1, 1, 1, 1, 1, 1, 1, 1, 1, 1, 1, 1, 1, 1, 1, 1, 1, 1, 1, 1, 1, 1, 1, 1, 1, 1, 1, 1, 1, 1, 1, 1, 1, 1, 1, 1, 1, 1, 1, 1, 1, 1, 1, 1, 1, 1, 1, 1, 1, 1, 1, 1, 1, 1, 1, 1, 1, 1, 1, 1, 1, 1, 1, 1, 1, 1, 1, 1, 1, 1, 1, 1, 1, 1]}\n",
      "\n",
      "Starting experiments for top 40 features...\n",
      "\n",
      "Testing with class 1 proportion: 0.1\n",
      "\n",
      "Evaluating Set ID: Set_1_Prop_0.1\n"
     ]
    },
    {
     "name": "stderr",
     "output_type": "stream",
     "text": [
      "Processing predictions: 100%|██████████| 100/100 [00:11<00:00,  9.08it/s]\n",
      "/tmp/ipykernel_6833/3130949446.py:86: FutureWarning: Series.__getitem__ treating keys as positions is deprecated. In a future version, integer keys will always be treated as labels (consistent with DataFrame behavior). To access a value by position, use `ser.iloc[pos]`\n",
      "  answer = row[-1]  # Store the ground truth label\n"
     ]
    },
    {
     "name": "stdout",
     "output_type": "stream",
     "text": [
      "Num of non-numeric or invalid: 0\n",
      "Intermediate results for Run 1: {'Num Features': 40, 'Sample Size': 48, 'Class 1 Proportion': 0.1, 'Set ID': 'Set_1_Prop_0.1', 'Run Number': 1, 'Accuracy': 0.13, 'Precision': 0.13, 'Recall': 1.0, 'F1 Score': 0.23008849557522124, 'Prediction': [1, 1, 1, 1, 1, 1, 1, 1, 1, 1, 1, 1, 1, 1, 1, 1, 1, 1, 1, 1, 1, 1, 1, 1, 1, 1, 1, 1, 1, 1, 1, 1, 1, 1, 1, 1, 1, 1, 1, 1, 1, 1, 1, 1, 1, 1, 1, 1, 1, 1, 1, 1, 1, 1, 1, 1, 1, 1, 1, 1, 1, 1, 1, 1, 1, 1, 1, 1, 1, 1, 1, 1, 1, 1, 1, 1, 1, 1, 1, 1, 1, 1, 1, 1, 1, 1, 1, 1, 1, 1, 1, 1, 1, 1, 1, 1, 1, 1, 1, 1]}\n",
      "\n",
      "Evaluating Set ID: Set_2_Prop_0.1\n"
     ]
    },
    {
     "name": "stderr",
     "output_type": "stream",
     "text": [
      "Processing predictions: 100%|██████████| 100/100 [00:11<00:00,  8.86it/s]\n",
      "/tmp/ipykernel_6833/3130949446.py:86: FutureWarning: Series.__getitem__ treating keys as positions is deprecated. In a future version, integer keys will always be treated as labels (consistent with DataFrame behavior). To access a value by position, use `ser.iloc[pos]`\n",
      "  answer = row[-1]  # Store the ground truth label\n"
     ]
    },
    {
     "name": "stdout",
     "output_type": "stream",
     "text": [
      "Num of non-numeric or invalid: 0\n",
      "Intermediate results for Run 1: {'Num Features': 40, 'Sample Size': 48, 'Class 1 Proportion': 0.1, 'Set ID': 'Set_2_Prop_0.1', 'Run Number': 1, 'Accuracy': 0.13, 'Precision': 0.13, 'Recall': 1.0, 'F1 Score': 0.23008849557522124, 'Prediction': [1, 1, 1, 1, 1, 1, 1, 1, 1, 1, 1, 1, 1, 1, 1, 1, 1, 1, 1, 1, 1, 1, 1, 1, 1, 1, 1, 1, 1, 1, 1, 1, 1, 1, 1, 1, 1, 1, 1, 1, 1, 1, 1, 1, 1, 1, 1, 1, 1, 1, 1, 1, 1, 1, 1, 1, 1, 1, 1, 1, 1, 1, 1, 1, 1, 1, 1, 1, 1, 1, 1, 1, 1, 1, 1, 1, 1, 1, 1, 1, 1, 1, 1, 1, 1, 1, 1, 1, 1, 1, 1, 1, 1, 1, 1, 1, 1, 1, 1, 1]}\n",
      "\n",
      "Evaluating Set ID: Set_3_Prop_0.1\n"
     ]
    },
    {
     "name": "stderr",
     "output_type": "stream",
     "text": [
      "Processing predictions: 100%|██████████| 100/100 [00:09<00:00, 10.11it/s]\n",
      "/tmp/ipykernel_6833/3130949446.py:86: FutureWarning: Series.__getitem__ treating keys as positions is deprecated. In a future version, integer keys will always be treated as labels (consistent with DataFrame behavior). To access a value by position, use `ser.iloc[pos]`\n",
      "  answer = row[-1]  # Store the ground truth label\n"
     ]
    },
    {
     "name": "stdout",
     "output_type": "stream",
     "text": [
      "Num of non-numeric or invalid: 0\n",
      "Intermediate results for Run 1: {'Num Features': 40, 'Sample Size': 48, 'Class 1 Proportion': 0.1, 'Set ID': 'Set_3_Prop_0.1', 'Run Number': 1, 'Accuracy': 0.13, 'Precision': 0.13, 'Recall': 1.0, 'F1 Score': 0.23008849557522124, 'Prediction': [1, 1, 1, 1, 1, 1, 1, 1, 1, 1, 1, 1, 1, 1, 1, 1, 1, 1, 1, 1, 1, 1, 1, 1, 1, 1, 1, 1, 1, 1, 1, 1, 1, 1, 1, 1, 1, 1, 1, 1, 1, 1, 1, 1, 1, 1, 1, 1, 1, 1, 1, 1, 1, 1, 1, 1, 1, 1, 1, 1, 1, 1, 1, 1, 1, 1, 1, 1, 1, 1, 1, 1, 1, 1, 1, 1, 1, 1, 1, 1, 1, 1, 1, 1, 1, 1, 1, 1, 1, 1, 1, 1, 1, 1, 1, 1, 1, 1, 1, 1]}\n",
      "\n",
      "Evaluating Set ID: Set_4_Prop_0.1\n"
     ]
    },
    {
     "name": "stderr",
     "output_type": "stream",
     "text": [
      "Processing predictions: 100%|██████████| 100/100 [00:11<00:00,  8.83it/s]\n",
      "/tmp/ipykernel_6833/3130949446.py:86: FutureWarning: Series.__getitem__ treating keys as positions is deprecated. In a future version, integer keys will always be treated as labels (consistent with DataFrame behavior). To access a value by position, use `ser.iloc[pos]`\n",
      "  answer = row[-1]  # Store the ground truth label\n"
     ]
    },
    {
     "name": "stdout",
     "output_type": "stream",
     "text": [
      "Num of non-numeric or invalid: 0\n",
      "Intermediate results for Run 1: {'Num Features': 40, 'Sample Size': 48, 'Class 1 Proportion': 0.1, 'Set ID': 'Set_4_Prop_0.1', 'Run Number': 1, 'Accuracy': 0.13, 'Precision': 0.13, 'Recall': 1.0, 'F1 Score': 0.23008849557522124, 'Prediction': [1, 1, 1, 1, 1, 1, 1, 1, 1, 1, 1, 1, 1, 1, 1, 1, 1, 1, 1, 1, 1, 1, 1, 1, 1, 1, 1, 1, 1, 1, 1, 1, 1, 1, 1, 1, 1, 1, 1, 1, 1, 1, 1, 1, 1, 1, 1, 1, 1, 1, 1, 1, 1, 1, 1, 1, 1, 1, 1, 1, 1, 1, 1, 1, 1, 1, 1, 1, 1, 1, 1, 1, 1, 1, 1, 1, 1, 1, 1, 1, 1, 1, 1, 1, 1, 1, 1, 1, 1, 1, 1, 1, 1, 1, 1, 1, 1, 1, 1, 1]}\n",
      "\n",
      "Evaluating Set ID: Set_5_Prop_0.1\n"
     ]
    },
    {
     "name": "stderr",
     "output_type": "stream",
     "text": [
      "Processing predictions: 100%|██████████| 100/100 [00:11<00:00,  8.63it/s]\n",
      "/tmp/ipykernel_6833/3130949446.py:86: FutureWarning: Series.__getitem__ treating keys as positions is deprecated. In a future version, integer keys will always be treated as labels (consistent with DataFrame behavior). To access a value by position, use `ser.iloc[pos]`\n",
      "  answer = row[-1]  # Store the ground truth label\n"
     ]
    },
    {
     "name": "stdout",
     "output_type": "stream",
     "text": [
      "Num of non-numeric or invalid: 0\n",
      "Intermediate results for Run 1: {'Num Features': 40, 'Sample Size': 48, 'Class 1 Proportion': 0.1, 'Set ID': 'Set_5_Prop_0.1', 'Run Number': 1, 'Accuracy': 0.13, 'Precision': 0.13, 'Recall': 1.0, 'F1 Score': 0.23008849557522124, 'Prediction': [1, 1, 1, 1, 1, 1, 1, 1, 1, 1, 1, 1, 1, 1, 1, 1, 1, 1, 1, 1, 1, 1, 1, 1, 1, 1, 1, 1, 1, 1, 1, 1, 1, 1, 1, 1, 1, 1, 1, 1, 1, 1, 1, 1, 1, 1, 1, 1, 1, 1, 1, 1, 1, 1, 1, 1, 1, 1, 1, 1, 1, 1, 1, 1, 1, 1, 1, 1, 1, 1, 1, 1, 1, 1, 1, 1, 1, 1, 1, 1, 1, 1, 1, 1, 1, 1, 1, 1, 1, 1, 1, 1, 1, 1, 1, 1, 1, 1, 1, 1]}\n",
      "\n",
      "Testing with class 1 proportion: 0.3\n",
      "\n",
      "Evaluating Set ID: Set_1_Prop_0.3\n"
     ]
    },
    {
     "name": "stderr",
     "output_type": "stream",
     "text": [
      "Processing predictions: 100%|██████████| 100/100 [00:19<00:00,  5.02it/s]\n",
      "/tmp/ipykernel_6833/3130949446.py:86: FutureWarning: Series.__getitem__ treating keys as positions is deprecated. In a future version, integer keys will always be treated as labels (consistent with DataFrame behavior). To access a value by position, use `ser.iloc[pos]`\n",
      "  answer = row[-1]  # Store the ground truth label\n"
     ]
    },
    {
     "name": "stdout",
     "output_type": "stream",
     "text": [
      "Num of non-numeric or invalid: 0\n",
      "Intermediate results for Run 1: {'Num Features': 40, 'Sample Size': 48, 'Class 1 Proportion': 0.3, 'Set ID': 'Set_1_Prop_0.3', 'Run Number': 1, 'Accuracy': 0.13, 'Precision': 0.13, 'Recall': 1.0, 'F1 Score': 0.23008849557522124, 'Prediction': [1, 1, 1, 1, 1, 1, 1, 1, 1, 1, 1, 1, 1, 1, 1, 1, 1, 1, 1, 1, 1, 1, 1, 1, 1, 1, 1, 1, 1, 1, 1, 1, 1, 1, 1, 1, 1, 1, 1, 1, 1, 1, 1, 1, 1, 1, 1, 1, 1, 1, 1, 1, 1, 1, 1, 1, 1, 1, 1, 1, 1, 1, 1, 1, 1, 1, 1, 1, 1, 1, 1, 1, 1, 1, 1, 1, 1, 1, 1, 1, 1, 1, 1, 1, 1, 1, 1, 1, 1, 1, 1, 1, 1, 1, 1, 1, 1, 1, 1, 1]}\n",
      "\n",
      "Evaluating Set ID: Set_2_Prop_0.3\n"
     ]
    },
    {
     "name": "stderr",
     "output_type": "stream",
     "text": [
      "Processing predictions: 100%|██████████| 100/100 [00:09<00:00, 10.80it/s]\n",
      "/tmp/ipykernel_6833/3130949446.py:86: FutureWarning: Series.__getitem__ treating keys as positions is deprecated. In a future version, integer keys will always be treated as labels (consistent with DataFrame behavior). To access a value by position, use `ser.iloc[pos]`\n",
      "  answer = row[-1]  # Store the ground truth label\n"
     ]
    },
    {
     "name": "stdout",
     "output_type": "stream",
     "text": [
      "Num of non-numeric or invalid: 0\n",
      "Intermediate results for Run 1: {'Num Features': 40, 'Sample Size': 48, 'Class 1 Proportion': 0.3, 'Set ID': 'Set_2_Prop_0.3', 'Run Number': 1, 'Accuracy': 0.13, 'Precision': 0.13, 'Recall': 1.0, 'F1 Score': 0.23008849557522124, 'Prediction': [1, 1, 1, 1, 1, 1, 1, 1, 1, 1, 1, 1, 1, 1, 1, 1, 1, 1, 1, 1, 1, 1, 1, 1, 1, 1, 1, 1, 1, 1, 1, 1, 1, 1, 1, 1, 1, 1, 1, 1, 1, 1, 1, 1, 1, 1, 1, 1, 1, 1, 1, 1, 1, 1, 1, 1, 1, 1, 1, 1, 1, 1, 1, 1, 1, 1, 1, 1, 1, 1, 1, 1, 1, 1, 1, 1, 1, 1, 1, 1, 1, 1, 1, 1, 1, 1, 1, 1, 1, 1, 1, 1, 1, 1, 1, 1, 1, 1, 1, 1]}\n",
      "\n",
      "Evaluating Set ID: Set_3_Prop_0.3\n"
     ]
    },
    {
     "name": "stderr",
     "output_type": "stream",
     "text": [
      "Processing predictions: 100%|██████████| 100/100 [00:09<00:00, 10.43it/s]\n",
      "/tmp/ipykernel_6833/3130949446.py:86: FutureWarning: Series.__getitem__ treating keys as positions is deprecated. In a future version, integer keys will always be treated as labels (consistent with DataFrame behavior). To access a value by position, use `ser.iloc[pos]`\n",
      "  answer = row[-1]  # Store the ground truth label\n"
     ]
    },
    {
     "name": "stdout",
     "output_type": "stream",
     "text": [
      "Num of non-numeric or invalid: 0\n",
      "Intermediate results for Run 1: {'Num Features': 40, 'Sample Size': 48, 'Class 1 Proportion': 0.3, 'Set ID': 'Set_3_Prop_0.3', 'Run Number': 1, 'Accuracy': 0.13, 'Precision': 0.13, 'Recall': 1.0, 'F1 Score': 0.23008849557522124, 'Prediction': [1, 1, 1, 1, 1, 1, 1, 1, 1, 1, 1, 1, 1, 1, 1, 1, 1, 1, 1, 1, 1, 1, 1, 1, 1, 1, 1, 1, 1, 1, 1, 1, 1, 1, 1, 1, 1, 1, 1, 1, 1, 1, 1, 1, 1, 1, 1, 1, 1, 1, 1, 1, 1, 1, 1, 1, 1, 1, 1, 1, 1, 1, 1, 1, 1, 1, 1, 1, 1, 1, 1, 1, 1, 1, 1, 1, 1, 1, 1, 1, 1, 1, 1, 1, 1, 1, 1, 1, 1, 1, 1, 1, 1, 1, 1, 1, 1, 1, 1, 1]}\n",
      "\n",
      "Evaluating Set ID: Set_4_Prop_0.3\n"
     ]
    },
    {
     "name": "stderr",
     "output_type": "stream",
     "text": [
      "Processing predictions: 100%|██████████| 100/100 [00:12<00:00,  7.83it/s]\n",
      "/tmp/ipykernel_6833/3130949446.py:86: FutureWarning: Series.__getitem__ treating keys as positions is deprecated. In a future version, integer keys will always be treated as labels (consistent with DataFrame behavior). To access a value by position, use `ser.iloc[pos]`\n",
      "  answer = row[-1]  # Store the ground truth label\n"
     ]
    },
    {
     "name": "stdout",
     "output_type": "stream",
     "text": [
      "Num of non-numeric or invalid: 0\n",
      "Intermediate results for Run 1: {'Num Features': 40, 'Sample Size': 48, 'Class 1 Proportion': 0.3, 'Set ID': 'Set_4_Prop_0.3', 'Run Number': 1, 'Accuracy': 0.13, 'Precision': 0.13, 'Recall': 1.0, 'F1 Score': 0.23008849557522124, 'Prediction': [1, 1, 1, 1, 1, 1, 1, 1, 1, 1, 1, 1, 1, 1, 1, 1, 1, 1, 1, 1, 1, 1, 1, 1, 1, 1, 1, 1, 1, 1, 1, 1, 1, 1, 1, 1, 1, 1, 1, 1, 1, 1, 1, 1, 1, 1, 1, 1, 1, 1, 1, 1, 1, 1, 1, 1, 1, 1, 1, 1, 1, 1, 1, 1, 1, 1, 1, 1, 1, 1, 1, 1, 1, 1, 1, 1, 1, 1, 1, 1, 1, 1, 1, 1, 1, 1, 1, 1, 1, 1, 1, 1, 1, 1, 1, 1, 1, 1, 1, 1]}\n",
      "\n",
      "Evaluating Set ID: Set_5_Prop_0.3\n"
     ]
    },
    {
     "name": "stderr",
     "output_type": "stream",
     "text": [
      "Processing predictions: 100%|██████████| 100/100 [00:09<00:00, 10.32it/s]\n",
      "/tmp/ipykernel_6833/3130949446.py:86: FutureWarning: Series.__getitem__ treating keys as positions is deprecated. In a future version, integer keys will always be treated as labels (consistent with DataFrame behavior). To access a value by position, use `ser.iloc[pos]`\n",
      "  answer = row[-1]  # Store the ground truth label\n"
     ]
    },
    {
     "name": "stdout",
     "output_type": "stream",
     "text": [
      "Num of non-numeric or invalid: 0\n",
      "Intermediate results for Run 1: {'Num Features': 40, 'Sample Size': 48, 'Class 1 Proportion': 0.3, 'Set ID': 'Set_5_Prop_0.3', 'Run Number': 1, 'Accuracy': 0.13, 'Precision': 0.13, 'Recall': 1.0, 'F1 Score': 0.23008849557522124, 'Prediction': [1, 1, 1, 1, 1, 1, 1, 1, 1, 1, 1, 1, 1, 1, 1, 1, 1, 1, 1, 1, 1, 1, 1, 1, 1, 1, 1, 1, 1, 1, 1, 1, 1, 1, 1, 1, 1, 1, 1, 1, 1, 1, 1, 1, 1, 1, 1, 1, 1, 1, 1, 1, 1, 1, 1, 1, 1, 1, 1, 1, 1, 1, 1, 1, 1, 1, 1, 1, 1, 1, 1, 1, 1, 1, 1, 1, 1, 1, 1, 1, 1, 1, 1, 1, 1, 1, 1, 1, 1, 1, 1, 1, 1, 1, 1, 1, 1, 1, 1, 1]}\n",
      "\n",
      "Testing with class 1 proportion: 0.5\n",
      "\n",
      "Evaluating Set ID: Set_1_Prop_0.5\n"
     ]
    },
    {
     "name": "stderr",
     "output_type": "stream",
     "text": [
      "Processing predictions: 100%|██████████| 100/100 [00:09<00:00, 10.04it/s]\n",
      "/tmp/ipykernel_6833/3130949446.py:86: FutureWarning: Series.__getitem__ treating keys as positions is deprecated. In a future version, integer keys will always be treated as labels (consistent with DataFrame behavior). To access a value by position, use `ser.iloc[pos]`\n",
      "  answer = row[-1]  # Store the ground truth label\n"
     ]
    },
    {
     "name": "stdout",
     "output_type": "stream",
     "text": [
      "Num of non-numeric or invalid: 0\n",
      "Intermediate results for Run 1: {'Num Features': 40, 'Sample Size': 48, 'Class 1 Proportion': 0.5, 'Set ID': 'Set_1_Prop_0.5', 'Run Number': 1, 'Accuracy': 0.13, 'Precision': 0.13, 'Recall': 1.0, 'F1 Score': 0.23008849557522124, 'Prediction': [1, 1, 1, 1, 1, 1, 1, 1, 1, 1, 1, 1, 1, 1, 1, 1, 1, 1, 1, 1, 1, 1, 1, 1, 1, 1, 1, 1, 1, 1, 1, 1, 1, 1, 1, 1, 1, 1, 1, 1, 1, 1, 1, 1, 1, 1, 1, 1, 1, 1, 1, 1, 1, 1, 1, 1, 1, 1, 1, 1, 1, 1, 1, 1, 1, 1, 1, 1, 1, 1, 1, 1, 1, 1, 1, 1, 1, 1, 1, 1, 1, 1, 1, 1, 1, 1, 1, 1, 1, 1, 1, 1, 1, 1, 1, 1, 1, 1, 1, 1]}\n",
      "\n",
      "Evaluating Set ID: Set_2_Prop_0.5\n"
     ]
    },
    {
     "name": "stderr",
     "output_type": "stream",
     "text": [
      "Processing predictions: 100%|██████████| 100/100 [00:11<00:00,  8.41it/s]\n",
      "/tmp/ipykernel_6833/3130949446.py:86: FutureWarning: Series.__getitem__ treating keys as positions is deprecated. In a future version, integer keys will always be treated as labels (consistent with DataFrame behavior). To access a value by position, use `ser.iloc[pos]`\n",
      "  answer = row[-1]  # Store the ground truth label\n"
     ]
    },
    {
     "name": "stdout",
     "output_type": "stream",
     "text": [
      "Num of non-numeric or invalid: 0\n",
      "Intermediate results for Run 1: {'Num Features': 40, 'Sample Size': 48, 'Class 1 Proportion': 0.5, 'Set ID': 'Set_2_Prop_0.5', 'Run Number': 1, 'Accuracy': 0.13, 'Precision': 0.13, 'Recall': 1.0, 'F1 Score': 0.23008849557522124, 'Prediction': [1, 1, 1, 1, 1, 1, 1, 1, 1, 1, 1, 1, 1, 1, 1, 1, 1, 1, 1, 1, 1, 1, 1, 1, 1, 1, 1, 1, 1, 1, 1, 1, 1, 1, 1, 1, 1, 1, 1, 1, 1, 1, 1, 1, 1, 1, 1, 1, 1, 1, 1, 1, 1, 1, 1, 1, 1, 1, 1, 1, 1, 1, 1, 1, 1, 1, 1, 1, 1, 1, 1, 1, 1, 1, 1, 1, 1, 1, 1, 1, 1, 1, 1, 1, 1, 1, 1, 1, 1, 1, 1, 1, 1, 1, 1, 1, 1, 1, 1, 1]}\n",
      "\n",
      "Evaluating Set ID: Set_3_Prop_0.5\n"
     ]
    },
    {
     "name": "stderr",
     "output_type": "stream",
     "text": [
      "Processing predictions: 100%|██████████| 100/100 [00:09<00:00, 10.87it/s]\n",
      "/tmp/ipykernel_6833/3130949446.py:86: FutureWarning: Series.__getitem__ treating keys as positions is deprecated. In a future version, integer keys will always be treated as labels (consistent with DataFrame behavior). To access a value by position, use `ser.iloc[pos]`\n",
      "  answer = row[-1]  # Store the ground truth label\n"
     ]
    },
    {
     "name": "stdout",
     "output_type": "stream",
     "text": [
      "Num of non-numeric or invalid: 0\n",
      "Intermediate results for Run 1: {'Num Features': 40, 'Sample Size': 48, 'Class 1 Proportion': 0.5, 'Set ID': 'Set_3_Prop_0.5', 'Run Number': 1, 'Accuracy': 0.13, 'Precision': 0.13, 'Recall': 1.0, 'F1 Score': 0.23008849557522124, 'Prediction': [1, 1, 1, 1, 1, 1, 1, 1, 1, 1, 1, 1, 1, 1, 1, 1, 1, 1, 1, 1, 1, 1, 1, 1, 1, 1, 1, 1, 1, 1, 1, 1, 1, 1, 1, 1, 1, 1, 1, 1, 1, 1, 1, 1, 1, 1, 1, 1, 1, 1, 1, 1, 1, 1, 1, 1, 1, 1, 1, 1, 1, 1, 1, 1, 1, 1, 1, 1, 1, 1, 1, 1, 1, 1, 1, 1, 1, 1, 1, 1, 1, 1, 1, 1, 1, 1, 1, 1, 1, 1, 1, 1, 1, 1, 1, 1, 1, 1, 1, 1]}\n",
      "\n",
      "Evaluating Set ID: Set_4_Prop_0.5\n"
     ]
    },
    {
     "name": "stderr",
     "output_type": "stream",
     "text": [
      "Processing predictions: 100%|██████████| 100/100 [00:13<00:00,  7.40it/s]\n",
      "/tmp/ipykernel_6833/3130949446.py:86: FutureWarning: Series.__getitem__ treating keys as positions is deprecated. In a future version, integer keys will always be treated as labels (consistent with DataFrame behavior). To access a value by position, use `ser.iloc[pos]`\n",
      "  answer = row[-1]  # Store the ground truth label\n"
     ]
    },
    {
     "name": "stdout",
     "output_type": "stream",
     "text": [
      "Num of non-numeric or invalid: 0\n",
      "Intermediate results for Run 1: {'Num Features': 40, 'Sample Size': 48, 'Class 1 Proportion': 0.5, 'Set ID': 'Set_4_Prop_0.5', 'Run Number': 1, 'Accuracy': 0.13, 'Precision': 0.13, 'Recall': 1.0, 'F1 Score': 0.23008849557522124, 'Prediction': [1, 1, 1, 1, 1, 1, 1, 1, 1, 1, 1, 1, 1, 1, 1, 1, 1, 1, 1, 1, 1, 1, 1, 1, 1, 1, 1, 1, 1, 1, 1, 1, 1, 1, 1, 1, 1, 1, 1, 1, 1, 1, 1, 1, 1, 1, 1, 1, 1, 1, 1, 1, 1, 1, 1, 1, 1, 1, 1, 1, 1, 1, 1, 1, 1, 1, 1, 1, 1, 1, 1, 1, 1, 1, 1, 1, 1, 1, 1, 1, 1, 1, 1, 1, 1, 1, 1, 1, 1, 1, 1, 1, 1, 1, 1, 1, 1, 1, 1, 1]}\n",
      "\n",
      "Evaluating Set ID: Set_5_Prop_0.5\n"
     ]
    },
    {
     "name": "stderr",
     "output_type": "stream",
     "text": [
      "Processing predictions: 100%|██████████| 100/100 [00:09<00:00, 10.38it/s]"
     ]
    },
    {
     "name": "stdout",
     "output_type": "stream",
     "text": [
      "Num of non-numeric or invalid: 0\n",
      "Intermediate results for Run 1: {'Num Features': 40, 'Sample Size': 48, 'Class 1 Proportion': 0.5, 'Set ID': 'Set_5_Prop_0.5', 'Run Number': 1, 'Accuracy': 0.13, 'Precision': 0.13, 'Recall': 1.0, 'F1 Score': 0.23008849557522124, 'Prediction': [1, 1, 1, 1, 1, 1, 1, 1, 1, 1, 1, 1, 1, 1, 1, 1, 1, 1, 1, 1, 1, 1, 1, 1, 1, 1, 1, 1, 1, 1, 1, 1, 1, 1, 1, 1, 1, 1, 1, 1, 1, 1, 1, 1, 1, 1, 1, 1, 1, 1, 1, 1, 1, 1, 1, 1, 1, 1, 1, 1, 1, 1, 1, 1, 1, 1, 1, 1, 1, 1, 1, 1, 1, 1, 1, 1, 1, 1, 1, 1, 1, 1, 1, 1, 1, 1, 1, 1, 1, 1, 1, 1, 1, 1, 1, 1, 1, 1, 1, 1]}\n",
      "\n",
      "All experiments completed.\n",
      "Results for sample_size=48 saved as experiments_result_t_anony_show_48.csv\n"
     ]
    },
    {
     "name": "stderr",
     "output_type": "stream",
     "text": [
      "\n"
     ]
    }
   ],
   "source": [
    "#t-anony\n",
    "proportions = [0.1, 0.3, 0.5]\n",
    "sample_sizes = [48]\n",
    "\n",
    "for sample_size in sample_sizes:\n",
    "    experiment_results, stored_in_context_sets = run_experiments(\n",
    "        feature_imp_ohe, test_ohe_100, client, train_ohe,\n",
    "        sample_size=sample_size, proportions=proportions,\n",
    "        feature_set_sizes=[5, 10, 20, 30, 40], num_sets=5,\n",
    "        run_multiple=False, table_format=\"t-anony\"\n",
    "    )\n",
    "\n",
    "    file_name = f\"experiments_result_t_anony_show_{sample_size}.csv\"\n",
    "    experiment_results.to_csv(file_name, index=False)\n",
    "    print(f\"Results for sample_size={sample_size} saved as {file_name}\")"
   ]
  },
  {
   "cell_type": "code",
   "execution_count": null,
   "metadata": {},
   "outputs": [
    {
     "name": "stdout",
     "output_type": "stream",
     "text": [
      "Batch inference data written to batch_input.jsonl\n"
     ]
    }
   ],
   "source": [
    "def create_batch_inference_jsonl(feature_importance_df, test_data, training_set_df, \n",
    "                               sample_size, proportions, feature_set_sizes, \n",
    "                               output_file_path, table_format=\"t-table\"):\n",
    "    \"\"\"Create JSONL file for batch inference with all experimental conditions\"\"\"\n",
    "    inference_data = []\n",
    "    request_id = 1\n",
    "\n",
    "    for top_n in feature_set_sizes:\n",
    "        # Select top features\n",
    "        top_features = select_top_features(feature_importance_df, top_n)\n",
    "        training_subset = training_set_df[top_features + ['Approved_Flag']]\n",
    "        test_subset = test_data[top_features + ['Approved_Flag']]\n",
    "        feature_list = test_subset.columns.to_list()\n",
    "        \n",
    "        initial_prompt = initial_prompt_generator(\n",
    "            feature_description,\n",
    "            \"Approved_Flag\",\n",
    "            feature_list,\n",
    "            table_format\n",
    "        )\n",
    "\n",
    "        for prop_1 in proportions:\n",
    "            # Create in-context examples\n",
    "            in_context_sets = create_in_context_example_sets(\n",
    "                training_subset,\n",
    "                sample_size,\n",
    "                'Approved_Flag',\n",
    "                [prop_1],\n",
    "                num_sets=15,\n",
    "            )\n",
    "\n",
    "            for set_id, in_context_examples in in_context_sets.items():\n",
    "                # Generate data prompt\n",
    "                data_prompt = data_to_prompt_generator(in_context_examples, test_subset, table_format)\n",
    "                PROMPT_TO_USE = initial_prompt + data_prompt\n",
    "\n",
    "                # Create entries for each test instance\n",
    "                for _, row in test_subset.iterrows():\n",
    "                    row_values = row.tolist()\n",
    "                    row_values[-1] = \"<MASK>\"\n",
    "                    masked_test_row = f\"|{'|'.join(map(str, row_values))}|\"\n",
    "                    \n",
    "                    full_prompt = PROMPT_TO_USE + \"\\n\" + masked_test_row + \"\\n\"\n",
    "                    full_prompt += f\"\\nPlease use the supplied data to predict the <MASK> Approved_Flag. Only respond with 0 or 1.\\nAnswer:\"\n",
    "\n",
    "                    inference_entry = {\n",
    "                        \"custom_id\": f\"request-{request_id}-features_{top_n}_prop_{prop_1}_set_{set_id}\",\n",
    "                        \"method\": \"POST\",\n",
    "                        \"url\": \"/v1/chat/completions\",\n",
    "                        \"body\": {\n",
    "                            \"model\": \"gpt-4o-mini\",\n",
    "                            \"messages\": [\n",
    "                                {\n",
    "                                    \"role\": \"system\",\n",
    "                                    \"content\": \"You are a helpful assistant that predicts loan approval outcomes. Only respond with 0 or 1.\"\n",
    "                                },\n",
    "                                {\n",
    "                                    \"role\": \"user\",\n",
    "                                    \"content\": full_prompt\n",
    "                                }\n",
    "                            ],\n",
    "                            \"max_tokens\": 50,\n",
    "                            \"temperature\": 0\n",
    "                        }\n",
    "                    }\n",
    "                    inference_data.append(inference_entry)\n",
    "                    request_id += 1\n",
    "\n",
    "    # Write to JSONL file\n",
    "    with open(output_file_path, 'w', encoding='utf-8') as f:\n",
    "        for entry in inference_data:\n",
    "            f.write(json.dumps(entry, ensure_ascii=False) + '\\n')\n",
    "\n",
    "    print(f\"Batch inference data written to {output_file_path}\")\n",
    "    return output_file_path"
   ]
  },
  {
   "cell_type": "code",
   "execution_count": null,
   "metadata": {},
   "outputs": [],
   "source": [
    "# Create batch inference files for different experimental conditions\n",
    "# T-table \n",
    "proportions = [0.1, 0.3, 0.5]\n",
    "sample_sizes = [48]\n",
    "\n",
    "for sample_size in sample_sizes:\n",
    "    output_file = f'batch_inference_t_table_{sample_size}.jsonl'\n",
    "    jsonl_file = create_batch_inference_jsonl(\n",
    "        feature_imp_ohe, \n",
    "        test_ohe_100, \n",
    "        train_ohe,\n",
    "        sample_size=sample_size, \n",
    "        proportions=proportions,\n",
    "        feature_set_sizes=[5, 10, 20, 30], \n",
    "        output_file_path=output_file,\n",
    "        table_format=\"t-table\"\n",
    "    )    \n",
    "    # Submit batch to OpenAI\n",
    "    batch_input_file = client.files.create(\n",
    "        file=open(jsonl_file, \"rb\"),\n",
    "        purpose=\"batch\"\n",
    "    )\n",
    "    \n",
    "    batch_job = client.batches.create(\n",
    "        input_file_id=batch_input_file.id,\n",
    "        endpoint=\"/v1/chat/completions\",\n",
    "        completion_window=\"24h\",\n",
    "        metadata={\n",
    "            \"description\": f\"t-table experiment sample_size={sample_size}\"\n",
    "        }\n",
    "    )\n",
    "    print(f\"Submitted batch job {batch_job.id} for sample_size={sample_size}\")"
   ]
  },
  {
   "cell_type": "code",
   "execution_count": 12,
   "metadata": {},
   "outputs": [
    {
     "name": "stdout",
     "output_type": "stream",
     "text": [
      "file-PhUZ6mCNDYmQZY3vTLlIhAo2\n"
     ]
    }
   ],
   "source": [
    "batch_input_file.id"
   ]
  },
  {
   "cell_type": "code",
   "execution_count": 15,
   "metadata": {},
   "outputs": [
    {
     "name": "stdout",
     "output_type": "stream",
     "text": [
      "Batch(id='batch_1PcNCbiV3T17vyp2QxC7Pxr0', completion_window='24h', created_at=1726803875, endpoint='/v1/chat/completions', input_file_id='file-PhUZ6mCNDYmQZY3vTLlIhAo2', object='batch', status='validating', cancelled_at=None, cancelling_at=None, completed_at=None, error_file_id=None, errors=None, expired_at=None, expires_at=1726890275, failed_at=None, finalizing_at=None, in_progress_at=None, metadata={'description': 'batch inference'}, output_file_id=None, request_counts=BatchRequestCounts(completed=0, failed=0, total=0)\n"
     ]
    }
   ],
   "source": [
    "batch_input_file_id = batch_input_file.id\n",
    "\n",
    "client.batches.create(\n",
    "    input_file_id=batch_input_file_id,\n",
    "    endpoint=\"/v1/chat/completions\",\n",
    "    completion_window=\"24h\",\n",
    "    metadata={\n",
    "      \"description\": \"batch inference\"\n",
    "    }\n",
    ")"
   ]
  },
  {
   "cell_type": "code",
   "execution_count": 21,
   "metadata": {},
   "outputs": [
    {
     "name": "stdout",
     "output_type": "stream",
     "text": [
      "Batch(id='batch_1JSW23j229234mls', completion_window='24h', created_at=1726803875, endpoint='/v1/chat/completions', input_file_id='file-PhUZ6mCNDYmQZY3vTLlIhAo2', object='batch', status='validating', cancelled_at=None, cancelling_at=None, completed_at=None, error_file_id=None, errors=None, expired_at=None, expires_at=1726890275, failed_at=None, finalizing_at=None, in_progress_at=None, metadata={'description': 'batch inference'}, output_file_id=None, request_counts=BatchRequestCounts(completed=0, failed=0, total=0\n"
     ]
    }
   ],
   "source": [
    "# T-anony \n",
    "sample_sizes = [48]\n",
    "\n",
    "for sample_size in sample_sizes:\n",
    "    output_file = f'batch_inference_t_anony_{sample_size}.jsonl'\n",
    "    jsonl_file = create_batch_inference_jsonl(\n",
    "        feature_imp_ohe, \n",
    "        test_ohe_100, \n",
    "        train_ohe,\n",
    "        sample_size=sample_size, \n",
    "        proportions=proportions,\n",
    "        feature_set_sizes=[5, 10, 20, 30, 40], \n",
    "        output_file_path=output_file,\n",
    "        table_format=\"t-anony\"\n",
    "    )\n",
    "    \n",
    "    # Submit batch to OpenAI\n",
    "    batch_input_file = client.files.create(\n",
    "        file=open(jsonl_file, \"rb\"),\n",
    "        purpose=\"batch\"\n",
    "    )\n",
    "    \n",
    "    batch_job = client.batches.create(\n",
    "        input_file_id=batch_input_file.id,\n",
    "        endpoint=\"/v1/chat/completions\",\n",
    "        completion_window=\"24h\",\n",
    "        metadata={\n",
    "            \"description\": f\"t-anony experiment sample_size={sample_size}\"\n",
    "        }\n",
    "    )\n",
    "    print(f\"Submitted batch job {batch_job.id} for sample_size={sample_size}\")"
   ]
  },
  {
   "cell_type": "code",
   "execution_count": null,
   "metadata": {},
   "outputs": [],
   "source": [
    "batch_ids=['batch_1PcNCbiV3T17vyp2QxC7Pxr0', 'batch_1JSW23j2s292CSSDFR34mls0' ]\n",
    "results_dir = './batch_result'\n",
    "\n",
    "loaded_results = []\n",
    "for i in range(1, len(batch_ids) + 1):\n",
    "    result_file_name = f\"{results_dir}/batch_{i}_result.jsonl\"\n",
    "    with open(result_file_name, 'r') as file:\n",
    "        for line in file:\n",
    "            # Parse the JSON string into a dict and append to the list of loaded results\n",
    "            json_object = json.loads(line.strip())\n",
    "            loaded_results.append(json_object)"
   ]
  },
  {
   "cell_type": "code",
   "execution_count": 24,
   "metadata": {},
   "outputs": [
    {
     "name": "stdout",
     "output_type": "stream",
     "text": [
      "\n",
      "{'id': 'batch_req_FL4sHKwXaZhHIHbM9j3rz2wa',\n",
      " 'custom_id': 'request-646759',\n",
      " 'response': {'status_code': 200,\n",
      "  'request_id': '20aa07c101c87d937a770ad035f4d102',\n",
      "  'body': {'id': 'chatcmpl-9xD2OLUNWq0kp7TjE1e6LilmPopBm',\n",
      "   'object': 'chat.completion',\n",
      "   'created': 1723898496,\n",
      "   'model': 'gpt-4o-mini-2024-07-18',\n",
      "   'choices': [{'index': 0,\n",
      "     'message': {'role': 'assistant',\n",
      "      'content': \"[{'role': 'user', 'content': 'Num Features,Sample Size,Class 1 Proportion,Set ID,Run Number,Accuracy,Precision,Recall,F1 Score,Prediction,PR_AUC,ROC_AUC\n",
      "5,32,0.1,Set_1_Prop_0.1,1,0.54,0.1489361702127659,0.5384615384615384,0.2333333333333333,\"[1, 1, 1, 0, 1, 0, 0, 0, 1, 0, 1, 0, 0, 0, 0, 0, 0, 1, 1, 0, 0, 0, 1, 0, 0, 0, 0, 1, 0, 1, 0, 1, 0, 1, 1, 1, 0, 1, 0, 0, 0, 0, 1, 1, 1, 1, 0, 0, 0, 0, 1, 1, 1, 1, 0, 1, 1, 0, 0, 0, 0, 1, 0, 0, 0, 1, 1, 0, 0, 1, 0, 0, 1, 1, 1, 0, 1, 0, 0, 1, 0, 1, 1, 1, 1, 1, 0, 1, 1, 1, 0, 1, 0, 1, 0, 0, 1, 1, 0, 0]\",0.1209165302782324,0.45092838196286467\n",
      "\",\n",
      "      'refusal': None},\n",
      "     'logprobs': None,\n",
      "     'finish_reason': 'stop'}],\n",
      "   'usage': {'prompt_tokens': 194,\n",
      "    'completion_tokens': 155,\n",
      "    'total_tokens': 349},\n",
      "   'system_fingerprint': 'fp_48196bc67a'}},\n",
      " 'error': None}\n",
      "      \n"
     ]
    }
   ],
   "source": [
    "loaded_results[-1]"
   ]
  }
 ],
 "metadata": {
  "accelerator": "GPU",
  "colab": {
   "gpuType": "T4",
   "provenance": []
  },
  "kernelspec": {
   "display_name": "Python 3",
   "name": "python3"
  },
  "language_info": {
   "codemirror_mode": {
    "name": "ipython",
    "version": 3
   },
   "file_extension": ".py",
   "mimetype": "text/x-python",
   "name": "python",
   "nbconvert_exporter": "python",
   "pygments_lexer": "ipython3",
   "version": "3.11.10"
  },
  "widgets": {
   "application/vnd.jupyter.widget-state+json": {
    "21cc14e713d34a4da6a3e242d1209991": {
     "model_module": "@jupyter-widgets/base",
     "model_module_version": "1.2.0",
     "model_name": "LayoutModel",
     "state": {
      "_model_module": "@jupyter-widgets/base",
      "_model_module_version": "1.2.0",
      "_model_name": "LayoutModel",
      "_view_count": null,
      "_view_module": "@jupyter-widgets/base",
      "_view_module_version": "1.2.0",
      "_view_name": "LayoutView",
      "align_content": null,
      "align_items": null,
      "align_self": null,
      "border": null,
      "bottom": null,
      "display": null,
      "flex": null,
      "flex_flow": null,
      "grid_area": null,
      "grid_auto_columns": null,
      "grid_auto_flow": null,
      "grid_auto_rows": null,
      "grid_column": null,
      "grid_gap": null,
      "grid_row": null,
      "grid_template_areas": null,
      "grid_template_columns": null,
      "grid_template_rows": null,
      "height": null,
      "justify_content": null,
      "justify_items": null,
      "left": null,
      "margin": null,
      "max_height": null,
      "max_width": null,
      "min_height": null,
      "min_width": null,
      "object_fit": null,
      "object_position": null,
      "order": null,
      "overflow": null,
      "overflow_x": null,
      "overflow_y": null,
      "padding": null,
      "right": null,
      "top": null,
      "visibility": null,
      "width": null
     }
    },
    "25c2243d511b4510900fa6ef490265d1": {
     "model_module": "@jupyter-widgets/controls",
     "model_module_version": "1.5.0",
     "model_name": "CheckboxModel",
     "state": {
      "_dom_classes": [],
      "_model_module": "@jupyter-widgets/controls",
      "_model_module_version": "1.5.0",
      "_model_name": "CheckboxModel",
      "_view_count": null,
      "_view_module": "@jupyter-widgets/controls",
      "_view_module_version": "1.5.0",
      "_view_name": "CheckboxView",
      "description": "Add token as git credential?",
      "description_tooltip": null,
      "disabled": false,
      "indent": true,
      "layout": "IPY_MODEL_ac214ba153eb4e58aad39877215ab795",
      "style": "IPY_MODEL_3267b30962ae4a699f781d52efc48a72",
      "value": false
     }
    },
    "267e5a9af6be4189a59d358b1e7201bf": {
     "model_module": "@jupyter-widgets/controls",
     "model_module_version": "1.5.0",
     "model_name": "HTMLModel",
     "state": {
      "_dom_classes": [],
      "_model_module": "@jupyter-widgets/controls",
      "_model_module_version": "1.5.0",
      "_model_name": "HTMLModel",
      "_view_count": null,
      "_view_module": "@jupyter-widgets/controls",
      "_view_module_version": "1.5.0",
      "_view_name": "HTMLView",
      "description": "",
      "description_tooltip": null,
      "layout": "IPY_MODEL_7256681c2b724b86bfad2ab41abcc8db",
      "placeholder": "​",
      "style": "IPY_MODEL_3fd45887f8b14fa4867070432c943a6b",
      "value": "\n<b>Pro Tip:</b> If you don't already have one, you can create a dedicated\n'notebooks' token with 'write' access, that you can then easily reuse for all\nnotebooks. </center>"
     }
    },
    "2c65f06d295247e78482fb94e91d9fee": {
     "model_module": "@jupyter-widgets/controls",
     "model_module_version": "1.5.0",
     "model_name": "LabelModel",
     "state": {
      "_dom_classes": [],
      "_model_module": "@jupyter-widgets/controls",
      "_model_module_version": "1.5.0",
      "_model_name": "LabelModel",
      "_view_count": null,
      "_view_module": "@jupyter-widgets/controls",
      "_view_module_version": "1.5.0",
      "_view_name": "LabelView",
      "description": "",
      "description_tooltip": null,
      "layout": "IPY_MODEL_f7f0d1dc1af444c18e277a28f3a5d916",
      "placeholder": "​",
      "style": "IPY_MODEL_d30a570bd7ee45b18e65257bb1735bc8",
      "value": "Connecting..."
     }
    },
    "3267b30962ae4a699f781d52efc48a72": {
     "model_module": "@jupyter-widgets/controls",
     "model_module_version": "1.5.0",
     "model_name": "DescriptionStyleModel",
     "state": {
      "_model_module": "@jupyter-widgets/controls",
      "_model_module_version": "1.5.0",
      "_model_name": "DescriptionStyleModel",
      "_view_count": null,
      "_view_module": "@jupyter-widgets/base",
      "_view_module_version": "1.2.0",
      "_view_name": "StyleView",
      "description_width": ""
     }
    },
    "3fd45887f8b14fa4867070432c943a6b": {
     "model_module": "@jupyter-widgets/controls",
     "model_module_version": "1.5.0",
     "model_name": "DescriptionStyleModel",
     "state": {
      "_model_module": "@jupyter-widgets/controls",
      "_model_module_version": "1.5.0",
      "_model_name": "DescriptionStyleModel",
      "_view_count": null,
      "_view_module": "@jupyter-widgets/base",
      "_view_module_version": "1.2.0",
      "_view_name": "StyleView",
      "description_width": ""
     }
    },
    "4009cccf39c747449dea4c54a1f3ba26": {
     "model_module": "@jupyter-widgets/controls",
     "model_module_version": "1.5.0",
     "model_name": "ProgressStyleModel",
     "state": {
      "_model_module": "@jupyter-widgets/controls",
      "_model_module_version": "1.5.0",
      "_model_name": "ProgressStyleModel",
      "_view_count": null,
      "_view_module": "@jupyter-widgets/base",
      "_view_module_version": "1.2.0",
      "_view_name": "StyleView",
      "bar_color": null,
      "description_width": ""
     }
    },
    "40cc79790f9647999aef90146083a812": {
     "model_module": "@jupyter-widgets/controls",
     "model_module_version": "1.5.0",
     "model_name": "ButtonModel",
     "state": {
      "_dom_classes": [],
      "_model_module": "@jupyter-widgets/controls",
      "_model_module_version": "1.5.0",
      "_model_name": "ButtonModel",
      "_view_count": null,
      "_view_module": "@jupyter-widgets/controls",
      "_view_module_version": "1.5.0",
      "_view_name": "ButtonView",
      "button_style": "",
      "description": "Login",
      "disabled": false,
      "icon": "",
      "layout": "IPY_MODEL_d03750a88e8b44948e3b7f6647cde940",
      "style": "IPY_MODEL_b918ec279be048ea942b43a70b36e67f",
      "tooltip": ""
     }
    },
    "42f023638bcd405ab1a0fa0279ee27fe": {
     "model_module": "@jupyter-widgets/controls",
     "model_module_version": "1.5.0",
     "model_name": "HBoxModel",
     "state": {
      "_dom_classes": [],
      "_model_module": "@jupyter-widgets/controls",
      "_model_module_version": "1.5.0",
      "_model_name": "HBoxModel",
      "_view_count": null,
      "_view_module": "@jupyter-widgets/controls",
      "_view_module_version": "1.5.0",
      "_view_name": "HBoxView",
      "box_style": "",
      "children": [
       "IPY_MODEL_8f970a86cc414ec0be938b1918ce20e0",
       "IPY_MODEL_db6785e379cd4a69b5849e295b8dd9e4",
       "IPY_MODEL_4850816b90314a49a7f51d79b6fd980b"
      ],
      "layout": "IPY_MODEL_b471b38108224c6f93815adc09cbed37"
     }
    },
    "480ed05a54a24daf9d1839aea3a434f6": {
     "model_module": "@jupyter-widgets/controls",
     "model_module_version": "1.5.0",
     "model_name": "DescriptionStyleModel",
     "state": {
      "_model_module": "@jupyter-widgets/controls",
      "_model_module_version": "1.5.0",
      "_model_name": "DescriptionStyleModel",
      "_view_count": null,
      "_view_module": "@jupyter-widgets/base",
      "_view_module_version": "1.2.0",
      "_view_name": "StyleView",
      "description_width": ""
     }
    },
    "4850816b90314a49a7f51d79b6fd980b": {
     "model_module": "@jupyter-widgets/controls",
     "model_module_version": "1.5.0",
     "model_name": "HTMLModel",
     "state": {
      "_dom_classes": [],
      "_model_module": "@jupyter-widgets/controls",
      "_model_module_version": "1.5.0",
      "_model_name": "HTMLModel",
      "_view_count": null,
      "_view_module": "@jupyter-widgets/controls",
      "_view_module_version": "1.5.0",
      "_view_name": "HTMLView",
      "description": "",
      "description_tooltip": null,
      "layout": "IPY_MODEL_fbf4b5daf6e3451685638f9a86cd689d",
      "placeholder": "​",
      "style": "IPY_MODEL_55a5df6dcab34f29b953fcff64cda1f1",
      "value": " 6/6 [07:17&lt;00:00, 68.39s/it]"
     }
    },
    "4b512133b24949748aba65d6ed8e43f4": {
     "model_module": "@jupyter-widgets/base",
     "model_module_version": "1.2.0",
     "model_name": "LayoutModel",
     "state": {
      "_model_module": "@jupyter-widgets/base",
      "_model_module_version": "1.2.0",
      "_model_name": "LayoutModel",
      "_view_count": null,
      "_view_module": "@jupyter-widgets/base",
      "_view_module_version": "1.2.0",
      "_view_name": "LayoutView",
      "align_content": null,
      "align_items": null,
      "align_self": null,
      "border": null,
      "bottom": null,
      "display": null,
      "flex": null,
      "flex_flow": null,
      "grid_area": null,
      "grid_auto_columns": null,
      "grid_auto_flow": null,
      "grid_auto_rows": null,
      "grid_column": null,
      "grid_gap": null,
      "grid_row": null,
      "grid_template_areas": null,
      "grid_template_columns": null,
      "grid_template_rows": null,
      "height": null,
      "justify_content": null,
      "justify_items": null,
      "left": null,
      "margin": null,
      "max_height": null,
      "max_width": null,
      "min_height": null,
      "min_width": null,
      "object_fit": null,
      "object_position": null,
      "order": null,
      "overflow": null,
      "overflow_x": null,
      "overflow_y": null,
      "padding": null,
      "right": null,
      "top": null,
      "visibility": null,
      "width": null
     }
    },
    "55a5df6dcab34f29b953fcff64cda1f1": {
     "model_module": "@jupyter-widgets/controls",
     "model_module_version": "1.5.0",
     "model_name": "DescriptionStyleModel",
     "state": {
      "_model_module": "@jupyter-widgets/controls",
      "_model_module_version": "1.5.0",
      "_model_name": "DescriptionStyleModel",
      "_view_count": null,
      "_view_module": "@jupyter-widgets/base",
      "_view_module_version": "1.2.0",
      "_view_name": "StyleView",
      "description_width": ""
     }
    },
    "621a55d0590b48a4a7edfaac4994215c": {
     "model_module": "@jupyter-widgets/controls",
     "model_module_version": "1.5.0",
     "model_name": "DescriptionStyleModel",
     "state": {
      "_model_module": "@jupyter-widgets/controls",
      "_model_module_version": "1.5.0",
      "_model_name": "DescriptionStyleModel",
      "_view_count": null,
      "_view_module": "@jupyter-widgets/base",
      "_view_module_version": "1.2.0",
      "_view_name": "StyleView",
      "description_width": ""
     }
    },
    "724d4be404c94ceeb1a5992be33a6015": {
     "model_module": "@jupyter-widgets/controls",
     "model_module_version": "1.5.0",
     "model_name": "HTMLModel",
     "state": {
      "_dom_classes": [],
      "_model_module": "@jupyter-widgets/controls",
      "_model_module_version": "1.5.0",
      "_model_name": "HTMLModel",
      "_view_count": null,
      "_view_module": "@jupyter-widgets/controls",
      "_view_module_version": "1.5.0",
      "_view_name": "HTMLView",
      "description": "",
      "description_tooltip": null,
      "layout": "IPY_MODEL_21cc14e713d34a4da6a3e242d1209991",
      "placeholder": "​",
      "style": "IPY_MODEL_621a55d0590b48a4a7edfaac4994215c",
      "value": "<center> <img\nsrc=https://huggingface.co/front/assets/huggingface_logo-noborder.svg\nalt='Hugging Face'> <br> Copy a token from <a\nhref=\"https://huggingface.co/settings/tokens\" target=\"_blank\">your Hugging Face\ntokens page</a> and paste it below. <br> Immediately click login after copying\nyour token or it might be stored in plain text in this notebook file. </center>"
     }
    },
    "7256681c2b724b86bfad2ab41abcc8db": {
     "model_module": "@jupyter-widgets/base",
     "model_module_version": "1.2.0",
     "model_name": "LayoutModel",
     "state": {
      "_model_module": "@jupyter-widgets/base",
      "_model_module_version": "1.2.0",
      "_model_name": "LayoutModel",
      "_view_count": null,
      "_view_module": "@jupyter-widgets/base",
      "_view_module_version": "1.2.0",
      "_view_name": "LayoutView",
      "align_content": null,
      "align_items": null,
      "align_self": null,
      "border": null,
      "bottom": null,
      "display": null,
      "flex": null,
      "flex_flow": null,
      "grid_area": null,
      "grid_auto_columns": null,
      "grid_auto_flow": null,
      "grid_auto_rows": null,
      "grid_column": null,
      "grid_gap": null,
      "grid_row": null,
      "grid_template_areas": null,
      "grid_template_columns": null,
      "grid_template_rows": null,
      "height": null,
      "justify_content": null,
      "justify_items": null,
      "left": null,
      "margin": null,
      "max_height": null,
      "max_width": null,
      "min_height": null,
      "min_width": null,
      "object_fit": null,
      "object_position": null,
      "order": null,
      "overflow": null,
      "overflow_x": null,
      "overflow_y": null,
      "padding": null,
      "right": null,
      "top": null,
      "visibility": null,
      "width": null
     }
    },
    "744877ddd0d2437d92b94515aeb1ace0": {
     "model_module": "@jupyter-widgets/controls",
     "model_module_version": "1.5.0",
     "model_name": "VBoxModel",
     "state": {
      "_dom_classes": [],
      "_model_module": "@jupyter-widgets/controls",
      "_model_module_version": "1.5.0",
      "_model_name": "VBoxModel",
      "_view_count": null,
      "_view_module": "@jupyter-widgets/controls",
      "_view_module_version": "1.5.0",
      "_view_name": "VBoxView",
      "box_style": "",
      "children": [],
      "layout": "IPY_MODEL_ea224125d7554acdb5149c6fa848553f"
     }
    },
    "8f970a86cc414ec0be938b1918ce20e0": {
     "model_module": "@jupyter-widgets/controls",
     "model_module_version": "1.5.0",
     "model_name": "HTMLModel",
     "state": {
      "_dom_classes": [],
      "_model_module": "@jupyter-widgets/controls",
      "_model_module_version": "1.5.0",
      "_model_name": "HTMLModel",
      "_view_count": null,
      "_view_module": "@jupyter-widgets/controls",
      "_view_module_version": "1.5.0",
      "_view_name": "HTMLView",
      "description": "",
      "description_tooltip": null,
      "layout": "IPY_MODEL_be0c241eb25a41898200d0800000165f",
      "placeholder": "​",
      "style": "IPY_MODEL_f4a5356c3643482381bea83274bbdea1",
      "value": "Loading checkpoint shards: 100%"
     }
    },
    "96b99fa776b146c3a33064d1aec2300a": {
     "model_module": "@jupyter-widgets/controls",
     "model_module_version": "1.5.0",
     "model_name": "PasswordModel",
     "state": {
      "_dom_classes": [],
      "_model_module": "@jupyter-widgets/controls",
      "_model_module_version": "1.5.0",
      "_model_name": "PasswordModel",
      "_view_count": null,
      "_view_module": "@jupyter-widgets/controls",
      "_view_module_version": "1.5.0",
      "_view_name": "PasswordView",
      "continuous_update": true,
      "description": "Token:",
      "description_tooltip": null,
      "disabled": false,
      "layout": "IPY_MODEL_4b512133b24949748aba65d6ed8e43f4",
      "placeholder": "​",
      "style": "IPY_MODEL_480ed05a54a24daf9d1839aea3a434f6",
      "value": ""
     }
    },
    "ac214ba153eb4e58aad39877215ab795": {
     "model_module": "@jupyter-widgets/base",
     "model_module_version": "1.2.0",
     "model_name": "LayoutModel",
     "state": {
      "_model_module": "@jupyter-widgets/base",
      "_model_module_version": "1.2.0",
      "_model_name": "LayoutModel",
      "_view_count": null,
      "_view_module": "@jupyter-widgets/base",
      "_view_module_version": "1.2.0",
      "_view_name": "LayoutView",
      "align_content": null,
      "align_items": null,
      "align_self": null,
      "border": null,
      "bottom": null,
      "display": null,
      "flex": null,
      "flex_flow": null,
      "grid_area": null,
      "grid_auto_columns": null,
      "grid_auto_flow": null,
      "grid_auto_rows": null,
      "grid_column": null,
      "grid_gap": null,
      "grid_row": null,
      "grid_template_areas": null,
      "grid_template_columns": null,
      "grid_template_rows": null,
      "height": null,
      "justify_content": null,
      "justify_items": null,
      "left": null,
      "margin": null,
      "max_height": null,
      "max_width": null,
      "min_height": null,
      "min_width": null,
      "object_fit": null,
      "object_position": null,
      "order": null,
      "overflow": null,
      "overflow_x": null,
      "overflow_y": null,
      "padding": null,
      "right": null,
      "top": null,
      "visibility": null,
      "width": null
     }
    },
    "b471b38108224c6f93815adc09cbed37": {
     "model_module": "@jupyter-widgets/base",
     "model_module_version": "1.2.0",
     "model_name": "LayoutModel",
     "state": {
      "_model_module": "@jupyter-widgets/base",
      "_model_module_version": "1.2.0",
      "_model_name": "LayoutModel",
      "_view_count": null,
      "_view_module": "@jupyter-widgets/base",
      "_view_module_version": "1.2.0",
      "_view_name": "LayoutView",
      "align_content": null,
      "align_items": null,
      "align_self": null,
      "border": null,
      "bottom": null,
      "display": null,
      "flex": null,
      "flex_flow": null,
      "grid_area": null,
      "grid_auto_columns": null,
      "grid_auto_flow": null,
      "grid_auto_rows": null,
      "grid_column": null,
      "grid_gap": null,
      "grid_row": null,
      "grid_template_areas": null,
      "grid_template_columns": null,
      "grid_template_rows": null,
      "height": null,
      "justify_content": null,
      "justify_items": null,
      "left": null,
      "margin": null,
      "max_height": null,
      "max_width": null,
      "min_height": null,
      "min_width": null,
      "object_fit": null,
      "object_position": null,
      "order": null,
      "overflow": null,
      "overflow_x": null,
      "overflow_y": null,
      "padding": null,
      "right": null,
      "top": null,
      "visibility": null,
      "width": null
     }
    },
    "b918ec279be048ea942b43a70b36e67f": {
     "model_module": "@jupyter-widgets/controls",
     "model_module_version": "1.5.0",
     "model_name": "ButtonStyleModel",
     "state": {
      "_model_module": "@jupyter-widgets/controls",
      "_model_module_version": "1.5.0",
      "_model_name": "ButtonStyleModel",
      "_view_count": null,
      "_view_module": "@jupyter-widgets/base",
      "_view_module_version": "1.2.0",
      "_view_name": "StyleView",
      "button_color": null,
      "font_weight": ""
     }
    },
    "be0c241eb25a41898200d0800000165f": {
     "model_module": "@jupyter-widgets/base",
     "model_module_version": "1.2.0",
     "model_name": "LayoutModel",
     "state": {
      "_model_module": "@jupyter-widgets/base",
      "_model_module_version": "1.2.0",
      "_model_name": "LayoutModel",
      "_view_count": null,
      "_view_module": "@jupyter-widgets/base",
      "_view_module_version": "1.2.0",
      "_view_name": "LayoutView",
      "align_content": null,
      "align_items": null,
      "align_self": null,
      "border": null,
      "bottom": null,
      "display": null,
      "flex": null,
      "flex_flow": null,
      "grid_area": null,
      "grid_auto_columns": null,
      "grid_auto_flow": null,
      "grid_auto_rows": null,
      "grid_column": null,
      "grid_gap": null,
      "grid_row": null,
      "grid_template_areas": null,
      "grid_template_columns": null,
      "grid_template_rows": null,
      "height": null,
      "justify_content": null,
      "justify_items": null,
      "left": null,
      "margin": null,
      "max_height": null,
      "max_width": null,
      "min_height": null,
      "min_width": null,
      "object_fit": null,
      "object_position": null,
      "order": null,
      "overflow": null,
      "overflow_x": null,
      "overflow_y": null,
      "padding": null,
      "right": null,
      "top": null,
      "visibility": null,
      "width": null
     }
    },
    "d03750a88e8b44948e3b7f6647cde940": {
     "model_module": "@jupyter-widgets/base",
     "model_module_version": "1.2.0",
     "model_name": "LayoutModel",
     "state": {
      "_model_module": "@jupyter-widgets/base",
      "_model_module_version": "1.2.0",
      "_model_name": "LayoutModel",
      "_view_count": null,
      "_view_module": "@jupyter-widgets/base",
      "_view_module_version": "1.2.0",
      "_view_name": "LayoutView",
      "align_content": null,
      "align_items": null,
      "align_self": null,
      "border": null,
      "bottom": null,
      "display": null,
      "flex": null,
      "flex_flow": null,
      "grid_area": null,
      "grid_auto_columns": null,
      "grid_auto_flow": null,
      "grid_auto_rows": null,
      "grid_column": null,
      "grid_gap": null,
      "grid_row": null,
      "grid_template_areas": null,
      "grid_template_columns": null,
      "grid_template_rows": null,
      "height": null,
      "justify_content": null,
      "justify_items": null,
      "left": null,
      "margin": null,
      "max_height": null,
      "max_width": null,
      "min_height": null,
      "min_width": null,
      "object_fit": null,
      "object_position": null,
      "order": null,
      "overflow": null,
      "overflow_x": null,
      "overflow_y": null,
      "padding": null,
      "right": null,
      "top": null,
      "visibility": null,
      "width": null
     }
    },
    "d30a570bd7ee45b18e65257bb1735bc8": {
     "model_module": "@jupyter-widgets/controls",
     "model_module_version": "1.5.0",
     "model_name": "DescriptionStyleModel",
     "state": {
      "_model_module": "@jupyter-widgets/controls",
      "_model_module_version": "1.5.0",
      "_model_name": "DescriptionStyleModel",
      "_view_count": null,
      "_view_module": "@jupyter-widgets/base",
      "_view_module_version": "1.2.0",
      "_view_name": "StyleView",
      "description_width": ""
     }
    },
    "db6785e379cd4a69b5849e295b8dd9e4": {
     "model_module": "@jupyter-widgets/controls",
     "model_module_version": "1.5.0",
     "model_name": "FloatProgressModel",
     "state": {
      "_dom_classes": [],
      "_model_module": "@jupyter-widgets/controls",
      "_model_module_version": "1.5.0",
      "_model_name": "FloatProgressModel",
      "_view_count": null,
      "_view_module": "@jupyter-widgets/controls",
      "_view_module_version": "1.5.0",
      "_view_name": "ProgressView",
      "bar_style": "success",
      "description": "",
      "description_tooltip": null,
      "layout": "IPY_MODEL_e188a0eb74bd41dba481fd0a4b3620d7",
      "max": 6,
      "min": 0,
      "orientation": "horizontal",
      "style": "IPY_MODEL_4009cccf39c747449dea4c54a1f3ba26",
      "value": 6
     }
    },
    "e188a0eb74bd41dba481fd0a4b3620d7": {
     "model_module": "@jupyter-widgets/base",
     "model_module_version": "1.2.0",
     "model_name": "LayoutModel",
     "state": {
      "_model_module": "@jupyter-widgets/base",
      "_model_module_version": "1.2.0",
      "_model_name": "LayoutModel",
      "_view_count": null,
      "_view_module": "@jupyter-widgets/base",
      "_view_module_version": "1.2.0",
      "_view_name": "LayoutView",
      "align_content": null,
      "align_items": null,
      "align_self": null,
      "border": null,
      "bottom": null,
      "display": null,
      "flex": null,
      "flex_flow": null,
      "grid_area": null,
      "grid_auto_columns": null,
      "grid_auto_flow": null,
      "grid_auto_rows": null,
      "grid_column": null,
      "grid_gap": null,
      "grid_row": null,
      "grid_template_areas": null,
      "grid_template_columns": null,
      "grid_template_rows": null,
      "height": null,
      "justify_content": null,
      "justify_items": null,
      "left": null,
      "margin": null,
      "max_height": null,
      "max_width": null,
      "min_height": null,
      "min_width": null,
      "object_fit": null,
      "object_position": null,
      "order": null,
      "overflow": null,
      "overflow_x": null,
      "overflow_y": null,
      "padding": null,
      "right": null,
      "top": null,
      "visibility": null,
      "width": null
     }
    },
    "ea224125d7554acdb5149c6fa848553f": {
     "model_module": "@jupyter-widgets/base",
     "model_module_version": "1.2.0",
     "model_name": "LayoutModel",
     "state": {
      "_model_module": "@jupyter-widgets/base",
      "_model_module_version": "1.2.0",
      "_model_name": "LayoutModel",
      "_view_count": null,
      "_view_module": "@jupyter-widgets/base",
      "_view_module_version": "1.2.0",
      "_view_name": "LayoutView",
      "align_content": null,
      "align_items": "center",
      "align_self": null,
      "border": null,
      "bottom": null,
      "display": "flex",
      "flex": null,
      "flex_flow": "column",
      "grid_area": null,
      "grid_auto_columns": null,
      "grid_auto_flow": null,
      "grid_auto_rows": null,
      "grid_column": null,
      "grid_gap": null,
      "grid_row": null,
      "grid_template_areas": null,
      "grid_template_columns": null,
      "grid_template_rows": null,
      "height": null,
      "justify_content": null,
      "justify_items": null,
      "left": null,
      "margin": null,
      "max_height": null,
      "max_width": null,
      "min_height": null,
      "min_width": null,
      "object_fit": null,
      "object_position": null,
      "order": null,
      "overflow": null,
      "overflow_x": null,
      "overflow_y": null,
      "padding": null,
      "right": null,
      "top": null,
      "visibility": null,
      "width": "50%"
     }
    },
    "f4a5356c3643482381bea83274bbdea1": {
     "model_module": "@jupyter-widgets/controls",
     "model_module_version": "1.5.0",
     "model_name": "DescriptionStyleModel",
     "state": {
      "_model_module": "@jupyter-widgets/controls",
      "_model_module_version": "1.5.0",
      "_model_name": "DescriptionStyleModel",
      "_view_count": null,
      "_view_module": "@jupyter-widgets/base",
      "_view_module_version": "1.2.0",
      "_view_name": "StyleView",
      "description_width": ""
     }
    },
    "f7f0d1dc1af444c18e277a28f3a5d916": {
     "model_module": "@jupyter-widgets/base",
     "model_module_version": "1.2.0",
     "model_name": "LayoutModel",
     "state": {
      "_model_module": "@jupyter-widgets/base",
      "_model_module_version": "1.2.0",
      "_model_name": "LayoutModel",
      "_view_count": null,
      "_view_module": "@jupyter-widgets/base",
      "_view_module_version": "1.2.0",
      "_view_name": "LayoutView",
      "align_content": null,
      "align_items": null,
      "align_self": null,
      "border": null,
      "bottom": null,
      "display": null,
      "flex": null,
      "flex_flow": null,
      "grid_area": null,
      "grid_auto_columns": null,
      "grid_auto_flow": null,
      "grid_auto_rows": null,
      "grid_column": null,
      "grid_gap": null,
      "grid_row": null,
      "grid_template_areas": null,
      "grid_template_columns": null,
      "grid_template_rows": null,
      "height": null,
      "justify_content": null,
      "justify_items": null,
      "left": null,
      "margin": null,
      "max_height": null,
      "max_width": null,
      "min_height": null,
      "min_width": null,
      "object_fit": null,
      "object_position": null,
      "order": null,
      "overflow": null,
      "overflow_x": null,
      "overflow_y": null,
      "padding": null,
      "right": null,
      "top": null,
      "visibility": null,
      "width": null
     }
    },
    "fbf4b5daf6e3451685638f9a86cd689d": {
     "model_module": "@jupyter-widgets/base",
     "model_module_version": "1.2.0",
     "model_name": "LayoutModel",
     "state": {
      "_model_module": "@jupyter-widgets/base",
      "_model_module_version": "1.2.0",
      "_model_name": "LayoutModel",
      "_view_count": null,
      "_view_module": "@jupyter-widgets/base",
      "_view_module_version": "1.2.0",
      "_view_name": "LayoutView",
      "align_content": null,
      "align_items": null,
      "align_self": null,
      "border": null,
      "bottom": null,
      "display": null,
      "flex": null,
      "flex_flow": null,
      "grid_area": null,
      "grid_auto_columns": null,
      "grid_auto_flow": null,
      "grid_auto_rows": null,
      "grid_column": null,
      "grid_gap": null,
      "grid_row": null,
      "grid_template_areas": null,
      "grid_template_columns": null,
      "grid_template_rows": null,
      "height": null,
      "justify_content": null,
      "justify_items": null,
      "left": null,
      "margin": null,
      "max_height": null,
      "max_width": null,
      "min_height": null,
      "min_width": null,
      "object_fit": null,
      "object_position": null,
      "order": null,
      "overflow": null,
      "overflow_x": null,
      "overflow_y": null,
      "padding": null,
      "right": null,
      "top": null,
      "visibility": null,
      "width": null
     }
    }
   }
  }
 },
 "nbformat": 4,
 "nbformat_minor": 0
}
